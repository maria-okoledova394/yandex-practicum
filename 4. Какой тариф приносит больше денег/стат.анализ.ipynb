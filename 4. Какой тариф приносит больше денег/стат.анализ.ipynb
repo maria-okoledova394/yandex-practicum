{
 "cells": [
  {
   "cell_type": "markdown",
   "metadata": {},
   "source": [
    "<div class=\"alert alert-success\"; style=\"border-left: 7px solid green\">\n",
    "<h3>✔ Комментарий ревьюера V.2</h3>\n",
    "    \n",
    "Спасибо, что поправила, удачи в следующих спринтах :)</div>    \n"
   ]
  },
  {
   "cell_type": "markdown",
   "metadata": {},
   "source": [
    "# <div class=\"alert alert-success\">\n",
    "<h2> Комментарий ревьюера</h2>\n",
    "    \n",
    "Привет! Меня зовут Алексей Тюрин, я буду делать ревью твоей работы. Давай будем общаться на «ты».\n",
    "\n",
    "У тебя хорошая, аккуратная работа 👍. Есть небольшие неточности, которые быстро исправляются. Нужно поправить округление услуг, заполнить пропуски нулями перед подсчётом гистограмм и статистик и дополнить вывод. Можешь посмотреть остальные комментарии и задать вопросы, если будут :)\n",
    "\n",
    "---\n",
    "Комментарии делятся на 3 группы:\n",
    "    \n",
    "Зелёным цветом отмечены комментарии, либо подчёркивающие удачные решения, либо содержащие какую-то дополнительную информацию или советы, они формально не требуют правки, но правки приветствуются. Выделены они так:\n",
    "\n",
    "<div class=\"alert alert-success\"; style=\"border-left: 7px solid green\">\n",
    "<h3>✔ Комментарий ревьюера</h3>\n",
    "    \n",
    "Тут текст    \n",
    "</div>    \n",
    "\n",
    "Жёлтым цветом выделены правки, которые желательны:\n",
    "\n",
    "<div class=\"alert alert-warning\"; style=\"border-left: 7px solid yellow\" >\n",
    "<h3>!! Комментарий ревьюера</h3>\n",
    "    \n",
    "Тут текст    \n",
    "</div>    \n",
    "\n",
    "Красным выделены правки, которые обязательны\n",
    "    \n",
    "<div class=\"alert alert-danger\"; style=\"border-left: 7px solid red\">\n",
    "<h3>👀 Комментарий ревьюера</h3>\n",
    "    \n",
    "Тут текст    \n",
    "</div>    \n",
    "    \n",
    "Давай работать над проектом в диалоге: если ты **что-то меняешь** в проекте по моим рекомендациям — **пиши об этом**. Выбери для своих комментариев какой-то заметный цвет, так мне будет легче отследить изменения. Пожалуйста, **не перемещай, не изменяй и не удаляй мои комментарии**. Всё это поможет выполнить повторную проверку твоего проекта оперативнее. Если оставляешь комментарии на какой-то итерации ревью, пиши что-то вроде `комментарий студента V.{номер итерации}`\n",
    "</div>\n",
    "\n",
    "Цвет можно сделать, например, так\n",
    "\n",
    "<div class = \"alert alert-info\" style=\"border-left: 7px solid blue\">\n",
    "<h3>Комментарий студента</h3>\n",
    "Ревьюер душнила :)\n",
    "</div>\n",
    "\n",
    "Или так:\n",
    "    \n",
    "<div class=\"alert alert-info\" style=\"background:#ffdbf1;color:#2e00ab;border-left:7px solid #2e00ab\">\n",
    "<h3>Комментарий студента </h3>\n",
    "    ...\n",
    "</div>"
   ]
  },
  {
   "cell_type": "markdown",
   "metadata": {},
   "source": [
    "### Шаг 1. Обзор файлов с данными.\n",
    "\n",
    "Проанализируем тарифные планы «Смарт» и «Ультра» оператора сотовой связи «Мегалайн». Сравним поведение пользователей, выручку тарифов, чтобы выбрать лучший.\n",
    "\n",
    "Изучим общую информацию о данных:"
   ]
  },
  {
   "cell_type": "markdown",
   "metadata": {},
   "source": [
    "<div class=\"alert alert-success\"; style=\"border-left: 7px solid green\">\n",
    "<h3>✔ Комментарий ревьюера</h3>\n",
    "    \n",
    "В проекте довольно важно иметь введение и описание поставленных задач, чтобы было понятно, о чем идёт речь</div> "
   ]
  },
  {
   "cell_type": "markdown",
   "metadata": {},
   "source": [
    "<div class = \"alert alert-info\" style=\"border-left: 7px solid blue\">\n",
    "<h3>Комментарий студента</h3>\n",
    "Добавила введение и описание поставленных задач.\n",
    "</div>"
   ]
  },
  {
   "cell_type": "markdown",
   "metadata": {},
   "source": [
    "<div class=\"alert alert-success\"; style=\"border-left: 7px solid green\">\n",
    "<h3>✔ Комментарий ревьюера V.2</h3>\n",
    "    \n",
    "👍\n",
    "</div>    \n"
   ]
  },
  {
   "cell_type": "code",
   "execution_count": 2,
   "metadata": {},
   "outputs": [],
   "source": [
    "import pandas as pd\n",
    "import numpy as np\n",
    "import math\n",
    "import matplotlib.pyplot as plt\n",
    "from scipy import stats as st"
   ]
  },
  {
   "cell_type": "markdown",
   "metadata": {},
   "source": [
    "<div class=\"alert alert-success\"; style=\"border-left: 7px solid green\">\n",
    "<h3>✔ Комментарий ревьюера</h3>\n",
    "    \n",
    "Здорово, что все импорты собраны в самом начале, так сразу понятно, какие у проекта зависимости</div>"
   ]
  },
  {
   "cell_type": "code",
   "execution_count": 3,
   "metadata": {},
   "outputs": [
    {
     "name": "stdout",
     "output_type": "stream",
     "text": [
      "FileNotFoundError(2, 'No such file or directory')\n",
      "df_calls:\n",
      "\n",
      "<class 'pandas.core.frame.DataFrame'>\n",
      "RangeIndex: 202607 entries, 0 to 202606\n",
      "Data columns (total 4 columns):\n",
      " #   Column     Non-Null Count   Dtype  \n",
      "---  ------     --------------   -----  \n",
      " 0   id         202607 non-null  object \n",
      " 1   call_date  202607 non-null  object \n",
      " 2   duration   202607 non-null  float64\n",
      " 3   user_id    202607 non-null  int64  \n",
      "dtypes: float64(1), int64(1), object(2)\n",
      "memory usage: 6.2+ MB\n"
     ]
    },
    {
     "data": {
      "text/html": [
       "<div>\n",
       "<style scoped>\n",
       "    .dataframe tbody tr th:only-of-type {\n",
       "        vertical-align: middle;\n",
       "    }\n",
       "\n",
       "    .dataframe tbody tr th {\n",
       "        vertical-align: top;\n",
       "    }\n",
       "\n",
       "    .dataframe thead th {\n",
       "        text-align: right;\n",
       "    }\n",
       "</style>\n",
       "<table border=\"1\" class=\"dataframe\">\n",
       "  <thead>\n",
       "    <tr style=\"text-align: right;\">\n",
       "      <th></th>\n",
       "      <th>id</th>\n",
       "      <th>call_date</th>\n",
       "      <th>duration</th>\n",
       "      <th>user_id</th>\n",
       "    </tr>\n",
       "  </thead>\n",
       "  <tbody>\n",
       "    <tr>\n",
       "      <th>74874</th>\n",
       "      <td>1186_696</td>\n",
       "      <td>2018-07-22</td>\n",
       "      <td>5.19</td>\n",
       "      <td>1186</td>\n",
       "    </tr>\n",
       "    <tr>\n",
       "      <th>72831</th>\n",
       "      <td>1183_195</td>\n",
       "      <td>2018-08-01</td>\n",
       "      <td>10.45</td>\n",
       "      <td>1183</td>\n",
       "    </tr>\n",
       "    <tr>\n",
       "      <th>169397</th>\n",
       "      <td>1416_564</td>\n",
       "      <td>2018-11-03</td>\n",
       "      <td>2.99</td>\n",
       "      <td>1416</td>\n",
       "    </tr>\n",
       "    <tr>\n",
       "      <th>182226</th>\n",
       "      <td>1453_1418</td>\n",
       "      <td>2018-05-23</td>\n",
       "      <td>14.41</td>\n",
       "      <td>1453</td>\n",
       "    </tr>\n",
       "    <tr>\n",
       "      <th>163156</th>\n",
       "      <td>1401_591</td>\n",
       "      <td>2018-05-08</td>\n",
       "      <td>6.04</td>\n",
       "      <td>1401</td>\n",
       "    </tr>\n",
       "  </tbody>\n",
       "</table>\n",
       "</div>"
      ],
      "text/plain": [
       "               id   call_date  duration  user_id\n",
       "74874    1186_696  2018-07-22      5.19     1186\n",
       "72831    1183_195  2018-08-01     10.45     1183\n",
       "169397   1416_564  2018-11-03      2.99     1416\n",
       "182226  1453_1418  2018-05-23     14.41     1453\n",
       "163156   1401_591  2018-05-08      6.04     1401"
      ]
     },
     "metadata": {},
     "output_type": "display_data"
    },
    {
     "name": "stdout",
     "output_type": "stream",
     "text": [
      "-------------------------\n",
      "df_internet:\n",
      "\n",
      "<class 'pandas.core.frame.DataFrame'>\n",
      "RangeIndex: 149396 entries, 0 to 149395\n",
      "Data columns (total 5 columns):\n",
      " #   Column        Non-Null Count   Dtype  \n",
      "---  ------        --------------   -----  \n",
      " 0   Unnamed: 0    149396 non-null  int64  \n",
      " 1   id            149396 non-null  object \n",
      " 2   mb_used       149396 non-null  float64\n",
      " 3   session_date  149396 non-null  object \n",
      " 4   user_id       149396 non-null  int64  \n",
      "dtypes: float64(1), int64(2), object(2)\n",
      "memory usage: 5.7+ MB\n"
     ]
    },
    {
     "data": {
      "text/html": [
       "<div>\n",
       "<style scoped>\n",
       "    .dataframe tbody tr th:only-of-type {\n",
       "        vertical-align: middle;\n",
       "    }\n",
       "\n",
       "    .dataframe tbody tr th {\n",
       "        vertical-align: top;\n",
       "    }\n",
       "\n",
       "    .dataframe thead th {\n",
       "        text-align: right;\n",
       "    }\n",
       "</style>\n",
       "<table border=\"1\" class=\"dataframe\">\n",
       "  <thead>\n",
       "    <tr style=\"text-align: right;\">\n",
       "      <th></th>\n",
       "      <th>Unnamed: 0</th>\n",
       "      <th>id</th>\n",
       "      <th>mb_used</th>\n",
       "      <th>session_date</th>\n",
       "      <th>user_id</th>\n",
       "    </tr>\n",
       "  </thead>\n",
       "  <tbody>\n",
       "    <tr>\n",
       "      <th>2516</th>\n",
       "      <td>2516</td>\n",
       "      <td>1009_158</td>\n",
       "      <td>355.86</td>\n",
       "      <td>2018-08-04</td>\n",
       "      <td>1009</td>\n",
       "    </tr>\n",
       "    <tr>\n",
       "      <th>44410</th>\n",
       "      <td>44410</td>\n",
       "      <td>1153_113</td>\n",
       "      <td>433.27</td>\n",
       "      <td>2018-12-17</td>\n",
       "      <td>1153</td>\n",
       "    </tr>\n",
       "    <tr>\n",
       "      <th>53763</th>\n",
       "      <td>53763</td>\n",
       "      <td>1180_254</td>\n",
       "      <td>1602.05</td>\n",
       "      <td>2018-03-15</td>\n",
       "      <td>1180</td>\n",
       "    </tr>\n",
       "    <tr>\n",
       "      <th>81149</th>\n",
       "      <td>81149</td>\n",
       "      <td>1274_354</td>\n",
       "      <td>0.00</td>\n",
       "      <td>2018-06-13</td>\n",
       "      <td>1274</td>\n",
       "    </tr>\n",
       "    <tr>\n",
       "      <th>95603</th>\n",
       "      <td>95603</td>\n",
       "      <td>1323_85</td>\n",
       "      <td>227.78</td>\n",
       "      <td>2018-09-24</td>\n",
       "      <td>1323</td>\n",
       "    </tr>\n",
       "  </tbody>\n",
       "</table>\n",
       "</div>"
      ],
      "text/plain": [
       "       Unnamed: 0        id  mb_used session_date  user_id\n",
       "2516         2516  1009_158   355.86   2018-08-04     1009\n",
       "44410       44410  1153_113   433.27   2018-12-17     1153\n",
       "53763       53763  1180_254  1602.05   2018-03-15     1180\n",
       "81149       81149  1274_354     0.00   2018-06-13     1274\n",
       "95603       95603   1323_85   227.78   2018-09-24     1323"
      ]
     },
     "metadata": {},
     "output_type": "display_data"
    },
    {
     "name": "stdout",
     "output_type": "stream",
     "text": [
      "-------------------------\n",
      "df_messages:\n",
      "\n",
      "<class 'pandas.core.frame.DataFrame'>\n",
      "RangeIndex: 123036 entries, 0 to 123035\n",
      "Data columns (total 3 columns):\n",
      " #   Column        Non-Null Count   Dtype \n",
      "---  ------        --------------   ----- \n",
      " 0   id            123036 non-null  object\n",
      " 1   message_date  123036 non-null  object\n",
      " 2   user_id       123036 non-null  int64 \n",
      "dtypes: int64(1), object(2)\n",
      "memory usage: 2.8+ MB\n"
     ]
    },
    {
     "data": {
      "text/html": [
       "<div>\n",
       "<style scoped>\n",
       "    .dataframe tbody tr th:only-of-type {\n",
       "        vertical-align: middle;\n",
       "    }\n",
       "\n",
       "    .dataframe tbody tr th {\n",
       "        vertical-align: top;\n",
       "    }\n",
       "\n",
       "    .dataframe thead th {\n",
       "        text-align: right;\n",
       "    }\n",
       "</style>\n",
       "<table border=\"1\" class=\"dataframe\">\n",
       "  <thead>\n",
       "    <tr style=\"text-align: right;\">\n",
       "      <th></th>\n",
       "      <th>id</th>\n",
       "      <th>message_date</th>\n",
       "      <th>user_id</th>\n",
       "    </tr>\n",
       "  </thead>\n",
       "  <tbody>\n",
       "    <tr>\n",
       "      <th>79483</th>\n",
       "      <td>1332_103</td>\n",
       "      <td>2018-08-15</td>\n",
       "      <td>1332</td>\n",
       "    </tr>\n",
       "    <tr>\n",
       "      <th>69091</th>\n",
       "      <td>1295_185</td>\n",
       "      <td>2018-10-20</td>\n",
       "      <td>1295</td>\n",
       "    </tr>\n",
       "    <tr>\n",
       "      <th>44823</th>\n",
       "      <td>1196_273</td>\n",
       "      <td>2018-08-31</td>\n",
       "      <td>1196</td>\n",
       "    </tr>\n",
       "    <tr>\n",
       "      <th>26265</th>\n",
       "      <td>1110_130</td>\n",
       "      <td>2018-11-03</td>\n",
       "      <td>1110</td>\n",
       "    </tr>\n",
       "    <tr>\n",
       "      <th>4781</th>\n",
       "      <td>1019_85</td>\n",
       "      <td>2018-06-16</td>\n",
       "      <td>1019</td>\n",
       "    </tr>\n",
       "  </tbody>\n",
       "</table>\n",
       "</div>"
      ],
      "text/plain": [
       "             id message_date  user_id\n",
       "79483  1332_103   2018-08-15     1332\n",
       "69091  1295_185   2018-10-20     1295\n",
       "44823  1196_273   2018-08-31     1196\n",
       "26265  1110_130   2018-11-03     1110\n",
       "4781    1019_85   2018-06-16     1019"
      ]
     },
     "metadata": {},
     "output_type": "display_data"
    },
    {
     "name": "stdout",
     "output_type": "stream",
     "text": [
      "-------------------------\n",
      "df_tariffs:\n",
      "\n",
      "<class 'pandas.core.frame.DataFrame'>\n",
      "RangeIndex: 2 entries, 0 to 1\n",
      "Data columns (total 8 columns):\n",
      " #   Column                 Non-Null Count  Dtype \n",
      "---  ------                 --------------  ----- \n",
      " 0   messages_included      2 non-null      int64 \n",
      " 1   mb_per_month_included  2 non-null      int64 \n",
      " 2   minutes_included       2 non-null      int64 \n",
      " 3   rub_monthly_fee        2 non-null      int64 \n",
      " 4   rub_per_gb             2 non-null      int64 \n",
      " 5   rub_per_message        2 non-null      int64 \n",
      " 6   rub_per_minute         2 non-null      int64 \n",
      " 7   tariff_name            2 non-null      object\n",
      "dtypes: int64(7), object(1)\n",
      "memory usage: 256.0+ bytes\n"
     ]
    },
    {
     "data": {
      "text/html": [
       "<div>\n",
       "<style scoped>\n",
       "    .dataframe tbody tr th:only-of-type {\n",
       "        vertical-align: middle;\n",
       "    }\n",
       "\n",
       "    .dataframe tbody tr th {\n",
       "        vertical-align: top;\n",
       "    }\n",
       "\n",
       "    .dataframe thead th {\n",
       "        text-align: right;\n",
       "    }\n",
       "</style>\n",
       "<table border=\"1\" class=\"dataframe\">\n",
       "  <thead>\n",
       "    <tr style=\"text-align: right;\">\n",
       "      <th></th>\n",
       "      <th>messages_included</th>\n",
       "      <th>mb_per_month_included</th>\n",
       "      <th>minutes_included</th>\n",
       "      <th>rub_monthly_fee</th>\n",
       "      <th>rub_per_gb</th>\n",
       "      <th>rub_per_message</th>\n",
       "      <th>rub_per_minute</th>\n",
       "      <th>tariff_name</th>\n",
       "    </tr>\n",
       "  </thead>\n",
       "  <tbody>\n",
       "    <tr>\n",
       "      <th>0</th>\n",
       "      <td>50</td>\n",
       "      <td>15360</td>\n",
       "      <td>500</td>\n",
       "      <td>550</td>\n",
       "      <td>200</td>\n",
       "      <td>3</td>\n",
       "      <td>3</td>\n",
       "      <td>smart</td>\n",
       "    </tr>\n",
       "    <tr>\n",
       "      <th>1</th>\n",
       "      <td>1000</td>\n",
       "      <td>30720</td>\n",
       "      <td>3000</td>\n",
       "      <td>1950</td>\n",
       "      <td>150</td>\n",
       "      <td>1</td>\n",
       "      <td>1</td>\n",
       "      <td>ultra</td>\n",
       "    </tr>\n",
       "  </tbody>\n",
       "</table>\n",
       "</div>"
      ],
      "text/plain": [
       "   messages_included  mb_per_month_included  minutes_included  \\\n",
       "0                 50                  15360               500   \n",
       "1               1000                  30720              3000   \n",
       "\n",
       "   rub_monthly_fee  rub_per_gb  rub_per_message  rub_per_minute tariff_name  \n",
       "0              550         200                3               3       smart  \n",
       "1             1950         150                1               1       ultra  "
      ]
     },
     "metadata": {},
     "output_type": "display_data"
    },
    {
     "name": "stdout",
     "output_type": "stream",
     "text": [
      "-------------------------\n",
      "df_users:\n",
      "\n",
      "<class 'pandas.core.frame.DataFrame'>\n",
      "RangeIndex: 500 entries, 0 to 499\n",
      "Data columns (total 8 columns):\n",
      " #   Column      Non-Null Count  Dtype \n",
      "---  ------      --------------  ----- \n",
      " 0   user_id     500 non-null    int64 \n",
      " 1   age         500 non-null    int64 \n",
      " 2   churn_date  38 non-null     object\n",
      " 3   city        500 non-null    object\n",
      " 4   first_name  500 non-null    object\n",
      " 5   last_name   500 non-null    object\n",
      " 6   reg_date    500 non-null    object\n",
      " 7   tariff      500 non-null    object\n",
      "dtypes: int64(2), object(6)\n",
      "memory usage: 31.4+ KB\n",
      "-------------------------\n"
     ]
    }
   ],
   "source": [
    "# Код ревьюера\n",
    "\n",
    "try:\n",
    "    df_calls = pd.read_csv('./calls.csv')\n",
    "    df_internet = pd.read_csv('./internet.csv')\n",
    "    df_messages = pd.read_csv('./messages.csv')\n",
    "    df_tariffs = pd.read_csv('./tariffs.csv')\n",
    "    df_users = pd.read_csv('./users.csv')\n",
    "except FileNotFoundError as e:\n",
    "    print(repr(e))\n",
    "    df_calls = pd.read_csv('/datasets/calls.csv')\n",
    "    df_internet = pd.read_csv('/datasets/internet.csv')\n",
    "    df_messages = pd.read_csv('/datasets/messages.csv')\n",
    "    df_tariffs = pd.read_csv('/datasets/tariffs.csv')\n",
    "    df_users = pd.read_csv('/datasets/users.csv')\n",
    "\n",
    "print('df_calls:\\n')\n",
    "df_calls.info()\n",
    "display(df_calls.sample(5))\n",
    "print('-------------------------')\n",
    "\n",
    "print('df_internet:\\n')\n",
    "df_internet.info()\n",
    "display(df_internet.sample(5))\n",
    "print('-------------------------')\n",
    "\n",
    "print('df_messages:\\n')\n",
    "df_messages.info()\n",
    "display(df_messages.sample(5))\n",
    "print('-------------------------')\n",
    "\n",
    "print('df_tariffs:\\n')\n",
    "df_tariffs.info()\n",
    "display(df_tariffs)\n",
    "print('-------------------------')\n",
    "\n",
    "print('df_users:\\n')\n",
    "df_users.info()\n",
    "df_users.sample(5)\n",
    "print('-------------------------')"
   ]
  },
  {
   "cell_type": "markdown",
   "metadata": {},
   "source": [
    "<div class = \"alert alert-info\" style=\"border-left: 7px solid blue\">\n",
    "<h3>Комментарий студента</h3>\n",
    "Убрала сделать первый столбец df_internet индексом (параметр index_col=0), потому что с момента первой итерации, кажется, этот столбец убрали.\n",
    "</div>"
   ]
  },
  {
   "cell_type": "markdown",
   "metadata": {},
   "source": [
    "Пропущенных значений нет, кроме столбца `churn_date` в таблице df_users. В нем пропуски означают, что тариф еще действовал на момент выгрузки данных."
   ]
  },
  {
   "cell_type": "markdown",
   "metadata": {},
   "source": [
    "<div class=\"alert alert-warning\"; style=\"border-left: 7px solid yellow\" >\n",
    "<h3>!! Комментарий ревьюера</h3>\n",
    "    \n",
    "Здорово, что делаешь проект локально, но указывай, пожалуйста, пути так, чтобы их не нужно было править. Я выше поправил\n",
    "</div>    \n"
   ]
  },
  {
   "cell_type": "markdown",
   "metadata": {},
   "source": [
    "### Шаг 2. Подготовка данных"
   ]
  },
  {
   "cell_type": "markdown",
   "metadata": {},
   "source": [
    "#### Шаг 2.1. Приведем данные к нужным типам\n",
    "\n",
    "Типы данных в столбцах с датами заменим с object на datetime64:"
   ]
  },
  {
   "cell_type": "code",
   "execution_count": 4,
   "metadata": {},
   "outputs": [
    {
     "name": "stdout",
     "output_type": "stream",
     "text": [
      "<class 'pandas.core.frame.DataFrame'>\n",
      "RangeIndex: 202607 entries, 0 to 202606\n",
      "Data columns (total 4 columns):\n",
      " #   Column     Non-Null Count   Dtype         \n",
      "---  ------     --------------   -----         \n",
      " 0   id         202607 non-null  object        \n",
      " 1   call_date  202607 non-null  datetime64[ns]\n",
      " 2   duration   202607 non-null  float64       \n",
      " 3   user_id    202607 non-null  int64         \n",
      "dtypes: datetime64[ns](1), float64(1), int64(1), object(1)\n",
      "memory usage: 6.2+ MB\n",
      "<class 'pandas.core.frame.DataFrame'>\n",
      "RangeIndex: 149396 entries, 0 to 149395\n",
      "Data columns (total 5 columns):\n",
      " #   Column        Non-Null Count   Dtype         \n",
      "---  ------        --------------   -----         \n",
      " 0   Unnamed: 0    149396 non-null  int64         \n",
      " 1   id            149396 non-null  object        \n",
      " 2   mb_used       149396 non-null  float64       \n",
      " 3   session_date  149396 non-null  datetime64[ns]\n",
      " 4   user_id       149396 non-null  int64         \n",
      "dtypes: datetime64[ns](1), float64(1), int64(2), object(1)\n",
      "memory usage: 5.7+ MB\n",
      "<class 'pandas.core.frame.DataFrame'>\n",
      "RangeIndex: 123036 entries, 0 to 123035\n",
      "Data columns (total 3 columns):\n",
      " #   Column        Non-Null Count   Dtype         \n",
      "---  ------        --------------   -----         \n",
      " 0   id            123036 non-null  object        \n",
      " 1   message_date  123036 non-null  datetime64[ns]\n",
      " 2   user_id       123036 non-null  int64         \n",
      "dtypes: datetime64[ns](1), int64(1), object(1)\n",
      "memory usage: 2.8+ MB\n"
     ]
    }
   ],
   "source": [
    "#замена типов данных на datetime64\n",
    "df_calls['call_date'] = pd.to_datetime(df_calls['call_date'], format='%Y-%m-%d')\n",
    "df_internet['session_date'] = pd.to_datetime(df_internet['session_date'], format='%Y-%m-%d')\n",
    "df_messages['message_date'] = pd.to_datetime(df_messages['message_date'], format='%Y-%m-%d')\n",
    "\n",
    "#проверка\n",
    "df_calls.info()\n",
    "df_internet.info()\n",
    "df_messages.info()"
   ]
  },
  {
   "cell_type": "markdown",
   "metadata": {},
   "source": [
    "#### Шаг 2.2. Проверим ошибки в данных\n",
    "\n",
    "Проверка явных дубликатов:"
   ]
  },
  {
   "cell_type": "code",
   "execution_count": 5,
   "metadata": {},
   "outputs": [
    {
     "name": "stdout",
     "output_type": "stream",
     "text": [
      "0\n",
      "0\n",
      "0\n",
      "0\n",
      "0\n",
      "0\n"
     ]
    }
   ],
   "source": [
    "print(df_calls.duplicated().sum())\n",
    "print(df_internet.duplicated().sum())\n",
    "print(df_messages.duplicated().sum())\n",
    "print(df_tariffs.duplicated().sum())\n",
    "print(df_users.duplicated().sum())\n",
    "\n",
    "print(df_users['user_id'].duplicated().sum())"
   ]
  },
  {
   "cell_type": "markdown",
   "metadata": {},
   "source": [
    "Проверка неявных дубликатов: "
   ]
  },
  {
   "cell_type": "code",
   "execution_count": 6,
   "metadata": {},
   "outputs": [
    {
     "name": "stdout",
     "output_type": "stream",
     "text": [
      "['Архангельск', 'Астрахань', 'Балашиха', 'Барнаул', 'Белгород', 'Брянск', 'Владивосток', 'Владикавказ', 'Владимир', 'Волгоград', 'Волжский', 'Вологда', 'Воронеж', 'Грозный', 'Екатеринбург', 'Иваново', 'Ижевск', 'Иркутск', 'Казань', 'Калининград', 'Калуга', 'Кемерово', 'Киров', 'Кострома', 'Краснодар', 'Красноярск', 'Курган', 'Курск', 'Липецк', 'Магнитогорск', 'Махачкала', 'Москва', 'Мурманск', 'Набережные Челны', 'Нижневартовск', 'Нижний Новгород', 'Нижний Тагил', 'Новокузнецк', 'Новороссийск', 'Новосибирск', 'Омск', 'Оренбург', 'Орёл', 'Пенза', 'Пермь', 'Петрозаводск', 'Подольск', 'Ростов-на-Дону', 'Рязань', 'Самара', 'Санкт-Петербург', 'Саранск', 'Саратов', 'Севастополь', 'Смоленск', 'Сочи', 'Ставрополь', 'Стерлитамак', 'Сургут', 'Тамбов', 'Тверь', 'Тольятти', 'Томск', 'Тула', 'Тюмень', 'Улан-Удэ', 'Ульяновск', 'Уфа', 'Хабаровск', 'Химки', 'Чебоксары', 'Челябинск', 'Череповец', 'Чита', 'Якутск', 'Ярославль']\n",
      "['smart', 'ultra']\n"
     ]
    }
   ],
   "source": [
    "print(df_users.sort_values(by = 'city')['city'].unique().tolist())\n",
    "print(df_users.sort_values(by = 'tariff')['tariff'].unique().tolist())"
   ]
  },
  {
   "cell_type": "markdown",
   "metadata": {},
   "source": [
    "Явных и неявных дубликатов нет.\n",
    "\n",
    "Проверим, что нет численных отрицательных и подозрительных значений."
   ]
  },
  {
   "cell_type": "code",
   "execution_count": 7,
   "metadata": {},
   "outputs": [
    {
     "data": {
      "text/html": [
       "<div>\n",
       "<style scoped>\n",
       "    .dataframe tbody tr th:only-of-type {\n",
       "        vertical-align: middle;\n",
       "    }\n",
       "\n",
       "    .dataframe tbody tr th {\n",
       "        vertical-align: top;\n",
       "    }\n",
       "\n",
       "    .dataframe thead th {\n",
       "        text-align: right;\n",
       "    }\n",
       "</style>\n",
       "<table border=\"1\" class=\"dataframe\">\n",
       "  <thead>\n",
       "    <tr style=\"text-align: right;\">\n",
       "      <th></th>\n",
       "      <th>user_id</th>\n",
       "      <th>age</th>\n",
       "    </tr>\n",
       "  </thead>\n",
       "  <tbody>\n",
       "    <tr>\n",
       "      <th>count</th>\n",
       "      <td>500.000000</td>\n",
       "      <td>500.00000</td>\n",
       "    </tr>\n",
       "    <tr>\n",
       "      <th>mean</th>\n",
       "      <td>1249.500000</td>\n",
       "      <td>46.58800</td>\n",
       "    </tr>\n",
       "    <tr>\n",
       "      <th>std</th>\n",
       "      <td>144.481833</td>\n",
       "      <td>16.66763</td>\n",
       "    </tr>\n",
       "    <tr>\n",
       "      <th>min</th>\n",
       "      <td>1000.000000</td>\n",
       "      <td>18.00000</td>\n",
       "    </tr>\n",
       "    <tr>\n",
       "      <th>25%</th>\n",
       "      <td>1124.750000</td>\n",
       "      <td>32.00000</td>\n",
       "    </tr>\n",
       "    <tr>\n",
       "      <th>50%</th>\n",
       "      <td>1249.500000</td>\n",
       "      <td>46.00000</td>\n",
       "    </tr>\n",
       "    <tr>\n",
       "      <th>75%</th>\n",
       "      <td>1374.250000</td>\n",
       "      <td>62.00000</td>\n",
       "    </tr>\n",
       "    <tr>\n",
       "      <th>max</th>\n",
       "      <td>1499.000000</td>\n",
       "      <td>75.00000</td>\n",
       "    </tr>\n",
       "  </tbody>\n",
       "</table>\n",
       "</div>"
      ],
      "text/plain": [
       "           user_id        age\n",
       "count   500.000000  500.00000\n",
       "mean   1249.500000   46.58800\n",
       "std     144.481833   16.66763\n",
       "min    1000.000000   18.00000\n",
       "25%    1124.750000   32.00000\n",
       "50%    1249.500000   46.00000\n",
       "75%    1374.250000   62.00000\n",
       "max    1499.000000   75.00000"
      ]
     },
     "metadata": {},
     "output_type": "display_data"
    },
    {
     "data": {
      "text/html": [
       "<div>\n",
       "<style scoped>\n",
       "    .dataframe tbody tr th:only-of-type {\n",
       "        vertical-align: middle;\n",
       "    }\n",
       "\n",
       "    .dataframe tbody tr th {\n",
       "        vertical-align: top;\n",
       "    }\n",
       "\n",
       "    .dataframe thead th {\n",
       "        text-align: right;\n",
       "    }\n",
       "</style>\n",
       "<table border=\"1\" class=\"dataframe\">\n",
       "  <thead>\n",
       "    <tr style=\"text-align: right;\">\n",
       "      <th></th>\n",
       "      <th>duration</th>\n",
       "      <th>user_id</th>\n",
       "    </tr>\n",
       "  </thead>\n",
       "  <tbody>\n",
       "    <tr>\n",
       "      <th>count</th>\n",
       "      <td>202607.000000</td>\n",
       "      <td>202607.000000</td>\n",
       "    </tr>\n",
       "    <tr>\n",
       "      <th>mean</th>\n",
       "      <td>6.755887</td>\n",
       "      <td>1253.940619</td>\n",
       "    </tr>\n",
       "    <tr>\n",
       "      <th>std</th>\n",
       "      <td>5.843365</td>\n",
       "      <td>144.722751</td>\n",
       "    </tr>\n",
       "    <tr>\n",
       "      <th>min</th>\n",
       "      <td>0.000000</td>\n",
       "      <td>1000.000000</td>\n",
       "    </tr>\n",
       "    <tr>\n",
       "      <th>25%</th>\n",
       "      <td>1.300000</td>\n",
       "      <td>1126.000000</td>\n",
       "    </tr>\n",
       "    <tr>\n",
       "      <th>50%</th>\n",
       "      <td>6.000000</td>\n",
       "      <td>1260.000000</td>\n",
       "    </tr>\n",
       "    <tr>\n",
       "      <th>75%</th>\n",
       "      <td>10.700000</td>\n",
       "      <td>1379.000000</td>\n",
       "    </tr>\n",
       "    <tr>\n",
       "      <th>max</th>\n",
       "      <td>38.000000</td>\n",
       "      <td>1499.000000</td>\n",
       "    </tr>\n",
       "  </tbody>\n",
       "</table>\n",
       "</div>"
      ],
      "text/plain": [
       "            duration        user_id\n",
       "count  202607.000000  202607.000000\n",
       "mean        6.755887    1253.940619\n",
       "std         5.843365     144.722751\n",
       "min         0.000000    1000.000000\n",
       "25%         1.300000    1126.000000\n",
       "50%         6.000000    1260.000000\n",
       "75%        10.700000    1379.000000\n",
       "max        38.000000    1499.000000"
      ]
     },
     "metadata": {},
     "output_type": "display_data"
    },
    {
     "data": {
      "text/html": [
       "<div>\n",
       "<style scoped>\n",
       "    .dataframe tbody tr th:only-of-type {\n",
       "        vertical-align: middle;\n",
       "    }\n",
       "\n",
       "    .dataframe tbody tr th {\n",
       "        vertical-align: top;\n",
       "    }\n",
       "\n",
       "    .dataframe thead th {\n",
       "        text-align: right;\n",
       "    }\n",
       "</style>\n",
       "<table border=\"1\" class=\"dataframe\">\n",
       "  <thead>\n",
       "    <tr style=\"text-align: right;\">\n",
       "      <th></th>\n",
       "      <th>Unnamed: 0</th>\n",
       "      <th>mb_used</th>\n",
       "      <th>user_id</th>\n",
       "    </tr>\n",
       "  </thead>\n",
       "  <tbody>\n",
       "    <tr>\n",
       "      <th>count</th>\n",
       "      <td>149396.000000</td>\n",
       "      <td>149396.000000</td>\n",
       "      <td>149396.000000</td>\n",
       "    </tr>\n",
       "    <tr>\n",
       "      <th>mean</th>\n",
       "      <td>74697.500000</td>\n",
       "      <td>370.192426</td>\n",
       "      <td>1252.099842</td>\n",
       "    </tr>\n",
       "    <tr>\n",
       "      <th>std</th>\n",
       "      <td>43127.054745</td>\n",
       "      <td>278.300951</td>\n",
       "      <td>144.050823</td>\n",
       "    </tr>\n",
       "    <tr>\n",
       "      <th>min</th>\n",
       "      <td>0.000000</td>\n",
       "      <td>0.000000</td>\n",
       "      <td>1000.000000</td>\n",
       "    </tr>\n",
       "    <tr>\n",
       "      <th>25%</th>\n",
       "      <td>37348.750000</td>\n",
       "      <td>138.187500</td>\n",
       "      <td>1130.000000</td>\n",
       "    </tr>\n",
       "    <tr>\n",
       "      <th>50%</th>\n",
       "      <td>74697.500000</td>\n",
       "      <td>348.015000</td>\n",
       "      <td>1251.000000</td>\n",
       "    </tr>\n",
       "    <tr>\n",
       "      <th>75%</th>\n",
       "      <td>112046.250000</td>\n",
       "      <td>559.552500</td>\n",
       "      <td>1380.000000</td>\n",
       "    </tr>\n",
       "    <tr>\n",
       "      <th>max</th>\n",
       "      <td>149395.000000</td>\n",
       "      <td>1724.830000</td>\n",
       "      <td>1499.000000</td>\n",
       "    </tr>\n",
       "  </tbody>\n",
       "</table>\n",
       "</div>"
      ],
      "text/plain": [
       "          Unnamed: 0        mb_used        user_id\n",
       "count  149396.000000  149396.000000  149396.000000\n",
       "mean    74697.500000     370.192426    1252.099842\n",
       "std     43127.054745     278.300951     144.050823\n",
       "min         0.000000       0.000000    1000.000000\n",
       "25%     37348.750000     138.187500    1130.000000\n",
       "50%     74697.500000     348.015000    1251.000000\n",
       "75%    112046.250000     559.552500    1380.000000\n",
       "max    149395.000000    1724.830000    1499.000000"
      ]
     },
     "metadata": {},
     "output_type": "display_data"
    },
    {
     "data": {
      "text/html": [
       "<div>\n",
       "<style scoped>\n",
       "    .dataframe tbody tr th:only-of-type {\n",
       "        vertical-align: middle;\n",
       "    }\n",
       "\n",
       "    .dataframe tbody tr th {\n",
       "        vertical-align: top;\n",
       "    }\n",
       "\n",
       "    .dataframe thead th {\n",
       "        text-align: right;\n",
       "    }\n",
       "</style>\n",
       "<table border=\"1\" class=\"dataframe\">\n",
       "  <thead>\n",
       "    <tr style=\"text-align: right;\">\n",
       "      <th></th>\n",
       "      <th>messages_included</th>\n",
       "      <th>mb_per_month_included</th>\n",
       "      <th>minutes_included</th>\n",
       "      <th>rub_monthly_fee</th>\n",
       "      <th>rub_per_gb</th>\n",
       "      <th>rub_per_message</th>\n",
       "      <th>rub_per_minute</th>\n",
       "    </tr>\n",
       "  </thead>\n",
       "  <tbody>\n",
       "    <tr>\n",
       "      <th>count</th>\n",
       "      <td>2.000000</td>\n",
       "      <td>2.000000</td>\n",
       "      <td>2.000000</td>\n",
       "      <td>2.000000</td>\n",
       "      <td>2.000000</td>\n",
       "      <td>2.000000</td>\n",
       "      <td>2.000000</td>\n",
       "    </tr>\n",
       "    <tr>\n",
       "      <th>mean</th>\n",
       "      <td>525.000000</td>\n",
       "      <td>23040.000000</td>\n",
       "      <td>1750.000000</td>\n",
       "      <td>1250.000000</td>\n",
       "      <td>175.000000</td>\n",
       "      <td>2.000000</td>\n",
       "      <td>2.000000</td>\n",
       "    </tr>\n",
       "    <tr>\n",
       "      <th>std</th>\n",
       "      <td>671.751442</td>\n",
       "      <td>10861.160159</td>\n",
       "      <td>1767.766953</td>\n",
       "      <td>989.949494</td>\n",
       "      <td>35.355339</td>\n",
       "      <td>1.414214</td>\n",
       "      <td>1.414214</td>\n",
       "    </tr>\n",
       "    <tr>\n",
       "      <th>min</th>\n",
       "      <td>50.000000</td>\n",
       "      <td>15360.000000</td>\n",
       "      <td>500.000000</td>\n",
       "      <td>550.000000</td>\n",
       "      <td>150.000000</td>\n",
       "      <td>1.000000</td>\n",
       "      <td>1.000000</td>\n",
       "    </tr>\n",
       "    <tr>\n",
       "      <th>25%</th>\n",
       "      <td>287.500000</td>\n",
       "      <td>19200.000000</td>\n",
       "      <td>1125.000000</td>\n",
       "      <td>900.000000</td>\n",
       "      <td>162.500000</td>\n",
       "      <td>1.500000</td>\n",
       "      <td>1.500000</td>\n",
       "    </tr>\n",
       "    <tr>\n",
       "      <th>50%</th>\n",
       "      <td>525.000000</td>\n",
       "      <td>23040.000000</td>\n",
       "      <td>1750.000000</td>\n",
       "      <td>1250.000000</td>\n",
       "      <td>175.000000</td>\n",
       "      <td>2.000000</td>\n",
       "      <td>2.000000</td>\n",
       "    </tr>\n",
       "    <tr>\n",
       "      <th>75%</th>\n",
       "      <td>762.500000</td>\n",
       "      <td>26880.000000</td>\n",
       "      <td>2375.000000</td>\n",
       "      <td>1600.000000</td>\n",
       "      <td>187.500000</td>\n",
       "      <td>2.500000</td>\n",
       "      <td>2.500000</td>\n",
       "    </tr>\n",
       "    <tr>\n",
       "      <th>max</th>\n",
       "      <td>1000.000000</td>\n",
       "      <td>30720.000000</td>\n",
       "      <td>3000.000000</td>\n",
       "      <td>1950.000000</td>\n",
       "      <td>200.000000</td>\n",
       "      <td>3.000000</td>\n",
       "      <td>3.000000</td>\n",
       "    </tr>\n",
       "  </tbody>\n",
       "</table>\n",
       "</div>"
      ],
      "text/plain": [
       "       messages_included  mb_per_month_included  minutes_included  \\\n",
       "count           2.000000               2.000000          2.000000   \n",
       "mean          525.000000           23040.000000       1750.000000   \n",
       "std           671.751442           10861.160159       1767.766953   \n",
       "min            50.000000           15360.000000        500.000000   \n",
       "25%           287.500000           19200.000000       1125.000000   \n",
       "50%           525.000000           23040.000000       1750.000000   \n",
       "75%           762.500000           26880.000000       2375.000000   \n",
       "max          1000.000000           30720.000000       3000.000000   \n",
       "\n",
       "       rub_monthly_fee  rub_per_gb  rub_per_message  rub_per_minute  \n",
       "count         2.000000    2.000000         2.000000        2.000000  \n",
       "mean       1250.000000  175.000000         2.000000        2.000000  \n",
       "std         989.949494   35.355339         1.414214        1.414214  \n",
       "min         550.000000  150.000000         1.000000        1.000000  \n",
       "25%         900.000000  162.500000         1.500000        1.500000  \n",
       "50%        1250.000000  175.000000         2.000000        2.000000  \n",
       "75%        1600.000000  187.500000         2.500000        2.500000  \n",
       "max        1950.000000  200.000000         3.000000        3.000000  "
      ]
     },
     "metadata": {},
     "output_type": "display_data"
    }
   ],
   "source": [
    "display(df_users.describe())\n",
    "display(df_calls.describe())\n",
    "display(df_internet.describe())\n",
    "display(df_tariffs.describe())"
   ]
  },
  {
   "cell_type": "markdown",
   "metadata": {},
   "source": [
    "Необычных и отрицательных значений нет."
   ]
  },
  {
   "cell_type": "markdown",
   "metadata": {},
   "source": [
    "<div class=\"alert alert-success\"; style=\"border-left: 7px solid green\">\n",
    "<h3>✔ Комментарий ревьюера</h3>\n",
    "    \n",
    "Хороший первый взгляд. Дополнительно можно было бы посмотреть на дубликаты по столбцу `user_id` в таблице с пользователями, т.к. потом по этому столбцу нужно объединять\n",
    "</div>"
   ]
  },
  {
   "cell_type": "markdown",
   "metadata": {},
   "source": [
    "<div class = \"alert alert-info\" style=\"border-left: 7px solid blue\">\n",
    "<h3>Комментарий студента</h3>\n",
    "    \n",
    "Проверила дубликаты в `user_id` в таблице с пользователями df_users.\n",
    "</div>"
   ]
  },
  {
   "cell_type": "markdown",
   "metadata": {},
   "source": [
    "<div class=\"alert alert-success\"; style=\"border-left: 7px solid green\">\n",
    "<h3>✔ Комментарий ревьюера V.2</h3>\n",
    "    \n",
    "👍\n",
    "</div>    \n"
   ]
  },
  {
   "cell_type": "markdown",
   "metadata": {},
   "source": [
    "#### Шаг 2.3 Добавим новые столбцы\n",
    "Посчитаем для каждого пользователя:\n",
    "- количество сделанных звонков и израсходованных минут разговора по месяцам;\n",
    "- количество отправленных сообщений по месяцам;\n",
    "- объем израсходованного интернет-трафика по месяцам;\n",
    "- помесячную выручку с каждого пользователя.\n",
    "\n",
    "Начнем с количества сделанных звонков и израсходованных минут разговора по месяцам. Для этого создадим отдельную таблицу, где сгруппируем данные по пользователям, месяцам и посчитаем для каждого пользователя в каждый месяц количество и сумму звонков. "
   ]
  },
  {
   "cell_type": "markdown",
   "metadata": {},
   "source": [
    "<div class=\"alert alert-success\"; style=\"border-left: 7px solid green\">\n",
    "<h3>✔ Комментарий ревьюера</h3>\n",
    "    \n",
    "Чуть короче можно как `df_calls['call_data'].dt.month`. Ещё, чтобы так выделять месяц, нужно быть уверенной в том, что все сессии были в предлах одного года, потому что иначе можно склеить месяцы для разных лет в один. Можно либо убедиться, что всё ок, либо выделять месяц вместе с годом\n",
    "</div>"
   ]
  },
  {
   "cell_type": "markdown",
   "metadata": {},
   "source": [
    "<div class = \"alert alert-info\" style=\"border-left: 7px solid blue\">\n",
    "<h3>Комментарий студента</h3>\n",
    "    \n",
    "Сделала так. В описании задания сказано, что данные за 2018 год.\n",
    "</div>"
   ]
  },
  {
   "cell_type": "markdown",
   "metadata": {},
   "source": [
    "<div class=\"alert alert-success\"; style=\"border-left: 7px solid green\">\n",
    "<h3>✔ Комментарий ревьюера V.2</h3>\n",
    "    \n",
    "Проверить всё равно не лишне\n",
    "</div>    \n"
   ]
  },
  {
   "cell_type": "code",
   "execution_count": 8,
   "metadata": {},
   "outputs": [
    {
     "data": {
      "text/html": [
       "<div>\n",
       "<style scoped>\n",
       "    .dataframe tbody tr th:only-of-type {\n",
       "        vertical-align: middle;\n",
       "    }\n",
       "\n",
       "    .dataframe tbody tr th {\n",
       "        vertical-align: top;\n",
       "    }\n",
       "\n",
       "    .dataframe thead th {\n",
       "        text-align: right;\n",
       "    }\n",
       "</style>\n",
       "<table border=\"1\" class=\"dataframe\">\n",
       "  <thead>\n",
       "    <tr style=\"text-align: right;\">\n",
       "      <th></th>\n",
       "      <th>user_id</th>\n",
       "      <th>month</th>\n",
       "      <th>duration_sum</th>\n",
       "      <th>duration_count</th>\n",
       "    </tr>\n",
       "  </thead>\n",
       "  <tbody>\n",
       "    <tr>\n",
       "      <th>0</th>\n",
       "      <td>1000</td>\n",
       "      <td>5</td>\n",
       "      <td>159</td>\n",
       "      <td>22</td>\n",
       "    </tr>\n",
       "    <tr>\n",
       "      <th>1</th>\n",
       "      <td>1000</td>\n",
       "      <td>6</td>\n",
       "      <td>172</td>\n",
       "      <td>43</td>\n",
       "    </tr>\n",
       "    <tr>\n",
       "      <th>2</th>\n",
       "      <td>1000</td>\n",
       "      <td>7</td>\n",
       "      <td>340</td>\n",
       "      <td>47</td>\n",
       "    </tr>\n",
       "    <tr>\n",
       "      <th>3</th>\n",
       "      <td>1000</td>\n",
       "      <td>8</td>\n",
       "      <td>408</td>\n",
       "      <td>52</td>\n",
       "    </tr>\n",
       "    <tr>\n",
       "      <th>4</th>\n",
       "      <td>1000</td>\n",
       "      <td>9</td>\n",
       "      <td>466</td>\n",
       "      <td>58</td>\n",
       "    </tr>\n",
       "  </tbody>\n",
       "</table>\n",
       "</div>"
      ],
      "text/plain": [
       "   user_id  month  duration_sum  duration_count\n",
       "0     1000      5           159              22\n",
       "1     1000      6           172              43\n",
       "2     1000      7           340              47\n",
       "3     1000      8           408              52\n",
       "4     1000      9           466              58"
      ]
     },
     "execution_count": 8,
     "metadata": {},
     "output_type": "execute_result"
    }
   ],
   "source": [
    "# создаем столбец с месяцем\n",
    "df_calls['month'] = df_calls['call_date'].dt.month\n",
    "\n",
    "#округляем сессии со звнками до минут вверх\n",
    "df_calls['duration'] = df_calls['duration'].apply(lambda x: math.ceil(x))\n",
    "\n",
    "# создаем таблицу с агрегированными данными\n",
    "df_calls_agregated = df_calls.groupby(by = ['user_id', 'month']).agg(duration_sum=('duration','sum'), duration_count=('duration','count')).reset_index()\n",
    "\n",
    "df_calls_agregated.head()"
   ]
  },
  {
   "cell_type": "markdown",
   "metadata": {},
   "source": [
    "<div class=\"alert alert-success\"; style=\"border-left: 7px solid green\">\n",
    "<h3>✔ Комментарий ревьюера</h3>\n",
    "    \n",
    "Можно в `agg` указывать названия будущих столбцов: `agg(duration_sum=('duration','sum'), duration_count=('duration','count'))`\n",
    "</div>"
   ]
  },
  {
   "cell_type": "markdown",
   "metadata": {},
   "source": [
    "<div class = \"alert alert-info\" style=\"border-left: 7px solid blue\">\n",
    "<h3>Комментарий студента</h3>\n",
    "    \n",
    "Сделала так.\n",
    "</div>"
   ]
  },
  {
   "cell_type": "markdown",
   "metadata": {},
   "source": [
    "<div class=\"alert alert-danger\"; style=\"border-left: 7px solid red\">\n",
    "<h3>👀 Комментарий ревьюера</h3>\n",
    "    \n",
    "Прежде чем группировать, нужно было округлить сессии со звнками до минут вверх:\n",
    "    \n",
    "> «Мегалайн» всегда округляет секунды до минут, а мегабайты — до гигабайт. Каждый звонок округляется отдельно: даже если он длился всего 1 секунду, будет засчитан как 1 минута.\n",
    "Для веб-трафика отдельные сессии не считаются. Вместо этого общая сумма за месяц округляется в бо́льшую сторону. Если абонент использует 1025 мегабайт в этом месяце, с него возьмут плату за 2 гигабайта. Примите, что неиспользованные за предыдущий месяц звонки, смс, интернет на следующий месяц не переносятся.\n",
    "</div>    \n"
   ]
  },
  {
   "cell_type": "markdown",
   "metadata": {},
   "source": [
    "<div class = \"alert alert-info\" style=\"border-left: 7px solid blue\">\n",
    "<h3>Комментарий студента</h3>\n",
    "    \n",
    "Округлила сессии со звонками до минут вверх до группировки.\n",
    "</div>"
   ]
  },
  {
   "cell_type": "markdown",
   "metadata": {},
   "source": [
    "<div class=\"alert alert-success\"; style=\"border-left: 7px solid green\">\n",
    "<h3>✔ Комментарий ревьюера V.2</h3>\n",
    "    \n",
    "Если пользоваться `ceil` из `numpy`, то можно его применять сразу ко всему столбцу, делая `np.ceil(df_calls['duration'])`\n",
    "</div>    \n"
   ]
  },
  {
   "cell_type": "markdown",
   "metadata": {},
   "source": [
    "Аналогично создадим таблицу с агрегированными данными на основе df_internet, рассчитаем объем используемого интернет-трафика по месяцам. "
   ]
  },
  {
   "cell_type": "code",
   "execution_count": 9,
   "metadata": {},
   "outputs": [
    {
     "data": {
      "text/html": [
       "<div>\n",
       "<style scoped>\n",
       "    .dataframe tbody tr th:only-of-type {\n",
       "        vertical-align: middle;\n",
       "    }\n",
       "\n",
       "    .dataframe tbody tr th {\n",
       "        vertical-align: top;\n",
       "    }\n",
       "\n",
       "    .dataframe thead th {\n",
       "        text-align: right;\n",
       "    }\n",
       "</style>\n",
       "<table border=\"1\" class=\"dataframe\">\n",
       "  <thead>\n",
       "    <tr style=\"text-align: right;\">\n",
       "      <th></th>\n",
       "      <th>user_id</th>\n",
       "      <th>month</th>\n",
       "      <th>mb_used</th>\n",
       "    </tr>\n",
       "  </thead>\n",
       "  <tbody>\n",
       "    <tr>\n",
       "      <th>0</th>\n",
       "      <td>1000</td>\n",
       "      <td>5</td>\n",
       "      <td>2253.49</td>\n",
       "    </tr>\n",
       "    <tr>\n",
       "      <th>1</th>\n",
       "      <td>1000</td>\n",
       "      <td>6</td>\n",
       "      <td>23233.77</td>\n",
       "    </tr>\n",
       "    <tr>\n",
       "      <th>2</th>\n",
       "      <td>1000</td>\n",
       "      <td>7</td>\n",
       "      <td>14003.64</td>\n",
       "    </tr>\n",
       "    <tr>\n",
       "      <th>3</th>\n",
       "      <td>1000</td>\n",
       "      <td>8</td>\n",
       "      <td>14055.93</td>\n",
       "    </tr>\n",
       "    <tr>\n",
       "      <th>4</th>\n",
       "      <td>1000</td>\n",
       "      <td>9</td>\n",
       "      <td>14568.91</td>\n",
       "    </tr>\n",
       "  </tbody>\n",
       "</table>\n",
       "</div>"
      ],
      "text/plain": [
       "   user_id  month   mb_used\n",
       "0     1000      5   2253.49\n",
       "1     1000      6  23233.77\n",
       "2     1000      7  14003.64\n",
       "3     1000      8  14055.93\n",
       "4     1000      9  14568.91"
      ]
     },
     "execution_count": 9,
     "metadata": {},
     "output_type": "execute_result"
    }
   ],
   "source": [
    "# создаем столбец с месяцем\n",
    "df_internet['month'] = df_internet['session_date'].dt.month\n",
    "\n",
    "# создаем таблицу с агрегированными данными\n",
    "df_internet_agregated = df_internet.groupby(by = ['user_id', 'month'])['mb_used'].sum().reset_index()\n",
    "\n",
    "df_internet_agregated.head()"
   ]
  },
  {
   "cell_type": "markdown",
   "metadata": {},
   "source": [
    "Аналогично создадим таблицу с агрегированными данными на основе df_messages, рассчитаем количество отправленных сообщений по месяцам. "
   ]
  },
  {
   "cell_type": "code",
   "execution_count": 10,
   "metadata": {},
   "outputs": [
    {
     "data": {
      "text/html": [
       "<div>\n",
       "<style scoped>\n",
       "    .dataframe tbody tr th:only-of-type {\n",
       "        vertical-align: middle;\n",
       "    }\n",
       "\n",
       "    .dataframe tbody tr th {\n",
       "        vertical-align: top;\n",
       "    }\n",
       "\n",
       "    .dataframe thead th {\n",
       "        text-align: right;\n",
       "    }\n",
       "</style>\n",
       "<table border=\"1\" class=\"dataframe\">\n",
       "  <thead>\n",
       "    <tr style=\"text-align: right;\">\n",
       "      <th></th>\n",
       "      <th>user_id</th>\n",
       "      <th>month</th>\n",
       "      <th>messages_count</th>\n",
       "    </tr>\n",
       "  </thead>\n",
       "  <tbody>\n",
       "    <tr>\n",
       "      <th>0</th>\n",
       "      <td>1000</td>\n",
       "      <td>5</td>\n",
       "      <td>22</td>\n",
       "    </tr>\n",
       "    <tr>\n",
       "      <th>1</th>\n",
       "      <td>1000</td>\n",
       "      <td>6</td>\n",
       "      <td>60</td>\n",
       "    </tr>\n",
       "    <tr>\n",
       "      <th>2</th>\n",
       "      <td>1000</td>\n",
       "      <td>7</td>\n",
       "      <td>75</td>\n",
       "    </tr>\n",
       "    <tr>\n",
       "      <th>3</th>\n",
       "      <td>1000</td>\n",
       "      <td>8</td>\n",
       "      <td>81</td>\n",
       "    </tr>\n",
       "    <tr>\n",
       "      <th>4</th>\n",
       "      <td>1000</td>\n",
       "      <td>9</td>\n",
       "      <td>57</td>\n",
       "    </tr>\n",
       "  </tbody>\n",
       "</table>\n",
       "</div>"
      ],
      "text/plain": [
       "   user_id  month  messages_count\n",
       "0     1000      5              22\n",
       "1     1000      6              60\n",
       "2     1000      7              75\n",
       "3     1000      8              81\n",
       "4     1000      9              57"
      ]
     },
     "execution_count": 10,
     "metadata": {},
     "output_type": "execute_result"
    }
   ],
   "source": [
    "# создаем столбец с месяцем\n",
    "df_messages['month'] = df_messages['message_date'].dt.month\n",
    "\n",
    "# создаем таблицу с агрегированными данными\n",
    "df_messages_agregated = df_messages.groupby(by = ['user_id', 'month'])['id'].count().reset_index(name='messages_count')\n",
    "\n",
    "df_messages_agregated.head()"
   ]
  },
  {
   "cell_type": "markdown",
   "metadata": {},
   "source": [
    "Теперь соединим созданные таблицы в одну, чтобы были данные по звонкам, интернет-трафику, сообщениям для каждого пользователя в одной таблице. "
   ]
  },
  {
   "cell_type": "code",
   "execution_count": 11,
   "metadata": {},
   "outputs": [
    {
     "name": "stdout",
     "output_type": "stream",
     "text": [
      "<class 'pandas.core.frame.DataFrame'>\n",
      "Int64Index: 3214 entries, 0 to 3213\n",
      "Data columns (total 16 columns):\n",
      " #   Column                 Non-Null Count  Dtype  \n",
      "---  ------                 --------------  -----  \n",
      " 0   user_id                3214 non-null   int64  \n",
      " 1   month                  3214 non-null   int64  \n",
      " 2   messages_count         2717 non-null   float64\n",
      " 3   duration_sum           3174 non-null   float64\n",
      " 4   duration_count         3174 non-null   float64\n",
      " 5   mb_used                3203 non-null   float64\n",
      " 6   city                   3214 non-null   object \n",
      " 7   tariff                 3214 non-null   object \n",
      " 8   messages_included      3214 non-null   int64  \n",
      " 9   mb_per_month_included  3214 non-null   int64  \n",
      " 10  minutes_included       3214 non-null   int64  \n",
      " 11  rub_monthly_fee        3214 non-null   int64  \n",
      " 12  rub_per_gb             3214 non-null   int64  \n",
      " 13  rub_per_message        3214 non-null   int64  \n",
      " 14  rub_per_minute         3214 non-null   int64  \n",
      " 15  tariff_name            3214 non-null   object \n",
      "dtypes: float64(4), int64(9), object(3)\n",
      "memory usage: 426.9+ KB\n"
     ]
    },
    {
     "data": {
      "text/html": [
       "<div>\n",
       "<style scoped>\n",
       "    .dataframe tbody tr th:only-of-type {\n",
       "        vertical-align: middle;\n",
       "    }\n",
       "\n",
       "    .dataframe tbody tr th {\n",
       "        vertical-align: top;\n",
       "    }\n",
       "\n",
       "    .dataframe thead th {\n",
       "        text-align: right;\n",
       "    }\n",
       "</style>\n",
       "<table border=\"1\" class=\"dataframe\">\n",
       "  <thead>\n",
       "    <tr style=\"text-align: right;\">\n",
       "      <th></th>\n",
       "      <th>user_id</th>\n",
       "      <th>month</th>\n",
       "      <th>messages_count</th>\n",
       "      <th>duration_sum</th>\n",
       "      <th>duration_count</th>\n",
       "      <th>mb_used</th>\n",
       "      <th>city</th>\n",
       "      <th>tariff</th>\n",
       "      <th>messages_included</th>\n",
       "      <th>mb_per_month_included</th>\n",
       "      <th>minutes_included</th>\n",
       "      <th>rub_monthly_fee</th>\n",
       "      <th>rub_per_gb</th>\n",
       "      <th>rub_per_message</th>\n",
       "      <th>rub_per_minute</th>\n",
       "      <th>tariff_name</th>\n",
       "    </tr>\n",
       "  </thead>\n",
       "  <tbody>\n",
       "    <tr>\n",
       "      <th>0</th>\n",
       "      <td>1000</td>\n",
       "      <td>5</td>\n",
       "      <td>22.0</td>\n",
       "      <td>159.0</td>\n",
       "      <td>22.0</td>\n",
       "      <td>2253.49</td>\n",
       "      <td>Краснодар</td>\n",
       "      <td>ultra</td>\n",
       "      <td>1000</td>\n",
       "      <td>30720</td>\n",
       "      <td>3000</td>\n",
       "      <td>1950</td>\n",
       "      <td>150</td>\n",
       "      <td>1</td>\n",
       "      <td>1</td>\n",
       "      <td>ultra</td>\n",
       "    </tr>\n",
       "    <tr>\n",
       "      <th>1</th>\n",
       "      <td>1000</td>\n",
       "      <td>6</td>\n",
       "      <td>60.0</td>\n",
       "      <td>172.0</td>\n",
       "      <td>43.0</td>\n",
       "      <td>23233.77</td>\n",
       "      <td>Краснодар</td>\n",
       "      <td>ultra</td>\n",
       "      <td>1000</td>\n",
       "      <td>30720</td>\n",
       "      <td>3000</td>\n",
       "      <td>1950</td>\n",
       "      <td>150</td>\n",
       "      <td>1</td>\n",
       "      <td>1</td>\n",
       "      <td>ultra</td>\n",
       "    </tr>\n",
       "    <tr>\n",
       "      <th>2</th>\n",
       "      <td>1000</td>\n",
       "      <td>7</td>\n",
       "      <td>75.0</td>\n",
       "      <td>340.0</td>\n",
       "      <td>47.0</td>\n",
       "      <td>14003.64</td>\n",
       "      <td>Краснодар</td>\n",
       "      <td>ultra</td>\n",
       "      <td>1000</td>\n",
       "      <td>30720</td>\n",
       "      <td>3000</td>\n",
       "      <td>1950</td>\n",
       "      <td>150</td>\n",
       "      <td>1</td>\n",
       "      <td>1</td>\n",
       "      <td>ultra</td>\n",
       "    </tr>\n",
       "    <tr>\n",
       "      <th>3</th>\n",
       "      <td>1000</td>\n",
       "      <td>8</td>\n",
       "      <td>81.0</td>\n",
       "      <td>408.0</td>\n",
       "      <td>52.0</td>\n",
       "      <td>14055.93</td>\n",
       "      <td>Краснодар</td>\n",
       "      <td>ultra</td>\n",
       "      <td>1000</td>\n",
       "      <td>30720</td>\n",
       "      <td>3000</td>\n",
       "      <td>1950</td>\n",
       "      <td>150</td>\n",
       "      <td>1</td>\n",
       "      <td>1</td>\n",
       "      <td>ultra</td>\n",
       "    </tr>\n",
       "    <tr>\n",
       "      <th>4</th>\n",
       "      <td>1000</td>\n",
       "      <td>9</td>\n",
       "      <td>57.0</td>\n",
       "      <td>466.0</td>\n",
       "      <td>58.0</td>\n",
       "      <td>14568.91</td>\n",
       "      <td>Краснодар</td>\n",
       "      <td>ultra</td>\n",
       "      <td>1000</td>\n",
       "      <td>30720</td>\n",
       "      <td>3000</td>\n",
       "      <td>1950</td>\n",
       "      <td>150</td>\n",
       "      <td>1</td>\n",
       "      <td>1</td>\n",
       "      <td>ultra</td>\n",
       "    </tr>\n",
       "  </tbody>\n",
       "</table>\n",
       "</div>"
      ],
      "text/plain": [
       "   user_id  month  messages_count  duration_sum  duration_count   mb_used  \\\n",
       "0     1000      5            22.0         159.0            22.0   2253.49   \n",
       "1     1000      6            60.0         172.0            43.0  23233.77   \n",
       "2     1000      7            75.0         340.0            47.0  14003.64   \n",
       "3     1000      8            81.0         408.0            52.0  14055.93   \n",
       "4     1000      9            57.0         466.0            58.0  14568.91   \n",
       "\n",
       "        city tariff  messages_included  mb_per_month_included  \\\n",
       "0  Краснодар  ultra               1000                  30720   \n",
       "1  Краснодар  ultra               1000                  30720   \n",
       "2  Краснодар  ultra               1000                  30720   \n",
       "3  Краснодар  ultra               1000                  30720   \n",
       "4  Краснодар  ultra               1000                  30720   \n",
       "\n",
       "   minutes_included  rub_monthly_fee  rub_per_gb  rub_per_message  \\\n",
       "0              3000             1950         150                1   \n",
       "1              3000             1950         150                1   \n",
       "2              3000             1950         150                1   \n",
       "3              3000             1950         150                1   \n",
       "4              3000             1950         150                1   \n",
       "\n",
       "   rub_per_minute tariff_name  \n",
       "0               1       ultra  \n",
       "1               1       ultra  \n",
       "2               1       ultra  \n",
       "3               1       ultra  \n",
       "4               1       ultra  "
      ]
     },
     "execution_count": 11,
     "metadata": {},
     "output_type": "execute_result"
    }
   ],
   "source": [
    "# выбираем нужные для исследования столбцы из df_users\n",
    "df_users_useful = df_users[['user_id', 'city', 'tariff']]\n",
    "\n",
    "# соединяем таблицы\n",
    "df = (\n",
    "    df_messages_agregated\n",
    "    .merge(df_calls_agregated, on=['user_id', 'month'], how = 'outer')\n",
    "    .merge(df_internet_agregated, on=['user_id', 'month'], how = 'outer')\n",
    "    .merge(df_users_useful, on=['user_id'])\n",
    "    .merge(df_tariffs, left_on=['tariff'], right_on=['tariff_name'])\n",
    ")\n",
    "\n",
    "df.info()\n",
    "df.head()"
   ]
  },
  {
   "cell_type": "markdown",
   "metadata": {},
   "source": [
    "<div class=\"alert alert-success\"; style=\"border-left: 7px solid green\">\n",
    "<h3>✔ Комментарий ревьюера</h3>\n",
    "    \n",
    "Всё верно, с `outer` ничего не потеряешь 👍 Здорово также, что объединила с таблицей с тарифами, так повысилась локальность данных и обращение к данных о тарифе будет быстрее\n",
    "</div>    \n"
   ]
  },
  {
   "cell_type": "markdown",
   "metadata": {},
   "source": [
    "Рассчитаем помесячную выручку с каждого пользователя:"
   ]
  },
  {
   "cell_type": "code",
   "execution_count": 12,
   "metadata": {},
   "outputs": [
    {
     "data": {
      "text/html": [
       "<div>\n",
       "<style scoped>\n",
       "    .dataframe tbody tr th:only-of-type {\n",
       "        vertical-align: middle;\n",
       "    }\n",
       "\n",
       "    .dataframe tbody tr th {\n",
       "        vertical-align: top;\n",
       "    }\n",
       "\n",
       "    .dataframe thead th {\n",
       "        text-align: right;\n",
       "    }\n",
       "</style>\n",
       "<table border=\"1\" class=\"dataframe\">\n",
       "  <thead>\n",
       "    <tr style=\"text-align: right;\">\n",
       "      <th></th>\n",
       "      <th>user_id</th>\n",
       "      <th>month</th>\n",
       "      <th>messages_count</th>\n",
       "      <th>duration_sum</th>\n",
       "      <th>duration_count</th>\n",
       "      <th>mb_used</th>\n",
       "      <th>city</th>\n",
       "      <th>tariff</th>\n",
       "      <th>messages_included</th>\n",
       "      <th>mb_per_month_included</th>\n",
       "      <th>minutes_included</th>\n",
       "      <th>rub_monthly_fee</th>\n",
       "      <th>rub_per_gb</th>\n",
       "      <th>rub_per_message</th>\n",
       "      <th>rub_per_minute</th>\n",
       "      <th>tariff_name</th>\n",
       "      <th>user_revenue_per_month</th>\n",
       "    </tr>\n",
       "  </thead>\n",
       "  <tbody>\n",
       "    <tr>\n",
       "      <th>0</th>\n",
       "      <td>1000</td>\n",
       "      <td>5</td>\n",
       "      <td>22.0</td>\n",
       "      <td>159.0</td>\n",
       "      <td>22.0</td>\n",
       "      <td>2253.49</td>\n",
       "      <td>Краснодар</td>\n",
       "      <td>ultra</td>\n",
       "      <td>1000</td>\n",
       "      <td>30720</td>\n",
       "      <td>3000</td>\n",
       "      <td>1950</td>\n",
       "      <td>150</td>\n",
       "      <td>1</td>\n",
       "      <td>1</td>\n",
       "      <td>ultra</td>\n",
       "      <td>1950</td>\n",
       "    </tr>\n",
       "    <tr>\n",
       "      <th>1</th>\n",
       "      <td>1000</td>\n",
       "      <td>6</td>\n",
       "      <td>60.0</td>\n",
       "      <td>172.0</td>\n",
       "      <td>43.0</td>\n",
       "      <td>23233.77</td>\n",
       "      <td>Краснодар</td>\n",
       "      <td>ultra</td>\n",
       "      <td>1000</td>\n",
       "      <td>30720</td>\n",
       "      <td>3000</td>\n",
       "      <td>1950</td>\n",
       "      <td>150</td>\n",
       "      <td>1</td>\n",
       "      <td>1</td>\n",
       "      <td>ultra</td>\n",
       "      <td>1950</td>\n",
       "    </tr>\n",
       "    <tr>\n",
       "      <th>2</th>\n",
       "      <td>1000</td>\n",
       "      <td>7</td>\n",
       "      <td>75.0</td>\n",
       "      <td>340.0</td>\n",
       "      <td>47.0</td>\n",
       "      <td>14003.64</td>\n",
       "      <td>Краснодар</td>\n",
       "      <td>ultra</td>\n",
       "      <td>1000</td>\n",
       "      <td>30720</td>\n",
       "      <td>3000</td>\n",
       "      <td>1950</td>\n",
       "      <td>150</td>\n",
       "      <td>1</td>\n",
       "      <td>1</td>\n",
       "      <td>ultra</td>\n",
       "      <td>1950</td>\n",
       "    </tr>\n",
       "    <tr>\n",
       "      <th>3</th>\n",
       "      <td>1000</td>\n",
       "      <td>8</td>\n",
       "      <td>81.0</td>\n",
       "      <td>408.0</td>\n",
       "      <td>52.0</td>\n",
       "      <td>14055.93</td>\n",
       "      <td>Краснодар</td>\n",
       "      <td>ultra</td>\n",
       "      <td>1000</td>\n",
       "      <td>30720</td>\n",
       "      <td>3000</td>\n",
       "      <td>1950</td>\n",
       "      <td>150</td>\n",
       "      <td>1</td>\n",
       "      <td>1</td>\n",
       "      <td>ultra</td>\n",
       "      <td>1950</td>\n",
       "    </tr>\n",
       "    <tr>\n",
       "      <th>4</th>\n",
       "      <td>1000</td>\n",
       "      <td>9</td>\n",
       "      <td>57.0</td>\n",
       "      <td>466.0</td>\n",
       "      <td>58.0</td>\n",
       "      <td>14568.91</td>\n",
       "      <td>Краснодар</td>\n",
       "      <td>ultra</td>\n",
       "      <td>1000</td>\n",
       "      <td>30720</td>\n",
       "      <td>3000</td>\n",
       "      <td>1950</td>\n",
       "      <td>150</td>\n",
       "      <td>1</td>\n",
       "      <td>1</td>\n",
       "      <td>ultra</td>\n",
       "      <td>1950</td>\n",
       "    </tr>\n",
       "  </tbody>\n",
       "</table>\n",
       "</div>"
      ],
      "text/plain": [
       "   user_id  month  messages_count  duration_sum  duration_count   mb_used  \\\n",
       "0     1000      5            22.0         159.0            22.0   2253.49   \n",
       "1     1000      6            60.0         172.0            43.0  23233.77   \n",
       "2     1000      7            75.0         340.0            47.0  14003.64   \n",
       "3     1000      8            81.0         408.0            52.0  14055.93   \n",
       "4     1000      9            57.0         466.0            58.0  14568.91   \n",
       "\n",
       "        city tariff  messages_included  mb_per_month_included  \\\n",
       "0  Краснодар  ultra               1000                  30720   \n",
       "1  Краснодар  ultra               1000                  30720   \n",
       "2  Краснодар  ultra               1000                  30720   \n",
       "3  Краснодар  ultra               1000                  30720   \n",
       "4  Краснодар  ultra               1000                  30720   \n",
       "\n",
       "   minutes_included  rub_monthly_fee  rub_per_gb  rub_per_message  \\\n",
       "0              3000             1950         150                1   \n",
       "1              3000             1950         150                1   \n",
       "2              3000             1950         150                1   \n",
       "3              3000             1950         150                1   \n",
       "4              3000             1950         150                1   \n",
       "\n",
       "   rub_per_minute tariff_name  user_revenue_per_month  \n",
       "0               1       ultra                    1950  \n",
       "1               1       ultra                    1950  \n",
       "2               1       ultra                    1950  \n",
       "3               1       ultra                    1950  \n",
       "4               1       ultra                    1950  "
      ]
     },
     "execution_count": 12,
     "metadata": {},
     "output_type": "execute_result"
    }
   ],
   "source": [
    "def count_revenue(raw):\n",
    "    messages_revenue = 0\n",
    "    calls_revenue = 0\n",
    "    mb_revenue = 0\n",
    "    \n",
    "    if raw['messages_count'] > raw['messages_included']:\n",
    "        messages_revenue = (raw['messages_count'] - raw['messages_included']) * raw['rub_per_message']\n",
    "    if raw['duration_sum'] > raw['minutes_included']:\n",
    "        calls_revenue = math.ceil(raw['duration_sum'] - raw['minutes_included']) * raw['rub_per_minute']\n",
    "    if raw['mb_used'] > raw['mb_per_month_included']:\n",
    "        mb_revenue = math.ceil((raw['mb_used'] - raw['mb_per_month_included']) / 1024) * raw['rub_per_gb']\n",
    "        \n",
    "    return int(messages_revenue + calls_revenue + mb_revenue + raw['rub_monthly_fee'])\n",
    "    \n",
    "\n",
    "df['user_revenue_per_month'] = df.apply(count_revenue, axis = 1)\n",
    "\n",
    "df.head()"
   ]
  },
  {
   "cell_type": "markdown",
   "metadata": {},
   "source": [
    "<div class=\"alert alert-danger\"; style=\"border-left: 7px solid red\">\n",
    "<h3>👀 Комментарий ревьюера</h3>\n",
    "    \n",
    "Тут с округлением уже верно, но в гигабайте 1024 мегабайта, а не 1000</div>    \n"
   ]
  },
  {
   "cell_type": "markdown",
   "metadata": {},
   "source": [
    "<div class = \"alert alert-info\" style=\"border-left: 7px solid blue\">\n",
    "<h3>Комментарий студента</h3>\n",
    "Исправила 1000 на 1024 в округлении до гигабайт.\n",
    "</div>"
   ]
  },
  {
   "cell_type": "markdown",
   "metadata": {},
   "source": [
    "<div class=\"alert alert-success\"; style=\"border-left: 7px solid green\">\n",
    "<h3>✔ Комментарий ревьюера V.2</h3>\n",
    "    \n",
    "👍\n",
    "</div>    \n"
   ]
  },
  {
   "cell_type": "markdown",
   "metadata": {},
   "source": [
    "### Шаг 3. Анализ данных\n",
    "\n",
    "Опишем поведение клиентов оператора. Посчитаем:\n",
    "- сколько минут разговора требуется пользователям каждого тарифа в месяц\n",
    "- сколько сообщений требуется пользователям каждого тарифа в месяц\n",
    "- какой объём интернет-трафика требуется пользователям каждого тарифа в месяц"
   ]
  },
  {
   "cell_type": "markdown",
   "metadata": {},
   "source": [
    "<div class=\"alert alert-danger\"; style=\"border-left: 7px solid red\">\n",
    "<h3>👀 Комментарий ревьюера</h3>\n",
    "    \n",
    "Ещё, прежде чем ниже смотреть на гистограммы и статистики считать, нужно пропуски заполнить нулями, т.к. пропуски появились там, где клиент не пользовался услугами тарифа, т.е. использовал 0\n",
    "</div>    \n"
   ]
  },
  {
   "cell_type": "code",
   "execution_count": 13,
   "metadata": {},
   "outputs": [
    {
     "data": {
      "text/plain": [
       "user_id                     0\n",
       "month                       0\n",
       "messages_count            497\n",
       "duration_sum               40\n",
       "duration_count             40\n",
       "mb_used                    11\n",
       "city                        0\n",
       "tariff                      0\n",
       "messages_included           0\n",
       "mb_per_month_included       0\n",
       "minutes_included            0\n",
       "rub_monthly_fee             0\n",
       "rub_per_gb                  0\n",
       "rub_per_message             0\n",
       "rub_per_minute              0\n",
       "tariff_name                 0\n",
       "user_revenue_per_month      0\n",
       "dtype: int64"
      ]
     },
     "execution_count": 13,
     "metadata": {},
     "output_type": "execute_result"
    }
   ],
   "source": [
    "# Код ревьюера\n",
    "\n",
    "df.isna().sum()"
   ]
  },
  {
   "cell_type": "markdown",
   "metadata": {},
   "source": [
    "При объединении таблиц df_calls, df_internet, df_messages в случаях, когда клиент не пользовался какими-то услугами тарифа, в соответствующих ячейках появились пропуски, т.е. использовал 0. Заполним пропуски нулями:"
   ]
  },
  {
   "cell_type": "code",
   "execution_count": 14,
   "metadata": {},
   "outputs": [
    {
     "data": {
      "text/plain": [
       "user_id                   0\n",
       "month                     0\n",
       "messages_count            0\n",
       "duration_sum              0\n",
       "duration_count            0\n",
       "mb_used                   0\n",
       "city                      0\n",
       "tariff                    0\n",
       "messages_included         0\n",
       "mb_per_month_included     0\n",
       "minutes_included          0\n",
       "rub_monthly_fee           0\n",
       "rub_per_gb                0\n",
       "rub_per_message           0\n",
       "rub_per_minute            0\n",
       "tariff_name               0\n",
       "user_revenue_per_month    0\n",
       "dtype: int64"
      ]
     },
     "execution_count": 14,
     "metadata": {},
     "output_type": "execute_result"
    }
   ],
   "source": [
    "df = df.fillna(0)\n",
    "df.isna().sum()"
   ]
  },
  {
   "cell_type": "markdown",
   "metadata": {},
   "source": [
    "<div class = \"alert alert-info\" style=\"border-left: 7px solid blue\">\n",
    "<h3>Комментарий студента</h3>\n",
    "Заполнила пропуски 0, когда клиент не пользовался услугами тарифа. Заменила выводы к гистограммам, где поменялись средние значения.\n",
    "</div>"
   ]
  },
  {
   "cell_type": "markdown",
   "metadata": {},
   "source": [
    "<div class=\"alert alert-success\"; style=\"border-left: 7px solid green\">\n",
    "<h3>✔ Комментарий ревьюера V.2</h3>\n",
    "    \n",
    "👍\n",
    "</div>    \n"
   ]
  },
  {
   "cell_type": "markdown",
   "metadata": {},
   "source": [
    "#### Шаг 3.1. Минуты разговора\n",
    "\n",
    "Для начала посчитаем, сколько минут разговора требуется пользователям каждого тарифа в месяц."
   ]
  },
  {
   "cell_type": "markdown",
   "metadata": {},
   "source": [
    "<div class=\"alert alert-success\"; style=\"border-left: 7px solid green\">\n",
    "<h3>✔ Комментарий ревьюера</h3>\n",
    "    \n",
    "При нормальном распределении скошенности быть не может, но на практике не всегда важно определять распределение. Для того же `t-теста` важно не само распределение, а распределение выборочных средних.\n",
    "    \n",
    "Удачнее было бы собрать статистики в табличку при помощи `groupby`, а гистограммы построить друг на друге:\n",
    "</div>    \n"
   ]
  },
  {
   "cell_type": "markdown",
   "metadata": {},
   "source": [
    "<div class = \"alert alert-info\" style=\"border-left: 7px solid blue\">\n",
    "<h3>Комментарий студента</h3>\n",
    "Поняла, но в задании просят определить распределение. Какое тогда распределение для звонков ultra? Я подумала, это скошенный набор данных, как в этом уроке https://practicum.yandex.ru/trainer/data-scientist-plus/lesson/1ddea4d7-7b29-4c27-96be-7da19c77f809/ \n",
    "</div>"
   ]
  },
  {
   "cell_type": "markdown",
   "metadata": {},
   "source": [
    "<div class=\"alert alert-success\"; style=\"border-left: 7px solid green\">\n",
    "<h3>✔ Комментарий ревьюера V.2</h3>\n",
    "    \n",
    "В целом да, можно писать просто про какие-то свойства распределения типа скошенности. По виду распределения тяжело определить, какое оно. Зависть вообще говоря от задачи, можно апроксимировать и нормальным распределением. \n",
    "</div>    \n"
   ]
  },
  {
   "cell_type": "code",
   "execution_count": 15,
   "metadata": {},
   "outputs": [
    {
     "data": {
      "text/html": [
       "<style  type=\"text/css\" >\n",
       "</style><table id=\"T_7cebc_\" ><thead>    <tr>        <th class=\"blank level0\" ></th>        <th class=\"col_heading level0 col0\" >duration_mean</th>        <th class=\"col_heading level0 col1\" >duration_var</th>        <th class=\"col_heading level0 col2\" >duration_std</th>    </tr>    <tr>        <th class=\"index_name level0\" >tariff</th>        <th class=\"blank\" ></th>        <th class=\"blank\" ></th>        <th class=\"blank\" ></th>    </tr></thead><tbody>\n",
       "                <tr>\n",
       "                        <th id=\"T_7cebc_level0_row0\" class=\"row_heading level0 row0\" >smart</th>\n",
       "                        <td id=\"T_7cebc_row0_col0\" class=\"data row0 col0\" >417.93</td>\n",
       "                        <td id=\"T_7cebc_row0_col1\" class=\"data row0 col1\" >36219.32</td>\n",
       "                        <td id=\"T_7cebc_row0_col2\" class=\"data row0 col2\" >190.31</td>\n",
       "            </tr>\n",
       "            <tr>\n",
       "                        <th id=\"T_7cebc_level0_row1\" class=\"row_heading level0 row1\" >ultra</th>\n",
       "                        <td id=\"T_7cebc_row1_col0\" class=\"data row1 col0\" >526.62</td>\n",
       "                        <td id=\"T_7cebc_row1_col1\" class=\"data row1 col1\" >100873.63</td>\n",
       "                        <td id=\"T_7cebc_row1_col2\" class=\"data row1 col2\" >317.61</td>\n",
       "            </tr>\n",
       "    </tbody></table>"
      ],
      "text/plain": [
       "<pandas.io.formats.style.Styler at 0x7fe2cabcc1c0>"
      ]
     },
     "execution_count": 15,
     "metadata": {},
     "output_type": "execute_result"
    }
   ],
   "source": [
    "# Код ревьюера\n",
    "\n",
    "df.groupby('tariff').agg(duration_mean=('duration_sum','mean'),\n",
    "                         duration_var=('duration_sum','var'),\n",
    "                         duration_std=('duration_sum','std')) \\\n",
    "                    .style.format('{:.2f}')"
   ]
  },
  {
   "cell_type": "code",
   "execution_count": 16,
   "metadata": {},
   "outputs": [
    {
     "data": {
      "image/png": "[encoded data removed]",
      "text/plain": [
       "<Figure size 432x288 with 1 Axes>"
      ]
     },
     "metadata": {
      "needs_background": "light"
     },
     "output_type": "display_data"
    }
   ],
   "source": [
    "# Код ревьюера\n",
    "\n",
    "df.groupby('tariff')['duration_sum'].hist(legend=True, alpha=0.5, bins=30, density=True);"
   ]
  },
  {
   "cell_type": "markdown",
   "metadata": {},
   "source": [
    "В тариф `ultra` включено 3000 минут разговора, но больше половины от этого почти никто не использует. Среднее значение израсходованных минут - 526 минут.\n",
    "\n",
    "Это нормальное распределение, но датасет скошен вправо. Об этом говорит гистограмма и тот факт, что медиана меньше среднего.\n",
    "\n",
    "В тариф `smart` включено 500 минут разговора, что гораздо ближе к среднему времени израсходованных минут в месяц - 417 минут. Тут тоже нормальное распределение, но датасет не скошен."
   ]
  },
  {
   "cell_type": "markdown",
   "metadata": {},
   "source": [
    "<div class=\"alert alert-success\"; style=\"border-left: 7px solid green\">\n",
    "<h3>✔ Комментарий ревьюера</h3>\n",
    "    \n",
    "Так лучше видно, что в Ультре используют большу звонков, но есть и те, кто использует столько же, сколько клиенты Смарта</div>    \n"
   ]
  },
  {
   "cell_type": "markdown",
   "metadata": {},
   "source": [
    "<div class = \"alert alert-info\" style=\"border-left: 7px solid blue\">\n",
    "<h3>Комментарий студента</h3>\n",
    "\n",
    "Собрала статистику с помощью `groupby`, а гистограммы построила друг на друге для звонков, сообщений, интернет-трафика. Старый код убрала.\n",
    "</div>"
   ]
  },
  {
   "cell_type": "markdown",
   "metadata": {},
   "source": [
    "<div class=\"alert alert-success\"; style=\"border-left: 7px solid green\">\n",
    "<h3>✔ Комментарий ревьюера V.2</h3>\n",
    "    \n",
    "👍\n",
    "</div>    \n"
   ]
  },
  {
   "cell_type": "markdown",
   "metadata": {},
   "source": [
    "#### Шаг 3.2. Сообщения\n",
    "\n",
    "Аналогично посчитаем, сколько смс требуется пользователям каждого тарифа в месяц."
   ]
  },
  {
   "cell_type": "code",
   "execution_count": 17,
   "metadata": {},
   "outputs": [
    {
     "data": {
      "text/html": [
       "<style  type=\"text/css\" >\n",
       "</style><table id=\"T_30796_\" ><thead>    <tr>        <th class=\"blank level0\" ></th>        <th class=\"col_heading level0 col0\" >messages_mean</th>        <th class=\"col_heading level0 col1\" >messages_var</th>        <th class=\"col_heading level0 col2\" >messages_std</th>    </tr>    <tr>        <th class=\"index_name level0\" >tariff</th>        <th class=\"blank\" ></th>        <th class=\"blank\" ></th>        <th class=\"blank\" ></th>    </tr></thead><tbody>\n",
       "                <tr>\n",
       "                        <th id=\"T_30796_level0_row0\" class=\"row_heading level0 row0\" >smart</th>\n",
       "                        <td id=\"T_30796_row0_col0\" class=\"data row0 col0\" >33.38</td>\n",
       "                        <td id=\"T_30796_row0_col1\" class=\"data row0 col1\" >796.81</td>\n",
       "                        <td id=\"T_30796_row0_col2\" class=\"data row0 col2\" >28.23</td>\n",
       "            </tr>\n",
       "            <tr>\n",
       "                        <th id=\"T_30796_level0_row1\" class=\"row_heading level0 row1\" >ultra</th>\n",
       "                        <td id=\"T_30796_row1_col0\" class=\"data row1 col0\" >49.36</td>\n",
       "                        <td id=\"T_30796_row1_col1\" class=\"data row1 col1\" >2285.27</td>\n",
       "                        <td id=\"T_30796_row1_col2\" class=\"data row1 col2\" >47.80</td>\n",
       "            </tr>\n",
       "    </tbody></table>"
      ],
      "text/plain": [
       "<pandas.io.formats.style.Styler at 0x7fe2ca9ba100>"
      ]
     },
     "metadata": {},
     "output_type": "display_data"
    },
    {
     "data": {
      "image/png": "[encoded data removed]",
      "text/plain": [
       "<Figure size 432x288 with 1 Axes>"
      ]
     },
     "metadata": {
      "needs_background": "light"
     },
     "output_type": "display_data"
    }
   ],
   "source": [
    "display(df.groupby('tariff').agg(messages_mean=('messages_count','mean'),\n",
    "                         messages_var=('messages_count','var'),\n",
    "                         messages_std=('messages_count','std')) \\\n",
    "                    .style.format('{:.2f}'))\n",
    "\n",
    "df.groupby('tariff')['messages_count'].hist(legend=True, alpha=0.5, bins=30, density=True);"
   ]
  },
  {
   "cell_type": "markdown",
   "metadata": {},
   "source": [
    "Это похоже на распределение Пуассона. В тариф `ultra` включено 1000 сообщений, хотя пользователи в среднем используют 49. И не используют больше 224.\n",
    "\n",
    "В тариф `smart` включено 50 сообщений, пользователи в среднем используют 33."
   ]
  },
  {
   "cell_type": "markdown",
   "metadata": {},
   "source": [
    "<div class=\"alert alert-success\"; style=\"border-left: 7px solid green\">\n",
    "<h3>✔ Комментарий ревьюера</h3>\n",
    "    \n",
    "Да, это, действительно, распределение Пуассона, т.к. это число событий на временном интервале</div>    \n"
   ]
  },
  {
   "cell_type": "markdown",
   "metadata": {},
   "source": [
    "#### Шаг 3.3. Интернет-трафик\n",
    "\n",
    "Осталось посчитать, сколько интернет-трафика требуется пользователям каждого тарифа в месяц."
   ]
  },
  {
   "cell_type": "code",
   "execution_count": 18,
   "metadata": {},
   "outputs": [
    {
     "data": {
      "text/html": [
       "<style  type=\"text/css\" >\n",
       "</style><table id=\"T_b8fd4_\" ><thead>    <tr>        <th class=\"blank level0\" ></th>        <th class=\"col_heading level0 col0\" >mb_mean</th>        <th class=\"col_heading level0 col1\" >mb_var</th>        <th class=\"col_heading level0 col2\" >mb_std</th>    </tr>    <tr>        <th class=\"index_name level0\" >tariff</th>        <th class=\"blank\" ></th>        <th class=\"blank\" ></th>        <th class=\"blank\" ></th>    </tr></thead><tbody>\n",
       "                <tr>\n",
       "                        <th id=\"T_b8fd4_level0_row0\" class=\"row_heading level0 row0\" >smart</th>\n",
       "                        <td id=\"T_b8fd4_row0_col0\" class=\"data row0 col0\" >16208.39</td>\n",
       "                        <td id=\"T_b8fd4_row0_col1\" class=\"data row0 col1\" >34462496.46</td>\n",
       "                        <td id=\"T_b8fd4_row0_col2\" class=\"data row0 col2\" >5870.48</td>\n",
       "            </tr>\n",
       "            <tr>\n",
       "                        <th id=\"T_b8fd4_level0_row1\" class=\"row_heading level0 row1\" >ultra</th>\n",
       "                        <td id=\"T_b8fd4_row1_col0\" class=\"data row1 col0\" >19468.81</td>\n",
       "                        <td id=\"T_b8fd4_row1_col1\" class=\"data row1 col1\" >101751013.78</td>\n",
       "                        <td id=\"T_b8fd4_row1_col2\" class=\"data row1 col2\" >10087.17</td>\n",
       "            </tr>\n",
       "    </tbody></table>"
      ],
      "text/plain": [
       "<pandas.io.formats.style.Styler at 0x7fe2ca29db80>"
      ]
     },
     "metadata": {},
     "output_type": "display_data"
    },
    {
     "data": {
      "image/png": "[encoded data removed]",
      "text/plain": [
       "<Figure size 432x288 with 1 Axes>"
      ]
     },
     "metadata": {
      "needs_background": "light"
     },
     "output_type": "display_data"
    }
   ],
   "source": [
    "display(df.groupby('tariff').agg(mb_mean=('mb_used','mean'),\n",
    "                         mb_var=('mb_used','var'),\n",
    "                         mb_std=('mb_used','std')) \\\n",
    "                    .style.format('{:.2f}'))\n",
    "\n",
    "df.groupby('tariff')['mb_used'].hist(legend=True, alpha=0.5, bins=30, density=True);"
   ]
  },
  {
   "cell_type": "markdown",
   "metadata": {},
   "source": [
    "Это нормальное распределение. В тариф `ultra` включено примерно 30 гигабайт интернет-трафика (30720 мегабайт), пользователи в среднем используют 20 гигабайт (19468 мегабайт).\n",
    "\n",
    "В тариф `smart` включено примерно 15 гигабайт (15360 мегабайт), пользователи в среднем используют 16 гигабайт (16208 мегабайт). То есть пользователи тарифа `smart` чаще доплачивают за интернет-трафик.\n",
    "\n",
    "\n",
    "Выводы по тарифам:\n",
    "\n",
    "- в тариф `ultra` включено гораздо больше минут разговора и сообщений, чем может понадобится пользователю\n",
    "- в тариф `smart` включено минут разговора и сообщений немного больше, чем в среднем используют пользователи\n",
    "- а вот интернет-трафик в тариф `ultra` включен не с таким большим запасом, а в тариф `smart` мегабайт включено даже меньше, чем в среднем используют пользователи\n",
    "\n",
    "Выводы по пользователям:\n",
    "- пользователи тарифа `ultra` разговаривают по телефону 526 минут в среднем за месяц\n",
    "- пользователи тарифа `smart` разговаривают по телефону 417 минут в среднем за месяц\n",
    "- пользователи тарифа `ultra` отправляют 49 сообщение в среднем за месяц\n",
    "- пользователи тарифа `smart` отправляют 33 сообщений в среднем за месяц\n",
    "- пользователи тарифа `ultra` используют 20 гигабайт интернет-трафика в среднем за месяц\n",
    "- пользователи тарифа `smart` используют 16 гигабайт интернет-трафика в среднем за месяц"
   ]
  },
  {
   "cell_type": "markdown",
   "metadata": {},
   "source": [
    "<div class=\"alert alert-success\"; style=\"border-left: 7px solid green\">\n",
    "<h3>✔ Комментарий ревьюера</h3>\n",
    "    \n",
    "👍</div>    \n"
   ]
  },
  {
   "cell_type": "markdown",
   "metadata": {},
   "source": [
    "### Шаг 4. Проверка гипотез."
   ]
  },
  {
   "cell_type": "markdown",
   "metadata": {},
   "source": [
    "#### 4.1. Гипотеза 1: средняя выручка пользователей тарифов «Ультра» и «Смарт» различаются"
   ]
  },
  {
   "cell_type": "markdown",
   "metadata": {},
   "source": [
    "Нулевая гипотеза - средняя выручка пользователей тарифов «Ультра» равна средней выручке пользователей тарифов «Смарт».\n",
    "\n",
    "Альтернативная гипотеза - средняя выручка пользователей тарифов «Ультра» и «Смарт» различаются.\n",
    "\n",
    "Для проверки гипотезы о равенстве двух средних используем метод scipy.stats.ttest_ind. Так как дисперсии и размер выборок отличаются, передадим в метод параметр equal_var = False.\n",
    "\n",
    "У нас большие выборки, поэтому порог значимости установим 0.01."
   ]
  },
  {
   "cell_type": "markdown",
   "metadata": {},
   "source": [
    "<div class=\"alert alert-success\"; style=\"border-left: 7px solid green\">\n",
    "<h3>✔ Комментарий ревьюера</h3>\n",
    "    \n",
    "Гипотезы сформулированы верно 👍</div>    \n"
   ]
  },
  {
   "cell_type": "code",
   "execution_count": 19,
   "metadata": {},
   "outputs": [
    {
     "name": "stdout",
     "output_type": "stream",
     "text": [
      "p-значение: 4.2606313931076085e-250\n",
      "Отвергаем нулевую гипотезу\n",
      "Разница средних: 0.38\n"
     ]
    }
   ],
   "source": [
    "df_ultra = df[df['tariff_name'] == 'ultra']\n",
    "df_smart = df[df['tariff_name'] == 'smart']\n",
    "\n",
    "alpha = .01\n",
    "\n",
    "results = st.ttest_ind(\n",
    "    df_ultra['user_revenue_per_month'], \n",
    "    df_smart['user_revenue_per_month'],\n",
    "    equal_var = False)\n",
    "\n",
    "print('p-значение:', results.pvalue)\n",
    "\n",
    "if results.pvalue < alpha:\n",
    "    print(\"Отвергаем нулевую гипотезу\")\n",
    "    print('Разница средних:', round((df_ultra['user_revenue_per_month'].mean() - df_smart['user_revenue_per_month'].mean()) / df_ultra['user_revenue_per_month'].mean(), 2))\n",
    "else:\n",
    "    print(\"Не получилось отвергнуть нулевую гипотезу\") "
   ]
  },
  {
   "cell_type": "markdown",
   "metadata": {},
   "source": [
    "Отвергаем нулевую гипотезу в пользу альтернативной - средняя выручка пользователей тарифов «Ультра» и «Смарт» различаются."
   ]
  },
  {
   "cell_type": "markdown",
   "metadata": {},
   "source": [
    "<div class=\"alert alert-success\"; style=\"border-left: 7px solid green\">\n",
    "<h3>✔ Комментарий ревьюера</h3>\n",
    "    \n",
    "Когда отвергается нулевая гипотеза, стоит выводить также разницу в самих средних, например, в `%`, чтобы было понятно, где среднее выше</div>    \n"
   ]
  },
  {
   "cell_type": "markdown",
   "metadata": {},
   "source": [
    "<div class = \"alert alert-info\" style=\"border-left: 7px solid blue\">\n",
    "<h3>Комментарий студента</h3>\n",
    "\n",
    "Правильно вывела разницу средних?\n",
    "</div>"
   ]
  },
  {
   "cell_type": "markdown",
   "metadata": {},
   "source": [
    "<div class=\"alert alert-success\"; style=\"border-left: 7px solid green\">\n",
    "<h3>✔ Комментарий ревьюера V.2</h3>\n",
    "    \n",
    "Да, всё верно 👍</div>    \n"
   ]
  },
  {
   "cell_type": "markdown",
   "metadata": {},
   "source": [
    "#### 4.1. Гипотеза 2: средняя выручка пользователей из Москвы отличается от выручки пользователей из других регионов\n",
    "\n",
    "Нулевая гипотеза - средняя выручка пользователей из Москвы равна средней выручке пользователей из других регионов.\n",
    "\n",
    "Альтернативная гипотеза - средняя выручка пользователей из Москвы отличается от выручки пользователей из других регионов.\n",
    "\n",
    "Для того, чтобы исключить влияние тарифа на выручку, сделаем 2 теста - проверим равенство выручки пользователей из Москвы и других регионов для каждого тарифа отдельно.\n",
    "\n",
    "Для проверки гипотезы о равенстве двух средних используем метод scipy.stats.ttest_ind. Так как дисперсии и размер выборок отличаются, передадим в метод параметр equal_var = False.\n",
    "\n",
    "Получившиеся выборки для Москвы и других городов все еще достаточно большие, поэтому порог значимости установим 0.01."
   ]
  },
  {
   "cell_type": "markdown",
   "metadata": {},
   "source": [
    "<div class=\"alert alert-warning\"; style=\"border-left: 7px solid yellow\" >\n",
    "<h3>!! Комментарий ревьюера</h3>\n",
    "    \n",
    "> Для того, чтобы исключить влияние тарифа на выручку, сделаем 2 теста - проверим равенство выручки пользователей из Москвы и других регионов для каждого тарифа отдельно.\n",
    "\n",
    "Это разумно, но задание вообще говоря требует всё вместе считать. Т.е. согласно заданию нас не интересует ситуация, если вдруг в Москве будет выше средняя выручка из-за того, что там будут только пользователи Ультра\n",
    "</div>    \n"
   ]
  },
  {
   "cell_type": "markdown",
   "metadata": {},
   "source": [
    "<div class = \"alert alert-info\" style=\"border-left: 7px solid blue\">\n",
    "<h3>Комментарий студента</h3>\n",
    "Проверила гипотезу о равенстве средней выручки пользователей из Москвы и из других городов без учета тарифа. Предыдущую проверку для каждого тарифа тоже оставила.\n",
    "</div>"
   ]
  },
  {
   "cell_type": "markdown",
   "metadata": {},
   "source": [
    "<div class=\"alert alert-success\"; style=\"border-left: 7px solid green\">\n",
    "<h3>✔ Комментарий ревьюера V.2</h3>\n",
    "    \n",
    "👍</div>    \n"
   ]
  },
  {
   "cell_type": "code",
   "execution_count": 21,
   "metadata": {},
   "outputs": [
    {
     "name": "stdout",
     "output_type": "stream",
     "text": [
      "ultra: p-значение: 0.8544997530689904\n",
      "ultra: Не получилось отвергнуть нулевую гипотезу\n",
      "ultra: p-значение: 0.15468343176376667\n",
      "smart: Не получилось отвергнуть нулевую гипотезу\n"
     ]
    }
   ],
   "source": [
    "alpha = .01\n",
    "\n",
    "df_ultra_moscow = df_ultra[df_ultra['city'] == 'Москва']\n",
    "df_ultra_other_cityes = df_ultra[df_ultra['city'] != 'Москва']\n",
    "\n",
    "df_smart_moscow = df_smart[df_smart['city'] == 'Москва']\n",
    "df_smart_other_cityes = df_smart[df_smart['city'] != 'Москва']\n",
    "\n",
    "results_ultra = st.ttest_ind(\n",
    "    df_ultra_moscow['user_revenue_per_month'], \n",
    "    df_ultra_other_cityes['user_revenue_per_month'],\n",
    "    equal_var = False)\n",
    "\n",
    "results_smart = st.ttest_ind(\n",
    "    df_smart_moscow['user_revenue_per_month'], \n",
    "    df_smart_other_cityes['user_revenue_per_month'],\n",
    "    equal_var = False)\n",
    "\n",
    "print('ultra: p-значение:', results_ultra.pvalue)\n",
    "\n",
    "if results_ultra.pvalue < alpha:\n",
    "    print(\"ultra: Отвергаем нулевую гипотезу\")\n",
    "else:\n",
    "    print(\"ultra: Не получилось отвергнуть нулевую гипотезу\") \n",
    "    \n",
    "print('ultra: p-значение:', results_smart.pvalue)\n",
    "\n",
    "if results_smart.pvalue < alpha:\n",
    "    print(\"smart: Отвергаем нулевую гипотезу\")\n",
    "else:\n",
    "    print(\"smart: Не получилось отвергнуть нулевую гипотезу\")"
   ]
  },
  {
   "cell_type": "markdown",
   "metadata": {},
   "source": [
    "Проверим также эту гипотезу независимо от тарифа:"
   ]
  },
  {
   "cell_type": "code",
   "execution_count": 22,
   "metadata": {},
   "outputs": [
    {
     "name": "stdout",
     "output_type": "stream",
     "text": [
      "p-значение: 0.5257376663729298\n",
      "ultra: Не получилось отвергнуть нулевую гипотезу\n"
     ]
    }
   ],
   "source": [
    "alpha = .01\n",
    "\n",
    "df_moscow = df[df['city'] == 'Москва']\n",
    "df_other_cityes = df[df['city'] != 'Москва']\n",
    "\n",
    "results = st.ttest_ind(\n",
    "    df_moscow['user_revenue_per_month'], \n",
    "    df_other_cityes['user_revenue_per_month'],\n",
    "    equal_var = False)\n",
    "\n",
    "print('p-значение:', results.pvalue)\n",
    "\n",
    "if results.pvalue < alpha:\n",
    "    print(\"ultra: Отвергаем нулевую гипотезу\")\n",
    "else:\n",
    "    print(\"ultra: Не получилось отвергнуть нулевую гипотезу\") "
   ]
  },
  {
   "cell_type": "markdown",
   "metadata": {},
   "source": [
    "Не получилось отвергнуть нулевую гипотезу в обоих случаях.\n",
    "\n",
    "Выводы: \n",
    "- отвергаем гипотезу о том, что средняя выручка пользователей тарифов «Ультра» и «Смарт» равны;\n",
    "- не удалось отвергнуть гипотезу о том, что средняя выручка пользователей из Москвы равна средней выручке пользователей из других регионов.\n",
    "\n",
    "Для проверки гипотез использовали метод scipy.stats.ttest_ind, который подходит для проверки гипотезы о равенстве двух средних. Чтобы отвергнуть или не отвергать нулевую гипотезу, сравнивали p-value с выбранным порогом значимости 0.01."
   ]
  },
  {
   "cell_type": "markdown",
   "metadata": {},
   "source": [
    "<div class=\"alert alert-warning\"; style=\"border-left: 7px solid yellow\" >\n",
    "<h3>!! Комментарий ревьюера</h3>\n",
    "    \n",
    "Также вообше говоря цель таких тестов это всегда отвержение нулевой гипотезы. Если её отвергнуть не получается, то это мало о чём нам говорит: говорит лишь о том, что у нас недостаточно обоснования, чтобы гипотезу отвергнуть, равенство из этого не следует. Можно об этом почитать последний абзац тут: https://allatambov.github.io/psms/pdf/hypo-test.pdf\n",
    "</div>    \n"
   ]
  },
  {
   "cell_type": "markdown",
   "metadata": {},
   "source": [
    "<div class = \"alert alert-info\" style=\"border-left: 7px solid blue\">\n",
    "<h3>Комментарий студента</h3>\n",
    "Переписала вывод после проверки гипотез в шаге 4, общий вывод в шаге 5.\n",
    "</div>"
   ]
  },
  {
   "cell_type": "markdown",
   "metadata": {},
   "source": [
    "<div class=\"alert alert-success\"; style=\"border-left: 7px solid green\">\n",
    "<h3>✔ Комментарий ревьюера V.2</h3>\n",
    "    \n",
    "👍</div>    \n"
   ]
  },
  {
   "cell_type": "markdown",
   "metadata": {},
   "source": [
    "### Шаг 5. Общий вывод.\n",
    "\n",
    "После предобработки данных выяснили:\n",
    "\n",
    "Выводы по тарифам:\n",
    "\n",
    "- в тариф `ultra` включено гораздо больше минут разговора и сообщений, чем может понадобится пользователю;\n",
    "- в тариф `smart` включено минут разговора и сообщений немного больше, чем в среднем используют пользователи;\n",
    "- а вот интернет-трафик в тариф `ultra` включен не с таким большим запасом, а в тариф `smart` мегабайт включено даже меньше, чем в среднем используют пользователи.\n",
    "\n",
    "Выводы по пользователям:\n",
    "- пользователи тарифа `ultra` разговаривают по телефону 526 минут в среднем за месяц;\n",
    "- пользователи тарифа `smart` разговаривают по телефону 417 минут в среднем за месяц;\n",
    "- пользователи тарифа `ultra` отправляют 49 сообщение в среднем за месяц;\n",
    "- пользователи тарифа `smart` отправляют 33 сообщений в среднем за месяц;\n",
    "- пользователи тарифа `ultra` используют 20 гигабайт интернет-трафика в среднем за месяц;\n",
    "- пользователи тарифа `smart` используют 16 гигабайт интернет-трафика в среднем за месяц.\n",
    "\n",
    "Выводы по проверке гипотез о средней выручке:\n",
    "- отвергаем гипотезу о том, что средняя выручка пользователей тарифов «Ультра» и «Смарт» равны;\n",
    "- не удалось отвергнуть гипотезу о том, что средняя выручка пользователей из Москвы равна средней выручке пользователей из других регионов.\n",
    "\n",
    "Вывод, какой тариф лучше:\n",
    "\n",
    "Пользователи тарифа `ultra` в среднем используют больше трафика, чем пользователи тарифа `smart`. \n",
    "\n",
    "Однако, пакет `smart` включает:\n",
    "- 500 минут разговора;\n",
    "- 50 сообщений;\n",
    "- 15 гигабайт интернет-трафика.\n",
    "\n",
    "Пользователи `ultra` используют в среднем:\n",
    "- 526 минут разговора;\n",
    "- 49 сообщений;\n",
    "- 20 гигабайт интернет-трафика.\n",
    "\n",
    "Ежемесячный платеж за тариф + доплата за 26 минут + доплата за 5 гигабайт интернет-трафика = 1628 рублей. Стоимость тарифа `ultra` составляет 1950 рублей. Значит, клиентам выгоднее тариф `smart`."
   ]
  },
  {
   "cell_type": "markdown",
   "metadata": {},
   "source": [
    "<div class=\"alert alert-danger\"; style=\"border-left: 7px solid red\">\n",
    "<h3>👀 Комментарий ревьюера</h3>\n",
    "    \n",
    "Ответа на главный вопрос не хватает:\n",
    "    \n",
    "> Нужно проанализировать поведение клиентов и сделать вывод — какой тариф лучше.\n",
    "    \n",
    "В этом смысле можно сравнить, на сколько больше трафика используют клиенты Ультры и на сколько больше платят\n",
    "</div> "
   ]
  },
  {
   "cell_type": "markdown",
   "metadata": {},
   "source": [
    "<div class = \"alert alert-info\" style=\"border-left: 7px solid blue\">\n",
    "<h3>Комментарий студента</h3>\n",
    "Добавила вывод, какой тариф лучше.\n",
    "</div>"
   ]
  },
  {
   "cell_type": "markdown",
   "metadata": {},
   "source": [
    "<div class=\"alert alert-success\"; style=\"border-left: 7px solid green\">\n",
    "<h3>✔ Комментарий ревьюера V.2</h3>\n",
    "    \n",
    "Аналитика обычно в пользу бизнеса проводится, т.е. нужно узнать, какой тариф выгоднее для оператора :) Т.е. для оператора всё в точности наоборот\n",
    "</div>    \n"
   ]
  }
 ],
 "metadata": {
  "ExecuteTimeLog": [
   {
    "duration": 431,
    "start_time": "2022-07-07T14:39:41.012Z"
   },
   {
    "duration": 732,
    "start_time": "2022-07-07T14:43:33.557Z"
   },
   {
    "duration": 402,
    "start_time": "2022-07-07T14:43:43.107Z"
   },
   {
    "duration": 425,
    "start_time": "2022-07-07T14:43:59.485Z"
   },
   {
    "duration": 412,
    "start_time": "2022-07-07T14:44:17.612Z"
   },
   {
    "duration": 443,
    "start_time": "2022-07-07T14:44:35.360Z"
   },
   {
    "duration": 449,
    "start_time": "2022-07-07T14:44:48.983Z"
   },
   {
    "duration": 885,
    "start_time": "2022-07-07T14:45:28.761Z"
   },
   {
    "duration": 641,
    "start_time": "2022-07-07T14:45:48.328Z"
   },
   {
    "duration": 697,
    "start_time": "2022-07-07T14:46:25.694Z"
   },
   {
    "duration": 870,
    "start_time": "2022-07-07T15:11:45.595Z"
   },
   {
    "duration": 532,
    "start_time": "2022-07-07T15:12:01.193Z"
   },
   {
    "duration": 598,
    "start_time": "2022-07-07T16:46:28.658Z"
   },
   {
    "duration": 800,
    "start_time": "2022-07-07T16:54:42.702Z"
   },
   {
    "duration": 9,
    "start_time": "2022-07-07T16:55:00.102Z"
   },
   {
    "duration": 285,
    "start_time": "2022-07-07T16:55:11.629Z"
   },
   {
    "duration": 47,
    "start_time": "2022-07-07T16:56:12.371Z"
   },
   {
    "duration": 112,
    "start_time": "2022-07-07T16:59:06.133Z"
   },
   {
    "duration": 39,
    "start_time": "2022-07-07T16:59:13.950Z"
   },
   {
    "duration": 74,
    "start_time": "2022-07-07T16:59:32.812Z"
   },
   {
    "duration": 115,
    "start_time": "2022-07-07T17:00:08.845Z"
   },
   {
    "duration": 184,
    "start_time": "2022-07-07T17:04:40.073Z"
   },
   {
    "duration": 8,
    "start_time": "2022-07-07T17:07:10.573Z"
   },
   {
    "duration": 72,
    "start_time": "2022-07-07T17:07:25.090Z"
   },
   {
    "duration": 6,
    "start_time": "2022-07-07T17:07:31.073Z"
   },
   {
    "duration": 8,
    "start_time": "2022-07-07T17:09:37.150Z"
   },
   {
    "duration": 8,
    "start_time": "2022-07-07T17:10:02.815Z"
   },
   {
    "duration": 167,
    "start_time": "2022-07-07T17:10:18.159Z"
   },
   {
    "duration": 6,
    "start_time": "2022-07-07T17:10:31.059Z"
   },
   {
    "duration": 16,
    "start_time": "2022-07-07T17:12:43.127Z"
   },
   {
    "duration": 74,
    "start_time": "2022-07-07T17:14:01.082Z"
   },
   {
    "duration": 96,
    "start_time": "2022-07-07T17:14:27.511Z"
   },
   {
    "duration": 364,
    "start_time": "2022-07-13T23:07:36.632Z"
   },
   {
    "duration": 764,
    "start_time": "2022-07-13T23:07:36.998Z"
   },
   {
    "duration": 120,
    "start_time": "2022-07-13T23:07:37.763Z"
   },
   {
    "duration": 186,
    "start_time": "2022-07-13T23:07:37.886Z"
   },
   {
    "duration": 6,
    "start_time": "2022-07-13T23:07:38.074Z"
   },
   {
    "duration": 92,
    "start_time": "2022-07-13T23:07:38.082Z"
   },
   {
    "duration": 10,
    "start_time": "2022-07-13T23:19:54.500Z"
   },
   {
    "duration": 46,
    "start_time": "2022-07-13T23:22:19.918Z"
   },
   {
    "duration": 27,
    "start_time": "2022-07-13T23:27:24.725Z"
   },
   {
    "duration": 35,
    "start_time": "2022-07-13T23:27:40.281Z"
   },
   {
    "duration": 28,
    "start_time": "2022-07-13T23:28:24.691Z"
   },
   {
    "duration": 30,
    "start_time": "2022-07-13T23:28:29.946Z"
   },
   {
    "duration": 59,
    "start_time": "2022-07-13T23:29:33.855Z"
   },
   {
    "duration": 32,
    "start_time": "2022-07-13T23:29:42.682Z"
   },
   {
    "duration": 46,
    "start_time": "2022-07-14T04:27:47.788Z"
   },
   {
    "duration": 410,
    "start_time": "2022-07-14T04:27:52.934Z"
   },
   {
    "duration": 795,
    "start_time": "2022-07-14T04:27:53.346Z"
   },
   {
    "duration": 129,
    "start_time": "2022-07-14T04:27:54.143Z"
   },
   {
    "duration": 218,
    "start_time": "2022-07-14T04:27:54.274Z"
   },
   {
    "duration": 8,
    "start_time": "2022-07-14T04:27:54.494Z"
   },
   {
    "duration": 134,
    "start_time": "2022-07-14T04:27:54.504Z"
   },
   {
    "duration": 11,
    "start_time": "2022-07-14T04:27:54.640Z"
   },
   {
    "duration": 28,
    "start_time": "2022-07-14T04:27:56.170Z"
   },
   {
    "duration": 29,
    "start_time": "2022-07-14T04:28:15.312Z"
   },
   {
    "duration": 30,
    "start_time": "2022-07-14T04:28:26.751Z"
   },
   {
    "duration": 33,
    "start_time": "2022-07-14T04:28:50.502Z"
   },
   {
    "duration": 46,
    "start_time": "2022-07-14T04:29:09.064Z"
   },
   {
    "duration": 34,
    "start_time": "2022-07-14T04:29:15.817Z"
   },
   {
    "duration": 233,
    "start_time": "2022-07-14T04:30:16.168Z"
   },
   {
    "duration": 31,
    "start_time": "2022-07-14T04:32:47.182Z"
   },
   {
    "duration": 33,
    "start_time": "2022-07-14T04:32:58.313Z"
   },
   {
    "duration": 30,
    "start_time": "2022-07-14T04:37:17.817Z"
   },
   {
    "duration": 33,
    "start_time": "2022-07-14T04:37:28.708Z"
   },
   {
    "duration": 32,
    "start_time": "2022-07-14T04:37:53.346Z"
   },
   {
    "duration": 33,
    "start_time": "2022-07-14T04:38:00.555Z"
   },
   {
    "duration": 32,
    "start_time": "2022-07-14T04:38:37.633Z"
   },
   {
    "duration": 54,
    "start_time": "2022-07-14T04:40:52.385Z"
   },
   {
    "duration": 51,
    "start_time": "2022-07-14T04:41:00.481Z"
   },
   {
    "duration": 9,
    "start_time": "2022-07-14T05:45:56.594Z"
   },
   {
    "duration": 46,
    "start_time": "2022-07-14T05:47:15.144Z"
   },
   {
    "duration": 39,
    "start_time": "2022-07-14T05:47:37.197Z"
   },
   {
    "duration": 48,
    "start_time": "2022-07-14T05:48:04.685Z"
   },
   {
    "duration": 9,
    "start_time": "2022-07-14T05:49:28.499Z"
   },
   {
    "duration": 38,
    "start_time": "2022-07-14T05:50:18.647Z"
   },
   {
    "duration": 32,
    "start_time": "2022-07-14T05:51:08.164Z"
   },
   {
    "duration": 10,
    "start_time": "2022-07-14T05:55:03.457Z"
   },
   {
    "duration": 794,
    "start_time": "2022-07-14T05:58:01.134Z"
   },
   {
    "duration": 9,
    "start_time": "2022-07-14T05:58:13.122Z"
   },
   {
    "duration": 14,
    "start_time": "2022-07-14T06:01:49.866Z"
   },
   {
    "duration": 19,
    "start_time": "2022-07-14T06:03:01.816Z"
   },
   {
    "duration": 75,
    "start_time": "2022-07-14T06:16:53.607Z"
   },
   {
    "duration": 23,
    "start_time": "2022-07-14T06:16:58.838Z"
   },
   {
    "duration": 8,
    "start_time": "2022-07-14T06:20:15.107Z"
   },
   {
    "duration": 27,
    "start_time": "2022-07-14T06:20:24.843Z"
   },
   {
    "duration": 40,
    "start_time": "2022-07-14T06:20:32.936Z"
   },
   {
    "duration": 36,
    "start_time": "2022-07-14T06:21:30.660Z"
   },
   {
    "duration": 33,
    "start_time": "2022-07-14T06:23:23.421Z"
   },
   {
    "duration": 42,
    "start_time": "2022-07-14T06:23:49.968Z"
   },
   {
    "duration": 65,
    "start_time": "2022-07-14T06:25:04.389Z"
   },
   {
    "duration": 62,
    "start_time": "2022-07-14T06:25:14.381Z"
   },
   {
    "duration": 40,
    "start_time": "2022-07-14T06:25:19.679Z"
   },
   {
    "duration": 37,
    "start_time": "2022-07-14T06:25:23.842Z"
   },
   {
    "duration": 35,
    "start_time": "2022-07-14T06:25:28.948Z"
   },
   {
    "duration": 27,
    "start_time": "2022-07-14T06:25:47.638Z"
   },
   {
    "duration": 25,
    "start_time": "2022-07-14T06:26:09.139Z"
   },
   {
    "duration": 28,
    "start_time": "2022-07-14T06:27:24.892Z"
   },
   {
    "duration": 22,
    "start_time": "2022-07-14T06:28:08.418Z"
   },
   {
    "duration": 9,
    "start_time": "2022-07-14T06:29:02.515Z"
   },
   {
    "duration": 13,
    "start_time": "2022-07-14T06:29:09.520Z"
   },
   {
    "duration": 19,
    "start_time": "2022-07-14T06:29:56.009Z"
   },
   {
    "duration": 15,
    "start_time": "2022-07-14T06:30:18.218Z"
   },
   {
    "duration": 8,
    "start_time": "2022-07-14T06:30:27.362Z"
   },
   {
    "duration": 18,
    "start_time": "2022-07-14T06:30:44.017Z"
   },
   {
    "duration": 14,
    "start_time": "2022-07-14T06:31:00.212Z"
   },
   {
    "duration": 186,
    "start_time": "2022-07-14T06:32:15.319Z"
   },
   {
    "duration": 11,
    "start_time": "2022-07-14T06:32:23.084Z"
   },
   {
    "duration": 27,
    "start_time": "2022-07-14T06:32:40.983Z"
   },
   {
    "duration": 16,
    "start_time": "2022-07-14T06:33:53.349Z"
   },
   {
    "duration": 11,
    "start_time": "2022-07-14T06:34:24.023Z"
   },
   {
    "duration": 8,
    "start_time": "2022-07-14T06:34:38.630Z"
   },
   {
    "duration": 13,
    "start_time": "2022-07-14T06:34:51.766Z"
   },
   {
    "duration": 11,
    "start_time": "2022-07-14T06:34:59.366Z"
   },
   {
    "duration": 38,
    "start_time": "2022-07-14T06:35:09.177Z"
   },
   {
    "duration": 54,
    "start_time": "2022-07-14T07:16:17.914Z"
   },
   {
    "duration": 20,
    "start_time": "2022-07-14T07:21:35.669Z"
   },
   {
    "duration": 16,
    "start_time": "2022-07-14T07:22:09.726Z"
   },
   {
    "duration": 22,
    "start_time": "2022-07-14T07:22:40.232Z"
   },
   {
    "duration": 20,
    "start_time": "2022-07-14T07:22:57.044Z"
   },
   {
    "duration": 305,
    "start_time": "2022-07-14T07:23:10.151Z"
   },
   {
    "duration": 16,
    "start_time": "2022-07-14T07:23:20.485Z"
   },
   {
    "duration": 23,
    "start_time": "2022-07-14T07:23:29.586Z"
   },
   {
    "duration": 21,
    "start_time": "2022-07-14T07:23:36.333Z"
   },
   {
    "duration": 19,
    "start_time": "2022-07-14T07:23:42.036Z"
   },
   {
    "duration": 22,
    "start_time": "2022-07-14T07:23:52.416Z"
   },
   {
    "duration": 47,
    "start_time": "2022-07-14T09:09:43.041Z"
   },
   {
    "duration": 400,
    "start_time": "2022-07-14T09:09:55.260Z"
   },
   {
    "duration": 1117,
    "start_time": "2022-07-14T09:09:55.662Z"
   },
   {
    "duration": 123,
    "start_time": "2022-07-14T09:09:56.781Z"
   },
   {
    "duration": 194,
    "start_time": "2022-07-14T09:09:56.906Z"
   },
   {
    "duration": 6,
    "start_time": "2022-07-14T09:09:57.102Z"
   },
   {
    "duration": 95,
    "start_time": "2022-07-14T09:09:57.109Z"
   },
   {
    "duration": 60,
    "start_time": "2022-07-14T09:09:57.206Z"
   },
   {
    "duration": 35,
    "start_time": "2022-07-14T09:09:57.267Z"
   },
   {
    "duration": 47,
    "start_time": "2022-07-14T09:09:57.304Z"
   },
   {
    "duration": 9,
    "start_time": "2022-07-14T09:09:57.353Z"
   },
   {
    "duration": 39,
    "start_time": "2022-07-14T09:09:57.364Z"
   },
   {
    "duration": 995,
    "start_time": "2022-07-29T09:12:59.075Z"
   },
   {
    "duration": 1070,
    "start_time": "2022-07-29T09:13:00.072Z"
   },
   {
    "duration": 119,
    "start_time": "2022-07-29T09:13:01.144Z"
   },
   {
    "duration": 178,
    "start_time": "2022-07-29T09:13:01.264Z"
   },
   {
    "duration": 5,
    "start_time": "2022-07-29T09:13:01.444Z"
   },
   {
    "duration": 89,
    "start_time": "2022-07-29T09:13:01.450Z"
   },
   {
    "duration": 43,
    "start_time": "2022-07-29T09:13:01.540Z"
   },
   {
    "duration": 52,
    "start_time": "2022-07-29T09:13:01.585Z"
   },
   {
    "duration": 33,
    "start_time": "2022-07-29T09:13:01.639Z"
   },
   {
    "duration": 38,
    "start_time": "2022-07-29T09:13:01.673Z"
   },
   {
    "duration": 133,
    "start_time": "2022-07-29T09:13:01.713Z"
   },
   {
    "duration": 326,
    "start_time": "2022-07-29T09:13:01.848Z"
   },
   {
    "duration": 417,
    "start_time": "2022-07-29T09:13:02.175Z"
   },
   {
    "duration": 421,
    "start_time": "2022-07-29T09:13:02.595Z"
   },
   {
    "duration": 7,
    "start_time": "2022-07-29T09:13:03.018Z"
   },
   {
    "duration": 19,
    "start_time": "2022-07-29T09:13:03.026Z"
   },
   {
    "duration": 7,
    "start_time": "2022-07-29T09:36:30.071Z"
   },
   {
    "duration": 116,
    "start_time": "2022-07-29T09:39:00.609Z"
   },
   {
    "duration": 17,
    "start_time": "2022-07-29T09:39:06.606Z"
   },
   {
    "duration": 77,
    "start_time": "2022-07-29T09:39:28.506Z"
   },
   {
    "duration": 78,
    "start_time": "2022-07-29T09:39:41.398Z"
   },
   {
    "duration": 43,
    "start_time": "2022-07-29T09:39:45.469Z"
   },
   {
    "duration": 12,
    "start_time": "2022-07-29T09:39:51.161Z"
   },
   {
    "duration": 306,
    "start_time": "2022-07-29T09:40:37.762Z"
   },
   {
    "duration": 216,
    "start_time": "2022-07-29T09:40:42.401Z"
   },
   {
    "duration": 104,
    "start_time": "2022-07-29T09:44:44.459Z"
   },
   {
    "duration": 1225,
    "start_time": "2022-08-09T17:06:17.724Z"
   },
   {
    "duration": 891,
    "start_time": "2022-08-09T17:06:18.951Z"
   },
   {
    "duration": 111,
    "start_time": "2022-08-09T17:06:19.844Z"
   },
   {
    "duration": 145,
    "start_time": "2022-08-09T17:06:19.958Z"
   },
   {
    "duration": 6,
    "start_time": "2022-08-09T17:06:20.104Z"
   },
   {
    "duration": 96,
    "start_time": "2022-08-09T17:06:20.111Z"
   },
   {
    "duration": 9,
    "start_time": "2022-08-09T17:06:20.208Z"
   },
   {
    "duration": 131,
    "start_time": "2022-08-09T17:06:20.218Z"
   },
   {
    "duration": 0,
    "start_time": "2022-08-09T17:06:20.350Z"
   },
   {
    "duration": 106,
    "start_time": "2022-08-09T17:10:00.769Z"
   },
   {
    "duration": 11,
    "start_time": "2022-08-09T17:10:04.600Z"
   },
   {
    "duration": 1223,
    "start_time": "2022-08-10T01:02:06.841Z"
   },
   {
    "duration": 1062,
    "start_time": "2022-08-10T01:02:08.066Z"
   },
   {
    "duration": 125,
    "start_time": "2022-08-10T01:02:09.130Z"
   },
   {
    "duration": 177,
    "start_time": "2022-08-10T01:02:09.257Z"
   },
   {
    "duration": 6,
    "start_time": "2022-08-10T01:02:09.436Z"
   },
   {
    "duration": 98,
    "start_time": "2022-08-10T01:02:09.444Z"
   },
   {
    "duration": 128,
    "start_time": "2022-08-10T01:02:09.544Z"
   },
   {
    "duration": 47,
    "start_time": "2022-08-10T01:02:09.674Z"
   },
   {
    "duration": 31,
    "start_time": "2022-08-10T01:02:09.723Z"
   },
   {
    "duration": 56,
    "start_time": "2022-08-10T01:02:09.757Z"
   },
   {
    "duration": 124,
    "start_time": "2022-08-10T01:02:09.815Z"
   },
   {
    "duration": 7,
    "start_time": "2022-08-10T01:02:09.941Z"
   },
   {
    "duration": 6,
    "start_time": "2022-08-10T01:03:10.917Z"
   },
   {
    "duration": 8,
    "start_time": "2022-08-10T01:03:21.356Z"
   },
   {
    "duration": 3,
    "start_time": "2022-08-10T01:04:19.529Z"
   },
   {
    "duration": 818,
    "start_time": "2022-08-10T01:04:19.536Z"
   },
   {
    "duration": 122,
    "start_time": "2022-08-10T01:04:20.356Z"
   },
   {
    "duration": 167,
    "start_time": "2022-08-10T01:04:20.479Z"
   },
   {
    "duration": 6,
    "start_time": "2022-08-10T01:04:20.648Z"
   },
   {
    "duration": 103,
    "start_time": "2022-08-10T01:04:20.656Z"
   },
   {
    "duration": 128,
    "start_time": "2022-08-10T01:04:20.760Z"
   },
   {
    "duration": 34,
    "start_time": "2022-08-10T01:04:20.890Z"
   },
   {
    "duration": 32,
    "start_time": "2022-08-10T01:04:20.925Z"
   },
   {
    "duration": 69,
    "start_time": "2022-08-10T01:04:20.959Z"
   },
   {
    "duration": 119,
    "start_time": "2022-08-10T01:04:21.032Z"
   },
   {
    "duration": 8,
    "start_time": "2022-08-10T01:04:21.153Z"
   },
   {
    "duration": 11,
    "start_time": "2022-08-10T01:04:21.163Z"
   },
   {
    "duration": 381,
    "start_time": "2022-08-10T01:04:21.176Z"
   },
   {
    "duration": 73,
    "start_time": "2022-08-10T01:04:21.559Z"
   },
   {
    "duration": 264,
    "start_time": "2022-08-10T01:04:21.634Z"
   },
   {
    "duration": 387,
    "start_time": "2022-08-10T01:04:21.900Z"
   },
   {
    "duration": 518,
    "start_time": "2022-08-10T01:04:22.290Z"
   },
   {
    "duration": 7,
    "start_time": "2022-08-10T01:04:22.809Z"
   },
   {
    "duration": 28,
    "start_time": "2022-08-10T01:04:22.817Z"
   },
   {
    "duration": 50,
    "start_time": "2022-08-10T01:06:25.555Z"
   },
   {
    "duration": 44,
    "start_time": "2022-08-10T01:13:41.139Z"
   },
   {
    "duration": 9,
    "start_time": "2022-08-10T01:14:15.872Z"
   },
   {
    "duration": 289,
    "start_time": "2022-08-10T01:14:17.563Z"
   },
   {
    "duration": 42,
    "start_time": "2022-08-10T01:14:30.056Z"
   },
   {
    "duration": 1365,
    "start_time": "2022-08-11T19:00:39.307Z"
   },
   {
    "duration": 1068,
    "start_time": "2022-08-11T19:00:40.674Z"
   },
   {
    "duration": 130,
    "start_time": "2022-08-11T19:00:41.744Z"
   },
   {
    "duration": 202,
    "start_time": "2022-08-11T19:00:41.876Z"
   },
   {
    "duration": 7,
    "start_time": "2022-08-11T19:00:42.081Z"
   },
   {
    "duration": 108,
    "start_time": "2022-08-11T19:00:42.089Z"
   },
   {
    "duration": 141,
    "start_time": "2022-08-11T19:00:42.199Z"
   },
   {
    "duration": 51,
    "start_time": "2022-08-11T19:00:42.342Z"
   },
   {
    "duration": 33,
    "start_time": "2022-08-11T19:00:42.396Z"
   },
   {
    "duration": 62,
    "start_time": "2022-08-11T19:00:42.432Z"
   },
   {
    "duration": 130,
    "start_time": "2022-08-11T19:00:42.496Z"
   },
   {
    "duration": 8,
    "start_time": "2022-08-11T19:00:42.627Z"
   },
   {
    "duration": 15,
    "start_time": "2022-08-11T19:00:42.636Z"
   },
   {
    "duration": 380,
    "start_time": "2022-08-11T19:00:42.669Z"
   },
   {
    "duration": 59,
    "start_time": "2022-08-11T19:00:43.051Z"
   },
   {
    "duration": 286,
    "start_time": "2022-08-11T19:00:43.112Z"
   },
   {
    "duration": 435,
    "start_time": "2022-08-11T19:00:43.400Z"
   },
   {
    "duration": 516,
    "start_time": "2022-08-11T19:00:43.837Z"
   },
   {
    "duration": 13,
    "start_time": "2022-08-11T19:00:44.355Z"
   },
   {
    "duration": 13,
    "start_time": "2022-08-11T19:00:44.370Z"
   },
   {
    "duration": 9,
    "start_time": "2022-08-11T19:00:44.385Z"
   },
   {
    "duration": 185,
    "start_time": "2022-08-11T21:35:55.050Z"
   },
   {
    "duration": 3,
    "start_time": "2022-08-11T21:36:00.157Z"
   },
   {
    "duration": 1377,
    "start_time": "2022-08-11T21:36:00.162Z"
   },
   {
    "duration": 121,
    "start_time": "2022-08-11T21:36:01.541Z"
   },
   {
    "duration": 141,
    "start_time": "2022-08-11T21:36:06.814Z"
   },
   {
    "duration": 24,
    "start_time": "2022-08-11T21:37:35.014Z"
   },
   {
    "duration": 1360,
    "start_time": "2022-08-11T22:05:36.490Z"
   },
   {
    "duration": 1438,
    "start_time": "2022-08-11T22:06:09.074Z"
   },
   {
    "duration": 1356,
    "start_time": "2022-08-11T22:06:57.217Z"
   },
   {
    "duration": 2,
    "start_time": "2022-08-11T22:07:22.820Z"
   },
   {
    "duration": 1023,
    "start_time": "2022-08-11T22:07:22.826Z"
   },
   {
    "duration": 102,
    "start_time": "2022-08-11T22:07:23.868Z"
   },
   {
    "duration": 147,
    "start_time": "2022-08-11T22:07:23.971Z"
   },
   {
    "duration": 1516,
    "start_time": "2022-08-11T22:07:29.578Z"
   },
   {
    "duration": 9,
    "start_time": "2022-08-11T22:09:43.787Z"
   },
   {
    "duration": 11,
    "start_time": "2022-08-11T22:09:52.314Z"
   },
   {
    "duration": 24,
    "start_time": "2022-08-11T22:10:13.517Z"
   },
   {
    "duration": 10,
    "start_time": "2022-08-11T22:10:19.314Z"
   },
   {
    "duration": 16,
    "start_time": "2022-08-11T22:10:35.793Z"
   },
   {
    "duration": 26,
    "start_time": "2022-08-11T22:10:57.389Z"
   },
   {
    "duration": 7,
    "start_time": "2022-08-11T22:11:27.527Z"
   },
   {
    "duration": 11,
    "start_time": "2022-08-11T22:11:31.484Z"
   },
   {
    "duration": 15,
    "start_time": "2022-08-11T22:11:40.000Z"
   },
   {
    "duration": 926,
    "start_time": "2022-08-11T22:12:23.607Z"
   },
   {
    "duration": 928,
    "start_time": "2022-08-11T22:12:55.759Z"
   },
   {
    "duration": 94,
    "start_time": "2022-08-11T22:13:12.217Z"
   },
   {
    "duration": 180,
    "start_time": "2022-08-11T22:13:14.922Z"
   },
   {
    "duration": 153,
    "start_time": "2022-08-11T22:19:21.121Z"
   },
   {
    "duration": 5,
    "start_time": "2022-08-11T22:26:28.140Z"
   },
   {
    "duration": 161,
    "start_time": "2022-08-11T22:29:04.466Z"
   },
   {
    "duration": 3,
    "start_time": "2022-08-11T22:30:22.775Z"
   },
   {
    "duration": 966,
    "start_time": "2022-08-11T22:30:22.780Z"
   },
   {
    "duration": 132,
    "start_time": "2022-08-11T22:30:23.748Z"
   },
   {
    "duration": 198,
    "start_time": "2022-08-11T22:30:23.881Z"
   },
   {
    "duration": 7,
    "start_time": "2022-08-11T22:30:24.081Z"
   },
   {
    "duration": 102,
    "start_time": "2022-08-11T22:30:24.090Z"
   },
   {
    "duration": 117,
    "start_time": "2022-08-11T22:30:33.697Z"
   },
   {
    "duration": 11,
    "start_time": "2022-08-11T22:34:27.295Z"
   },
   {
    "duration": 30,
    "start_time": "2022-08-11T22:34:33.515Z"
   },
   {
    "duration": 33,
    "start_time": "2022-08-11T22:34:41.184Z"
   },
   {
    "duration": 3,
    "start_time": "2022-08-11T22:36:18.175Z"
   },
   {
    "duration": 995,
    "start_time": "2022-08-11T22:36:18.180Z"
   },
   {
    "duration": 128,
    "start_time": "2022-08-11T22:36:19.177Z"
   },
   {
    "duration": 200,
    "start_time": "2022-08-11T22:36:19.307Z"
   },
   {
    "duration": 6,
    "start_time": "2022-08-11T22:36:19.509Z"
   },
   {
    "duration": 102,
    "start_time": "2022-08-11T22:36:19.517Z"
   },
   {
    "duration": 120,
    "start_time": "2022-08-11T22:36:27.059Z"
   },
   {
    "duration": 126,
    "start_time": "2022-08-11T22:36:57.699Z"
   },
   {
    "duration": 124,
    "start_time": "2022-08-11T22:37:08.929Z"
   },
   {
    "duration": 129,
    "start_time": "2022-08-11T22:37:16.558Z"
   },
   {
    "duration": 107,
    "start_time": "2022-08-11T22:37:24.046Z"
   },
   {
    "duration": 1156,
    "start_time": "2022-08-12T14:19:57.498Z"
   },
   {
    "duration": 948,
    "start_time": "2022-08-12T14:19:58.656Z"
   },
   {
    "duration": 132,
    "start_time": "2022-08-12T14:19:59.606Z"
   },
   {
    "duration": 162,
    "start_time": "2022-08-12T14:19:59.740Z"
   },
   {
    "duration": 5,
    "start_time": "2022-08-12T14:19:59.904Z"
   },
   {
    "duration": 82,
    "start_time": "2022-08-12T14:19:59.910Z"
   },
   {
    "duration": 118,
    "start_time": "2022-08-12T14:19:59.993Z"
   },
   {
    "duration": 39,
    "start_time": "2022-08-12T14:20:00.112Z"
   },
   {
    "duration": 33,
    "start_time": "2022-08-12T14:20:13.839Z"
   },
   {
    "duration": 30,
    "start_time": "2022-08-12T14:20:44.228Z"
   },
   {
    "duration": 36,
    "start_time": "2022-08-12T14:20:53.657Z"
   },
   {
    "duration": 84,
    "start_time": "2022-08-12T14:26:28.228Z"
   },
   {
    "duration": 2,
    "start_time": "2022-08-12T14:27:24.095Z"
   },
   {
    "duration": 776,
    "start_time": "2022-08-12T14:27:24.101Z"
   },
   {
    "duration": 117,
    "start_time": "2022-08-12T14:27:24.879Z"
   },
   {
    "duration": 160,
    "start_time": "2022-08-12T14:27:24.998Z"
   },
   {
    "duration": 5,
    "start_time": "2022-08-12T14:27:25.161Z"
   },
   {
    "duration": 102,
    "start_time": "2022-08-12T14:27:25.168Z"
   },
   {
    "duration": 111,
    "start_time": "2022-08-12T14:27:25.271Z"
   },
   {
    "duration": 36,
    "start_time": "2022-08-12T14:27:25.384Z"
   },
   {
    "duration": 39,
    "start_time": "2022-08-12T14:27:25.421Z"
   },
   {
    "duration": 75,
    "start_time": "2022-08-12T14:27:25.461Z"
   },
   {
    "duration": 109,
    "start_time": "2022-08-12T14:27:25.538Z"
   },
   {
    "duration": 6,
    "start_time": "2022-08-12T14:27:25.649Z"
   },
   {
    "duration": 20,
    "start_time": "2022-08-12T14:27:25.657Z"
   },
   {
    "duration": 58,
    "start_time": "2022-08-12T14:27:25.679Z"
   },
   {
    "duration": 271,
    "start_time": "2022-08-12T14:27:25.739Z"
   },
   {
    "duration": 13,
    "start_time": "2022-08-12T14:27:29.160Z"
   },
   {
    "duration": 216,
    "start_time": "2022-08-12T14:28:26.981Z"
   },
   {
    "duration": 213,
    "start_time": "2022-08-12T14:29:56.316Z"
   },
   {
    "duration": 12,
    "start_time": "2022-08-12T14:31:07.554Z"
   },
   {
    "duration": 1256,
    "start_time": "2022-08-13T09:16:34.217Z"
   },
   {
    "duration": 977,
    "start_time": "2022-08-13T09:16:35.475Z"
   },
   {
    "duration": 141,
    "start_time": "2022-08-13T09:16:36.454Z"
   },
   {
    "duration": 199,
    "start_time": "2022-08-13T09:16:36.598Z"
   },
   {
    "duration": 6,
    "start_time": "2022-08-13T09:16:36.799Z"
   },
   {
    "duration": 110,
    "start_time": "2022-08-13T09:16:36.807Z"
   },
   {
    "duration": 136,
    "start_time": "2022-08-13T09:16:36.919Z"
   },
   {
    "duration": 43,
    "start_time": "2022-08-13T09:16:37.057Z"
   },
   {
    "duration": 34,
    "start_time": "2022-08-13T09:16:37.102Z"
   },
   {
    "duration": 60,
    "start_time": "2022-08-13T09:16:37.139Z"
   },
   {
    "duration": 130,
    "start_time": "2022-08-13T09:16:37.201Z"
   },
   {
    "duration": 7,
    "start_time": "2022-08-13T09:16:37.333Z"
   },
   {
    "duration": 9,
    "start_time": "2022-08-13T09:16:37.341Z"
   },
   {
    "duration": 70,
    "start_time": "2022-08-13T09:16:37.352Z"
   },
   {
    "duration": 287,
    "start_time": "2022-08-13T09:16:37.424Z"
   },
   {
    "duration": 270,
    "start_time": "2022-08-13T09:16:37.712Z"
   },
   {
    "duration": 275,
    "start_time": "2022-08-13T09:16:37.984Z"
   },
   {
    "duration": 95,
    "start_time": "2022-08-13T09:16:43.127Z"
   },
   {
    "duration": 13,
    "start_time": "2022-08-13T09:17:29.658Z"
   },
   {
    "duration": 11,
    "start_time": "2022-08-13T09:17:48.060Z"
   },
   {
    "duration": 41,
    "start_time": "2022-08-13T09:39:53.965Z"
   },
   {
    "duration": 10,
    "start_time": "2022-08-13T09:40:30.905Z"
   },
   {
    "duration": 11,
    "start_time": "2022-08-13T09:41:34.636Z"
   },
   {
    "duration": 9,
    "start_time": "2022-08-13T09:42:11.422Z"
   },
   {
    "duration": 9,
    "start_time": "2022-08-13T09:42:20.715Z"
   },
   {
    "duration": 9,
    "start_time": "2022-08-13T09:42:47.658Z"
   },
   {
    "duration": 3,
    "start_time": "2022-08-13T09:45:27.433Z"
   },
   {
    "duration": 1169,
    "start_time": "2022-08-13T09:45:27.438Z"
   },
   {
    "duration": 129,
    "start_time": "2022-08-13T09:45:28.609Z"
   },
   {
    "duration": 204,
    "start_time": "2022-08-13T09:45:28.739Z"
   },
   {
    "duration": 7,
    "start_time": "2022-08-13T09:45:28.945Z"
   },
   {
    "duration": 98,
    "start_time": "2022-08-13T09:45:28.953Z"
   },
   {
    "duration": 136,
    "start_time": "2022-08-13T09:45:29.052Z"
   },
   {
    "duration": 36,
    "start_time": "2022-08-13T09:45:29.192Z"
   },
   {
    "duration": 35,
    "start_time": "2022-08-13T09:45:29.230Z"
   },
   {
    "duration": 59,
    "start_time": "2022-08-13T09:45:29.267Z"
   },
   {
    "duration": 138,
    "start_time": "2022-08-13T09:45:29.328Z"
   },
   {
    "duration": 7,
    "start_time": "2022-08-13T09:45:29.468Z"
   },
   {
    "duration": 17,
    "start_time": "2022-08-13T09:45:29.477Z"
   },
   {
    "duration": 27,
    "start_time": "2022-08-13T09:45:29.496Z"
   },
   {
    "duration": 274,
    "start_time": "2022-08-13T09:45:29.525Z"
   },
   {
    "duration": 349,
    "start_time": "2022-08-13T09:45:29.800Z"
   },
   {
    "duration": 258,
    "start_time": "2022-08-13T09:45:30.150Z"
   },
   {
    "duration": 10,
    "start_time": "2022-08-13T09:45:30.409Z"
   },
   {
    "duration": 24,
    "start_time": "2022-08-13T09:45:30.422Z"
   },
   {
    "duration": 17,
    "start_time": "2022-08-13T09:45:30.448Z"
   },
   {
    "duration": 69,
    "start_time": "2022-08-13T20:08:17.099Z"
   },
   {
    "duration": 1070,
    "start_time": "2022-08-13T20:08:20.799Z"
   },
   {
    "duration": 1104,
    "start_time": "2022-08-13T20:08:21.871Z"
   },
   {
    "duration": 132,
    "start_time": "2022-08-13T20:08:22.977Z"
   },
   {
    "duration": 234,
    "start_time": "2022-08-13T20:08:23.112Z"
   },
   {
    "duration": 5,
    "start_time": "2022-08-13T20:08:23.348Z"
   },
   {
    "duration": 95,
    "start_time": "2022-08-13T20:08:23.354Z"
   },
   {
    "duration": 117,
    "start_time": "2022-08-13T20:08:23.451Z"
   },
   {
    "duration": 40,
    "start_time": "2022-08-13T20:08:23.569Z"
   },
   {
    "duration": 32,
    "start_time": "2022-08-13T20:08:23.611Z"
   },
   {
    "duration": 63,
    "start_time": "2022-08-13T20:08:23.646Z"
   },
   {
    "duration": 116,
    "start_time": "2022-08-13T20:08:23.711Z"
   },
   {
    "duration": 6,
    "start_time": "2022-08-13T20:08:23.829Z"
   },
   {
    "duration": 13,
    "start_time": "2022-08-13T20:08:23.837Z"
   },
   {
    "duration": 65,
    "start_time": "2022-08-13T20:08:23.852Z"
   },
   {
    "duration": 246,
    "start_time": "2022-08-13T20:08:23.919Z"
   },
   {
    "duration": 232,
    "start_time": "2022-08-13T20:08:24.167Z"
   },
   {
    "duration": 232,
    "start_time": "2022-08-13T20:08:24.401Z"
   },
   {
    "duration": 9,
    "start_time": "2022-08-13T20:08:24.634Z"
   },
   {
    "duration": 5,
    "start_time": "2022-08-13T20:08:24.645Z"
   },
   {
    "duration": 11,
    "start_time": "2022-08-13T20:08:24.651Z"
   },
   {
    "duration": 8,
    "start_time": "2022-08-13T20:08:24.663Z"
   },
   {
    "duration": 5,
    "start_time": "2022-08-13T20:09:01.955Z"
   },
   {
    "duration": 8,
    "start_time": "2022-08-13T20:09:07.173Z"
   }
  ],
  "kernelspec": {
   "display_name": "Python 3 (ipykernel)",
   "language": "python",
   "name": "python3"
  },
  "language_info": {
   "codemirror_mode": {
    "name": "ipython",
    "version": 3
   },
   "file_extension": ".py",
   "mimetype": "text/x-python",
   "name": "python",
   "nbconvert_exporter": "python",
   "pygments_lexer": "ipython3",
   "version": "3.9.12"
  },
  "toc": {
   "base_numbering": 1,
   "nav_menu": {},
   "number_sections": true,
   "sideBar": true,
   "skip_h1_title": true,
   "title_cell": "Table of Contents",
   "title_sidebar": "Contents",
   "toc_cell": false,
   "toc_position": {},
   "toc_section_display": true,
   "toc_window_display": false
  }
 },
 "nbformat": 4,
 "nbformat_minor": 2
}
