{
 "cells": [
  {
   "cell_type": "markdown",
   "metadata": {
    "toc": true
   },
   "source": [
    "<h1>Содержание<span class=\"tocSkip\"></span></h1>\n",
    "<div class=\"toc\"><ul class=\"toc-item\"><li><span><a href=\"#Project-description\" data-toc-modified-id=\"Project-description-1\">Project description</a></span></li><li><span><a href=\"#Project-plan:\" data-toc-modified-id=\"Project-plan:-2\">Project plan:</a></span></li><li><span><a href=\"#Data-description\" data-toc-modified-id=\"Data-description-3\">Data description</a></span></li><li><span><a href=\"#Read-data\" data-toc-modified-id=\"Read-data-4\">Read data</a></span></li><li><span><a href=\"#Умножение-матриц\" data-toc-modified-id=\"Умножение-матриц-5\">Умножение матриц</a></span></li><li><span><a href=\"#Алгоритм-преобразования\" data-toc-modified-id=\"Алгоритм-преобразования-6\">Алгоритм преобразования</a></span></li><li><span><a href=\"#Проверка-алгоритма\" data-toc-modified-id=\"Проверка-алгоритма-7\">Проверка алгоритма</a></span></li><li><span><a href=\"#Вывод\" data-toc-modified-id=\"Вывод-8\">Вывод</a></span></li><li><span><a href=\"#Чек-лист-проверки\" data-toc-modified-id=\"Чек-лист-проверки-9\">Чек-лист проверки</a></span></li></ul></div>"
   ]
  },
  {
   "cell_type": "markdown",
   "metadata": {},
   "source": [
    "# Protection of insurance company's customer data\n",
    "\n",
    "## Project description\n",
    "It is necessary to protect the customer data of the insurance company.\n",
    "\n",
    "The task: develop a data conversion method to make it difficult to recover personal information after conversion. Prove the correctness of it's work. \n",
    "\n",
    "Need to protect the data without reducing the quality of machine learning model after conversion. It is not necessary to select the best model.\n",
    "\n",
    "## Project plan:\n",
    "- \n",
    "\n",
    "\n",
    "\n",
    "## Data description\n",
    "__Features:__ gender, age and salary of the insured, the number of his family members.\n",
    "\n",
    "__Target feature__: the number of insurance payments to the client over the last 5 years."
   ]
  },
  {
   "cell_type": "markdown",
   "metadata": {},
   "source": [
    "## Read data"
   ]
  },
  {
   "cell_type": "code",
   "execution_count": 1,
   "metadata": {},
   "outputs": [],
   "source": [
    "import pandas as pd\n",
    "import numpy as np\n",
    "from sklearn.model_selection import train_test_split\n",
    "from sklearn.linear_model import LinearRegression\n",
    "from sklearn.metrics import r2_score\n",
    "\n",
    "from sklearn.preprocessing import FunctionTransformer\n",
    "from sklearn.pipeline import Pipeline"
   ]
  },
  {
   "cell_type": "code",
   "execution_count": 2,
   "metadata": {},
   "outputs": [
    {
     "data": {
      "text/html": [
       "<div>\n",
       "<style scoped>\n",
       "    .dataframe tbody tr th:only-of-type {\n",
       "        vertical-align: middle;\n",
       "    }\n",
       "\n",
       "    .dataframe tbody tr th {\n",
       "        vertical-align: top;\n",
       "    }\n",
       "\n",
       "    .dataframe thead th {\n",
       "        text-align: right;\n",
       "    }\n",
       "</style>\n",
       "<table border=\"1\" class=\"dataframe\">\n",
       "  <thead>\n",
       "    <tr style=\"text-align: right;\">\n",
       "      <th></th>\n",
       "      <th>Пол</th>\n",
       "      <th>Возраст</th>\n",
       "      <th>Зарплата</th>\n",
       "      <th>Члены семьи</th>\n",
       "      <th>Страховые выплаты</th>\n",
       "    </tr>\n",
       "  </thead>\n",
       "  <tbody>\n",
       "    <tr>\n",
       "      <th>0</th>\n",
       "      <td>1</td>\n",
       "      <td>41.0</td>\n",
       "      <td>49600.0</td>\n",
       "      <td>1</td>\n",
       "      <td>0</td>\n",
       "    </tr>\n",
       "    <tr>\n",
       "      <th>1</th>\n",
       "      <td>0</td>\n",
       "      <td>46.0</td>\n",
       "      <td>38000.0</td>\n",
       "      <td>1</td>\n",
       "      <td>1</td>\n",
       "    </tr>\n",
       "    <tr>\n",
       "      <th>2</th>\n",
       "      <td>0</td>\n",
       "      <td>29.0</td>\n",
       "      <td>21000.0</td>\n",
       "      <td>0</td>\n",
       "      <td>0</td>\n",
       "    </tr>\n",
       "    <tr>\n",
       "      <th>3</th>\n",
       "      <td>0</td>\n",
       "      <td>21.0</td>\n",
       "      <td>41700.0</td>\n",
       "      <td>2</td>\n",
       "      <td>0</td>\n",
       "    </tr>\n",
       "    <tr>\n",
       "      <th>4</th>\n",
       "      <td>1</td>\n",
       "      <td>28.0</td>\n",
       "      <td>26100.0</td>\n",
       "      <td>0</td>\n",
       "      <td>0</td>\n",
       "    </tr>\n",
       "  </tbody>\n",
       "</table>\n",
       "</div>"
      ],
      "text/plain": [
       "   Пол  Возраст  Зарплата  Члены семьи  Страховые выплаты\n",
       "0    1     41.0   49600.0            1                  0\n",
       "1    0     46.0   38000.0            1                  1\n",
       "2    0     29.0   21000.0            0                  0\n",
       "3    0     21.0   41700.0            2                  0\n",
       "4    1     28.0   26100.0            0                  0"
      ]
     },
     "metadata": {},
     "output_type": "display_data"
    },
    {
     "name": "stdout",
     "output_type": "stream",
     "text": [
      "<class 'pandas.core.frame.DataFrame'>\n",
      "RangeIndex: 5000 entries, 0 to 4999\n",
      "Data columns (total 5 columns):\n",
      " #   Column             Non-Null Count  Dtype  \n",
      "---  ------             --------------  -----  \n",
      " 0   Пол                5000 non-null   int64  \n",
      " 1   Возраст            5000 non-null   float64\n",
      " 2   Зарплата           5000 non-null   float64\n",
      " 3   Члены семьи        5000 non-null   int64  \n",
      " 4   Страховые выплаты  5000 non-null   int64  \n",
      "dtypes: float64(2), int64(3)\n",
      "memory usage: 195.4 KB\n"
     ]
    }
   ],
   "source": [
    "df = pd.read_csv('/datasets/insurance.csv')\n",
    "display(df.head())\n",
    "df.info()"
   ]
  },
  {
   "cell_type": "markdown",
   "metadata": {},
   "source": [
    "There are no missing values, the column values are numerical."
   ]
  },
  {
   "cell_type": "markdown",
   "metadata": {},
   "source": [
    "## Умножение матриц"
   ]
  },
  {
   "cell_type": "markdown",
   "metadata": {},
   "source": [
    "Обозначения:\n",
    "\n",
    "- $X$ — матрица признаков (нулевой столбец состоит из единиц)\n",
    "\n",
    "- $y$ — вектор целевого признака\n",
    "\n",
    "- $P$ — матрица, на которую умножаются признаки\n",
    "\n",
    "- $w$ — вектор весов линейной регрессии (нулевой элемент равен сдвигу)"
   ]
  },
  {
   "cell_type": "markdown",
   "metadata": {},
   "source": [
    "Предсказания:\n",
    "\n",
    "$$\n",
    "a = Xw\n",
    "$$\n",
    "\n",
    "Задача обучения:\n",
    "\n",
    "$$\n",
    "w = \\arg\\min_w MSE(Xw, y)\n",
    "$$\n",
    "\n",
    "Формула обучения:\n",
    "\n",
    "$$\n",
    "w = (X^T X)^{-1} X^T y\n",
    "$$"
   ]
  },
  {
   "cell_type": "markdown",
   "metadata": {},
   "source": [
    "**Вопрос:** Признаки умножают на обратимую матрицу. Изменится ли качество линейной регрессии?\n",
    "\n",
    "**Ответ:** Не изменится.\n",
    "\n",
    "**Обоснование:** Для начала посмотрим, как изменится вектор весов линейной регрессии $w$ при умножении признаков на обратимую матрицу.\n",
    "\n",
    "Веса \"до\":\n",
    "\n",
    "$\n",
    "w = (X^T X)^{-1} X^T y\n",
    "$\n",
    "\n",
    "Веса \"после\":\n",
    "\n",
    "$\n",
    "w_P = ((XP)^T (XP))^{-1} (XP)^T y\n",
    "$\n",
    "\n",
    "Преобразуем выражение \"после\", чтобы привести его к виду, более удобному для сравнения с \"до\".\n",
    "\n",
    "***Свойство о матрицах №1***: Транспонированное произведение матриц равно произведению транспонированных матриц, взятых в обратном порядке. Преобразуем участок:\n",
    "\n",
    "$\n",
    "(XP)^T = P^TX^T\n",
    "$\n",
    "\n",
    "И получим:\n",
    "\n",
    "$\n",
    "((XP)^T (XP))^{-1} (XP)^T y = ((P^TX^T)(XP))^{-1} (P^TX^T) y\n",
    "$\n",
    "\n",
    "***Свойство о матрицах №2***: Ассоциативность умножения:\n",
    "\n",
    "$A(BC) = (AB)C$\n",
    "\n",
    "Преобразуем участок:\n",
    "\n",
    "$\n",
    "(P^TX^T)(XP) = (P^TX^TX)P\n",
    "$\n",
    "\n",
    "И получим:\n",
    "\n",
    "$\n",
    "((P^TX^T)(XP))^{-1} (P^TX^T) y = ((P^TX^TX)P)^{-1} P^TX^T y\n",
    "$\n",
    "\n",
    "***Свойство о матрицах №3***: Произведение обратимых матриц есть обратимая матрица. $P$ и $X^TX$ обратимы по условию. $P^T$ тоже обратима по еще одному свойству матриц. То есть $P^TX^TX$ и $P$ обратимые матрицы.\n",
    "\n",
    "***Свойство о матрицах №4***: Если $A$ и $B$ обратимые матрицы, то:\n",
    "\n",
    "$\n",
    "(AB)^{-1} = B^{-1}A^{-1}\n",
    "$\n",
    "\n",
    "Преобразуем участок:\n",
    "\n",
    "$\n",
    "((P^TX^TX)P)^{-1} = P^{-1}(P^TX^TX)^{-1} = P^{-1}(X^TX)^{-1}(P^T)^{-1}\n",
    "$\n",
    "\n",
    "И получим:\n",
    "\n",
    "$\n",
    "((P^TX^TX)P)^{-1} P^TX^T y = P^{-1}(X^TX)^{-1}(P^T)^{-1} P^TX^T y\n",
    "$\n",
    "\n",
    "***Свойство о матрицах №5***: Умножение матрицы на обратную равно единичной матрице:\n",
    "\n",
    "Преобразуем:\n",
    "\n",
    "$\n",
    "(P^T)^{-1} P^T = E\n",
    "$\n",
    "\n",
    "Получим:\n",
    "\n",
    "$\n",
    "P^{-1}(X^TX)^{-1}(P^T)^{-1} P^TX^T y = P^{-1}(X^TX)^{-1}EX^T y\n",
    "$\n",
    "\n",
    "***Свойство о матрицах №6***: Произведение матрицы на единичную матрицу равняется первоначальной матрице:\n",
    "\n",
    "$\n",
    "P^{-1}(X^TX)^{-1}EX^T y = P^{-1}(X^TX)^{-1}X^T y\n",
    "$\n",
    "\n",
    "***В итоге получили***:\n",
    "\n",
    "$\n",
    "w_P = P^{-1}(X^TX)^{-1}X^T y\n",
    "$\n",
    "\n",
    "Помним, что изначально параметр линейной регрессии:\n",
    "\n",
    "$\n",
    "w = (X^TX)^{-1}X^T y\n",
    "$\n",
    "\n",
    "Следовательно, при умножении признаков на обратимую матрицу $P$ параметр линейной регрессии умножается на обратную матрицу $P^{-1}$.\n",
    "\n",
    "$\n",
    "w_P = P^{-1}w\n",
    "$\n",
    "\n",
    "Подставим параметры в формулы предсказания до и после умножения признаков на обратимую матрицу.\n",
    "\n",
    "До:\n",
    "\n",
    "$\n",
    "a = Xw\n",
    "$\n",
    "\n",
    "После:\n",
    "\n",
    "$\n",
    "a_P = (XP)w_P = (XP)(P^{-1}w) = XPP^{-1}w = XEw = Xw\n",
    "$\n",
    "\n",
    "Получили равенство $a = a_P$.\n",
    "\n",
    "Качество линейной регрессии не изменится, потому что значения предсказаний при переобучении модели не изменится."
   ]
  },
  {
   "cell_type": "markdown",
   "metadata": {},
   "source": [
    "<div class=\"alert alert-success\">\n",
    "<font size=\"5\"><b>Комментарий ревьюера</b></font>\n",
    "\n",
    "\n",
    "\n",
    "Успех 👍:\n",
    "\n",
    "\n",
    "\n",
    "\n",
    "Самая частая ошибка - не учитывают что обратная матрица может быть только у квадратной.  Часто не соблюдают правила матричного преобразования, или меняют матрицы местами при перемножении как цифры.  \n",
    "\n",
    "\n",
    "У тебя все ОК. \n",
    "    \n",
    "\n",
    "\n",
    "\n",
    "\n",
    "\n",
    "    \n",
    "    \n",
    "<div class=\"alert alert-warning\">\n",
    "\n",
    "\n",
    "\n",
    "Совет 🤔:    \n",
    "    \n",
    "    \n",
    "  \n",
    "Есть ещё один способ доказательства   когда мы берём\n",
    "    \n",
    "    \n",
    "$$\n",
    "w = \\arg\\min_w MSE(Xw, y)\n",
    "$$\n",
    "    \n",
    "  \n",
    "и     \n",
    "    \n",
    "$$\n",
    "w_P = \\arg\\min_w MSE(XPw_p, y)\n",
    "$$  \n",
    "    \n",
    "    \n",
    "И делая  замену    w_p, видим что задача  \n",
    "    \n",
    "$$\n",
    "\\arg\\min_w MSE(XPw_p, y)\n",
    "$$\n",
    "    \n",
    "сводится к     \n",
    "  \n",
    "    \n",
    "$$\n",
    "\\arg\\min_w MSE(Xw, y)\n",
    "$$    \n",
    "\n",
    "\n",
    "Осталось только догадаться какую замену мы делаем.  Можешь попробовать решить и таким способом  \n",
    "\n",
    "  \n",
    "</div>\n",
    "    \n",
    "\n",
    "    \n",
    "\n",
    "\n"
   ]
  },
  {
   "cell_type": "markdown",
   "metadata": {},
   "source": [
    "\n",
    "<div class=\"alert alert-danger\">\n",
    "<font size=\"5\"><b>Комментарий ревьюера</b></font>\n",
    "\n",
    "Ошибка ❌:\n",
    "    \n",
    "\n",
    "\n",
    "  \n",
    "Нет ответа на \"как связаны параметры линейной регрессии в исходной задаче и в преобразованной\"\n",
    "\n",
    "Какое соотношение между $w$ и $w_p$?\n",
    "    \n",
    "    \n",
    "Где   \n",
    "\n",
    "\n",
    "\n",
    "$$\n",
    "w = (X^T X)^{-1} X^T y\n",
    "$$\n",
    "    \n",
    "    \n",
    "$$\n",
    "w_P = ((XP)^T XP)^{-1} (XP)^T y\n",
    "$$   \n"
   ]
  },
  {
   "cell_type": "markdown",
   "metadata": {},
   "source": [
    "<div class=\"alert\" style=\"background-color:#ffd65a\"> <b>Комментарий студента:</b> Исправила. Немного изменила обоснование, почему качество линейной регрессии не изменится. Сначала вывела соотношение между $w$ и $w_p$, а потом подставила их в формулу предсказания и доказала равенство предзказаний. Старая версия в ячейке ниже.</div>"
   ]
  },
  {
   "cell_type": "markdown",
   "metadata": {},
   "source": [
    "<div class=\"alert alert-success\">\n",
    "<font size=\"5\"><b>Комментарий ревьюераV2</b></font>\n",
    "\n",
    "\n",
    "\n",
    "Успех 👍:\n",
    "\n",
    "\n",
    "\n",
    "Привет Мария! Заждался я тебя ) Соотношение верное\n",
    "\n",
    "\n",
    "\n",
    "\n",
    "</div>\n"
   ]
  },
  {
   "cell_type": "markdown",
   "metadata": {},
   "source": [
    "Старая версия доказателства:\n",
    "<details>\n",
    "    **Вопрос:** Признаки умножают на обратимую матрицу. Изменится ли качество линейной регрессии?\n",
    "\n",
    "    **Ответ:** Не изменится.\n",
    "\n",
    "    **Обоснование:** Сравним формулы предсказания до и после умножения признаков на обратимую матрицу.\n",
    "\n",
    "    До:\n",
    "\n",
    "    $\n",
    "    a = Xw = X (X^T X)^{-1} X^T y\n",
    "    $\n",
    "\n",
    "    После:\n",
    "\n",
    "    $\n",
    "    a = (XP)w = XP ((XP)^T (XP))^{-1} (XP)^T y\n",
    "    $\n",
    "\n",
    "    Преобразуем выражение \"После\", чтобы доказать его равенство \"До\".\n",
    "\n",
    "    ***Свойство о матрицах №1***: Транспонированное произведение матриц равно произведению транспонированных матриц, взятых в обратном порядке. Преобразуем участок:\n",
    "\n",
    "    $\n",
    "    (XP)^T = P^TX^T\n",
    "    $\n",
    "\n",
    "    И получим:\n",
    "\n",
    "    $\n",
    "    XP ((XP)^T (XP))^{-1} (XP)^T y = XP ((P^TX^T)(XP))^{-1} (P^TX^T) y\n",
    "    $\n",
    "\n",
    "    ***Свойство о матрицах №2***: Ассоциативность умножения:\n",
    "\n",
    "    $A(BC) = (AB)C$\n",
    "\n",
    "    Преобразуем участок:\n",
    "\n",
    "    $\n",
    "    (P^TX^T)(XP) = (P^TX^TX)P\n",
    "    $\n",
    "\n",
    "    И получим:\n",
    "\n",
    "    $\n",
    "    XP ((P^TX^T)(XP))^{-1} (P^TX^T) y = XP ((P^TX^TX)P)^{-1} P^TX^T y\n",
    "    $\n",
    "\n",
    "    ***Свойство о матрицах №3***: Произведение обратимых матриц есть обратимая матрица. $P$ и $X^TX$ обратимы по условию. $P^T$ тоже обратима по еще одному свойству матриц. То есть $P^TX^TX$ и $P$ обратимые матрицы.\n",
    "\n",
    "    ***Свойство о матрицах №4***: Если $A$ и $B$ обратимые матрицы, то:\n",
    "\n",
    "    $\n",
    "    (AB)^{-1} = B^{-1}A^{-1}\n",
    "    $\n",
    "\n",
    "    Преобразуем участок:\n",
    "\n",
    "    $\n",
    "    ((P^TX^TX)P)^{-1} = P^{-1}(P^TX^TX)^{-1} = P^{-1}(X^TX)^{-1}(P^T)^{-1}\n",
    "    $\n",
    "\n",
    "    И получим:\n",
    "\n",
    "    $\n",
    "    XP ((P^TX^TX)P)^{-1} P^TX^T y = XP P^{-1}(X^TX)^{-1}(P^T)^{-1} P^TX^T y\n",
    "    $\n",
    "\n",
    "    ***Свойство о матрицах №5***: Умножение матрицы на обратную равно единичной матрице:\n",
    "\n",
    "    Преобразуем:\n",
    "\n",
    "    $\n",
    "    P P^{-1} = E\n",
    "    $\n",
    "\n",
    "    $\n",
    "    (P^T)^{-1} P^T = E\n",
    "    $\n",
    "\n",
    "    Получим:\n",
    "\n",
    "    $\n",
    "    XP P^{-1}(X^TX)^{-1}(P^T)^{-1} P^TX^T y = XE(X^TX)^{-1}EX^T y\n",
    "    $\n",
    "\n",
    "    ***Свойство о матрицах №6***: Произведение матрицы на единичную матрицу равняется первоначальной матрице:\n",
    "\n",
    "    $\n",
    "    XE(X^TX)^{-1}EX^T y = X(X^TX)^{-1}X^T y\n",
    "    $\n",
    "\n",
    "\n",
    "    Получили равенство $Xw = (XP)w$, доказано.\n",
    "\n",
    "    Качество линейной регрессии не изменится, потому что значения предсказаний при переобучении модели не изменится.\n",
    "</details>"
   ]
  },
  {
   "cell_type": "markdown",
   "metadata": {},
   "source": [
    "## Алгоритм преобразования"
   ]
  },
  {
   "cell_type": "markdown",
   "metadata": {},
   "source": [
    "**Алгоритм**\n",
    "\n",
    "1. Отделить признаки от целевого признака;\n",
    "2. Сгенерировать случайную обратимую матрицу. Она будет квадратной (это условие обратимости матрицы) с размерностью, равной количеству признаков;\n",
    "3. Умножить признаки на обратимую матрицу. Размерность обратимой матрицы подобрана так, что размерность матрицы признаков после преобразования не изменится."
   ]
  },
  {
   "cell_type": "markdown",
   "metadata": {},
   "source": [
    "\n",
    "<div class=\"alert alert-success\">\n",
    "<font size=\"5\"><b>Комментарий ревьюера</b></font>\n",
    "\n",
    "Успех 👍:\n",
    "\n",
    "\n",
    "Принято\n",
    "\n",
    "<div class=\"alert alert-warning\">\n",
    "\n",
    "Совет 🤔:\n",
    "\n",
    "А если сгенерированная матрица будет необратимой? Тут можно расписать порядок действий на все случаи в том числе на этот. Кроме того можно написать как выбираем размер генерируемой матрицы\n",
    "</div>\n"
   ]
  },
  {
   "cell_type": "markdown",
   "metadata": {},
   "source": [
    "<div class=\"alert\" style=\"background-color:#ffd65a\"> <b>Комментарий студента:</b> Добавила объяснение выбранного размера генерируемой матрицы. Объяснения на случай, если сгенерированная матрица будет не обратимой, не добавляла, так как далее исключила риск, что матрица может создаться необратимой.</div>"
   ]
  },
  {
   "cell_type": "markdown",
   "metadata": {},
   "source": [
    "<div class=\"alert alert-warning\">\n",
    "<font size=\"5\"><b>Комментарий ревьюераV2</b></font>\n",
    "\n",
    "\n",
    "\n",
    "Совет 🤔:\n",
    "\n",
    "\n",
    "\n",
    "Так в алгоритме стоило прописать логику с помощью которой ты будешь гарантировать обратимость матрицы:\n",
    "    \n",
    "    \n",
    "    \n",
    "...\n",
    "    \n",
    "    \n",
    "3. Генерируем матрицу такого-то размера\n",
    "    \n",
    "    \n",
    "4. Проверяем Матрицу на обратимость\n",
    "    \n",
    "    \n",
    "    \n",
    "5. Если Матрица необратимая возвращаемся в пункт 3    "
   ]
  },
  {
   "cell_type": "markdown",
   "metadata": {},
   "source": [
    "**Обоснование**\n",
    "\n",
    "При переобучении модели на преобразованных признаках качество линейной регрессии не изменится, потому что не изменится значения предсказаний. Доказано в пункте 2."
   ]
  },
  {
   "cell_type": "markdown",
   "metadata": {},
   "source": [
    "## Проверка алгоритма"
   ]
  },
  {
   "cell_type": "markdown",
   "metadata": {},
   "source": [
    "Разделим данные на обучающую и валидационную выборки."
   ]
  },
  {
   "cell_type": "code",
   "execution_count": 3,
   "metadata": {},
   "outputs": [],
   "source": [
    "df_features = df.drop(['Страховые выплаты'], axis=1)\n",
    "df_target = df['Страховые выплаты']\n",
    "\n",
    "features_train, features_test, target_train, target_test = train_test_split(df_features,\n",
    "                                                                            df_target,\n",
    "                                                                            train_size=0.25,\n",
    "                                                                            random_state=12345)"
   ]
  },
  {
   "cell_type": "markdown",
   "metadata": {},
   "source": [
    "Обучим модель и посчитаем метрику R2."
   ]
  },
  {
   "cell_type": "code",
   "execution_count": 4,
   "metadata": {},
   "outputs": [
    {
     "data": {
      "text/plain": [
       "array([ 0.1748403 ,  0.77684954,  0.432202  , ...,  0.63476958,\n",
       "       -0.14363463, -0.13233092])"
      ]
     },
     "metadata": {},
     "output_type": "display_data"
    },
    {
     "name": "stdout",
     "output_type": "stream",
     "text": [
      "R2 = 0.4256512934658\n"
     ]
    }
   ],
   "source": [
    "model = LinearRegression()\n",
    "model.fit(features_train, target_train)\n",
    "predictions = model.predict(features_test)\n",
    "\n",
    "display(predictions)\n",
    "print('R2 =', r2_score(target_test, predictions))"
   ]
  },
  {
   "cell_type": "markdown",
   "metadata": {},
   "source": [
    "Теперь проверим, как изменятся предсказания и метрика R2 после применения алгоритма преобразования."
   ]
  },
  {
   "cell_type": "code",
   "execution_count": 5,
   "metadata": {},
   "outputs": [],
   "source": [
    "# create random invertible matrix\n",
    "\n",
    "def get_rand_inv_matrix(n):\n",
    "    det = 0\n",
    "    np.random.seed(123)\n",
    "    while det == 0:\n",
    "        matrix = np.random.normal(size=(n, n))\n",
    "        det = np.linalg.det(matrix)\n",
    "    return matrix"
   ]
  },
  {
   "cell_type": "markdown",
   "metadata": {},
   "source": [
    "\n",
    "\n",
    "\n",
    "<div class=\"alert alert-warning\">\n",
    "<font size=\"5\"><b>Комментарий ревьюера</b></font>\n",
    "\n",
    "Совет 🤔:\n",
    "\n",
    "\n",
    "- ты проверяешь    матрицу на обратимость - отлично, но если она необратимая выскочит ошибка, код не исполнится до конца\n",
    " \n",
    "\n",
    "Можно здесь было сделать похитрей - генерируем матрицу пока не получим обратимую и наш код  гарантированно полностью отработает. Добиться этого можно например так:\n",
    "\n",
    "\n",
    "    \n",
    "    def get_rand_matrix():\n",
    "        det = 0\n",
    "        while det == 0:\n",
    "            matrix = np.random.normal(size=(data.shape[1], data.shape[1]))\n",
    "            det = np.linalg.det(matrix)\n",
    "        return matrix\n",
    "\n",
    "C помощью рекурсии\n",
    "\n",
    "    def func(dim):\n",
    "        transform_matrix = np.random.rand(dim, dim)\n",
    "        try: \n",
    "            inv = np.linalg.inv(transform_matrix)\n",
    "            return transform_matrix, inv\n",
    "        except:\n",
    "            func(dim)  \n",
    "    "
   ]
  },
  {
   "cell_type": "markdown",
   "metadata": {},
   "source": [
    "<div class=\"alert\" style=\"background-color:#ffd65a\"> <b>Комментарий студента:</b> Добавила.</div>"
   ]
  },
  {
   "cell_type": "code",
   "execution_count": 6,
   "metadata": {},
   "outputs": [],
   "source": [
    "def encode_features(df_features):\n",
    "    matrix = get_rand_inv_matrix(df_features.shape[1])\n",
    "    return pd.DataFrame((df_features.values@matrix), columns = df_features.columns)\n",
    "\n",
    "encode_pipeline = Pipeline(steps=[\n",
    "        ('encode_features', FunctionTransformer(encode_features)),\n",
    "        ('model', LinearRegression())\n",
    "])"
   ]
  },
  {
   "cell_type": "code",
   "execution_count": 7,
   "metadata": {},
   "outputs": [
    {
     "data": {
      "text/plain": [
       "array([ 0.1748403 ,  0.77684954,  0.432202  , ...,  0.63476958,\n",
       "       -0.14363463, -0.13233092])"
      ]
     },
     "metadata": {},
     "output_type": "display_data"
    },
    {
     "name": "stdout",
     "output_type": "stream",
     "text": [
      "0.42565129346573494\n"
     ]
    }
   ],
   "source": [
    "encode_pipeline.fit(features_train, target_train)\n",
    "predictions_on_encoded_data = encode_pipeline.predict(features_test)\n",
    "\n",
    "display(predictions_on_encoded_data)\n",
    "print(r2_score(target_test, predictions_on_encoded_data))"
   ]
  },
  {
   "cell_type": "markdown",
   "metadata": {},
   "source": [
    "Метрика R2 и значения предсказаний не изменились после преобразований. Значит, можно применять этот алгоритм защиты данных без ухудшения качества линейной регрессии.\n",
    "\n",
    "\n",
    "## Вывод ##\n",
    "\n",
    "В рамках проектной работы:\n",
    "1. Изучены данные.\n",
    "2. Доказано, что при умножении матрицы признаков на обратимую матрицу, качество линейной регрессии не изменится.\n",
    "3. Выведено соотношение параметров линейной регрессии до и после умножения признаков на обратимую матрицу.\n",
    "4. Запрограммирован алгоритм преобразования данных на основе умножения матрицы признаков на обратимую матрицу.\n",
    "5. На практике проверено, что качество линейной регрессии не меняется после применения алгоритма."
   ]
  },
  {
   "cell_type": "markdown",
   "metadata": {},
   "source": [
    "\n",
    "\n",
    "<div class=\"alert alert-success\">\n",
    "<font size=\"5\"><b>Комментарий ревьюера</b></font>\n",
    "\n",
    "Успех 👍:\n",
    "    \n",
    "Все сошлось. Отдельный плюс за: \n",
    "    \n",
    "    \n",
    "- универсальность кода: код отработает для любой размерности матрицы обьект-признак  \n",
    "\n",
    "\n",
    "\n",
    "- использование train_test_split - все правильно, помним о стандартах ML при моделировании\n",
    "\n",
    "    \n",
    "    \n",
    "\n",
    "<div class=\"alert alert-warning\">\n",
    "\n",
    "\n",
    "Совет 🤔: \n",
    "    \n",
    "\n",
    "\n",
    "- можно реализовать pipeline, с собственной функцией преобразования данных. Это может быть полезно если ты уже использовал pipeline со стандартными функциями sklearn (Scaler,MInMax итд итп), но хотел  бы попробовать создать свою функцию преобразования - в нашем случае перемножение наших данные на сгенерированную матрицу. Какого то практического смысла это иметь не будет, напомни что pipeline мы используем для того чтобы не было утечки данных (плюс достигается краткость ), зато можно поупражняться.\n",
    "\n",
    " \n",
    "Можешь взять за основу [Ссылка 1](https://dzen.ru/media/id/5ee6f73b7cadb75a66e4c7e3/sozdanie-polzovatelskih-preobrazovatelei-dannyh-62b2a9a80e49941961ffc7a2),\n",
    "[Ссылка 2](https://towardsdatascience.com/pipelines-custom-transformers-in-scikit-learn-the-step-by-step-guide-with-python-code-4a7d9b068156)\n",
    "\n",
    "На выходе мы должны получить что-то вроде\n",
    "\n",
    "    pipe_cripto = Pipeline([\n",
    "            ('transformer', MatrixTransformer(X.columns)),\n",
    "            ('model', LinearRegression()),\n",
    "        ])\n",
    "\n",
    "\n",
    "    pipe_cripto.fit(X_train)\n",
    "\n",
    "    pipe_cripto.predict(X_test)\n",
    "\n"
   ]
  },
  {
   "cell_type": "markdown",
   "metadata": {},
   "source": [
    "<div class=\"alert\" style=\"background-color:#ffd65a\"> <b>Комментарий студента:</b> Добавила. В первый раз использую pipeline, буду рада замечаниям. </div>"
   ]
  },
  {
   "cell_type": "markdown",
   "metadata": {},
   "source": [
    "<div class=\"alert alert-warning\">\n",
    "<font size=\"5\"><b>Комментарий ревьюера</b></font>\n",
    "\n",
    "Совет 🤔:\n",
    "\n",
    "\n",
    "\n",
    "Можно ещё через создание класс, тогда будет выглядеть так\n",
    "    \n",
    "Схема:\n",
    "    \n",
    "\n",
    "\n",
    "    \n",
    "1. Создаем класс    \n",
    "    \n",
    "    \n",
    "    \n",
    "    class MatrixTransformer(BaseEstimator, TransformerMixin):\n",
    "\n",
    "        def __init__(self, variables):\n",
    "            \"\"\"В конструкторе сохраним имена колонок и сгененрируем матрицу преобразования\"\"\"\n",
    "            self.variables = variables\n",
    "            size = len(variables)\n",
    "            rng = np.random.default_rng(seed=RANDOM_STATE)\n",
    "            self.M = rng.normal(size=(size, size))\n",
    "\n",
    "        def fit(self, X, y):\n",
    "            return self\n",
    "\n",
    "        def transform(self, X):\n",
    "            X_tr = X.drop(self.variables, axis=1)\n",
    "            X_tr[self.variables] = X[self.variables] @ self.M\n",
    "            return X_tr\n",
    "\n",
    "\n",
    "2. Иcпольpуем pipeline\n",
    "    \n",
    "    \n",
    "    \n",
    "\n",
    "    pipe = Pipeline([\n",
    "        ('transformer', MatrixTransformer(X.columns)),\n",
    "        ('model', LinearRegression()),\n",
    "    ])\n",
    "\n",
    "        pipe.fit(X_train, y_train)\n",
    "    \n",
    "        pipe.predict(X_test, y_test)\n",
    "\n",
    "\n",
    "    \n",
    "    \n"
   ]
  },
  {
   "cell_type": "markdown",
   "metadata": {},
   "source": [
    "\n",
    "\n",
    "<div class=\"alert alert-danger\">\n",
    "<font size=\"5\"><b>Комментарий ревьюера</b></font>\n",
    "\n",
    "Ошибка ❌:\n",
    "\n",
    "Мария, было бы замечательно, в конце немножко о данных, работе с ними, моделировании и полученных результатах, доказательствах. Это важно потому что когда проект захочет посмотреть будущий работодатель (или начальник), у него может не быть времени на подробный разбор кода. Вероятнее всего он бегло просмотрит код, а из общего вывода захочет получить представление о всей работе. Вырабатывай рефлексы правильного оформления проектов )\n",
    "\n",
    "\n",
    "</div>"
   ]
  },
  {
   "cell_type": "markdown",
   "metadata": {},
   "source": [
    "<div class=\"alert\" style=\"background-color:#ffd65a\"> <b>Комментарий студента:</b> Добавила вывод.</div>"
   ]
  },
  {
   "cell_type": "markdown",
   "metadata": {},
   "source": [
    "\n",
    "<div class=\"alert alert-info\">\n",
    "<font size=\"5\"><b>Комментарий ревьюера</b></font>\n",
    "\n",
    "\n",
    "Мария, у тебя старательно выполненная работа, все четко, осмысленно. Отмечаю уровень твоей программистской подготовки. \n",
    "\n",
    "\n",
    "\n",
    "    \n",
    "\n",
    "Я оставил небольшие советы и вопросики (если есть время и желание можешь воспользоваться/ответить)\n",
    "    \n",
    "\n",
    "\n",
    "Обязательное к исправлению:\n",
    "\n",
    "\n",
    "\n",
    "\n",
    "\n",
    "- выводим соотношение между  𝑤  и  𝑤𝑝 \n",
    "\n",
    "\n",
    "\n",
    "\n",
    "    \n",
    "- стоит добавить общий вывод (лицо проекта)\n",
    "\n",
    "\n",
    " \n",
    "\n",
    "\n",
    "\n",
    "\n",
    "Жду исправлений, для принятия проекта. Если какие то вопросы, то сразу спрашивай ) \n",
    "\n",
    "\n",
    "\n",
    "\n",
    "\n",
    "\n",
    "\n",
    "\n",
    "<div class=\"alert alert-warning\">\n",
    "<b>Комментарий ревьюера</b>\n",
    "\n",
    "\n",
    "\n",
    "На мой взгляд проект очень необычный, выделяющийся из остальных проектов потому что касается раздела математики лежащей в основе машинного обучения  (помимо производных, матанализа и теории вероятности с матстатистикой). Если в дальнейшем ты углубишься в изучении нейростетей, то понимание линейной алгебры будет очень полезным, потому что, по сути, все нейросети - это перемножение матриц и Линейная алгебра даёт очень компактный способ записи того что происходит в нейросетях. \n",
    "    \n",
    "    \n",
    "    \n",
    "Возможно будет полезно:\n",
    "    \n",
    "    \n",
    "- Теория по обратным матрицам:  [тут](https://www.berdov.com/works/matrix/obratnaya-matrica/)\n",
    "\n",
    "    \n",
    "- Если хочешь посмотреть вообще про линейную алгебру и матрицы, то мне нравится  вот это [видео](https://www.youtube.com/watch?v=RNTRYicPvWQ&list=PLVjLpKXnAGLXPaS7FRBjd5yZeXwJxZil2), рассказывается по существу и увлекательно.  \n",
    "\n",
    "\n",
    "- по применению криптографии в машинном обучении на английском: [тут](https://www.cs.cmu.edu/~rjhall/JOS_revised_May_31a.pdf)\n",
    "\n",
    "\n"
   ]
  },
  {
   "cell_type": "markdown",
   "metadata": {},
   "source": [
    "<div class=\"alert\" style=\"background-color:#ffd65a\"> <b>Комментарий студента:</b> Спасибо за замечания! </div>"
   ]
  },
  {
   "cell_type": "markdown",
   "metadata": {},
   "source": [
    "\n",
    "<div class=\"alert alert-info\">\n",
    "<font size=\"5\"><b>Комментарий ревьюераV2</b></font>\n",
    "\n",
    "Спасибо за работу!    \n",
    "\n",
    "    \n",
    "Красное исправлено,  желтые советы использованы. Надеюсь мои советы и вопросики были полезны и в копилочку знаний упало что то новое, а проект стал лучше, и симпатичней.\n",
    "\n",
    "\n",
    "  \n",
    "Отличная работа Мария. Желаю успехов в дальнейшей учебе!\n"
   ]
  },
  {
   "cell_type": "markdown",
   "metadata": {},
   "source": [
    "## Чек-лист проверки"
   ]
  },
  {
   "cell_type": "markdown",
   "metadata": {},
   "source": [
    "Поставьте 'x' в выполненных пунктах. Далее нажмите Shift+Enter."
   ]
  },
  {
   "cell_type": "markdown",
   "metadata": {},
   "source": [
    "- [x]  Jupyter Notebook открыт\n",
    "- [x]  Весь код выполняется без ошибок\n",
    "- [x]  Ячейки с кодом расположены в порядке исполнения\n",
    "- [x]  Выполнен шаг 1: данные загружены\n",
    "- [x]  Выполнен шаг 2: получен ответ на вопрос об умножении матриц\n",
    "    - [x]  Указан правильный вариант ответа\n",
    "    - [x]  Вариант обоснован\n",
    "- [x]  Выполнен шаг 3: предложен алгоритм преобразования\n",
    "    - [x]  Алгоритм описан\n",
    "    - [x]  Алгоритм обоснован\n",
    "- [x]  Выполнен шаг 4: алгоритм проверен\n",
    "    - [x]  Алгоритм реализован\n",
    "    - [x]  Проведено сравнение качества моделей до и после преобразования"
   ]
  }
 ],
 "metadata": {
  "ExecuteTimeLog": [
   {
    "duration": 424,
    "start_time": "2023-03-15T17:30:20.465Z"
   },
   {
    "duration": 718,
    "start_time": "2023-03-15T17:31:02.492Z"
   },
   {
    "duration": 117,
    "start_time": "2023-03-15T17:31:26.019Z"
   },
   {
    "duration": 10,
    "start_time": "2023-03-15T17:31:32.276Z"
   },
   {
    "duration": 37,
    "start_time": "2023-03-15T17:31:50.819Z"
   },
   {
    "duration": 38,
    "start_time": "2023-03-15T17:31:57.054Z"
   },
   {
    "duration": 20,
    "start_time": "2023-03-15T22:48:21.378Z"
   },
   {
    "duration": 6,
    "start_time": "2023-03-15T22:50:14.691Z"
   },
   {
    "duration": 56,
    "start_time": "2023-03-15T22:53:22.679Z"
   },
   {
    "duration": 60,
    "start_time": "2023-03-15T22:53:39.791Z"
   },
   {
    "duration": 3,
    "start_time": "2023-03-15T22:53:44.212Z"
   },
   {
    "duration": 11,
    "start_time": "2023-03-15T22:53:47.893Z"
   },
   {
    "duration": 8,
    "start_time": "2023-03-15T22:55:45.545Z"
   },
   {
    "duration": 4,
    "start_time": "2023-03-15T22:57:52.462Z"
   },
   {
    "duration": 8,
    "start_time": "2023-03-15T22:58:24.811Z"
   },
   {
    "duration": 3,
    "start_time": "2023-03-15T22:58:34.377Z"
   },
   {
    "duration": 5,
    "start_time": "2023-03-15T22:58:39.395Z"
   },
   {
    "duration": 10,
    "start_time": "2023-03-15T22:59:02.117Z"
   },
   {
    "duration": 2,
    "start_time": "2023-03-15T22:59:04.518Z"
   },
   {
    "duration": 6,
    "start_time": "2023-03-15T22:59:08.065Z"
   },
   {
    "duration": 9,
    "start_time": "2023-03-15T22:59:15.386Z"
   },
   {
    "duration": 5,
    "start_time": "2023-03-15T22:59:18.778Z"
   },
   {
    "duration": 228,
    "start_time": "2023-03-15T23:00:02.325Z"
   },
   {
    "duration": 6,
    "start_time": "2023-03-15T23:00:07.875Z"
   },
   {
    "duration": 6,
    "start_time": "2023-03-15T23:01:00.406Z"
   },
   {
    "duration": 13,
    "start_time": "2023-03-15T23:02:08.638Z"
   },
   {
    "duration": 6,
    "start_time": "2023-03-15T23:02:17.125Z"
   },
   {
    "duration": 4,
    "start_time": "2023-03-15T23:02:18.149Z"
   },
   {
    "duration": 6,
    "start_time": "2023-03-15T23:02:53.998Z"
   },
   {
    "duration": 7,
    "start_time": "2023-03-15T23:03:04.894Z"
   },
   {
    "duration": 8,
    "start_time": "2023-03-15T23:03:12.726Z"
   },
   {
    "duration": 291,
    "start_time": "2023-03-15T23:03:35.190Z"
   },
   {
    "duration": 6,
    "start_time": "2023-03-15T23:04:07.176Z"
   },
   {
    "duration": 4,
    "start_time": "2023-03-15T23:04:17.248Z"
   },
   {
    "duration": 4,
    "start_time": "2023-03-15T23:05:10.113Z"
   },
   {
    "duration": 9,
    "start_time": "2023-03-15T23:05:34.113Z"
   },
   {
    "duration": 18,
    "start_time": "2023-03-15T23:05:57.832Z"
   },
   {
    "duration": 11,
    "start_time": "2023-03-15T23:06:05.521Z"
   },
   {
    "duration": 9,
    "start_time": "2023-03-15T23:31:42.072Z"
   },
   {
    "duration": 16,
    "start_time": "2023-03-15T23:32:07.850Z"
   },
   {
    "duration": 39,
    "start_time": "2023-03-16T13:09:56.631Z"
   },
   {
    "duration": 7,
    "start_time": "2023-03-16T13:10:01.668Z"
   },
   {
    "duration": 23,
    "start_time": "2023-03-16T13:10:02.701Z"
   },
   {
    "duration": 164,
    "start_time": "2023-03-16T13:10:03.476Z"
   },
   {
    "duration": 3,
    "start_time": "2023-03-16T13:10:05.724Z"
   },
   {
    "duration": 90,
    "start_time": "2023-03-16T13:10:06.508Z"
   },
   {
    "duration": 9,
    "start_time": "2023-03-16T13:10:07.309Z"
   },
   {
    "duration": 5,
    "start_time": "2023-03-16T14:03:38.005Z"
   },
   {
    "duration": 74,
    "start_time": "2023-03-16T14:04:25.253Z"
   },
   {
    "duration": 12,
    "start_time": "2023-03-16T14:04:29.124Z"
   },
   {
    "duration": 10,
    "start_time": "2023-03-16T14:04:52.278Z"
   },
   {
    "duration": 14,
    "start_time": "2023-03-16T14:07:06.472Z"
   },
   {
    "duration": 41,
    "start_time": "2023-03-16T14:08:02.201Z"
   },
   {
    "duration": 8,
    "start_time": "2023-03-16T15:28:10.862Z"
   },
   {
    "duration": 7,
    "start_time": "2023-03-16T15:28:16.724Z"
   },
   {
    "duration": 17,
    "start_time": "2023-03-16T15:28:20.052Z"
   },
   {
    "duration": 3,
    "start_time": "2023-03-16T15:28:59.280Z"
   },
   {
    "duration": 3,
    "start_time": "2023-03-16T15:29:09.021Z"
   },
   {
    "duration": 5,
    "start_time": "2023-03-16T15:29:10.829Z"
   },
   {
    "duration": 31,
    "start_time": "2023-03-16T15:29:12.605Z"
   },
   {
    "duration": 10,
    "start_time": "2023-03-16T15:29:23.481Z"
   },
   {
    "duration": 11,
    "start_time": "2023-03-16T15:29:28.452Z"
   },
   {
    "duration": 12,
    "start_time": "2023-03-16T15:31:23.717Z"
   },
   {
    "duration": 12,
    "start_time": "2023-03-16T15:31:41.441Z"
   },
   {
    "duration": 4,
    "start_time": "2023-03-16T15:31:52.047Z"
   },
   {
    "duration": 14,
    "start_time": "2023-03-16T15:31:56.302Z"
   },
   {
    "duration": 12,
    "start_time": "2023-03-16T15:32:17.415Z"
   },
   {
    "duration": 12,
    "start_time": "2023-03-16T15:32:41.047Z"
   },
   {
    "duration": 10,
    "start_time": "2023-03-16T15:33:01.703Z"
   },
   {
    "duration": 6,
    "start_time": "2023-03-16T15:33:09.057Z"
   },
   {
    "duration": 12,
    "start_time": "2023-03-16T15:33:27.144Z"
   },
   {
    "duration": 14,
    "start_time": "2023-03-16T15:34:15.284Z"
   },
   {
    "duration": 11,
    "start_time": "2023-03-16T15:49:37.894Z"
   },
   {
    "duration": 3,
    "start_time": "2023-03-16T15:52:21.719Z"
   },
   {
    "duration": 58,
    "start_time": "2023-03-16T15:52:21.726Z"
   },
   {
    "duration": 10,
    "start_time": "2023-03-16T15:52:21.787Z"
   },
   {
    "duration": 36,
    "start_time": "2023-03-16T15:52:21.798Z"
   },
   {
    "duration": 192,
    "start_time": "2023-03-16T15:52:21.836Z"
   },
   {
    "duration": 95,
    "start_time": "2023-03-16T15:52:22.030Z"
   },
   {
    "duration": 4,
    "start_time": "2023-03-16T15:52:22.127Z"
   },
   {
    "duration": 107,
    "start_time": "2023-03-16T15:52:22.133Z"
   },
   {
    "duration": 2185,
    "start_time": "2023-03-17T10:40:48.815Z"
   },
   {
    "duration": 103,
    "start_time": "2023-03-17T10:40:51.002Z"
   },
   {
    "duration": 8,
    "start_time": "2023-03-17T10:40:51.107Z"
   },
   {
    "duration": 66,
    "start_time": "2023-03-17T10:40:51.118Z"
   },
   {
    "duration": 114,
    "start_time": "2023-03-17T10:40:51.187Z"
   },
   {
    "duration": 92,
    "start_time": "2023-03-17T10:40:51.304Z"
   },
   {
    "duration": 86,
    "start_time": "2023-03-17T10:40:51.398Z"
   },
   {
    "duration": 19,
    "start_time": "2023-03-17T10:40:51.486Z"
   },
   {
    "duration": 9,
    "start_time": "2023-05-28T18:43:33.580Z"
   },
   {
    "duration": 38,
    "start_time": "2023-05-28T18:43:58.276Z"
   },
   {
    "duration": 1024,
    "start_time": "2023-05-28T18:44:04.125Z"
   },
   {
    "duration": 119,
    "start_time": "2023-05-28T18:44:05.151Z"
   },
   {
    "duration": 5,
    "start_time": "2023-05-28T18:44:05.272Z"
   },
   {
    "duration": 32,
    "start_time": "2023-05-28T18:44:05.279Z"
   },
   {
    "duration": 93,
    "start_time": "2023-05-28T18:44:05.315Z"
   },
   {
    "duration": 54,
    "start_time": "2023-05-28T18:44:09.276Z"
   },
   {
    "duration": 5,
    "start_time": "2023-05-28T18:44:15.052Z"
   },
   {
    "duration": 3,
    "start_time": "2023-05-28T21:28:41.409Z"
   },
   {
    "duration": 6,
    "start_time": "2023-05-28T21:28:49.445Z"
   },
   {
    "duration": 3,
    "start_time": "2023-05-28T21:28:53.738Z"
   },
   {
    "duration": 7,
    "start_time": "2023-05-28T21:35:29.150Z"
   },
   {
    "duration": 4,
    "start_time": "2023-05-28T21:35:52.693Z"
   },
   {
    "duration": 8,
    "start_time": "2023-05-28T21:36:50.062Z"
   },
   {
    "duration": 4,
    "start_time": "2023-05-28T21:36:53.295Z"
   },
   {
    "duration": 70,
    "start_time": "2023-05-28T21:37:02.096Z"
   },
   {
    "duration": 2,
    "start_time": "2023-05-28T21:37:22.592Z"
   },
   {
    "duration": 7,
    "start_time": "2023-05-28T21:37:24.358Z"
   },
   {
    "duration": 7,
    "start_time": "2023-05-28T22:48:37.601Z"
   },
   {
    "duration": 3,
    "start_time": "2023-05-28T22:54:12.998Z"
   },
   {
    "duration": 3,
    "start_time": "2023-05-28T22:54:17.661Z"
   },
   {
    "duration": 3,
    "start_time": "2023-05-28T22:54:43.253Z"
   },
   {
    "duration": 3,
    "start_time": "2023-05-28T22:58:10.153Z"
   },
   {
    "duration": 3,
    "start_time": "2023-05-28T22:58:10.906Z"
   },
   {
    "duration": 11,
    "start_time": "2023-05-28T23:00:09.457Z"
   },
   {
    "duration": 4,
    "start_time": "2023-05-28T23:00:27.587Z"
   },
   {
    "duration": 5,
    "start_time": "2023-05-28T23:00:46.456Z"
   },
   {
    "duration": 1008,
    "start_time": "2023-05-29T11:30:28.385Z"
   },
   {
    "duration": 96,
    "start_time": "2023-05-29T11:30:29.395Z"
   },
   {
    "duration": 22,
    "start_time": "2023-05-29T11:30:29.493Z"
   },
   {
    "duration": 62,
    "start_time": "2023-05-29T11:30:29.516Z"
   },
   {
    "duration": 90,
    "start_time": "2023-05-29T11:30:29.581Z"
   },
   {
    "duration": 101,
    "start_time": "2023-05-29T11:30:29.674Z"
   },
   {
    "duration": 105,
    "start_time": "2023-05-29T11:30:29.776Z"
   },
   {
    "duration": 19,
    "start_time": "2023-05-29T11:30:29.882Z"
   },
   {
    "duration": 73,
    "start_time": "2023-05-29T11:30:29.903Z"
   },
   {
    "duration": 9,
    "start_time": "2023-05-29T11:30:50.107Z"
   },
   {
    "duration": 87,
    "start_time": "2023-05-29T11:32:20.288Z"
   },
   {
    "duration": 3,
    "start_time": "2023-05-29T11:32:27.866Z"
   },
   {
    "duration": 11,
    "start_time": "2023-05-29T11:32:29.276Z"
   },
   {
    "duration": 10,
    "start_time": "2023-05-29T11:32:54.580Z"
   },
   {
    "duration": 11,
    "start_time": "2023-05-29T11:32:56.744Z"
   },
   {
    "duration": 5,
    "start_time": "2023-05-29T11:33:01.594Z"
   },
   {
    "duration": 10,
    "start_time": "2023-05-29T11:33:04.312Z"
   },
   {
    "duration": 3,
    "start_time": "2023-05-29T11:33:27.476Z"
   },
   {
    "duration": 7,
    "start_time": "2023-05-29T11:33:30.671Z"
   },
   {
    "duration": 6,
    "start_time": "2023-05-29T12:19:15.789Z"
   },
   {
    "duration": 12,
    "start_time": "2023-05-29T12:19:20.513Z"
   },
   {
    "duration": 3,
    "start_time": "2023-05-29T12:20:18.038Z"
   },
   {
    "duration": 3,
    "start_time": "2023-05-29T12:20:19.140Z"
   },
   {
    "duration": 11,
    "start_time": "2023-05-29T12:20:20.599Z"
   },
   {
    "duration": 12,
    "start_time": "2023-05-29T12:20:29.051Z"
   },
   {
    "duration": 12,
    "start_time": "2023-05-29T12:20:48.544Z"
   },
   {
    "duration": 14,
    "start_time": "2023-05-29T12:20:50.685Z"
   },
   {
    "duration": 3,
    "start_time": "2023-05-29T12:21:24.776Z"
   },
   {
    "duration": 10,
    "start_time": "2023-05-29T12:21:25.684Z"
   },
   {
    "duration": 2,
    "start_time": "2023-05-29T12:24:13.236Z"
   },
   {
    "duration": 3,
    "start_time": "2023-05-29T12:24:14.893Z"
   },
   {
    "duration": 17,
    "start_time": "2023-05-29T12:24:49.448Z"
   },
   {
    "duration": 5,
    "start_time": "2023-05-29T12:24:50.199Z"
   },
   {
    "duration": 6,
    "start_time": "2023-05-29T12:25:08.648Z"
   },
   {
    "duration": 5,
    "start_time": "2023-05-29T12:25:09.544Z"
   },
   {
    "duration": 3,
    "start_time": "2023-05-29T12:26:41.468Z"
   },
   {
    "duration": 2,
    "start_time": "2023-05-29T12:26:42.297Z"
   },
   {
    "duration": 7,
    "start_time": "2023-05-29T12:26:43.409Z"
   },
   {
    "duration": 5,
    "start_time": "2023-05-29T12:26:44.056Z"
   },
   {
    "duration": 3,
    "start_time": "2023-05-29T12:44:16.721Z"
   },
   {
    "duration": 3,
    "start_time": "2023-05-29T12:45:32.491Z"
   },
   {
    "duration": 9,
    "start_time": "2023-05-29T12:45:33.742Z"
   },
   {
    "duration": 3,
    "start_time": "2023-05-29T12:46:21.698Z"
   },
   {
    "duration": 11,
    "start_time": "2023-05-29T12:46:22.758Z"
   },
   {
    "duration": 3,
    "start_time": "2023-05-29T12:50:13.593Z"
   },
   {
    "duration": 12,
    "start_time": "2023-05-29T12:50:14.506Z"
   },
   {
    "duration": 4,
    "start_time": "2023-05-29T12:55:32.647Z"
   },
   {
    "duration": 3,
    "start_time": "2023-05-29T12:55:43.024Z"
   },
   {
    "duration": 10,
    "start_time": "2023-05-29T12:55:43.944Z"
   },
   {
    "duration": 974,
    "start_time": "2023-05-29T16:38:33.928Z"
   },
   {
    "duration": 48,
    "start_time": "2023-05-29T16:38:34.904Z"
   },
   {
    "duration": 5,
    "start_time": "2023-05-29T16:38:34.954Z"
   },
   {
    "duration": 22,
    "start_time": "2023-05-29T16:38:34.961Z"
   },
   {
    "duration": 217,
    "start_time": "2023-05-29T16:38:34.986Z"
   },
   {
    "duration": 56,
    "start_time": "2023-05-29T16:38:35.205Z"
   },
   {
    "duration": 127,
    "start_time": "2023-05-29T16:38:35.263Z"
   },
   {
    "duration": 1057,
    "start_time": "2023-05-29T17:07:38.763Z"
   },
   {
    "duration": 47,
    "start_time": "2023-05-29T17:07:39.822Z"
   },
   {
    "duration": 6,
    "start_time": "2023-05-29T17:07:39.871Z"
   },
   {
    "duration": 17,
    "start_time": "2023-05-29T17:07:39.879Z"
   },
   {
    "duration": 82,
    "start_time": "2023-05-29T17:07:39.899Z"
   },
   {
    "duration": 3,
    "start_time": "2023-05-29T17:07:40.073Z"
   },
   {
    "duration": 41,
    "start_time": "2023-05-29T17:07:40.077Z"
   }
  ],
  "kernelspec": {
   "display_name": "Python 3 (ipykernel)",
   "language": "python",
   "name": "python3"
  },
  "language_info": {
   "codemirror_mode": {
    "name": "ipython",
    "version": 3
   },
   "file_extension": ".py",
   "mimetype": "text/x-python",
   "name": "python",
   "nbconvert_exporter": "python",
   "pygments_lexer": "ipython3",
   "version": "3.9.12"
  },
  "toc": {
   "base_numbering": 1,
   "nav_menu": {},
   "number_sections": false,
   "sideBar": true,
   "skip_h1_title": true,
   "title_cell": "Содержание",
   "title_sidebar": "Contents",
   "toc_cell": true,
   "toc_position": {
    "height": "calc(100% - 180px)",
    "left": "10px",
    "top": "150px",
    "width": "164.988px"
   },
   "toc_section_display": true,
   "toc_window_display": false
  }
 },
 "nbformat": 4,
 "nbformat_minor": 2
}
