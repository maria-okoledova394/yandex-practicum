{
 "cells": [
  {
   "cell_type": "markdown",
   "metadata": {},
   "source": [
    "Мария, рад приветствовать тебя)\n",
    "\n",
    "Меня зовут Александр Дьяченко и этот проект у тебя буду проверять я.  \n",
    "Предлагаю общаться на \"ты\", если это для тебя приемлемо)  \n",
    "\n",
    "В твоей работе я оставлю некоторые комментарии, которые помогут лучше понять материал или скажу, что все сделано верно.  \n",
    "Давай договоримся об условных обозначениях, чтобы наше общение было эффективнее:  \n",
    "\n",
    "Комментарии будут в <font color='green'>зеленой ✔️</font>, <font color='orange'>оранжевой ⚠️</font> или <font color='red'>красной ❌</font> рамках:\n",
    "\n",
    "\n",
    "<div class=\"alert alert-block alert-success\">\n",
    "<b>Успех ✔️:</b> Зеленым цветом помечены образцовые решения. Которые можно использовать в дальнейшем.\n",
    "</div>\n",
    "\n",
    "<div class=\"alert alert-block alert-warning\">\n",
    "<b>Рекомендация ⚠️: </b> Желтым цветом отмечено то, что ты можешь улучшить или доработать. Можешь учесть это при выполнении следующих работ или доработать проект сейчас, но это не обязательно.\n",
    "</div>\n",
    "\n",
    "<div class=\"alert alert-block alert-danger\">\n",
    "<b>Ошибка ❌:</b> Красным цветом помечены моменты, которые необходимо доработать, чтобы проект был принят. Уверен, что у тебя все получится. Буду ждать твою работу на повторное ревью. \n",
    "</div>\n",
    "\n",
    "-------------------\n",
    "\n",
    "<div class=\"alert alert-block alert-info\">\n",
    "<b>Комментарий студента:</b> Свои комментарии и вопросы ты можешь оставлять в синей рамочке. Также используй её, если что-то исправил, доделал или полностью переписал.</div>\n",
    "\n",
    "\n",
    "\n",
    "\n",
    "Старайся отвечать на мои рекомендации и не удалять комментарии, так получится проверить работу быстрее)\n",
    "\n",
    "Погнали!\n",
    "\n",
    "\n",
    "\n",
    "-------"
   ]
  },
  {
   "cell_type": "markdown",
   "metadata": {
    "toc": true
   },
   "source": [
    "<h1>Содержание<span class=\"tocSkip\"></span></h1>\n",
    "<div class=\"toc\"><ul class=\"toc-item\"><li><span><a href=\"#Изучение-данных-из-файла\" data-toc-modified-id=\"Изучение-данных-из-файла-1\"><span class=\"toc-item-num\">1&nbsp;&nbsp;</span>Изучение данных из файла</a></span></li><li><span><a href=\"#Предобработка-данных\" data-toc-modified-id=\"Предобработка-данных-2\"><span class=\"toc-item-num\">2&nbsp;&nbsp;</span>Предобработка данных</a></span><ul class=\"toc-item\"><li><span><a href=\"#Шаг-2.1-Заполнение-пропусков\" data-toc-modified-id=\"Шаг-2.1-Заполнение-пропусков-2.1\"><span class=\"toc-item-num\">2.1&nbsp;&nbsp;</span>Шаг 2.1 Заполнение пропусков</a></span></li><li><span><a href=\"#Шаг-2.2-Изменение-типов-данных\" data-toc-modified-id=\"Шаг-2.2-Изменение-типов-данных-2.2\"><span class=\"toc-item-num\">2.2&nbsp;&nbsp;</span>Шаг 2.2 Изменение типов данных</a></span></li></ul></li><li><span><a href=\"#Расчёты-и-добавление-результатов-в-таблицу\" data-toc-modified-id=\"Расчёты-и-добавление-результатов-в-таблицу-3\"><span class=\"toc-item-num\">3&nbsp;&nbsp;</span>Расчёты и добавление результатов в таблицу</a></span></li><li><span><a href=\"#Исследовательский-анализ-данных\" data-toc-modified-id=\"Исследовательский-анализ-данных-4\"><span class=\"toc-item-num\">4&nbsp;&nbsp;</span>Исследовательский анализ данных</a></span><ul class=\"toc-item\"><li><span><a href=\"#Изучение-основных-параметров\" data-toc-modified-id=\"Изучение-основных-параметров-4.1\"><span class=\"toc-item-num\">4.1&nbsp;&nbsp;</span>Изучение основных параметров</a></span></li><li><span><a href=\"#Время-продажи-квартир\" data-toc-modified-id=\"Время-продажи-квартир-4.2\"><span class=\"toc-item-num\">4.2&nbsp;&nbsp;</span>Время продажи квартир</a></span></li><li><span><a href=\"#Убрать-редкие-значения\" data-toc-modified-id=\"Убрать-редкие-значения-4.3\"><span class=\"toc-item-num\">4.3&nbsp;&nbsp;</span>Убрать редкие значения</a></span></li><li><span><a href=\"#Влияние-на-стоимость\" data-toc-modified-id=\"Влияние-на-стоимость-4.4\"><span class=\"toc-item-num\">4.4&nbsp;&nbsp;</span>Влияние на стоимость</a></span></li><li><span><a href=\"#Топ-10-населенных-пунктов\" data-toc-modified-id=\"Топ-10-населенных-пунктов-4.5\"><span class=\"toc-item-num\">4.5&nbsp;&nbsp;</span>Топ 10 населенных пунктов</a></span></li><li><span><a href=\"#Граница-центра-города\" data-toc-modified-id=\"Граница-центра-города-4.6\"><span class=\"toc-item-num\">4.6&nbsp;&nbsp;</span>Граница центра города</a></span></li></ul></li><li><span><a href=\"#Общий-вывод\" data-toc-modified-id=\"Общий-вывод-5\"><span class=\"toc-item-num\">5&nbsp;&nbsp;</span>Общий вывод</a></span></li><li><span><a href=\"#Чек-лист-готовности-проекта\" data-toc-modified-id=\"Чек-лист-готовности-проекта-6\"><span class=\"toc-item-num\">6&nbsp;&nbsp;</span>Чек-лист готовности проекта</a></span></li></ul></div>"
   ]
  },
  {
   "cell_type": "markdown",
   "metadata": {},
   "source": [
    "# Исследование объявлений о продаже квартир\n",
    "\n",
    "В вашем распоряжении данные сервиса Яндекc Недвижимость — архив объявлений о продаже квартир в Санкт-Петербурге и соседних населённых пунктах за несколько лет. Нужно научиться определять рыночную стоимость объектов недвижимости. Ваша задача — установить параметры. Это позволит построить автоматизированную систему: она отследит аномалии и мошенническую деятельность. \n",
    "\n",
    "По каждой квартире на продажу доступны два вида данных. Первые вписаны пользователем, вторые получены автоматически на основе картографических данных. Например, расстояние до центра, аэропорта, ближайшего парка и водоёма. "
   ]
  },
  {
   "cell_type": "markdown",
   "metadata": {},
   "source": [
    "## Изучение данных из файла"
   ]
  },
  {
   "cell_type": "code",
   "execution_count": 228,
   "metadata": {},
   "outputs": [],
   "source": [
    "import pandas as pd\n",
    "import matplotlib.pyplot as plt\n",
    "#from pandas_profiling import ProfileReport"
   ]
  },
  {
   "cell_type": "code",
   "execution_count": 229,
   "metadata": {},
   "outputs": [],
   "source": [
    "#profile = ProfileReport(df, explorative = True)\n",
    "#profile.to_widgets()"
   ]
  },
  {
   "cell_type": "code",
   "execution_count": 230,
   "metadata": {},
   "outputs": [
    {
     "data": {
      "text/html": [
       "<div>\n",
       "<style scoped>\n",
       "    .dataframe tbody tr th:only-of-type {\n",
       "        vertical-align: middle;\n",
       "    }\n",
       "\n",
       "    .dataframe tbody tr th {\n",
       "        vertical-align: top;\n",
       "    }\n",
       "\n",
       "    .dataframe thead th {\n",
       "        text-align: right;\n",
       "    }\n",
       "</style>\n",
       "<table border=\"1\" class=\"dataframe\">\n",
       "  <thead>\n",
       "    <tr style=\"text-align: right;\">\n",
       "      <th></th>\n",
       "      <th>total_images</th>\n",
       "      <th>last_price</th>\n",
       "      <th>total_area</th>\n",
       "      <th>first_day_exposition</th>\n",
       "      <th>rooms</th>\n",
       "      <th>ceiling_height</th>\n",
       "      <th>floors_total</th>\n",
       "      <th>living_area</th>\n",
       "      <th>floor</th>\n",
       "      <th>is_apartment</th>\n",
       "      <th>...</th>\n",
       "      <th>kitchen_area</th>\n",
       "      <th>balcony</th>\n",
       "      <th>locality_name</th>\n",
       "      <th>airports_nearest</th>\n",
       "      <th>cityCenters_nearest</th>\n",
       "      <th>parks_around3000</th>\n",
       "      <th>parks_nearest</th>\n",
       "      <th>ponds_around3000</th>\n",
       "      <th>ponds_nearest</th>\n",
       "      <th>days_exposition</th>\n",
       "    </tr>\n",
       "  </thead>\n",
       "  <tbody>\n",
       "    <tr>\n",
       "      <th>324</th>\n",
       "      <td>0</td>\n",
       "      <td>6090000.0</td>\n",
       "      <td>62.00</td>\n",
       "      <td>2015-09-06T00:00:00</td>\n",
       "      <td>2</td>\n",
       "      <td>NaN</td>\n",
       "      <td>28.0</td>\n",
       "      <td>30.0</td>\n",
       "      <td>22</td>\n",
       "      <td>NaN</td>\n",
       "      <td>...</td>\n",
       "      <td>10.00</td>\n",
       "      <td>1.0</td>\n",
       "      <td>Санкт-Петербург</td>\n",
       "      <td>19971.0</td>\n",
       "      <td>21683.0</td>\n",
       "      <td>0.0</td>\n",
       "      <td>NaN</td>\n",
       "      <td>1.0</td>\n",
       "      <td>546.0</td>\n",
       "      <td>323.0</td>\n",
       "    </tr>\n",
       "    <tr>\n",
       "      <th>12658</th>\n",
       "      <td>20</td>\n",
       "      <td>4050000.0</td>\n",
       "      <td>59.60</td>\n",
       "      <td>2018-03-28T00:00:00</td>\n",
       "      <td>3</td>\n",
       "      <td>2.50</td>\n",
       "      <td>5.0</td>\n",
       "      <td>38.0</td>\n",
       "      <td>5</td>\n",
       "      <td>NaN</td>\n",
       "      <td>...</td>\n",
       "      <td>8.50</td>\n",
       "      <td>NaN</td>\n",
       "      <td>Отрадное</td>\n",
       "      <td>NaN</td>\n",
       "      <td>NaN</td>\n",
       "      <td>NaN</td>\n",
       "      <td>NaN</td>\n",
       "      <td>NaN</td>\n",
       "      <td>NaN</td>\n",
       "      <td>NaN</td>\n",
       "    </tr>\n",
       "    <tr>\n",
       "      <th>18792</th>\n",
       "      <td>17</td>\n",
       "      <td>6200000.0</td>\n",
       "      <td>57.50</td>\n",
       "      <td>2017-12-18T00:00:00</td>\n",
       "      <td>3</td>\n",
       "      <td>2.60</td>\n",
       "      <td>5.0</td>\n",
       "      <td>42.2</td>\n",
       "      <td>3</td>\n",
       "      <td>NaN</td>\n",
       "      <td>...</td>\n",
       "      <td>5.30</td>\n",
       "      <td>NaN</td>\n",
       "      <td>Санкт-Петербург</td>\n",
       "      <td>40319.0</td>\n",
       "      <td>12022.0</td>\n",
       "      <td>1.0</td>\n",
       "      <td>464.0</td>\n",
       "      <td>0.0</td>\n",
       "      <td>NaN</td>\n",
       "      <td>60.0</td>\n",
       "    </tr>\n",
       "    <tr>\n",
       "      <th>20824</th>\n",
       "      <td>1</td>\n",
       "      <td>6300000.0</td>\n",
       "      <td>66.00</td>\n",
       "      <td>2018-02-02T00:00:00</td>\n",
       "      <td>3</td>\n",
       "      <td>2.60</td>\n",
       "      <td>9.0</td>\n",
       "      <td>43.9</td>\n",
       "      <td>7</td>\n",
       "      <td>NaN</td>\n",
       "      <td>...</td>\n",
       "      <td>8.80</td>\n",
       "      <td>1.0</td>\n",
       "      <td>Санкт-Петербург</td>\n",
       "      <td>10482.0</td>\n",
       "      <td>13051.0</td>\n",
       "      <td>0.0</td>\n",
       "      <td>NaN</td>\n",
       "      <td>0.0</td>\n",
       "      <td>NaN</td>\n",
       "      <td>17.0</td>\n",
       "    </tr>\n",
       "    <tr>\n",
       "      <th>8720</th>\n",
       "      <td>19</td>\n",
       "      <td>12300000.0</td>\n",
       "      <td>62.30</td>\n",
       "      <td>2018-11-14T00:00:00</td>\n",
       "      <td>1</td>\n",
       "      <td>2.96</td>\n",
       "      <td>6.0</td>\n",
       "      <td>25.0</td>\n",
       "      <td>5</td>\n",
       "      <td>NaN</td>\n",
       "      <td>...</td>\n",
       "      <td>18.00</td>\n",
       "      <td>NaN</td>\n",
       "      <td>Санкт-Петербург</td>\n",
       "      <td>24750.0</td>\n",
       "      <td>3080.0</td>\n",
       "      <td>2.0</td>\n",
       "      <td>552.0</td>\n",
       "      <td>0.0</td>\n",
       "      <td>NaN</td>\n",
       "      <td>NaN</td>\n",
       "    </tr>\n",
       "    <tr>\n",
       "      <th>9453</th>\n",
       "      <td>7</td>\n",
       "      <td>4700000.0</td>\n",
       "      <td>79.00</td>\n",
       "      <td>2017-05-18T00:00:00</td>\n",
       "      <td>3</td>\n",
       "      <td>NaN</td>\n",
       "      <td>9.0</td>\n",
       "      <td>45.0</td>\n",
       "      <td>9</td>\n",
       "      <td>NaN</td>\n",
       "      <td>...</td>\n",
       "      <td>14.50</td>\n",
       "      <td>0.0</td>\n",
       "      <td>Сертолово</td>\n",
       "      <td>NaN</td>\n",
       "      <td>NaN</td>\n",
       "      <td>NaN</td>\n",
       "      <td>NaN</td>\n",
       "      <td>NaN</td>\n",
       "      <td>NaN</td>\n",
       "      <td>151.0</td>\n",
       "    </tr>\n",
       "    <tr>\n",
       "      <th>15005</th>\n",
       "      <td>2</td>\n",
       "      <td>7800000.0</td>\n",
       "      <td>75.80</td>\n",
       "      <td>2015-08-01T00:00:00</td>\n",
       "      <td>3</td>\n",
       "      <td>NaN</td>\n",
       "      <td>6.0</td>\n",
       "      <td>51.3</td>\n",
       "      <td>2</td>\n",
       "      <td>NaN</td>\n",
       "      <td>...</td>\n",
       "      <td>9.10</td>\n",
       "      <td>0.0</td>\n",
       "      <td>Санкт-Петербург</td>\n",
       "      <td>16477.0</td>\n",
       "      <td>7306.0</td>\n",
       "      <td>0.0</td>\n",
       "      <td>NaN</td>\n",
       "      <td>0.0</td>\n",
       "      <td>NaN</td>\n",
       "      <td>346.0</td>\n",
       "    </tr>\n",
       "    <tr>\n",
       "      <th>414</th>\n",
       "      <td>2</td>\n",
       "      <td>5600000.0</td>\n",
       "      <td>41.41</td>\n",
       "      <td>2018-03-31T00:00:00</td>\n",
       "      <td>1</td>\n",
       "      <td>NaN</td>\n",
       "      <td>13.0</td>\n",
       "      <td>12.3</td>\n",
       "      <td>10</td>\n",
       "      <td>NaN</td>\n",
       "      <td>...</td>\n",
       "      <td>11.24</td>\n",
       "      <td>NaN</td>\n",
       "      <td>Санкт-Петербург</td>\n",
       "      <td>35966.0</td>\n",
       "      <td>11487.0</td>\n",
       "      <td>0.0</td>\n",
       "      <td>NaN</td>\n",
       "      <td>3.0</td>\n",
       "      <td>363.0</td>\n",
       "      <td>227.0</td>\n",
       "    </tr>\n",
       "    <tr>\n",
       "      <th>14680</th>\n",
       "      <td>18</td>\n",
       "      <td>4950000.0</td>\n",
       "      <td>55.00</td>\n",
       "      <td>2018-09-28T00:00:00</td>\n",
       "      <td>3</td>\n",
       "      <td>NaN</td>\n",
       "      <td>19.0</td>\n",
       "      <td>34.6</td>\n",
       "      <td>2</td>\n",
       "      <td>NaN</td>\n",
       "      <td>...</td>\n",
       "      <td>9.50</td>\n",
       "      <td>2.0</td>\n",
       "      <td>посёлок Мурино</td>\n",
       "      <td>NaN</td>\n",
       "      <td>NaN</td>\n",
       "      <td>NaN</td>\n",
       "      <td>NaN</td>\n",
       "      <td>NaN</td>\n",
       "      <td>NaN</td>\n",
       "      <td>75.0</td>\n",
       "    </tr>\n",
       "    <tr>\n",
       "      <th>7082</th>\n",
       "      <td>7</td>\n",
       "      <td>4800000.0</td>\n",
       "      <td>45.00</td>\n",
       "      <td>2016-05-17T00:00:00</td>\n",
       "      <td>1</td>\n",
       "      <td>NaN</td>\n",
       "      <td>25.0</td>\n",
       "      <td>17.0</td>\n",
       "      <td>16</td>\n",
       "      <td>False</td>\n",
       "      <td>...</td>\n",
       "      <td>13.90</td>\n",
       "      <td>2.0</td>\n",
       "      <td>Санкт-Петербург</td>\n",
       "      <td>48012.0</td>\n",
       "      <td>15501.0</td>\n",
       "      <td>0.0</td>\n",
       "      <td>NaN</td>\n",
       "      <td>0.0</td>\n",
       "      <td>NaN</td>\n",
       "      <td>318.0</td>\n",
       "    </tr>\n",
       "  </tbody>\n",
       "</table>\n",
       "<p>10 rows × 22 columns</p>\n",
       "</div>"
      ],
      "text/plain": [
       "       total_images  last_price  total_area first_day_exposition  rooms  \\\n",
       "324               0   6090000.0       62.00  2015-09-06T00:00:00      2   \n",
       "12658            20   4050000.0       59.60  2018-03-28T00:00:00      3   \n",
       "18792            17   6200000.0       57.50  2017-12-18T00:00:00      3   \n",
       "20824             1   6300000.0       66.00  2018-02-02T00:00:00      3   \n",
       "8720             19  12300000.0       62.30  2018-11-14T00:00:00      1   \n",
       "9453              7   4700000.0       79.00  2017-05-18T00:00:00      3   \n",
       "15005             2   7800000.0       75.80  2015-08-01T00:00:00      3   \n",
       "414               2   5600000.0       41.41  2018-03-31T00:00:00      1   \n",
       "14680            18   4950000.0       55.00  2018-09-28T00:00:00      3   \n",
       "7082              7   4800000.0       45.00  2016-05-17T00:00:00      1   \n",
       "\n",
       "       ceiling_height  floors_total  living_area  floor is_apartment  ...  \\\n",
       "324               NaN          28.0         30.0     22          NaN  ...   \n",
       "12658            2.50           5.0         38.0      5          NaN  ...   \n",
       "18792            2.60           5.0         42.2      3          NaN  ...   \n",
       "20824            2.60           9.0         43.9      7          NaN  ...   \n",
       "8720             2.96           6.0         25.0      5          NaN  ...   \n",
       "9453              NaN           9.0         45.0      9          NaN  ...   \n",
       "15005             NaN           6.0         51.3      2          NaN  ...   \n",
       "414               NaN          13.0         12.3     10          NaN  ...   \n",
       "14680             NaN          19.0         34.6      2          NaN  ...   \n",
       "7082              NaN          25.0         17.0     16        False  ...   \n",
       "\n",
       "       kitchen_area  balcony    locality_name  airports_nearest  \\\n",
       "324           10.00      1.0  Санкт-Петербург           19971.0   \n",
       "12658          8.50      NaN         Отрадное               NaN   \n",
       "18792          5.30      NaN  Санкт-Петербург           40319.0   \n",
       "20824          8.80      1.0  Санкт-Петербург           10482.0   \n",
       "8720          18.00      NaN  Санкт-Петербург           24750.0   \n",
       "9453          14.50      0.0        Сертолово               NaN   \n",
       "15005          9.10      0.0  Санкт-Петербург           16477.0   \n",
       "414           11.24      NaN  Санкт-Петербург           35966.0   \n",
       "14680          9.50      2.0   посёлок Мурино               NaN   \n",
       "7082          13.90      2.0  Санкт-Петербург           48012.0   \n",
       "\n",
       "      cityCenters_nearest  parks_around3000  parks_nearest  ponds_around3000  \\\n",
       "324               21683.0               0.0            NaN               1.0   \n",
       "12658                 NaN               NaN            NaN               NaN   \n",
       "18792             12022.0               1.0          464.0               0.0   \n",
       "20824             13051.0               0.0            NaN               0.0   \n",
       "8720               3080.0               2.0          552.0               0.0   \n",
       "9453                  NaN               NaN            NaN               NaN   \n",
       "15005              7306.0               0.0            NaN               0.0   \n",
       "414               11487.0               0.0            NaN               3.0   \n",
       "14680                 NaN               NaN            NaN               NaN   \n",
       "7082              15501.0               0.0            NaN               0.0   \n",
       "\n",
       "       ponds_nearest  days_exposition  \n",
       "324            546.0            323.0  \n",
       "12658            NaN              NaN  \n",
       "18792            NaN             60.0  \n",
       "20824            NaN             17.0  \n",
       "8720             NaN              NaN  \n",
       "9453             NaN            151.0  \n",
       "15005            NaN            346.0  \n",
       "414            363.0            227.0  \n",
       "14680            NaN             75.0  \n",
       "7082             NaN            318.0  \n",
       "\n",
       "[10 rows x 22 columns]"
      ]
     },
     "execution_count": 230,
     "metadata": {},
     "output_type": "execute_result"
    }
   ],
   "source": [
    "df = pd.read_csv('/datasets/real_estate_data.csv', sep = '\\t')\n",
    "\n",
    "df.sample(10)"
   ]
  },
  {
   "cell_type": "code",
   "execution_count": 231,
   "metadata": {},
   "outputs": [
    {
     "name": "stdout",
     "output_type": "stream",
     "text": [
      "<class 'pandas.core.frame.DataFrame'>\n",
      "RangeIndex: 23699 entries, 0 to 23698\n",
      "Data columns (total 22 columns):\n",
      " #   Column                Non-Null Count  Dtype  \n",
      "---  ------                --------------  -----  \n",
      " 0   total_images          23699 non-null  int64  \n",
      " 1   last_price            23699 non-null  float64\n",
      " 2   total_area            23699 non-null  float64\n",
      " 3   first_day_exposition  23699 non-null  object \n",
      " 4   rooms                 23699 non-null  int64  \n",
      " 5   ceiling_height        14504 non-null  float64\n",
      " 6   floors_total          23613 non-null  float64\n",
      " 7   living_area           21796 non-null  float64\n",
      " 8   floor                 23699 non-null  int64  \n",
      " 9   is_apartment          2775 non-null   object \n",
      " 10  studio                23699 non-null  bool   \n",
      " 11  open_plan             23699 non-null  bool   \n",
      " 12  kitchen_area          21421 non-null  float64\n",
      " 13  balcony               12180 non-null  float64\n",
      " 14  locality_name         23650 non-null  object \n",
      " 15  airports_nearest      18157 non-null  float64\n",
      " 16  cityCenters_nearest   18180 non-null  float64\n",
      " 17  parks_around3000      18181 non-null  float64\n",
      " 18  parks_nearest         8079 non-null   float64\n",
      " 19  ponds_around3000      18181 non-null  float64\n",
      " 20  ponds_nearest         9110 non-null   float64\n",
      " 21  days_exposition       20518 non-null  float64\n",
      "dtypes: bool(2), float64(14), int64(3), object(3)\n",
      "memory usage: 3.7+ MB\n"
     ]
    }
   ],
   "source": [
    "df.info()"
   ]
  },
  {
   "cell_type": "markdown",
   "metadata": {},
   "source": [
    "В данных есть пропущенные значения и подходящие типы данных. Разберемся с ними."
   ]
  },
  {
   "cell_type": "markdown",
   "metadata": {},
   "source": [
    "<div class=\"alert alert-block alert-success\">\n",
    "<b>Успех ✔️:</b> Данные на базе, идем дальше)\n",
    "</div>"
   ]
  },
  {
   "cell_type": "markdown",
   "metadata": {},
   "source": [
    "## Предобработка данных"
   ]
  },
  {
   "cell_type": "markdown",
   "metadata": {},
   "source": [
    "### Шаг 2.1 Заполнение пропусков"
   ]
  },
  {
   "cell_type": "markdown",
   "metadata": {},
   "source": [
    "Столбцы, где есть пропущенные значание:\n",
    "* `ceiling_height` - высота потолков (м)\n",
    "* `floors_total` - всего этажей в доме\n",
    "* `living_area` - жилая площадь в квадратных метрах (м²)\n",
    "* `is_apartment` - апартаменты (булев тип)\n",
    "* `kitchen_area` - площадь кухни в квадратных метрах (м²)\n",
    "* `balcony` - число балконов\n",
    "* `locality_name` - название населённого пункта\n",
    "* `airports_nearest` - расстояние до ближайшего аэропорта в метрах (м)\n",
    "* `cityCenters_nearest` - расстояние до центра города (м)\n",
    "* `parks_around3000` - число парков в радиусе 3 км\n",
    "* `parks_nearest` - расстояние до ближайшего парка (м)\n",
    "* `ponds_around3000` - число водоёмов в радиусе 3 км\n",
    "* `ponds_nearest` - расстояние до ближайшего водоёма (м)\n",
    "* `days_exposition` - сколько дней было размещено объявление (от публикации до снятия)\n",
    "\n",
    "Пропущенные значения в `balcony`, скорее всего, означают отсутствие балконов в квартире.  Аналогично в `parks_around3000`, `ponds_around3000`. Заменим эти пропуски на 0."
   ]
  },
  {
   "cell_type": "code",
   "execution_count": 232,
   "metadata": {},
   "outputs": [
    {
     "data": {
      "text/plain": [
       "total_images            0.000\n",
       "last_price              0.000\n",
       "total_area              0.000\n",
       "first_day_exposition    0.000\n",
       "rooms                   0.000\n",
       "ceiling_height          0.388\n",
       "floors_total            0.004\n",
       "living_area             0.080\n",
       "floor                   0.000\n",
       "is_apartment            0.883\n",
       "studio                  0.000\n",
       "open_plan               0.000\n",
       "kitchen_area            0.096\n",
       "balcony                 0.000\n",
       "locality_name           0.002\n",
       "airports_nearest        0.234\n",
       "cityCenters_nearest     0.233\n",
       "parks_around3000        0.000\n",
       "parks_nearest           0.659\n",
       "ponds_around3000        0.000\n",
       "ponds_nearest           0.616\n",
       "days_exposition         0.134\n",
       "dtype: float64"
      ]
     },
     "execution_count": 232,
     "metadata": {},
     "output_type": "execute_result"
    }
   ],
   "source": [
    "df['balcony'] = df['balcony'].fillna(0)\n",
    "df['parks_around3000'] = df['parks_around3000'].fillna(0)\n",
    "df['ponds_around3000'] = df['ponds_around3000'].fillna(0)\n",
    "\n",
    "#проверим, что пропусков в этих столбцах больше нет\n",
    "round(df.isna().mean(), 3)"
   ]
  },
  {
   "cell_type": "markdown",
   "metadata": {},
   "source": [
    "<div class=\"alert alert-block alert-success\">\n",
    "<b>Успех ✔️:</b> Принято)\n",
    "</div>"
   ]
  },
  {
   "cell_type": "markdown",
   "metadata": {},
   "source": [
    "Пропуски в `ceiling_height`заменим на медиану.\n",
    "\n",
    "Прежде чем заполнить пропуски, проверим, что в столбцах нет отрицательных значений."
   ]
  },
  {
   "cell_type": "code",
   "execution_count": 233,
   "metadata": {},
   "outputs": [
    {
     "data": {
      "text/html": [
       "<div>\n",
       "<style scoped>\n",
       "    .dataframe tbody tr th:only-of-type {\n",
       "        vertical-align: middle;\n",
       "    }\n",
       "\n",
       "    .dataframe tbody tr th {\n",
       "        vertical-align: top;\n",
       "    }\n",
       "\n",
       "    .dataframe thead th {\n",
       "        text-align: right;\n",
       "    }\n",
       "</style>\n",
       "<table border=\"1\" class=\"dataframe\">\n",
       "  <thead>\n",
       "    <tr style=\"text-align: right;\">\n",
       "      <th></th>\n",
       "      <th>total_images</th>\n",
       "      <th>last_price</th>\n",
       "      <th>total_area</th>\n",
       "      <th>first_day_exposition</th>\n",
       "      <th>rooms</th>\n",
       "      <th>ceiling_height</th>\n",
       "      <th>floors_total</th>\n",
       "      <th>living_area</th>\n",
       "      <th>floor</th>\n",
       "      <th>is_apartment</th>\n",
       "      <th>...</th>\n",
       "      <th>kitchen_area</th>\n",
       "      <th>balcony</th>\n",
       "      <th>locality_name</th>\n",
       "      <th>airports_nearest</th>\n",
       "      <th>cityCenters_nearest</th>\n",
       "      <th>parks_around3000</th>\n",
       "      <th>parks_nearest</th>\n",
       "      <th>ponds_around3000</th>\n",
       "      <th>ponds_nearest</th>\n",
       "      <th>days_exposition</th>\n",
       "    </tr>\n",
       "  </thead>\n",
       "  <tbody>\n",
       "  </tbody>\n",
       "</table>\n",
       "<p>0 rows × 22 columns</p>\n",
       "</div>"
      ],
      "text/plain": [
       "Empty DataFrame\n",
       "Columns: [total_images, last_price, total_area, first_day_exposition, rooms, ceiling_height, floors_total, living_area, floor, is_apartment, studio, open_plan, kitchen_area, balcony, locality_name, airports_nearest, cityCenters_nearest, parks_around3000, parks_nearest, ponds_around3000, ponds_nearest, days_exposition]\n",
       "Index: []\n",
       "\n",
       "[0 rows x 22 columns]"
      ]
     },
     "execution_count": 233,
     "metadata": {},
     "output_type": "execute_result"
    }
   ],
   "source": [
    "#проверим, что нет отрицательных значений\n",
    "df[df['ceiling_height'] < 0]"
   ]
  },
  {
   "cell_type": "code",
   "execution_count": 234,
   "metadata": {},
   "outputs": [
    {
     "data": {
      "text/plain": [
       "total_images            0.000\n",
       "last_price              0.000\n",
       "total_area              0.000\n",
       "first_day_exposition    0.000\n",
       "rooms                   0.000\n",
       "ceiling_height          0.000\n",
       "floors_total            0.004\n",
       "living_area             0.080\n",
       "floor                   0.000\n",
       "is_apartment            0.883\n",
       "studio                  0.000\n",
       "open_plan               0.000\n",
       "kitchen_area            0.096\n",
       "balcony                 0.000\n",
       "locality_name           0.002\n",
       "airports_nearest        0.234\n",
       "cityCenters_nearest     0.233\n",
       "parks_around3000        0.000\n",
       "parks_nearest           0.659\n",
       "ponds_around3000        0.000\n",
       "ponds_nearest           0.616\n",
       "days_exposition         0.134\n",
       "dtype: float64"
      ]
     },
     "execution_count": 234,
     "metadata": {},
     "output_type": "execute_result"
    }
   ],
   "source": [
    "#заполнение пропусков медианой\n",
    "df['ceiling_height'] = df['ceiling_height'].fillna(df['ceiling_height'].median())\n",
    "\n",
    "#проверим, что пропусков не осталось\n",
    "round(df.isna().mean(), 3)"
   ]
  },
  {
   "cell_type": "markdown",
   "metadata": {},
   "source": [
    "Для заполнения пропусков в `living_area` умножим среднюю долю отношения жилой площади к общей на общуюю площадь.\n",
    "Аналогично с `kitchen_area`. "
   ]
  },
  {
   "cell_type": "code",
   "execution_count": 235,
   "metadata": {},
   "outputs": [
    {
     "data": {
      "text/plain": [
       "total_images            0.000\n",
       "last_price              0.000\n",
       "total_area              0.000\n",
       "first_day_exposition    0.000\n",
       "rooms                   0.000\n",
       "ceiling_height          0.000\n",
       "floors_total            0.004\n",
       "living_area             0.000\n",
       "floor                   0.000\n",
       "is_apartment            0.883\n",
       "studio                  0.000\n",
       "open_plan               0.000\n",
       "kitchen_area            0.000\n",
       "balcony                 0.000\n",
       "locality_name           0.002\n",
       "airports_nearest        0.234\n",
       "cityCenters_nearest     0.233\n",
       "parks_around3000        0.000\n",
       "parks_nearest           0.659\n",
       "ponds_around3000        0.000\n",
       "ponds_nearest           0.616\n",
       "days_exposition         0.134\n",
       "living_to_total         0.080\n",
       "kitchen_to_total        0.096\n",
       "dtype: float64"
      ]
     },
     "execution_count": 235,
     "metadata": {},
     "output_type": "execute_result"
    }
   ],
   "source": [
    "# создадим столбец с отношением жилой площади к общей\n",
    "df['living_to_total'] = df['living_area'] / df['total_area']\n",
    "\n",
    "# создадим столбец с отношением жилой площади к общей\n",
    "df['kitchen_to_total'] = df['kitchen_area'] / df['total_area']\n",
    "\n",
    "df['living_area'] = df['living_area'].fillna(round(df['living_to_total'].mean() * df['total_area'], 2))\n",
    "df['kitchen_area'] = df['kitchen_area'].fillna(round(df['kitchen_to_total'].mean() * df['total_area'], 2))\n",
    "\n",
    "round(df.isna().mean(), 3)"
   ]
  },
  {
   "cell_type": "markdown",
   "metadata": {},
   "source": [
    "Доля пропусков в `floors_total` очень мала, меньше 1 процента, просто уберем строки с пропущенными значениями."
   ]
  },
  {
   "cell_type": "code",
   "execution_count": 236,
   "metadata": {},
   "outputs": [
    {
     "name": "stdout",
     "output_type": "stream",
     "text": [
      "<class 'pandas.core.frame.DataFrame'>\n",
      "Int64Index: 23613 entries, 0 to 23698\n",
      "Data columns (total 24 columns):\n",
      " #   Column                Non-Null Count  Dtype  \n",
      "---  ------                --------------  -----  \n",
      " 0   total_images          23613 non-null  int64  \n",
      " 1   last_price            23613 non-null  float64\n",
      " 2   total_area            23613 non-null  float64\n",
      " 3   first_day_exposition  23613 non-null  object \n",
      " 4   rooms                 23613 non-null  int64  \n",
      " 5   ceiling_height        23613 non-null  float64\n",
      " 6   floors_total          23613 non-null  float64\n",
      " 7   living_area           23613 non-null  float64\n",
      " 8   floor                 23613 non-null  int64  \n",
      " 9   is_apartment          2775 non-null   object \n",
      " 10  studio                23613 non-null  bool   \n",
      " 11  open_plan             23613 non-null  bool   \n",
      " 12  kitchen_area          23613 non-null  float64\n",
      " 13  balcony               23613 non-null  float64\n",
      " 14  locality_name         23565 non-null  object \n",
      " 15  airports_nearest      18081 non-null  float64\n",
      " 16  cityCenters_nearest   18104 non-null  float64\n",
      " 17  parks_around3000      23613 non-null  float64\n",
      " 18  parks_nearest         8045 non-null   float64\n",
      " 19  ponds_around3000      23613 non-null  float64\n",
      " 20  ponds_nearest         9061 non-null   float64\n",
      " 21  days_exposition       20441 non-null  float64\n",
      " 22  living_to_total       21743 non-null  float64\n",
      " 23  kitchen_to_total      21382 non-null  float64\n",
      "dtypes: bool(2), float64(16), int64(3), object(3)\n",
      "memory usage: 4.2+ MB\n"
     ]
    }
   ],
   "source": [
    "df = df.dropna(subset=['floors_total'])\n",
    "df.info()"
   ]
  },
  {
   "cell_type": "markdown",
   "metadata": {},
   "source": [
    "<div class=\"alert alert-block alert-danger\">\n",
    "<b>Ошибка ❌:</b> Комментарии по заполнениям:  \n",
    "    \n",
    "**ceiling_height:** Все верно  \n",
    "    \n",
    "    \n",
    "**living_area:** Не совсем так у нас слишком большой разброс в общей площади, медиана в таком виде не подойдет. Тут можно использовать среднюю долю жилой площади к общей для заполнения. Т.е. мы создаем колонку с долей жилой площади к общей берем по ней среднее и это среднее умножаем на общую площадь, получаются значения, которые могут корректно заполнить тут пропуски) \n",
    "    \n",
    "    \n",
    "**kitchen_area:** Также поступаем, как и с жилой площадью  \n",
    "    \n",
    "    \n",
    "**floors_total:** Тут точно медиана не подойдет. Медиана получится 9, заполняем ей пропуски и находим в доме у которого максимум 9 этажей, квартиру на 10 и более этажах. Тут лучше присмотреться к доле пропусков, это маленькая подсказка)  \n",
    "    \n",
    "    \n",
    "**days_exposition:** Этот признак лучше вообще никак не заполнять и оставить пропуски. Заполнять мы, строго говоря, имеем право только когда данные пропущены совершенно случайно (MCAR) - тогда заполнение не повлияет на характер связи между заполняемой переменной и остальными. Тут подробнее: https://loginom.ru/blog/missing\n",
    "</div>"
   ]
  },
  {
   "cell_type": "markdown",
   "metadata": {},
   "source": [
    "Данные в `is_apartment`, `locality_name`, возможно, некоторые пользователи не заполняли. Не будем их заменять.\n",
    "\n",
    "Пропуски в `days_exposition` не будем заполнять, потому что это могут быть не совершенно случайные пропуски.\n",
    "\n",
    "Пропуски в `parks_nearest`, `airports_nearest`, `cityCenters_nearest`, `ponds_nearest` могут бысть причиной сбоя при парсинге картографических данных или в том, что часть данных начали собирать позже. \n",
    "\n",
    "Данные в `parks_nearest`, `airports_nearest`, `ponds_nearest` нам не понадобятся для исследования, поэтому пропуски в ним заполнять пока нет нужды.\n",
    "\n",
    "А вот столбец `cityCenters_nearest` понадобится дальше, нужно исследовать эти пропуски.  "
   ]
  },
  {
   "cell_type": "code",
   "execution_count": 237,
   "metadata": {},
   "outputs": [
    {
     "data": {
      "text/plain": [
       "посёлок Мурино                                       520\n",
       "Всеволожск                                           398\n",
       "Гатчина                                              307\n",
       "деревня Кудрово                                      299\n",
       "Выборг                                               237\n",
       "                                                    ... \n",
       "поселок Рабитицы                                       1\n",
       "деревня Рапполово                                      1\n",
       "коттеджный поселок Счастье                             1\n",
       "деревня Кривко                                         1\n",
       "посёлок при железнодорожной станции Приветнинское      1\n",
       "Name: locality_name, Length: 345, dtype: int64"
      ]
     },
     "execution_count": 237,
     "metadata": {},
     "output_type": "execute_result"
    }
   ],
   "source": [
    "df.loc[(df['cityCenters_nearest'].isna())]['locality_name'].value_counts()"
   ]
  },
  {
   "cell_type": "code",
   "execution_count": 238,
   "metadata": {},
   "outputs": [
    {
     "data": {
      "text/plain": [
       "Series([], Name: cityCenters_nearest, dtype: int64)"
      ]
     },
     "execution_count": 238,
     "metadata": {},
     "output_type": "execute_result"
    }
   ],
   "source": [
    "df[df['locality_name'].isin(['посёлок Мурино', 'Всеволожск', 'Гатчина'])]['cityCenters_nearest'].value_counts()"
   ]
  },
  {
   "cell_type": "markdown",
   "metadata": {},
   "source": [
    "Значения `cityCenters_nearest` пропущены для целых городов. Если заполнить такие пропуски средним, то мы получим одинаковые значения расстояния до центра для целых городов. А если это маленький поселок, то это значение может оказаться еще и слишком большим для поселка.\n",
    "\n",
    "Поэтому пропуски в `cityCenters_nearest` заполнять не будем.\n",
    "\n",
    "Закончили с обработкой пропущенных значений."
   ]
  },
  {
   "cell_type": "markdown",
   "metadata": {},
   "source": [
    "<div class=\"alert alert-block alert-success\">\n",
    "<b>Успех ✔️:</b> Принято)\n",
    "</div>"
   ]
  },
  {
   "cell_type": "markdown",
   "metadata": {},
   "source": [
    "### Шаг 2.2 Изменение типов данных"
   ]
  },
  {
   "cell_type": "code",
   "execution_count": 239,
   "metadata": {},
   "outputs": [
    {
     "name": "stdout",
     "output_type": "stream",
     "text": [
      "<class 'pandas.core.frame.DataFrame'>\n",
      "Int64Index: 23613 entries, 0 to 23698\n",
      "Data columns (total 24 columns):\n",
      " #   Column                Non-Null Count  Dtype  \n",
      "---  ------                --------------  -----  \n",
      " 0   total_images          23613 non-null  int64  \n",
      " 1   last_price            23613 non-null  float64\n",
      " 2   total_area            23613 non-null  float64\n",
      " 3   first_day_exposition  23613 non-null  object \n",
      " 4   rooms                 23613 non-null  int64  \n",
      " 5   ceiling_height        23613 non-null  float64\n",
      " 6   floors_total          23613 non-null  float64\n",
      " 7   living_area           23613 non-null  float64\n",
      " 8   floor                 23613 non-null  int64  \n",
      " 9   is_apartment          2775 non-null   object \n",
      " 10  studio                23613 non-null  bool   \n",
      " 11  open_plan             23613 non-null  bool   \n",
      " 12  kitchen_area          23613 non-null  float64\n",
      " 13  balcony               23613 non-null  float64\n",
      " 14  locality_name         23565 non-null  object \n",
      " 15  airports_nearest      18081 non-null  float64\n",
      " 16  cityCenters_nearest   18104 non-null  float64\n",
      " 17  parks_around3000      23613 non-null  float64\n",
      " 18  parks_nearest         8045 non-null   float64\n",
      " 19  ponds_around3000      23613 non-null  float64\n",
      " 20  ponds_nearest         9061 non-null   float64\n",
      " 21  days_exposition       20441 non-null  float64\n",
      " 22  living_to_total       21743 non-null  float64\n",
      " 23  kitchen_to_total      21382 non-null  float64\n",
      "dtypes: bool(2), float64(16), int64(3), object(3)\n",
      "memory usage: 4.2+ MB\n"
     ]
    }
   ],
   "source": [
    "df.info()"
   ]
  },
  {
   "cell_type": "markdown",
   "metadata": {},
   "source": [
    "В некоторых столбцах типы данных логичнее заменить на другие. Даты заменим на явный тип datetime64. Значения, которые не могут быть дробными, на int. Среди них:\n",
    "* `first_day_exposition` - сделать datetime64\n",
    "* `floors_total` - сделать int\n",
    "* `last_price` - сделать int\n",
    "* `is_apartment` - сделать bool\n",
    "* `balcony` - сделать int\n",
    "* `days_exposition` - сделать int\n",
    "* `parks_around3000` - сделать int\n",
    "* `ponds_around3000`- сделать int\n",
    "* `airports_nearest` - сделать int"
   ]
  },
  {
   "cell_type": "code",
   "execution_count": 240,
   "metadata": {},
   "outputs": [
    {
     "name": "stdout",
     "output_type": "stream",
     "text": [
      "<class 'pandas.core.frame.DataFrame'>\n",
      "Int64Index: 23613 entries, 0 to 23698\n",
      "Data columns (total 24 columns):\n",
      " #   Column                Non-Null Count  Dtype         \n",
      "---  ------                --------------  -----         \n",
      " 0   total_images          23613 non-null  int64         \n",
      " 1   last_price            23613 non-null  int64         \n",
      " 2   total_area            23613 non-null  float64       \n",
      " 3   first_day_exposition  23613 non-null  datetime64[ns]\n",
      " 4   rooms                 23613 non-null  int64         \n",
      " 5   ceiling_height        23613 non-null  float64       \n",
      " 6   floors_total          23613 non-null  int64         \n",
      " 7   living_area           23613 non-null  float64       \n",
      " 8   floor                 23613 non-null  int64         \n",
      " 9   is_apartment          23613 non-null  bool          \n",
      " 10  studio                23613 non-null  bool          \n",
      " 11  open_plan             23613 non-null  bool          \n",
      " 12  kitchen_area          23613 non-null  float64       \n",
      " 13  balcony               23613 non-null  int64         \n",
      " 14  locality_name         23565 non-null  object        \n",
      " 15  airports_nearest      18081 non-null  Int64         \n",
      " 16  cityCenters_nearest   18104 non-null  float64       \n",
      " 17  parks_around3000      23613 non-null  int64         \n",
      " 18  parks_nearest         8045 non-null   Int64         \n",
      " 19  ponds_around3000      23613 non-null  int64         \n",
      " 20  ponds_nearest         9061 non-null   Int64         \n",
      " 21  days_exposition       20441 non-null  float64       \n",
      " 22  living_to_total       21743 non-null  float64       \n",
      " 23  kitchen_to_total      21382 non-null  float64       \n",
      "dtypes: Int64(3), bool(3), datetime64[ns](1), float64(8), int64(8), object(1)\n",
      "memory usage: 4.1+ MB\n"
     ]
    }
   ],
   "source": [
    "#заменим на нужные типы данных\n",
    "df['balcony'] = df['balcony'].astype('int')\n",
    "df['airports_nearest'] = pd.to_numeric(df['airports_nearest'], errors='coerce').astype('Int64')\n",
    "df['parks_nearest'] = pd.to_numeric(df['parks_nearest'], errors='coerce').astype('Int64')\n",
    "df['ponds_nearest'] = pd.to_numeric(df['ponds_nearest'], errors='coerce').astype('Int64')\n",
    "df['last_price'] = df['last_price'].astype('int')\n",
    "df['floors_total'] = df['floors_total'].astype('int')\n",
    "df['parks_around3000'] = df['parks_around3000'].astype('int')\n",
    "df['ponds_around3000'] = df['ponds_around3000'].astype('int')\n",
    "df['is_apartment'] = df['is_apartment'].astype('bool')\n",
    "\n",
    "#приводим к типу datetime64\n",
    "df['first_day_exposition'] = pd.to_datetime(df['first_day_exposition'], format='%Y-%m-%dT%H:%M:%S')\n",
    "# округляем до ближайшего значения с шагом в один день\n",
    "df['first_day_exposition'] = df['first_day_exposition'].dt.round('1d')\n",
    "\n",
    "#проверим, что успешно поменяли типы данных\n",
    "df.info()"
   ]
  },
  {
   "cell_type": "markdown",
   "metadata": {},
   "source": [
    "Мы закончили предобработку данных. Можем приступать к исследованию."
   ]
  },
  {
   "cell_type": "markdown",
   "metadata": {},
   "source": [
    "## Расчёты и добавление результатов в таблицу"
   ]
  },
  {
   "cell_type": "markdown",
   "metadata": {},
   "source": [
    "Добавим в таблицу еще некоторые показатели."
   ]
  },
  {
   "cell_type": "code",
   "execution_count": 241,
   "metadata": {},
   "outputs": [
    {
     "data": {
      "text/html": [
       "<div>\n",
       "<style scoped>\n",
       "    .dataframe tbody tr th:only-of-type {\n",
       "        vertical-align: middle;\n",
       "    }\n",
       "\n",
       "    .dataframe tbody tr th {\n",
       "        vertical-align: top;\n",
       "    }\n",
       "\n",
       "    .dataframe thead th {\n",
       "        text-align: right;\n",
       "    }\n",
       "</style>\n",
       "<table border=\"1\" class=\"dataframe\">\n",
       "  <thead>\n",
       "    <tr style=\"text-align: right;\">\n",
       "      <th></th>\n",
       "      <th>total_images</th>\n",
       "      <th>last_price</th>\n",
       "      <th>total_area</th>\n",
       "      <th>first_day_exposition</th>\n",
       "      <th>rooms</th>\n",
       "      <th>ceiling_height</th>\n",
       "      <th>floors_total</th>\n",
       "      <th>living_area</th>\n",
       "      <th>floor</th>\n",
       "      <th>is_apartment</th>\n",
       "      <th>...</th>\n",
       "      <th>days_exposition</th>\n",
       "      <th>living_to_total</th>\n",
       "      <th>kitchen_to_total</th>\n",
       "      <th>price_per_square_meter</th>\n",
       "      <th>day_exposition</th>\n",
       "      <th>month_exposition</th>\n",
       "      <th>year_exposition</th>\n",
       "      <th>floor_category</th>\n",
       "      <th>living_to_total_area</th>\n",
       "      <th>kitchen_to_total_area</th>\n",
       "    </tr>\n",
       "  </thead>\n",
       "  <tbody>\n",
       "    <tr>\n",
       "      <th>0</th>\n",
       "      <td>20</td>\n",
       "      <td>13000000</td>\n",
       "      <td>108.00</td>\n",
       "      <td>2019-03-07</td>\n",
       "      <td>3</td>\n",
       "      <td>2.70</td>\n",
       "      <td>16</td>\n",
       "      <td>51.00</td>\n",
       "      <td>8</td>\n",
       "      <td>True</td>\n",
       "      <td>...</td>\n",
       "      <td>NaN</td>\n",
       "      <td>0.472222</td>\n",
       "      <td>0.231481</td>\n",
       "      <td>120370</td>\n",
       "      <td>3</td>\n",
       "      <td>3</td>\n",
       "      <td>2019</td>\n",
       "      <td>Другой</td>\n",
       "      <td>0.47</td>\n",
       "      <td>0.23</td>\n",
       "    </tr>\n",
       "    <tr>\n",
       "      <th>1</th>\n",
       "      <td>7</td>\n",
       "      <td>3350000</td>\n",
       "      <td>40.40</td>\n",
       "      <td>2018-12-04</td>\n",
       "      <td>1</td>\n",
       "      <td>2.65</td>\n",
       "      <td>11</td>\n",
       "      <td>18.60</td>\n",
       "      <td>1</td>\n",
       "      <td>True</td>\n",
       "      <td>...</td>\n",
       "      <td>81.0</td>\n",
       "      <td>0.460396</td>\n",
       "      <td>0.272277</td>\n",
       "      <td>82920</td>\n",
       "      <td>1</td>\n",
       "      <td>12</td>\n",
       "      <td>2018</td>\n",
       "      <td>Первый</td>\n",
       "      <td>0.46</td>\n",
       "      <td>0.27</td>\n",
       "    </tr>\n",
       "    <tr>\n",
       "      <th>2</th>\n",
       "      <td>10</td>\n",
       "      <td>5196000</td>\n",
       "      <td>56.00</td>\n",
       "      <td>2015-08-20</td>\n",
       "      <td>2</td>\n",
       "      <td>2.65</td>\n",
       "      <td>5</td>\n",
       "      <td>34.30</td>\n",
       "      <td>4</td>\n",
       "      <td>True</td>\n",
       "      <td>...</td>\n",
       "      <td>558.0</td>\n",
       "      <td>0.612500</td>\n",
       "      <td>0.148214</td>\n",
       "      <td>92785</td>\n",
       "      <td>3</td>\n",
       "      <td>8</td>\n",
       "      <td>2015</td>\n",
       "      <td>Другой</td>\n",
       "      <td>0.61</td>\n",
       "      <td>0.15</td>\n",
       "    </tr>\n",
       "    <tr>\n",
       "      <th>3</th>\n",
       "      <td>0</td>\n",
       "      <td>64900000</td>\n",
       "      <td>159.00</td>\n",
       "      <td>2015-07-24</td>\n",
       "      <td>3</td>\n",
       "      <td>2.65</td>\n",
       "      <td>14</td>\n",
       "      <td>89.80</td>\n",
       "      <td>9</td>\n",
       "      <td>True</td>\n",
       "      <td>...</td>\n",
       "      <td>424.0</td>\n",
       "      <td>NaN</td>\n",
       "      <td>NaN</td>\n",
       "      <td>408176</td>\n",
       "      <td>4</td>\n",
       "      <td>7</td>\n",
       "      <td>2015</td>\n",
       "      <td>Другой</td>\n",
       "      <td>0.56</td>\n",
       "      <td>0.19</td>\n",
       "    </tr>\n",
       "    <tr>\n",
       "      <th>4</th>\n",
       "      <td>2</td>\n",
       "      <td>10000000</td>\n",
       "      <td>100.00</td>\n",
       "      <td>2018-06-19</td>\n",
       "      <td>2</td>\n",
       "      <td>3.03</td>\n",
       "      <td>14</td>\n",
       "      <td>32.00</td>\n",
       "      <td>13</td>\n",
       "      <td>True</td>\n",
       "      <td>...</td>\n",
       "      <td>121.0</td>\n",
       "      <td>0.320000</td>\n",
       "      <td>0.410000</td>\n",
       "      <td>100000</td>\n",
       "      <td>1</td>\n",
       "      <td>6</td>\n",
       "      <td>2018</td>\n",
       "      <td>Другой</td>\n",
       "      <td>0.32</td>\n",
       "      <td>0.41</td>\n",
       "    </tr>\n",
       "    <tr>\n",
       "      <th>5</th>\n",
       "      <td>10</td>\n",
       "      <td>2890000</td>\n",
       "      <td>30.40</td>\n",
       "      <td>2018-09-10</td>\n",
       "      <td>1</td>\n",
       "      <td>2.65</td>\n",
       "      <td>12</td>\n",
       "      <td>14.40</td>\n",
       "      <td>5</td>\n",
       "      <td>True</td>\n",
       "      <td>...</td>\n",
       "      <td>55.0</td>\n",
       "      <td>0.473684</td>\n",
       "      <td>0.299342</td>\n",
       "      <td>95065</td>\n",
       "      <td>0</td>\n",
       "      <td>9</td>\n",
       "      <td>2018</td>\n",
       "      <td>Другой</td>\n",
       "      <td>0.47</td>\n",
       "      <td>0.30</td>\n",
       "    </tr>\n",
       "    <tr>\n",
       "      <th>6</th>\n",
       "      <td>6</td>\n",
       "      <td>3700000</td>\n",
       "      <td>37.30</td>\n",
       "      <td>2017-11-02</td>\n",
       "      <td>1</td>\n",
       "      <td>2.65</td>\n",
       "      <td>26</td>\n",
       "      <td>10.60</td>\n",
       "      <td>6</td>\n",
       "      <td>True</td>\n",
       "      <td>...</td>\n",
       "      <td>155.0</td>\n",
       "      <td>0.284182</td>\n",
       "      <td>0.386059</td>\n",
       "      <td>99195</td>\n",
       "      <td>3</td>\n",
       "      <td>11</td>\n",
       "      <td>2017</td>\n",
       "      <td>Другой</td>\n",
       "      <td>0.28</td>\n",
       "      <td>0.39</td>\n",
       "    </tr>\n",
       "    <tr>\n",
       "      <th>7</th>\n",
       "      <td>5</td>\n",
       "      <td>7915000</td>\n",
       "      <td>71.60</td>\n",
       "      <td>2019-04-18</td>\n",
       "      <td>2</td>\n",
       "      <td>2.65</td>\n",
       "      <td>24</td>\n",
       "      <td>40.44</td>\n",
       "      <td>22</td>\n",
       "      <td>True</td>\n",
       "      <td>...</td>\n",
       "      <td>NaN</td>\n",
       "      <td>NaN</td>\n",
       "      <td>0.263966</td>\n",
       "      <td>110544</td>\n",
       "      <td>3</td>\n",
       "      <td>4</td>\n",
       "      <td>2019</td>\n",
       "      <td>Другой</td>\n",
       "      <td>0.56</td>\n",
       "      <td>0.26</td>\n",
       "    </tr>\n",
       "    <tr>\n",
       "      <th>8</th>\n",
       "      <td>20</td>\n",
       "      <td>2900000</td>\n",
       "      <td>33.16</td>\n",
       "      <td>2018-05-23</td>\n",
       "      <td>1</td>\n",
       "      <td>2.65</td>\n",
       "      <td>27</td>\n",
       "      <td>15.43</td>\n",
       "      <td>26</td>\n",
       "      <td>True</td>\n",
       "      <td>...</td>\n",
       "      <td>189.0</td>\n",
       "      <td>0.465320</td>\n",
       "      <td>0.265682</td>\n",
       "      <td>87454</td>\n",
       "      <td>2</td>\n",
       "      <td>5</td>\n",
       "      <td>2018</td>\n",
       "      <td>Другой</td>\n",
       "      <td>0.47</td>\n",
       "      <td>0.27</td>\n",
       "    </tr>\n",
       "    <tr>\n",
       "      <th>9</th>\n",
       "      <td>18</td>\n",
       "      <td>5400000</td>\n",
       "      <td>61.00</td>\n",
       "      <td>2017-02-26</td>\n",
       "      <td>3</td>\n",
       "      <td>2.50</td>\n",
       "      <td>9</td>\n",
       "      <td>43.60</td>\n",
       "      <td>7</td>\n",
       "      <td>True</td>\n",
       "      <td>...</td>\n",
       "      <td>289.0</td>\n",
       "      <td>0.714754</td>\n",
       "      <td>0.106557</td>\n",
       "      <td>88524</td>\n",
       "      <td>6</td>\n",
       "      <td>2</td>\n",
       "      <td>2017</td>\n",
       "      <td>Другой</td>\n",
       "      <td>0.71</td>\n",
       "      <td>0.11</td>\n",
       "    </tr>\n",
       "  </tbody>\n",
       "</table>\n",
       "<p>10 rows × 31 columns</p>\n",
       "</div>"
      ],
      "text/plain": [
       "   total_images  last_price  total_area first_day_exposition  rooms  \\\n",
       "0            20    13000000      108.00           2019-03-07      3   \n",
       "1             7     3350000       40.40           2018-12-04      1   \n",
       "2            10     5196000       56.00           2015-08-20      2   \n",
       "3             0    64900000      159.00           2015-07-24      3   \n",
       "4             2    10000000      100.00           2018-06-19      2   \n",
       "5            10     2890000       30.40           2018-09-10      1   \n",
       "6             6     3700000       37.30           2017-11-02      1   \n",
       "7             5     7915000       71.60           2019-04-18      2   \n",
       "8            20     2900000       33.16           2018-05-23      1   \n",
       "9            18     5400000       61.00           2017-02-26      3   \n",
       "\n",
       "   ceiling_height  floors_total  living_area  floor  is_apartment  ...  \\\n",
       "0            2.70            16        51.00      8          True  ...   \n",
       "1            2.65            11        18.60      1          True  ...   \n",
       "2            2.65             5        34.30      4          True  ...   \n",
       "3            2.65            14        89.80      9          True  ...   \n",
       "4            3.03            14        32.00     13          True  ...   \n",
       "5            2.65            12        14.40      5          True  ...   \n",
       "6            2.65            26        10.60      6          True  ...   \n",
       "7            2.65            24        40.44     22          True  ...   \n",
       "8            2.65            27        15.43     26          True  ...   \n",
       "9            2.50             9        43.60      7          True  ...   \n",
       "\n",
       "   days_exposition  living_to_total  kitchen_to_total  price_per_square_meter  \\\n",
       "0              NaN         0.472222          0.231481                  120370   \n",
       "1             81.0         0.460396          0.272277                   82920   \n",
       "2            558.0         0.612500          0.148214                   92785   \n",
       "3            424.0              NaN               NaN                  408176   \n",
       "4            121.0         0.320000          0.410000                  100000   \n",
       "5             55.0         0.473684          0.299342                   95065   \n",
       "6            155.0         0.284182          0.386059                   99195   \n",
       "7              NaN              NaN          0.263966                  110544   \n",
       "8            189.0         0.465320          0.265682                   87454   \n",
       "9            289.0         0.714754          0.106557                   88524   \n",
       "\n",
       "  day_exposition  month_exposition  year_exposition  floor_category  \\\n",
       "0              3                 3             2019          Другой   \n",
       "1              1                12             2018          Первый   \n",
       "2              3                 8             2015          Другой   \n",
       "3              4                 7             2015          Другой   \n",
       "4              1                 6             2018          Другой   \n",
       "5              0                 9             2018          Другой   \n",
       "6              3                11             2017          Другой   \n",
       "7              3                 4             2019          Другой   \n",
       "8              2                 5             2018          Другой   \n",
       "9              6                 2             2017          Другой   \n",
       "\n",
       "   living_to_total_area  kitchen_to_total_area  \n",
       "0                  0.47                   0.23  \n",
       "1                  0.46                   0.27  \n",
       "2                  0.61                   0.15  \n",
       "3                  0.56                   0.19  \n",
       "4                  0.32                   0.41  \n",
       "5                  0.47                   0.30  \n",
       "6                  0.28                   0.39  \n",
       "7                  0.56                   0.26  \n",
       "8                  0.47                   0.27  \n",
       "9                  0.71                   0.11  \n",
       "\n",
       "[10 rows x 31 columns]"
      ]
     },
     "execution_count": 241,
     "metadata": {},
     "output_type": "execute_result"
    }
   ],
   "source": [
    "#цена за квадратный метр\n",
    "df['price_per_square_meter'] = (df['last_price'] / df['total_area']).astype('int')\n",
    "\n",
    "#день недели публикации\n",
    "df['day_exposition'] = df['first_day_exposition'].dt.weekday\n",
    "\n",
    "#месяц публикации\n",
    "df['month_exposition'] = df['first_day_exposition'].dt.month\n",
    "\n",
    "#год публикации\n",
    "df['year_exposition'] = df['first_day_exposition'].dt.year\n",
    "\n",
    "#категория этажа\n",
    "def get_floor_group(floor, floors_total):\n",
    "    if floor == 1:\n",
    "        return 'Первый'\n",
    "    elif floor == floors_total:\n",
    "        return 'Последний'\n",
    "    else:\n",
    "        return 'Другой'\n",
    "    \n",
    "#применим функцию к столбцам floor и floors_total и сохраним выводы в floor_category\n",
    "df['floor_category']=df.apply(lambda row : get_floor_group(row['floor'], row['floors_total']), axis=1)\n",
    "\n",
    "#отножение жилой площади к общей\n",
    "df['living_to_total_area'] = round(df['living_area'] / df['total_area'], 2)\n",
    "\n",
    "#отношение площади кухни к общей\n",
    "df['kitchen_to_total_area'] = round(df['kitchen_area'] / df['total_area'], 2)\n",
    "\n",
    "\n",
    "df.head(10)"
   ]
  },
  {
   "cell_type": "markdown",
   "metadata": {},
   "source": [
    "<div class=\"alert alert-block alert-success\">\n",
    "<b>Успех ✔️:</b> Категории получены, новые признаки созданы, отлично, идем дальше)\n",
    "</div>\n",
    "\n",
    "<div class=\"alert alert-block alert-danger\">\n",
    "<b>Ошибка ❌:</b> Добавь, пожалуйста, вывод по 3 этапу\n",
    "</div>"
   ]
  },
  {
   "cell_type": "markdown",
   "metadata": {},
   "source": [
    "<div class=\"alert alert-block alert-success\">\n",
    "<b>Комментарий ревьюера 2 ✔️:</b> Принято)\n",
    "</div>"
   ]
  },
  {
   "cell_type": "markdown",
   "metadata": {},
   "source": [
    "Мы добавили в таблицу полезные показатели:\n",
    "* `price_per_square_meter` - цена квадратного метра\n",
    "* `day_exposition` - день недели публикации объявления\n",
    "* `month_exposition` - месяц публикации объявления\n",
    "* `year_exposition` - год публикации объявления\n",
    "* `floor_category` - категория этажа квартиры (варианты — первый, последний, другой)\n",
    "* `living_to_total_area` - соотношение жилой и общей площади\n",
    "* `kitchen_to_total_area`- отношение площади кухни к общей"
   ]
  },
  {
   "cell_type": "markdown",
   "metadata": {},
   "source": [
    "## Исследовательский анализ данных"
   ]
  },
  {
   "cell_type": "markdown",
   "metadata": {},
   "source": [
    "### Изучение основных параметров"
   ]
  },
  {
   "cell_type": "markdown",
   "metadata": {},
   "source": [
    "Изучем самые важные параметры с помощью гистограм."
   ]
  },
  {
   "cell_type": "code",
   "execution_count": 242,
   "metadata": {},
   "outputs": [
    {
     "data": {
      "image/png": "[encoded data removed]",
      "text/plain": [
       "<Figure size 432x288 with 1 Axes>"
      ]
     },
     "metadata": {
      "needs_background": "light"
     },
     "output_type": "display_data"
    },
    {
     "data": {
      "image/png": "[encoded data removed]",
      "text/plain": [
       "<Figure size 432x288 with 1 Axes>"
      ]
     },
     "metadata": {
      "needs_background": "light"
     },
     "output_type": "display_data"
    },
    {
     "data": {
      "image/png": "[encoded data removed]",
      "text/plain": [
       "<Figure size 432x288 with 1 Axes>"
      ]
     },
     "metadata": {
      "needs_background": "light"
     },
     "output_type": "display_data"
    },
    {
     "data": {
      "text/plain": [
       "<AxesSubplot:>"
      ]
     },
     "execution_count": 242,
     "metadata": {},
     "output_type": "execute_result"
    },
    {
     "data": {
      "image/png": "[encoded data removed]",
      "text/plain": [
       "<Figure size 432x288 with 1 Axes>"
      ]
     },
     "metadata": {
      "needs_background": "light"
     },
     "output_type": "display_data"
    }
   ],
   "source": [
    "df['total_area'].hist(legend = True, range=(0, 350), bins = 35)\n",
    "plt.show()\n",
    "df['last_price'].hist(legend = True, range = (0, 40000000), bins = 40)\n",
    "plt.show()\n",
    "df['rooms'].hist(legend = True, range=(0, 9), bins = [0, 1, 2, 3, 4, 5, 6, 7, 8, 9])\n",
    "plt.show()\n",
    "df['ceiling_height'].hist(legend = True, range = (2, 4.5), bins = 25)"
   ]
  },
  {
   "cell_type": "markdown",
   "metadata": {},
   "source": [
    "В `rooms` есть нулевые значения. Возможно, это означает квартиры-студии. Остальные графики выглядят нормально.\n",
    "\n",
    "Самая распространенная площадь квартиры - 40 квадратных метров.\n",
    "Самое распространенное количество комнат - 1-2. Что соответствует площади 40 квадратных метров.\n",
    "Самая распространенная цена - 3 000 000 - 4 000 000.\n",
    "Самая распространенная высота потолков - 2.6-2.7 метров."
   ]
  },
  {
   "cell_type": "markdown",
   "metadata": {},
   "source": [
    "### Время продажи квартир"
   ]
  },
  {
   "cell_type": "markdown",
   "metadata": {},
   "source": [
    "Изучим время продажи квартир."
   ]
  },
  {
   "cell_type": "code",
   "execution_count": 243,
   "metadata": {},
   "outputs": [
    {
     "name": "stdout",
     "output_type": "stream",
     "text": [
      "среднее значение: 180\n",
      "медиана: 95.0\n"
     ]
    }
   ],
   "source": [
    "#среднее значение времени продажи\n",
    "print('среднее значение:', int(df['days_exposition'].mean()))\n",
    "\n",
    "#медиана времени продажи\n",
    "print('медиана:', df['days_exposition'].median())"
   ]
  },
  {
   "cell_type": "code",
   "execution_count": 244,
   "metadata": {},
   "outputs": [
    {
     "data": {
      "text/plain": [
       "<AxesSubplot:>"
      ]
     },
     "execution_count": 244,
     "metadata": {},
     "output_type": "execute_result"
    },
    {
     "data": {
      "image/png": "[encoded data removed]",
      "text/plain": [
       "<Figure size 720x360 with 1 Axes>"
      ]
     },
     "metadata": {
      "needs_background": "light"
     },
     "output_type": "display_data"
    }
   ],
   "source": [
    "df['days_exposition'].hist(legend = True, figsize = (10, 5))"
   ]
  },
  {
   "cell_type": "markdown",
   "metadata": {},
   "source": [
    "Больше 500 дней квартиры продаются очень редко. Построим гистограмму с верхней границей в 500 дней."
   ]
  },
  {
   "cell_type": "code",
   "execution_count": 245,
   "metadata": {},
   "outputs": [
    {
     "data": {
      "text/plain": [
       "<AxesSubplot:>"
      ]
     },
     "execution_count": 245,
     "metadata": {},
     "output_type": "execute_result"
    },
    {
     "data": {
      "image/png": "[encoded data removed]",
      "text/plain": [
       "<Figure size 720x360 with 1 Axes>"
      ]
     },
     "metadata": {
      "needs_background": "light"
     },
     "output_type": "display_data"
    }
   ],
   "source": [
    "df['days_exposition'].hist(legend = True, bins = 501, figsize = (10, 5), range = (0, 500))"
   ]
  },
  {
   "cell_type": "code",
   "execution_count": 246,
   "metadata": {},
   "outputs": [
    {
     "data": {
      "text/plain": [
       "<AxesSubplot:>"
      ]
     },
     "execution_count": 246,
     "metadata": {},
     "output_type": "execute_result"
    },
    {
     "data": {
      "image/png": "[encoded data removed]",
      "text/plain": [
       "<Figure size 720x360 with 1 Axes>"
      ]
     },
     "metadata": {
      "needs_background": "light"
     },
     "output_type": "display_data"
    }
   ],
   "source": [
    "df['days_exposition'].hist(legend = True, bins = 101, figsize = (10, 5), range = (0, 100))"
   ]
  },
  {
   "cell_type": "markdown",
   "metadata": {},
   "source": [
    "На графике неестественные пики в 45, 60 и 90 дней. Это выброс, очевидно, что люди не продают квартиры на 90 в разы чаще, чем на 91. Возможно, объявление автоматически снимается с публикации через эти периоды времени, если его не подтверждать. Уберем эти выбросы."
   ]
  },
  {
   "cell_type": "code",
   "execution_count": 247,
   "metadata": {},
   "outputs": [],
   "source": [
    "good_data = df\n",
    "good_data = good_data.query('(days_exposition != 45) & (days_exposition != 90) & (days_exposition != 60)')"
   ]
  },
  {
   "cell_type": "code",
   "execution_count": 248,
   "metadata": {},
   "outputs": [
    {
     "data": {
      "text/plain": [
       "(0.0, 600.0)"
      ]
     },
     "execution_count": 248,
     "metadata": {},
     "output_type": "execute_result"
    },
    {
     "data": {
      "image/png": "[encoded data removed]",
      "text/plain": [
       "<Figure size 432x288 with 1 Axes>"
      ]
     },
     "metadata": {
      "needs_background": "light"
     },
     "output_type": "display_data"
    }
   ],
   "source": [
    "good_data.boxplot(column = 'days_exposition')\n",
    "plt.ylim(0, 600)"
   ]
  },
  {
   "cell_type": "code",
   "execution_count": 249,
   "metadata": {},
   "outputs": [
    {
     "data": {
      "text/plain": [
       "count    19903.000000\n",
       "mean       184.152490\n",
       "std        221.722042\n",
       "min          1.000000\n",
       "25%         44.000000\n",
       "50%        100.000000\n",
       "75%        238.000000\n",
       "max       1580.000000\n",
       "Name: days_exposition, dtype: float64"
      ]
     },
     "execution_count": 249,
     "metadata": {},
     "output_type": "execute_result"
    }
   ],
   "source": [
    "good_data['days_exposition'].describe()"
   ]
  },
  {
   "cell_type": "code",
   "execution_count": 250,
   "metadata": {},
   "outputs": [
    {
     "data": {
      "text/plain": [
       "9.0"
      ]
     },
     "execution_count": 250,
     "metadata": {},
     "output_type": "execute_result"
    }
   ],
   "source": [
    "#считаем пятый процентиль\n",
    "good_data['days_exposition'].quantile(0.05)"
   ]
  },
  {
   "cell_type": "markdown",
   "metadata": {},
   "source": [
    "Будем считать, что продажа произошла очень быстро, если `days_exposition` меньше 5 процентиль - то есть если объявление было опубликовано менее 9 дней. И что продажа происходила необычно долго, если `days_exposition` больше 3 квартиля - то есть если объявление было опубликовано более 238 дней."
   ]
  },
  {
   "cell_type": "markdown",
   "metadata": {},
   "source": [
    "### Убрать редкие значения"
   ]
  },
  {
   "cell_type": "markdown",
   "metadata": {},
   "source": [
    "Уберем выбросы и редкие значения в основных показателях: время продажи, площадь, цена, высота потолков, число комнат.\n",
    "\n",
    "На гистограмме выше мы видим, что значения выше 800 дней встречаются очень редко. Уберем эти значения."
   ]
  },
  {
   "cell_type": "code",
   "execution_count": 251,
   "metadata": {},
   "outputs": [],
   "source": [
    "good_data = good_data.query('days_exposition < 800')"
   ]
  },
  {
   "cell_type": "markdown",
   "metadata": {},
   "source": [
    "По гистограмме выше уберем редкие значения площади:"
   ]
  },
  {
   "cell_type": "code",
   "execution_count": 252,
   "metadata": {},
   "outputs": [],
   "source": [
    "good_data = good_data.query('total_area < 200')"
   ]
  },
  {
   "cell_type": "markdown",
   "metadata": {},
   "source": [
    "По гистограмме выше уберем редкие значения цены:"
   ]
  },
  {
   "cell_type": "code",
   "execution_count": 253,
   "metadata": {},
   "outputs": [],
   "source": [
    "good_data = good_data.query('last_price < 30000000')"
   ]
  },
  {
   "cell_type": "markdown",
   "metadata": {},
   "source": [
    "По гистограмме выше уберем редкие значения высоты пололков:"
   ]
  },
  {
   "cell_type": "code",
   "execution_count": 254,
   "metadata": {},
   "outputs": [],
   "source": [
    "good_data = good_data.query('ceiling_height < 3.4')\n",
    "good_data = good_data.query('ceiling_height > 2.5')"
   ]
  },
  {
   "cell_type": "markdown",
   "metadata": {},
   "source": [
    "По гистограмме выше уберем редкие значения числа комнат:"
   ]
  },
  {
   "cell_type": "code",
   "execution_count": 255,
   "metadata": {},
   "outputs": [],
   "source": [
    "good_data = good_data.query('rooms < 7')"
   ]
  },
  {
   "cell_type": "markdown",
   "metadata": {},
   "source": [
    "Количество комнат 0 может помимо ошибки означать квартиру-студию. Поэтому пока менять это значение не будем.\n",
    "\n",
    "Убрали редкие значения и выбросы."
   ]
  },
  {
   "cell_type": "markdown",
   "metadata": {},
   "source": [
    "<div class=\"alert alert-block alert-danger\">\n",
    "<b>Ошибка ❌:</b> Мы потеряли почти 30% данных при допустимых 10%, давай поправим) Диаграмма размаха не панацея, мы можем расширить интервал нормальных данных и убрать только самые явные аномалии)\n",
    "</div>"
   ]
  },
  {
   "cell_type": "markdown",
   "metadata": {},
   "source": [
    "<div class=\"alert alert-block alert-info\">Попробовала убрать выбивающиеся значения на глаз. Так и надо или есть умный способ (выше n процентиль, например)? </div>"
   ]
  },
  {
   "cell_type": "markdown",
   "metadata": {},
   "source": [
    "<div class=\"alert alert-block alert-success\">\n",
    "<b>Комментарий ревьюера 2 ✔️:</b> Иногда здравый смысл точнее диаграмм и статистических методов) По умному мы должны понять, что тут несколько категорий квартир и выбросы это не совсем выбросы, это просто другая категория. Тут присутствуют 2 категории, обычное жилье и элитное. Если разделить их и анализировать отдельно, то можно уже больше верить квартилям и графикам)\n",
    "</div>"
   ]
  },
  {
   "cell_type": "markdown",
   "metadata": {},
   "source": [
    "### Влияние на стоимость"
   ]
  },
  {
   "cell_type": "markdown",
   "metadata": {},
   "source": [
    "Изучим зависимость цены от разных факторов.\n",
    "\n",
    "От площади:"
   ]
  },
  {
   "cell_type": "code",
   "execution_count": 256,
   "metadata": {},
   "outputs": [
    {
     "data": {
      "text/plain": [
       "<AxesSubplot:xlabel='total_area', ylabel='last_price'>"
      ]
     },
     "execution_count": 256,
     "metadata": {},
     "output_type": "execute_result"
    },
    {
     "data": {
      "image/png": "[encoded data removed]",
      "text/plain": [
       "<Figure size 864x360 with 1 Axes>"
      ]
     },
     "metadata": {
      "needs_background": "light"
     },
     "output_type": "display_data"
    }
   ],
   "source": [
    "(\n",
    "    good_data.sort_values(by = 'total_area')\n",
    "    .plot(grid=True, figsize=(12, 5), x = 'total_area', y = 'last_price', kind='scatter', alpha=0.03)\n",
    ")"
   ]
  },
  {
   "cell_type": "code",
   "execution_count": 257,
   "metadata": {},
   "outputs": [
    {
     "name": "stdout",
     "output_type": "stream",
     "text": [
      "корреляция площади и цены 0.78\n"
     ]
    }
   ],
   "source": [
    "print('корреляция площади и цены', round(good_data['total_area'].corr(good_data['last_price']), 2))"
   ]
  },
  {
   "cell_type": "markdown",
   "metadata": {},
   "source": [
    "Очевидно, площадь влияет на цену - это подтверждает и график, и близкий к 1 положительный коэффициент корреляции.\n",
    "\n",
    "Теперь посмотрим на зависимость цены от количества комнат."
   ]
  },
  {
   "cell_type": "code",
   "execution_count": 258,
   "metadata": {},
   "outputs": [
    {
     "name": "stdout",
     "output_type": "stream",
     "text": [
      "корреляция количества комнат и цены 0.51\n"
     ]
    }
   ],
   "source": [
    "print('корреляция количества комнат и цены', round(good_data['rooms'].corr(good_data['last_price']), 2))"
   ]
  },
  {
   "cell_type": "markdown",
   "metadata": {},
   "source": [
    "Корреляция между количеством комнат и цены не высокая. Это говорит о том, что есть как очень дорогие однокомнатные квартиры, так и недорогие трехкомнатные.\n",
    "\n",
    "Теперь посмотрим на зависимость цены от удаленности от центра."
   ]
  },
  {
   "cell_type": "code",
   "execution_count": 259,
   "metadata": {},
   "outputs": [
    {
     "data": {
      "text/plain": [
       "<AxesSubplot:xlabel='cityCenters_nearest', ylabel='last_price'>"
      ]
     },
     "execution_count": 259,
     "metadata": {},
     "output_type": "execute_result"
    },
    {
     "data": {
      "image/png": "[encoded data removed]",
      "text/plain": [
       "<Figure size 864x360 with 1 Axes>"
      ]
     },
     "metadata": {
      "needs_background": "light"
     },
     "output_type": "display_data"
    }
   ],
   "source": [
    "(\n",
    "    good_data.sort_values(by = 'cityCenters_nearest')\n",
    "    .plot(grid=True, figsize=(12, 5), kind='scatter', x = 'cityCenters_nearest', y = 'last_price', alpha=0.05)\n",
    ") "
   ]
  },
  {
   "cell_type": "code",
   "execution_count": 260,
   "metadata": {},
   "outputs": [
    {
     "name": "stdout",
     "output_type": "stream",
     "text": [
      "корреляция удаленности от центра и цены -0.34\n"
     ]
    }
   ],
   "source": [
    "print('корреляция удаленности от центра и цены', round(good_data['cityCenters_nearest'].corr(good_data['last_price']), 2))"
   ]
  },
  {
   "cell_type": "markdown",
   "metadata": {},
   "source": [
    "Это слабая корреляция. Дорогое жилье есть и далеко от центра.\n",
    "\n",
    "Посмотрим на зависимость цены от категории этажа. Категории - первый, последние, другой."
   ]
  },
  {
   "cell_type": "code",
   "execution_count": 261,
   "metadata": {},
   "outputs": [
    {
     "data": {
      "text/plain": [
       "<AxesSubplot:xlabel='floor_category', ylabel='last_price'>"
      ]
     },
     "execution_count": 261,
     "metadata": {},
     "output_type": "execute_result"
    },
    {
     "data": {
      "image/png": "[encoded data removed]",
      "text/plain": [
       "<Figure size 432x288 with 1 Axes>"
      ]
     },
     "metadata": {
      "needs_background": "light"
     },
     "output_type": "display_data"
    }
   ],
   "source": [
    "good_data.plot(x = 'floor_category', y = 'last_price', grid = True, kind = 'scatter', alpha = 0.03)"
   ]
  },
  {
   "cell_type": "code",
   "execution_count": 262,
   "metadata": {},
   "outputs": [
    {
     "data": {
      "text/plain": [
       "<AxesSubplot:title={'center':'last_price'}, xlabel='floor_category'>"
      ]
     },
     "execution_count": 262,
     "metadata": {},
     "output_type": "execute_result"
    },
    {
     "data": {
      "image/png": "[encoded data removed]",
      "text/plain": [
       "<Figure size 432x288 with 1 Axes>"
      ]
     },
     "metadata": {
      "needs_background": "light"
     },
     "output_type": "display_data"
    }
   ],
   "source": [
    "good_data.boxplot(column = 'last_price', by = 'floor_category')"
   ]
  },
  {
   "cell_type": "markdown",
   "metadata": {},
   "source": [
    "И по диаграмме рассеяния, и по диаграмме размаха видно, что цена зависит от категории этажа. Квартиры на этажах, отличных от первого и последнего, стоят дороже всего. Меньше всего стоимость у квартир на первом этаже.\n",
    "\n",
    "Осталось изучить влияние дня недели, месяца и года на цену."
   ]
  },
  {
   "cell_type": "code",
   "execution_count": 263,
   "metadata": {},
   "outputs": [
    {
     "data": {
      "image/png": "[encoded data removed]",
      "text/plain": [
       "<Figure size 432x288 with 1 Axes>"
      ]
     },
     "metadata": {
      "needs_background": "light"
     },
     "output_type": "display_data"
    },
    {
     "data": {
      "image/png": "[encoded data removed]",
      "text/plain": [
       "<Figure size 432x288 with 1 Axes>"
      ]
     },
     "metadata": {
      "needs_background": "light"
     },
     "output_type": "display_data"
    },
    {
     "data": {
      "text/plain": [
       "<AxesSubplot:title={'center':'last_price'}, xlabel='year_exposition'>"
      ]
     },
     "execution_count": 263,
     "metadata": {},
     "output_type": "execute_result"
    },
    {
     "data": {
      "image/png": "[encoded data removed]",
      "text/plain": [
       "<Figure size 432x288 with 1 Axes>"
      ]
     },
     "metadata": {
      "needs_background": "light"
     },
     "output_type": "display_data"
    }
   ],
   "source": [
    "good_data.boxplot(column = 'last_price', by = 'day_exposition')\n",
    "plt.show()\n",
    "good_data.boxplot(column = 'last_price', by = 'month_exposition')\n",
    "plt.show()\n",
    "good_data.boxplot(column = 'last_price', by = 'year_exposition')"
   ]
  },
  {
   "cell_type": "code",
   "execution_count": 264,
   "metadata": {},
   "outputs": [
    {
     "name": "stdout",
     "output_type": "stream",
     "text": [
      "корреляция года публикации объявления и цены -0.03\n"
     ]
    }
   ],
   "source": [
    "print('корреляция года публикации объявления и цены', round(good_data['year_exposition'].corr(good_data['last_price']), 2))"
   ]
  },
  {
   "cell_type": "markdown",
   "metadata": {},
   "source": [
    "Вывод: на цену влияют площадь и категория этажа. Связь цены с количеством комнат и категорией этажа слабая. Между днем, месяцем и годом публикации нет абсолютно никакой связи."
   ]
  },
  {
   "cell_type": "markdown",
   "metadata": {},
   "source": [
    "### Топ 10 населенных пунктов"
   ]
  },
  {
   "cell_type": "code",
   "execution_count": 265,
   "metadata": {},
   "outputs": [
    {
     "data": {
      "text/plain": [
       "Санкт-Петербург      10463\n",
       "посёлок Мурино         482\n",
       "посёлок Шушары         363\n",
       "Всеволожск             294\n",
       "деревня Кудрово        277\n",
       "посёлок Парголово      273\n",
       "Пушкин                 213\n",
       "Колпино                207\n",
       "Гатчина                196\n",
       "Выборг                 156\n",
       "Name: locality_name, dtype: int64"
      ]
     },
     "execution_count": 265,
     "metadata": {},
     "output_type": "execute_result"
    }
   ],
   "source": [
    "top_locality_name = good_data['locality_name'].value_counts().head(10)\n",
    "\n",
    "#создадим датасет с данными про 10 населенных пунктов с наибольшим числом объявлений\n",
    "top_data = good_data.query('locality_name in @top_locality_name.index')\n",
    "top_data['locality_name'].value_counts()"
   ]
  },
  {
   "cell_type": "code",
   "execution_count": 266,
   "metadata": {},
   "outputs": [
    {
     "name": "stdout",
     "output_type": "stream",
     "text": [
      "Средняя цена квадратного метра: 104154\n"
     ]
    }
   ],
   "source": [
    "print('Средняя цена квадратного метра:', round(top_data['price_per_square_meter'].mean()))"
   ]
  },
  {
   "cell_type": "code",
   "execution_count": 267,
   "metadata": {},
   "outputs": [
    {
     "data": {
      "text/plain": [
       "<AxesSubplot:title={'center':'last_price'}, xlabel='locality_name'>"
      ]
     },
     "execution_count": 267,
     "metadata": {},
     "output_type": "execute_result"
    },
    {
     "data": {
      "image/png": "[encoded data removed]",
      "text/plain": [
       "<Figure size 1440x360 with 1 Axes>"
      ]
     },
     "metadata": {
      "needs_background": "light"
     },
     "output_type": "display_data"
    }
   ],
   "source": [
    "top_data.boxplot(column = 'last_price', by = 'locality_name', figsize = (20, 5))"
   ]
  },
  {
   "cell_type": "markdown",
   "metadata": {},
   "source": [
    "Мы выделили 10 населенных пунктов с наибольшим числом объявлений. Средняя цена за квадратных метр в них 98913.\n",
    "\n",
    "Наибольшая стоимость жилья в Санкт-Петербурге и Пушкине.\n",
    "Наименьшая стоимость жилья в Выборге."
   ]
  },
  {
   "cell_type": "markdown",
   "metadata": {},
   "source": [
    "<div class=\"alert alert-block alert-success\">\n",
    "<b>Успех ✔️:</b> Принято)\n",
    "</div>"
   ]
  },
  {
   "cell_type": "markdown",
   "metadata": {},
   "source": [
    "### Граница центра города"
   ]
  },
  {
   "cell_type": "markdown",
   "metadata": {},
   "source": [
    "Выясним, какая область входит в центр Санкт-Петербурга."
   ]
  },
  {
   "cell_type": "code",
   "execution_count": 268,
   "metadata": {},
   "outputs": [
    {
     "data": {
      "text/html": [
       "<div>\n",
       "<style scoped>\n",
       "    .dataframe tbody tr th:only-of-type {\n",
       "        vertical-align: middle;\n",
       "    }\n",
       "\n",
       "    .dataframe tbody tr th {\n",
       "        vertical-align: top;\n",
       "    }\n",
       "\n",
       "    .dataframe thead th {\n",
       "        text-align: right;\n",
       "    }\n",
       "</style>\n",
       "<table border=\"1\" class=\"dataframe\">\n",
       "  <thead>\n",
       "    <tr style=\"text-align: right;\">\n",
       "      <th></th>\n",
       "      <th>cityCenters_nearest</th>\n",
       "      <th>cityCenters_nearest_km</th>\n",
       "      <th>last_price</th>\n",
       "      <th>price_per_km</th>\n",
       "    </tr>\n",
       "  </thead>\n",
       "  <tbody>\n",
       "    <tr>\n",
       "      <th>2</th>\n",
       "      <td>13933.0</td>\n",
       "      <td>13</td>\n",
       "      <td>5196000</td>\n",
       "      <td>399692</td>\n",
       "    </tr>\n",
       "    <tr>\n",
       "      <th>4</th>\n",
       "      <td>8098.0</td>\n",
       "      <td>8</td>\n",
       "      <td>10000000</td>\n",
       "      <td>1250000</td>\n",
       "    </tr>\n",
       "    <tr>\n",
       "      <th>10</th>\n",
       "      <td>13878.0</td>\n",
       "      <td>13</td>\n",
       "      <td>5050000</td>\n",
       "      <td>388461</td>\n",
       "    </tr>\n",
       "    <tr>\n",
       "      <th>15</th>\n",
       "      <td>14259.0</td>\n",
       "      <td>14</td>\n",
       "      <td>4650000</td>\n",
       "      <td>332142</td>\n",
       "    </tr>\n",
       "    <tr>\n",
       "      <th>16</th>\n",
       "      <td>10698.0</td>\n",
       "      <td>10</td>\n",
       "      <td>6700000</td>\n",
       "      <td>670000</td>\n",
       "    </tr>\n",
       "    <tr>\n",
       "      <th>17</th>\n",
       "      <td>14616.0</td>\n",
       "      <td>14</td>\n",
       "      <td>4180000</td>\n",
       "      <td>298571</td>\n",
       "    </tr>\n",
       "    <tr>\n",
       "      <th>19</th>\n",
       "      <td>12843.0</td>\n",
       "      <td>12</td>\n",
       "      <td>14200000</td>\n",
       "      <td>1183333</td>\n",
       "    </tr>\n",
       "    <tr>\n",
       "      <th>21</th>\n",
       "      <td>9722.0</td>\n",
       "      <td>9</td>\n",
       "      <td>3200000</td>\n",
       "      <td>355555</td>\n",
       "    </tr>\n",
       "    <tr>\n",
       "      <th>23</th>\n",
       "      <td>14211.0</td>\n",
       "      <td>14</td>\n",
       "      <td>2950000</td>\n",
       "      <td>210714</td>\n",
       "    </tr>\n",
       "    <tr>\n",
       "      <th>24</th>\n",
       "      <td>2336.0</td>\n",
       "      <td>2</td>\n",
       "      <td>6500000</td>\n",
       "      <td>3250000</td>\n",
       "    </tr>\n",
       "  </tbody>\n",
       "</table>\n",
       "</div>"
      ],
      "text/plain": [
       "    cityCenters_nearest  cityCenters_nearest_km  last_price  price_per_km\n",
       "2               13933.0                      13     5196000        399692\n",
       "4                8098.0                       8    10000000       1250000\n",
       "10              13878.0                      13     5050000        388461\n",
       "15              14259.0                      14     4650000        332142\n",
       "16              10698.0                      10     6700000        670000\n",
       "17              14616.0                      14     4180000        298571\n",
       "19              12843.0                      12    14200000       1183333\n",
       "21               9722.0                       9     3200000        355555\n",
       "23              14211.0                      14     2950000        210714\n",
       "24               2336.0                       2     6500000       3250000"
      ]
     },
     "execution_count": 268,
     "metadata": {},
     "output_type": "execute_result"
    }
   ],
   "source": [
    "#создаем датафрейм с данными по Санкт-Петербургу\n",
    "spb_data = good_data.loc[good_data['locality_name'] == \"Санкт-Петербург\"].copy()\n",
    "\n",
    "spb_data['cityCenters_nearest_km'] = spb_data['cityCenters_nearest'] // 1000\n",
    "spb_data['cityCenters_nearest_km'] = pd.to_numeric(spb_data['cityCenters_nearest_km'], errors='coerce').astype('Int64')\n",
    "\n",
    "spb_data['price_per_km'] = spb_data['last_price'] / spb_data['cityCenters_nearest_km']\n",
    "spb_data['price_per_km'] = pd.to_numeric(spb_data['price_per_km'], errors='coerce').astype('Int64')\n",
    "\n",
    "spb_data[['cityCenters_nearest','cityCenters_nearest_km', 'last_price', 'price_per_km']].head(10)"
   ]
  },
  {
   "cell_type": "markdown",
   "metadata": {},
   "source": [
    "Построим график зависимости цены от удаленности от центра."
   ]
  },
  {
   "cell_type": "code",
   "execution_count": 269,
   "metadata": {},
   "outputs": [
    {
     "data": {
      "text/plain": [
       "<AxesSubplot:xlabel='cityCenters_nearest_km'>"
      ]
     },
     "execution_count": 269,
     "metadata": {},
     "output_type": "execute_result"
    },
    {
     "data": {
      "image/png": "[encoded data removed]",
      "text/plain": [
       "<Figure size 432x288 with 1 Axes>"
      ]
     },
     "metadata": {
      "needs_background": "light"
     },
     "output_type": "display_data"
    }
   ],
   "source": [
    "spb_data.pivot_table(index = 'cityCenters_nearest_km', values = 'last_price').plot(grid=True)"
   ]
  },
  {
   "cell_type": "code",
   "execution_count": 270,
   "metadata": {},
   "outputs": [
    {
     "data": {
      "text/html": [
       "<div>\n",
       "<style scoped>\n",
       "    .dataframe tbody tr th:only-of-type {\n",
       "        vertical-align: middle;\n",
       "    }\n",
       "\n",
       "    .dataframe tbody tr th {\n",
       "        vertical-align: top;\n",
       "    }\n",
       "\n",
       "    .dataframe thead th {\n",
       "        text-align: right;\n",
       "    }\n",
       "</style>\n",
       "<table border=\"1\" class=\"dataframe\">\n",
       "  <thead>\n",
       "    <tr style=\"text-align: right;\">\n",
       "      <th></th>\n",
       "      <th>last_price</th>\n",
       "    </tr>\n",
       "    <tr>\n",
       "      <th>cityCenters_nearest_km</th>\n",
       "      <th></th>\n",
       "    </tr>\n",
       "  </thead>\n",
       "  <tbody>\n",
       "    <tr>\n",
       "      <th>0</th>\n",
       "      <td>1.072614e+07</td>\n",
       "    </tr>\n",
       "    <tr>\n",
       "      <th>1</th>\n",
       "      <td>1.035092e+07</td>\n",
       "    </tr>\n",
       "    <tr>\n",
       "      <th>2</th>\n",
       "      <td>9.295017e+06</td>\n",
       "    </tr>\n",
       "    <tr>\n",
       "      <th>3</th>\n",
       "      <td>9.063758e+06</td>\n",
       "    </tr>\n",
       "    <tr>\n",
       "      <th>4</th>\n",
       "      <td>1.027359e+07</td>\n",
       "    </tr>\n",
       "    <tr>\n",
       "      <th>5</th>\n",
       "      <td>9.565504e+06</td>\n",
       "    </tr>\n",
       "    <tr>\n",
       "      <th>6</th>\n",
       "      <td>8.789418e+06</td>\n",
       "    </tr>\n",
       "    <tr>\n",
       "      <th>7</th>\n",
       "      <td>8.932790e+06</td>\n",
       "    </tr>\n",
       "    <tr>\n",
       "      <th>8</th>\n",
       "      <td>8.135018e+06</td>\n",
       "    </tr>\n",
       "    <tr>\n",
       "      <th>9</th>\n",
       "      <td>6.345902e+06</td>\n",
       "    </tr>\n",
       "    <tr>\n",
       "      <th>10</th>\n",
       "      <td>6.215589e+06</td>\n",
       "    </tr>\n",
       "    <tr>\n",
       "      <th>11</th>\n",
       "      <td>5.723092e+06</td>\n",
       "    </tr>\n",
       "    <tr>\n",
       "      <th>12</th>\n",
       "      <td>5.881027e+06</td>\n",
       "    </tr>\n",
       "    <tr>\n",
       "      <th>13</th>\n",
       "      <td>5.922138e+06</td>\n",
       "    </tr>\n",
       "    <tr>\n",
       "      <th>14</th>\n",
       "      <td>5.585186e+06</td>\n",
       "    </tr>\n",
       "    <tr>\n",
       "      <th>15</th>\n",
       "      <td>5.392973e+06</td>\n",
       "    </tr>\n",
       "    <tr>\n",
       "      <th>16</th>\n",
       "      <td>5.540875e+06</td>\n",
       "    </tr>\n",
       "    <tr>\n",
       "      <th>17</th>\n",
       "      <td>4.914083e+06</td>\n",
       "    </tr>\n",
       "    <tr>\n",
       "      <th>18</th>\n",
       "      <td>5.150206e+06</td>\n",
       "    </tr>\n",
       "    <tr>\n",
       "      <th>19</th>\n",
       "      <td>4.415339e+06</td>\n",
       "    </tr>\n",
       "    <tr>\n",
       "      <th>20</th>\n",
       "      <td>5.925065e+06</td>\n",
       "    </tr>\n",
       "    <tr>\n",
       "      <th>21</th>\n",
       "      <td>4.957004e+06</td>\n",
       "    </tr>\n",
       "    <tr>\n",
       "      <th>22</th>\n",
       "      <td>4.880306e+06</td>\n",
       "    </tr>\n",
       "    <tr>\n",
       "      <th>23</th>\n",
       "      <td>4.305800e+06</td>\n",
       "    </tr>\n",
       "    <tr>\n",
       "      <th>24</th>\n",
       "      <td>3.772246e+06</td>\n",
       "    </tr>\n",
       "    <tr>\n",
       "      <th>25</th>\n",
       "      <td>3.940400e+06</td>\n",
       "    </tr>\n",
       "    <tr>\n",
       "      <th>26</th>\n",
       "      <td>3.287500e+06</td>\n",
       "    </tr>\n",
       "    <tr>\n",
       "      <th>27</th>\n",
       "      <td>8.300000e+06</td>\n",
       "    </tr>\n",
       "    <tr>\n",
       "      <th>28</th>\n",
       "      <td>4.970556e+06</td>\n",
       "    </tr>\n",
       "    <tr>\n",
       "      <th>29</th>\n",
       "      <td>2.450000e+06</td>\n",
       "    </tr>\n",
       "  </tbody>\n",
       "</table>\n",
       "</div>"
      ],
      "text/plain": [
       "                          last_price\n",
       "cityCenters_nearest_km              \n",
       "0                       1.072614e+07\n",
       "1                       1.035092e+07\n",
       "2                       9.295017e+06\n",
       "3                       9.063758e+06\n",
       "4                       1.027359e+07\n",
       "5                       9.565504e+06\n",
       "6                       8.789418e+06\n",
       "7                       8.932790e+06\n",
       "8                       8.135018e+06\n",
       "9                       6.345902e+06\n",
       "10                      6.215589e+06\n",
       "11                      5.723092e+06\n",
       "12                      5.881027e+06\n",
       "13                      5.922138e+06\n",
       "14                      5.585186e+06\n",
       "15                      5.392973e+06\n",
       "16                      5.540875e+06\n",
       "17                      4.914083e+06\n",
       "18                      5.150206e+06\n",
       "19                      4.415339e+06\n",
       "20                      5.925065e+06\n",
       "21                      4.957004e+06\n",
       "22                      4.880306e+06\n",
       "23                      4.305800e+06\n",
       "24                      3.772246e+06\n",
       "25                      3.940400e+06\n",
       "26                      3.287500e+06\n",
       "27                      8.300000e+06\n",
       "28                      4.970556e+06\n",
       "29                      2.450000e+06"
      ]
     },
     "execution_count": 270,
     "metadata": {},
     "output_type": "execute_result"
    }
   ],
   "source": [
    "spb_data.pivot_table(index = 'cityCenters_nearest_km', values = 'last_price')"
   ]
  },
  {
   "cell_type": "markdown",
   "metadata": {},
   "source": [
    "Центральная зона до 8 км от центра. "
   ]
  },
  {
   "cell_type": "markdown",
   "metadata": {},
   "source": [
    "<div class=\"alert alert-block alert-success\">\n",
    "<b>Успех ✔️:</b> Молодец! Граница центра определена верно!)\n",
    "</div>"
   ]
  },
  {
   "cell_type": "code",
   "execution_count": 271,
   "metadata": {},
   "outputs": [],
   "source": [
    "spb_center_data = spb_data.query('cityCenters_nearest_km <= 8')"
   ]
  },
  {
   "cell_type": "code",
   "execution_count": 272,
   "metadata": {
    "scrolled": false
   },
   "outputs": [
    {
     "data": {
      "image/png": "[encoded data removed]",
      "text/plain": [
       "<Figure size 432x288 with 1 Axes>"
      ]
     },
     "metadata": {
      "needs_background": "light"
     },
     "output_type": "display_data"
    },
    {
     "data": {
      "image/png": "[encoded data removed]",
      "text/plain": [
       "<Figure size 432x288 with 1 Axes>"
      ]
     },
     "metadata": {
      "needs_background": "light"
     },
     "output_type": "display_data"
    },
    {
     "data": {
      "image/png": "[encoded data removed]",
      "text/plain": [
       "<Figure size 432x288 with 1 Axes>"
      ]
     },
     "metadata": {
      "needs_background": "light"
     },
     "output_type": "display_data"
    },
    {
     "data": {
      "text/plain": [
       "<AxesSubplot:>"
      ]
     },
     "execution_count": 272,
     "metadata": {},
     "output_type": "execute_result"
    },
    {
     "data": {
      "image/png": "[encoded data removed]",
      "text/plain": [
       "<Figure size 432x288 with 1 Axes>"
      ]
     },
     "metadata": {
      "needs_background": "light"
     },
     "output_type": "display_data"
    }
   ],
   "source": [
    "spb_center_data['total_area'].hist(legend = True, range=(0, 350), bins = 35)\n",
    "plt.show()\n",
    "spb_center_data['last_price'].hist(legend = True, range = (0, 40000000), bins = 40)\n",
    "plt.show()\n",
    "spb_center_data['rooms'].hist(legend = True, range=(0, 9), bins = 9)\n",
    "plt.show()\n",
    "spb_center_data['ceiling_height'].hist(legend = True, range = (2, 4.5), bins = 25)"
   ]
  },
  {
   "cell_type": "markdown",
   "metadata": {},
   "source": [
    "Сравним основные параметры на графике центра Санкт-Петербурга и общего графика.\n",
    "* Пик площади совпадает на обоих графиках\n",
    "* Пик стоимости квартиры поднялся с 4 до 6 миллионов\n",
    "* Пики высоты потолков совпали на обоих графиках\n",
    "\n",
    "Посмотрим, как поменялась зависимость цены от площади квартиры, категории этажа, дня, месяца и года публикации объявления."
   ]
  },
  {
   "cell_type": "code",
   "execution_count": 273,
   "metadata": {},
   "outputs": [
    {
     "name": "stdout",
     "output_type": "stream",
     "text": [
      "корреляция площади и цены 0.75\n"
     ]
    }
   ],
   "source": [
    "print('корреляция площади и цены', round(spb_center_data['total_area'].corr(spb_center_data['last_price']), 2))"
   ]
  },
  {
   "cell_type": "code",
   "execution_count": 274,
   "metadata": {},
   "outputs": [
    {
     "data": {
      "text/plain": [
       "<AxesSubplot:title={'center':'last_price'}, xlabel='floor_category'>"
      ]
     },
     "execution_count": 274,
     "metadata": {},
     "output_type": "execute_result"
    },
    {
     "data": {
      "image/png": "[encoded data removed]",
      "text/plain": [
       "<Figure size 432x288 with 1 Axes>"
      ]
     },
     "metadata": {
      "needs_background": "light"
     },
     "output_type": "display_data"
    }
   ],
   "source": [
    "spb_center_data.boxplot(column = 'last_price', by = 'floor_category')"
   ]
  },
  {
   "cell_type": "code",
   "execution_count": 275,
   "metadata": {},
   "outputs": [
    {
     "name": "stdout",
     "output_type": "stream",
     "text": [
      "корреляция удаленности от центра и цены -0.11\n"
     ]
    }
   ],
   "source": [
    "print('корреляция удаленности от центра и цены', round(spb_center_data['cityCenters_nearest'].corr(spb_center_data['last_price']), 2))"
   ]
  },
  {
   "cell_type": "code",
   "execution_count": 276,
   "metadata": {},
   "outputs": [
    {
     "data": {
      "image/png": "[encoded data removed]",
      "text/plain": [
       "<Figure size 432x288 with 1 Axes>"
      ]
     },
     "metadata": {
      "needs_background": "light"
     },
     "output_type": "display_data"
    },
    {
     "data": {
      "image/png": "[encoded data removed]",
      "text/plain": [
       "<Figure size 432x288 with 1 Axes>"
      ]
     },
     "metadata": {
      "needs_background": "light"
     },
     "output_type": "display_data"
    },
    {
     "data": {
      "text/plain": [
       "<AxesSubplot:title={'center':'last_price'}, xlabel='year_exposition'>"
      ]
     },
     "execution_count": 276,
     "metadata": {},
     "output_type": "execute_result"
    },
    {
     "data": {
      "image/png": "[encoded data removed]",
      "text/plain": [
       "<Figure size 432x288 with 1 Axes>"
      ]
     },
     "metadata": {
      "needs_background": "light"
     },
     "output_type": "display_data"
    }
   ],
   "source": [
    "spb_center_data.boxplot(column = 'last_price', by = 'day_exposition')\n",
    "plt.show()\n",
    "spb_center_data.boxplot(column = 'last_price', by = 'month_exposition')\n",
    "plt.show()\n",
    "spb_center_data.boxplot(column = 'last_price', by = 'year_exposition')"
   ]
  },
  {
   "cell_type": "markdown",
   "metadata": {},
   "source": [
    "Между днем, месяцем и годом публикации по-прежнему нет связи. Остальные зависимости тоже не отличаются."
   ]
  },
  {
   "cell_type": "markdown",
   "metadata": {},
   "source": [
    "## Общий вывод"
   ]
  },
  {
   "cell_type": "markdown",
   "metadata": {},
   "source": [
    "1. Мы исследовали основные показатели в объявлениях:\n",
    "* Самая распространенная площадь квартиры - 40 квадратных метров\n",
    "* Самое распространенное количество комнат - 1-2\n",
    "* Самая распространенная цена - 3 000 000 - 4 000 000\n",
    "* Самая распространенная высота потолков - 2.6-2.6 метров\n",
    "* Обычное время продажи от 51 до 214 дней, среднее - 177 дней.\n",
    "\n",
    "2. Выяснили, что на цену больше всего влияют площадь и категория этажа. \n",
    "* Дороже стоят квартиры с большой площадью. Квартиры на первых и последних этажах стоят меньше, чем на остальных \n",
    "* Количество комнат и удаленность от центра города имеют очень слабую корреляцию с ценой. Бывают дорогие однокомнатные и дешевые трехкомнатные квартиры. Как и дорогие квартиры далеко от центра города\n",
    "* День недели, месяц и год публикации объявления совершенно не влияют на цену.\n",
    "\n",
    "3. Исследовали показатели квартир в центре Санкт-Петербурга. Выяснили, что граница центра 8 километров. В центральной зоне квартиры дороже. А графики высоты потолков, площади и количества комнат практически не отличаются. Зависимости цены от категории этажа, дня, месяца и года публикации объявления не поменялись."
   ]
  },
  {
   "cell_type": "markdown",
   "metadata": {},
   "source": [
    "<div class=\"alert alert-block alert-warning\">\n",
    "<b>Итоговый комментарий ревьюера ⚠️: </b> Хороший получился проект! Спасибо, что соблюдала структуру, было приятно проверять) В работе остались некоторые ошибки, их я отметил по ходу проекта, давай доделаем!) Жду работу на повторную провекрку и всегда рад вопросам)\n",
    "</div>"
   ]
  },
  {
   "cell_type": "markdown",
   "metadata": {},
   "source": [
    "<div class=\"alert alert-block alert-success\">\n",
    "<b>Комментарий ревьюера 2 ✔️:</b> Отличный проект, видно, что присутствует понимание главных инструментов!) Теперь можно двигаться дальше, успехов в будущих проектах!)\n",
    "</div>"
   ]
  },
  {
   "cell_type": "markdown",
   "metadata": {},
   "source": [
    "## Чек-лист готовности проекта\n",
    "\n",
    "Поставьте 'x' в выполненных пунктах. Далее нажмите Shift+Enter."
   ]
  },
  {
   "cell_type": "markdown",
   "metadata": {},
   "source": [
    "- [x]  открыт файл\n",
    "- [x]  файлы изучены (выведены первые строки, метод `info()`)\n",
    "- [x]  определены пропущенные значения\n",
    "- [x]  заполнены пропущенные значения\n",
    "- [x]  есть пояснение, какие пропущенные значения обнаружены\n",
    "- [x]  изменены типы данных\n",
    "- [x]  есть пояснение, в каких столбцах изменены типы и почему\n",
    "- [x]  посчитано и добавлено в таблицу: цена квадратного метра\n",
    "- [x]  посчитано и добавлено в таблицу: день недели, месяц и год публикации объявления\n",
    "- [x]  посчитано и добавлено в таблицу: этаж квартиры; варианты — первый, последний, другой\n",
    "- [x]  посчитано и добавлено в таблицу: соотношение жилой и общей площади, а также отношение площади кухни к общей\n",
    "- [x]  изучены следующие параметры: площадь, цена, число комнат, высота потолков\n",
    "- [x]  построены гистограммы для каждого параметра\n",
    "- [x]  выполнено задание: «Изучите время продажи квартиры. Постройте гистограмму. Посчитайте среднее и медиану. Опишите, сколько обычно занимает продажа. Когда можно считать, что продажи прошли очень быстро, а когда необычно долго?»\n",
    "- [x]  выполнено задание: «Уберите редкие и выбивающиеся значения. Опишите, какие особенности обнаружили».\n",
    "- [x]  выполнено задание: «Какие факторы больше всего влияют на стоимость квартиры? Изучите, зависит ли цена от квадратного метра, числа комнат, этажа (первого или последнего), удалённости от центра. Также изучите зависимость от даты размещения: дня недели, месяца и года». \n",
    "- [x]  выполнено задание: «Выберите 10 населённых пунктов с наибольшим числом объявлений. Посчитайте среднюю цену квадратного метра в этих населённых пунктах. Выделите населённые пункты с самой высокой и низкой стоимостью жилья. Эти данные можно найти по имени в столбце `locality_name`».\n",
    "- [x]  выполнено задание: «Изучите предложения квартир: для каждой квартиры есть информация о расстоянии до центра. Выделите квартиры в Санкт-Петербурге (`locality_name`). Ваша задача — выяснить, какая область входит в центр. Создайте столбец с расстоянием до центра в километрах: округлите до целых значений. После этого посчитайте среднюю цену для каждого километра. Постройте график: он должен показывать, как цена зависит от удалённости от центра. Определите границу, где график сильно меняется — это и будет центральная зона».\n",
    "- [x]  выполнено задание: «Выделите сегмент квартир в центре. Проанализируйте эту территорию и изучите следующие параметры: площадь, цена, число комнат, высота потолков. Также выделите факторы, которые влияют на стоимость квартиры (число комнат, этаж, удалённость от центра, дата размещения объявления). Сделайте выводы. Отличаются ли они от общих выводов по всей базе?»\n",
    "- [x]  в каждом этапе есть выводы\n",
    "- [x]  есть общий вывод"
   ]
  }
 ],
 "metadata": {
  "ExecuteTimeLog": [
   {
    "duration": 600,
    "start_time": "2022-05-18T16:47:48.077Z"
   },
   {
    "duration": 463,
    "start_time": "2022-05-20T13:47:05.601Z"
   },
   {
    "duration": 74,
    "start_time": "2022-05-20T13:47:25.509Z"
   },
   {
    "duration": 120,
    "start_time": "2022-05-20T13:47:31.452Z"
   },
   {
    "duration": 107,
    "start_time": "2022-05-20T13:47:38.781Z"
   },
   {
    "duration": 43,
    "start_time": "2022-05-20T13:48:04.731Z"
   },
   {
    "duration": 115,
    "start_time": "2022-05-20T13:49:51.016Z"
   },
   {
    "duration": 128,
    "start_time": "2022-05-20T14:03:44.659Z"
   },
   {
    "duration": 18,
    "start_time": "2022-05-20T14:49:42.458Z"
   },
   {
    "duration": 33,
    "start_time": "2022-05-20T14:50:43.235Z"
   },
   {
    "duration": 7,
    "start_time": "2022-05-20T15:02:14.167Z"
   },
   {
    "duration": 88,
    "start_time": "2022-05-20T16:02:06.422Z"
   },
   {
    "duration": 81,
    "start_time": "2022-05-20T16:02:09.272Z"
   },
   {
    "duration": 122,
    "start_time": "2022-05-20T16:02:14.826Z"
   },
   {
    "duration": 17,
    "start_time": "2022-05-20T16:02:18.176Z"
   },
   {
    "duration": 11,
    "start_time": "2022-05-20T16:02:21.979Z"
   },
   {
    "duration": 14,
    "start_time": "2022-05-20T16:04:33.683Z"
   },
   {
    "duration": 206,
    "start_time": "2022-05-20T16:09:59.068Z"
   },
   {
    "duration": 25,
    "start_time": "2022-05-20T16:11:56.090Z"
   },
   {
    "duration": 410,
    "start_time": "2022-05-20T16:12:38.608Z"
   },
   {
    "duration": 29,
    "start_time": "2022-05-20T16:13:02.183Z"
   },
   {
    "duration": 24,
    "start_time": "2022-05-20T16:13:05.801Z"
   },
   {
    "duration": 20,
    "start_time": "2022-05-20T16:14:43.156Z"
   },
   {
    "duration": 19,
    "start_time": "2022-05-20T16:15:04.227Z"
   },
   {
    "duration": 22,
    "start_time": "2022-05-20T16:15:10.837Z"
   },
   {
    "duration": 13,
    "start_time": "2022-05-20T16:15:31.642Z"
   },
   {
    "duration": 17,
    "start_time": "2022-05-20T16:42:00.901Z"
   },
   {
    "duration": 13,
    "start_time": "2022-05-20T16:47:37.523Z"
   },
   {
    "duration": 9,
    "start_time": "2022-05-20T16:47:49.543Z"
   },
   {
    "duration": 11,
    "start_time": "2022-05-20T16:48:04.444Z"
   },
   {
    "duration": 10,
    "start_time": "2022-05-20T22:10:22.586Z"
   },
   {
    "duration": 10,
    "start_time": "2022-05-20T22:10:39.225Z"
   },
   {
    "duration": 7,
    "start_time": "2022-05-20T22:10:53.480Z"
   },
   {
    "duration": 15,
    "start_time": "2022-05-20T22:11:07.280Z"
   },
   {
    "duration": 22,
    "start_time": "2022-05-20T22:11:11.652Z"
   },
   {
    "duration": 25,
    "start_time": "2022-05-20T22:11:15.740Z"
   },
   {
    "duration": 14,
    "start_time": "2022-05-20T22:11:28.315Z"
   },
   {
    "duration": 12,
    "start_time": "2022-05-20T22:14:16.045Z"
   },
   {
    "duration": 15,
    "start_time": "2022-05-20T22:17:45.534Z"
   },
   {
    "duration": 8,
    "start_time": "2022-05-20T22:19:15.490Z"
   },
   {
    "duration": 6,
    "start_time": "2022-05-20T22:20:26.276Z"
   },
   {
    "duration": 23,
    "start_time": "2022-05-20T22:28:16.365Z"
   },
   {
    "duration": 13,
    "start_time": "2022-05-20T22:32:58.240Z"
   },
   {
    "duration": 11,
    "start_time": "2022-05-20T22:47:13.453Z"
   },
   {
    "duration": 15,
    "start_time": "2022-05-20T22:47:34.523Z"
   },
   {
    "duration": 4,
    "start_time": "2022-05-20T22:47:52.510Z"
   },
   {
    "duration": 2,
    "start_time": "2022-05-20T22:48:19.125Z"
   },
   {
    "duration": 80,
    "start_time": "2022-05-20T22:48:19.129Z"
   },
   {
    "duration": 96,
    "start_time": "2022-05-20T22:48:19.211Z"
   },
   {
    "duration": 13,
    "start_time": "2022-05-20T22:48:19.309Z"
   },
   {
    "duration": 9,
    "start_time": "2022-05-20T22:48:19.324Z"
   },
   {
    "duration": 11,
    "start_time": "2022-05-20T22:48:19.335Z"
   },
   {
    "duration": 12,
    "start_time": "2022-05-20T22:48:19.348Z"
   },
   {
    "duration": 44,
    "start_time": "2022-05-20T22:48:19.362Z"
   },
   {
    "duration": 12,
    "start_time": "2022-05-20T22:48:19.408Z"
   },
   {
    "duration": 10,
    "start_time": "2022-05-20T22:48:19.422Z"
   },
   {
    "duration": 12,
    "start_time": "2022-05-20T22:48:19.435Z"
   },
   {
    "duration": 45,
    "start_time": "2022-05-20T22:48:19.449Z"
   },
   {
    "duration": 15,
    "start_time": "2022-05-20T22:48:36.200Z"
   },
   {
    "duration": 71,
    "start_time": "2022-05-20T22:48:58.383Z"
   },
   {
    "duration": 299,
    "start_time": "2022-05-20T22:49:14.713Z"
   },
   {
    "duration": 93,
    "start_time": "2022-05-20T22:49:35.505Z"
   },
   {
    "duration": 6,
    "start_time": "2022-05-20T22:49:39.952Z"
   },
   {
    "duration": 13,
    "start_time": "2022-05-20T22:50:19.987Z"
   },
   {
    "duration": 7,
    "start_time": "2022-05-20T22:50:37.410Z"
   },
   {
    "duration": 15,
    "start_time": "2022-05-20T22:50:42.741Z"
   },
   {
    "duration": 34,
    "start_time": "2022-05-20T22:51:16.066Z"
   },
   {
    "duration": 7,
    "start_time": "2022-05-20T22:51:29.234Z"
   },
   {
    "duration": 59,
    "start_time": "2022-05-20T22:51:31.766Z"
   },
   {
    "duration": 34,
    "start_time": "2022-05-20T22:51:45.581Z"
   },
   {
    "duration": 13,
    "start_time": "2022-05-20T22:51:56.544Z"
   },
   {
    "duration": 8,
    "start_time": "2022-05-20T22:52:45.625Z"
   },
   {
    "duration": 12,
    "start_time": "2022-05-20T22:53:36.378Z"
   },
   {
    "duration": 34,
    "start_time": "2022-05-20T22:53:51.336Z"
   },
   {
    "duration": 35,
    "start_time": "2022-05-20T22:53:52.557Z"
   },
   {
    "duration": 2,
    "start_time": "2022-05-20T22:57:23.417Z"
   },
   {
    "duration": 71,
    "start_time": "2022-05-20T22:57:24.819Z"
   },
   {
    "duration": 96,
    "start_time": "2022-05-20T22:57:26.533Z"
   },
   {
    "duration": 7,
    "start_time": "2022-05-20T22:57:30.676Z"
   },
   {
    "duration": 13,
    "start_time": "2022-05-20T22:57:32.920Z"
   },
   {
    "duration": 6,
    "start_time": "2022-05-20T22:58:20.332Z"
   },
   {
    "duration": 5,
    "start_time": "2022-05-20T22:58:37.561Z"
   },
   {
    "duration": 31,
    "start_time": "2022-05-20T23:00:26.892Z"
   },
   {
    "duration": 52,
    "start_time": "2022-05-20T23:00:31.180Z"
   },
   {
    "duration": 13,
    "start_time": "2022-05-20T23:00:34.855Z"
   },
   {
    "duration": 52,
    "start_time": "2022-05-20T23:04:20.330Z"
   },
   {
    "duration": 3,
    "start_time": "2022-05-20T23:13:02.052Z"
   },
   {
    "duration": 89,
    "start_time": "2022-05-20T23:13:02.056Z"
   },
   {
    "duration": 86,
    "start_time": "2022-05-20T23:13:02.147Z"
   },
   {
    "duration": 13,
    "start_time": "2022-05-20T23:13:02.234Z"
   },
   {
    "duration": 9,
    "start_time": "2022-05-20T23:13:02.248Z"
   },
   {
    "duration": 14,
    "start_time": "2022-05-20T23:13:02.258Z"
   },
   {
    "duration": 13,
    "start_time": "2022-05-20T23:13:02.295Z"
   },
   {
    "duration": 13,
    "start_time": "2022-05-20T23:13:02.309Z"
   },
   {
    "duration": 12,
    "start_time": "2022-05-20T23:13:02.324Z"
   },
   {
    "duration": 19,
    "start_time": "2022-05-20T23:13:02.337Z"
   },
   {
    "duration": 12,
    "start_time": "2022-05-20T23:13:02.357Z"
   },
   {
    "duration": 26,
    "start_time": "2022-05-20T23:13:33.192Z"
   },
   {
    "duration": 28,
    "start_time": "2022-05-21T00:44:22.019Z"
   },
   {
    "duration": 31,
    "start_time": "2022-05-21T00:45:17.447Z"
   },
   {
    "duration": 28,
    "start_time": "2022-05-21T00:45:20.594Z"
   },
   {
    "duration": 11,
    "start_time": "2022-05-21T00:45:39.364Z"
   },
   {
    "duration": 27,
    "start_time": "2022-05-21T00:45:54.246Z"
   },
   {
    "duration": 15,
    "start_time": "2022-05-21T00:48:16.119Z"
   },
   {
    "duration": 29,
    "start_time": "2022-05-21T00:49:23.384Z"
   },
   {
    "duration": 16,
    "start_time": "2022-05-21T00:50:48.499Z"
   },
   {
    "duration": 15,
    "start_time": "2022-05-21T00:51:41.862Z"
   },
   {
    "duration": 15,
    "start_time": "2022-05-21T00:52:16.798Z"
   },
   {
    "duration": 29,
    "start_time": "2022-05-21T00:52:23.200Z"
   },
   {
    "duration": 29,
    "start_time": "2022-05-21T00:52:42.796Z"
   },
   {
    "duration": 34,
    "start_time": "2022-05-21T00:53:32.428Z"
   },
   {
    "duration": 28,
    "start_time": "2022-05-21T00:54:05.021Z"
   },
   {
    "duration": 78,
    "start_time": "2022-05-21T00:55:17.903Z"
   },
   {
    "duration": 25,
    "start_time": "2022-05-21T00:55:32.017Z"
   },
   {
    "duration": 28,
    "start_time": "2022-05-21T00:55:35.229Z"
   },
   {
    "duration": 28,
    "start_time": "2022-05-21T00:55:40.805Z"
   },
   {
    "duration": 30,
    "start_time": "2022-05-21T00:55:59.760Z"
   },
   {
    "duration": 35,
    "start_time": "2022-05-21T00:57:32.622Z"
   },
   {
    "duration": 27,
    "start_time": "2022-05-21T00:57:35.483Z"
   },
   {
    "duration": 6,
    "start_time": "2022-05-21T01:24:12.624Z"
   },
   {
    "duration": 15,
    "start_time": "2022-05-21T01:27:43.106Z"
   },
   {
    "duration": 246,
    "start_time": "2022-05-21T01:28:19.323Z"
   },
   {
    "duration": 37,
    "start_time": "2022-05-21T01:28:53.432Z"
   },
   {
    "duration": 150,
    "start_time": "2022-05-21T01:30:00.212Z"
   },
   {
    "duration": 16,
    "start_time": "2022-05-21T01:33:01.480Z"
   },
   {
    "duration": 3,
    "start_time": "2022-05-21T01:33:11.060Z"
   },
   {
    "duration": 84,
    "start_time": "2022-05-21T01:33:11.065Z"
   },
   {
    "duration": 103,
    "start_time": "2022-05-21T01:33:11.151Z"
   },
   {
    "duration": 17,
    "start_time": "2022-05-21T01:33:11.256Z"
   },
   {
    "duration": 27,
    "start_time": "2022-05-21T01:33:11.275Z"
   },
   {
    "duration": 13,
    "start_time": "2022-05-21T01:33:11.304Z"
   },
   {
    "duration": 16,
    "start_time": "2022-05-21T01:33:11.319Z"
   },
   {
    "duration": 17,
    "start_time": "2022-05-21T01:33:11.337Z"
   },
   {
    "duration": 49,
    "start_time": "2022-05-21T01:33:11.356Z"
   },
   {
    "duration": 12,
    "start_time": "2022-05-21T01:33:11.406Z"
   },
   {
    "duration": 14,
    "start_time": "2022-05-21T01:33:11.420Z"
   },
   {
    "duration": 59,
    "start_time": "2022-05-21T01:33:11.435Z"
   },
   {
    "duration": 6,
    "start_time": "2022-05-21T01:33:11.496Z"
   },
   {
    "duration": 105,
    "start_time": "2022-05-21T01:33:13.457Z"
   },
   {
    "duration": 15,
    "start_time": "2022-05-21T01:33:29.533Z"
   },
   {
    "duration": 204,
    "start_time": "2022-05-21T01:33:54.657Z"
   },
   {
    "duration": 103,
    "start_time": "2022-05-21T01:33:58.624Z"
   },
   {
    "duration": 30,
    "start_time": "2022-05-21T01:35:50.963Z"
   },
   {
    "duration": 103,
    "start_time": "2022-05-21T01:35:54.147Z"
   },
   {
    "duration": 210,
    "start_time": "2022-05-21T01:36:14.155Z"
   },
   {
    "duration": 97,
    "start_time": "2022-05-21T01:38:06.988Z"
   },
   {
    "duration": 97,
    "start_time": "2022-05-21T01:38:09.651Z"
   },
   {
    "duration": 14,
    "start_time": "2022-05-21T01:38:21.221Z"
   },
   {
    "duration": 246,
    "start_time": "2022-05-21T01:38:46.117Z"
   },
   {
    "duration": 207,
    "start_time": "2022-05-21T01:39:01.795Z"
   },
   {
    "duration": 97,
    "start_time": "2022-05-21T01:40:36.104Z"
   },
   {
    "duration": 391,
    "start_time": "2022-05-24T12:49:25.486Z"
   },
   {
    "duration": 150,
    "start_time": "2022-05-24T12:49:25.879Z"
   },
   {
    "duration": 99,
    "start_time": "2022-05-24T12:49:26.031Z"
   },
   {
    "duration": 15,
    "start_time": "2022-05-24T12:49:26.133Z"
   },
   {
    "duration": 9,
    "start_time": "2022-05-24T12:49:26.149Z"
   },
   {
    "duration": 11,
    "start_time": "2022-05-24T12:49:26.160Z"
   },
   {
    "duration": 14,
    "start_time": "2022-05-24T12:49:26.173Z"
   },
   {
    "duration": 48,
    "start_time": "2022-05-24T12:49:26.188Z"
   },
   {
    "duration": 13,
    "start_time": "2022-05-24T12:49:26.237Z"
   },
   {
    "duration": 12,
    "start_time": "2022-05-24T12:49:26.252Z"
   },
   {
    "duration": 13,
    "start_time": "2022-05-24T12:49:26.265Z"
   },
   {
    "duration": 65,
    "start_time": "2022-05-24T12:49:26.280Z"
   },
   {
    "duration": 13,
    "start_time": "2022-05-24T12:49:32.975Z"
   },
   {
    "duration": 166,
    "start_time": "2022-05-24T12:49:58.783Z"
   },
   {
    "duration": 390,
    "start_time": "2022-05-24T12:53:25.238Z"
   },
   {
    "duration": 334,
    "start_time": "2022-05-24T12:53:52.602Z"
   },
   {
    "duration": 293,
    "start_time": "2022-05-24T13:01:00.604Z"
   },
   {
    "duration": 359,
    "start_time": "2022-05-24T13:02:03.103Z"
   },
   {
    "duration": 871,
    "start_time": "2022-05-24T13:09:27.741Z"
   },
   {
    "duration": 103,
    "start_time": "2022-05-24T15:27:48.811Z"
   },
   {
    "duration": 175,
    "start_time": "2022-05-24T15:28:07.759Z"
   },
   {
    "duration": 249,
    "start_time": "2022-05-24T15:28:10.262Z"
   },
   {
    "duration": 133,
    "start_time": "2022-05-24T15:28:42.894Z"
   },
   {
    "duration": 3,
    "start_time": "2022-05-24T15:29:02.998Z"
   },
   {
    "duration": 291,
    "start_time": "2022-05-24T15:29:07.895Z"
   },
   {
    "duration": 507,
    "start_time": "2022-05-24T15:30:03.454Z"
   },
   {
    "duration": 612,
    "start_time": "2022-05-24T15:30:15.006Z"
   },
   {
    "duration": 590,
    "start_time": "2022-05-24T15:32:03.931Z"
   },
   {
    "duration": 572,
    "start_time": "2022-05-24T15:32:26.680Z"
   },
   {
    "duration": 646,
    "start_time": "2022-05-24T15:32:51.308Z"
   },
   {
    "duration": 547,
    "start_time": "2022-05-24T15:33:48.132Z"
   },
   {
    "duration": 695,
    "start_time": "2022-05-24T15:33:58.102Z"
   },
   {
    "duration": 709,
    "start_time": "2022-05-24T15:34:11.805Z"
   },
   {
    "duration": 562,
    "start_time": "2022-05-24T15:34:33.266Z"
   },
   {
    "duration": 623,
    "start_time": "2022-05-24T15:35:53.509Z"
   },
   {
    "duration": 711,
    "start_time": "2022-05-24T15:36:06.393Z"
   },
   {
    "duration": 569,
    "start_time": "2022-05-24T15:36:13.760Z"
   },
   {
    "duration": 610,
    "start_time": "2022-05-24T15:36:41.582Z"
   },
   {
    "duration": 56,
    "start_time": "2022-05-24T15:38:47.487Z"
   },
   {
    "duration": 678,
    "start_time": "2022-05-24T15:38:50.791Z"
   },
   {
    "duration": 586,
    "start_time": "2022-05-24T15:40:43.545Z"
   },
   {
    "duration": 574,
    "start_time": "2022-05-24T15:41:23.111Z"
   },
   {
    "duration": 694,
    "start_time": "2022-05-24T15:41:32.604Z"
   },
   {
    "duration": 559,
    "start_time": "2022-05-24T15:41:43.145Z"
   },
   {
    "duration": 607,
    "start_time": "2022-05-24T15:41:46.083Z"
   },
   {
    "duration": 575,
    "start_time": "2022-05-24T15:41:52.453Z"
   },
   {
    "duration": 705,
    "start_time": "2022-05-24T15:42:43.472Z"
   },
   {
    "duration": 7,
    "start_time": "2022-05-24T15:43:09.896Z"
   },
   {
    "duration": 30,
    "start_time": "2022-05-24T15:44:22.795Z"
   },
   {
    "duration": 15,
    "start_time": "2022-05-24T15:44:26.610Z"
   },
   {
    "duration": 9,
    "start_time": "2022-05-24T15:51:01.534Z"
   },
   {
    "duration": 8,
    "start_time": "2022-05-24T15:51:04.996Z"
   },
   {
    "duration": 4,
    "start_time": "2022-05-24T15:51:18.110Z"
   },
   {
    "duration": 70,
    "start_time": "2022-05-25T11:38:17.205Z"
   },
   {
    "duration": 972,
    "start_time": "2022-05-25T11:38:21.367Z"
   },
   {
    "duration": 137,
    "start_time": "2022-05-25T11:38:22.341Z"
   },
   {
    "duration": 99,
    "start_time": "2022-05-25T11:38:22.480Z"
   },
   {
    "duration": 17,
    "start_time": "2022-05-25T11:38:22.581Z"
   },
   {
    "duration": 26,
    "start_time": "2022-05-25T11:38:22.600Z"
   },
   {
    "duration": 25,
    "start_time": "2022-05-25T11:38:22.628Z"
   },
   {
    "duration": 17,
    "start_time": "2022-05-25T11:38:22.655Z"
   },
   {
    "duration": 44,
    "start_time": "2022-05-25T11:38:22.673Z"
   },
   {
    "duration": 19,
    "start_time": "2022-05-25T11:38:22.720Z"
   },
   {
    "duration": 18,
    "start_time": "2022-05-25T11:38:22.742Z"
   },
   {
    "duration": 19,
    "start_time": "2022-05-25T11:38:22.762Z"
   },
   {
    "duration": 70,
    "start_time": "2022-05-25T11:38:22.782Z"
   },
   {
    "duration": 22,
    "start_time": "2022-05-25T11:38:22.854Z"
   },
   {
    "duration": 372,
    "start_time": "2022-05-25T11:38:22.879Z"
   },
   {
    "duration": 587,
    "start_time": "2022-05-25T11:38:23.253Z"
   },
   {
    "duration": 6,
    "start_time": "2022-05-25T11:38:23.842Z"
   },
   {
    "duration": 889,
    "start_time": "2022-05-25T11:38:25.844Z"
   },
   {
    "duration": 5,
    "start_time": "2022-05-25T11:38:59.931Z"
   },
   {
    "duration": 5,
    "start_time": "2022-05-25T11:39:25.885Z"
   },
   {
    "duration": 5,
    "start_time": "2022-05-25T11:39:40.811Z"
   },
   {
    "duration": 6,
    "start_time": "2022-05-25T11:40:12.941Z"
   },
   {
    "duration": 4,
    "start_time": "2022-05-25T11:40:18.656Z"
   },
   {
    "duration": 628,
    "start_time": "2022-05-25T11:40:52.826Z"
   },
   {
    "duration": 896,
    "start_time": "2022-05-25T11:41:07.405Z"
   },
   {
    "duration": 56,
    "start_time": "2022-05-25T11:41:54.067Z"
   },
   {
    "duration": 56,
    "start_time": "2022-05-25T11:42:28.482Z"
   },
   {
    "duration": 666,
    "start_time": "2022-05-25T11:42:53.428Z"
   },
   {
    "duration": 49,
    "start_time": "2022-05-25T11:47:11.837Z"
   },
   {
    "duration": 0,
    "start_time": "2022-05-25T11:49:12.268Z"
   },
   {
    "duration": 5373,
    "start_time": "2022-05-25T11:49:14.790Z"
   },
   {
    "duration": 5,
    "start_time": "2022-05-25T11:51:43.927Z"
   },
   {
    "duration": 35,
    "start_time": "2022-05-25T11:51:56.759Z"
   },
   {
    "duration": 53,
    "start_time": "2022-05-25T11:52:05.210Z"
   },
   {
    "duration": 26,
    "start_time": "2022-05-25T11:52:11.242Z"
   },
   {
    "duration": 781,
    "start_time": "2022-05-25T11:52:18.785Z"
   },
   {
    "duration": 763,
    "start_time": "2022-05-25T11:52:29.063Z"
   },
   {
    "duration": 848,
    "start_time": "2022-05-25T11:52:51.425Z"
   },
   {
    "duration": 732,
    "start_time": "2022-05-25T11:52:59.412Z"
   },
   {
    "duration": 734,
    "start_time": "2022-05-25T11:53:09.780Z"
   },
   {
    "duration": 751,
    "start_time": "2022-05-25T11:53:19.805Z"
   },
   {
    "duration": 1216,
    "start_time": "2022-05-25T11:53:35.246Z"
   },
   {
    "duration": 640,
    "start_time": "2022-05-25T11:53:46.238Z"
   },
   {
    "duration": 641,
    "start_time": "2022-05-25T11:54:09.913Z"
   },
   {
    "duration": 684,
    "start_time": "2022-05-25T11:54:33.368Z"
   },
   {
    "duration": 669,
    "start_time": "2022-05-25T11:54:52.622Z"
   },
   {
    "duration": 671,
    "start_time": "2022-05-25T11:55:12.158Z"
   },
   {
    "duration": 753,
    "start_time": "2022-05-25T11:55:16.792Z"
   },
   {
    "duration": 702,
    "start_time": "2022-05-25T11:55:45.921Z"
   },
   {
    "duration": 7,
    "start_time": "2022-05-25T12:34:42.426Z"
   },
   {
    "duration": 6,
    "start_time": "2022-05-25T12:34:47.927Z"
   },
   {
    "duration": 6,
    "start_time": "2022-05-25T12:35:23.617Z"
   },
   {
    "duration": 206,
    "start_time": "2022-05-25T12:36:04.337Z"
   },
   {
    "duration": 318,
    "start_time": "2022-05-25T12:36:22.171Z"
   },
   {
    "duration": 293,
    "start_time": "2022-05-25T12:36:48.322Z"
   },
   {
    "duration": 36,
    "start_time": "2022-05-25T12:38:12.569Z"
   },
   {
    "duration": 42,
    "start_time": "2022-05-25T12:38:20.071Z"
   },
   {
    "duration": 276,
    "start_time": "2022-05-25T12:38:27.840Z"
   },
   {
    "duration": 309,
    "start_time": "2022-05-25T12:38:51.007Z"
   },
   {
    "duration": 289,
    "start_time": "2022-05-25T12:39:09.508Z"
   },
   {
    "duration": 139,
    "start_time": "2022-05-25T12:39:20.736Z"
   },
   {
    "duration": 7,
    "start_time": "2022-05-25T12:39:42.007Z"
   },
   {
    "duration": 8,
    "start_time": "2022-05-25T12:39:47.734Z"
   },
   {
    "duration": 5,
    "start_time": "2022-05-25T12:39:59.192Z"
   },
   {
    "duration": 7,
    "start_time": "2022-05-25T12:40:29.998Z"
   },
   {
    "duration": 15,
    "start_time": "2022-05-25T12:40:49.909Z"
   },
   {
    "duration": 225,
    "start_time": "2022-05-25T12:42:03.910Z"
   },
   {
    "duration": 7,
    "start_time": "2022-05-25T12:44:07.642Z"
   },
   {
    "duration": 8,
    "start_time": "2022-05-25T12:44:24.853Z"
   },
   {
    "duration": 6,
    "start_time": "2022-05-25T12:44:36.409Z"
   },
   {
    "duration": 160,
    "start_time": "2022-05-25T12:45:12.803Z"
   },
   {
    "duration": 161,
    "start_time": "2022-05-25T12:46:04.554Z"
   },
   {
    "duration": 9,
    "start_time": "2022-05-25T12:46:30.267Z"
   },
   {
    "duration": 156,
    "start_time": "2022-05-25T12:46:58.514Z"
   },
   {
    "duration": 149,
    "start_time": "2022-05-25T12:47:09.184Z"
   },
   {
    "duration": 142,
    "start_time": "2022-05-25T12:47:17.872Z"
   },
   {
    "duration": 168,
    "start_time": "2022-05-25T12:47:23.611Z"
   },
   {
    "duration": 159,
    "start_time": "2022-05-25T12:47:26.883Z"
   },
   {
    "duration": 197,
    "start_time": "2022-05-25T12:47:28.986Z"
   },
   {
    "duration": 182,
    "start_time": "2022-05-25T12:47:44.702Z"
   },
   {
    "duration": 266,
    "start_time": "2022-05-25T12:48:03.078Z"
   },
   {
    "duration": 311,
    "start_time": "2022-05-25T12:48:06.966Z"
   },
   {
    "duration": 477,
    "start_time": "2022-05-25T12:48:35.386Z"
   },
   {
    "duration": 35,
    "start_time": "2022-05-25T12:54:33.127Z"
   },
   {
    "duration": 22,
    "start_time": "2022-05-25T12:56:07.249Z"
   },
   {
    "duration": 23,
    "start_time": "2022-05-25T12:56:11.955Z"
   },
   {
    "duration": 48,
    "start_time": "2022-05-25T12:56:14.539Z"
   },
   {
    "duration": 35,
    "start_time": "2022-05-25T12:56:21.962Z"
   },
   {
    "duration": 148,
    "start_time": "2022-05-25T12:58:40.119Z"
   },
   {
    "duration": 149,
    "start_time": "2022-05-25T12:58:43.236Z"
   },
   {
    "duration": 436,
    "start_time": "2022-05-25T13:00:39.857Z"
   },
   {
    "duration": 449,
    "start_time": "2022-05-25T13:00:50.495Z"
   },
   {
    "duration": 27,
    "start_time": "2022-05-25T13:09:47.629Z"
   },
   {
    "duration": 27,
    "start_time": "2022-05-25T13:13:00.171Z"
   },
   {
    "duration": 835,
    "start_time": "2022-05-25T13:13:13.705Z"
   },
   {
    "duration": 153,
    "start_time": "2022-05-25T13:13:49.676Z"
   },
   {
    "duration": 9,
    "start_time": "2022-05-25T15:20:55.699Z"
   },
   {
    "duration": 114,
    "start_time": "2022-05-25T15:21:56.570Z"
   },
   {
    "duration": 108,
    "start_time": "2022-05-25T15:22:06.963Z"
   },
   {
    "duration": 11,
    "start_time": "2022-05-25T15:24:16.226Z"
   },
   {
    "duration": 113,
    "start_time": "2022-05-25T15:24:48.440Z"
   },
   {
    "duration": 113,
    "start_time": "2022-05-25T15:25:08.128Z"
   },
   {
    "duration": 10,
    "start_time": "2022-05-25T15:25:32.227Z"
   },
   {
    "duration": 9,
    "start_time": "2022-05-25T15:26:08.532Z"
   },
   {
    "duration": 13,
    "start_time": "2022-05-25T15:26:13.927Z"
   },
   {
    "duration": 126,
    "start_time": "2022-05-25T15:26:59.130Z"
   },
   {
    "duration": 138,
    "start_time": "2022-05-25T15:27:21.326Z"
   },
   {
    "duration": 129,
    "start_time": "2022-05-25T15:27:28.009Z"
   },
   {
    "duration": 127,
    "start_time": "2022-05-25T15:27:32.293Z"
   },
   {
    "duration": 133,
    "start_time": "2022-05-25T15:27:37.840Z"
   },
   {
    "duration": 140,
    "start_time": "2022-05-25T15:29:56.900Z"
   },
   {
    "duration": 12,
    "start_time": "2022-05-25T15:30:06.630Z"
   },
   {
    "duration": 137,
    "start_time": "2022-05-25T15:30:31.136Z"
   },
   {
    "duration": 116,
    "start_time": "2022-05-25T15:30:34.542Z"
   },
   {
    "duration": 145,
    "start_time": "2022-05-25T15:30:48.997Z"
   },
   {
    "duration": 112,
    "start_time": "2022-05-25T15:30:55.241Z"
   },
   {
    "duration": 130,
    "start_time": "2022-05-25T15:31:02.137Z"
   },
   {
    "duration": 147,
    "start_time": "2022-05-25T15:31:13.537Z"
   },
   {
    "duration": 16,
    "start_time": "2022-05-25T15:32:02.193Z"
   },
   {
    "duration": 141,
    "start_time": "2022-05-25T15:32:40.795Z"
   },
   {
    "duration": 144,
    "start_time": "2022-05-25T15:32:59.418Z"
   },
   {
    "duration": 45,
    "start_time": "2022-05-25T15:33:35.479Z"
   },
   {
    "duration": 8,
    "start_time": "2022-05-25T15:34:05.648Z"
   },
   {
    "duration": 13,
    "start_time": "2022-05-25T15:34:14.304Z"
   },
   {
    "duration": 494,
    "start_time": "2022-05-25T17:24:32.647Z"
   },
   {
    "duration": 212,
    "start_time": "2022-05-25T17:24:59.964Z"
   },
   {
    "duration": 216,
    "start_time": "2022-05-25T17:28:14.834Z"
   },
   {
    "duration": 174,
    "start_time": "2022-05-25T17:31:12.103Z"
   },
   {
    "duration": 151,
    "start_time": "2022-05-25T17:31:25.254Z"
   },
   {
    "duration": 152,
    "start_time": "2022-05-25T17:32:17.271Z"
   },
   {
    "duration": 187,
    "start_time": "2022-05-25T17:33:02.193Z"
   },
   {
    "duration": 196,
    "start_time": "2022-05-25T17:33:15.341Z"
   },
   {
    "duration": 202,
    "start_time": "2022-05-25T17:33:22.025Z"
   },
   {
    "duration": 279,
    "start_time": "2022-05-25T17:33:27.095Z"
   },
   {
    "duration": 194,
    "start_time": "2022-05-25T17:33:31.657Z"
   },
   {
    "duration": 61,
    "start_time": "2022-05-25T17:34:45.097Z"
   },
   {
    "duration": 7,
    "start_time": "2022-05-25T17:35:50.045Z"
   },
   {
    "duration": 8,
    "start_time": "2022-05-25T17:36:08.797Z"
   },
   {
    "duration": 1416,
    "start_time": "2022-05-25T17:40:12.702Z"
   },
   {
    "duration": 13,
    "start_time": "2022-05-25T17:44:13.842Z"
   },
   {
    "duration": 7,
    "start_time": "2022-05-25T17:44:38.806Z"
   },
   {
    "duration": 176,
    "start_time": "2022-05-25T17:44:43.096Z"
   },
   {
    "duration": 7,
    "start_time": "2022-05-25T17:50:18.713Z"
   },
   {
    "duration": 155,
    "start_time": "2022-05-25T17:51:44.521Z"
   },
   {
    "duration": 145,
    "start_time": "2022-05-25T17:52:24.296Z"
   },
   {
    "duration": 145,
    "start_time": "2022-05-25T17:52:45.950Z"
   },
   {
    "duration": 141,
    "start_time": "2022-05-25T18:03:29.429Z"
   },
   {
    "duration": 146,
    "start_time": "2022-05-25T18:04:54.829Z"
   },
   {
    "duration": 868,
    "start_time": "2022-05-25T18:05:36.662Z"
   },
   {
    "duration": 770,
    "start_time": "2022-05-25T18:05:55.854Z"
   },
   {
    "duration": 139,
    "start_time": "2022-05-25T18:06:22.869Z"
   },
   {
    "duration": 768,
    "start_time": "2022-05-25T18:07:04.248Z"
   },
   {
    "duration": 115,
    "start_time": "2022-05-25T18:09:15.454Z"
   },
   {
    "duration": 110,
    "start_time": "2022-05-25T18:09:42.860Z"
   },
   {
    "duration": 100,
    "start_time": "2022-05-25T18:09:46.432Z"
   },
   {
    "duration": 504,
    "start_time": "2022-05-25T18:16:30.300Z"
   },
   {
    "duration": 178,
    "start_time": "2022-05-25T18:27:57.699Z"
   },
   {
    "duration": 151,
    "start_time": "2022-05-25T18:28:45.913Z"
   },
   {
    "duration": 198,
    "start_time": "2022-05-25T18:34:01.713Z"
   },
   {
    "duration": 57,
    "start_time": "2022-05-25T23:57:12.744Z"
   },
   {
    "duration": 931,
    "start_time": "2022-05-25T23:57:17.703Z"
   },
   {
    "duration": 353,
    "start_time": "2022-05-25T23:57:18.636Z"
   },
   {
    "duration": 97,
    "start_time": "2022-05-25T23:57:18.991Z"
   },
   {
    "duration": 13,
    "start_time": "2022-05-25T23:57:19.090Z"
   },
   {
    "duration": 10,
    "start_time": "2022-05-25T23:57:19.104Z"
   },
   {
    "duration": 16,
    "start_time": "2022-05-25T23:57:19.116Z"
   },
   {
    "duration": 32,
    "start_time": "2022-05-25T23:57:19.133Z"
   },
   {
    "duration": 41,
    "start_time": "2022-05-25T23:57:19.168Z"
   },
   {
    "duration": 13,
    "start_time": "2022-05-25T23:57:19.210Z"
   },
   {
    "duration": 15,
    "start_time": "2022-05-25T23:57:19.225Z"
   },
   {
    "duration": 20,
    "start_time": "2022-05-25T23:57:19.242Z"
   },
   {
    "duration": 35,
    "start_time": "2022-05-25T23:57:19.264Z"
   },
   {
    "duration": 366,
    "start_time": "2022-05-25T23:57:19.301Z"
   },
   {
    "duration": 797,
    "start_time": "2022-05-25T23:57:19.669Z"
   },
   {
    "duration": 8,
    "start_time": "2022-05-25T23:57:20.467Z"
   },
   {
    "duration": 254,
    "start_time": "2022-05-25T23:57:20.477Z"
   },
   {
    "duration": 893,
    "start_time": "2022-05-25T23:57:20.733Z"
   },
   {
    "duration": 116,
    "start_time": "2022-05-25T23:57:21.628Z"
   },
   {
    "duration": 544,
    "start_time": "2022-05-25T23:57:42.565Z"
   },
   {
    "duration": 556,
    "start_time": "2022-05-25T23:57:57.288Z"
   },
   {
    "duration": 156,
    "start_time": "2022-05-25T23:59:57.173Z"
   },
   {
    "duration": 6,
    "start_time": "2022-05-26T00:00:39.186Z"
   },
   {
    "duration": 301,
    "start_time": "2022-05-26T00:02:01.012Z"
   },
   {
    "duration": 6,
    "start_time": "2022-05-26T00:02:39.602Z"
   },
   {
    "duration": 5,
    "start_time": "2022-05-26T00:03:12.434Z"
   },
   {
    "duration": 9,
    "start_time": "2022-05-26T00:07:58.673Z"
   },
   {
    "duration": 1140,
    "start_time": "2022-05-26T15:26:29.699Z"
   },
   {
    "duration": 754,
    "start_time": "2022-05-26T15:26:30.841Z"
   },
   {
    "duration": 110,
    "start_time": "2022-05-26T15:26:31.597Z"
   },
   {
    "duration": 15,
    "start_time": "2022-05-26T15:26:31.709Z"
   },
   {
    "duration": 9,
    "start_time": "2022-05-26T15:26:31.726Z"
   },
   {
    "duration": 42,
    "start_time": "2022-05-26T15:26:31.737Z"
   },
   {
    "duration": 27,
    "start_time": "2022-05-26T15:26:31.780Z"
   },
   {
    "duration": 18,
    "start_time": "2022-05-26T15:26:31.809Z"
   },
   {
    "duration": 15,
    "start_time": "2022-05-26T15:26:31.828Z"
   },
   {
    "duration": 31,
    "start_time": "2022-05-26T15:26:31.845Z"
   },
   {
    "duration": 26,
    "start_time": "2022-05-26T15:26:31.878Z"
   },
   {
    "duration": 39,
    "start_time": "2022-05-26T15:26:31.906Z"
   },
   {
    "duration": 384,
    "start_time": "2022-05-26T15:26:31.948Z"
   },
   {
    "duration": 835,
    "start_time": "2022-05-26T15:26:32.335Z"
   },
   {
    "duration": 7,
    "start_time": "2022-05-26T15:26:33.179Z"
   },
   {
    "duration": 211,
    "start_time": "2022-05-26T15:26:33.187Z"
   },
   {
    "duration": 1121,
    "start_time": "2022-05-26T15:26:33.400Z"
   },
   {
    "duration": 327,
    "start_time": "2022-05-26T15:26:34.523Z"
   },
   {
    "duration": 135,
    "start_time": "2022-05-26T15:26:34.852Z"
   },
   {
    "duration": 816,
    "start_time": "2022-05-26T15:26:34.989Z"
   },
   {
    "duration": 6,
    "start_time": "2022-05-26T15:26:35.807Z"
   },
   {
    "duration": 14,
    "start_time": "2022-05-26T15:26:35.815Z"
   },
   {
    "duration": 170,
    "start_time": "2022-05-26T15:26:35.831Z"
   },
   {
    "duration": 157,
    "start_time": "2022-05-26T15:26:36.003Z"
   },
   {
    "duration": 17,
    "start_time": "2022-05-26T15:26:36.173Z"
   },
   {
    "duration": 319,
    "start_time": "2022-05-26T15:26:42.694Z"
   },
   {
    "duration": 23,
    "start_time": "2022-05-26T15:28:08.942Z"
   },
   {
    "duration": 307,
    "start_time": "2022-05-26T15:28:14.431Z"
   },
   {
    "duration": 417,
    "start_time": "2022-05-26T15:28:26.979Z"
   },
   {
    "duration": 4,
    "start_time": "2022-05-26T15:28:56.575Z"
   },
   {
    "duration": 128,
    "start_time": "2022-05-26T15:28:56.581Z"
   },
   {
    "duration": 150,
    "start_time": "2022-05-26T15:28:56.712Z"
   },
   {
    "duration": 22,
    "start_time": "2022-05-26T15:28:56.867Z"
   },
   {
    "duration": 41,
    "start_time": "2022-05-26T15:28:56.896Z"
   },
   {
    "duration": 15,
    "start_time": "2022-05-26T15:28:56.940Z"
   },
   {
    "duration": 55,
    "start_time": "2022-05-26T15:28:56.956Z"
   },
   {
    "duration": 30,
    "start_time": "2022-05-26T15:28:57.013Z"
   },
   {
    "duration": 32,
    "start_time": "2022-05-26T15:28:57.045Z"
   },
   {
    "duration": 34,
    "start_time": "2022-05-26T15:28:57.080Z"
   },
   {
    "duration": 16,
    "start_time": "2022-05-26T15:28:57.116Z"
   },
   {
    "duration": 60,
    "start_time": "2022-05-26T15:28:57.135Z"
   },
   {
    "duration": 507,
    "start_time": "2022-05-26T15:28:57.199Z"
   },
   {
    "duration": 913,
    "start_time": "2022-05-26T15:28:57.709Z"
   },
   {
    "duration": 6,
    "start_time": "2022-05-26T15:28:58.624Z"
   },
   {
    "duration": 269,
    "start_time": "2022-05-26T15:28:58.632Z"
   },
   {
    "duration": 1255,
    "start_time": "2022-05-26T15:28:58.903Z"
   },
   {
    "duration": 365,
    "start_time": "2022-05-26T15:29:00.162Z"
   },
   {
    "duration": 188,
    "start_time": "2022-05-26T15:29:00.529Z"
   },
   {
    "duration": 925,
    "start_time": "2022-05-26T15:29:00.719Z"
   },
   {
    "duration": 15,
    "start_time": "2022-05-26T15:29:01.646Z"
   },
   {
    "duration": 73,
    "start_time": "2022-05-26T15:29:01.663Z"
   },
   {
    "duration": 276,
    "start_time": "2022-05-26T15:29:01.737Z"
   },
   {
    "duration": 186,
    "start_time": "2022-05-26T15:29:02.016Z"
   },
   {
    "duration": 13,
    "start_time": "2022-05-26T15:29:02.204Z"
   },
   {
    "duration": 452,
    "start_time": "2022-05-26T15:29:02.219Z"
   },
   {
    "duration": 312,
    "start_time": "2022-05-26T15:29:09.129Z"
   },
   {
    "duration": 21,
    "start_time": "2022-05-26T15:29:17.601Z"
   },
   {
    "duration": 332,
    "start_time": "2022-05-26T15:29:19.449Z"
   },
   {
    "duration": 2,
    "start_time": "2022-05-26T15:30:01.736Z"
   },
   {
    "duration": 150,
    "start_time": "2022-05-26T15:30:01.741Z"
   },
   {
    "duration": 113,
    "start_time": "2022-05-26T15:30:01.893Z"
   },
   {
    "duration": 19,
    "start_time": "2022-05-26T15:30:02.008Z"
   },
   {
    "duration": 64,
    "start_time": "2022-05-26T15:30:02.029Z"
   },
   {
    "duration": 22,
    "start_time": "2022-05-26T15:30:02.095Z"
   },
   {
    "duration": 19,
    "start_time": "2022-05-26T15:30:02.119Z"
   },
   {
    "duration": 21,
    "start_time": "2022-05-26T15:30:02.140Z"
   },
   {
    "duration": 59,
    "start_time": "2022-05-26T15:30:02.182Z"
   },
   {
    "duration": 56,
    "start_time": "2022-05-26T15:30:02.243Z"
   },
   {
    "duration": 55,
    "start_time": "2022-05-26T15:30:02.302Z"
   },
   {
    "duration": 184,
    "start_time": "2022-05-26T15:30:02.360Z"
   },
   {
    "duration": 434,
    "start_time": "2022-05-26T15:30:02.546Z"
   },
   {
    "duration": 919,
    "start_time": "2022-05-26T15:30:02.987Z"
   },
   {
    "duration": 5,
    "start_time": "2022-05-26T15:30:03.908Z"
   },
   {
    "duration": 223,
    "start_time": "2022-05-26T15:30:03.914Z"
   },
   {
    "duration": 972,
    "start_time": "2022-05-26T15:30:04.139Z"
   },
   {
    "duration": 594,
    "start_time": "2022-05-26T15:30:05.113Z"
   },
   {
    "duration": 126,
    "start_time": "2022-05-26T15:30:05.708Z"
   },
   {
    "duration": 652,
    "start_time": "2022-05-26T15:30:05.835Z"
   },
   {
    "duration": 5,
    "start_time": "2022-05-26T15:30:06.489Z"
   },
   {
    "duration": 10,
    "start_time": "2022-05-26T15:30:06.496Z"
   },
   {
    "duration": 145,
    "start_time": "2022-05-26T15:30:06.508Z"
   },
   {
    "duration": 126,
    "start_time": "2022-05-26T15:30:06.662Z"
   },
   {
    "duration": 12,
    "start_time": "2022-05-26T15:30:06.790Z"
   },
   {
    "duration": 313,
    "start_time": "2022-05-26T15:30:06.803Z"
   },
   {
    "duration": 9,
    "start_time": "2022-05-26T15:31:11.438Z"
   },
   {
    "duration": 6,
    "start_time": "2022-05-26T15:32:07.684Z"
   },
   {
    "duration": 5,
    "start_time": "2022-05-26T15:33:09.889Z"
   },
   {
    "duration": 1072,
    "start_time": "2022-05-26T15:35:16.836Z"
   },
   {
    "duration": 5,
    "start_time": "2022-05-26T15:37:58.797Z"
   },
   {
    "duration": 5,
    "start_time": "2022-05-26T15:38:08.299Z"
   },
   {
    "duration": 15,
    "start_time": "2022-05-26T16:23:06.532Z"
   },
   {
    "duration": 15,
    "start_time": "2022-05-26T16:23:14.496Z"
   },
   {
    "duration": 16,
    "start_time": "2022-05-26T16:23:19.493Z"
   },
   {
    "duration": 16,
    "start_time": "2022-05-26T16:27:06.279Z"
   },
   {
    "duration": 34,
    "start_time": "2022-05-26T16:27:09.575Z"
   },
   {
    "duration": 35,
    "start_time": "2022-05-26T16:27:13.685Z"
   },
   {
    "duration": 39,
    "start_time": "2022-05-26T17:00:07.159Z"
   },
   {
    "duration": 8,
    "start_time": "2022-05-26T17:01:31.464Z"
   },
   {
    "duration": 8,
    "start_time": "2022-05-26T17:02:30.019Z"
   },
   {
    "duration": 44,
    "start_time": "2022-05-26T17:02:41.352Z"
   },
   {
    "duration": 13,
    "start_time": "2022-05-26T17:04:12.714Z"
   },
   {
    "duration": 17674,
    "start_time": "2022-05-26T17:07:23.345Z"
   },
   {
    "duration": 2971,
    "start_time": "2022-05-26T17:08:23.298Z"
   },
   {
    "duration": 4,
    "start_time": "2022-05-26T17:08:33.498Z"
   },
   {
    "duration": 390,
    "start_time": "2022-05-26T17:09:05.951Z"
   },
   {
    "duration": 115382,
    "start_time": "2022-05-26T17:09:35.293Z"
   },
   {
    "duration": 106,
    "start_time": "2022-05-26T17:11:30.676Z"
   },
   {
    "duration": 83,
    "start_time": "2022-05-26T17:16:18.824Z"
   },
   {
    "duration": 80,
    "start_time": "2022-05-26T17:16:28.863Z"
   },
   {
    "duration": 118,
    "start_time": "2022-05-26T17:16:42.684Z"
   },
   {
    "duration": 7,
    "start_time": "2022-05-26T17:17:40.618Z"
   },
   {
    "duration": 13,
    "start_time": "2022-05-26T17:19:28.756Z"
   },
   {
    "duration": 7,
    "start_time": "2022-05-26T17:19:32.416Z"
   },
   {
    "duration": 21,
    "start_time": "2022-05-26T17:19:39.220Z"
   },
   {
    "duration": 6,
    "start_time": "2022-05-26T17:19:50.970Z"
   },
   {
    "duration": 15,
    "start_time": "2022-05-26T17:19:52.969Z"
   },
   {
    "duration": 177,
    "start_time": "2022-05-26T17:19:57.398Z"
   },
   {
    "duration": 111,
    "start_time": "2022-05-26T17:20:40.924Z"
   },
   {
    "duration": 6,
    "start_time": "2022-05-26T17:20:53.388Z"
   },
   {
    "duration": 7,
    "start_time": "2022-05-26T17:26:52.435Z"
   },
   {
    "duration": 14,
    "start_time": "2022-05-26T17:27:07.248Z"
   },
   {
    "duration": 8,
    "start_time": "2022-05-26T17:27:10.510Z"
   },
   {
    "duration": 8,
    "start_time": "2022-05-26T17:27:21.819Z"
   },
   {
    "duration": 853,
    "start_time": "2022-05-26T17:27:29.225Z"
   },
   {
    "duration": 17,
    "start_time": "2022-05-26T17:27:35.176Z"
   },
   {
    "duration": 15,
    "start_time": "2022-05-26T17:46:45.112Z"
   },
   {
    "duration": 10,
    "start_time": "2022-05-26T17:48:14.820Z"
   },
   {
    "duration": 9,
    "start_time": "2022-05-26T17:50:55.827Z"
   },
   {
    "duration": 19,
    "start_time": "2022-05-26T17:53:46.888Z"
   },
   {
    "duration": 12,
    "start_time": "2022-05-26T17:54:31.048Z"
   },
   {
    "duration": 9,
    "start_time": "2022-05-26T17:54:34.827Z"
   },
   {
    "duration": 21,
    "start_time": "2022-05-26T17:55:36.977Z"
   },
   {
    "duration": 20,
    "start_time": "2022-05-26T17:56:08.326Z"
   },
   {
    "duration": 13,
    "start_time": "2022-05-26T17:58:17.890Z"
   },
   {
    "duration": 15,
    "start_time": "2022-05-26T17:59:32.253Z"
   },
   {
    "duration": 8,
    "start_time": "2022-05-26T17:59:42.768Z"
   },
   {
    "duration": 9,
    "start_time": "2022-05-26T18:58:21.124Z"
   },
   {
    "duration": 116917,
    "start_time": "2022-05-26T19:04:17.378Z"
   },
   {
    "duration": 29,
    "start_time": "2022-05-26T19:16:21.997Z"
   },
   {
    "duration": 18,
    "start_time": "2022-05-26T19:18:00.255Z"
   },
   {
    "duration": 19,
    "start_time": "2022-05-26T19:18:24.723Z"
   },
   {
    "duration": 20,
    "start_time": "2022-05-26T19:18:54.892Z"
   },
   {
    "duration": 3929,
    "start_time": "2022-05-26T19:19:33.646Z"
   },
   {
    "duration": 3,
    "start_time": "2022-05-26T19:19:37.578Z"
   },
   {
    "duration": 21,
    "start_time": "2022-05-26T19:19:37.582Z"
   },
   {
    "duration": 378,
    "start_time": "2022-05-26T19:19:37.605Z"
   },
   {
    "duration": 16,
    "start_time": "2022-05-26T19:19:37.985Z"
   },
   {
    "duration": 14,
    "start_time": "2022-05-26T19:19:38.003Z"
   },
   {
    "duration": 17,
    "start_time": "2022-05-26T19:19:38.019Z"
   },
   {
    "duration": 34,
    "start_time": "2022-05-26T19:19:38.038Z"
   },
   {
    "duration": 12,
    "start_time": "2022-05-26T19:19:38.074Z"
   },
   {
    "duration": 8,
    "start_time": "2022-05-26T19:19:38.088Z"
   },
   {
    "duration": 28,
    "start_time": "2022-05-26T19:19:38.098Z"
   },
   {
    "duration": 34,
    "start_time": "2022-05-26T19:24:44.863Z"
   },
   {
    "duration": 32,
    "start_time": "2022-05-26T19:24:58.480Z"
   },
   {
    "duration": 389,
    "start_time": "2022-05-26T19:25:15.809Z"
   },
   {
    "duration": 5,
    "start_time": "2022-05-26T19:46:43.859Z"
   },
   {
    "duration": 10,
    "start_time": "2022-05-26T19:47:31.455Z"
   },
   {
    "duration": 178,
    "start_time": "2022-05-26T19:50:16.193Z"
   },
   {
    "duration": 871,
    "start_time": "2022-05-26T19:50:28.233Z"
   },
   {
    "duration": 312,
    "start_time": "2022-05-26T19:50:36.002Z"
   },
   {
    "duration": 103,
    "start_time": "2022-05-26T19:50:40.904Z"
   },
   {
    "duration": 116,
    "start_time": "2022-05-26T19:50:47.552Z"
   },
   {
    "duration": 6,
    "start_time": "2022-05-26T19:51:46.647Z"
   },
   {
    "duration": 9,
    "start_time": "2022-05-26T19:51:55.488Z"
   },
   {
    "duration": 9,
    "start_time": "2022-05-26T19:52:09.261Z"
   },
   {
    "duration": 394,
    "start_time": "2022-05-26T21:10:58.018Z"
   },
   {
    "duration": 2793,
    "start_time": "2022-05-26T21:11:03.652Z"
   },
   {
    "duration": 6,
    "start_time": "2022-05-26T21:17:49.078Z"
   },
   {
    "duration": 6,
    "start_time": "2022-05-26T21:18:33.707Z"
   },
   {
    "duration": 7,
    "start_time": "2022-05-27T00:56:40.208Z"
   },
   {
    "duration": 25,
    "start_time": "2022-05-27T00:57:07.649Z"
   },
   {
    "duration": 276,
    "start_time": "2022-05-27T00:57:50.364Z"
   },
   {
    "duration": 301,
    "start_time": "2022-05-27T00:57:57.072Z"
   },
   {
    "duration": 303,
    "start_time": "2022-05-27T00:58:24.676Z"
   },
   {
    "duration": 280,
    "start_time": "2022-05-27T00:58:28.465Z"
   },
   {
    "duration": 306,
    "start_time": "2022-05-27T00:58:32.375Z"
   },
   {
    "duration": 280,
    "start_time": "2022-05-27T00:58:34.836Z"
   },
   {
    "duration": 7,
    "start_time": "2022-05-27T00:58:50.268Z"
   },
   {
    "duration": 14,
    "start_time": "2022-05-27T00:58:55.275Z"
   },
   {
    "duration": 284,
    "start_time": "2022-05-27T00:58:56.564Z"
   },
   {
    "duration": 11,
    "start_time": "2022-05-27T01:00:27.393Z"
   },
   {
    "duration": 284,
    "start_time": "2022-05-27T01:00:28.706Z"
   },
   {
    "duration": 11,
    "start_time": "2022-05-27T01:00:31.475Z"
   },
   {
    "duration": 10,
    "start_time": "2022-05-27T01:02:32.014Z"
   },
   {
    "duration": 318,
    "start_time": "2022-05-27T01:02:33.765Z"
   },
   {
    "duration": 10,
    "start_time": "2022-05-27T01:03:06.635Z"
   },
   {
    "duration": 13,
    "start_time": "2022-05-27T01:03:43.558Z"
   },
   {
    "duration": 143,
    "start_time": "2022-05-27T01:04:12.148Z"
   },
   {
    "duration": 11,
    "start_time": "2022-05-27T01:04:24.724Z"
   },
   {
    "duration": 120,
    "start_time": "2022-05-27T01:04:35.317Z"
   },
   {
    "duration": 130,
    "start_time": "2022-05-27T01:04:37.136Z"
   },
   {
    "duration": 11,
    "start_time": "2022-05-27T01:04:43.133Z"
   },
   {
    "duration": 118,
    "start_time": "2022-05-27T01:04:44.332Z"
   },
   {
    "duration": 16,
    "start_time": "2022-05-27T01:05:06.572Z"
   },
   {
    "duration": 143,
    "start_time": "2022-05-27T01:05:30.767Z"
   },
   {
    "duration": 121,
    "start_time": "2022-05-27T01:05:38.996Z"
   },
   {
    "duration": 115,
    "start_time": "2022-05-27T01:05:56.090Z"
   },
   {
    "duration": 8,
    "start_time": "2022-05-27T01:06:09.585Z"
   },
   {
    "duration": 124,
    "start_time": "2022-05-27T01:06:10.994Z"
   },
   {
    "duration": 137,
    "start_time": "2022-05-27T01:06:20.834Z"
   },
   {
    "duration": 8,
    "start_time": "2022-05-27T01:06:24.265Z"
   },
   {
    "duration": 114,
    "start_time": "2022-05-27T01:06:46.689Z"
   },
   {
    "duration": 110,
    "start_time": "2022-05-27T01:06:55.873Z"
   },
   {
    "duration": 11,
    "start_time": "2022-05-27T01:07:04.665Z"
   },
   {
    "duration": 109,
    "start_time": "2022-05-27T01:07:08.205Z"
   },
   {
    "duration": 132,
    "start_time": "2022-05-27T01:07:10.473Z"
   },
   {
    "duration": 125,
    "start_time": "2022-05-27T01:07:19.907Z"
   },
   {
    "duration": 19,
    "start_time": "2022-05-27T01:07:30.744Z"
   },
   {
    "duration": 23,
    "start_time": "2022-05-27T01:09:56.906Z"
   },
   {
    "duration": 10,
    "start_time": "2022-05-27T01:12:29.496Z"
   },
   {
    "duration": 687,
    "start_time": "2022-05-27T01:15:04.133Z"
   },
   {
    "duration": 737,
    "start_time": "2022-05-27T01:15:38.677Z"
   },
   {
    "duration": 709,
    "start_time": "2022-05-27T01:16:05.105Z"
   },
   {
    "duration": 696,
    "start_time": "2022-05-27T01:16:27.918Z"
   },
   {
    "duration": 715,
    "start_time": "2022-05-27T01:16:33.307Z"
   },
   {
    "duration": 1357,
    "start_time": "2022-05-27T01:17:41.446Z"
   },
   {
    "duration": 743,
    "start_time": "2022-05-27T01:17:57.406Z"
   },
   {
    "duration": 3,
    "start_time": "2022-05-27T01:18:42.227Z"
   },
   {
    "duration": 40,
    "start_time": "2022-05-27T01:19:37.790Z"
   },
   {
    "duration": 22,
    "start_time": "2022-05-27T01:20:08.465Z"
   },
   {
    "duration": 33,
    "start_time": "2022-05-27T01:20:23.296Z"
   },
   {
    "duration": 39,
    "start_time": "2022-05-27T01:21:33.678Z"
   },
   {
    "duration": 30,
    "start_time": "2022-05-27T01:21:38.665Z"
   },
   {
    "duration": 24,
    "start_time": "2022-05-27T01:22:01.551Z"
   },
   {
    "duration": 13,
    "start_time": "2022-05-27T01:22:07.565Z"
   },
   {
    "duration": 45,
    "start_time": "2022-05-27T01:22:34.725Z"
   },
   {
    "duration": 17,
    "start_time": "2022-05-27T01:22:36.646Z"
   },
   {
    "duration": 5,
    "start_time": "2022-05-27T01:23:06.677Z"
   },
   {
    "duration": 7,
    "start_time": "2022-05-27T01:24:06.405Z"
   },
   {
    "duration": 310,
    "start_time": "2022-05-27T01:24:22.083Z"
   },
   {
    "duration": 285,
    "start_time": "2022-05-27T01:25:13.365Z"
   },
   {
    "duration": 294,
    "start_time": "2022-05-27T01:25:19.471Z"
   },
   {
    "duration": 328,
    "start_time": "2022-05-27T01:25:22.413Z"
   },
   {
    "duration": 44,
    "start_time": "2022-05-27T02:00:39.670Z"
   },
   {
    "duration": 7,
    "start_time": "2022-05-27T02:00:43.710Z"
   },
   {
    "duration": 6,
    "start_time": "2022-05-27T02:01:14.005Z"
   },
   {
    "duration": 190,
    "start_time": "2022-05-27T02:04:48.336Z"
   },
   {
    "duration": 2263,
    "start_time": "2022-05-27T02:08:42.403Z"
   },
   {
    "duration": 3,
    "start_time": "2022-05-27T02:08:44.669Z"
   },
   {
    "duration": 6,
    "start_time": "2022-05-27T02:08:44.673Z"
   },
   {
    "duration": 125,
    "start_time": "2022-05-27T02:08:44.680Z"
   },
   {
    "duration": 16,
    "start_time": "2022-05-27T02:08:44.807Z"
   },
   {
    "duration": 12,
    "start_time": "2022-05-27T02:08:44.825Z"
   },
   {
    "duration": 34,
    "start_time": "2022-05-27T02:08:44.839Z"
   },
   {
    "duration": 23,
    "start_time": "2022-05-27T02:08:44.874Z"
   },
   {
    "duration": 9,
    "start_time": "2022-05-27T02:08:44.899Z"
   },
   {
    "duration": 7,
    "start_time": "2022-05-27T02:08:44.910Z"
   },
   {
    "duration": 14,
    "start_time": "2022-05-27T02:08:44.919Z"
   },
   {
    "duration": 61,
    "start_time": "2022-05-27T02:08:44.934Z"
   },
   {
    "duration": 369,
    "start_time": "2022-05-27T02:08:44.997Z"
   },
   {
    "duration": 721,
    "start_time": "2022-05-27T02:08:45.368Z"
   },
   {
    "duration": 5,
    "start_time": "2022-05-27T02:08:46.091Z"
   },
   {
    "duration": 188,
    "start_time": "2022-05-27T02:08:46.098Z"
   },
   {
    "duration": 911,
    "start_time": "2022-05-27T02:08:46.288Z"
   },
   {
    "duration": 280,
    "start_time": "2022-05-27T02:08:47.200Z"
   },
   {
    "duration": 2,
    "start_time": "2022-05-27T02:08:47.482Z"
   },
   {
    "duration": 10,
    "start_time": "2022-05-27T02:08:47.485Z"
   },
   {
    "duration": 8,
    "start_time": "2022-05-27T02:08:47.497Z"
   },
   {
    "duration": 14,
    "start_time": "2022-05-27T02:08:47.506Z"
   },
   {
    "duration": 116,
    "start_time": "2022-05-27T02:08:47.521Z"
   },
   {
    "duration": 9,
    "start_time": "2022-05-27T02:08:47.639Z"
   },
   {
    "duration": 20,
    "start_time": "2022-05-27T02:08:47.650Z"
   },
   {
    "duration": 113,
    "start_time": "2022-05-27T02:08:47.672Z"
   },
   {
    "duration": 11,
    "start_time": "2022-05-27T02:08:47.787Z"
   },
   {
    "duration": 121,
    "start_time": "2022-05-27T02:08:47.801Z"
   },
   {
    "duration": 8,
    "start_time": "2022-05-27T02:08:47.924Z"
   },
   {
    "duration": 139,
    "start_time": "2022-05-27T02:08:47.934Z"
   },
   {
    "duration": 10,
    "start_time": "2022-05-27T02:08:48.076Z"
   },
   {
    "duration": 145,
    "start_time": "2022-05-27T02:08:48.087Z"
   },
   {
    "duration": 14,
    "start_time": "2022-05-27T02:08:48.234Z"
   },
   {
    "duration": 119,
    "start_time": "2022-05-27T02:08:48.250Z"
   },
   {
    "duration": 8,
    "start_time": "2022-05-27T02:08:48.371Z"
   },
   {
    "duration": 208,
    "start_time": "2022-05-27T02:09:11.132Z"
   },
   {
    "duration": 13,
    "start_time": "2022-05-27T02:10:02.349Z"
   },
   {
    "duration": 223,
    "start_time": "2022-05-27T02:12:00.449Z"
   },
   {
    "duration": 244,
    "start_time": "2022-05-27T02:12:19.773Z"
   },
   {
    "duration": 177,
    "start_time": "2022-05-27T02:13:10.613Z"
   },
   {
    "duration": 212,
    "start_time": "2022-05-27T02:14:22.525Z"
   },
   {
    "duration": 205,
    "start_time": "2022-05-27T02:14:57.813Z"
   },
   {
    "duration": 225,
    "start_time": "2022-05-27T02:15:01.924Z"
   },
   {
    "duration": 6,
    "start_time": "2022-05-27T02:15:13.790Z"
   },
   {
    "duration": 33,
    "start_time": "2022-05-27T02:17:16.843Z"
   },
   {
    "duration": 227,
    "start_time": "2022-05-27T02:17:46.184Z"
   },
   {
    "duration": 6,
    "start_time": "2022-05-27T02:18:06.128Z"
   },
   {
    "duration": 224,
    "start_time": "2022-05-27T02:18:16.509Z"
   },
   {
    "duration": 8,
    "start_time": "2022-05-27T02:20:32.624Z"
   },
   {
    "duration": 6,
    "start_time": "2022-05-27T02:20:35.923Z"
   },
   {
    "duration": 56,
    "start_time": "2022-05-27T11:43:14.458Z"
   },
   {
    "duration": 14219,
    "start_time": "2022-05-27T11:43:21.749Z"
   },
   {
    "duration": 3225,
    "start_time": "2022-05-27T11:43:35.971Z"
   },
   {
    "duration": 3,
    "start_time": "2022-05-27T11:43:39.198Z"
   },
   {
    "duration": 179,
    "start_time": "2022-05-27T11:43:39.203Z"
   },
   {
    "duration": 16,
    "start_time": "2022-05-27T11:43:39.385Z"
   },
   {
    "duration": 13,
    "start_time": "2022-05-27T11:43:39.404Z"
   },
   {
    "duration": 30,
    "start_time": "2022-05-27T11:43:39.420Z"
   },
   {
    "duration": 17,
    "start_time": "2022-05-27T11:43:39.452Z"
   },
   {
    "duration": 8,
    "start_time": "2022-05-27T11:43:39.471Z"
   },
   {
    "duration": 7,
    "start_time": "2022-05-27T11:43:39.480Z"
   },
   {
    "duration": 13,
    "start_time": "2022-05-27T11:43:39.489Z"
   },
   {
    "duration": 62,
    "start_time": "2022-05-27T11:43:39.504Z"
   },
   {
    "duration": 343,
    "start_time": "2022-05-27T11:43:39.568Z"
   },
   {
    "duration": 680,
    "start_time": "2022-05-27T11:43:39.914Z"
   },
   {
    "duration": 7,
    "start_time": "2022-05-27T11:43:40.596Z"
   },
   {
    "duration": 1079,
    "start_time": "2022-05-27T11:43:40.605Z"
   },
   {
    "duration": 1684,
    "start_time": "2022-05-27T11:43:41.687Z"
   },
   {
    "duration": 692,
    "start_time": "2022-05-27T11:43:43.373Z"
   },
   {
    "duration": 3,
    "start_time": "2022-05-27T11:43:44.067Z"
   },
   {
    "duration": 17,
    "start_time": "2022-05-27T11:43:44.071Z"
   },
   {
    "duration": 54,
    "start_time": "2022-05-27T11:43:44.090Z"
   },
   {
    "duration": 3,
    "start_time": "2022-05-27T11:43:44.147Z"
   },
   {
    "duration": 317,
    "start_time": "2022-05-27T11:43:44.152Z"
   },
   {
    "duration": 12,
    "start_time": "2022-05-27T11:43:44.471Z"
   },
   {
    "duration": 7,
    "start_time": "2022-05-27T11:43:44.542Z"
   },
   {
    "duration": 173,
    "start_time": "2022-05-27T11:43:44.552Z"
   },
   {
    "duration": 136,
    "start_time": "2022-05-27T11:43:44.727Z"
   },
   {
    "duration": 160,
    "start_time": "2022-05-27T11:43:44.864Z"
   },
   {
    "duration": 19,
    "start_time": "2022-05-27T11:43:45.025Z"
   },
   {
    "duration": 168,
    "start_time": "2022-05-27T11:43:45.046Z"
   },
   {
    "duration": 13,
    "start_time": "2022-05-27T11:43:45.216Z"
   },
   {
    "duration": 138,
    "start_time": "2022-05-27T11:43:45.231Z"
   },
   {
    "duration": 15,
    "start_time": "2022-05-27T11:43:45.370Z"
   },
   {
    "duration": 138,
    "start_time": "2022-05-27T11:43:45.387Z"
   },
   {
    "duration": 23,
    "start_time": "2022-05-27T11:43:45.527Z"
   },
   {
    "duration": 281,
    "start_time": "2022-05-27T11:43:45.552Z"
   },
   {
    "duration": 6,
    "start_time": "2022-05-27T11:43:45.835Z"
   },
   {
    "duration": 207,
    "start_time": "2022-05-27T11:43:45.842Z"
   },
   {
    "duration": 6,
    "start_time": "2022-05-27T11:43:46.051Z"
   },
   {
    "duration": 284,
    "start_time": "2022-05-27T11:43:46.059Z"
   },
   {
    "duration": 6,
    "start_time": "2022-05-27T11:43:46.348Z"
   },
   {
    "duration": 133,
    "start_time": "2022-05-27T11:43:54.205Z"
   },
   {
    "duration": 22,
    "start_time": "2022-05-27T11:44:05.976Z"
   },
   {
    "duration": 17,
    "start_time": "2022-05-27T11:44:33.413Z"
   },
   {
    "duration": 30,
    "start_time": "2022-05-27T11:44:43.905Z"
   },
   {
    "duration": 10,
    "start_time": "2022-05-27T11:44:59.174Z"
   },
   {
    "duration": 26,
    "start_time": "2022-05-27T11:45:24.553Z"
   },
   {
    "duration": 12,
    "start_time": "2022-05-27T11:45:42.505Z"
   },
   {
    "duration": 8,
    "start_time": "2022-05-27T12:20:08.212Z"
   },
   {
    "duration": 9,
    "start_time": "2022-05-27T12:20:29.739Z"
   },
   {
    "duration": 8,
    "start_time": "2022-05-27T12:21:00.735Z"
   },
   {
    "duration": 8,
    "start_time": "2022-05-27T12:21:02.178Z"
   },
   {
    "duration": 7,
    "start_time": "2022-05-27T12:21:18.762Z"
   },
   {
    "duration": 7,
    "start_time": "2022-05-27T12:21:25.762Z"
   },
   {
    "duration": 13,
    "start_time": "2022-05-27T12:22:13.958Z"
   },
   {
    "duration": 2123,
    "start_time": "2022-05-27T12:23:54.737Z"
   },
   {
    "duration": 126,
    "start_time": "2022-05-27T12:24:35.841Z"
   },
   {
    "duration": 151,
    "start_time": "2022-05-27T12:31:34.183Z"
   },
   {
    "duration": 209,
    "start_time": "2022-05-27T12:31:53.011Z"
   },
   {
    "duration": 340,
    "start_time": "2022-05-27T12:32:00.033Z"
   },
   {
    "duration": 488,
    "start_time": "2022-05-27T12:32:04.923Z"
   },
   {
    "duration": 194,
    "start_time": "2022-05-27T12:34:25.299Z"
   },
   {
    "duration": 184,
    "start_time": "2022-05-27T12:34:43.531Z"
   },
   {
    "duration": 303,
    "start_time": "2022-05-27T12:36:07.958Z"
   },
   {
    "duration": 25,
    "start_time": "2022-05-27T12:41:40.042Z"
   },
   {
    "duration": 18,
    "start_time": "2022-05-27T12:42:04.618Z"
   },
   {
    "duration": 291,
    "start_time": "2022-05-27T13:15:38.768Z"
   },
   {
    "duration": 12,
    "start_time": "2022-05-27T13:16:01.832Z"
   },
   {
    "duration": 185,
    "start_time": "2022-05-27T13:16:04.760Z"
   },
   {
    "duration": 26,
    "start_time": "2022-05-27T13:16:26.720Z"
   },
   {
    "duration": 303,
    "start_time": "2022-05-27T13:16:34.328Z"
   },
   {
    "duration": 474,
    "start_time": "2022-05-27T13:16:41.532Z"
   },
   {
    "duration": 183,
    "start_time": "2022-05-27T13:17:32.164Z"
   },
   {
    "duration": 305,
    "start_time": "2022-05-27T13:18:34.764Z"
   },
   {
    "duration": 273,
    "start_time": "2022-05-27T13:18:40.616Z"
   },
   {
    "duration": 277,
    "start_time": "2022-05-27T13:18:55.260Z"
   },
   {
    "duration": 6,
    "start_time": "2022-05-27T13:22:22.364Z"
   },
   {
    "duration": 18,
    "start_time": "2022-05-27T13:26:17.184Z"
   },
   {
    "duration": 319,
    "start_time": "2022-05-27T13:26:33.848Z"
   },
   {
    "duration": 160,
    "start_time": "2022-05-27T13:26:45.789Z"
   },
   {
    "duration": 115,
    "start_time": "2022-05-27T13:27:34.193Z"
   },
   {
    "duration": 35,
    "start_time": "2022-05-27T13:27:42.773Z"
   },
   {
    "duration": 4,
    "start_time": "2022-05-27T13:27:45.720Z"
   },
   {
    "duration": 149,
    "start_time": "2022-05-27T13:27:53.485Z"
   },
   {
    "duration": 13491,
    "start_time": "2022-05-28T10:41:57.111Z"
   },
   {
    "duration": 1746,
    "start_time": "2022-05-28T10:42:10.605Z"
   },
   {
    "duration": 3,
    "start_time": "2022-05-28T10:42:12.353Z"
   },
   {
    "duration": 190,
    "start_time": "2022-05-28T10:42:12.358Z"
   },
   {
    "duration": 17,
    "start_time": "2022-05-28T10:42:12.550Z"
   },
   {
    "duration": 21,
    "start_time": "2022-05-28T10:42:12.569Z"
   },
   {
    "duration": 18,
    "start_time": "2022-05-28T10:42:12.592Z"
   },
   {
    "duration": 17,
    "start_time": "2022-05-28T10:42:12.612Z"
   },
   {
    "duration": 9,
    "start_time": "2022-05-28T10:42:12.630Z"
   },
   {
    "duration": 8,
    "start_time": "2022-05-28T10:42:12.641Z"
   },
   {
    "duration": 15,
    "start_time": "2022-05-28T10:42:12.685Z"
   },
   {
    "duration": 33,
    "start_time": "2022-05-28T10:42:12.701Z"
   },
   {
    "duration": 425,
    "start_time": "2022-05-28T10:42:12.736Z"
   },
   {
    "duration": 720,
    "start_time": "2022-05-28T10:42:13.164Z"
   },
   {
    "duration": 7,
    "start_time": "2022-05-28T10:42:13.886Z"
   },
   {
    "duration": 191,
    "start_time": "2022-05-28T10:42:13.894Z"
   },
   {
    "duration": 1004,
    "start_time": "2022-05-28T10:42:14.087Z"
   },
   {
    "duration": 279,
    "start_time": "2022-05-28T10:42:15.093Z"
   },
   {
    "duration": 10,
    "start_time": "2022-05-28T10:42:15.374Z"
   },
   {
    "duration": 3,
    "start_time": "2022-05-28T10:42:15.385Z"
   },
   {
    "duration": 9,
    "start_time": "2022-05-28T10:42:15.390Z"
   },
   {
    "duration": 9,
    "start_time": "2022-05-28T10:42:15.401Z"
   },
   {
    "duration": 124,
    "start_time": "2022-05-28T10:42:15.412Z"
   },
   {
    "duration": 9,
    "start_time": "2022-05-28T10:42:15.538Z"
   },
   {
    "duration": 6,
    "start_time": "2022-05-28T10:42:15.549Z"
   },
   {
    "duration": 137,
    "start_time": "2022-05-28T10:42:15.556Z"
   },
   {
    "duration": 12,
    "start_time": "2022-05-28T10:42:15.695Z"
   },
   {
    "duration": 135,
    "start_time": "2022-05-28T10:42:15.709Z"
   },
   {
    "duration": 11,
    "start_time": "2022-05-28T10:42:15.846Z"
   },
   {
    "duration": 283,
    "start_time": "2022-05-28T10:42:15.858Z"
   },
   {
    "duration": 11,
    "start_time": "2022-05-28T10:42:16.143Z"
   },
   {
    "duration": 136,
    "start_time": "2022-05-28T10:42:16.156Z"
   },
   {
    "duration": 17,
    "start_time": "2022-05-28T10:42:16.294Z"
   },
   {
    "duration": 130,
    "start_time": "2022-05-28T10:42:16.314Z"
   },
   {
    "duration": 9,
    "start_time": "2022-05-28T10:42:16.446Z"
   },
   {
    "duration": 294,
    "start_time": "2022-05-28T10:42:16.456Z"
   },
   {
    "duration": 6,
    "start_time": "2022-05-28T10:42:16.753Z"
   },
   {
    "duration": 11,
    "start_time": "2022-05-28T10:42:16.761Z"
   },
   {
    "duration": 232,
    "start_time": "2022-05-28T10:42:16.774Z"
   },
   {
    "duration": 5,
    "start_time": "2022-05-28T10:42:17.008Z"
   },
   {
    "duration": 174,
    "start_time": "2022-05-28T10:42:17.017Z"
   },
   {
    "duration": 23,
    "start_time": "2022-05-28T10:42:17.194Z"
   },
   {
    "duration": 7,
    "start_time": "2022-05-28T10:42:17.219Z"
   },
   {
    "duration": 508,
    "start_time": "2022-05-28T10:42:17.228Z"
   },
   {
    "duration": 291,
    "start_time": "2022-05-28T10:42:17.738Z"
   },
   {
    "duration": 278,
    "start_time": "2022-05-28T10:42:18.033Z"
   },
   {
    "duration": 17,
    "start_time": "2022-05-28T10:42:18.319Z"
   },
   {
    "duration": 15713,
    "start_time": "2022-05-28T18:25:10.320Z"
   },
   {
    "duration": 2632,
    "start_time": "2022-05-28T18:25:26.036Z"
   },
   {
    "duration": 3,
    "start_time": "2022-05-28T18:25:28.670Z"
   },
   {
    "duration": 834,
    "start_time": "2022-05-28T18:25:28.676Z"
   },
   {
    "duration": 25,
    "start_time": "2022-05-28T18:25:29.513Z"
   },
   {
    "duration": 28,
    "start_time": "2022-05-28T18:25:29.540Z"
   },
   {
    "duration": 25,
    "start_time": "2022-05-28T18:25:29.571Z"
   },
   {
    "duration": 26,
    "start_time": "2022-05-28T18:25:29.599Z"
   },
   {
    "duration": 43,
    "start_time": "2022-05-28T18:25:29.627Z"
   },
   {
    "duration": 11,
    "start_time": "2022-05-28T18:25:29.674Z"
   },
   {
    "duration": 19,
    "start_time": "2022-05-28T18:25:29.687Z"
   },
   {
    "duration": 77,
    "start_time": "2022-05-28T18:25:29.708Z"
   },
   {
    "duration": 478,
    "start_time": "2022-05-28T18:25:29.788Z"
   },
   {
    "duration": 869,
    "start_time": "2022-05-28T18:25:30.268Z"
   },
   {
    "duration": 7,
    "start_time": "2022-05-28T18:25:31.139Z"
   },
   {
    "duration": 233,
    "start_time": "2022-05-28T18:25:31.148Z"
   },
   {
    "duration": 1362,
    "start_time": "2022-05-28T18:25:31.383Z"
   },
   {
    "duration": 318,
    "start_time": "2022-05-28T18:25:32.747Z"
   },
   {
    "duration": 3,
    "start_time": "2022-05-28T18:25:33.067Z"
   },
   {
    "duration": 9,
    "start_time": "2022-05-28T18:25:33.072Z"
   },
   {
    "duration": 7,
    "start_time": "2022-05-28T18:25:33.083Z"
   },
   {
    "duration": 9,
    "start_time": "2022-05-28T18:25:33.093Z"
   },
   {
    "duration": 139,
    "start_time": "2022-05-28T18:25:33.104Z"
   },
   {
    "duration": 26,
    "start_time": "2022-05-28T18:25:33.245Z"
   },
   {
    "duration": 8,
    "start_time": "2022-05-28T18:25:33.273Z"
   },
   {
    "duration": 143,
    "start_time": "2022-05-28T18:25:33.283Z"
   },
   {
    "duration": 18,
    "start_time": "2022-05-28T18:25:33.428Z"
   },
   {
    "duration": 209,
    "start_time": "2022-05-28T18:25:33.464Z"
   },
   {
    "duration": 15,
    "start_time": "2022-05-28T18:25:33.676Z"
   },
   {
    "duration": 163,
    "start_time": "2022-05-28T18:25:33.694Z"
   },
   {
    "duration": 13,
    "start_time": "2022-05-28T18:25:33.865Z"
   },
   {
    "duration": 288,
    "start_time": "2022-05-28T18:25:33.880Z"
   },
   {
    "duration": 17,
    "start_time": "2022-05-28T18:25:34.170Z"
   },
   {
    "duration": 142,
    "start_time": "2022-05-28T18:25:34.188Z"
   },
   {
    "duration": 10,
    "start_time": "2022-05-28T18:25:34.332Z"
   },
   {
    "duration": 299,
    "start_time": "2022-05-28T18:25:34.344Z"
   },
   {
    "duration": 5,
    "start_time": "2022-05-28T18:25:34.645Z"
   },
   {
    "duration": 8,
    "start_time": "2022-05-28T18:25:34.652Z"
   },
   {
    "duration": 276,
    "start_time": "2022-05-28T18:25:34.662Z"
   },
   {
    "duration": 6,
    "start_time": "2022-05-28T18:25:34.940Z"
   },
   {
    "duration": 189,
    "start_time": "2022-05-28T18:25:34.948Z"
   },
   {
    "duration": 29,
    "start_time": "2022-05-28T18:25:35.139Z"
   },
   {
    "duration": 7,
    "start_time": "2022-05-28T18:25:35.170Z"
   },
   {
    "duration": 514,
    "start_time": "2022-05-28T18:25:35.179Z"
   },
   {
    "duration": 222,
    "start_time": "2022-05-28T18:25:35.695Z"
   },
   {
    "duration": 211,
    "start_time": "2022-05-28T18:25:35.919Z"
   },
   {
    "duration": 22,
    "start_time": "2022-05-28T18:25:36.133Z"
   },
   {
    "duration": 201,
    "start_time": "2022-05-28T18:34:21.219Z"
   },
   {
    "duration": 126,
    "start_time": "2022-05-28T18:37:41.444Z"
   },
   {
    "duration": 170,
    "start_time": "2022-05-28T18:38:00.963Z"
   },
   {
    "duration": 346,
    "start_time": "2022-05-28T18:42:49.009Z"
   },
   {
    "duration": 130,
    "start_time": "2022-05-28T18:43:03.731Z"
   },
   {
    "duration": 120,
    "start_time": "2022-05-28T18:45:03.106Z"
   },
   {
    "duration": 197,
    "start_time": "2022-05-28T18:46:22.649Z"
   },
   {
    "duration": 196,
    "start_time": "2022-05-28T18:48:32.247Z"
   },
   {
    "duration": 3,
    "start_time": "2022-05-28T19:49:47.107Z"
   },
   {
    "duration": 4,
    "start_time": "2022-05-28T19:49:49.487Z"
   },
   {
    "duration": 4,
    "start_time": "2022-05-28T19:49:58.840Z"
   },
   {
    "duration": 5,
    "start_time": "2022-05-28T19:50:13.087Z"
   },
   {
    "duration": 180,
    "start_time": "2022-05-28T19:50:17.121Z"
   },
   {
    "duration": 6,
    "start_time": "2022-05-28T19:51:30.409Z"
   },
   {
    "duration": 8,
    "start_time": "2022-05-28T19:51:36.185Z"
   },
   {
    "duration": 9,
    "start_time": "2022-05-28T19:51:46.588Z"
   },
   {
    "duration": 35,
    "start_time": "2022-05-28T19:53:55.917Z"
   },
   {
    "duration": 22,
    "start_time": "2022-05-28T19:56:46.512Z"
   },
   {
    "duration": 21,
    "start_time": "2022-05-28T19:59:08.096Z"
   },
   {
    "duration": 5,
    "start_time": "2022-05-28T20:02:00.123Z"
   },
   {
    "duration": 4,
    "start_time": "2022-05-28T20:02:15.553Z"
   },
   {
    "duration": 16,
    "start_time": "2022-05-28T20:03:57.917Z"
   },
   {
    "duration": 5,
    "start_time": "2022-05-28T20:04:07.892Z"
   },
   {
    "duration": 460,
    "start_time": "2022-05-28T20:05:36.182Z"
   },
   {
    "duration": 141,
    "start_time": "2022-05-28T20:05:56.051Z"
   },
   {
    "duration": 302,
    "start_time": "2022-05-28T20:06:11.164Z"
   },
   {
    "duration": 298,
    "start_time": "2022-05-28T20:06:14.857Z"
   },
   {
    "duration": 309,
    "start_time": "2022-05-28T20:06:23.141Z"
   },
   {
    "duration": 24,
    "start_time": "2022-05-28T20:13:19.380Z"
   },
   {
    "duration": 23,
    "start_time": "2022-05-28T20:13:28.144Z"
   },
   {
    "duration": 12,
    "start_time": "2022-05-28T20:13:41.539Z"
   },
   {
    "duration": 9,
    "start_time": "2022-05-28T20:14:00.391Z"
   },
   {
    "duration": 39,
    "start_time": "2022-05-28T20:15:41.440Z"
   },
   {
    "duration": 37,
    "start_time": "2022-05-28T20:16:44.993Z"
   },
   {
    "duration": 36,
    "start_time": "2022-05-28T20:17:19.588Z"
   },
   {
    "duration": 906,
    "start_time": "2022-05-28T20:18:23.018Z"
   },
   {
    "duration": 24,
    "start_time": "2022-05-28T20:18:44.145Z"
   },
   {
    "duration": 25,
    "start_time": "2022-05-28T20:21:04.379Z"
   },
   {
    "duration": 17,
    "start_time": "2022-05-28T20:21:20.882Z"
   },
   {
    "duration": 18,
    "start_time": "2022-05-28T20:21:28.107Z"
   },
   {
    "duration": 17,
    "start_time": "2022-05-28T20:21:34.646Z"
   },
   {
    "duration": 17,
    "start_time": "2022-05-28T20:21:40.519Z"
   },
   {
    "duration": 16,
    "start_time": "2022-05-28T20:21:44.001Z"
   },
   {
    "duration": 18,
    "start_time": "2022-05-28T20:21:47.181Z"
   },
   {
    "duration": 23,
    "start_time": "2022-05-28T20:21:57.662Z"
   },
   {
    "duration": 23,
    "start_time": "2022-05-28T20:22:52.183Z"
   },
   {
    "duration": 26,
    "start_time": "2022-05-28T20:23:13.258Z"
   },
   {
    "duration": 19,
    "start_time": "2022-05-28T22:14:51.896Z"
   },
   {
    "duration": 32,
    "start_time": "2022-05-28T22:15:44.123Z"
   },
   {
    "duration": 18,
    "start_time": "2022-05-28T22:15:49.078Z"
   },
   {
    "duration": 18,
    "start_time": "2022-05-28T22:17:17.769Z"
   },
   {
    "duration": 390,
    "start_time": "2022-05-28T22:19:49.672Z"
   },
   {
    "duration": 30,
    "start_time": "2022-05-28T22:20:06.252Z"
   },
   {
    "duration": 41,
    "start_time": "2022-05-28T22:20:19.010Z"
   },
   {
    "duration": 21,
    "start_time": "2022-05-28T22:20:22.038Z"
   },
   {
    "duration": 21,
    "start_time": "2022-05-28T22:26:16.171Z"
   },
   {
    "duration": 239,
    "start_time": "2022-05-28T22:29:28.117Z"
   },
   {
    "duration": 37,
    "start_time": "2022-05-28T22:30:56.847Z"
   },
   {
    "duration": 39,
    "start_time": "2022-05-28T22:31:02.345Z"
   },
   {
    "duration": 39,
    "start_time": "2022-05-28T22:31:20.012Z"
   },
   {
    "duration": 7,
    "start_time": "2022-05-28T22:31:34.484Z"
   },
   {
    "duration": 261,
    "start_time": "2022-05-28T22:32:22.504Z"
   },
   {
    "duration": 268,
    "start_time": "2022-05-28T22:32:31.515Z"
   },
   {
    "duration": 242,
    "start_time": "2022-05-28T22:32:37.581Z"
   },
   {
    "duration": 7,
    "start_time": "2022-05-28T22:33:03.450Z"
   },
   {
    "duration": 4,
    "start_time": "2022-05-28T22:34:37.099Z"
   },
   {
    "duration": 36,
    "start_time": "2022-05-28T22:35:29.868Z"
   },
   {
    "duration": 33,
    "start_time": "2022-05-28T22:35:57.756Z"
   },
   {
    "duration": 8,
    "start_time": "2022-05-28T22:36:05.436Z"
   },
   {
    "duration": 249,
    "start_time": "2022-05-28T22:42:53.838Z"
   },
   {
    "duration": 245,
    "start_time": "2022-05-28T22:43:07.054Z"
   },
   {
    "duration": 265,
    "start_time": "2022-05-28T22:43:19.705Z"
   },
   {
    "duration": 10,
    "start_time": "2022-05-28T22:47:46.413Z"
   },
   {
    "duration": 16,
    "start_time": "2022-05-28T22:47:48.643Z"
   },
   {
    "duration": 922,
    "start_time": "2022-05-28T22:49:16.512Z"
   },
   {
    "duration": 152,
    "start_time": "2022-05-28T23:03:01.504Z"
   },
   {
    "duration": 6,
    "start_time": "2022-05-28T23:03:31.381Z"
   },
   {
    "duration": 16,
    "start_time": "2022-05-28T23:05:51.836Z"
   },
   {
    "duration": 659,
    "start_time": "2022-05-28T23:06:24.599Z"
   },
   {
    "duration": 5,
    "start_time": "2022-05-28T23:07:02.815Z"
   },
   {
    "duration": 627,
    "start_time": "2022-05-28T23:08:07.782Z"
   },
   {
    "duration": 24,
    "start_time": "2022-05-28T23:21:58.618Z"
   },
   {
    "duration": 23,
    "start_time": "2022-05-28T23:23:38.346Z"
   },
   {
    "duration": 22,
    "start_time": "2022-05-28T23:24:21.744Z"
   },
   {
    "duration": 17,
    "start_time": "2022-05-28T23:24:47.149Z"
   },
   {
    "duration": 22,
    "start_time": "2022-05-28T23:25:06.463Z"
   },
   {
    "duration": 2561,
    "start_time": "2022-05-28T23:37:13.251Z"
   },
   {
    "duration": 1643,
    "start_time": "2022-05-28T23:37:15.815Z"
   },
   {
    "duration": 3,
    "start_time": "2022-05-28T23:37:17.460Z"
   },
   {
    "duration": 147,
    "start_time": "2022-05-28T23:37:17.465Z"
   },
   {
    "duration": 17,
    "start_time": "2022-05-28T23:37:17.614Z"
   },
   {
    "duration": 36,
    "start_time": "2022-05-28T23:37:17.633Z"
   },
   {
    "duration": 16,
    "start_time": "2022-05-28T23:37:17.671Z"
   },
   {
    "duration": 19,
    "start_time": "2022-05-28T23:37:17.689Z"
   },
   {
    "duration": 10,
    "start_time": "2022-05-28T23:37:17.710Z"
   },
   {
    "duration": 49,
    "start_time": "2022-05-28T23:37:17.723Z"
   },
   {
    "duration": 21,
    "start_time": "2022-05-28T23:37:17.774Z"
   },
   {
    "duration": 36,
    "start_time": "2022-05-28T23:37:17.797Z"
   },
   {
    "duration": 469,
    "start_time": "2022-05-28T23:37:17.835Z"
   },
   {
    "duration": 787,
    "start_time": "2022-05-28T23:37:18.306Z"
   },
   {
    "duration": 6,
    "start_time": "2022-05-28T23:37:19.095Z"
   },
   {
    "duration": 208,
    "start_time": "2022-05-28T23:37:19.104Z"
   },
   {
    "duration": 1042,
    "start_time": "2022-05-28T23:37:19.314Z"
   },
   {
    "duration": 300,
    "start_time": "2022-05-28T23:37:20.358Z"
   },
   {
    "duration": 5,
    "start_time": "2022-05-28T23:37:20.660Z"
   },
   {
    "duration": 5,
    "start_time": "2022-05-28T23:37:20.666Z"
   },
   {
    "duration": 5,
    "start_time": "2022-05-28T23:37:20.673Z"
   },
   {
    "duration": 10,
    "start_time": "2022-05-28T23:37:20.680Z"
   },
   {
    "duration": 136,
    "start_time": "2022-05-28T23:37:20.692Z"
   },
   {
    "duration": 10,
    "start_time": "2022-05-28T23:37:20.829Z"
   },
   {
    "duration": 25,
    "start_time": "2022-05-28T23:37:20.841Z"
   },
   {
    "duration": 137,
    "start_time": "2022-05-28T23:37:20.867Z"
   },
   {
    "duration": 13,
    "start_time": "2022-05-28T23:37:21.006Z"
   },
   {
    "duration": 148,
    "start_time": "2022-05-28T23:37:21.023Z"
   },
   {
    "duration": 12,
    "start_time": "2022-05-28T23:37:21.173Z"
   },
   {
    "duration": 156,
    "start_time": "2022-05-28T23:37:21.186Z"
   },
   {
    "duration": 27,
    "start_time": "2022-05-28T23:37:21.345Z"
   },
   {
    "duration": 270,
    "start_time": "2022-05-28T23:37:21.374Z"
   },
   {
    "duration": 29,
    "start_time": "2022-05-28T23:37:21.645Z"
   },
   {
    "duration": 130,
    "start_time": "2022-05-28T23:37:21.676Z"
   },
   {
    "duration": 12,
    "start_time": "2022-05-28T23:37:21.808Z"
   },
   {
    "duration": 277,
    "start_time": "2022-05-28T23:37:21.822Z"
   },
   {
    "duration": 6,
    "start_time": "2022-05-28T23:37:22.102Z"
   },
   {
    "duration": 7,
    "start_time": "2022-05-28T23:37:22.110Z"
   },
   {
    "duration": 299,
    "start_time": "2022-05-28T23:37:22.119Z"
   },
   {
    "duration": 5,
    "start_time": "2022-05-28T23:37:22.420Z"
   },
   {
    "duration": 194,
    "start_time": "2022-05-28T23:37:22.427Z"
   },
   {
    "duration": 202,
    "start_time": "2022-05-28T23:37:22.623Z"
   },
   {
    "duration": 671,
    "start_time": "2022-05-28T23:37:22.826Z"
   },
   {
    "duration": 5,
    "start_time": "2022-05-28T23:37:23.499Z"
   },
   {
    "duration": 18,
    "start_time": "2022-05-28T23:37:23.506Z"
   },
   {
    "duration": 4,
    "start_time": "2022-05-28T23:37:23.526Z"
   },
   {
    "duration": 329,
    "start_time": "2022-05-28T23:37:23.532Z"
   },
   {
    "duration": 21,
    "start_time": "2022-05-28T23:37:23.863Z"
   },
   {
    "duration": 281,
    "start_time": "2022-05-28T23:37:23.886Z"
   },
   {
    "duration": 174,
    "start_time": "2022-05-28T23:37:24.169Z"
   },
   {
    "duration": 20,
    "start_time": "2022-05-28T23:37:24.345Z"
   },
   {
    "duration": 887,
    "start_time": "2022-05-28T23:37:24.367Z"
   },
   {
    "duration": 166,
    "start_time": "2022-05-28T23:37:25.255Z"
   },
   {
    "duration": 5,
    "start_time": "2022-05-28T23:37:25.423Z"
   },
   {
    "duration": 612,
    "start_time": "2022-05-28T23:37:25.430Z"
   },
   {
    "duration": 187,
    "start_time": "2022-05-28T23:37:44.557Z"
   },
   {
    "duration": 2596,
    "start_time": "2022-05-28T23:38:26.614Z"
   },
   {
    "duration": 4,
    "start_time": "2022-05-28T23:38:29.213Z"
   },
   {
    "duration": 6,
    "start_time": "2022-05-28T23:38:29.219Z"
   },
   {
    "duration": 140,
    "start_time": "2022-05-28T23:38:29.227Z"
   },
   {
    "duration": 17,
    "start_time": "2022-05-28T23:38:29.369Z"
   },
   {
    "duration": 15,
    "start_time": "2022-05-28T23:38:29.388Z"
   },
   {
    "duration": 17,
    "start_time": "2022-05-28T23:38:29.405Z"
   },
   {
    "duration": 58,
    "start_time": "2022-05-28T23:38:29.424Z"
   },
   {
    "duration": 11,
    "start_time": "2022-05-28T23:38:29.485Z"
   },
   {
    "duration": 9,
    "start_time": "2022-05-28T23:38:29.499Z"
   },
   {
    "duration": 63,
    "start_time": "2022-05-28T23:38:29.510Z"
   },
   {
    "duration": 35,
    "start_time": "2022-05-28T23:38:29.575Z"
   },
   {
    "duration": 358,
    "start_time": "2022-05-28T23:38:29.612Z"
   },
   {
    "duration": 969,
    "start_time": "2022-05-28T23:38:29.971Z"
   },
   {
    "duration": 7,
    "start_time": "2022-05-28T23:38:30.942Z"
   },
   {
    "duration": 203,
    "start_time": "2022-05-28T23:38:30.964Z"
   },
   {
    "duration": 919,
    "start_time": "2022-05-28T23:38:31.169Z"
   },
   {
    "duration": 486,
    "start_time": "2022-05-28T23:38:32.090Z"
   },
   {
    "duration": 2,
    "start_time": "2022-05-28T23:38:32.578Z"
   },
   {
    "duration": 8,
    "start_time": "2022-05-28T23:38:32.582Z"
   },
   {
    "duration": 5,
    "start_time": "2022-05-28T23:38:32.592Z"
   },
   {
    "duration": 5,
    "start_time": "2022-05-28T23:38:32.598Z"
   },
   {
    "duration": 141,
    "start_time": "2022-05-28T23:38:32.605Z"
   },
   {
    "duration": 26,
    "start_time": "2022-05-28T23:38:32.748Z"
   },
   {
    "duration": 7,
    "start_time": "2022-05-28T23:38:32.776Z"
   },
   {
    "duration": 146,
    "start_time": "2022-05-28T23:38:32.785Z"
   },
   {
    "duration": 11,
    "start_time": "2022-05-28T23:38:32.933Z"
   },
   {
    "duration": 141,
    "start_time": "2022-05-28T23:38:32.964Z"
   },
   {
    "duration": 14,
    "start_time": "2022-05-28T23:38:33.106Z"
   },
   {
    "duration": 162,
    "start_time": "2022-05-28T23:38:33.122Z"
   },
   {
    "duration": 12,
    "start_time": "2022-05-28T23:38:33.287Z"
   },
   {
    "duration": 163,
    "start_time": "2022-05-28T23:38:33.302Z"
   },
   {
    "duration": 17,
    "start_time": "2022-05-28T23:38:33.467Z"
   },
   {
    "duration": 148,
    "start_time": "2022-05-28T23:38:33.486Z"
   },
   {
    "duration": 30,
    "start_time": "2022-05-28T23:38:33.637Z"
   },
   {
    "duration": 267,
    "start_time": "2022-05-28T23:38:33.669Z"
   },
   {
    "duration": 5,
    "start_time": "2022-05-28T23:38:33.938Z"
   },
   {
    "duration": 19,
    "start_time": "2022-05-28T23:38:33.945Z"
   },
   {
    "duration": 264,
    "start_time": "2022-05-28T23:38:33.966Z"
   },
   {
    "duration": 5,
    "start_time": "2022-05-28T23:38:34.232Z"
   },
   {
    "duration": 199,
    "start_time": "2022-05-28T23:38:34.241Z"
   },
   {
    "duration": 179,
    "start_time": "2022-05-28T23:38:34.442Z"
   },
   {
    "duration": 675,
    "start_time": "2022-05-28T23:38:34.622Z"
   },
   {
    "duration": 5,
    "start_time": "2022-05-28T23:38:35.299Z"
   },
   {
    "duration": 17,
    "start_time": "2022-05-28T23:38:35.305Z"
   },
   {
    "duration": 4,
    "start_time": "2022-05-28T23:38:35.323Z"
   },
   {
    "duration": 339,
    "start_time": "2022-05-28T23:38:35.329Z"
   },
   {
    "duration": 21,
    "start_time": "2022-05-28T23:38:35.670Z"
   },
   {
    "duration": 288,
    "start_time": "2022-05-28T23:38:35.693Z"
   },
   {
    "duration": 160,
    "start_time": "2022-05-28T23:38:46.780Z"
   },
   {
    "duration": 10,
    "start_time": "2022-05-28T23:41:04.272Z"
   },
   {
    "duration": 149,
    "start_time": "2022-05-28T23:46:45.790Z"
   },
   {
    "duration": 2550,
    "start_time": "2022-05-28T23:46:52.484Z"
   },
   {
    "duration": 3,
    "start_time": "2022-05-28T23:46:55.036Z"
   },
   {
    "duration": 7,
    "start_time": "2022-05-28T23:46:55.041Z"
   },
   {
    "duration": 139,
    "start_time": "2022-05-28T23:46:55.050Z"
   },
   {
    "duration": 17,
    "start_time": "2022-05-28T23:46:55.191Z"
   },
   {
    "duration": 14,
    "start_time": "2022-05-28T23:46:55.209Z"
   },
   {
    "duration": 43,
    "start_time": "2022-05-28T23:46:55.225Z"
   },
   {
    "duration": 19,
    "start_time": "2022-05-28T23:46:55.270Z"
   },
   {
    "duration": 9,
    "start_time": "2022-05-28T23:46:55.291Z"
   },
   {
    "duration": 9,
    "start_time": "2022-05-28T23:46:55.303Z"
   },
   {
    "duration": 55,
    "start_time": "2022-05-28T23:46:55.314Z"
   },
   {
    "duration": 39,
    "start_time": "2022-05-28T23:46:55.371Z"
   },
   {
    "duration": 591,
    "start_time": "2022-05-28T23:46:55.412Z"
   },
   {
    "duration": 749,
    "start_time": "2022-05-28T23:46:56.006Z"
   },
   {
    "duration": 11,
    "start_time": "2022-05-28T23:46:56.757Z"
   },
   {
    "duration": 196,
    "start_time": "2022-05-28T23:46:56.770Z"
   },
   {
    "duration": 907,
    "start_time": "2022-05-28T23:46:56.968Z"
   },
   {
    "duration": 301,
    "start_time": "2022-05-28T23:46:57.877Z"
   },
   {
    "duration": 3,
    "start_time": "2022-05-28T23:46:58.180Z"
   },
   {
    "duration": 7,
    "start_time": "2022-05-28T23:46:58.185Z"
   },
   {
    "duration": 5,
    "start_time": "2022-05-28T23:46:58.194Z"
   },
   {
    "duration": 5,
    "start_time": "2022-05-28T23:46:58.201Z"
   },
   {
    "duration": 143,
    "start_time": "2022-05-28T23:46:58.208Z"
   },
   {
    "duration": 13,
    "start_time": "2022-05-28T23:46:58.353Z"
   },
   {
    "duration": 10,
    "start_time": "2022-05-28T23:46:58.367Z"
   },
   {
    "duration": 139,
    "start_time": "2022-05-28T23:46:58.379Z"
   },
   {
    "duration": 12,
    "start_time": "2022-05-28T23:46:58.519Z"
   },
   {
    "duration": 149,
    "start_time": "2022-05-28T23:46:58.536Z"
   },
   {
    "duration": 11,
    "start_time": "2022-05-28T23:46:58.686Z"
   },
   {
    "duration": 400,
    "start_time": "2022-05-28T23:46:58.698Z"
   },
   {
    "duration": 10,
    "start_time": "2022-05-28T23:46:59.100Z"
   },
   {
    "duration": 154,
    "start_time": "2022-05-28T23:46:59.112Z"
   },
   {
    "duration": 17,
    "start_time": "2022-05-28T23:46:59.268Z"
   },
   {
    "duration": 139,
    "start_time": "2022-05-28T23:46:59.287Z"
   },
   {
    "duration": 12,
    "start_time": "2022-05-28T23:46:59.428Z"
   },
   {
    "duration": 275,
    "start_time": "2022-05-28T23:46:59.442Z"
   },
   {
    "duration": 6,
    "start_time": "2022-05-28T23:46:59.720Z"
   },
   {
    "duration": 5,
    "start_time": "2022-05-28T23:46:59.728Z"
   },
   {
    "duration": 281,
    "start_time": "2022-05-28T23:46:59.736Z"
   },
   {
    "duration": 5,
    "start_time": "2022-05-28T23:47:00.019Z"
   },
   {
    "duration": 195,
    "start_time": "2022-05-28T23:47:00.027Z"
   },
   {
    "duration": 181,
    "start_time": "2022-05-28T23:47:00.224Z"
   },
   {
    "duration": 678,
    "start_time": "2022-05-28T23:47:00.407Z"
   },
   {
    "duration": 6,
    "start_time": "2022-05-28T23:47:01.087Z"
   },
   {
    "duration": 22,
    "start_time": "2022-05-28T23:47:01.095Z"
   },
   {
    "duration": 5,
    "start_time": "2022-05-28T23:47:01.119Z"
   },
   {
    "duration": 331,
    "start_time": "2022-05-28T23:47:01.125Z"
   },
   {
    "duration": 26,
    "start_time": "2022-05-28T23:47:01.458Z"
   },
   {
    "duration": 190,
    "start_time": "2022-05-28T23:47:01.486Z"
   },
   {
    "duration": 16,
    "start_time": "2022-05-28T23:47:06.418Z"
   },
   {
    "duration": 190,
    "start_time": "2022-05-28T23:50:34.855Z"
   },
   {
    "duration": 10,
    "start_time": "2022-05-28T23:50:37.658Z"
   },
   {
    "duration": 741,
    "start_time": "2022-05-28T23:50:38.901Z"
   },
   {
    "duration": 340,
    "start_time": "2022-05-28T23:58:16.087Z"
   },
   {
    "duration": 38,
    "start_time": "2022-05-28T23:58:27.322Z"
   },
   {
    "duration": 16,
    "start_time": "2022-05-28T23:58:43.578Z"
   },
   {
    "duration": 19,
    "start_time": "2022-05-28T23:59:02.999Z"
   },
   {
    "duration": 16,
    "start_time": "2022-05-28T23:59:08.271Z"
   },
   {
    "duration": 15,
    "start_time": "2022-05-28T23:59:29.633Z"
   },
   {
    "duration": 2587,
    "start_time": "2022-05-29T00:01:10.478Z"
   },
   {
    "duration": 4,
    "start_time": "2022-05-29T00:01:13.067Z"
   },
   {
    "duration": 13,
    "start_time": "2022-05-29T00:01:13.073Z"
   },
   {
    "duration": 142,
    "start_time": "2022-05-29T00:01:13.088Z"
   },
   {
    "duration": 16,
    "start_time": "2022-05-29T00:01:13.232Z"
   },
   {
    "duration": 25,
    "start_time": "2022-05-29T00:01:13.250Z"
   },
   {
    "duration": 16,
    "start_time": "2022-05-29T00:01:13.277Z"
   },
   {
    "duration": 19,
    "start_time": "2022-05-29T00:01:13.295Z"
   },
   {
    "duration": 9,
    "start_time": "2022-05-29T00:01:13.316Z"
   },
   {
    "duration": 10,
    "start_time": "2022-05-29T00:01:13.366Z"
   },
   {
    "duration": 19,
    "start_time": "2022-05-29T00:01:13.378Z"
   },
   {
    "duration": 70,
    "start_time": "2022-05-29T00:01:13.399Z"
   },
   {
    "duration": 354,
    "start_time": "2022-05-29T00:01:13.471Z"
   },
   {
    "duration": 746,
    "start_time": "2022-05-29T00:01:13.826Z"
   },
   {
    "duration": 8,
    "start_time": "2022-05-29T00:01:14.574Z"
   },
   {
    "duration": 506,
    "start_time": "2022-05-29T00:01:14.584Z"
   },
   {
    "duration": 908,
    "start_time": "2022-05-29T00:01:15.092Z"
   },
   {
    "duration": 309,
    "start_time": "2022-05-29T00:01:16.003Z"
   },
   {
    "duration": 3,
    "start_time": "2022-05-29T00:01:16.314Z"
   },
   {
    "duration": 8,
    "start_time": "2022-05-29T00:01:16.318Z"
   },
   {
    "duration": 8,
    "start_time": "2022-05-29T00:01:16.328Z"
   },
   {
    "duration": 4,
    "start_time": "2022-05-29T00:01:16.337Z"
   },
   {
    "duration": 147,
    "start_time": "2022-05-29T00:01:16.343Z"
   },
   {
    "duration": 11,
    "start_time": "2022-05-29T00:01:16.492Z"
   },
   {
    "duration": 6,
    "start_time": "2022-05-29T00:01:16.505Z"
   },
   {
    "duration": 144,
    "start_time": "2022-05-29T00:01:16.512Z"
   },
   {
    "duration": 17,
    "start_time": "2022-05-29T00:01:16.657Z"
   },
   {
    "duration": 148,
    "start_time": "2022-05-29T00:01:16.677Z"
   },
   {
    "duration": 12,
    "start_time": "2022-05-29T00:01:16.827Z"
   },
   {
    "duration": 2,
    "start_time": "2022-05-29T00:01:16.841Z"
   },
   {
    "duration": 160,
    "start_time": "2022-05-29T00:01:16.845Z"
   },
   {
    "duration": 15,
    "start_time": "2022-05-29T00:01:17.007Z"
   },
   {
    "duration": 143,
    "start_time": "2022-05-29T00:01:17.024Z"
   },
   {
    "duration": 10,
    "start_time": "2022-05-29T00:01:17.168Z"
   },
   {
    "duration": 243,
    "start_time": "2022-05-29T00:01:17.179Z"
   },
   {
    "duration": 6,
    "start_time": "2022-05-29T00:01:17.424Z"
   },
   {
    "duration": 8,
    "start_time": "2022-05-29T00:01:17.432Z"
   },
   {
    "duration": 247,
    "start_time": "2022-05-29T00:01:17.442Z"
   },
   {
    "duration": 6,
    "start_time": "2022-05-29T00:01:17.690Z"
   },
   {
    "duration": 189,
    "start_time": "2022-05-29T00:01:17.698Z"
   },
   {
    "duration": 179,
    "start_time": "2022-05-29T00:01:17.888Z"
   },
   {
    "duration": 657,
    "start_time": "2022-05-29T00:01:18.069Z"
   },
   {
    "duration": 5,
    "start_time": "2022-05-29T00:01:18.728Z"
   },
   {
    "duration": 32,
    "start_time": "2022-05-29T00:01:18.735Z"
   },
   {
    "duration": 4,
    "start_time": "2022-05-29T00:01:18.769Z"
   },
   {
    "duration": 619,
    "start_time": "2022-05-29T00:01:18.775Z"
   },
   {
    "duration": 22,
    "start_time": "2022-05-29T00:01:19.396Z"
   },
   {
    "duration": 200,
    "start_time": "2022-05-29T00:01:19.419Z"
   },
   {
    "duration": 17,
    "start_time": "2022-05-29T00:01:19.621Z"
   },
   {
    "duration": 25,
    "start_time": "2022-05-29T00:01:19.640Z"
   },
   {
    "duration": 724,
    "start_time": "2022-05-29T00:01:19.666Z"
   },
   {
    "duration": 51,
    "start_time": "2022-05-29T00:01:20.392Z"
   },
   {
    "duration": 180,
    "start_time": "2022-05-29T00:01:20.445Z"
   },
   {
    "duration": 5,
    "start_time": "2022-05-29T00:01:20.627Z"
   },
   {
    "duration": 633,
    "start_time": "2022-05-29T00:01:20.634Z"
   },
   {
    "duration": 10,
    "start_time": "2022-05-29T00:49:35.156Z"
   },
   {
    "duration": 8,
    "start_time": "2022-05-29T00:49:38.553Z"
   },
   {
    "duration": 9,
    "start_time": "2022-05-29T00:50:20.721Z"
   },
   {
    "duration": 68,
    "start_time": "2022-05-29T00:50:30.749Z"
   },
   {
    "duration": 11,
    "start_time": "2022-05-29T00:50:39.584Z"
   },
   {
    "duration": 8,
    "start_time": "2022-05-29T00:50:41.636Z"
   },
   {
    "duration": 10,
    "start_time": "2022-05-29T00:50:53.567Z"
   },
   {
    "duration": 9,
    "start_time": "2022-05-29T00:50:59.820Z"
   },
   {
    "duration": 7,
    "start_time": "2022-05-29T00:51:01.390Z"
   },
   {
    "duration": 17,
    "start_time": "2022-05-29T00:54:12.771Z"
   },
   {
    "duration": 35,
    "start_time": "2022-05-29T01:00:15.117Z"
   },
   {
    "duration": 19,
    "start_time": "2022-05-29T01:00:59.706Z"
   },
   {
    "duration": 38,
    "start_time": "2022-05-29T01:01:22.961Z"
   },
   {
    "duration": 2565,
    "start_time": "2022-05-29T01:01:33.615Z"
   },
   {
    "duration": 5,
    "start_time": "2022-05-29T01:01:36.183Z"
   },
   {
    "duration": 11,
    "start_time": "2022-05-29T01:01:36.189Z"
   },
   {
    "duration": 140,
    "start_time": "2022-05-29T01:01:36.202Z"
   },
   {
    "duration": 26,
    "start_time": "2022-05-29T01:01:36.344Z"
   },
   {
    "duration": 16,
    "start_time": "2022-05-29T01:01:36.372Z"
   },
   {
    "duration": 16,
    "start_time": "2022-05-29T01:01:36.391Z"
   },
   {
    "duration": 60,
    "start_time": "2022-05-29T01:01:36.409Z"
   },
   {
    "duration": 10,
    "start_time": "2022-05-29T01:01:36.470Z"
   },
   {
    "duration": 9,
    "start_time": "2022-05-29T01:01:36.483Z"
   },
   {
    "duration": 16,
    "start_time": "2022-05-29T01:01:36.493Z"
   },
   {
    "duration": 80,
    "start_time": "2022-05-29T01:01:36.510Z"
   },
   {
    "duration": 336,
    "start_time": "2022-05-29T01:01:36.592Z"
   },
   {
    "duration": 744,
    "start_time": "2022-05-29T01:01:36.930Z"
   },
   {
    "duration": 5,
    "start_time": "2022-05-29T01:01:37.676Z"
   },
   {
    "duration": 201,
    "start_time": "2022-05-29T01:01:37.683Z"
   },
   {
    "duration": 1277,
    "start_time": "2022-05-29T01:01:37.885Z"
   },
   {
    "duration": 310,
    "start_time": "2022-05-29T01:01:39.164Z"
   },
   {
    "duration": 15,
    "start_time": "2022-05-29T01:01:39.475Z"
   },
   {
    "duration": 13,
    "start_time": "2022-05-29T01:01:39.492Z"
   },
   {
    "duration": 6,
    "start_time": "2022-05-29T01:01:39.507Z"
   },
   {
    "duration": 158,
    "start_time": "2022-05-29T01:01:39.515Z"
   },
   {
    "duration": 10,
    "start_time": "2022-05-29T01:01:39.675Z"
   },
   {
    "duration": 5,
    "start_time": "2022-05-29T01:01:39.687Z"
   },
   {
    "duration": 145,
    "start_time": "2022-05-29T01:01:39.694Z"
   },
   {
    "duration": 24,
    "start_time": "2022-05-29T01:01:39.841Z"
   },
   {
    "duration": 137,
    "start_time": "2022-05-29T01:01:39.866Z"
   },
   {
    "duration": 11,
    "start_time": "2022-05-29T01:01:40.008Z"
   },
   {
    "duration": 7,
    "start_time": "2022-05-29T01:01:40.020Z"
   },
   {
    "duration": 162,
    "start_time": "2022-05-29T01:01:40.029Z"
   },
   {
    "duration": 16,
    "start_time": "2022-05-29T01:01:40.193Z"
   },
   {
    "duration": 136,
    "start_time": "2022-05-29T01:01:40.211Z"
   },
   {
    "duration": 24,
    "start_time": "2022-05-29T01:01:40.348Z"
   },
   {
    "duration": 238,
    "start_time": "2022-05-29T01:01:40.373Z"
   },
   {
    "duration": 4,
    "start_time": "2022-05-29T01:01:40.613Z"
   },
   {
    "duration": 5,
    "start_time": "2022-05-29T01:01:40.619Z"
   },
   {
    "duration": 254,
    "start_time": "2022-05-29T01:01:40.625Z"
   },
   {
    "duration": 5,
    "start_time": "2022-05-29T01:01:40.881Z"
   },
   {
    "duration": 182,
    "start_time": "2022-05-29T01:01:40.888Z"
   },
   {
    "duration": 185,
    "start_time": "2022-05-29T01:01:41.072Z"
   },
   {
    "duration": 652,
    "start_time": "2022-05-29T01:01:41.259Z"
   },
   {
    "duration": 5,
    "start_time": "2022-05-29T01:01:41.913Z"
   },
   {
    "duration": 17,
    "start_time": "2022-05-29T01:01:41.919Z"
   },
   {
    "duration": 29,
    "start_time": "2022-05-29T01:01:41.938Z"
   },
   {
    "duration": 319,
    "start_time": "2022-05-29T01:01:41.969Z"
   },
   {
    "duration": 22,
    "start_time": "2022-05-29T01:01:42.290Z"
   },
   {
    "duration": 199,
    "start_time": "2022-05-29T01:01:42.314Z"
   },
   {
    "duration": 17,
    "start_time": "2022-05-29T01:01:42.514Z"
   },
   {
    "duration": 33,
    "start_time": "2022-05-29T01:01:42.532Z"
   },
   {
    "duration": 752,
    "start_time": "2022-05-29T01:01:42.567Z"
   },
   {
    "duration": 163,
    "start_time": "2022-05-29T01:01:43.321Z"
   },
   {
    "duration": 5,
    "start_time": "2022-05-29T01:01:43.485Z"
   },
   {
    "duration": 645,
    "start_time": "2022-05-29T01:01:43.492Z"
   },
   {
    "duration": 2584,
    "start_time": "2022-05-29T01:02:02.482Z"
   },
   {
    "duration": 4,
    "start_time": "2022-05-29T01:02:05.069Z"
   },
   {
    "duration": 9,
    "start_time": "2022-05-29T01:02:05.075Z"
   },
   {
    "duration": 147,
    "start_time": "2022-05-29T01:02:05.087Z"
   },
   {
    "duration": 17,
    "start_time": "2022-05-29T01:02:05.236Z"
   },
   {
    "duration": 15,
    "start_time": "2022-05-29T01:02:05.266Z"
   },
   {
    "duration": 19,
    "start_time": "2022-05-29T01:02:05.283Z"
   },
   {
    "duration": 23,
    "start_time": "2022-05-29T01:02:05.304Z"
   },
   {
    "duration": 10,
    "start_time": "2022-05-29T01:02:05.364Z"
   },
   {
    "duration": 10,
    "start_time": "2022-05-29T01:02:05.377Z"
   },
   {
    "duration": 18,
    "start_time": "2022-05-29T01:02:05.389Z"
   },
   {
    "duration": 90,
    "start_time": "2022-05-29T01:02:05.408Z"
   },
   {
    "duration": 737,
    "start_time": "2022-05-29T01:02:05.500Z"
   },
   {
    "duration": 753,
    "start_time": "2022-05-29T01:02:06.239Z"
   },
   {
    "duration": 6,
    "start_time": "2022-05-29T01:02:06.993Z"
   },
   {
    "duration": 210,
    "start_time": "2022-05-29T01:02:07.001Z"
   },
   {
    "duration": 918,
    "start_time": "2022-05-29T01:02:07.213Z"
   },
   {
    "duration": 308,
    "start_time": "2022-05-29T01:02:22.401Z"
   },
   {
    "duration": 15,
    "start_time": "2022-05-29T01:02:38.911Z"
   },
   {
    "duration": 8,
    "start_time": "2022-05-29T01:02:41.640Z"
   },
   {
    "duration": 9,
    "start_time": "2022-05-29T01:02:43.906Z"
   },
   {
    "duration": 23,
    "start_time": "2022-05-29T01:02:51.977Z"
   },
   {
    "duration": 14,
    "start_time": "2022-05-29T01:03:18.372Z"
   },
   {
    "duration": 9,
    "start_time": "2022-05-29T01:03:35.218Z"
   },
   {
    "duration": 9,
    "start_time": "2022-05-29T01:03:41.974Z"
   },
   {
    "duration": 56,
    "start_time": "2022-05-29T01:04:20.414Z"
   },
   {
    "duration": 15,
    "start_time": "2022-05-29T01:04:26.951Z"
   },
   {
    "duration": 6,
    "start_time": "2022-05-29T01:04:28.717Z"
   },
   {
    "duration": 16,
    "start_time": "2022-05-29T01:04:42.893Z"
   },
   {
    "duration": 7,
    "start_time": "2022-05-29T01:04:44.559Z"
   },
   {
    "duration": 16,
    "start_time": "2022-05-29T01:05:05.613Z"
   },
   {
    "duration": 6,
    "start_time": "2022-05-29T01:05:07.111Z"
   },
   {
    "duration": 12,
    "start_time": "2022-05-29T01:05:14.232Z"
   },
   {
    "duration": 7,
    "start_time": "2022-05-29T01:06:11.360Z"
   },
   {
    "duration": 13,
    "start_time": "2022-05-29T01:06:39.855Z"
   },
   {
    "duration": 11,
    "start_time": "2022-05-29T01:08:28.038Z"
   },
   {
    "duration": 142,
    "start_time": "2022-05-29T01:08:30.064Z"
   },
   {
    "duration": 117,
    "start_time": "2022-05-29T01:08:46.000Z"
   },
   {
    "duration": 10,
    "start_time": "2022-05-29T01:09:12.119Z"
   },
   {
    "duration": 6,
    "start_time": "2022-05-29T01:09:13.757Z"
   },
   {
    "duration": 9,
    "start_time": "2022-05-29T01:09:28.329Z"
   },
   {
    "duration": 6,
    "start_time": "2022-05-29T01:09:30.336Z"
   },
   {
    "duration": 12,
    "start_time": "2022-05-29T01:09:58.552Z"
   },
   {
    "duration": 121,
    "start_time": "2022-05-29T01:10:07.237Z"
   },
   {
    "duration": 117,
    "start_time": "2022-05-29T01:10:22.539Z"
   },
   {
    "duration": 9,
    "start_time": "2022-05-29T01:10:25.618Z"
   },
   {
    "duration": 126,
    "start_time": "2022-05-29T01:10:26.754Z"
   },
   {
    "duration": 127,
    "start_time": "2022-05-29T01:10:45.039Z"
   },
   {
    "duration": 134,
    "start_time": "2022-05-29T01:10:48.925Z"
   },
   {
    "duration": 139,
    "start_time": "2022-05-29T01:10:57.362Z"
   },
   {
    "duration": 12,
    "start_time": "2022-05-29T01:10:59.952Z"
   },
   {
    "duration": 8,
    "start_time": "2022-05-29T01:11:01.160Z"
   },
   {
    "duration": 138,
    "start_time": "2022-05-29T01:11:03.616Z"
   },
   {
    "duration": 12,
    "start_time": "2022-05-29T01:11:12.996Z"
   },
   {
    "duration": 12755,
    "start_time": "2022-05-29T15:07:28.277Z"
   },
   {
    "duration": 3086,
    "start_time": "2022-05-29T15:07:41.034Z"
   },
   {
    "duration": 2,
    "start_time": "2022-05-29T15:07:44.122Z"
   },
   {
    "duration": 339,
    "start_time": "2022-05-29T15:07:44.127Z"
   },
   {
    "duration": 14,
    "start_time": "2022-05-29T15:07:44.468Z"
   },
   {
    "duration": 11,
    "start_time": "2022-05-29T15:07:44.484Z"
   },
   {
    "duration": 14,
    "start_time": "2022-05-29T15:07:44.497Z"
   },
   {
    "duration": 17,
    "start_time": "2022-05-29T15:07:44.513Z"
   },
   {
    "duration": 26,
    "start_time": "2022-05-29T15:07:44.532Z"
   },
   {
    "duration": 8,
    "start_time": "2022-05-29T15:07:44.560Z"
   },
   {
    "duration": 19,
    "start_time": "2022-05-29T15:07:44.570Z"
   },
   {
    "duration": 34,
    "start_time": "2022-05-29T15:07:44.590Z"
   },
   {
    "duration": 424,
    "start_time": "2022-05-29T15:07:44.652Z"
   },
   {
    "duration": 794,
    "start_time": "2022-05-29T15:07:45.078Z"
   },
   {
    "duration": 6,
    "start_time": "2022-05-29T15:07:45.875Z"
   },
   {
    "duration": 195,
    "start_time": "2022-05-29T15:07:45.882Z"
   },
   {
    "duration": 1011,
    "start_time": "2022-05-29T15:07:46.079Z"
   },
   {
    "duration": 288,
    "start_time": "2022-05-29T15:07:47.092Z"
   },
   {
    "duration": 13,
    "start_time": "2022-05-29T15:07:47.382Z"
   },
   {
    "duration": 118,
    "start_time": "2022-05-29T15:07:47.397Z"
   },
   {
    "duration": 8,
    "start_time": "2022-05-29T15:07:47.517Z"
   },
   {
    "duration": 5,
    "start_time": "2022-05-29T15:07:47.527Z"
   },
   {
    "duration": 132,
    "start_time": "2022-05-29T15:07:47.533Z"
   },
   {
    "duration": 9,
    "start_time": "2022-05-29T15:07:47.667Z"
   },
   {
    "duration": 122,
    "start_time": "2022-05-29T15:07:47.678Z"
   },
   {
    "duration": 9,
    "start_time": "2022-05-29T15:07:47.802Z"
   },
   {
    "duration": 2,
    "start_time": "2022-05-29T15:07:47.812Z"
   },
   {
    "duration": 273,
    "start_time": "2022-05-29T15:07:47.818Z"
   },
   {
    "duration": 14,
    "start_time": "2022-05-29T15:07:48.093Z"
   },
   {
    "duration": 132,
    "start_time": "2022-05-29T15:07:48.109Z"
   },
   {
    "duration": 15,
    "start_time": "2022-05-29T15:07:48.243Z"
   },
   {
    "duration": 213,
    "start_time": "2022-05-29T15:07:48.259Z"
   },
   {
    "duration": 5,
    "start_time": "2022-05-29T15:07:48.473Z"
   },
   {
    "duration": 6,
    "start_time": "2022-05-29T15:07:48.479Z"
   },
   {
    "duration": 206,
    "start_time": "2022-05-29T15:07:48.486Z"
   },
   {
    "duration": 5,
    "start_time": "2022-05-29T15:07:48.694Z"
   },
   {
    "duration": 162,
    "start_time": "2022-05-29T15:07:48.700Z"
   },
   {
    "duration": 156,
    "start_time": "2022-05-29T15:07:48.864Z"
   },
   {
    "duration": 601,
    "start_time": "2022-05-29T15:07:49.022Z"
   },
   {
    "duration": 5,
    "start_time": "2022-05-29T15:07:49.624Z"
   },
   {
    "duration": 25,
    "start_time": "2022-05-29T15:07:49.631Z"
   },
   {
    "duration": 4,
    "start_time": "2022-05-29T15:07:49.658Z"
   },
   {
    "duration": 280,
    "start_time": "2022-05-29T15:07:49.663Z"
   },
   {
    "duration": 21,
    "start_time": "2022-05-29T15:07:49.945Z"
   },
   {
    "duration": 184,
    "start_time": "2022-05-29T15:07:49.968Z"
   },
   {
    "duration": 18,
    "start_time": "2022-05-29T15:07:50.154Z"
   },
   {
    "duration": 9,
    "start_time": "2022-05-29T15:07:50.179Z"
   },
   {
    "duration": 802,
    "start_time": "2022-05-29T15:07:50.190Z"
   },
   {
    "duration": 139,
    "start_time": "2022-05-29T15:07:50.994Z"
   },
   {
    "duration": 4,
    "start_time": "2022-05-29T15:07:51.135Z"
   },
   {
    "duration": 553,
    "start_time": "2022-05-29T15:07:51.140Z"
   },
   {
    "duration": 121,
    "start_time": "2022-05-29T15:09:26.068Z"
   },
   {
    "duration": 13,
    "start_time": "2022-05-29T15:09:29.278Z"
   },
   {
    "duration": 18,
    "start_time": "2022-05-29T15:09:32.394Z"
   },
   {
    "duration": 17,
    "start_time": "2022-05-29T15:09:36.822Z"
   },
   {
    "duration": 12726,
    "start_time": "2022-05-30T22:28:50.274Z"
   },
   {
    "duration": 1653,
    "start_time": "2022-05-30T22:29:03.002Z"
   },
   {
    "duration": 2,
    "start_time": "2022-05-30T22:29:04.657Z"
   },
   {
    "duration": 342,
    "start_time": "2022-05-30T22:29:04.660Z"
   },
   {
    "duration": 15,
    "start_time": "2022-05-30T22:29:05.004Z"
   },
   {
    "duration": 12,
    "start_time": "2022-05-30T22:29:05.021Z"
   },
   {
    "duration": 32,
    "start_time": "2022-05-30T22:29:05.035Z"
   },
   {
    "duration": 34,
    "start_time": "2022-05-30T22:29:05.069Z"
   },
   {
    "duration": 9,
    "start_time": "2022-05-30T22:29:05.104Z"
   },
   {
    "duration": 23,
    "start_time": "2022-05-30T22:29:05.115Z"
   },
   {
    "duration": 26,
    "start_time": "2022-05-30T22:29:05.140Z"
   },
   {
    "duration": 36,
    "start_time": "2022-05-30T22:29:05.168Z"
   },
   {
    "duration": 389,
    "start_time": "2022-05-30T22:29:05.206Z"
   },
   {
    "duration": 621,
    "start_time": "2022-05-30T22:29:34.448Z"
   },
   {
    "duration": 626,
    "start_time": "2022-05-30T22:32:49.750Z"
   },
   {
    "duration": 756,
    "start_time": "2022-05-30T22:34:44.896Z"
   },
   {
    "duration": 6,
    "start_time": "2022-05-30T22:36:50.246Z"
   },
   {
    "duration": 142,
    "start_time": "2022-05-30T22:39:19.767Z"
   },
   {
    "duration": 2115,
    "start_time": "2022-05-30T22:39:23.160Z"
   },
   {
    "duration": 3,
    "start_time": "2022-05-30T22:39:25.277Z"
   },
   {
    "duration": 9,
    "start_time": "2022-05-30T22:39:25.281Z"
   },
   {
    "duration": 116,
    "start_time": "2022-05-30T22:39:25.292Z"
   },
   {
    "duration": 13,
    "start_time": "2022-05-30T22:39:25.409Z"
   },
   {
    "duration": 11,
    "start_time": "2022-05-30T22:39:25.424Z"
   },
   {
    "duration": 12,
    "start_time": "2022-05-30T22:39:25.436Z"
   },
   {
    "duration": 15,
    "start_time": "2022-05-30T22:39:25.450Z"
   },
   {
    "duration": 36,
    "start_time": "2022-05-30T22:39:25.466Z"
   },
   {
    "duration": 8,
    "start_time": "2022-05-30T22:39:25.504Z"
   },
   {
    "duration": 14,
    "start_time": "2022-05-30T22:39:25.513Z"
   },
   {
    "duration": 29,
    "start_time": "2022-05-30T22:39:25.528Z"
   },
   {
    "duration": 301,
    "start_time": "2022-05-30T22:39:25.559Z"
   },
   {
    "duration": 637,
    "start_time": "2022-05-30T22:39:25.862Z"
   },
   {
    "duration": 4,
    "start_time": "2022-05-30T22:39:26.501Z"
   },
   {
    "duration": 300,
    "start_time": "2022-05-30T22:39:26.507Z"
   },
   {
    "duration": 791,
    "start_time": "2022-05-30T22:39:26.809Z"
   },
   {
    "duration": 262,
    "start_time": "2022-05-30T22:39:27.601Z"
   },
   {
    "duration": 125,
    "start_time": "2022-05-30T22:39:27.864Z"
   },
   {
    "duration": 103,
    "start_time": "2022-05-30T22:39:29.156Z"
   },
   {
    "duration": 4,
    "start_time": "2022-05-30T22:42:43.132Z"
   },
   {
    "duration": 101,
    "start_time": "2022-05-30T22:43:05.853Z"
   },
   {
    "duration": 9,
    "start_time": "2022-05-30T22:43:11.256Z"
   },
   {
    "duration": 2166,
    "start_time": "2022-05-30T22:52:56.837Z"
   },
   {
    "duration": 3,
    "start_time": "2022-05-30T22:52:59.006Z"
   },
   {
    "duration": 5,
    "start_time": "2022-05-30T22:52:59.011Z"
   },
   {
    "duration": 124,
    "start_time": "2022-05-30T22:52:59.018Z"
   },
   {
    "duration": 13,
    "start_time": "2022-05-30T22:52:59.143Z"
   },
   {
    "duration": 11,
    "start_time": "2022-05-30T22:52:59.158Z"
   },
   {
    "duration": 30,
    "start_time": "2022-05-30T22:52:59.170Z"
   },
   {
    "duration": 16,
    "start_time": "2022-05-30T22:52:59.202Z"
   },
   {
    "duration": 7,
    "start_time": "2022-05-30T22:52:59.219Z"
   },
   {
    "duration": 6,
    "start_time": "2022-05-30T22:52:59.229Z"
   },
   {
    "duration": 18,
    "start_time": "2022-05-30T22:52:59.237Z"
   },
   {
    "duration": 55,
    "start_time": "2022-05-30T22:52:59.256Z"
   },
   {
    "duration": 291,
    "start_time": "2022-05-30T22:52:59.313Z"
   },
   {
    "duration": 634,
    "start_time": "2022-05-30T22:52:59.606Z"
   },
   {
    "duration": 6,
    "start_time": "2022-05-30T22:53:00.242Z"
   },
   {
    "duration": 185,
    "start_time": "2022-05-30T22:53:00.250Z"
   },
   {
    "duration": 948,
    "start_time": "2022-05-30T22:53:00.437Z"
   },
   {
    "duration": 278,
    "start_time": "2022-05-30T22:53:01.386Z"
   },
   {
    "duration": 11,
    "start_time": "2022-05-30T22:53:01.666Z"
   },
   {
    "duration": 131,
    "start_time": "2022-05-30T22:53:01.678Z"
   },
   {
    "duration": 12,
    "start_time": "2022-05-30T22:53:01.811Z"
   },
   {
    "duration": 20,
    "start_time": "2022-05-30T22:53:01.824Z"
   },
   {
    "duration": 125,
    "start_time": "2022-05-30T22:53:01.847Z"
   },
   {
    "duration": 9,
    "start_time": "2022-05-30T22:53:01.973Z"
   },
   {
    "duration": 116,
    "start_time": "2022-05-30T22:53:01.983Z"
   },
   {
    "duration": 8,
    "start_time": "2022-05-30T22:53:02.101Z"
   },
   {
    "duration": 10,
    "start_time": "2022-05-30T22:53:02.111Z"
   },
   {
    "duration": 123,
    "start_time": "2022-05-30T22:53:02.124Z"
   },
   {
    "duration": 12,
    "start_time": "2022-05-30T22:53:02.248Z"
   },
   {
    "duration": 113,
    "start_time": "2022-05-30T22:53:02.261Z"
   },
   {
    "duration": 8,
    "start_time": "2022-05-30T22:53:02.375Z"
   },
   {
    "duration": 223,
    "start_time": "2022-05-30T22:53:02.384Z"
   },
   {
    "duration": 4,
    "start_time": "2022-05-30T22:53:02.608Z"
   },
   {
    "duration": 13,
    "start_time": "2022-05-30T22:53:02.614Z"
   },
   {
    "duration": 219,
    "start_time": "2022-05-30T22:53:02.628Z"
   },
   {
    "duration": 5,
    "start_time": "2022-05-30T22:53:02.848Z"
   },
   {
    "duration": 176,
    "start_time": "2022-05-30T22:53:02.855Z"
   },
   {
    "duration": 296,
    "start_time": "2022-05-30T22:53:03.033Z"
   },
   {
    "duration": 593,
    "start_time": "2022-05-30T22:53:03.331Z"
   },
   {
    "duration": 5,
    "start_time": "2022-05-30T22:53:03.925Z"
   },
   {
    "duration": 15,
    "start_time": "2022-05-30T22:53:03.932Z"
   },
   {
    "duration": 3,
    "start_time": "2022-05-30T22:53:03.949Z"
   },
   {
    "duration": 274,
    "start_time": "2022-05-30T22:53:03.954Z"
   },
   {
    "duration": 21,
    "start_time": "2022-05-30T22:53:04.229Z"
   },
   {
    "duration": 179,
    "start_time": "2022-05-30T22:53:04.251Z"
   },
   {
    "duration": 17,
    "start_time": "2022-05-30T22:53:04.432Z"
   },
   {
    "duration": 7,
    "start_time": "2022-05-30T22:53:04.450Z"
   },
   {
    "duration": 655,
    "start_time": "2022-05-30T22:53:04.458Z"
   },
   {
    "duration": 145,
    "start_time": "2022-05-30T22:53:05.115Z"
   },
   {
    "duration": 4,
    "start_time": "2022-05-30T22:53:05.261Z"
   },
   {
    "duration": 549,
    "start_time": "2022-05-30T22:53:05.267Z"
   },
   {
    "duration": 5,
    "start_time": "2022-05-30T23:25:11.548Z"
   },
   {
    "duration": 814,
    "start_time": "2022-05-31T13:22:03.754Z"
   },
   {
    "duration": 0,
    "start_time": "2022-05-31T13:22:04.572Z"
   },
   {
    "duration": 0,
    "start_time": "2022-05-31T13:22:04.573Z"
   },
   {
    "duration": 0,
    "start_time": "2022-05-31T13:22:04.574Z"
   },
   {
    "duration": 0,
    "start_time": "2022-05-31T13:22:04.575Z"
   },
   {
    "duration": 0,
    "start_time": "2022-05-31T13:22:04.576Z"
   },
   {
    "duration": 0,
    "start_time": "2022-05-31T13:22:04.580Z"
   },
   {
    "duration": 0,
    "start_time": "2022-05-31T13:22:04.581Z"
   },
   {
    "duration": 0,
    "start_time": "2022-05-31T13:22:04.582Z"
   },
   {
    "duration": 0,
    "start_time": "2022-05-31T13:22:04.583Z"
   },
   {
    "duration": 0,
    "start_time": "2022-05-31T13:22:04.584Z"
   },
   {
    "duration": 0,
    "start_time": "2022-05-31T13:22:04.585Z"
   },
   {
    "duration": 0,
    "start_time": "2022-05-31T13:22:04.586Z"
   },
   {
    "duration": 0,
    "start_time": "2022-05-31T13:22:04.587Z"
   },
   {
    "duration": 0,
    "start_time": "2022-05-31T13:22:04.588Z"
   },
   {
    "duration": 0,
    "start_time": "2022-05-31T13:22:04.589Z"
   },
   {
    "duration": 0,
    "start_time": "2022-05-31T13:22:04.590Z"
   },
   {
    "duration": 0,
    "start_time": "2022-05-31T13:22:04.591Z"
   },
   {
    "duration": 0,
    "start_time": "2022-05-31T13:22:04.592Z"
   },
   {
    "duration": 0,
    "start_time": "2022-05-31T13:22:04.593Z"
   },
   {
    "duration": 0,
    "start_time": "2022-05-31T13:22:04.594Z"
   },
   {
    "duration": 0,
    "start_time": "2022-05-31T13:22:04.595Z"
   },
   {
    "duration": 0,
    "start_time": "2022-05-31T13:22:04.596Z"
   },
   {
    "duration": 0,
    "start_time": "2022-05-31T13:22:04.597Z"
   },
   {
    "duration": 0,
    "start_time": "2022-05-31T13:22:04.598Z"
   },
   {
    "duration": 0,
    "start_time": "2022-05-31T13:22:04.599Z"
   },
   {
    "duration": 0,
    "start_time": "2022-05-31T13:22:04.600Z"
   },
   {
    "duration": 0,
    "start_time": "2022-05-31T13:22:04.601Z"
   },
   {
    "duration": 0,
    "start_time": "2022-05-31T13:22:04.602Z"
   },
   {
    "duration": 0,
    "start_time": "2022-05-31T13:22:04.603Z"
   },
   {
    "duration": 0,
    "start_time": "2022-05-31T13:22:04.604Z"
   },
   {
    "duration": 0,
    "start_time": "2022-05-31T13:22:04.606Z"
   },
   {
    "duration": 0,
    "start_time": "2022-05-31T13:22:04.607Z"
   },
   {
    "duration": 0,
    "start_time": "2022-05-31T13:22:04.608Z"
   },
   {
    "duration": 0,
    "start_time": "2022-05-31T13:22:04.608Z"
   },
   {
    "duration": 0,
    "start_time": "2022-05-31T13:22:04.609Z"
   },
   {
    "duration": 1,
    "start_time": "2022-05-31T13:22:04.610Z"
   },
   {
    "duration": 0,
    "start_time": "2022-05-31T13:22:04.612Z"
   },
   {
    "duration": 0,
    "start_time": "2022-05-31T13:22:04.612Z"
   },
   {
    "duration": 0,
    "start_time": "2022-05-31T13:22:04.613Z"
   },
   {
    "duration": 0,
    "start_time": "2022-05-31T13:22:04.614Z"
   },
   {
    "duration": 0,
    "start_time": "2022-05-31T13:22:04.616Z"
   },
   {
    "duration": 0,
    "start_time": "2022-05-31T13:22:04.680Z"
   },
   {
    "duration": 0,
    "start_time": "2022-05-31T13:22:04.681Z"
   },
   {
    "duration": 0,
    "start_time": "2022-05-31T13:22:04.682Z"
   },
   {
    "duration": 0,
    "start_time": "2022-05-31T13:22:04.683Z"
   },
   {
    "duration": 0,
    "start_time": "2022-05-31T13:22:04.684Z"
   },
   {
    "duration": 0,
    "start_time": "2022-05-31T13:22:04.685Z"
   },
   {
    "duration": 0,
    "start_time": "2022-05-31T13:22:04.686Z"
   },
   {
    "duration": 0,
    "start_time": "2022-05-31T13:22:04.687Z"
   },
   {
    "duration": 0,
    "start_time": "2022-05-31T13:22:04.688Z"
   },
   {
    "duration": 0,
    "start_time": "2022-05-31T13:22:04.689Z"
   },
   {
    "duration": 725,
    "start_time": "2022-05-31T13:42:17.545Z"
   },
   {
    "duration": 3,
    "start_time": "2022-05-31T13:42:18.272Z"
   },
   {
    "duration": 131,
    "start_time": "2022-05-31T13:42:18.280Z"
   },
   {
    "duration": 20,
    "start_time": "2022-05-31T13:42:18.412Z"
   },
   {
    "duration": 17,
    "start_time": "2022-05-31T13:42:18.435Z"
   },
   {
    "duration": 48,
    "start_time": "2022-05-31T13:42:18.454Z"
   },
   {
    "duration": 26,
    "start_time": "2022-05-31T13:42:18.505Z"
   },
   {
    "duration": 10,
    "start_time": "2022-05-31T13:42:18.533Z"
   },
   {
    "duration": 40,
    "start_time": "2022-05-31T13:42:18.546Z"
   },
   {
    "duration": 20,
    "start_time": "2022-05-31T13:42:18.588Z"
   },
   {
    "duration": 43,
    "start_time": "2022-05-31T13:42:18.610Z"
   },
   {
    "duration": 359,
    "start_time": "2022-05-31T13:42:18.656Z"
   },
   {
    "duration": 719,
    "start_time": "2022-05-31T13:42:19.016Z"
   },
   {
    "duration": 5,
    "start_time": "2022-05-31T13:42:19.738Z"
   },
   {
    "duration": 202,
    "start_time": "2022-05-31T13:42:19.745Z"
   },
   {
    "duration": 976,
    "start_time": "2022-05-31T13:42:19.948Z"
   },
   {
    "duration": 314,
    "start_time": "2022-05-31T13:42:20.926Z"
   },
   {
    "duration": 15,
    "start_time": "2022-05-31T13:42:21.242Z"
   },
   {
    "duration": 150,
    "start_time": "2022-05-31T13:42:21.259Z"
   },
   {
    "duration": 9,
    "start_time": "2022-05-31T13:42:21.411Z"
   },
   {
    "duration": 5,
    "start_time": "2022-05-31T13:42:21.422Z"
   },
   {
    "duration": 212,
    "start_time": "2022-05-31T13:42:21.429Z"
   },
   {
    "duration": 10,
    "start_time": "2022-05-31T13:42:21.643Z"
   },
   {
    "duration": 140,
    "start_time": "2022-05-31T13:42:21.655Z"
   },
   {
    "duration": 9,
    "start_time": "2022-05-31T13:42:21.796Z"
   },
   {
    "duration": 8,
    "start_time": "2022-05-31T13:42:21.807Z"
   },
   {
    "duration": 143,
    "start_time": "2022-05-31T13:42:21.816Z"
   },
   {
    "duration": 28,
    "start_time": "2022-05-31T13:42:21.960Z"
   },
   {
    "duration": 147,
    "start_time": "2022-05-31T13:42:21.990Z"
   },
   {
    "duration": 9,
    "start_time": "2022-05-31T13:42:22.138Z"
   },
   {
    "duration": 102,
    "start_time": "2022-05-31T13:42:22.149Z"
   },
   {
    "duration": 0,
    "start_time": "2022-05-31T13:42:22.253Z"
   },
   {
    "duration": 0,
    "start_time": "2022-05-31T13:42:22.255Z"
   },
   {
    "duration": 0,
    "start_time": "2022-05-31T13:42:22.256Z"
   },
   {
    "duration": 0,
    "start_time": "2022-05-31T13:42:22.257Z"
   },
   {
    "duration": 0,
    "start_time": "2022-05-31T13:42:22.258Z"
   },
   {
    "duration": 0,
    "start_time": "2022-05-31T13:42:22.259Z"
   },
   {
    "duration": 0,
    "start_time": "2022-05-31T13:42:22.260Z"
   },
   {
    "duration": 0,
    "start_time": "2022-05-31T13:42:22.261Z"
   },
   {
    "duration": 0,
    "start_time": "2022-05-31T13:42:22.263Z"
   },
   {
    "duration": 0,
    "start_time": "2022-05-31T13:42:22.279Z"
   },
   {
    "duration": 0,
    "start_time": "2022-05-31T13:42:22.281Z"
   },
   {
    "duration": 0,
    "start_time": "2022-05-31T13:42:22.283Z"
   },
   {
    "duration": 0,
    "start_time": "2022-05-31T13:42:22.284Z"
   },
   {
    "duration": 0,
    "start_time": "2022-05-31T13:42:22.286Z"
   },
   {
    "duration": 0,
    "start_time": "2022-05-31T13:42:22.287Z"
   },
   {
    "duration": 0,
    "start_time": "2022-05-31T13:42:22.289Z"
   },
   {
    "duration": 0,
    "start_time": "2022-05-31T13:42:22.290Z"
   },
   {
    "duration": 0,
    "start_time": "2022-05-31T13:42:22.291Z"
   },
   {
    "duration": 0,
    "start_time": "2022-05-31T13:42:22.292Z"
   },
   {
    "duration": 0,
    "start_time": "2022-05-31T13:42:22.293Z"
   },
   {
    "duration": 0,
    "start_time": "2022-05-31T13:42:22.295Z"
   },
   {
    "duration": 53,
    "start_time": "2022-05-31T13:42:56.260Z"
   },
   {
    "duration": 5,
    "start_time": "2022-05-31T13:42:59.587Z"
   },
   {
    "duration": 5,
    "start_time": "2022-05-31T13:43:13.101Z"
   },
   {
    "duration": 746,
    "start_time": "2022-05-31T13:46:19.466Z"
   },
   {
    "duration": 2,
    "start_time": "2022-05-31T13:46:20.214Z"
   },
   {
    "duration": 135,
    "start_time": "2022-05-31T13:46:20.218Z"
   },
   {
    "duration": 29,
    "start_time": "2022-05-31T13:46:20.356Z"
   },
   {
    "duration": 15,
    "start_time": "2022-05-31T13:46:20.387Z"
   },
   {
    "duration": 17,
    "start_time": "2022-05-31T13:46:20.404Z"
   },
   {
    "duration": 21,
    "start_time": "2022-05-31T13:46:20.423Z"
   },
   {
    "duration": 42,
    "start_time": "2022-05-31T13:46:20.446Z"
   },
   {
    "duration": 9,
    "start_time": "2022-05-31T13:46:20.491Z"
   },
   {
    "duration": 18,
    "start_time": "2022-05-31T13:46:20.504Z"
   },
   {
    "duration": 74,
    "start_time": "2022-05-31T13:46:20.524Z"
   },
   {
    "duration": 354,
    "start_time": "2022-05-31T13:46:20.599Z"
   },
   {
    "duration": 765,
    "start_time": "2022-05-31T13:46:20.955Z"
   },
   {
    "duration": 6,
    "start_time": "2022-05-31T13:46:21.723Z"
   },
   {
    "duration": 226,
    "start_time": "2022-05-31T13:46:21.731Z"
   },
   {
    "duration": 1265,
    "start_time": "2022-05-31T13:46:21.959Z"
   },
   {
    "duration": 342,
    "start_time": "2022-05-31T13:46:23.225Z"
   },
   {
    "duration": 20,
    "start_time": "2022-05-31T13:46:23.569Z"
   },
   {
    "duration": 162,
    "start_time": "2022-05-31T13:46:23.591Z"
   },
   {
    "duration": 11,
    "start_time": "2022-05-31T13:46:23.755Z"
   },
   {
    "duration": 7,
    "start_time": "2022-05-31T13:46:23.780Z"
   },
   {
    "duration": 261,
    "start_time": "2022-05-31T13:46:23.789Z"
   },
   {
    "duration": 11,
    "start_time": "2022-05-31T13:46:24.052Z"
   },
   {
    "duration": 171,
    "start_time": "2022-05-31T13:46:24.065Z"
   },
   {
    "duration": 9,
    "start_time": "2022-05-31T13:46:24.238Z"
   },
   {
    "duration": 3,
    "start_time": "2022-05-31T13:46:24.249Z"
   },
   {
    "duration": 151,
    "start_time": "2022-05-31T13:46:24.253Z"
   },
   {
    "duration": 16,
    "start_time": "2022-05-31T13:46:24.408Z"
   },
   {
    "duration": 138,
    "start_time": "2022-05-31T13:46:24.425Z"
   },
   {
    "duration": 21,
    "start_time": "2022-05-31T13:46:24.565Z"
   },
   {
    "duration": 234,
    "start_time": "2022-05-31T13:46:24.588Z"
   },
   {
    "duration": 5,
    "start_time": "2022-05-31T13:46:24.824Z"
   },
   {
    "duration": 7,
    "start_time": "2022-05-31T13:46:24.831Z"
   },
   {
    "duration": 237,
    "start_time": "2022-05-31T13:46:24.839Z"
   },
   {
    "duration": 6,
    "start_time": "2022-05-31T13:46:25.080Z"
   },
   {
    "duration": 183,
    "start_time": "2022-05-31T13:46:25.088Z"
   },
   {
    "duration": 168,
    "start_time": "2022-05-31T13:46:25.272Z"
   },
   {
    "duration": 702,
    "start_time": "2022-05-31T13:46:25.442Z"
   },
   {
    "duration": 5,
    "start_time": "2022-05-31T13:46:26.146Z"
   },
   {
    "duration": 31,
    "start_time": "2022-05-31T13:46:26.152Z"
   },
   {
    "duration": 4,
    "start_time": "2022-05-31T13:46:26.185Z"
   },
   {
    "duration": 394,
    "start_time": "2022-05-31T13:46:26.191Z"
   },
   {
    "duration": 26,
    "start_time": "2022-05-31T13:46:26.587Z"
   },
   {
    "duration": 213,
    "start_time": "2022-05-31T13:46:26.615Z"
   },
   {
    "duration": 17,
    "start_time": "2022-05-31T13:46:26.830Z"
   },
   {
    "duration": 9,
    "start_time": "2022-05-31T13:46:26.849Z"
   },
   {
    "duration": 763,
    "start_time": "2022-05-31T13:46:26.880Z"
   },
   {
    "duration": 7,
    "start_time": "2022-05-31T13:46:27.645Z"
   },
   {
    "duration": 166,
    "start_time": "2022-05-31T13:46:27.654Z"
   },
   {
    "duration": 5,
    "start_time": "2022-05-31T13:46:27.823Z"
   },
   {
    "duration": 762,
    "start_time": "2022-05-31T13:46:27.830Z"
   },
   {
    "duration": 1187,
    "start_time": "2022-06-01T15:01:09.187Z"
   },
   {
    "duration": 2,
    "start_time": "2022-06-01T15:01:10.376Z"
   },
   {
    "duration": 386,
    "start_time": "2022-06-01T15:01:10.380Z"
   },
   {
    "duration": 18,
    "start_time": "2022-06-01T15:01:10.768Z"
   },
   {
    "duration": 12,
    "start_time": "2022-06-01T15:04:43.681Z"
   },
   {
    "duration": 149,
    "start_time": "2022-06-01T15:05:09.148Z"
   },
   {
    "duration": 15,
    "start_time": "2022-06-01T15:34:41.455Z"
   },
   {
    "duration": 80,
    "start_time": "2022-06-01T15:52:37.986Z"
   },
   {
    "duration": 28,
    "start_time": "2022-06-01T15:52:42.573Z"
   },
   {
    "duration": 29,
    "start_time": "2022-06-01T15:53:40.235Z"
   },
   {
    "duration": 32,
    "start_time": "2022-06-01T15:55:09.428Z"
   },
   {
    "duration": 35,
    "start_time": "2022-06-01T15:55:26.788Z"
   },
   {
    "duration": 43,
    "start_time": "2022-06-01T15:55:51.896Z"
   },
   {
    "duration": 3,
    "start_time": "2022-06-01T15:55:58.591Z"
   },
   {
    "duration": 7,
    "start_time": "2022-06-01T15:55:58.596Z"
   },
   {
    "duration": 129,
    "start_time": "2022-06-01T15:55:58.604Z"
   },
   {
    "duration": 15,
    "start_time": "2022-06-01T15:55:58.736Z"
   },
   {
    "duration": 15,
    "start_time": "2022-06-01T15:55:58.754Z"
   },
   {
    "duration": 31,
    "start_time": "2022-06-01T15:55:58.770Z"
   },
   {
    "duration": 13,
    "start_time": "2022-06-01T15:55:58.803Z"
   },
   {
    "duration": 36,
    "start_time": "2022-06-01T15:56:02.925Z"
   },
   {
    "duration": 130,
    "start_time": "2022-06-01T15:56:21.914Z"
   },
   {
    "duration": 31,
    "start_time": "2022-06-01T15:56:27.852Z"
   },
   {
    "duration": 10,
    "start_time": "2022-06-01T15:57:19.473Z"
   },
   {
    "duration": 16,
    "start_time": "2022-06-01T15:58:14.580Z"
   },
   {
    "duration": 37,
    "start_time": "2022-06-01T15:58:35.698Z"
   },
   {
    "duration": 36,
    "start_time": "2022-06-01T15:58:52.131Z"
   },
   {
    "duration": 33,
    "start_time": "2022-06-01T15:59:21.267Z"
   },
   {
    "duration": 3,
    "start_time": "2022-06-01T16:00:05.145Z"
   },
   {
    "duration": 9,
    "start_time": "2022-06-01T16:00:05.149Z"
   },
   {
    "duration": 128,
    "start_time": "2022-06-01T16:00:05.160Z"
   },
   {
    "duration": 20,
    "start_time": "2022-06-01T16:00:05.290Z"
   },
   {
    "duration": 14,
    "start_time": "2022-06-01T16:00:05.313Z"
   },
   {
    "duration": 16,
    "start_time": "2022-06-01T16:00:05.330Z"
   },
   {
    "duration": 14,
    "start_time": "2022-06-01T16:00:05.348Z"
   },
   {
    "duration": 34,
    "start_time": "2022-06-01T16:00:07.685Z"
   },
   {
    "duration": 36,
    "start_time": "2022-06-01T16:00:11.684Z"
   },
   {
    "duration": 3,
    "start_time": "2022-06-01T16:00:14.468Z"
   },
   {
    "duration": 10,
    "start_time": "2022-06-01T16:00:14.473Z"
   },
   {
    "duration": 131,
    "start_time": "2022-06-01T16:00:14.485Z"
   },
   {
    "duration": 15,
    "start_time": "2022-06-01T16:00:14.618Z"
   },
   {
    "duration": 13,
    "start_time": "2022-06-01T16:00:14.636Z"
   },
   {
    "duration": 15,
    "start_time": "2022-06-01T16:00:14.651Z"
   },
   {
    "duration": 40,
    "start_time": "2022-06-01T16:00:14.668Z"
   },
   {
    "duration": 32,
    "start_time": "2022-06-01T16:00:26.204Z"
   },
   {
    "duration": 119,
    "start_time": "2022-06-01T16:00:40.452Z"
   },
   {
    "duration": 29,
    "start_time": "2022-06-01T16:00:55.201Z"
   },
   {
    "duration": 39,
    "start_time": "2022-06-01T16:01:03.769Z"
   },
   {
    "duration": 119,
    "start_time": "2022-06-01T16:01:23.484Z"
   },
   {
    "duration": 30,
    "start_time": "2022-06-01T16:01:30.829Z"
   },
   {
    "duration": 34,
    "start_time": "2022-06-01T16:02:05.656Z"
   },
   {
    "duration": 39,
    "start_time": "2022-06-01T16:02:16.265Z"
   },
   {
    "duration": 36,
    "start_time": "2022-06-01T16:02:40.223Z"
   },
   {
    "duration": 3,
    "start_time": "2022-06-01T16:02:54.316Z"
   },
   {
    "duration": 18,
    "start_time": "2022-06-01T16:02:54.320Z"
   },
   {
    "duration": 123,
    "start_time": "2022-06-01T16:02:54.340Z"
   },
   {
    "duration": 15,
    "start_time": "2022-06-01T16:02:54.465Z"
   },
   {
    "duration": 25,
    "start_time": "2022-06-01T16:02:54.482Z"
   },
   {
    "duration": 13,
    "start_time": "2022-06-01T16:02:54.509Z"
   },
   {
    "duration": 19,
    "start_time": "2022-06-01T16:02:54.524Z"
   },
   {
    "duration": 34,
    "start_time": "2022-06-01T16:02:59.246Z"
   },
   {
    "duration": 36,
    "start_time": "2022-06-01T16:03:06.331Z"
   },
   {
    "duration": 2,
    "start_time": "2022-06-01T16:03:28.683Z"
   },
   {
    "duration": 14,
    "start_time": "2022-06-01T16:03:28.687Z"
   },
   {
    "duration": 130,
    "start_time": "2022-06-01T16:03:28.703Z"
   },
   {
    "duration": 16,
    "start_time": "2022-06-01T16:03:28.836Z"
   },
   {
    "duration": 14,
    "start_time": "2022-06-01T16:03:28.854Z"
   },
   {
    "duration": 38,
    "start_time": "2022-06-01T16:03:28.870Z"
   },
   {
    "duration": 14,
    "start_time": "2022-06-01T16:03:28.910Z"
   },
   {
    "duration": 32,
    "start_time": "2022-06-01T16:03:28.926Z"
   },
   {
    "duration": 17,
    "start_time": "2022-06-01T16:03:30.293Z"
   },
   {
    "duration": 36,
    "start_time": "2022-06-01T16:03:46.494Z"
   },
   {
    "duration": 39,
    "start_time": "2022-06-01T16:04:02.652Z"
   },
   {
    "duration": 16,
    "start_time": "2022-06-01T16:05:20.741Z"
   },
   {
    "duration": 980,
    "start_time": "2022-06-01T17:13:25.020Z"
   },
   {
    "duration": 3,
    "start_time": "2022-06-01T17:13:30.170Z"
   },
   {
    "duration": 25,
    "start_time": "2022-06-01T17:13:30.175Z"
   },
   {
    "duration": 153,
    "start_time": "2022-06-01T17:13:30.202Z"
   },
   {
    "duration": 15,
    "start_time": "2022-06-01T17:13:30.356Z"
   },
   {
    "duration": 15,
    "start_time": "2022-06-01T17:13:30.373Z"
   },
   {
    "duration": 15,
    "start_time": "2022-06-01T17:13:30.400Z"
   },
   {
    "duration": 19,
    "start_time": "2022-06-01T17:13:30.417Z"
   },
   {
    "duration": 24,
    "start_time": "2022-06-01T17:13:30.438Z"
   },
   {
    "duration": 37,
    "start_time": "2022-06-01T17:13:30.463Z"
   },
   {
    "duration": 9,
    "start_time": "2022-06-01T17:13:30.502Z"
   },
   {
    "duration": 16,
    "start_time": "2022-06-01T17:13:30.513Z"
   },
   {
    "duration": 29,
    "start_time": "2022-06-01T17:13:30.531Z"
   },
   {
    "duration": 0,
    "start_time": "2022-06-01T17:13:30.562Z"
   },
   {
    "duration": 0,
    "start_time": "2022-06-01T17:13:30.563Z"
   },
   {
    "duration": 0,
    "start_time": "2022-06-01T17:13:30.564Z"
   },
   {
    "duration": 0,
    "start_time": "2022-06-01T17:13:30.565Z"
   },
   {
    "duration": 0,
    "start_time": "2022-06-01T17:13:30.566Z"
   },
   {
    "duration": 0,
    "start_time": "2022-06-01T17:13:30.567Z"
   },
   {
    "duration": 0,
    "start_time": "2022-06-01T17:13:30.599Z"
   },
   {
    "duration": 0,
    "start_time": "2022-06-01T17:13:30.601Z"
   },
   {
    "duration": 0,
    "start_time": "2022-06-01T17:13:30.602Z"
   },
   {
    "duration": 0,
    "start_time": "2022-06-01T17:13:30.603Z"
   },
   {
    "duration": 179,
    "start_time": "2022-06-01T17:13:32.408Z"
   },
   {
    "duration": 21,
    "start_time": "2022-06-01T17:15:13.383Z"
   },
   {
    "duration": 15,
    "start_time": "2022-06-01T17:24:03.082Z"
   },
   {
    "duration": 22,
    "start_time": "2022-06-01T17:24:05.650Z"
   },
   {
    "duration": 3,
    "start_time": "2022-06-01T17:26:11.614Z"
   },
   {
    "duration": 7,
    "start_time": "2022-06-01T17:26:11.619Z"
   },
   {
    "duration": 140,
    "start_time": "2022-06-01T17:26:11.628Z"
   },
   {
    "duration": 37,
    "start_time": "2022-06-01T17:26:11.770Z"
   },
   {
    "duration": 19,
    "start_time": "2022-06-01T17:26:11.810Z"
   },
   {
    "duration": 25,
    "start_time": "2022-06-01T17:26:11.831Z"
   },
   {
    "duration": 41,
    "start_time": "2022-06-01T17:26:11.858Z"
   },
   {
    "duration": 28,
    "start_time": "2022-06-01T17:26:11.902Z"
   },
   {
    "duration": 33,
    "start_time": "2022-06-01T17:26:11.933Z"
   },
   {
    "duration": 34,
    "start_time": "2022-06-01T17:26:11.969Z"
   },
   {
    "duration": 9,
    "start_time": "2022-06-01T17:26:12.006Z"
   },
   {
    "duration": 30,
    "start_time": "2022-06-01T17:26:12.016Z"
   },
   {
    "duration": 43,
    "start_time": "2022-06-01T17:26:12.048Z"
   },
   {
    "duration": 335,
    "start_time": "2022-06-01T17:26:12.092Z"
   },
   {
    "duration": 809,
    "start_time": "2022-06-01T17:26:12.429Z"
   },
   {
    "duration": 5,
    "start_time": "2022-06-01T17:26:13.240Z"
   },
   {
    "duration": 184,
    "start_time": "2022-06-01T17:26:13.247Z"
   },
   {
    "duration": 848,
    "start_time": "2022-06-01T17:26:13.432Z"
   },
   {
    "duration": 399,
    "start_time": "2022-06-01T17:26:14.281Z"
   },
   {
    "duration": 25,
    "start_time": "2022-06-01T17:26:14.682Z"
   },
   {
    "duration": 135,
    "start_time": "2022-06-01T17:26:14.709Z"
   },
   {
    "duration": 11,
    "start_time": "2022-06-01T17:26:14.846Z"
   },
   {
    "duration": 7,
    "start_time": "2022-06-01T17:26:14.859Z"
   },
   {
    "duration": 205,
    "start_time": "2022-06-01T17:26:14.868Z"
   },
   {
    "duration": 11,
    "start_time": "2022-06-01T17:26:15.075Z"
   },
   {
    "duration": 145,
    "start_time": "2022-06-01T17:26:15.088Z"
   },
   {
    "duration": 10,
    "start_time": "2022-06-01T17:26:15.235Z"
   },
   {
    "duration": 2,
    "start_time": "2022-06-01T17:26:15.247Z"
   },
   {
    "duration": 140,
    "start_time": "2022-06-01T17:26:15.253Z"
   },
   {
    "duration": 17,
    "start_time": "2022-06-01T17:26:15.400Z"
   },
   {
    "duration": 142,
    "start_time": "2022-06-01T17:26:15.418Z"
   },
   {
    "duration": 10,
    "start_time": "2022-06-01T17:26:15.562Z"
   },
   {
    "duration": 231,
    "start_time": "2022-06-01T17:26:15.574Z"
   },
   {
    "duration": 6,
    "start_time": "2022-06-01T17:26:15.807Z"
   },
   {
    "duration": 6,
    "start_time": "2022-06-01T17:26:15.815Z"
   },
   {
    "duration": 231,
    "start_time": "2022-06-01T17:26:15.823Z"
   },
   {
    "duration": 5,
    "start_time": "2022-06-01T17:26:16.055Z"
   },
   {
    "duration": 170,
    "start_time": "2022-06-01T17:26:16.061Z"
   },
   {
    "duration": 167,
    "start_time": "2022-06-01T17:26:16.232Z"
   },
   {
    "duration": 1121,
    "start_time": "2022-06-01T17:26:16.401Z"
   },
   {
    "duration": 4,
    "start_time": "2022-06-01T17:26:17.524Z"
   },
   {
    "duration": 21,
    "start_time": "2022-06-01T17:26:17.530Z"
   },
   {
    "duration": 3,
    "start_time": "2022-06-01T17:26:17.553Z"
   },
   {
    "duration": 285,
    "start_time": "2022-06-01T17:26:17.558Z"
   },
   {
    "duration": 20,
    "start_time": "2022-06-01T17:26:17.845Z"
   },
   {
    "duration": 180,
    "start_time": "2022-06-01T17:26:17.867Z"
   },
   {
    "duration": 17,
    "start_time": "2022-06-01T17:26:18.050Z"
   },
   {
    "duration": 10,
    "start_time": "2022-06-01T17:26:18.069Z"
   },
   {
    "duration": 726,
    "start_time": "2022-06-01T17:26:18.081Z"
   },
   {
    "duration": 5,
    "start_time": "2022-06-01T17:26:18.808Z"
   },
   {
    "duration": 171,
    "start_time": "2022-06-01T17:26:18.814Z"
   },
   {
    "duration": 14,
    "start_time": "2022-06-01T17:26:18.987Z"
   },
   {
    "duration": 772,
    "start_time": "2022-06-01T17:26:19.003Z"
   },
   {
    "duration": 3,
    "start_time": "2022-06-01T19:20:33.429Z"
   },
   {
    "duration": 6,
    "start_time": "2022-06-01T19:20:33.434Z"
   },
   {
    "duration": 129,
    "start_time": "2022-06-01T19:20:33.442Z"
   },
   {
    "duration": 37,
    "start_time": "2022-06-01T19:20:33.573Z"
   },
   {
    "duration": 15,
    "start_time": "2022-06-01T19:20:33.613Z"
   },
   {
    "duration": 16,
    "start_time": "2022-06-01T19:20:33.630Z"
   },
   {
    "duration": 16,
    "start_time": "2022-06-01T19:20:33.648Z"
   },
   {
    "duration": 44,
    "start_time": "2022-06-01T19:20:33.665Z"
   },
   {
    "duration": 22,
    "start_time": "2022-06-01T19:20:33.712Z"
   },
   {
    "duration": 10,
    "start_time": "2022-06-01T19:20:33.736Z"
   },
   {
    "duration": 9,
    "start_time": "2022-06-01T19:20:33.749Z"
   },
   {
    "duration": 52,
    "start_time": "2022-06-01T19:20:33.760Z"
   },
   {
    "duration": 38,
    "start_time": "2022-06-01T19:20:33.814Z"
   },
   {
    "duration": 338,
    "start_time": "2022-06-01T19:20:33.854Z"
   },
   {
    "duration": 741,
    "start_time": "2022-06-01T19:20:34.194Z"
   },
   {
    "duration": 6,
    "start_time": "2022-06-01T19:20:34.936Z"
   },
   {
    "duration": 194,
    "start_time": "2022-06-01T19:20:34.944Z"
   },
   {
    "duration": 1048,
    "start_time": "2022-06-01T19:20:35.139Z"
   },
   {
    "duration": 296,
    "start_time": "2022-06-01T19:20:36.188Z"
   },
   {
    "duration": 21,
    "start_time": "2022-06-01T19:20:36.486Z"
   },
   {
    "duration": 136,
    "start_time": "2022-06-01T19:20:36.509Z"
   },
   {
    "duration": 11,
    "start_time": "2022-06-01T19:20:36.647Z"
   },
   {
    "duration": 6,
    "start_time": "2022-06-01T19:20:36.660Z"
   },
   {
    "duration": 203,
    "start_time": "2022-06-01T19:20:36.668Z"
   },
   {
    "duration": 12,
    "start_time": "2022-06-01T19:20:36.873Z"
   },
   {
    "duration": 282,
    "start_time": "2022-06-01T19:20:36.886Z"
   },
   {
    "duration": 11,
    "start_time": "2022-06-01T19:20:37.169Z"
   },
   {
    "duration": 4,
    "start_time": "2022-06-01T19:20:37.182Z"
   },
   {
    "duration": 188,
    "start_time": "2022-06-01T19:20:37.204Z"
   },
   {
    "duration": 14,
    "start_time": "2022-06-01T19:20:37.399Z"
   },
   {
    "duration": 142,
    "start_time": "2022-06-01T19:20:37.415Z"
   },
   {
    "duration": 10,
    "start_time": "2022-06-01T19:20:37.558Z"
   },
   {
    "duration": 222,
    "start_time": "2022-06-01T19:20:37.570Z"
   },
   {
    "duration": 5,
    "start_time": "2022-06-01T19:20:37.794Z"
   },
   {
    "duration": 14,
    "start_time": "2022-06-01T19:20:37.800Z"
   },
   {
    "duration": 209,
    "start_time": "2022-06-01T19:20:37.815Z"
   },
   {
    "duration": 5,
    "start_time": "2022-06-01T19:20:38.025Z"
   },
   {
    "duration": 168,
    "start_time": "2022-06-01T19:20:38.031Z"
   },
   {
    "duration": 160,
    "start_time": "2022-06-01T19:20:38.201Z"
   },
   {
    "duration": 690,
    "start_time": "2022-06-01T19:20:38.362Z"
   },
   {
    "duration": 5,
    "start_time": "2022-06-01T19:20:39.053Z"
   },
   {
    "duration": 22,
    "start_time": "2022-06-01T19:20:39.060Z"
   },
   {
    "duration": 18,
    "start_time": "2022-06-01T19:20:39.084Z"
   },
   {
    "duration": 283,
    "start_time": "2022-06-01T19:20:39.103Z"
   },
   {
    "duration": 26,
    "start_time": "2022-06-01T19:20:39.387Z"
   },
   {
    "duration": 187,
    "start_time": "2022-06-01T19:20:39.414Z"
   },
   {
    "duration": 18,
    "start_time": "2022-06-01T19:20:39.603Z"
   },
   {
    "duration": 10,
    "start_time": "2022-06-01T19:20:39.623Z"
   },
   {
    "duration": 757,
    "start_time": "2022-06-01T19:20:39.634Z"
   },
   {
    "duration": 10,
    "start_time": "2022-06-01T19:20:40.393Z"
   },
   {
    "duration": 345,
    "start_time": "2022-06-01T19:20:40.405Z"
   },
   {
    "duration": 6,
    "start_time": "2022-06-01T19:20:40.752Z"
   },
   {
    "duration": 698,
    "start_time": "2022-06-01T19:20:40.760Z"
   },
   {
    "duration": 3,
    "start_time": "2022-06-01T19:33:40.334Z"
   },
   {
    "duration": 42,
    "start_time": "2022-06-01T19:33:40.339Z"
   },
   {
    "duration": 130,
    "start_time": "2022-06-01T19:33:40.384Z"
   },
   {
    "duration": 16,
    "start_time": "2022-06-01T19:33:40.516Z"
   },
   {
    "duration": 18,
    "start_time": "2022-06-01T19:33:40.534Z"
   },
   {
    "duration": 14,
    "start_time": "2022-06-01T19:33:40.554Z"
   },
   {
    "duration": 13,
    "start_time": "2022-06-01T19:33:40.599Z"
   },
   {
    "duration": 25,
    "start_time": "2022-06-01T19:33:40.614Z"
   },
   {
    "duration": 60,
    "start_time": "2022-06-01T19:33:40.642Z"
   },
   {
    "duration": 9,
    "start_time": "2022-06-01T19:33:40.703Z"
   },
   {
    "duration": 8,
    "start_time": "2022-06-01T19:33:40.714Z"
   },
   {
    "duration": 16,
    "start_time": "2022-06-01T19:33:40.724Z"
   },
   {
    "duration": 72,
    "start_time": "2022-06-01T19:33:40.742Z"
   },
   {
    "duration": 344,
    "start_time": "2022-06-01T19:33:40.816Z"
   },
   {
    "duration": 765,
    "start_time": "2022-06-01T19:33:41.162Z"
   },
   {
    "duration": 7,
    "start_time": "2022-06-01T19:33:41.929Z"
   },
   {
    "duration": 194,
    "start_time": "2022-06-01T19:33:41.937Z"
   },
   {
    "duration": 1095,
    "start_time": "2022-06-01T19:33:42.133Z"
   },
   {
    "duration": 291,
    "start_time": "2022-06-01T19:33:43.230Z"
   },
   {
    "duration": 12,
    "start_time": "2022-06-01T19:33:43.523Z"
   },
   {
    "duration": 130,
    "start_time": "2022-06-01T19:33:43.537Z"
   },
   {
    "duration": 10,
    "start_time": "2022-06-01T19:33:43.668Z"
   },
   {
    "duration": 5,
    "start_time": "2022-06-01T19:33:43.700Z"
   },
   {
    "duration": 11,
    "start_time": "2022-06-01T19:33:43.708Z"
   },
   {
    "duration": 11,
    "start_time": "2022-06-01T19:33:43.721Z"
   },
   {
    "duration": 31,
    "start_time": "2022-06-01T19:33:43.733Z"
   },
   {
    "duration": 0,
    "start_time": "2022-06-01T19:33:43.766Z"
   },
   {
    "duration": 0,
    "start_time": "2022-06-01T19:33:43.800Z"
   },
   {
    "duration": 9,
    "start_time": "2022-06-01T19:33:57.393Z"
   },
   {
    "duration": 19,
    "start_time": "2022-06-01T19:33:59.271Z"
   },
   {
    "duration": 6,
    "start_time": "2022-06-01T19:34:02.992Z"
   },
   {
    "duration": 9,
    "start_time": "2022-06-01T19:34:35.963Z"
   },
   {
    "duration": 3,
    "start_time": "2022-06-01T19:37:46.976Z"
   },
   {
    "duration": 2,
    "start_time": "2022-06-01T19:37:46.984Z"
   },
   {
    "duration": 132,
    "start_time": "2022-06-01T19:37:46.988Z"
   },
   {
    "duration": 14,
    "start_time": "2022-06-01T19:37:47.122Z"
   },
   {
    "duration": 15,
    "start_time": "2022-06-01T19:37:47.138Z"
   },
   {
    "duration": 44,
    "start_time": "2022-06-01T19:37:47.155Z"
   },
   {
    "duration": 15,
    "start_time": "2022-06-01T19:37:47.202Z"
   },
   {
    "duration": 20,
    "start_time": "2022-06-01T19:37:47.219Z"
   },
   {
    "duration": 65,
    "start_time": "2022-06-01T19:37:47.241Z"
   },
   {
    "duration": 11,
    "start_time": "2022-06-01T19:37:47.308Z"
   },
   {
    "duration": 10,
    "start_time": "2022-06-01T19:37:47.323Z"
   },
   {
    "duration": 17,
    "start_time": "2022-06-01T19:37:47.335Z"
   },
   {
    "duration": 74,
    "start_time": "2022-06-01T19:37:47.354Z"
   },
   {
    "duration": 332,
    "start_time": "2022-06-01T19:37:47.430Z"
   },
   {
    "duration": 888,
    "start_time": "2022-06-01T19:37:47.763Z"
   },
   {
    "duration": 6,
    "start_time": "2022-06-01T19:37:48.653Z"
   },
   {
    "duration": 204,
    "start_time": "2022-06-01T19:37:48.661Z"
   },
   {
    "duration": 866,
    "start_time": "2022-06-01T19:37:48.867Z"
   },
   {
    "duration": 315,
    "start_time": "2022-06-01T19:37:49.734Z"
   },
   {
    "duration": 16,
    "start_time": "2022-06-01T19:37:50.051Z"
   },
   {
    "duration": 136,
    "start_time": "2022-06-01T19:37:50.069Z"
   },
   {
    "duration": 9,
    "start_time": "2022-06-01T19:37:50.207Z"
   },
   {
    "duration": 5,
    "start_time": "2022-06-01T19:37:50.218Z"
   },
   {
    "duration": 13,
    "start_time": "2022-06-01T19:37:50.224Z"
   },
   {
    "duration": 8,
    "start_time": "2022-06-01T19:37:50.239Z"
   },
   {
    "duration": 13,
    "start_time": "2022-06-01T19:37:50.249Z"
   },
   {
    "duration": 52,
    "start_time": "2022-06-01T19:37:50.264Z"
   },
   {
    "duration": 9,
    "start_time": "2022-06-01T19:37:50.317Z"
   },
   {
    "duration": 243,
    "start_time": "2022-06-01T19:37:50.329Z"
   },
   {
    "duration": 5,
    "start_time": "2022-06-01T19:37:50.574Z"
   },
   {
    "duration": 19,
    "start_time": "2022-06-01T19:37:50.581Z"
   },
   {
    "duration": 239,
    "start_time": "2022-06-01T19:37:50.602Z"
   },
   {
    "duration": 5,
    "start_time": "2022-06-01T19:37:50.843Z"
   },
   {
    "duration": 185,
    "start_time": "2022-06-01T19:37:50.850Z"
   },
   {
    "duration": 177,
    "start_time": "2022-06-01T19:37:51.037Z"
   },
   {
    "duration": 910,
    "start_time": "2022-06-01T19:37:51.215Z"
   },
   {
    "duration": 4,
    "start_time": "2022-06-01T19:37:52.127Z"
   },
   {
    "duration": 15,
    "start_time": "2022-06-01T19:37:52.133Z"
   },
   {
    "duration": 5,
    "start_time": "2022-06-01T19:37:52.150Z"
   },
   {
    "duration": 316,
    "start_time": "2022-06-01T19:37:52.157Z"
   },
   {
    "duration": 32,
    "start_time": "2022-06-01T19:37:52.474Z"
   },
   {
    "duration": 160,
    "start_time": "2022-06-01T19:37:52.508Z"
   },
   {
    "duration": 31,
    "start_time": "2022-06-01T19:37:52.670Z"
   },
   {
    "duration": 10,
    "start_time": "2022-06-01T19:37:52.703Z"
   },
   {
    "duration": 729,
    "start_time": "2022-06-01T19:37:52.714Z"
   },
   {
    "duration": 4,
    "start_time": "2022-06-01T19:37:53.445Z"
   },
   {
    "duration": 178,
    "start_time": "2022-06-01T19:37:53.451Z"
   },
   {
    "duration": 5,
    "start_time": "2022-06-01T19:37:53.631Z"
   },
   {
    "duration": 655,
    "start_time": "2022-06-01T19:37:53.637Z"
   }
  ],
  "kernelspec": {
   "display_name": "Python 3 (ipykernel)",
   "language": "python",
   "name": "python3"
  },
  "language_info": {
   "codemirror_mode": {
    "name": "ipython",
    "version": 3
   },
   "file_extension": ".py",
   "mimetype": "text/x-python",
   "name": "python",
   "nbconvert_exporter": "python",
   "pygments_lexer": "ipython3",
   "version": "3.9.12"
  },
  "toc": {
   "base_numbering": 1,
   "nav_menu": {},
   "number_sections": true,
   "sideBar": true,
   "skip_h1_title": true,
   "title_cell": "Содержание",
   "title_sidebar": "Contents",
   "toc_cell": true,
   "toc_position": {
    "height": "calc(100% - 180px)",
    "left": "10px",
    "top": "150px",
    "width": "165px"
   },
   "toc_section_display": true,
   "toc_window_display": true
  }
 },
 "nbformat": 4,
 "nbformat_minor": 4
}
