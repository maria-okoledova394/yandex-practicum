{
 "cells": [
  {
   "cell_type": "markdown",
   "metadata": {},
   "source": [
    "# Prediction the cost of cars\n",
    "\n",
    "## Project description\n",
    "\n",
    "The service for the sale of used cars is developing an application to attract new customers. It allows you to quickly find out the market value of your car. Historical data is at your disposal: technical specifications, complete sets and prices of cars. You need to build a model to determine the cost.\n",
    "\n",
    "Important to the customer:\n",
    "- prediction quality;\n",
    "- prediction speed;\n",
    "- training time.\n",
    "\n",
    "The purpose of the project: to build a model for predicting the cost of cars in accordance with the criteria of the customer.\n",
    "\n",
    "## Project plan:\n",
    "\n",
    "1. Prepare the data. Handle anomalies, remove uninformative and low-quality data, handle missing values, get rid of duplicates.\n",
    "2. Train models `LinearRegression`, `RandomForestRegressor`, `CatBoostRegressor`, `LGBMRegressor`. Find optimal parameters for them.\n",
    "3. Analyze models and recommend the best for customer's criteria.\n",
    "\n",
    "## Data description\n",
    "__Features__:\n",
    "- _DateCrawled_ — date of downloading the questionnaire from the database\n",
    "- _VehicleType_ — type of car body\n",
    "- _RegistrationYear_ — the year of registration of the car\n",
    "- _Gearbox_ — type of gearbox\n",
    "- _Power_ — power (hp)\n",
    "- _Model_ — car model\n",
    "- _Kilometer_ — mileage (km)\n",
    "- _RegistrationMonth_ — month of car registration\n",
    "- _FuelType_ — fuel type\n",
    "- _Brand_ — car brand\n",
    "- _Repaired_ — was the car under repair or not\n",
    "- _DateCreated_ — date of creation of the questionnaire\n",
    "- _NumberOfPictures_ — the number of photos of the car\n",
    "- _PostalCode_ — postal code of the questionnaire owner (user)\n",
    "- _LastSeen_ — the date of the user's last activity\n",
    "\n",
    "__Target feature__:\n",
    "- _Price_ — price (euro)"
   ]
  },
  {
   "cell_type": "markdown",
   "metadata": {},
   "source": [
    "## Loading and preparing data"
   ]
  },
  {
   "cell_type": "code",
   "execution_count": 2,
   "metadata": {},
   "outputs": [],
   "source": [
    "import pandas as pd\n",
    "import numpy as np\n",
    "import matplotlib.pyplot as plt\n",
    "#from ydata_profiling import ProfileReport\n",
    "from sklearn.model_selection import train_test_split\n",
    "from sklearn.preprocessing import OneHotEncoder\n",
    "from sklearn.preprocessing import OrdinalEncoder\n",
    "from sklearn.preprocessing import StandardScaler\n",
    "from sklearn.compose import ColumnTransformer\n",
    "from sklearn.pipeline import Pipeline\n",
    "from sklearn.linear_model import LinearRegression, Ridge, Lasso\n",
    "from catboost import CatBoostRegressor\n",
    "from sklearn.ensemble import RandomForestRegressor\n",
    "import lightgbm as lgb\n",
    "from sklearn.model_selection import GridSearchCV\n",
    "from sklearn.metrics import mean_squared_error\n",
    "from sklearn.tree import DecisionTreeRegressor\n",
    "import time"
   ]
  },
  {
   "cell_type": "code",
   "execution_count": 3,
   "metadata": {},
   "outputs": [
    {
     "data": {
      "text/html": [
       "<div>\n",
       "<style scoped>\n",
       "    .dataframe tbody tr th:only-of-type {\n",
       "        vertical-align: middle;\n",
       "    }\n",
       "\n",
       "    .dataframe tbody tr th {\n",
       "        vertical-align: top;\n",
       "    }\n",
       "\n",
       "    .dataframe thead th {\n",
       "        text-align: right;\n",
       "    }\n",
       "</style>\n",
       "<table border=\"1\" class=\"dataframe\">\n",
       "  <thead>\n",
       "    <tr style=\"text-align: right;\">\n",
       "      <th></th>\n",
       "      <th>DateCrawled</th>\n",
       "      <th>Price</th>\n",
       "      <th>VehicleType</th>\n",
       "      <th>RegistrationYear</th>\n",
       "      <th>Gearbox</th>\n",
       "      <th>Power</th>\n",
       "      <th>Model</th>\n",
       "      <th>Kilometer</th>\n",
       "      <th>RegistrationMonth</th>\n",
       "      <th>FuelType</th>\n",
       "      <th>Brand</th>\n",
       "      <th>Repaired</th>\n",
       "      <th>DateCreated</th>\n",
       "      <th>NumberOfPictures</th>\n",
       "      <th>PostalCode</th>\n",
       "      <th>LastSeen</th>\n",
       "    </tr>\n",
       "  </thead>\n",
       "  <tbody>\n",
       "    <tr>\n",
       "      <th>0</th>\n",
       "      <td>2016-03-24 11:52:17</td>\n",
       "      <td>480</td>\n",
       "      <td>NaN</td>\n",
       "      <td>1993</td>\n",
       "      <td>manual</td>\n",
       "      <td>0</td>\n",
       "      <td>golf</td>\n",
       "      <td>150000</td>\n",
       "      <td>0</td>\n",
       "      <td>petrol</td>\n",
       "      <td>volkswagen</td>\n",
       "      <td>NaN</td>\n",
       "      <td>2016-03-24 00:00:00</td>\n",
       "      <td>0</td>\n",
       "      <td>70435</td>\n",
       "      <td>2016-04-07 03:16:57</td>\n",
       "    </tr>\n",
       "    <tr>\n",
       "      <th>1</th>\n",
       "      <td>2016-03-24 10:58:45</td>\n",
       "      <td>18300</td>\n",
       "      <td>coupe</td>\n",
       "      <td>2011</td>\n",
       "      <td>manual</td>\n",
       "      <td>190</td>\n",
       "      <td>NaN</td>\n",
       "      <td>125000</td>\n",
       "      <td>5</td>\n",
       "      <td>gasoline</td>\n",
       "      <td>audi</td>\n",
       "      <td>yes</td>\n",
       "      <td>2016-03-24 00:00:00</td>\n",
       "      <td>0</td>\n",
       "      <td>66954</td>\n",
       "      <td>2016-04-07 01:46:50</td>\n",
       "    </tr>\n",
       "    <tr>\n",
       "      <th>2</th>\n",
       "      <td>2016-03-14 12:52:21</td>\n",
       "      <td>9800</td>\n",
       "      <td>suv</td>\n",
       "      <td>2004</td>\n",
       "      <td>auto</td>\n",
       "      <td>163</td>\n",
       "      <td>grand</td>\n",
       "      <td>125000</td>\n",
       "      <td>8</td>\n",
       "      <td>gasoline</td>\n",
       "      <td>jeep</td>\n",
       "      <td>NaN</td>\n",
       "      <td>2016-03-14 00:00:00</td>\n",
       "      <td>0</td>\n",
       "      <td>90480</td>\n",
       "      <td>2016-04-05 12:47:46</td>\n",
       "    </tr>\n",
       "    <tr>\n",
       "      <th>3</th>\n",
       "      <td>2016-03-17 16:54:04</td>\n",
       "      <td>1500</td>\n",
       "      <td>small</td>\n",
       "      <td>2001</td>\n",
       "      <td>manual</td>\n",
       "      <td>75</td>\n",
       "      <td>golf</td>\n",
       "      <td>150000</td>\n",
       "      <td>6</td>\n",
       "      <td>petrol</td>\n",
       "      <td>volkswagen</td>\n",
       "      <td>no</td>\n",
       "      <td>2016-03-17 00:00:00</td>\n",
       "      <td>0</td>\n",
       "      <td>91074</td>\n",
       "      <td>2016-03-17 17:40:17</td>\n",
       "    </tr>\n",
       "    <tr>\n",
       "      <th>4</th>\n",
       "      <td>2016-03-31 17:25:20</td>\n",
       "      <td>3600</td>\n",
       "      <td>small</td>\n",
       "      <td>2008</td>\n",
       "      <td>manual</td>\n",
       "      <td>69</td>\n",
       "      <td>fabia</td>\n",
       "      <td>90000</td>\n",
       "      <td>7</td>\n",
       "      <td>gasoline</td>\n",
       "      <td>skoda</td>\n",
       "      <td>no</td>\n",
       "      <td>2016-03-31 00:00:00</td>\n",
       "      <td>0</td>\n",
       "      <td>60437</td>\n",
       "      <td>2016-04-06 10:17:21</td>\n",
       "    </tr>\n",
       "  </tbody>\n",
       "</table>\n",
       "</div>"
      ],
      "text/plain": [
       "           DateCrawled  Price VehicleType  RegistrationYear Gearbox  Power  \\\n",
       "0  2016-03-24 11:52:17    480         NaN              1993  manual      0   \n",
       "1  2016-03-24 10:58:45  18300       coupe              2011  manual    190   \n",
       "2  2016-03-14 12:52:21   9800         suv              2004    auto    163   \n",
       "3  2016-03-17 16:54:04   1500       small              2001  manual     75   \n",
       "4  2016-03-31 17:25:20   3600       small              2008  manual     69   \n",
       "\n",
       "   Model  Kilometer  RegistrationMonth  FuelType       Brand Repaired  \\\n",
       "0   golf     150000                  0    petrol  volkswagen      NaN   \n",
       "1    NaN     125000                  5  gasoline        audi      yes   \n",
       "2  grand     125000                  8  gasoline        jeep      NaN   \n",
       "3   golf     150000                  6    petrol  volkswagen       no   \n",
       "4  fabia      90000                  7  gasoline       skoda       no   \n",
       "\n",
       "           DateCreated  NumberOfPictures  PostalCode             LastSeen  \n",
       "0  2016-03-24 00:00:00                 0       70435  2016-04-07 03:16:57  \n",
       "1  2016-03-24 00:00:00                 0       66954  2016-04-07 01:46:50  \n",
       "2  2016-03-14 00:00:00                 0       90480  2016-04-05 12:47:46  \n",
       "3  2016-03-17 00:00:00                 0       91074  2016-03-17 17:40:17  \n",
       "4  2016-03-31 00:00:00                 0       60437  2016-04-06 10:17:21  "
      ]
     },
     "metadata": {},
     "output_type": "display_data"
    },
    {
     "name": "stdout",
     "output_type": "stream",
     "text": [
      "<class 'pandas.core.frame.DataFrame'>\n",
      "RangeIndex: 354369 entries, 0 to 354368\n",
      "Data columns (total 16 columns):\n",
      " #   Column             Non-Null Count   Dtype \n",
      "---  ------             --------------   ----- \n",
      " 0   DateCrawled        354369 non-null  object\n",
      " 1   Price              354369 non-null  int64 \n",
      " 2   VehicleType        316879 non-null  object\n",
      " 3   RegistrationYear   354369 non-null  int64 \n",
      " 4   Gearbox            334536 non-null  object\n",
      " 5   Power              354369 non-null  int64 \n",
      " 6   Model              334664 non-null  object\n",
      " 7   Kilometer          354369 non-null  int64 \n",
      " 8   RegistrationMonth  354369 non-null  int64 \n",
      " 9   FuelType           321474 non-null  object\n",
      " 10  Brand              354369 non-null  object\n",
      " 11  Repaired           283215 non-null  object\n",
      " 12  DateCreated        354369 non-null  object\n",
      " 13  NumberOfPictures   354369 non-null  int64 \n",
      " 14  PostalCode         354369 non-null  int64 \n",
      " 15  LastSeen           354369 non-null  object\n",
      "dtypes: int64(7), object(9)\n",
      "memory usage: 43.3+ MB\n"
     ]
    }
   ],
   "source": [
    "df = pd.read_csv('/datasets/autos.csv')\n",
    "\n",
    "display(df.head())\n",
    "df.info()"
   ]
  },
  {
   "cell_type": "markdown",
   "metadata": {},
   "source": [
    "Not useful features for building a car price prediction model:\n",
    "\n",
    "- _RegistrationMonth_ — the month of registration of the car;\n",
    "- _DateCrawled_ — date the questionnaire was downloaded from the database;\n",
    "- _lastSeen_ — the date of the user's last activity;\n",
    "- _PostalCode_ — postal code of the questionnaire owner;\n",
    "- _NumberOfPictures_ — number of photos of the car;\n",
    "- _DateCreated_ — the date the questionnaire was created.\n",
    "\n",
    "Remove them:"
   ]
  },
  {
   "cell_type": "code",
   "execution_count": 4,
   "metadata": {},
   "outputs": [],
   "source": [
    "df = df.drop(columns=['RegistrationMonth', 'DateCrawled', 'LastSeen', 'PostalCode', 'NumberOfPictures', 'DateCreated'])"
   ]
  },
  {
   "cell_type": "markdown",
   "metadata": {},
   "source": [
    "Data overview to find problems, anomalies:"
   ]
  },
  {
   "cell_type": "code",
   "execution_count": 5,
   "metadata": {},
   "outputs": [],
   "source": [
    "ProfileReport(df)"
   ]
  },
  {
   "cell_type": "markdown",
   "metadata": {},
   "source": [
    "There are duplicates, missing values, extremely small or large values in data. How to handle them in different columns:\n",
    "\n",
    "`Price` column:\n",
    "- 3% of zeros - remove objects;\n",
    "- Incredibly small values - remove objects with a price less than 200 euros.\n",
    "\n",
    "`Power` column (power, hp):\n",
    "- 11.4% of zeros - remove objects;\n",
    "- Improbably large and small values - remove objects.\n",
    "\n",
    "`Model` column (car model):\n",
    "- 5.6% of the missing values replace with `unknown`.\n",
    "\n",
    "`RegistrationYear` column (year of registration of the car):\n",
    "- Incredibly, impossible large and small values - remove objects.\n",
    "\n",
    "`FuelType` column (fuel type):\n",
    "- 9.3% of missing values - replace with `unknown`;\n",
    "- \"Petrol\" and \"gasoline\" mean the same thing - replace \"gasoline\" with \"petrol\".\n",
    "\n",
    "`Repaired` column (was the car under repair or not):\n",
    "- 20.1% of the missing values replace with `unknown`.\n",
    "\n",
    "`VehicleType` column (car body type):\n",
    "- 10.6% of the missing values replace with `unknown`.\n",
    "\n",
    "`Gearbox` column (gearbox type):\n",
    "- 5.6% of the missing values replace with `unknown`.\n",
    "\n",
    "Duplicate lines should be removed."
   ]
  },
  {
   "cell_type": "code",
   "execution_count": 6,
   "metadata": {},
   "outputs": [],
   "source": [
    "df = df[\n",
    "    (df['Price']>200)&\n",
    "    (df['Power']>50)&\n",
    "    (df['Power']<1800)&\n",
    "    (df['RegistrationYear']>1980)&\n",
    "    (df['RegistrationYear']<2017)\n",
    "]\n",
    "\n",
    "df[['Model', 'FuelType', 'Repaired', 'VehicleType', 'Gearbox']] = df[['Model', 'FuelType', 'Repaired', 'VehicleType', 'Gearbox']].fillna(value='unknown')\n",
    "\n",
    "df['FuelType'] = df['FuelType'].str.replace('gasoline', 'petrol')\n",
    "\n",
    "df = df.drop_duplicates(ignore_index=True)"
   ]
  },
  {
   "cell_type": "markdown",
   "metadata": {},
   "source": [
    "The abnormal values were removed. The missing values were replaced. Split the data into training, validation, and test samples in the ratio 60:20:20:"
   ]
  },
  {
   "cell_type": "code",
   "execution_count": 7,
   "metadata": {},
   "outputs": [],
   "source": [
    "def split_set(df):\n",
    "    features_train, features_valid_test, target_train, target_valid_test = train_test_split(\n",
    "        df.drop('Price', axis=1), df.Price, test_size=0.4, random_state=12345)\n",
    "\n",
    "    features_valid, features_test, target_valid, target_test = train_test_split(\n",
    "        features_valid_test, target_valid_test, test_size=0.5, random_state=12345)\n",
    "    \n",
    "    return features_train, target_train, features_valid, target_valid, features_test, target_test\n",
    "\n",
    "features_train, target_train, features_valid, target_valid, features_test, target_test = split_set(df)\n",
    "\n",
    "cat_cols = list(features_train.select_dtypes(include=['object']).columns)\n",
    "num_cols = list(features_train._get_numeric_data().columns)"
   ]
  },
  {
   "cell_type": "markdown",
   "metadata": {},
   "source": [
    "Data prepared."
   ]
  },
  {
   "cell_type": "markdown",
   "metadata": {},
   "source": [
    "## Model training\n",
    "\n",
    "We will try models `LinearRegression`, `RandomForestRegressor`, `CatBoostRegressor`, `LGBMRegressor`.\n",
    "\n",
    "Helper functions:"
   ]
  },
  {
   "cell_type": "code",
   "execution_count": 30,
   "metadata": {},
   "outputs": [],
   "source": [
    "def get_model_params(model, featuret_train, target_train, features_valid, target_valid):\n",
    "    start = time.time()\n",
    "    model.fit(featuret_train, target_train)\n",
    "    time_fit = time.time() - start\n",
    "\n",
    "    start = time.time()\n",
    "    predictions = model.predict(features_valid)\n",
    "    time_predict = time.time() - start\n",
    "    \n",
    "    rmse = mean_squared_error(target_valid, predictions, squared=False)\n",
    "    \n",
    "    return time_fit, time_predict, rmse\n",
    "\n",
    "def display_model_params(model_name, time_fit, time_predict, rmse):\n",
    "    data = {\n",
    "        \"rmse\": rmse,\n",
    "        \"time fit\": time_fit,\n",
    "        \"time predict\": time_predict\n",
    "    }\n",
    "\n",
    "    models_analys = pd.DataFrame(data=data, index=[model_name])\n",
    "    display(models_analys)"
   ]
  },
  {
   "cell_type": "markdown",
   "metadata": {},
   "source": [
    "Different encoders works better for different models. `OneHotEncoder` for regressions, `OrdinalEncoder` for random forest, internal encoders for gradient boosting.\n",
    "\n",
    "Create column transformers to encode categorical columns and scale numerical columns:"
   ]
  },
  {
   "cell_type": "code",
   "execution_count": 9,
   "metadata": {},
   "outputs": [],
   "source": [
    "col_trans_ohe = ColumnTransformer(transformers=[\n",
    "    ('encoder', OneHotEncoder(handle_unknown='ignore'), cat_cols),\n",
    "    ('scaler', StandardScaler(), num_cols)\n",
    "])\n",
    "\n",
    "col_trans_oe = ColumnTransformer(transformers=[\n",
    "    ('encoder', OrdinalEncoder(handle_unknown='use_encoded_value', unknown_value=-1), cat_cols),\n",
    "    ('scaler', StandardScaler(), num_cols)\n",
    "])"
   ]
  },
  {
   "cell_type": "markdown",
   "metadata": {},
   "source": [
    "### LinearRegression"
   ]
  },
  {
   "cell_type": "code",
   "execution_count": 10,
   "metadata": {
    "scrolled": true
   },
   "outputs": [
    {
     "data": {
      "text/html": [
       "<style>#sk-container-id-1 {color: black;}#sk-container-id-1 pre{padding: 0;}#sk-container-id-1 div.sk-toggleable {background-color: white;}#sk-container-id-1 label.sk-toggleable__label {cursor: pointer;display: block;width: 100%;margin-bottom: 0;padding: 0.3em;box-sizing: border-box;text-align: center;}#sk-container-id-1 label.sk-toggleable__label-arrow:before {content: \"▸\";float: left;margin-right: 0.25em;color: #696969;}#sk-container-id-1 label.sk-toggleable__label-arrow:hover:before {color: black;}#sk-container-id-1 div.sk-estimator:hover label.sk-toggleable__label-arrow:before {color: black;}#sk-container-id-1 div.sk-toggleable__content {max-height: 0;max-width: 0;overflow: hidden;text-align: left;background-color: #f0f8ff;}#sk-container-id-1 div.sk-toggleable__content pre {margin: 0.2em;color: black;border-radius: 0.25em;background-color: #f0f8ff;}#sk-container-id-1 input.sk-toggleable__control:checked~div.sk-toggleable__content {max-height: 200px;max-width: 100%;overflow: auto;}#sk-container-id-1 input.sk-toggleable__control:checked~label.sk-toggleable__label-arrow:before {content: \"▾\";}#sk-container-id-1 div.sk-estimator input.sk-toggleable__control:checked~label.sk-toggleable__label {background-color: #d4ebff;}#sk-container-id-1 div.sk-label input.sk-toggleable__control:checked~label.sk-toggleable__label {background-color: #d4ebff;}#sk-container-id-1 input.sk-hidden--visually {border: 0;clip: rect(1px 1px 1px 1px);clip: rect(1px, 1px, 1px, 1px);height: 1px;margin: -1px;overflow: hidden;padding: 0;position: absolute;width: 1px;}#sk-container-id-1 div.sk-estimator {font-family: monospace;background-color: #f0f8ff;border: 1px dotted black;border-radius: 0.25em;box-sizing: border-box;margin-bottom: 0.5em;}#sk-container-id-1 div.sk-estimator:hover {background-color: #d4ebff;}#sk-container-id-1 div.sk-parallel-item::after {content: \"\";width: 100%;border-bottom: 1px solid gray;flex-grow: 1;}#sk-container-id-1 div.sk-label:hover label.sk-toggleable__label {background-color: #d4ebff;}#sk-container-id-1 div.sk-serial::before {content: \"\";position: absolute;border-left: 1px solid gray;box-sizing: border-box;top: 0;bottom: 0;left: 50%;z-index: 0;}#sk-container-id-1 div.sk-serial {display: flex;flex-direction: column;align-items: center;background-color: white;padding-right: 0.2em;padding-left: 0.2em;position: relative;}#sk-container-id-1 div.sk-item {position: relative;z-index: 1;}#sk-container-id-1 div.sk-parallel {display: flex;align-items: stretch;justify-content: center;background-color: white;position: relative;}#sk-container-id-1 div.sk-item::before, #sk-container-id-1 div.sk-parallel-item::before {content: \"\";position: absolute;border-left: 1px solid gray;box-sizing: border-box;top: 0;bottom: 0;left: 50%;z-index: -1;}#sk-container-id-1 div.sk-parallel-item {display: flex;flex-direction: column;z-index: 1;position: relative;background-color: white;}#sk-container-id-1 div.sk-parallel-item:first-child::after {align-self: flex-end;width: 50%;}#sk-container-id-1 div.sk-parallel-item:last-child::after {align-self: flex-start;width: 50%;}#sk-container-id-1 div.sk-parallel-item:only-child::after {width: 0;}#sk-container-id-1 div.sk-dashed-wrapped {border: 1px dashed gray;margin: 0 0.4em 0.5em 0.4em;box-sizing: border-box;padding-bottom: 0.4em;background-color: white;}#sk-container-id-1 div.sk-label label {font-family: monospace;font-weight: bold;display: inline-block;line-height: 1.2em;}#sk-container-id-1 div.sk-label-container {text-align: center;}#sk-container-id-1 div.sk-container {/* jupyter's `normalize.less` sets `[hidden] { display: none; }` but bootstrap.min.css set `[hidden] { display: none !important; }` so we also need the `!important` here to be able to override the default hidden behavior on the sphinx rendered scikit-learn.org. See: https://github.com/scikit-learn/scikit-learn/issues/21755 */display: inline-block !important;position: relative;}#sk-container-id-1 div.sk-text-repr-fallback {display: none;}</style><div id=\"sk-container-id-1\" class=\"sk-top-container\"><div class=\"sk-text-repr-fallback\"><pre>Pipeline(steps=[(&#x27;col_trans&#x27;,\n",
       "                 ColumnTransformer(transformers=[(&#x27;encoder&#x27;,\n",
       "                                                  OneHotEncoder(handle_unknown=&#x27;ignore&#x27;),\n",
       "                                                  [&#x27;VehicleType&#x27;, &#x27;Gearbox&#x27;,\n",
       "                                                   &#x27;Model&#x27;, &#x27;FuelType&#x27;, &#x27;Brand&#x27;,\n",
       "                                                   &#x27;Repaired&#x27;]),\n",
       "                                                 (&#x27;scaler&#x27;, StandardScaler(),\n",
       "                                                  [&#x27;RegistrationYear&#x27;, &#x27;Power&#x27;,\n",
       "                                                   &#x27;Kilometer&#x27;])])),\n",
       "                (&#x27;model&#x27;, LinearRegression())])</pre><b>In a Jupyter environment, please rerun this cell to show the HTML representation or trust the notebook. <br />On GitHub, the HTML representation is unable to render, please try loading this page with nbviewer.org.</b></div><div class=\"sk-container\" hidden><div class=\"sk-item sk-dashed-wrapped\"><div class=\"sk-label-container\"><div class=\"sk-label sk-toggleable\"><input class=\"sk-toggleable__control sk-hidden--visually\" id=\"sk-estimator-id-1\" type=\"checkbox\" ><label for=\"sk-estimator-id-1\" class=\"sk-toggleable__label sk-toggleable__label-arrow\">Pipeline</label><div class=\"sk-toggleable__content\"><pre>Pipeline(steps=[(&#x27;col_trans&#x27;,\n",
       "                 ColumnTransformer(transformers=[(&#x27;encoder&#x27;,\n",
       "                                                  OneHotEncoder(handle_unknown=&#x27;ignore&#x27;),\n",
       "                                                  [&#x27;VehicleType&#x27;, &#x27;Gearbox&#x27;,\n",
       "                                                   &#x27;Model&#x27;, &#x27;FuelType&#x27;, &#x27;Brand&#x27;,\n",
       "                                                   &#x27;Repaired&#x27;]),\n",
       "                                                 (&#x27;scaler&#x27;, StandardScaler(),\n",
       "                                                  [&#x27;RegistrationYear&#x27;, &#x27;Power&#x27;,\n",
       "                                                   &#x27;Kilometer&#x27;])])),\n",
       "                (&#x27;model&#x27;, LinearRegression())])</pre></div></div></div><div class=\"sk-serial\"><div class=\"sk-item sk-dashed-wrapped\"><div class=\"sk-label-container\"><div class=\"sk-label sk-toggleable\"><input class=\"sk-toggleable__control sk-hidden--visually\" id=\"sk-estimator-id-2\" type=\"checkbox\" ><label for=\"sk-estimator-id-2\" class=\"sk-toggleable__label sk-toggleable__label-arrow\">col_trans: ColumnTransformer</label><div class=\"sk-toggleable__content\"><pre>ColumnTransformer(transformers=[(&#x27;encoder&#x27;,\n",
       "                                 OneHotEncoder(handle_unknown=&#x27;ignore&#x27;),\n",
       "                                 [&#x27;VehicleType&#x27;, &#x27;Gearbox&#x27;, &#x27;Model&#x27;, &#x27;FuelType&#x27;,\n",
       "                                  &#x27;Brand&#x27;, &#x27;Repaired&#x27;]),\n",
       "                                (&#x27;scaler&#x27;, StandardScaler(),\n",
       "                                 [&#x27;RegistrationYear&#x27;, &#x27;Power&#x27;, &#x27;Kilometer&#x27;])])</pre></div></div></div><div class=\"sk-parallel\"><div class=\"sk-parallel-item\"><div class=\"sk-item\"><div class=\"sk-label-container\"><div class=\"sk-label sk-toggleable\"><input class=\"sk-toggleable__control sk-hidden--visually\" id=\"sk-estimator-id-3\" type=\"checkbox\" ><label for=\"sk-estimator-id-3\" class=\"sk-toggleable__label sk-toggleable__label-arrow\">encoder</label><div class=\"sk-toggleable__content\"><pre>[&#x27;VehicleType&#x27;, &#x27;Gearbox&#x27;, &#x27;Model&#x27;, &#x27;FuelType&#x27;, &#x27;Brand&#x27;, &#x27;Repaired&#x27;]</pre></div></div></div><div class=\"sk-serial\"><div class=\"sk-item\"><div class=\"sk-estimator sk-toggleable\"><input class=\"sk-toggleable__control sk-hidden--visually\" id=\"sk-estimator-id-4\" type=\"checkbox\" ><label for=\"sk-estimator-id-4\" class=\"sk-toggleable__label sk-toggleable__label-arrow\">OneHotEncoder</label><div class=\"sk-toggleable__content\"><pre>OneHotEncoder(handle_unknown=&#x27;ignore&#x27;)</pre></div></div></div></div></div></div><div class=\"sk-parallel-item\"><div class=\"sk-item\"><div class=\"sk-label-container\"><div class=\"sk-label sk-toggleable\"><input class=\"sk-toggleable__control sk-hidden--visually\" id=\"sk-estimator-id-5\" type=\"checkbox\" ><label for=\"sk-estimator-id-5\" class=\"sk-toggleable__label sk-toggleable__label-arrow\">scaler</label><div class=\"sk-toggleable__content\"><pre>[&#x27;RegistrationYear&#x27;, &#x27;Power&#x27;, &#x27;Kilometer&#x27;]</pre></div></div></div><div class=\"sk-serial\"><div class=\"sk-item\"><div class=\"sk-estimator sk-toggleable\"><input class=\"sk-toggleable__control sk-hidden--visually\" id=\"sk-estimator-id-6\" type=\"checkbox\" ><label for=\"sk-estimator-id-6\" class=\"sk-toggleable__label sk-toggleable__label-arrow\">StandardScaler</label><div class=\"sk-toggleable__content\"><pre>StandardScaler()</pre></div></div></div></div></div></div></div></div><div class=\"sk-item\"><div class=\"sk-estimator sk-toggleable\"><input class=\"sk-toggleable__control sk-hidden--visually\" id=\"sk-estimator-id-7\" type=\"checkbox\" ><label for=\"sk-estimator-id-7\" class=\"sk-toggleable__label sk-toggleable__label-arrow\">LinearRegression</label><div class=\"sk-toggleable__content\"><pre>LinearRegression()</pre></div></div></div></div></div></div></div>"
      ],
      "text/plain": [
       "Pipeline(steps=[('col_trans',\n",
       "                 ColumnTransformer(transformers=[('encoder',\n",
       "                                                  OneHotEncoder(handle_unknown='ignore'),\n",
       "                                                  ['VehicleType', 'Gearbox',\n",
       "                                                   'Model', 'FuelType', 'Brand',\n",
       "                                                   'Repaired']),\n",
       "                                                 ('scaler', StandardScaler(),\n",
       "                                                  ['RegistrationYear', 'Power',\n",
       "                                                   'Kilometer'])])),\n",
       "                ('model', LinearRegression())])"
      ]
     },
     "execution_count": 10,
     "metadata": {},
     "output_type": "execute_result"
    }
   ],
   "source": [
    "pipeline_lr = Pipeline(steps=[\n",
    "    ('col_trans', col_trans_ohe),\n",
    "    ('model', LinearRegression())\n",
    "])\n",
    "\n",
    "pipeline_lr.fit(features_train, target_train)"
   ]
  },
  {
   "cell_type": "code",
   "execution_count": 11,
   "metadata": {},
   "outputs": [
    {
     "data": {
      "text/html": [
       "<div>\n",
       "<style scoped>\n",
       "    .dataframe tbody tr th:only-of-type {\n",
       "        vertical-align: middle;\n",
       "    }\n",
       "\n",
       "    .dataframe tbody tr th {\n",
       "        vertical-align: top;\n",
       "    }\n",
       "\n",
       "    .dataframe thead th {\n",
       "        text-align: right;\n",
       "    }\n",
       "</style>\n",
       "<table border=\"1\" class=\"dataframe\">\n",
       "  <thead>\n",
       "    <tr style=\"text-align: right;\">\n",
       "      <th></th>\n",
       "      <th>rmse</th>\n",
       "      <th>time fit</th>\n",
       "      <th>time predict</th>\n",
       "    </tr>\n",
       "  </thead>\n",
       "  <tbody>\n",
       "    <tr>\n",
       "      <th>LinearRegression</th>\n",
       "      <td>2563.239676</td>\n",
       "      <td>1.892919</td>\n",
       "      <td>0.088018</td>\n",
       "    </tr>\n",
       "  </tbody>\n",
       "</table>\n",
       "</div>"
      ],
      "text/plain": [
       "                         rmse  time fit  time predict\n",
       "LinearRegression  2563.239676  1.892919      0.088018"
      ]
     },
     "metadata": {},
     "output_type": "display_data"
    }
   ],
   "source": [
    "time_fit_lr, time_predict_lr, rmse_lr = get_model_params(pipeline_lr, features_train, target_train, features_valid, target_valid)\n",
    "display_model_params('LinearRegression', time_fit_lr, time_predict_lr, rmse_lr)"
   ]
  },
  {
   "cell_type": "markdown",
   "metadata": {},
   "source": [
    "High value of RMSE. Let's try the methods of regularization of linear regression: Lasso and Ridge."
   ]
  },
  {
   "cell_type": "markdown",
   "metadata": {},
   "source": [
    "### Lasso"
   ]
  },
  {
   "cell_type": "code",
   "execution_count": 12,
   "metadata": {},
   "outputs": [
    {
     "name": "stderr",
     "output_type": "stream",
     "text": [
      "C:\\Users\\Maria\\anaconda3\\lib\\site-packages\\sklearn\\linear_model\\_coordinate_descent.py:589: ConvergenceWarning: Objective did not converge. You might want to increase the number of iterations. Duality gap: 251752257518.9325, tolerance: 316469265.19587904\n",
      "  model = cd_fast.sparse_enet_coordinate_descent(\n"
     ]
    }
   ],
   "source": [
    "params_lasso = {'model__alpha': [1e-15,1e-10,1e-8,1e-3,1e-2,1,5]}\n",
    "\n",
    "pipeline_lasso = Pipeline(steps=[\n",
    "    ('col_trans', col_trans_ohe),\n",
    "    ('model', Lasso(random_state=12345))\n",
    "])\n",
    "\n",
    "grid_pipeline_lasso = GridSearchCV(pipeline_lasso, params_lasso, scoring='neg_root_mean_squared_error', n_jobs=-1)\n",
    "grid_pipeline_lasso.fit(features_train, target_train)\n",
    "best_lasso = grid_pipeline_lasso.best_estimator_"
   ]
  },
  {
   "cell_type": "code",
   "execution_count": 13,
   "metadata": {},
   "outputs": [
    {
     "name": "stderr",
     "output_type": "stream",
     "text": [
      "C:\\Users\\Maria\\anaconda3\\lib\\site-packages\\sklearn\\linear_model\\_coordinate_descent.py:589: ConvergenceWarning: Objective did not converge. You might want to increase the number of iterations. Duality gap: 251752257518.9325, tolerance: 316469265.19587904\n",
      "  model = cd_fast.sparse_enet_coordinate_descent(\n"
     ]
    },
    {
     "data": {
      "text/html": [
       "<div>\n",
       "<style scoped>\n",
       "    .dataframe tbody tr th:only-of-type {\n",
       "        vertical-align: middle;\n",
       "    }\n",
       "\n",
       "    .dataframe tbody tr th {\n",
       "        vertical-align: top;\n",
       "    }\n",
       "\n",
       "    .dataframe thead th {\n",
       "        text-align: right;\n",
       "    }\n",
       "</style>\n",
       "<table border=\"1\" class=\"dataframe\">\n",
       "  <thead>\n",
       "    <tr style=\"text-align: right;\">\n",
       "      <th></th>\n",
       "      <th>rmse</th>\n",
       "      <th>time fit</th>\n",
       "      <th>time predict</th>\n",
       "    </tr>\n",
       "  </thead>\n",
       "  <tbody>\n",
       "    <tr>\n",
       "      <th>Lasso</th>\n",
       "      <td>2563.298641</td>\n",
       "      <td>98.892271</td>\n",
       "      <td>0.084019</td>\n",
       "    </tr>\n",
       "  </tbody>\n",
       "</table>\n",
       "</div>"
      ],
      "text/plain": [
       "              rmse   time fit  time predict\n",
       "Lasso  2563.298641  98.892271      0.084019"
      ]
     },
     "metadata": {},
     "output_type": "display_data"
    }
   ],
   "source": [
    "time_fit_lasso, time_predict_lasso, rmse_lasso = get_model_params(best_lasso, features_train, target_train, features_valid, target_valid)\n",
    "display_model_params('Lasso', time_fit_lasso, time_predict_lasso, rmse_lasso)"
   ]
  },
  {
   "cell_type": "markdown",
   "metadata": {},
   "source": [
    "### Ridge"
   ]
  },
  {
   "cell_type": "code",
   "execution_count": 14,
   "metadata": {},
   "outputs": [],
   "source": [
    "params_ridge = {'model__alpha': [1e-15,1e-10,1e-8,1e-3,1e-2,1,5]}\n",
    "\n",
    "pipeline_ridge = Pipeline(steps=[\n",
    "    ('col_trans', col_trans_ohe),\n",
    "    ('model', Ridge(random_state=12345))\n",
    "])\n",
    "\n",
    "grid_pipeline_ridge = GridSearchCV(pipeline_ridge, params_ridge, scoring='neg_root_mean_squared_error', n_jobs=-1)\n",
    "grid_pipeline_ridge.fit(features_train, target_train)\n",
    "best_ridge = grid_pipeline_ridge.best_estimator_"
   ]
  },
  {
   "cell_type": "code",
   "execution_count": 15,
   "metadata": {},
   "outputs": [
    {
     "data": {
      "text/html": [
       "<div>\n",
       "<style scoped>\n",
       "    .dataframe tbody tr th:only-of-type {\n",
       "        vertical-align: middle;\n",
       "    }\n",
       "\n",
       "    .dataframe tbody tr th {\n",
       "        vertical-align: top;\n",
       "    }\n",
       "\n",
       "    .dataframe thead th {\n",
       "        text-align: right;\n",
       "    }\n",
       "</style>\n",
       "<table border=\"1\" class=\"dataframe\">\n",
       "  <thead>\n",
       "    <tr style=\"text-align: right;\">\n",
       "      <th></th>\n",
       "      <th>rmse</th>\n",
       "      <th>time fit</th>\n",
       "      <th>time predict</th>\n",
       "    </tr>\n",
       "  </thead>\n",
       "  <tbody>\n",
       "    <tr>\n",
       "      <th>Ridge</th>\n",
       "      <td>2563.56468</td>\n",
       "      <td>0.810986</td>\n",
       "      <td>0.096022</td>\n",
       "    </tr>\n",
       "  </tbody>\n",
       "</table>\n",
       "</div>"
      ],
      "text/plain": [
       "             rmse  time fit  time predict\n",
       "Ridge  2563.56468  0.810986      0.096022"
      ]
     },
     "metadata": {},
     "output_type": "display_data"
    }
   ],
   "source": [
    "time_fit_ridge, time_predict_ridge, rmse_ridge = get_model_params(best_ridge, features_train, target_train, features_valid, target_valid)\n",
    "display_model_params('Ridge', time_fit_ridge, time_predict_ridge, rmse_ridge)"
   ]
  },
  {
   "cell_type": "markdown",
   "metadata": {},
   "source": [
    "Lasso and Ridge did not give better results compared to linear regression without regularization."
   ]
  },
  {
   "cell_type": "markdown",
   "metadata": {},
   "source": [
    "### RandomForestRegressor"
   ]
  },
  {
   "cell_type": "code",
   "execution_count": 16,
   "metadata": {},
   "outputs": [],
   "source": [
    "params_rf = {'model__n_estimators': [100, 300, 500]}\n",
    "\n",
    "pipeline_rf = Pipeline(steps=[\n",
    "    ('col_trans', col_trans_oe),\n",
    "    ('model', RandomForestRegressor(n_jobs=-1, random_state=12345))\n",
    "])\n",
    "\n",
    "grid_pipeline_rf = GridSearchCV(pipeline_rf, params_rf)\n",
    "grid_pipeline_rf.fit(features_train, target_train)\n",
    "best_rf = grid_pipeline_rf.best_estimator_"
   ]
  },
  {
   "cell_type": "code",
   "execution_count": 17,
   "metadata": {},
   "outputs": [
    {
     "data": {
      "text/html": [
       "<div>\n",
       "<style scoped>\n",
       "    .dataframe tbody tr th:only-of-type {\n",
       "        vertical-align: middle;\n",
       "    }\n",
       "\n",
       "    .dataframe tbody tr th {\n",
       "        vertical-align: top;\n",
       "    }\n",
       "\n",
       "    .dataframe thead th {\n",
       "        text-align: right;\n",
       "    }\n",
       "</style>\n",
       "<table border=\"1\" class=\"dataframe\">\n",
       "  <thead>\n",
       "    <tr style=\"text-align: right;\">\n",
       "      <th></th>\n",
       "      <th>rmse</th>\n",
       "      <th>time fit</th>\n",
       "      <th>time predict</th>\n",
       "    </tr>\n",
       "  </thead>\n",
       "  <tbody>\n",
       "    <tr>\n",
       "      <th>RandomForestRegressor</th>\n",
       "      <td>1679.450033</td>\n",
       "      <td>28.775242</td>\n",
       "      <td>1.377692</td>\n",
       "    </tr>\n",
       "  </tbody>\n",
       "</table>\n",
       "</div>"
      ],
      "text/plain": [
       "                              rmse   time fit  time predict\n",
       "RandomForestRegressor  1679.450033  28.775242      1.377692"
      ]
     },
     "metadata": {},
     "output_type": "display_data"
    }
   ],
   "source": [
    "time_fit_rf, time_predict_rf, rmse_rf = get_model_params(best_rf, features_train, target_train, features_valid, target_valid)\n",
    "display_model_params('RandomForestRegressor', time_fit_rf, time_predict_rf, rmse_rf)"
   ]
  },
  {
   "cell_type": "markdown",
   "metadata": {},
   "source": [
    "### CatBoostRegressor"
   ]
  },
  {
   "cell_type": "code",
   "execution_count": 18,
   "metadata": {},
   "outputs": [],
   "source": [
    "params_cb = {'depth': [6,8,10],\n",
    "             'learning_rate' : [0.01, 0.05, 0.1],\n",
    "             'iterations' : [30, 50, 100]\n",
    "            }\n",
    "\n",
    "grid_cb = GridSearchCV(estimator=CatBoostRegressor(loss_function=\"RMSE\", cat_features=cat_cols, silent=True, random_state=12345), param_grid = params_cb)\n",
    "grid_cb.fit(features_train, target_train)\n",
    "best_cb = grid_cb.best_estimator_"
   ]
  },
  {
   "cell_type": "code",
   "execution_count": 19,
   "metadata": {},
   "outputs": [
    {
     "data": {
      "text/html": [
       "<div>\n",
       "<style scoped>\n",
       "    .dataframe tbody tr th:only-of-type {\n",
       "        vertical-align: middle;\n",
       "    }\n",
       "\n",
       "    .dataframe tbody tr th {\n",
       "        vertical-align: top;\n",
       "    }\n",
       "\n",
       "    .dataframe thead th {\n",
       "        text-align: right;\n",
       "    }\n",
       "</style>\n",
       "<table border=\"1\" class=\"dataframe\">\n",
       "  <thead>\n",
       "    <tr style=\"text-align: right;\">\n",
       "      <th></th>\n",
       "      <th>rmse</th>\n",
       "      <th>time fit</th>\n",
       "      <th>time predict</th>\n",
       "    </tr>\n",
       "  </thead>\n",
       "  <tbody>\n",
       "    <tr>\n",
       "      <th>CatBoostRegressor</th>\n",
       "      <td>1689.863618</td>\n",
       "      <td>10.257618</td>\n",
       "      <td>0.10099</td>\n",
       "    </tr>\n",
       "  </tbody>\n",
       "</table>\n",
       "</div>"
      ],
      "text/plain": [
       "                          rmse   time fit  time predict\n",
       "CatBoostRegressor  1689.863618  10.257618       0.10099"
      ]
     },
     "metadata": {},
     "output_type": "display_data"
    }
   ],
   "source": [
    "time_fit_cb, time_predict_cb, rmse_cb = get_model_params(best_cb, features_train, target_train, features_valid, target_valid)\n",
    "display_model_params('CatBoostRegressor', time_fit_cb, time_predict_cb, rmse_cb)"
   ]
  },
  {
   "cell_type": "markdown",
   "metadata": {},
   "source": [
    "### LGBMRegressor"
   ]
  },
  {
   "cell_type": "code",
   "execution_count": 20,
   "metadata": {},
   "outputs": [],
   "source": [
    "def convert_dtype(type_before, type_after, df):\n",
    "    for c in df.columns:\n",
    "        col_type = df[c].dtype\n",
    "        if col_type == type_before:\n",
    "            df[c] = df[c].astype(type_after)\n",
    "    return df\n",
    "\n",
    "df_conv = convert_dtype(\"object\", \"category\", df)\n",
    "features_train_conv, target_train_conv, features_valid_conv, target_valid_conv, features_test_conv, target_test_conv = split_set(df_conv)"
   ]
  },
  {
   "cell_type": "code",
   "execution_count": 21,
   "metadata": {},
   "outputs": [
    {
     "name": "stdout",
     "output_type": "stream",
     "text": [
      "[LightGBM] [Warning] Auto-choosing row-wise multi-threading, the overhead of testing was 0.004175 seconds.\n",
      "You can set `force_row_wise=true` to remove the overhead.\n",
      "And if memory is not enough, you can set `force_col_wise=true`.\n",
      "[LightGBM] [Info] Total Bins 613\n",
      "[LightGBM] [Info] Number of data points in the train set: 145840, number of used features: 9\n",
      "[LightGBM] [Info] Start training from score 5093.990483\n"
     ]
    }
   ],
   "source": [
    "params_lgbm = {\n",
    "    'num_leaves': [7, 14, 21, 28, 31, 50],\n",
    "    'learning_rate': [0.1, 0.03, 0.003],\n",
    "    'max_depth': [-1, 3, 5],\n",
    "    'n_estimators': [50, 100, 200, 500]\n",
    "}\n",
    "\n",
    "grid_lgbm = GridSearchCV(estimator=lgb.LGBMRegressor(random_state=12345), param_grid = params_lgbm, n_jobs=-1, verbose=False)\n",
    "grid_lgbm.fit(features_train_conv, target_train_conv)\n",
    "best_lgbm = grid_lgbm.best_estimator_"
   ]
  },
  {
   "cell_type": "code",
   "execution_count": 22,
   "metadata": {},
   "outputs": [
    {
     "name": "stdout",
     "output_type": "stream",
     "text": [
      "[LightGBM] [Warning] Auto-choosing row-wise multi-threading, the overhead of testing was 0.004340 seconds.\n",
      "You can set `force_row_wise=true` to remove the overhead.\n",
      "And if memory is not enough, you can set `force_col_wise=true`.\n",
      "[LightGBM] [Info] Total Bins 613\n",
      "[LightGBM] [Info] Number of data points in the train set: 145840, number of used features: 9\n",
      "[LightGBM] [Info] Start training from score 5093.990483\n"
     ]
    },
    {
     "data": {
      "text/html": [
       "<div>\n",
       "<style scoped>\n",
       "    .dataframe tbody tr th:only-of-type {\n",
       "        vertical-align: middle;\n",
       "    }\n",
       "\n",
       "    .dataframe tbody tr th {\n",
       "        vertical-align: top;\n",
       "    }\n",
       "\n",
       "    .dataframe thead th {\n",
       "        text-align: right;\n",
       "    }\n",
       "</style>\n",
       "<table border=\"1\" class=\"dataframe\">\n",
       "  <thead>\n",
       "    <tr style=\"text-align: right;\">\n",
       "      <th></th>\n",
       "      <th>rmse</th>\n",
       "      <th>time fit</th>\n",
       "      <th>time predict</th>\n",
       "    </tr>\n",
       "  </thead>\n",
       "  <tbody>\n",
       "    <tr>\n",
       "      <th>LGBMRegressor</th>\n",
       "      <td>1563.299125</td>\n",
       "      <td>1.675272</td>\n",
       "      <td>0.321655</td>\n",
       "    </tr>\n",
       "  </tbody>\n",
       "</table>\n",
       "</div>"
      ],
      "text/plain": [
       "                      rmse  time fit  time predict\n",
       "LGBMRegressor  1563.299125  1.675272      0.321655"
      ]
     },
     "metadata": {},
     "output_type": "display_data"
    }
   ],
   "source": [
    "time_fit_lgbm, time_predict_lgbm, rmse_lgbm = get_model_params(best_lgbm, features_train_conv, target_train_conv, features_valid_conv, target_valid_conv)\n",
    "display_model_params('LGBMRegressor', time_fit_lgbm, time_predict_lgbm, rmse_lgbm)"
   ]
  },
  {
   "cell_type": "markdown",
   "metadata": {},
   "source": [
    "## Model analysis"
   ]
  },
  {
   "cell_type": "markdown",
   "metadata": {},
   "source": [
    "Let's compare the RMSE quality metric, training time and prediction time:"
   ]
  },
  {
   "cell_type": "code",
   "execution_count": 23,
   "metadata": {},
   "outputs": [
    {
     "data": {
      "text/html": [
       "<div>\n",
       "<style scoped>\n",
       "    .dataframe tbody tr th:only-of-type {\n",
       "        vertical-align: middle;\n",
       "    }\n",
       "\n",
       "    .dataframe tbody tr th {\n",
       "        vertical-align: top;\n",
       "    }\n",
       "\n",
       "    .dataframe thead th {\n",
       "        text-align: right;\n",
       "    }\n",
       "</style>\n",
       "<table border=\"1\" class=\"dataframe\">\n",
       "  <thead>\n",
       "    <tr style=\"text-align: right;\">\n",
       "      <th></th>\n",
       "      <th>RMSE</th>\n",
       "      <th>time_fit</th>\n",
       "      <th>time_predict</th>\n",
       "    </tr>\n",
       "  </thead>\n",
       "  <tbody>\n",
       "    <tr>\n",
       "      <th>LinearRegression</th>\n",
       "      <td>2563.239676</td>\n",
       "      <td>1.892919</td>\n",
       "      <td>0.088018</td>\n",
       "    </tr>\n",
       "    <tr>\n",
       "      <th>Lasso</th>\n",
       "      <td>2563.298641</td>\n",
       "      <td>98.892271</td>\n",
       "      <td>0.084019</td>\n",
       "    </tr>\n",
       "    <tr>\n",
       "      <th>Ridge</th>\n",
       "      <td>2563.564680</td>\n",
       "      <td>0.810986</td>\n",
       "      <td>0.096022</td>\n",
       "    </tr>\n",
       "    <tr>\n",
       "      <th>RandomForest</th>\n",
       "      <td>1679.450033</td>\n",
       "      <td>28.775242</td>\n",
       "      <td>1.377692</td>\n",
       "    </tr>\n",
       "    <tr>\n",
       "      <th>CatBoost</th>\n",
       "      <td>1689.863618</td>\n",
       "      <td>10.257618</td>\n",
       "      <td>0.100990</td>\n",
       "    </tr>\n",
       "    <tr>\n",
       "      <th>LGBMRegressor</th>\n",
       "      <td>1563.299125</td>\n",
       "      <td>1.675272</td>\n",
       "      <td>0.321655</td>\n",
       "    </tr>\n",
       "  </tbody>\n",
       "</table>\n",
       "</div>"
      ],
      "text/plain": [
       "                         RMSE   time_fit  time_predict\n",
       "LinearRegression  2563.239676   1.892919      0.088018\n",
       "Lasso             2563.298641  98.892271      0.084019\n",
       "Ridge             2563.564680   0.810986      0.096022\n",
       "RandomForest      1679.450033  28.775242      1.377692\n",
       "CatBoost          1689.863618  10.257618      0.100990\n",
       "LGBMRegressor     1563.299125   1.675272      0.321655"
      ]
     },
     "metadata": {},
     "output_type": "display_data"
    }
   ],
   "source": [
    "data = {\n",
    "    \"RMSE\": [rmse_lr, rmse_lasso, rmse_ridge, rmse_rf, rmse_cb, rmse_lgbm],\n",
    "    \"time_fit\": [time_fit_lr, time_fit_lasso, time_fit_ridge, time_fit_rf, time_fit_cb, time_fit_lgbm],\n",
    "    \"time_predict\": [time_predict_lr, time_predict_lasso, time_predict_ridge, time_predict_rf, time_predict_cb, time_predict_lgbm]\n",
    "}\n",
    "\n",
    "models_analys = pd.DataFrame(data=data, index=[\"LinearRegression\", \"Lasso\", \"Ridge\", \"RandomForest\", \"CatBoost\", \"LGBMRegressor\"])\n",
    "display(models_analys)"
   ]
  },
  {
   "cell_type": "markdown",
   "metadata": {},
   "source": [
    "The `LGBMRegressor` model has the best combination of customer's criteria (RMSE metric, training time and prediction time). I recommend this model to customer. Let's check its quality on a test sample:"
   ]
  },
  {
   "cell_type": "code",
   "execution_count": 26,
   "metadata": {
    "scrolled": true
   },
   "outputs": [
    {
     "name": "stdout",
     "output_type": "stream",
     "text": [
      "[LightGBM] [Warning] Auto-choosing row-wise multi-threading, the overhead of testing was 0.004249 seconds.\n",
      "You can set `force_row_wise=true` to remove the overhead.\n",
      "And if memory is not enough, you can set `force_col_wise=true`.\n",
      "[LightGBM] [Info] Total Bins 615\n",
      "[LightGBM] [Info] Number of data points in the train set: 194453, number of used features: 9\n",
      "[LightGBM] [Info] Start training from score 5102.093138\n"
     ]
    },
    {
     "data": {
      "text/html": [
       "<div>\n",
       "<style scoped>\n",
       "    .dataframe tbody tr th:only-of-type {\n",
       "        vertical-align: middle;\n",
       "    }\n",
       "\n",
       "    .dataframe tbody tr th {\n",
       "        vertical-align: top;\n",
       "    }\n",
       "\n",
       "    .dataframe thead th {\n",
       "        text-align: right;\n",
       "    }\n",
       "</style>\n",
       "<table border=\"1\" class=\"dataframe\">\n",
       "  <thead>\n",
       "    <tr style=\"text-align: right;\">\n",
       "      <th></th>\n",
       "      <th>rmse</th>\n",
       "      <th>time fit</th>\n",
       "      <th>time predict</th>\n",
       "    </tr>\n",
       "  </thead>\n",
       "  <tbody>\n",
       "    <tr>\n",
       "      <th>LGBMRegressor test</th>\n",
       "      <td>1534.897844</td>\n",
       "      <td>1.927732</td>\n",
       "      <td>0.300575</td>\n",
       "    </tr>\n",
       "  </tbody>\n",
       "</table>\n",
       "</div>"
      ],
      "text/plain": [
       "                           rmse  time fit  time predict\n",
       "LGBMRegressor test  1534.897844  1.927732      0.300575"
      ]
     },
     "metadata": {},
     "output_type": "display_data"
    }
   ],
   "source": [
    "features_union_train_valid_conv = pd.concat([features_train_conv, features_valid_conv])\n",
    "target_union_train_valid_conv = pd.concat([target_train_conv, target_valid_conv])\n",
    "\n",
    "time_fit_lgbm_test, time_predict_lgbm_test, rmse_lgbm_test = get_model_params(best_lgbm, features_union_train_valid_conv, target_union_train_valid_conv, features_test_conv, target_test_conv)\n",
    "display_model_params('LGBMRegressor test', time_fit_lgbm_test, time_predict_lgbm_test, rmse_lgbm_test)"
   ]
  },
  {
   "cell_type": "markdown",
   "metadata": {},
   "source": [
    "There is a good quality on the test data. Let's look at the importance of factors for the model:"
   ]
  },
  {
   "cell_type": "code",
   "execution_count": 29,
   "metadata": {},
   "outputs": [
    {
     "data": {
      "text/plain": [
       "<Axes: >"
      ]
     },
     "execution_count": 29,
     "metadata": {},
     "output_type": "execute_result"
    },
    {
     "data": {
      "image/png": "[encoded data removed]",
      "text/plain": [
       "<Figure size 640x480 with 1 Axes>"
      ]
     },
     "metadata": {},
     "output_type": "display_data"
    }
   ],
   "source": [
    "pd.Series(best_lgbm.feature_importances_, index=features_union_train_valid_conv.columns).plot(kind='barh')"
   ]
  },
  {
   "cell_type": "markdown",
   "metadata": {},
   "source": [
    "The most important factors are `Power` and `RegistrationYear' (year of registration of the car)."
   ]
  },
  {
   "cell_type": "markdown",
   "metadata": {},
   "source": [
    "## Conclusion"
   ]
  },
  {
   "cell_type": "markdown",
   "metadata": {},
   "source": [
    "- Preprocessed the data. I found and removed anomalies, filled in missing values. Deleted duplicates and removed unnecessary features.\n",
    "- I trained several models with the tuning of hyperparameters. Chose the best model for customer's criteria: prediction quality, training time and prediction time.\n",
    "- The LGBMRegressor model turned out to be the best of all. The value of the RMSE metric = 1535 in the test sample, the training time is 1.93 seconds, the prediction time is 0.3 seconds."
   ]
  }
 ],
 "metadata": {
  "ExecuteTimeLog": [
   {
    "duration": 1066,
    "start_time": "2023-07-17T13:17:26.515Z"
   },
   {
    "duration": 1118,
    "start_time": "2023-07-17T13:20:15.268Z"
   },
   {
    "duration": 17084,
    "start_time": "2023-07-17T13:20:32.454Z"
   },
   {
    "duration": 1124,
    "start_time": "2023-07-17T13:20:49.540Z"
   },
   {
    "duration": 120,
    "start_time": "2023-07-17T13:21:24.117Z"
   },
   {
    "duration": 33147,
    "start_time": "2023-07-17T13:22:13.617Z"
   },
   {
    "duration": 842,
    "start_time": "2023-07-17T13:23:03.162Z"
   },
   {
    "duration": 3,
    "start_time": "2023-07-17T13:24:23.517Z"
   },
   {
    "duration": 28043,
    "start_time": "2023-07-17T13:24:26.952Z"
   },
   {
    "duration": 5209,
    "start_time": "2023-07-17T13:27:26.047Z"
   },
   {
    "duration": 4065,
    "start_time": "2023-07-17T13:27:41.470Z"
   },
   {
    "duration": 29760,
    "start_time": "2023-07-17T13:27:53.882Z"
   },
   {
    "duration": 4710,
    "start_time": "2023-07-17T13:28:39.060Z"
   },
   {
    "duration": 890,
    "start_time": "2023-07-17T13:28:45.279Z"
   },
   {
    "duration": 166,
    "start_time": "2023-07-17T13:28:47.443Z"
   },
   {
    "duration": 35257,
    "start_time": "2023-07-17T13:28:59.396Z"
   },
   {
    "duration": 2044,
    "start_time": "2023-07-17T13:29:43.187Z"
   },
   {
    "duration": 454,
    "start_time": "2023-07-17T14:35:51.121Z"
   },
   {
    "duration": 139,
    "start_time": "2023-07-17T17:03:35.046Z"
   },
   {
    "duration": 611,
    "start_time": "2023-07-17T17:03:38.250Z"
   },
   {
    "duration": 4454,
    "start_time": "2023-07-17T17:03:39.017Z"
   },
   {
    "duration": 624,
    "start_time": "2023-07-17T17:03:43.473Z"
   },
   {
    "duration": 828,
    "start_time": "2023-07-17T17:03:47.039Z"
   },
   {
    "duration": 664,
    "start_time": "2023-07-17T17:03:50.817Z"
   },
   {
    "duration": 701,
    "start_time": "2023-07-17T17:03:56.764Z"
   },
   {
    "duration": 858,
    "start_time": "2023-07-17T17:03:59.683Z"
   },
   {
    "duration": 59,
    "start_time": "2023-07-17T17:05:18.303Z"
   },
   {
    "duration": 8,
    "start_time": "2023-07-17T17:05:56.813Z"
   },
   {
    "duration": 25588,
    "start_time": "2023-07-17T17:06:20.609Z"
   },
   {
    "duration": 11486,
    "start_time": "2023-07-17T17:06:46.199Z"
   },
   {
    "duration": 54322,
    "start_time": "2023-07-17T17:07:02.046Z"
   },
   {
    "duration": 114,
    "start_time": "2023-07-17T17:09:48.102Z"
   },
   {
    "duration": 187,
    "start_time": "2023-07-17T17:10:16.610Z"
   },
   {
    "duration": 164,
    "start_time": "2023-07-17T17:10:37.566Z"
   },
   {
    "duration": 3540,
    "start_time": "2023-07-17T17:13:18.907Z"
   },
   {
    "duration": 1507,
    "start_time": "2023-07-17T17:13:26.874Z"
   },
   {
    "duration": 46199,
    "start_time": "2023-07-17T17:13:30.934Z"
   },
   {
    "duration": 121810,
    "start_time": "2023-07-17T17:14:38.347Z"
   },
   {
    "duration": 1393,
    "start_time": "2023-07-17T17:16:40.160Z"
   },
   {
    "duration": 3816,
    "start_time": "2023-07-17T17:16:56.413Z"
   },
   {
    "duration": 1485,
    "start_time": "2023-07-17T17:17:03.452Z"
   },
   {
    "duration": 49471,
    "start_time": "2023-07-17T17:17:11.862Z"
   },
   {
    "duration": 3791,
    "start_time": "2023-07-17T17:31:04.462Z"
   },
   {
    "duration": 6992,
    "start_time": "2023-07-17T17:31:13.381Z"
   },
   {
    "duration": 6077,
    "start_time": "2023-07-17T17:31:34.019Z"
   },
   {
    "duration": 1106,
    "start_time": "2023-07-17T17:31:42.983Z"
   },
   {
    "duration": 53818,
    "start_time": "2023-07-17T17:31:45.693Z"
   },
   {
    "duration": 80,
    "start_time": "2023-07-18T11:32:21.507Z"
   },
   {
    "duration": 439,
    "start_time": "2023-07-18T11:32:27.878Z"
   },
   {
    "duration": 5584,
    "start_time": "2023-07-18T11:32:39.964Z"
   },
   {
    "duration": 4211,
    "start_time": "2023-07-18T11:32:45.550Z"
   },
   {
    "duration": 16444,
    "start_time": "2023-07-18T11:32:52.648Z"
   },
   {
    "duration": 9051,
    "start_time": "2023-07-18T11:33:18.821Z"
   },
   {
    "duration": 1118,
    "start_time": "2023-07-18T11:34:01.914Z"
   },
   {
    "duration": 35165,
    "start_time": "2023-07-18T11:34:05.456Z"
   },
   {
    "duration": 444,
    "start_time": "2023-07-18T11:36:08.359Z"
   },
   {
    "duration": 31,
    "start_time": "2023-07-18T11:39:23.980Z"
   },
   {
    "duration": 3,
    "start_time": "2023-07-18T11:45:52.167Z"
   },
   {
    "duration": 1682,
    "start_time": "2023-07-18T11:46:35.364Z"
   },
   {
    "duration": 736,
    "start_time": "2023-07-18T11:46:57.648Z"
   },
   {
    "duration": 153,
    "start_time": "2023-07-18T11:47:36.475Z"
   },
   {
    "duration": 30,
    "start_time": "2023-07-18T11:47:57.840Z"
   },
   {
    "duration": 27,
    "start_time": "2023-07-18T11:48:10.741Z"
   },
   {
    "duration": 32,
    "start_time": "2023-07-18T11:48:20.236Z"
   },
   {
    "duration": 23,
    "start_time": "2023-07-18T11:48:37.559Z"
   },
   {
    "duration": 26,
    "start_time": "2023-07-18T11:48:45.509Z"
   },
   {
    "duration": 32,
    "start_time": "2023-07-18T11:48:47.886Z"
   },
   {
    "duration": 32,
    "start_time": "2023-07-18T11:53:33.039Z"
   },
   {
    "duration": 54,
    "start_time": "2023-07-18T11:55:23.837Z"
   },
   {
    "duration": 56,
    "start_time": "2023-07-18T11:55:52.593Z"
   },
   {
    "duration": 71,
    "start_time": "2023-07-18T11:56:23.706Z"
   },
   {
    "duration": 119,
    "start_time": "2023-07-18T13:51:42.745Z"
   },
   {
    "duration": 8,
    "start_time": "2023-07-18T13:52:41.906Z"
   },
   {
    "duration": 6,
    "start_time": "2023-07-18T13:52:46.914Z"
   },
   {
    "duration": 5,
    "start_time": "2023-07-18T13:52:52.615Z"
   },
   {
    "duration": 6,
    "start_time": "2023-07-18T13:52:56.475Z"
   },
   {
    "duration": 6,
    "start_time": "2023-07-18T13:53:00.825Z"
   },
   {
    "duration": 6,
    "start_time": "2023-07-18T13:53:07.061Z"
   },
   {
    "duration": 9,
    "start_time": "2023-07-18T13:53:12.223Z"
   },
   {
    "duration": 5,
    "start_time": "2023-07-18T13:53:17.724Z"
   },
   {
    "duration": 7,
    "start_time": "2023-07-18T13:53:21.545Z"
   },
   {
    "duration": 5,
    "start_time": "2023-07-18T13:53:25.866Z"
   },
   {
    "duration": 106,
    "start_time": "2023-07-18T15:27:25.833Z"
   },
   {
    "duration": 294,
    "start_time": "2023-07-18T15:38:44.840Z"
   },
   {
    "duration": 79,
    "start_time": "2023-07-18T15:41:05.399Z"
   },
   {
    "duration": 98,
    "start_time": "2023-07-18T15:41:10.825Z"
   },
   {
    "duration": 200,
    "start_time": "2023-07-18T15:41:16.134Z"
   },
   {
    "duration": 86,
    "start_time": "2023-07-18T15:43:28.364Z"
   },
   {
    "duration": 234,
    "start_time": "2023-07-18T15:43:55.329Z"
   },
   {
    "duration": 78,
    "start_time": "2023-07-18T15:43:59.674Z"
   },
   {
    "duration": 33,
    "start_time": "2023-07-18T15:47:08.568Z"
   },
   {
    "duration": 26,
    "start_time": "2023-07-18T15:52:24.423Z"
   },
   {
    "duration": 25,
    "start_time": "2023-07-18T15:57:14.085Z"
   },
   {
    "duration": 31,
    "start_time": "2023-07-18T15:57:24.323Z"
   },
   {
    "duration": 20,
    "start_time": "2023-07-18T15:57:34.868Z"
   },
   {
    "duration": 13,
    "start_time": "2023-07-18T15:57:43.840Z"
   },
   {
    "duration": 28,
    "start_time": "2023-07-18T15:57:46.177Z"
   },
   {
    "duration": 28,
    "start_time": "2023-07-18T15:57:56.927Z"
   },
   {
    "duration": 26,
    "start_time": "2023-07-18T15:58:14.444Z"
   },
   {
    "duration": 27,
    "start_time": "2023-07-18T15:58:22.017Z"
   },
   {
    "duration": 20,
    "start_time": "2023-07-18T15:59:01.861Z"
   },
   {
    "duration": 17,
    "start_time": "2023-07-18T15:59:44.628Z"
   },
   {
    "duration": 16,
    "start_time": "2023-07-18T15:59:51.473Z"
   },
   {
    "duration": 17,
    "start_time": "2023-07-18T16:00:59.810Z"
   },
   {
    "duration": 19,
    "start_time": "2023-07-18T16:02:07.798Z"
   },
   {
    "duration": 30,
    "start_time": "2023-07-18T16:03:01.556Z"
   },
   {
    "duration": 18,
    "start_time": "2023-07-18T16:03:21.016Z"
   },
   {
    "duration": 22,
    "start_time": "2023-07-18T16:03:25.028Z"
   },
   {
    "duration": 20,
    "start_time": "2023-07-18T16:03:31.244Z"
   },
   {
    "duration": 21,
    "start_time": "2023-07-18T16:03:34.770Z"
   },
   {
    "duration": 19,
    "start_time": "2023-07-18T16:03:37.315Z"
   },
   {
    "duration": 21,
    "start_time": "2023-07-18T16:03:45.701Z"
   },
   {
    "duration": 18,
    "start_time": "2023-07-18T16:03:50.580Z"
   },
   {
    "duration": 24,
    "start_time": "2023-07-18T16:03:56.776Z"
   },
   {
    "duration": 23,
    "start_time": "2023-07-18T16:05:18.154Z"
   },
   {
    "duration": 34,
    "start_time": "2023-07-18T16:05:42.979Z"
   },
   {
    "duration": 18,
    "start_time": "2023-07-18T17:50:43.199Z"
   },
   {
    "duration": 240,
    "start_time": "2023-07-18T17:51:47.180Z"
   },
   {
    "duration": 66,
    "start_time": "2023-07-18T17:52:00.983Z"
   },
   {
    "duration": 17361,
    "start_time": "2023-07-18T17:52:06.404Z"
   },
   {
    "duration": 240,
    "start_time": "2023-07-18T17:55:57.180Z"
   },
   {
    "duration": 61,
    "start_time": "2023-07-18T17:56:11.468Z"
   },
   {
    "duration": 62,
    "start_time": "2023-07-18T17:56:15.275Z"
   },
   {
    "duration": 908,
    "start_time": "2023-07-18T18:00:27.118Z"
   },
   {
    "duration": 34,
    "start_time": "2023-07-18T18:00:30.687Z"
   },
   {
    "duration": 260,
    "start_time": "2023-07-18T18:00:35.033Z"
   },
   {
    "duration": 15343,
    "start_time": "2023-07-18T18:00:46.140Z"
   },
   {
    "duration": 65,
    "start_time": "2023-07-18T19:57:12.059Z"
   },
   {
    "duration": 15,
    "start_time": "2023-07-18T20:12:48.059Z"
   },
   {
    "duration": 78,
    "start_time": "2023-07-18T20:13:24.270Z"
   },
   {
    "duration": 74,
    "start_time": "2023-07-18T20:13:34.147Z"
   },
   {
    "duration": 60,
    "start_time": "2023-07-19T11:27:19.820Z"
   },
   {
    "duration": 411,
    "start_time": "2023-07-19T11:27:22.966Z"
   },
   {
    "duration": 8152,
    "start_time": "2023-07-19T11:27:26.942Z"
   },
   {
    "duration": 4211,
    "start_time": "2023-07-19T11:27:35.096Z"
   },
   {
    "duration": 15827,
    "start_time": "2023-07-19T11:27:39.309Z"
   },
   {
    "duration": 6541,
    "start_time": "2023-07-19T11:28:31.127Z"
   },
   {
    "duration": 1186,
    "start_time": "2023-07-19T11:28:37.671Z"
   },
   {
    "duration": 41,
    "start_time": "2023-07-19T11:28:42.035Z"
   },
   {
    "duration": 295,
    "start_time": "2023-07-19T11:28:44.438Z"
   },
   {
    "duration": 55,
    "start_time": "2023-07-19T11:28:45.751Z"
   },
   {
    "duration": 72,
    "start_time": "2023-07-19T11:28:52.440Z"
   },
   {
    "duration": 3,
    "start_time": "2023-07-19T11:32:28.188Z"
   },
   {
    "duration": 164,
    "start_time": "2023-07-19T11:33:35.735Z"
   },
   {
    "duration": 4949,
    "start_time": "2023-07-19T11:33:53.223Z"
   },
   {
    "duration": 12,
    "start_time": "2023-07-19T11:34:36.316Z"
   },
   {
    "duration": 899,
    "start_time": "2023-07-19T11:34:47.502Z"
   },
   {
    "duration": 35,
    "start_time": "2023-07-19T11:34:53.262Z"
   },
   {
    "duration": 11,
    "start_time": "2023-07-19T11:34:56.310Z"
   },
   {
    "duration": 26,
    "start_time": "2023-07-19T11:35:19.413Z"
   },
   {
    "duration": 10,
    "start_time": "2023-07-19T11:35:21.004Z"
   },
   {
    "duration": 97,
    "start_time": "2023-07-19T11:35:39.035Z"
   },
   {
    "duration": 11,
    "start_time": "2023-07-19T11:35:40.922Z"
   },
   {
    "duration": 14,
    "start_time": "2023-07-19T11:36:14.201Z"
   },
   {
    "duration": 11,
    "start_time": "2023-07-19T11:36:16.916Z"
   },
   {
    "duration": 872,
    "start_time": "2023-07-19T11:42:17.677Z"
   },
   {
    "duration": 36,
    "start_time": "2023-07-19T11:42:24.434Z"
   },
   {
    "duration": 10,
    "start_time": "2023-07-19T11:42:27.532Z"
   },
   {
    "duration": 119,
    "start_time": "2023-07-19T11:42:46.505Z"
   },
   {
    "duration": 313,
    "start_time": "2023-07-19T11:45:22.259Z"
   },
   {
    "duration": 15,
    "start_time": "2023-07-19T11:45:25.702Z"
   },
   {
    "duration": 82,
    "start_time": "2023-07-19T11:47:19.937Z"
   },
   {
    "duration": 3246,
    "start_time": "2023-07-19T11:47:24.346Z"
   },
   {
    "duration": 58,
    "start_time": "2023-07-19T11:47:47.212Z"
   },
   {
    "duration": 447,
    "start_time": "2023-07-19T15:25:10.065Z"
   },
   {
    "duration": 28816,
    "start_time": "2023-07-19T15:25:17.564Z"
   },
   {
    "duration": 4303,
    "start_time": "2023-07-19T15:25:46.382Z"
   },
   {
    "duration": 458,
    "start_time": "2023-07-19T15:26:07.669Z"
   },
   {
    "duration": 1020,
    "start_time": "2023-07-19T15:26:24.560Z"
   },
   {
    "duration": 3384,
    "start_time": "2023-07-19T15:26:26.961Z"
   },
   {
    "duration": 48,
    "start_time": "2023-07-19T15:26:30.348Z"
   },
   {
    "duration": 360,
    "start_time": "2023-07-19T15:26:30.845Z"
   },
   {
    "duration": 82,
    "start_time": "2023-07-19T15:26:34.461Z"
   },
   {
    "duration": 1555,
    "start_time": "2023-07-19T15:26:37.104Z"
   },
   {
    "duration": 3,
    "start_time": "2023-07-19T15:27:02.262Z"
   },
   {
    "duration": 4569,
    "start_time": "2023-07-19T15:27:26.354Z"
   },
   {
    "duration": 4046,
    "start_time": "2023-07-19T15:27:52.649Z"
   },
   {
    "duration": 4,
    "start_time": "2023-07-19T15:28:08.707Z"
   },
   {
    "duration": 1350,
    "start_time": "2023-07-24T14:45:28.821Z"
   },
   {
    "duration": 3850,
    "start_time": "2023-07-24T14:45:31.651Z"
   },
   {
    "duration": 36,
    "start_time": "2023-07-24T14:45:38.558Z"
   },
   {
    "duration": 389,
    "start_time": "2023-07-24T14:45:40.767Z"
   },
   {
    "duration": 97,
    "start_time": "2023-07-24T14:45:42.641Z"
   },
   {
    "duration": 19,
    "start_time": "2023-07-24T14:46:41.162Z"
   },
   {
    "duration": 3560,
    "start_time": "2023-07-24T18:02:20.166Z"
   },
   {
    "duration": 46,
    "start_time": "2023-07-24T18:02:28.497Z"
   },
   {
    "duration": 348,
    "start_time": "2023-07-24T18:02:31.451Z"
   },
   {
    "duration": 112,
    "start_time": "2023-07-24T18:02:36.330Z"
   },
   {
    "duration": 14,
    "start_time": "2023-07-24T18:02:49.979Z"
   },
   {
    "duration": 102,
    "start_time": "2023-07-24T18:06:07.494Z"
   },
   {
    "duration": 7,
    "start_time": "2023-07-24T18:06:22.660Z"
   },
   {
    "duration": 16,
    "start_time": "2023-07-24T18:06:27.288Z"
   },
   {
    "duration": 283,
    "start_time": "2023-07-24T18:09:00.990Z"
   },
   {
    "duration": 5,
    "start_time": "2023-07-25T14:01:45.230Z"
   },
   {
    "duration": 60,
    "start_time": "2023-07-25T14:01:45.237Z"
   },
   {
    "duration": 77,
    "start_time": "2023-07-25T14:01:45.300Z"
   },
   {
    "duration": 1373,
    "start_time": "2023-07-25T14:01:45.379Z"
   },
   {
    "duration": 1487,
    "start_time": "2023-07-25T14:01:46.754Z"
   },
   {
    "duration": 47,
    "start_time": "2023-07-25T14:01:48.243Z"
   },
   {
    "duration": 64,
    "start_time": "2023-07-25T14:01:48.292Z"
   },
   {
    "duration": 557,
    "start_time": "2023-07-25T14:01:48.358Z"
   },
   {
    "duration": 112,
    "start_time": "2023-07-25T14:01:48.926Z"
   },
   {
    "duration": 12,
    "start_time": "2023-07-25T14:01:49.040Z"
   },
   {
    "duration": 6,
    "start_time": "2023-07-25T14:15:42.504Z"
   },
   {
    "duration": 116,
    "start_time": "2023-07-25T15:26:32.650Z"
   },
   {
    "duration": 4,
    "start_time": "2023-07-25T15:27:01.412Z"
   },
   {
    "duration": 11,
    "start_time": "2023-07-25T15:27:04.728Z"
   },
   {
    "duration": 4,
    "start_time": "2023-07-25T15:27:30.308Z"
   },
   {
    "duration": 12,
    "start_time": "2023-07-25T15:27:35.265Z"
   },
   {
    "duration": 17287,
    "start_time": "2023-07-25T15:28:55.496Z"
   },
   {
    "duration": 17355,
    "start_time": "2023-07-25T16:59:05.147Z"
   },
   {
    "duration": 103,
    "start_time": "2023-07-25T17:49:00.298Z"
   },
   {
    "duration": 4,
    "start_time": "2023-07-25T17:53:07.051Z"
   },
   {
    "duration": 16,
    "start_time": "2023-07-25T17:53:57.457Z"
   },
   {
    "duration": 4,
    "start_time": "2023-07-25T17:55:34.254Z"
   },
   {
    "duration": 14988,
    "start_time": "2023-07-25T17:55:37.906Z"
   },
   {
    "duration": 16,
    "start_time": "2023-07-25T18:21:08.207Z"
   },
   {
    "duration": 11,
    "start_time": "2023-07-25T18:21:16.685Z"
   },
   {
    "duration": 3,
    "start_time": "2023-07-25T18:21:24.224Z"
   },
   {
    "duration": 11,
    "start_time": "2023-07-25T18:21:28.147Z"
   },
   {
    "duration": 10,
    "start_time": "2023-07-25T18:21:32.567Z"
   },
   {
    "duration": 2361515,
    "start_time": "2023-07-25T18:22:43.066Z"
   },
   {
    "duration": 4,
    "start_time": "2023-07-25T20:20:28.335Z"
   },
   {
    "duration": 89579,
    "start_time": "2023-07-25T20:21:30.932Z"
   },
   {
    "duration": 4,
    "start_time": "2023-07-25T20:23:10.957Z"
   },
   {
    "duration": 15974,
    "start_time": "2023-07-25T20:23:16.709Z"
   },
   {
    "duration": 0,
    "start_time": "2023-07-25T20:31:22.719Z"
   },
   {
    "duration": 1526778,
    "start_time": "2023-07-25T20:31:29.190Z"
   },
   {
    "duration": 3,
    "start_time": "2023-07-25T20:56:55.971Z"
   },
   {
    "duration": 55,
    "start_time": "2023-07-25T20:56:55.976Z"
   },
   {
    "duration": 1132,
    "start_time": "2023-08-03T18:37:02.860Z"
   },
   {
    "duration": 1074,
    "start_time": "2023-08-03T18:37:03.994Z"
   },
   {
    "duration": 43,
    "start_time": "2023-08-03T18:37:08.182Z"
   },
   {
    "duration": 350,
    "start_time": "2023-08-03T18:37:10.245Z"
   },
   {
    "duration": 65,
    "start_time": "2023-08-03T18:37:11.992Z"
   },
   {
    "duration": 90,
    "start_time": "2023-08-03T19:07:37.649Z"
   },
   {
    "duration": 9,
    "start_time": "2023-08-03T19:07:51.268Z"
   },
   {
    "duration": 1246,
    "start_time": "2023-08-04T12:08:18.309Z"
   },
   {
    "duration": 1276,
    "start_time": "2023-08-04T12:08:19.556Z"
   },
   {
    "duration": 50,
    "start_time": "2023-08-04T12:08:20.834Z"
   },
   {
    "duration": 372,
    "start_time": "2023-08-04T12:08:24.127Z"
   },
   {
    "duration": 99,
    "start_time": "2023-08-04T12:08:25.797Z"
   },
   {
    "duration": 11,
    "start_time": "2023-08-04T12:08:27.537Z"
   },
   {
    "duration": 108,
    "start_time": "2023-08-04T12:08:39.511Z"
   },
   {
    "duration": 4,
    "start_time": "2023-08-04T12:09:03.945Z"
   },
   {
    "duration": 40,
    "start_time": "2023-08-04T12:09:08.348Z"
   },
   {
    "duration": 39,
    "start_time": "2023-08-04T12:11:24.057Z"
   },
   {
    "duration": 34,
    "start_time": "2023-08-04T12:16:48.965Z"
   },
   {
    "duration": 15,
    "start_time": "2023-08-04T12:18:07.395Z"
   },
   {
    "duration": 1573,
    "start_time": "2023-08-04T14:50:13.998Z"
   },
   {
    "duration": 1287,
    "start_time": "2023-08-04T14:50:15.574Z"
   },
   {
    "duration": 55,
    "start_time": "2023-08-04T14:50:19.828Z"
   },
   {
    "duration": 454,
    "start_time": "2023-08-04T14:50:21.990Z"
   },
   {
    "duration": 123,
    "start_time": "2023-08-04T14:50:23.207Z"
   },
   {
    "duration": 20,
    "start_time": "2023-08-04T14:50:24.947Z"
   },
   {
    "duration": 47,
    "start_time": "2023-08-04T16:27:37.719Z"
   },
   {
    "duration": 1380,
    "start_time": "2023-08-04T16:27:42.524Z"
   },
   {
    "duration": 1388,
    "start_time": "2023-08-04T16:27:44.578Z"
   },
   {
    "duration": 43,
    "start_time": "2023-08-04T16:27:47.530Z"
   },
   {
    "duration": 407,
    "start_time": "2023-08-04T16:27:49.447Z"
   },
   {
    "duration": 100,
    "start_time": "2023-08-04T16:27:50.364Z"
   },
   {
    "duration": 88,
    "start_time": "2023-08-04T16:27:55.409Z"
   },
   {
    "duration": 13,
    "start_time": "2023-08-04T16:28:06.336Z"
   },
   {
    "duration": 33118,
    "start_time": "2023-08-04T16:28:11.364Z"
   },
   {
    "duration": 35648,
    "start_time": "2023-08-04T16:29:08.320Z"
   },
   {
    "duration": 2294,
    "start_time": "2023-08-04T16:34:09.075Z"
   },
   {
    "duration": 2123,
    "start_time": "2023-08-04T16:34:31.419Z"
   },
   {
    "duration": 23,
    "start_time": "2023-08-04T16:35:59.432Z"
   },
   {
    "duration": 5,
    "start_time": "2023-08-04T16:36:24.224Z"
   },
   {
    "duration": 5,
    "start_time": "2023-08-04T16:36:30.829Z"
   },
   {
    "duration": 8,
    "start_time": "2023-08-04T16:36:39.332Z"
   },
   {
    "duration": 171106,
    "start_time": "2023-08-04T16:36:47.971Z"
   },
   {
    "duration": 9,
    "start_time": "2023-08-04T16:43:42.596Z"
   },
   {
    "duration": 14839,
    "start_time": "2023-08-04T16:47:17.320Z"
   },
   {
    "duration": 13,
    "start_time": "2023-08-04T16:48:48.267Z"
   },
   {
    "duration": 645084,
    "start_time": "2023-08-04T16:48:53.723Z"
   },
   {
    "duration": 15511,
    "start_time": "2023-08-04T17:01:28.368Z"
   },
   {
    "duration": 6822,
    "start_time": "2023-08-04T17:02:08.605Z"
   },
   {
    "duration": 182005,
    "start_time": "2023-08-04T18:01:35.772Z"
   },
   {
    "duration": 1366,
    "start_time": "2023-08-04T19:03:16.624Z"
   },
   {
    "duration": 1303,
    "start_time": "2023-08-04T19:03:18.231Z"
   },
   {
    "duration": 56,
    "start_time": "2023-08-04T19:03:20.483Z"
   },
   {
    "duration": 371,
    "start_time": "2023-08-04T19:03:22.237Z"
   },
   {
    "duration": 102,
    "start_time": "2023-08-04T19:03:24.463Z"
   },
   {
    "duration": 19,
    "start_time": "2023-08-04T19:03:26.475Z"
   },
   {
    "duration": 12190,
    "start_time": "2023-08-04T19:03:36.575Z"
   },
   {
    "duration": 210971,
    "start_time": "2023-08-04T19:10:56.023Z"
   },
   {
    "duration": 47,
    "start_time": "2023-08-04T19:28:59.643Z"
   },
   {
    "duration": 1279,
    "start_time": "2023-08-04T19:29:21.334Z"
   },
   {
    "duration": 1198,
    "start_time": "2023-08-04T19:29:22.615Z"
   },
   {
    "duration": 54,
    "start_time": "2023-08-04T19:29:23.889Z"
   },
   {
    "duration": 376,
    "start_time": "2023-08-04T19:29:29.803Z"
   },
   {
    "duration": 99,
    "start_time": "2023-08-04T19:29:31.512Z"
   },
   {
    "duration": 14,
    "start_time": "2023-08-04T19:29:33.652Z"
   },
   {
    "duration": 814,
    "start_time": "2023-08-04T19:29:39.211Z"
   },
   {
    "duration": 64,
    "start_time": "2023-08-04T19:30:23.499Z"
   },
   {
    "duration": 29,
    "start_time": "2023-08-04T19:30:45.065Z"
   },
   {
    "duration": 588,
    "start_time": "2023-08-04T19:31:00.582Z"
   },
   {
    "duration": 67,
    "start_time": "2023-08-04T19:31:50.326Z"
   },
   {
    "duration": 49,
    "start_time": "2023-08-04T19:56:01.043Z"
   },
   {
    "duration": 8,
    "start_time": "2023-08-04T19:56:07.875Z"
   },
   {
    "duration": 1312,
    "start_time": "2023-08-04T19:56:10.555Z"
   },
   {
    "duration": 1215,
    "start_time": "2023-08-04T19:56:11.869Z"
   },
   {
    "duration": 50,
    "start_time": "2023-08-04T19:56:15.641Z"
   },
   {
    "duration": 370,
    "start_time": "2023-08-04T19:56:17.839Z"
   },
   {
    "duration": 67,
    "start_time": "2023-08-04T19:56:20.631Z"
   },
   {
    "duration": 10,
    "start_time": "2023-08-04T19:56:25.102Z"
   },
   {
    "duration": 102,
    "start_time": "2023-08-04T19:56:31.288Z"
   },
   {
    "duration": 14,
    "start_time": "2023-08-04T19:56:32.778Z"
   },
   {
    "duration": 51,
    "start_time": "2023-08-04T19:56:54.249Z"
   },
   {
    "duration": 771,
    "start_time": "2023-08-04T19:57:45.025Z"
   },
   {
    "duration": 69,
    "start_time": "2023-08-04T19:57:48.114Z"
   },
   {
    "duration": 48888,
    "start_time": "2023-08-04T19:58:06.096Z"
   },
   {
    "duration": 615867,
    "start_time": "2023-08-04T19:58:58.123Z"
   },
   {
    "duration": 978,
    "start_time": "2023-08-04T21:00:35.005Z"
   },
   {
    "duration": 48,
    "start_time": "2023-08-04T21:00:37.398Z"
   },
   {
    "duration": 382,
    "start_time": "2023-08-04T21:00:39.227Z"
   },
   {
    "duration": 94,
    "start_time": "2023-08-04T21:00:41.076Z"
   },
   {
    "duration": 14,
    "start_time": "2023-08-04T21:00:51.745Z"
   }
  ],
  "kernelspec": {
   "display_name": "Python 3 (ipykernel)",
   "language": "python",
   "name": "python3"
  },
  "language_info": {
   "codemirror_mode": {
    "name": "ipython",
    "version": 3
   },
   "file_extension": ".py",
   "mimetype": "text/x-python",
   "name": "python",
   "nbconvert_exporter": "python",
   "pygments_lexer": "ipython3",
   "version": "3.9.12"
  },
  "toc": {
   "base_numbering": 1,
   "nav_menu": {},
   "number_sections": false,
   "sideBar": true,
   "skip_h1_title": true,
   "title_cell": "Table of Contents",
   "title_sidebar": "Contents",
   "toc_cell": false,
   "toc_position": {
    "height": "calc(100% - 180px)",
    "left": "10px",
    "top": "150px",
    "width": "165px"
   },
   "toc_section_display": true,
   "toc_window_display": false
  }
 },
 "nbformat": 4,
 "nbformat_minor": 2
}
