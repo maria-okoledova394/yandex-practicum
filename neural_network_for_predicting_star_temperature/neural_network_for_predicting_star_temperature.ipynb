{
 "cells": [
  {
   "cell_type": "markdown",
   "id": "ec005b9f",
   "metadata": {},
   "source": [
    "# Prediction the temperature of stars\n",
    "\n",
    "## Project description\n",
    "\n",
    "Task from the observatory: use a neural network to determine the temperature on the surface of detected stars.\n",
    "\n",
    "The observatory's database contains the characteristics of 240 stars that have already been studied.\n",
    "\n",
    "## Project plan:\n",
    "\n",
    "1. EDA. Prepare the data. Handle anomalies, missing values, duplicates.\n",
    "2. Create a simple neural network and train it.\n",
    "3. Make improvements to the neural network.\n",
    "3. Analyze models and recommend the best for customer's criteria.\n",
    "\n",
    "## Data description\n",
    "__Features__:\n",
    "- _Luminosity(L/Lo)_ — luminosity of a star relative to the Sun;\n",
    "- _Radius(R/Ro)_ — radius of the star relative to the radius of the Sun;\n",
    "- _Absolute magnitude(Mv)_ — physical quantity that characterizes brightness of a star;\n",
    "- _Star type_ — type of star;\n",
    "- _Star color_ — color of a star based on spectral analysis.\n",
    "\n",
    "__Target feature__:\n",
    "- _Temperature (K)_ — the temperature on the surface of the star in Kelvins;"
   ]
  },
  {
   "cell_type": "markdown",
   "id": "8b39b5ee",
   "metadata": {},
   "source": [
    "## Loading and EDA"
   ]
  },
  {
   "cell_type": "code",
   "execution_count": 2,
   "id": "0cb4fd87",
   "metadata": {},
   "outputs": [],
   "source": [
    "# pip install ydata-profiling\n",
    "import random\n",
    "import numpy as np\n",
    "import pandas as pd\n",
    "import torch\n",
    "import torch.nn as nn\n",
    "from math import ceil\n",
    "from ydata_profiling import ProfileReport\n",
    "from sklearn.compose import ColumnTransformer\n",
    "from sklearn.preprocessing import OneHotEncoder, StandardScaler\n",
    "from sklearn.model_selection import train_test_split\n",
    "from sklearn.metrics import mean_squared_error\n",
    "import matplotlib.pyplot as plt"
   ]
  },
  {
   "cell_type": "code",
   "execution_count": 3,
   "id": "spectacular-folder",
   "metadata": {},
   "outputs": [
    {
     "data": {
      "text/html": [
       "<div>\n",
       "<style scoped>\n",
       "    .dataframe tbody tr th:only-of-type {\n",
       "        vertical-align: middle;\n",
       "    }\n",
       "\n",
       "    .dataframe tbody tr th {\n",
       "        vertical-align: top;\n",
       "    }\n",
       "\n",
       "    .dataframe thead th {\n",
       "        text-align: right;\n",
       "    }\n",
       "</style>\n",
       "<table border=\"1\" class=\"dataframe\">\n",
       "  <thead>\n",
       "    <tr style=\"text-align: right;\">\n",
       "      <th></th>\n",
       "      <th>Temperature (K)</th>\n",
       "      <th>Luminosity(L/Lo)</th>\n",
       "      <th>Radius(R/Ro)</th>\n",
       "      <th>Absolute magnitude(Mv)</th>\n",
       "      <th>Star type</th>\n",
       "      <th>Star color</th>\n",
       "    </tr>\n",
       "  </thead>\n",
       "  <tbody>\n",
       "    <tr>\n",
       "      <th>0</th>\n",
       "      <td>3068</td>\n",
       "      <td>0.002400</td>\n",
       "      <td>0.1700</td>\n",
       "      <td>16.12</td>\n",
       "      <td>0</td>\n",
       "      <td>Red</td>\n",
       "    </tr>\n",
       "    <tr>\n",
       "      <th>1</th>\n",
       "      <td>3042</td>\n",
       "      <td>0.000500</td>\n",
       "      <td>0.1542</td>\n",
       "      <td>16.60</td>\n",
       "      <td>0</td>\n",
       "      <td>Red</td>\n",
       "    </tr>\n",
       "    <tr>\n",
       "      <th>2</th>\n",
       "      <td>2600</td>\n",
       "      <td>0.000300</td>\n",
       "      <td>0.1020</td>\n",
       "      <td>18.70</td>\n",
       "      <td>0</td>\n",
       "      <td>Red</td>\n",
       "    </tr>\n",
       "    <tr>\n",
       "      <th>3</th>\n",
       "      <td>2800</td>\n",
       "      <td>0.000200</td>\n",
       "      <td>0.1600</td>\n",
       "      <td>16.65</td>\n",
       "      <td>0</td>\n",
       "      <td>Red</td>\n",
       "    </tr>\n",
       "    <tr>\n",
       "      <th>4</th>\n",
       "      <td>1939</td>\n",
       "      <td>0.000138</td>\n",
       "      <td>0.1030</td>\n",
       "      <td>20.06</td>\n",
       "      <td>0</td>\n",
       "      <td>Red</td>\n",
       "    </tr>\n",
       "    <tr>\n",
       "      <th>...</th>\n",
       "      <td>...</td>\n",
       "      <td>...</td>\n",
       "      <td>...</td>\n",
       "      <td>...</td>\n",
       "      <td>...</td>\n",
       "      <td>...</td>\n",
       "    </tr>\n",
       "    <tr>\n",
       "      <th>235</th>\n",
       "      <td>38940</td>\n",
       "      <td>374830.000000</td>\n",
       "      <td>1356.0000</td>\n",
       "      <td>-9.93</td>\n",
       "      <td>5</td>\n",
       "      <td>Blue</td>\n",
       "    </tr>\n",
       "    <tr>\n",
       "      <th>236</th>\n",
       "      <td>30839</td>\n",
       "      <td>834042.000000</td>\n",
       "      <td>1194.0000</td>\n",
       "      <td>-10.63</td>\n",
       "      <td>5</td>\n",
       "      <td>Blue</td>\n",
       "    </tr>\n",
       "    <tr>\n",
       "      <th>237</th>\n",
       "      <td>8829</td>\n",
       "      <td>537493.000000</td>\n",
       "      <td>1423.0000</td>\n",
       "      <td>-10.73</td>\n",
       "      <td>5</td>\n",
       "      <td>White</td>\n",
       "    </tr>\n",
       "    <tr>\n",
       "      <th>238</th>\n",
       "      <td>9235</td>\n",
       "      <td>404940.000000</td>\n",
       "      <td>1112.0000</td>\n",
       "      <td>-11.23</td>\n",
       "      <td>5</td>\n",
       "      <td>White</td>\n",
       "    </tr>\n",
       "    <tr>\n",
       "      <th>239</th>\n",
       "      <td>37882</td>\n",
       "      <td>294903.000000</td>\n",
       "      <td>1783.0000</td>\n",
       "      <td>-7.80</td>\n",
       "      <td>5</td>\n",
       "      <td>Blue</td>\n",
       "    </tr>\n",
       "  </tbody>\n",
       "</table>\n",
       "<p>240 rows × 6 columns</p>\n",
       "</div>"
      ],
      "text/plain": [
       "     Temperature (K)  Luminosity(L/Lo)  Radius(R/Ro)  Absolute magnitude(Mv)  \\\n",
       "0               3068          0.002400        0.1700                   16.12   \n",
       "1               3042          0.000500        0.1542                   16.60   \n",
       "2               2600          0.000300        0.1020                   18.70   \n",
       "3               2800          0.000200        0.1600                   16.65   \n",
       "4               1939          0.000138        0.1030                   20.06   \n",
       "..               ...               ...           ...                     ...   \n",
       "235            38940     374830.000000     1356.0000                   -9.93   \n",
       "236            30839     834042.000000     1194.0000                  -10.63   \n",
       "237             8829     537493.000000     1423.0000                  -10.73   \n",
       "238             9235     404940.000000     1112.0000                  -11.23   \n",
       "239            37882     294903.000000     1783.0000                   -7.80   \n",
       "\n",
       "     Star type Star color  \n",
       "0            0        Red  \n",
       "1            0        Red  \n",
       "2            0        Red  \n",
       "3            0        Red  \n",
       "4            0        Red  \n",
       "..         ...        ...  \n",
       "235          5       Blue  \n",
       "236          5       Blue  \n",
       "237          5      White  \n",
       "238          5      White  \n",
       "239          5       Blue  \n",
       "\n",
       "[240 rows x 6 columns]"
      ]
     },
     "execution_count": 3,
     "metadata": {},
     "output_type": "execute_result"
    }
   ],
   "source": [
    "df = pd.read_csv('/datasets/6_class.csv', index_col=0)\n",
    "\n",
    "df"
   ]
  },
  {
   "cell_type": "markdown",
   "id": "e96d50a5",
   "metadata": {},
   "source": [
    "Rename columns:"
   ]
  },
  {
   "cell_type": "code",
   "execution_count": 4,
   "id": "de333298",
   "metadata": {},
   "outputs": [],
   "source": [
    "df.columns = ['temperature', 'luminosity', 'radius', 'absolute_magnitude', 'star_type', 'star_color']"
   ]
  },
  {
   "cell_type": "markdown",
   "id": "50dd505d",
   "metadata": {},
   "source": [
    "Data overview to EDA:"
   ]
  },
  {
   "cell_type": "code",
   "execution_count": 5,
   "id": "76dce4fe",
   "metadata": {},
   "outputs": [],
   "source": [
    "ProfileReport(df)"
   ]
  },
  {
   "cell_type": "markdown",
   "id": "7db781e2",
   "metadata": {},
   "source": [
    "Conclusions after EDA:\n",
    "- An equal number of objects of all types of stars.\n",
    "- Implicit duplicates in the `star_color` column.\n",
    "- Strong correlation of `temperature` with: `absolute_magnitude`, `star_type`.\n",
    "- Strong correlation of `radius` with: `luminosity`, `absolute_magnitude`, `star_type`.\n",
    "- Strong correlation of `absolute_magnitude` with: `luminosity`, `star_type`.\n",
    "- Outgoing low/high values of numerical features (for example, temperature). But all within the limits of existing indicators.\n",
    "- There are no missing values."
   ]
  },
  {
   "cell_type": "markdown",
   "id": "simple-subdivision",
   "metadata": {},
   "source": [
    "##  Preparing data"
   ]
  },
  {
   "cell_type": "markdown",
   "id": "1a8c0ead",
   "metadata": {},
   "source": [
    "### Handling implicit duplicates in `star_color` column"
   ]
  },
  {
   "cell_type": "code",
   "execution_count": 6,
   "id": "flush-dream",
   "metadata": {},
   "outputs": [
    {
     "data": {
      "text/plain": [
       "Red                   112\n",
       "Blue                   55\n",
       "Blue-white             26\n",
       "Blue White             10\n",
       "yellow-white            8\n",
       "White                   7\n",
       "Yellowish White         3\n",
       "Blue white              3\n",
       "white                   3\n",
       "Orange                  2\n",
       "yellowish               2\n",
       "Whitish                 2\n",
       "Orange-Red              1\n",
       "White-Yellow            1\n",
       "Yellowish               1\n",
       "Blue-White              1\n",
       "Blue                    1\n",
       "Pale yellow orange      1\n",
       "Blue white              1\n",
       "Name: star_color, dtype: int64"
      ]
     },
     "execution_count": 6,
     "metadata": {},
     "output_type": "execute_result"
    }
   ],
   "source": [
    "df['star_color'].value_counts()"
   ]
  },
  {
   "cell_type": "markdown",
   "id": "adb04125",
   "metadata": {},
   "source": [
    "Get same color values to same writing:"
   ]
  },
  {
   "cell_type": "code",
   "execution_count": 7,
   "id": "57c6d29d",
   "metadata": {},
   "outputs": [],
   "source": [
    "df = df.replace({'star_color' : {'Blue White' : 'Blue-white',\n",
    "                                 'Blue white' : 'Blue-white',\n",
    "                                 'Blue-White' : 'Blue-white',\n",
    "                                 'Blue white ': 'Blue-white',\n",
    "                                 'Blue ': 'Blue',\n",
    "                                 'white' : 'White',\n",
    "                                 'yellow-white' : 'Yellow-white',\n",
    "                                 'yellowish' : 'Yellowish',\n",
    "                                 'Pale yellow orange' : 'Pale-yellow-orange'\n",
    "                                }})"
   ]
  },
  {
   "cell_type": "markdown",
   "id": "5c22f24f",
   "metadata": {},
   "source": [
    "There are similar but not identical colors:"
   ]
  },
  {
   "cell_type": "code",
   "execution_count": 8,
   "id": "ad418cf4",
   "metadata": {},
   "outputs": [
    {
     "data": {
      "text/html": [
       "<div>\n",
       "<style scoped>\n",
       "    .dataframe tbody tr th:only-of-type {\n",
       "        vertical-align: middle;\n",
       "    }\n",
       "\n",
       "    .dataframe tbody tr th {\n",
       "        vertical-align: top;\n",
       "    }\n",
       "\n",
       "    .dataframe thead th {\n",
       "        text-align: right;\n",
       "    }\n",
       "</style>\n",
       "<table border=\"1\" class=\"dataframe\">\n",
       "  <thead>\n",
       "    <tr style=\"text-align: right;\">\n",
       "      <th></th>\n",
       "      <th>temperature</th>\n",
       "      <th>luminosity</th>\n",
       "      <th>radius</th>\n",
       "      <th>absolute_magnitude</th>\n",
       "      <th>star_type</th>\n",
       "      <th>star_color</th>\n",
       "    </tr>\n",
       "  </thead>\n",
       "  <tbody>\n",
       "    <tr>\n",
       "      <th>25</th>\n",
       "      <td>12990</td>\n",
       "      <td>0.000085</td>\n",
       "      <td>0.00984</td>\n",
       "      <td>12.230</td>\n",
       "      <td>2</td>\n",
       "      <td>Yellowish White</td>\n",
       "    </tr>\n",
       "    <tr>\n",
       "      <th>27</th>\n",
       "      <td>7700</td>\n",
       "      <td>0.000110</td>\n",
       "      <td>0.01280</td>\n",
       "      <td>14.470</td>\n",
       "      <td>2</td>\n",
       "      <td>Yellowish White</td>\n",
       "    </tr>\n",
       "    <tr>\n",
       "      <th>28</th>\n",
       "      <td>11790</td>\n",
       "      <td>0.000150</td>\n",
       "      <td>0.01100</td>\n",
       "      <td>12.590</td>\n",
       "      <td>2</td>\n",
       "      <td>Yellowish White</td>\n",
       "    </tr>\n",
       "    <tr>\n",
       "      <th>34</th>\n",
       "      <td>5800</td>\n",
       "      <td>0.810000</td>\n",
       "      <td>0.90000</td>\n",
       "      <td>5.050</td>\n",
       "      <td>3</td>\n",
       "      <td>Yellow-white</td>\n",
       "    </tr>\n",
       "    <tr>\n",
       "      <th>36</th>\n",
       "      <td>6757</td>\n",
       "      <td>1.430000</td>\n",
       "      <td>1.12000</td>\n",
       "      <td>2.410</td>\n",
       "      <td>3</td>\n",
       "      <td>Yellow-white</td>\n",
       "    </tr>\n",
       "    <tr>\n",
       "      <th>37</th>\n",
       "      <td>6380</td>\n",
       "      <td>1.350000</td>\n",
       "      <td>0.98000</td>\n",
       "      <td>2.930</td>\n",
       "      <td>3</td>\n",
       "      <td>Yellow-white</td>\n",
       "    </tr>\n",
       "    <tr>\n",
       "      <th>38</th>\n",
       "      <td>5936</td>\n",
       "      <td>1.357000</td>\n",
       "      <td>1.10600</td>\n",
       "      <td>4.460</td>\n",
       "      <td>3</td>\n",
       "      <td>Yellow-white</td>\n",
       "    </tr>\n",
       "    <tr>\n",
       "      <th>39</th>\n",
       "      <td>5587</td>\n",
       "      <td>0.819000</td>\n",
       "      <td>0.99000</td>\n",
       "      <td>5.030</td>\n",
       "      <td>3</td>\n",
       "      <td>Yellow-white</td>\n",
       "    </tr>\n",
       "    <tr>\n",
       "      <th>53</th>\n",
       "      <td>3749</td>\n",
       "      <td>550000.000000</td>\n",
       "      <td>1648.00000</td>\n",
       "      <td>-8.050</td>\n",
       "      <td>5</td>\n",
       "      <td>Orange</td>\n",
       "    </tr>\n",
       "    <tr>\n",
       "      <th>80</th>\n",
       "      <td>7100</td>\n",
       "      <td>0.000290</td>\n",
       "      <td>0.01200</td>\n",
       "      <td>14.090</td>\n",
       "      <td>2</td>\n",
       "      <td>White-Yellow</td>\n",
       "    </tr>\n",
       "    <tr>\n",
       "      <th>90</th>\n",
       "      <td>5300</td>\n",
       "      <td>0.590000</td>\n",
       "      <td>0.91000</td>\n",
       "      <td>5.490</td>\n",
       "      <td>3</td>\n",
       "      <td>Yellow-white</td>\n",
       "    </tr>\n",
       "    <tr>\n",
       "      <th>91</th>\n",
       "      <td>4526</td>\n",
       "      <td>0.153000</td>\n",
       "      <td>0.86500</td>\n",
       "      <td>6.506</td>\n",
       "      <td>3</td>\n",
       "      <td>Yellowish</td>\n",
       "    </tr>\n",
       "    <tr>\n",
       "      <th>92</th>\n",
       "      <td>4077</td>\n",
       "      <td>0.085000</td>\n",
       "      <td>0.79500</td>\n",
       "      <td>6.228</td>\n",
       "      <td>3</td>\n",
       "      <td>Yellowish</td>\n",
       "    </tr>\n",
       "    <tr>\n",
       "      <th>93</th>\n",
       "      <td>4980</td>\n",
       "      <td>0.357000</td>\n",
       "      <td>1.13000</td>\n",
       "      <td>4.780</td>\n",
       "      <td>3</td>\n",
       "      <td>Yellowish</td>\n",
       "    </tr>\n",
       "    <tr>\n",
       "      <th>96</th>\n",
       "      <td>5112</td>\n",
       "      <td>0.630000</td>\n",
       "      <td>0.87600</td>\n",
       "      <td>4.680</td>\n",
       "      <td>3</td>\n",
       "      <td>Orange-Red</td>\n",
       "    </tr>\n",
       "    <tr>\n",
       "      <th>97</th>\n",
       "      <td>7720</td>\n",
       "      <td>7.920000</td>\n",
       "      <td>1.34000</td>\n",
       "      <td>2.440</td>\n",
       "      <td>3</td>\n",
       "      <td>Yellow-white</td>\n",
       "    </tr>\n",
       "    <tr>\n",
       "      <th>172</th>\n",
       "      <td>4287</td>\n",
       "      <td>630000.000000</td>\n",
       "      <td>1315.00000</td>\n",
       "      <td>-9.200</td>\n",
       "      <td>5</td>\n",
       "      <td>Orange</td>\n",
       "    </tr>\n",
       "    <tr>\n",
       "      <th>219</th>\n",
       "      <td>8250</td>\n",
       "      <td>9.250000</td>\n",
       "      <td>1.93000</td>\n",
       "      <td>-0.980</td>\n",
       "      <td>3</td>\n",
       "      <td>Yellow-white</td>\n",
       "    </tr>\n",
       "  </tbody>\n",
       "</table>\n",
       "</div>"
      ],
      "text/plain": [
       "     temperature     luminosity      radius  absolute_magnitude  star_type  \\\n",
       "25         12990       0.000085     0.00984              12.230          2   \n",
       "27          7700       0.000110     0.01280              14.470          2   \n",
       "28         11790       0.000150     0.01100              12.590          2   \n",
       "34          5800       0.810000     0.90000               5.050          3   \n",
       "36          6757       1.430000     1.12000               2.410          3   \n",
       "37          6380       1.350000     0.98000               2.930          3   \n",
       "38          5936       1.357000     1.10600               4.460          3   \n",
       "39          5587       0.819000     0.99000               5.030          3   \n",
       "53          3749  550000.000000  1648.00000              -8.050          5   \n",
       "80          7100       0.000290     0.01200              14.090          2   \n",
       "90          5300       0.590000     0.91000               5.490          3   \n",
       "91          4526       0.153000     0.86500               6.506          3   \n",
       "92          4077       0.085000     0.79500               6.228          3   \n",
       "93          4980       0.357000     1.13000               4.780          3   \n",
       "96          5112       0.630000     0.87600               4.680          3   \n",
       "97          7720       7.920000     1.34000               2.440          3   \n",
       "172         4287  630000.000000  1315.00000              -9.200          5   \n",
       "219         8250       9.250000     1.93000              -0.980          3   \n",
       "\n",
       "          star_color  \n",
       "25   Yellowish White  \n",
       "27   Yellowish White  \n",
       "28   Yellowish White  \n",
       "34      Yellow-white  \n",
       "36      Yellow-white  \n",
       "37      Yellow-white  \n",
       "38      Yellow-white  \n",
       "39      Yellow-white  \n",
       "53            Orange  \n",
       "80      White-Yellow  \n",
       "90      Yellow-white  \n",
       "91         Yellowish  \n",
       "92         Yellowish  \n",
       "93         Yellowish  \n",
       "96        Orange-Red  \n",
       "97      Yellow-white  \n",
       "172           Orange  \n",
       "219     Yellow-white  "
      ]
     },
     "execution_count": 8,
     "metadata": {},
     "output_type": "execute_result"
    }
   ],
   "source": [
    "df[df['star_color'].isin(['Yellow-white', 'Yellowish White', 'Yellowish', 'White-Yellow', 'Orange', 'Orange-Red'])]"
   ]
  },
  {
   "cell_type": "markdown",
   "id": "42e2455a",
   "metadata": {},
   "source": [
    "I will not replace them with similar values, for example, Yellowish White with Yellow-white. Because they have different types of stars and other signs. So it possible that there is different colors. Instead, I will combine all the rare colors into the `others` category."
   ]
  },
  {
   "cell_type": "code",
   "execution_count": 9,
   "id": "7f6de69f",
   "metadata": {},
   "outputs": [],
   "source": [
    "df = df.replace(dict.fromkeys(['Yellowish White','Yellowish','Whitish','Orange', 'White-Yellow', 'Blue white', 'Pale-yellow-orange', 'Orange-Red'], 'Other'))"
   ]
  },
  {
   "cell_type": "markdown",
   "id": "d205e486",
   "metadata": {},
   "source": [
    "Color histogram:"
   ]
  },
  {
   "cell_type": "code",
   "execution_count": 10,
   "id": "5f7176d9",
   "metadata": {},
   "outputs": [
    {
     "data": {
      "text/plain": [
       "<AxesSubplot:title={'center':'star_color distribution'}, xlabel='colors', ylabel='quantity'>"
      ]
     },
     "execution_count": 10,
     "metadata": {},
     "output_type": "execute_result"
    },
    {
     "data": {
      "image/png": "[encoded data removed]",
      "text/plain": [
       "<Figure size 1080x576 with 1 Axes>"
      ]
     },
     "metadata": {
      "needs_background": "light"
     },
     "output_type": "display_data"
    }
   ],
   "source": [
    "df['star_color'].value_counts().plot(kind='bar', title='star_color distribution', xlabel='colors', \n",
    "                                     ylabel='quantity', rot=1, alpha=0.9, figsize=(15,8))"
   ]
  },
  {
   "cell_type": "markdown",
   "id": "b3dfc1b0",
   "metadata": {},
   "source": [
    "### Preparation of features and sets"
   ]
  },
  {
   "cell_type": "markdown",
   "id": "617f32f0",
   "metadata": {},
   "source": [
    "Split the data into training, validation, and test sets in a ratio of 60:20:20. \n",
    "\n",
    "Apply One-hot encoding for categorical features `star_type` and `star_color`, and scale all numerical features.\n",
    "\n",
    "Create column transformers to encode categorical columns and scale numerical columns:"
   ]
  },
  {
   "cell_type": "code",
   "execution_count": 11,
   "id": "7215dda4",
   "metadata": {},
   "outputs": [],
   "source": [
    "cat_cols = ['star_type', 'star_color']\n",
    "num_cols = ['luminosity', 'radius', 'absolute_magnitude']\n",
    "\n",
    "def create_sets(df, cat_cols, num_cols):\n",
    "    features_train, target_train, features_valid, target_valid, features_test, target_test = split_set(df)\n",
    "    features_train, features_valid, features_test = transform_sets(features_train, features_valid, features_test, cat_cols, num_cols)    \n",
    "    \n",
    "    return (torch.FloatTensor(features_train),\n",
    "            torch.FloatTensor(features_valid),\n",
    "            torch.FloatTensor(features_test),\n",
    "            torch.FloatTensor(target_train.values).reshape(target_train.shape[0]),\n",
    "            torch.FloatTensor(target_valid.values).reshape(target_valid.shape[0]),\n",
    "            torch.FloatTensor(target_test.values).reshape(target_test.shape[0]))\n",
    "\n",
    "def transform_sets(features_train, features_valid, features_test, cat_cols, num_cols):    \n",
    "    col_trans = ColumnTransformer(transformers=[\n",
    "        ('encoder', OneHotEncoder(), cat_cols),\n",
    "        ('scaler', StandardScaler(), num_cols)\n",
    "    ])\n",
    "    \n",
    "    features_train = col_trans.fit_transform(features_train)\n",
    "    features_valid = col_trans.transform(features_valid)\n",
    "    features_test = col_trans.transform(features_test)\n",
    "    \n",
    "    return features_train, features_valid, features_test\n",
    "\n",
    "def split_set(df):\n",
    "    features_train, features_valid_test, target_train, target_valid_test = train_test_split(\n",
    "        df.drop('temperature', axis=1), df['temperature'], test_size=0.4, random_state=142, shuffle=True)\n",
    "\n",
    "    features_valid, features_test, target_valid, target_test = train_test_split(\n",
    "        features_valid_test, target_valid_test, test_size=0.5, random_state=142, shuffle=True)\n",
    "    \n",
    "    return features_train, target_train, features_valid, target_valid, features_test, target_test"
   ]
  },
  {
   "cell_type": "code",
   "execution_count": 12,
   "id": "7d3af1eb",
   "metadata": {},
   "outputs": [],
   "source": [
    "(features_train, features_valid, features_test, target_train, target_valid, target_test) = create_sets(df, cat_cols, num_cols)"
   ]
  },
  {
   "cell_type": "markdown",
   "id": "funded-electric",
   "metadata": {},
   "source": [
    "## Building a basic neural network"
   ]
  },
  {
   "cell_type": "markdown",
   "id": "259462b3",
   "metadata": {},
   "source": [
    "The __ReLU__ activation function is better for the regression task. The __Kaiming Initialization__ (kaiming_normal_) is better suited for Rely. \n",
    "\n",
    "Class with architecture of a neural network with custom number of hidden layers:"
   ]
  },
  {
   "cell_type": "code",
   "execution_count": 13,
   "id": "e4023a1b",
   "metadata": {},
   "outputs": [],
   "source": [
    "class Net(nn.Module):\n",
    "    def __init__(self, n_neurons, dropout_p=0.3):\n",
    "        super(Net, self).__init__()\n",
    "        \n",
    "        self.layers = nn.ModuleList()\n",
    "        \n",
    "        for i in range(1, len(n_neurons) - 1):\n",
    "            layer = nn.Linear(n_neurons[i-1], n_neurons[i])\n",
    "            \n",
    "            nn.init.kaiming_normal_(layer.weight, nonlinearity='relu', mode='fan_in')\n",
    "            nn.init.normal_(layer.bias, mean=0.5, std=1)\n",
    "            \n",
    "            self.layers.append(layer)\n",
    "            self.layers.append(nn.ReLU())\n",
    "            self.layers.append(nn.Dropout(p=dropout_p))\n",
    "            \n",
    "        layer = nn.Linear(n_neurons[-2], n_neurons[-1])\n",
    "        nn.init.xavier_normal_(layer.weight)\n",
    "        nn.init.normal_(layer.bias, mean=0.5, std=1)\n",
    "        \n",
    "        self.layers.append(layer)\n",
    "    \n",
    "    def forward(self, x):\n",
    "        for layer in self.layers:\n",
    "            x = layer(x)\n",
    "        return x"
   ]
  },
  {
   "cell_type": "markdown",
   "id": "9e52a124",
   "metadata": {},
   "source": [
    "The function of training a neural network in epochs divided into butches:"
   ]
  },
  {
   "cell_type": "code",
   "execution_count": 14,
   "id": "6f5c044b",
   "metadata": {},
   "outputs": [],
   "source": [
    "def fit_net(net, num_epochs=500, batch_size=50):\n",
    "    num_batches = ceil(len(features_train)/batch_size)\n",
    "\n",
    "    random.seed(142)\n",
    "    np.random.seed(142)\n",
    "    torch.manual_seed(142)\n",
    "    torch.use_deterministic_algorithms(True)\n",
    "\n",
    "    \n",
    "    optimizer = torch.optim.Adam(net.parameters(), lr=1.0e-3)\n",
    "    loss = nn.MSELoss()\n",
    "\n",
    "    for epoch in range(num_epochs):\n",
    "        order = np.random.permutation(len(features_train))\n",
    "        for batch_idx in range(num_batches):\n",
    "            start_index = batch_idx * batch_size\n",
    "            optimizer.zero_grad()\n",
    "\n",
    "            batch_indexes = order[start_index:start_index+batch_size]\n",
    "            features_train_batch = features_train[batch_indexes]\n",
    "            target_train_batch = target_train[batch_indexes]\n",
    "\n",
    "            preds = net.forward(features_train_batch).flatten()\n",
    "            loss_value = loss(preds, target_train_batch)\n",
    "\n",
    "            loss_value.backward()\n",
    "\n",
    "            optimizer.step()\n",
    "\n",
    "        if epoch % 20 == 0 or epoch == num_epochs - 1:\n",
    "            net.eval()\n",
    "            preds_valid = net.forward(features_valid)\n",
    "\n",
    "            rmse = mean_squared_error(target_valid, preds_valid.detach().numpy(), squared=False)\n",
    "            print(rmse)\n",
    "    return net, rmse"
   ]
  },
  {
   "cell_type": "markdown",
   "id": "f4ad806e",
   "metadata": {},
   "source": [
    "Tried different number of hidden layers and neurons. Good results with a large number of hidden layers. But increase number of epochs resulted in overtraining:"
   ]
  },
  {
   "cell_type": "code",
   "execution_count": 15,
   "id": "9847d2c2",
   "metadata": {},
   "outputs": [
    {
     "name": "stdout",
     "output_type": "stream",
     "text": [
      "12495.212\n",
      "9613.244\n",
      "6976.5674\n",
      "5307.8696\n",
      "4428.9233\n",
      "4085.8125\n",
      "4006.0562\n",
      "4091.5178\n",
      "4011.8662\n",
      "4063.5476\n",
      "3992.798\n",
      "4008.4976\n",
      "3983.592\n",
      "4024.3723\n",
      "4087.0237\n",
      "4010.53\n"
     ]
    }
   ],
   "source": [
    "n_neurons = [15, 60, 55, 50, 45, 40, 35, 30, 25, 20, 10, 8, 1]\n",
    "net_baseline = Net(n_neurons)\n",
    "net_baseline, rmse_valid_baseline = fit_net(net_baseline, num_epochs=300, batch_size=50)"
   ]
  },
  {
   "cell_type": "markdown",
   "id": "7acc33ff",
   "metadata": {},
   "source": [
    "Function for plotting to compare predictions and real target values:"
   ]
  },
  {
   "cell_type": "code",
   "execution_count": 16,
   "id": "fd7ec551",
   "metadata": {},
   "outputs": [],
   "source": [
    "def drow_plot(target, preds):\n",
    "    preds_np = preds.reshape(preds.shape[0]).detach().numpy()\n",
    "    target_np = target.numpy()\n",
    "    \n",
    "    fig, ax = plt.subplots(figsize=[20,6])\n",
    "    plt.bar(x=np.arange(len(preds_np)), height=preds_np, color='skyblue' , label='predicted')\n",
    "    plt.bar(x=np.arange(len(target_np)), height=target_np, color='orange', label='real', width= 0.4)\n",
    "    plt.xlabel('test_objects')\n",
    "    plt.ylabel('temperature')\n",
    "    ax.legend()\n",
    "    plt.show()"
   ]
  },
  {
   "cell_type": "markdown",
   "id": "growing-supply",
   "metadata": {},
   "source": [
    "## Improving the neural network"
   ]
  },
  {
   "cell_type": "markdown",
   "id": "405163e7",
   "metadata": {},
   "source": [
    "Adding iteration of the `batch_size` and `dropout` parameters:"
   ]
  },
  {
   "cell_type": "code",
   "execution_count": 17,
   "id": "8c60b99d",
   "metadata": {},
   "outputs": [
    {
     "name": "stdout",
     "output_type": "stream",
     "text": [
      "12502.224\n",
      "12501.119\n",
      "12479.326\n",
      "7343.076\n",
      "5812.594\n",
      "4578.764\n",
      "4196.6094\n",
      "4166.2363\n",
      "4104.2446\n",
      "4113.409\n",
      "4085.4539\n",
      "4106.2056\n",
      "4132.341\n",
      "4138.3857\n",
      "4172.6475\n",
      "4207.64\n",
      "12510.52\n",
      "12500.844\n",
      "8260.922\n",
      "5657.9575\n",
      "4680.9727\n",
      "4113.741\n",
      "4053.6863\n",
      "4056.869\n",
      "4024.6028\n",
      "4070.8381\n",
      "4057.0076\n",
      "4110.2617\n",
      "4140.5635\n",
      "4176.8843\n",
      "4237.0913\n",
      "4259.0513\n",
      "12511.236\n",
      "12501.201\n",
      "12494.44\n",
      "7020.6426\n",
      "5089.1353\n",
      "4185.2617\n",
      "4060.8545\n",
      "4025.945\n",
      "4003.976\n",
      "4044.773\n",
      "4046.3318\n",
      "4089.419\n",
      "4092.7517\n",
      "4111.6187\n",
      "4189.004\n",
      "4206.4575\n",
      "12509.928\n",
      "12470.241\n",
      "7969.121\n",
      "6131.4688\n",
      "5132.508\n",
      "4395.566\n",
      "4053.6357\n",
      "3993.626\n",
      "3991.996\n",
      "4001.2131\n",
      "4018.4648\n",
      "4040.535\n",
      "4044.474\n",
      "4078.2515\n",
      "4087.3345\n",
      "4084.3816\n",
      "12502.395\n",
      "12501.832\n",
      "12501.347\n",
      "12500.751\n",
      "12479.107\n",
      "7239.8784\n",
      "5396.54\n",
      "4398.1235\n",
      "4241.159\n",
      "4223.112\n",
      "4210.824\n",
      "4217.5483\n",
      "4206.632\n",
      "4225.5615\n",
      "4224.649\n",
      "4223.231\n",
      "12502.57\n",
      "12501.78\n",
      "12501.284\n",
      "12500.849\n",
      "12498.365\n",
      "7819.8066\n",
      "6012.121\n",
      "4593.8164\n",
      "4220.6704\n",
      "4183.827\n",
      "4158.281\n",
      "4180.2104\n",
      "4191.6177\n",
      "4220.616\n",
      "4215.6807\n",
      "4207.413\n",
      "12502.266\n",
      "12501.757\n",
      "12501.241\n",
      "8626.471\n",
      "7231.529\n",
      "5837.742\n",
      "5026.339\n",
      "4514.218\n",
      "4270.122\n",
      "4169.6426\n",
      "4310.2144\n",
      "4200.8984\n",
      "4213.444\n",
      "4153.6934\n",
      "4244.448\n",
      "4224.4067\n",
      "12502.403\n",
      "12501.837\n",
      "12501.683\n",
      "12501.349\n",
      "12417.079\n",
      "7090.503\n",
      "5758.918\n",
      "4685.327\n",
      "4264.649\n",
      "4186.651\n",
      "4292.5107\n",
      "4171.145\n",
      "4186.654\n",
      "4137.004\n",
      "4232.495\n",
      "4203.471\n",
      "12502.488\n",
      "12501.538\n",
      "12501.195\n",
      "12500.69\n",
      "12459.452\n",
      "7071.79\n",
      "5500.586\n",
      "4427.1367\n",
      "4170.2383\n",
      "4177.257\n",
      "4222.2866\n",
      "4194.59\n",
      "4211.907\n",
      "4168.343\n",
      "4211.5815\n",
      "4236.947\n",
      "12502.3125\n",
      "12501.798\n",
      "12501.137\n",
      "12499.871\n",
      "9220.347\n",
      "7425.8735\n",
      "6678.4937\n",
      "5768.2026\n",
      "4849.347\n",
      "4308.926\n",
      "4178.1694\n",
      "4173.923\n",
      "4180.7695\n",
      "4162.556\n",
      "4187.123\n",
      "4194.1606\n",
      "12500.17\n",
      "12154.103\n",
      "8258.884\n",
      "7575.903\n",
      "6676.8535\n",
      "5806.304\n",
      "4984.2905\n",
      "4315.5044\n",
      "4057.5723\n",
      "3985.6548\n",
      "3942.2825\n",
      "3915.1956\n",
      "3927.949\n",
      "3886.0657\n",
      "3922.7454\n",
      "3915.7393\n",
      "12500.64\n",
      "12337.336\n",
      "9019.204\n",
      "7619.0264\n",
      "6744.4507\n",
      "5826.223\n",
      "5008.67\n",
      "4356.076\n",
      "4051.0015\n",
      "3989.0168\n",
      "3991.8096\n",
      "3958.3052\n",
      "3964.1506\n",
      "3910.7659\n",
      "3981.9827\n",
      "3971.0813\n",
      "best rmse of net_with_tuning_params: 3971.0813\n",
      "best params of net_with_tuning_params: {'dropout_p': 0.5, 'batch_size': 40}\n"
     ]
    }
   ],
   "source": [
    "batch_sizes = [40, 50, 60, 80]\n",
    "dropout_params = [0.3, 0.5, 0.6]\n",
    "n_neurons = [15, 60, 55, 50, 45, 40, 35, 30, 25, 20, 10, 8, 1]\n",
    "\n",
    "best_rmse = 0\n",
    "\n",
    "for batch_size in batch_sizes:\n",
    "    for dropout_p in dropout_params:\n",
    "        net_with_tuning_params = Net(n_neurons, dropout_p)\n",
    "        net_with_tuning_params, rmse = fit_net(net_with_tuning_params, num_epochs=300, batch_size=batch_size)\n",
    "        \n",
    "        if rmse > best_rmse:\n",
    "                best_rmse = rmse\n",
    "                best_params = {'dropout_p': dropout_p, 'batch_size': batch_size}\n",
    "                \n",
    "print('best rmse of net_with_tuning_params:', rmse)\n",
    "print('best params of net_with_tuning_params:', best_params)"
   ]
  },
  {
   "cell_type": "markdown",
   "id": "fed84d4e",
   "metadata": {},
   "source": [
    "RMSE improved just a little after tunining parameters. \n",
    "\n",
    "Best parameters: `dropout_p` = 0.5 and `batch_size` = 40.\n",
    "\n",
    "Look at predictions on the test data:"
   ]
  },
  {
   "cell_type": "code",
   "execution_count": 18,
   "id": "e9e90b5e",
   "metadata": {},
   "outputs": [
    {
     "name": "stdout",
     "output_type": "stream",
     "text": [
      "rmse baseline net on test: 3683.6533\n"
     ]
    },
    {
     "data": {
      "image/png": "[encoded data removed]",
      "text/plain": [
       "<Figure size 1440x432 with 1 Axes>"
      ]
     },
     "metadata": {
      "needs_background": "light"
     },
     "output_type": "display_data"
    }
   ],
   "source": [
    "preds_test_baseline = net_baseline.forward(features_test)\n",
    "rmse_test_baseline = mean_squared_error(target_test, preds_test_baseline.detach().numpy(), squared=False)\n",
    "\n",
    "\n",
    "print('rmse baseline net on test:', rmse_test_baseline)\n",
    "drow_plot(target_test, preds_test_baseline)"
   ]
  },
  {
   "cell_type": "code",
   "execution_count": 19,
   "id": "05330342",
   "metadata": {},
   "outputs": [
    {
     "name": "stdout",
     "output_type": "stream",
     "text": [
      "12500.007\n",
      "8968.154\n",
      "6831.0513\n",
      "5324.241\n",
      "4551.3228\n",
      "4025.78\n",
      "3968.7383\n",
      "3978.3188\n",
      "3941.3147\n",
      "3896.777\n",
      "3876.5242\n",
      "3876.47\n",
      "3852.6807\n",
      "3845.7517\n",
      "3907.4282\n",
      "3866.572\n",
      "rmse net with tuning params on test: 3657.5059\n"
     ]
    },
    {
     "data": {
      "image/png": "[encoded data removed]",
      "text/plain": [
       "<Figure size 1440x432 with 1 Axes>"
      ]
     },
     "metadata": {
      "needs_background": "light"
     },
     "output_type": "display_data"
    }
   ],
   "source": [
    "n_neurons = [15, 60, 55, 50, 45, 40, 35, 30, 25, 20, 10, 8, 1]\n",
    "net_tuning_params_best = Net(n_neurons, best_params['dropout_p'])\n",
    "net_tuning_params_best, rmse_valid_tuning_params_best = fit_net(net_tuning_params_best, 300, best_params['batch_size'])\n",
    "\n",
    "preds_test_tuning_params_best = net_tuning_params_best.forward(features_test)\n",
    "rmse_test_tuning_params_best = mean_squared_error(target_test, preds_test_tuning_params_best.detach().numpy(), squared=False)\n",
    "\n",
    "\n",
    "print('rmse net with tuning params on test:', rmse_test_tuning_params_best)\n",
    "drow_plot(target_test, preds_test_tuning_params_best)"
   ]
  },
  {
   "cell_type": "markdown",
   "id": "93a80838",
   "metadata": {},
   "source": [
    "Model after parameter tuning has a little better \n",
    "\n",
    "RMSE on the test data than base model. RMSE = 3658  on test data.\n",
    "\n",
    "The graphs of the models are similar, both predict low temperatures well and large ones badly."
   ]
  },
  {
   "cell_type": "markdown",
   "id": "accurate-infrastructure",
   "metadata": {},
   "source": [
    "## Conclusion"
   ]
  },
  {
   "cell_type": "markdown",
   "id": "c2c47f39",
   "metadata": {},
   "source": [
    "- The data was preprocessed. Removed the implicit duplicates.\n",
    "- Encoded categorical features and scaled numerical features.\n",
    "- Built the base model of a neural network, found optimal number of hidden layers, neurons, activation function, initialization of weights.\n",
    "- Improved the RMSE of the model by tuning the model parameters.\n",
    "- The RMSE = 3658 of the improved model is on the test data."
   ]
  }
 ],
 "metadata": {
  "ExecuteTimeLog": [
   {
    "duration": 47,
    "start_time": "2023-08-29T15:32:58.478Z"
   },
   {
    "duration": 1594,
    "start_time": "2023-08-29T15:33:13.519Z"
   },
   {
    "duration": 77,
    "start_time": "2023-08-29T15:33:16.328Z"
   },
   {
    "duration": 16173,
    "start_time": "2023-08-29T16:22:05.481Z"
   },
   {
    "duration": 2818,
    "start_time": "2023-08-29T16:22:33.213Z"
   },
   {
    "duration": 44,
    "start_time": "2023-08-29T16:22:37.293Z"
   },
   {
    "duration": 11688,
    "start_time": "2023-08-29T16:23:00.354Z"
   },
   {
    "duration": 243,
    "start_time": "2023-08-29T16:48:46.733Z"
   },
   {
    "duration": 13,
    "start_time": "2023-08-29T16:48:57.480Z"
   },
   {
    "duration": 17,
    "start_time": "2023-08-29T16:49:30.242Z"
   },
   {
    "duration": 8,
    "start_time": "2023-08-29T16:50:02.584Z"
   },
   {
    "duration": 7,
    "start_time": "2023-08-29T16:57:29.003Z"
   },
   {
    "duration": 7,
    "start_time": "2023-08-29T16:57:33.983Z"
   },
   {
    "duration": 6,
    "start_time": "2023-08-29T16:58:39.206Z"
   },
   {
    "duration": 7,
    "start_time": "2023-08-29T16:58:40.608Z"
   },
   {
    "duration": 9,
    "start_time": "2023-08-29T16:58:57.706Z"
   },
   {
    "duration": 7,
    "start_time": "2023-08-29T16:58:59.126Z"
   },
   {
    "duration": 8,
    "start_time": "2023-08-29T16:59:30.829Z"
   },
   {
    "duration": 6,
    "start_time": "2023-08-29T16:59:31.303Z"
   },
   {
    "duration": 1736,
    "start_time": "2023-08-29T17:06:22.224Z"
   },
   {
    "duration": 197,
    "start_time": "2023-08-29T17:06:32.589Z"
   },
   {
    "duration": 6,
    "start_time": "2023-08-29T17:10:30.561Z"
   },
   {
    "duration": 7,
    "start_time": "2023-08-29T17:10:31.212Z"
   },
   {
    "duration": 6,
    "start_time": "2023-08-29T17:11:17.411Z"
   },
   {
    "duration": 6,
    "start_time": "2023-08-29T17:11:18.088Z"
   },
   {
    "duration": 5,
    "start_time": "2023-08-29T17:11:53.794Z"
   },
   {
    "duration": 6,
    "start_time": "2023-08-29T17:11:54.194Z"
   },
   {
    "duration": 19,
    "start_time": "2023-08-29T17:13:18.040Z"
   },
   {
    "duration": 12,
    "start_time": "2023-08-29T17:14:11.668Z"
   },
   {
    "duration": 8,
    "start_time": "2023-08-29T17:17:17.662Z"
   },
   {
    "duration": 47,
    "start_time": "2023-08-29T17:17:21.862Z"
   },
   {
    "duration": 7,
    "start_time": "2023-08-29T17:17:25.925Z"
   },
   {
    "duration": 7,
    "start_time": "2023-08-29T17:17:26.682Z"
   },
   {
    "duration": 13,
    "start_time": "2023-08-29T17:18:04.340Z"
   },
   {
    "duration": 244,
    "start_time": "2023-08-29T17:23:46.939Z"
   },
   {
    "duration": 21,
    "start_time": "2023-08-29T17:26:40.033Z"
   },
   {
    "duration": 20,
    "start_time": "2023-08-29T17:27:35.016Z"
   },
   {
    "duration": 38,
    "start_time": "2023-08-29T17:32:34.974Z"
   },
   {
    "duration": 5,
    "start_time": "2023-08-29T17:33:36.077Z"
   },
   {
    "duration": 10,
    "start_time": "2023-08-29T17:33:48.631Z"
   },
   {
    "duration": 8,
    "start_time": "2023-08-29T17:35:14.975Z"
   },
   {
    "duration": 1647,
    "start_time": "2023-08-29T17:35:18.075Z"
   },
   {
    "duration": 8,
    "start_time": "2023-08-29T17:35:25.309Z"
   },
   {
    "duration": 20,
    "start_time": "2023-08-29T17:35:41.713Z"
   },
   {
    "duration": 6,
    "start_time": "2023-08-29T17:44:32.577Z"
   },
   {
    "duration": 44,
    "start_time": "2023-08-29T17:44:49.294Z"
   },
   {
    "duration": 5,
    "start_time": "2023-08-29T17:44:51.145Z"
   },
   {
    "duration": 7,
    "start_time": "2023-08-29T17:44:56.021Z"
   },
   {
    "duration": 5,
    "start_time": "2023-08-29T17:44:59.046Z"
   },
   {
    "duration": 1445,
    "start_time": "2023-08-29T17:45:07.785Z"
   },
   {
    "duration": 257,
    "start_time": "2023-08-29T17:45:24.775Z"
   },
   {
    "duration": 1345,
    "start_time": "2023-08-30T08:52:08.433Z"
   },
   {
    "duration": 17332,
    "start_time": "2023-08-30T08:52:13.205Z"
   },
   {
    "duration": 3767,
    "start_time": "2023-08-30T08:52:54.082Z"
   },
   {
    "duration": 220,
    "start_time": "2023-08-30T08:59:41.471Z"
   },
   {
    "duration": 90,
    "start_time": "2023-08-30T08:59:44.482Z"
   },
   {
    "duration": 3,
    "start_time": "2023-08-30T08:59:47.687Z"
   },
   {
    "duration": 7,
    "start_time": "2023-08-30T08:59:50.397Z"
   },
   {
    "duration": 6,
    "start_time": "2023-08-30T09:00:08.433Z"
   },
   {
    "duration": 1684,
    "start_time": "2023-08-30T09:00:09.597Z"
   },
   {
    "duration": 5,
    "start_time": "2023-08-30T09:00:30.463Z"
   },
   {
    "duration": 218,
    "start_time": "2023-08-30T09:00:30.861Z"
   },
   {
    "duration": 6,
    "start_time": "2023-08-30T09:01:03.562Z"
   },
   {
    "duration": 6,
    "start_time": "2023-08-30T09:01:31.009Z"
   },
   {
    "duration": 7,
    "start_time": "2023-08-30T09:01:31.883Z"
   },
   {
    "duration": 167,
    "start_time": "2023-08-30T09:01:34.820Z"
   },
   {
    "duration": 15,
    "start_time": "2023-08-30T09:13:32.006Z"
   },
   {
    "duration": 10,
    "start_time": "2023-08-30T09:13:47.409Z"
   },
   {
    "duration": 8,
    "start_time": "2023-08-30T09:18:58.766Z"
   },
   {
    "duration": 28,
    "start_time": "2023-08-30T09:19:05.255Z"
   },
   {
    "duration": 7,
    "start_time": "2023-08-30T09:19:25.039Z"
   },
   {
    "duration": 9088,
    "start_time": "2023-08-30T09:22:13.291Z"
   },
   {
    "duration": 3,
    "start_time": "2023-08-30T09:47:06.275Z"
   },
   {
    "duration": 7,
    "start_time": "2023-08-30T09:47:50.955Z"
   },
   {
    "duration": 22,
    "start_time": "2023-08-30T09:51:15.589Z"
   },
   {
    "duration": 7,
    "start_time": "2023-08-30T09:51:22.406Z"
   },
   {
    "duration": 6,
    "start_time": "2023-08-30T09:51:26.391Z"
   },
   {
    "duration": 13,
    "start_time": "2023-08-30T09:52:15.168Z"
   },
   {
    "duration": 3,
    "start_time": "2023-08-30T09:53:17.804Z"
   },
   {
    "duration": 9,
    "start_time": "2023-08-30T09:53:54.812Z"
   },
   {
    "duration": 13,
    "start_time": "2023-08-30T09:54:00.110Z"
   },
   {
    "duration": 10,
    "start_time": "2023-08-30T09:58:57.826Z"
   },
   {
    "duration": 5,
    "start_time": "2023-08-30T10:31:54.808Z"
   },
   {
    "duration": 7,
    "start_time": "2023-08-30T10:43:01.427Z"
   },
   {
    "duration": 29,
    "start_time": "2023-08-30T10:43:01.717Z"
   },
   {
    "duration": 5,
    "start_time": "2023-08-30T10:43:13.217Z"
   },
   {
    "duration": 17,
    "start_time": "2023-08-30T10:43:13.430Z"
   },
   {
    "duration": 29,
    "start_time": "2023-08-30T10:43:33.073Z"
   },
   {
    "duration": 16,
    "start_time": "2023-08-30T10:45:47.137Z"
   },
   {
    "duration": 17,
    "start_time": "2023-08-30T10:45:58.013Z"
   },
   {
    "duration": 15,
    "start_time": "2023-08-30T10:46:04.202Z"
   },
   {
    "duration": 37,
    "start_time": "2023-08-30T10:46:17.207Z"
   },
   {
    "duration": 4,
    "start_time": "2023-08-30T10:46:23.273Z"
   },
   {
    "duration": 5,
    "start_time": "2023-08-30T10:46:28.030Z"
   },
   {
    "duration": 13,
    "start_time": "2023-08-30T10:46:28.921Z"
   },
   {
    "duration": 5,
    "start_time": "2023-08-30T10:46:31.769Z"
   },
   {
    "duration": 5,
    "start_time": "2023-08-30T10:46:34.189Z"
   },
   {
    "duration": 30,
    "start_time": "2023-08-30T10:46:35.126Z"
   },
   {
    "duration": 5,
    "start_time": "2023-08-30T10:47:02.409Z"
   },
   {
    "duration": 29,
    "start_time": "2023-08-30T10:47:03.403Z"
   },
   {
    "duration": 12,
    "start_time": "2023-08-30T10:47:42.589Z"
   },
   {
    "duration": 16,
    "start_time": "2023-08-30T10:53:13.911Z"
   },
   {
    "duration": 2716,
    "start_time": "2023-08-30T10:54:41.774Z"
   },
   {
    "duration": 4,
    "start_time": "2023-08-30T10:54:44.492Z"
   },
   {
    "duration": 63,
    "start_time": "2023-08-30T10:54:44.498Z"
   },
   {
    "duration": 4,
    "start_time": "2023-08-30T10:54:44.565Z"
   },
   {
    "duration": 21,
    "start_time": "2023-08-30T10:54:44.571Z"
   },
   {
    "duration": 23,
    "start_time": "2023-08-30T10:54:44.594Z"
   },
   {
    "duration": 15,
    "start_time": "2023-08-30T10:54:44.619Z"
   },
   {
    "duration": 58,
    "start_time": "2023-08-30T10:54:44.636Z"
   },
   {
    "duration": 20,
    "start_time": "2023-08-30T10:54:44.696Z"
   },
   {
    "duration": 192,
    "start_time": "2023-08-30T10:54:44.718Z"
   },
   {
    "duration": 5,
    "start_time": "2023-08-30T10:54:48.921Z"
   },
   {
    "duration": 34,
    "start_time": "2023-08-30T10:54:50.521Z"
   },
   {
    "duration": 21,
    "start_time": "2023-08-30T10:54:55.313Z"
   },
   {
    "duration": 9,
    "start_time": "2023-08-30T10:55:04.400Z"
   },
   {
    "duration": 2622,
    "start_time": "2023-08-30T10:55:40.416Z"
   },
   {
    "duration": 4,
    "start_time": "2023-08-30T10:55:43.040Z"
   },
   {
    "duration": 45,
    "start_time": "2023-08-30T10:55:43.046Z"
   },
   {
    "duration": 3,
    "start_time": "2023-08-30T10:55:43.093Z"
   },
   {
    "duration": 5,
    "start_time": "2023-08-30T10:55:43.097Z"
   },
   {
    "duration": 11,
    "start_time": "2023-08-30T10:55:43.104Z"
   },
   {
    "duration": 8,
    "start_time": "2023-08-30T10:55:43.116Z"
   },
   {
    "duration": 13,
    "start_time": "2023-08-30T10:55:43.126Z"
   },
   {
    "duration": 8,
    "start_time": "2023-08-30T10:55:43.141Z"
   },
   {
    "duration": 181,
    "start_time": "2023-08-30T10:55:43.151Z"
   },
   {
    "duration": 6,
    "start_time": "2023-08-30T10:55:43.333Z"
   },
   {
    "duration": 31,
    "start_time": "2023-08-30T10:55:44.171Z"
   },
   {
    "duration": 6,
    "start_time": "2023-08-30T10:55:44.930Z"
   },
   {
    "duration": 16,
    "start_time": "2023-08-30T10:55:50.165Z"
   },
   {
    "duration": 6,
    "start_time": "2023-08-30T10:56:03.433Z"
   },
   {
    "duration": 11,
    "start_time": "2023-08-30T10:56:25.380Z"
   },
   {
    "duration": 14,
    "start_time": "2023-08-30T10:56:38.709Z"
   },
   {
    "duration": 6,
    "start_time": "2023-08-30T10:56:53.860Z"
   },
   {
    "duration": 5,
    "start_time": "2023-08-30T10:57:12.778Z"
   },
   {
    "duration": 9,
    "start_time": "2023-08-30T10:57:13.828Z"
   },
   {
    "duration": 7,
    "start_time": "2023-08-30T10:57:15.143Z"
   },
   {
    "duration": 4,
    "start_time": "2023-08-30T10:57:32.759Z"
   },
   {
    "duration": 6,
    "start_time": "2023-08-30T10:57:37.810Z"
   },
   {
    "duration": 30,
    "start_time": "2023-08-30T10:57:48.235Z"
   },
   {
    "duration": 15,
    "start_time": "2023-08-30T11:14:10.427Z"
   },
   {
    "duration": 13,
    "start_time": "2023-08-30T11:14:20.182Z"
   },
   {
    "duration": 5,
    "start_time": "2023-08-30T11:16:44.746Z"
   },
   {
    "duration": 66,
    "start_time": "2023-08-30T12:04:15.283Z"
   },
   {
    "duration": 5,
    "start_time": "2023-08-30T12:04:20.030Z"
   },
   {
    "duration": 7,
    "start_time": "2023-08-30T12:09:53.146Z"
   },
   {
    "duration": 5,
    "start_time": "2023-08-30T12:10:14.812Z"
   },
   {
    "duration": 4,
    "start_time": "2023-08-30T12:10:24.842Z"
   },
   {
    "duration": 5,
    "start_time": "2023-08-30T12:29:00.769Z"
   },
   {
    "duration": 35,
    "start_time": "2023-08-30T12:29:03.645Z"
   },
   {
    "duration": 6,
    "start_time": "2023-08-30T12:29:17.686Z"
   },
   {
    "duration": 16,
    "start_time": "2023-08-30T12:29:18.139Z"
   },
   {
    "duration": 9,
    "start_time": "2023-08-30T12:31:31.512Z"
   },
   {
    "duration": 14,
    "start_time": "2023-08-30T12:32:38.856Z"
   },
   {
    "duration": 4,
    "start_time": "2023-08-30T12:32:49.242Z"
   },
   {
    "duration": 4,
    "start_time": "2023-08-30T12:32:58.975Z"
   },
   {
    "duration": 3,
    "start_time": "2023-08-30T12:44:42.641Z"
   },
   {
    "duration": 35,
    "start_time": "2023-08-30T12:45:22.107Z"
   },
   {
    "duration": 14,
    "start_time": "2023-08-30T12:45:41.064Z"
   },
   {
    "duration": 5,
    "start_time": "2023-08-30T12:45:57.526Z"
   },
   {
    "duration": 4,
    "start_time": "2023-08-30T13:35:16.551Z"
   },
   {
    "duration": 3,
    "start_time": "2023-08-30T13:35:24.498Z"
   },
   {
    "duration": 4,
    "start_time": "2023-08-30T13:35:33.808Z"
   },
   {
    "duration": 8,
    "start_time": "2023-08-30T13:35:53.790Z"
   },
   {
    "duration": 20,
    "start_time": "2023-08-30T13:36:41.218Z"
   },
   {
    "duration": 36,
    "start_time": "2023-08-30T13:36:52.013Z"
   },
   {
    "duration": 46,
    "start_time": "2023-08-30T13:36:52.553Z"
   },
   {
    "duration": 43,
    "start_time": "2023-08-30T13:37:10.126Z"
   },
   {
    "duration": 6,
    "start_time": "2023-08-30T13:37:10.401Z"
   },
   {
    "duration": 10,
    "start_time": "2023-08-30T13:37:14.144Z"
   },
   {
    "duration": 5,
    "start_time": "2023-08-30T13:37:21.182Z"
   },
   {
    "duration": 9,
    "start_time": "2023-08-30T13:37:42.996Z"
   },
   {
    "duration": 5,
    "start_time": "2023-08-30T14:12:16.169Z"
   },
   {
    "duration": 15,
    "start_time": "2023-08-30T14:32:06.976Z"
   },
   {
    "duration": 83,
    "start_time": "2023-08-30T14:32:17.839Z"
   },
   {
    "duration": 36,
    "start_time": "2023-08-30T14:33:48.035Z"
   },
   {
    "duration": 36,
    "start_time": "2023-08-30T14:34:20.545Z"
   },
   {
    "duration": 5,
    "start_time": "2023-08-30T14:35:13.912Z"
   },
   {
    "duration": 6,
    "start_time": "2023-08-30T14:35:25.565Z"
   },
   {
    "duration": 5,
    "start_time": "2023-08-30T14:35:43.513Z"
   },
   {
    "duration": 6,
    "start_time": "2023-08-30T14:35:47.836Z"
   },
   {
    "duration": 8,
    "start_time": "2023-08-30T14:36:18.582Z"
   },
   {
    "duration": 4,
    "start_time": "2023-08-30T14:36:27.656Z"
   },
   {
    "duration": 8,
    "start_time": "2023-08-30T16:41:33.488Z"
   },
   {
    "duration": 8,
    "start_time": "2023-08-30T16:45:04.351Z"
   },
   {
    "duration": 4,
    "start_time": "2023-08-30T16:55:29.887Z"
   },
   {
    "duration": 32,
    "start_time": "2023-08-30T16:55:49.512Z"
   },
   {
    "duration": 5,
    "start_time": "2023-08-30T16:56:16.129Z"
   },
   {
    "duration": 22,
    "start_time": "2023-08-30T16:56:19.256Z"
   },
   {
    "duration": 3,
    "start_time": "2023-08-30T16:56:47.911Z"
   },
   {
    "duration": 4,
    "start_time": "2023-08-30T16:57:01.408Z"
   },
   {
    "duration": 72,
    "start_time": "2023-08-30T16:58:13.653Z"
   },
   {
    "duration": 6,
    "start_time": "2023-08-30T16:59:51.363Z"
   },
   {
    "duration": 22,
    "start_time": "2023-08-30T17:00:12.649Z"
   },
   {
    "duration": 8,
    "start_time": "2023-08-30T17:07:43.508Z"
   },
   {
    "duration": 46,
    "start_time": "2023-08-30T17:08:54.392Z"
   },
   {
    "duration": 19,
    "start_time": "2023-08-30T17:10:33.646Z"
   },
   {
    "duration": 33,
    "start_time": "2023-08-30T17:11:43.655Z"
   },
   {
    "duration": 7,
    "start_time": "2023-08-30T17:12:20.693Z"
   },
   {
    "duration": 11,
    "start_time": "2023-08-30T17:13:45.582Z"
   },
   {
    "duration": 40,
    "start_time": "2023-08-30T17:13:56.445Z"
   },
   {
    "duration": 9,
    "start_time": "2023-08-30T17:35:25.480Z"
   },
   {
    "duration": 37,
    "start_time": "2023-08-30T17:35:33.244Z"
   },
   {
    "duration": 7,
    "start_time": "2023-08-30T17:36:15.077Z"
   },
   {
    "duration": 25,
    "start_time": "2023-08-30T17:36:15.832Z"
   },
   {
    "duration": 7,
    "start_time": "2023-08-30T17:36:23.454Z"
   },
   {
    "duration": 23,
    "start_time": "2023-08-30T17:37:59.088Z"
   },
   {
    "duration": 5,
    "start_time": "2023-08-30T17:38:01.474Z"
   },
   {
    "duration": 55,
    "start_time": "2023-08-30T17:38:52.769Z"
   },
   {
    "duration": 21,
    "start_time": "2023-08-30T17:38:53.808Z"
   },
   {
    "duration": 7,
    "start_time": "2023-08-30T17:38:55.760Z"
   },
   {
    "duration": 7,
    "start_time": "2023-08-30T17:39:02.902Z"
   },
   {
    "duration": 20,
    "start_time": "2023-08-30T17:39:03.631Z"
   },
   {
    "duration": 9,
    "start_time": "2023-08-30T17:39:04.469Z"
   },
   {
    "duration": 8,
    "start_time": "2023-08-30T17:39:47.138Z"
   },
   {
    "duration": 23,
    "start_time": "2023-08-30T17:39:49.151Z"
   },
   {
    "duration": 8,
    "start_time": "2023-08-30T17:39:49.958Z"
   },
   {
    "duration": 4,
    "start_time": "2023-08-30T17:40:21.986Z"
   },
   {
    "duration": 5,
    "start_time": "2023-08-30T17:40:34.135Z"
   },
   {
    "duration": 4,
    "start_time": "2023-08-30T17:40:57.519Z"
   },
   {
    "duration": 32,
    "start_time": "2023-08-30T17:41:00.598Z"
   },
   {
    "duration": 29,
    "start_time": "2023-08-30T17:41:07.980Z"
   },
   {
    "duration": 28,
    "start_time": "2023-08-30T17:41:35.419Z"
   },
   {
    "duration": 323,
    "start_time": "2023-08-30T17:42:19.924Z"
   },
   {
    "duration": 599,
    "start_time": "2023-08-30T17:45:25.806Z"
   },
   {
    "duration": 8,
    "start_time": "2023-08-30T17:46:11.027Z"
   },
   {
    "duration": 22,
    "start_time": "2023-08-30T17:46:11.744Z"
   },
   {
    "duration": 4,
    "start_time": "2023-08-30T17:46:22.899Z"
   },
   {
    "duration": 7,
    "start_time": "2023-08-30T17:46:33.041Z"
   },
   {
    "duration": 22,
    "start_time": "2023-08-30T17:46:34.226Z"
   },
   {
    "duration": 563,
    "start_time": "2023-08-30T17:46:37.645Z"
   },
   {
    "duration": 289,
    "start_time": "2023-08-30T17:46:51.534Z"
   },
   {
    "duration": 352,
    "start_time": "2023-08-30T18:30:39.125Z"
   },
   {
    "duration": 355,
    "start_time": "2023-08-30T18:31:04.859Z"
   },
   {
    "duration": 419,
    "start_time": "2023-08-30T18:31:19.551Z"
   },
   {
    "duration": 379,
    "start_time": "2023-08-30T18:31:38.509Z"
   },
   {
    "duration": 368,
    "start_time": "2023-08-30T18:31:44.164Z"
   },
   {
    "duration": 3556,
    "start_time": "2023-08-30T18:32:06.461Z"
   },
   {
    "duration": 3961,
    "start_time": "2023-08-30T18:33:21.626Z"
   },
   {
    "duration": 5521,
    "start_time": "2023-08-30T18:33:41.271Z"
   },
   {
    "duration": 6540,
    "start_time": "2023-08-30T18:33:58.461Z"
   },
   {
    "duration": 8011,
    "start_time": "2023-08-30T18:34:47.555Z"
   },
   {
    "duration": 9008,
    "start_time": "2023-08-30T18:35:09.865Z"
   },
   {
    "duration": 8990,
    "start_time": "2023-08-30T18:35:24.188Z"
   },
   {
    "duration": 9946,
    "start_time": "2023-08-30T18:36:00.312Z"
   },
   {
    "duration": 10010,
    "start_time": "2023-08-30T18:38:27.229Z"
   },
   {
    "duration": 6532,
    "start_time": "2023-08-30T18:38:46.066Z"
   },
   {
    "duration": 12595,
    "start_time": "2023-08-30T18:39:06.339Z"
   },
   {
    "duration": 11435,
    "start_time": "2023-08-30T18:39:31.941Z"
   },
   {
    "duration": 12441,
    "start_time": "2023-08-30T18:39:57.267Z"
   },
   {
    "duration": 10217,
    "start_time": "2023-08-30T18:40:19.635Z"
   },
   {
    "duration": 6803,
    "start_time": "2023-08-30T18:40:31.001Z"
   },
   {
    "duration": 10708,
    "start_time": "2023-08-30T19:08:01.257Z"
   },
   {
    "duration": 8913,
    "start_time": "2023-08-30T19:08:22.587Z"
   },
   {
    "duration": 8825,
    "start_time": "2023-08-30T19:08:44.613Z"
   },
   {
    "duration": 5387,
    "start_time": "2023-08-30T19:08:56.842Z"
   },
   {
    "duration": 21361,
    "start_time": "2023-08-30T19:09:09.992Z"
   },
   {
    "duration": 25546,
    "start_time": "2023-08-30T19:09:36.605Z"
   },
   {
    "duration": 19179,
    "start_time": "2023-08-30T19:10:14.500Z"
   },
   {
    "duration": 7010,
    "start_time": "2023-08-30T19:10:47.276Z"
   },
   {
    "duration": 7188,
    "start_time": "2023-08-30T19:11:01.383Z"
   },
   {
    "duration": 6,
    "start_time": "2023-08-30T19:12:02.921Z"
   },
   {
    "duration": 7123,
    "start_time": "2023-08-30T19:12:05.132Z"
   },
   {
    "duration": 7157,
    "start_time": "2023-08-30T19:13:13.310Z"
   },
   {
    "duration": 5,
    "start_time": "2023-08-30T19:13:26.388Z"
   },
   {
    "duration": 7214,
    "start_time": "2023-08-30T19:13:30.045Z"
   },
   {
    "duration": 7706,
    "start_time": "2023-08-30T19:13:47.353Z"
   },
   {
    "duration": 8526,
    "start_time": "2023-08-30T19:14:19.984Z"
   },
   {
    "duration": 9305,
    "start_time": "2023-08-30T19:17:35.886Z"
   },
   {
    "duration": 7986,
    "start_time": "2023-08-30T19:17:57.143Z"
   },
   {
    "duration": 9467,
    "start_time": "2023-08-30T19:18:14.560Z"
   },
   {
    "duration": 8890,
    "start_time": "2023-08-30T19:18:31.978Z"
   },
   {
    "duration": 8596,
    "start_time": "2023-08-30T19:18:43.980Z"
   },
   {
    "duration": 5,
    "start_time": "2023-08-30T19:22:03.073Z"
   },
   {
    "duration": 8643,
    "start_time": "2023-08-30T19:22:07.680Z"
   },
   {
    "duration": 9100,
    "start_time": "2023-08-30T19:22:18.684Z"
   },
   {
    "duration": 3186,
    "start_time": "2023-08-30T20:26:42.707Z"
   },
   {
    "duration": 44,
    "start_time": "2023-08-30T20:26:45.895Z"
   },
   {
    "duration": 4,
    "start_time": "2023-08-30T20:26:47.882Z"
   },
   {
    "duration": 4,
    "start_time": "2023-08-30T20:26:50.739Z"
   },
   {
    "duration": 24,
    "start_time": "2023-08-30T20:26:50.745Z"
   },
   {
    "duration": 11,
    "start_time": "2023-08-30T20:26:52.347Z"
   },
   {
    "duration": 14,
    "start_time": "2023-08-30T20:26:54.525Z"
   },
   {
    "duration": 4,
    "start_time": "2023-08-30T20:26:56.141Z"
   },
   {
    "duration": 205,
    "start_time": "2023-08-30T20:26:57.024Z"
   },
   {
    "duration": 8,
    "start_time": "2023-08-30T20:26:59.911Z"
   },
   {
    "duration": 25,
    "start_time": "2023-08-30T20:27:00.917Z"
   },
   {
    "duration": 4,
    "start_time": "2023-08-30T20:27:02.301Z"
   },
   {
    "duration": 5,
    "start_time": "2023-08-30T20:27:04.815Z"
   },
   {
    "duration": 8343,
    "start_time": "2023-08-30T20:27:09.177Z"
   },
   {
    "duration": 15851,
    "start_time": "2023-08-30T20:27:51.729Z"
   },
   {
    "duration": 16259,
    "start_time": "2023-08-30T20:28:21.118Z"
   },
   {
    "duration": 8330,
    "start_time": "2023-08-30T20:28:53.882Z"
   },
   {
    "duration": 8387,
    "start_time": "2023-08-30T20:29:05.439Z"
   },
   {
    "duration": 8522,
    "start_time": "2023-08-30T20:32:20.983Z"
   },
   {
    "duration": 8756,
    "start_time": "2023-08-30T20:32:34.840Z"
   },
   {
    "duration": 4,
    "start_time": "2023-08-30T20:32:48.906Z"
   },
   {
    "duration": 7719,
    "start_time": "2023-08-30T20:32:58.537Z"
   },
   {
    "duration": 6842,
    "start_time": "2023-08-30T20:33:15.593Z"
   },
   {
    "duration": 3675,
    "start_time": "2023-08-30T20:33:28.151Z"
   },
   {
    "duration": 2888,
    "start_time": "2023-08-30T20:33:38.929Z"
   },
   {
    "duration": 4536,
    "start_time": "2023-08-30T20:33:51.202Z"
   },
   {
    "duration": 6704,
    "start_time": "2023-08-30T20:34:05.193Z"
   },
   {
    "duration": 5281,
    "start_time": "2023-08-30T20:34:23.696Z"
   },
   {
    "duration": 5315,
    "start_time": "2023-08-30T20:34:45.205Z"
   },
   {
    "duration": 6356,
    "start_time": "2023-08-30T20:35:01.915Z"
   },
   {
    "duration": 7038,
    "start_time": "2023-08-30T20:35:18.036Z"
   },
   {
    "duration": 7921,
    "start_time": "2023-08-30T20:35:39.792Z"
   },
   {
    "duration": 6890,
    "start_time": "2023-08-30T20:36:03.088Z"
   },
   {
    "duration": 6812,
    "start_time": "2023-08-30T20:36:12.992Z"
   },
   {
    "duration": 8325,
    "start_time": "2023-08-30T20:36:38.173Z"
   },
   {
    "duration": 7406,
    "start_time": "2023-08-30T20:36:57.501Z"
   },
   {
    "duration": 6640,
    "start_time": "2023-08-30T20:37:23.670Z"
   },
   {
    "duration": 6685,
    "start_time": "2023-08-30T20:37:47.990Z"
   },
   {
    "duration": 7459,
    "start_time": "2023-08-30T20:38:10.577Z"
   },
   {
    "duration": 6899,
    "start_time": "2023-08-30T20:38:29.342Z"
   },
   {
    "duration": 7997,
    "start_time": "2023-08-30T20:38:44.991Z"
   },
   {
    "duration": 7578,
    "start_time": "2023-08-30T20:38:59.205Z"
   },
   {
    "duration": 5695,
    "start_time": "2023-08-30T20:39:12.402Z"
   },
   {
    "duration": 9790,
    "start_time": "2023-08-30T20:39:30.923Z"
   },
   {
    "duration": 8190,
    "start_time": "2023-08-30T20:40:00.077Z"
   },
   {
    "duration": 9685,
    "start_time": "2023-08-30T20:40:12.356Z"
   },
   {
    "duration": 79497,
    "start_time": "2023-08-30T20:40:32.607Z"
   },
   {
    "duration": 47507,
    "start_time": "2023-08-30T20:41:59.975Z"
   },
   {
    "duration": 8,
    "start_time": "2023-08-30T21:52:35.205Z"
   },
   {
    "duration": 763,
    "start_time": "2023-08-30T21:52:40.293Z"
   },
   {
    "duration": 22857,
    "start_time": "2023-08-30T21:53:21.817Z"
   },
   {
    "duration": 8,
    "start_time": "2023-08-30T21:56:19.262Z"
   },
   {
    "duration": 6,
    "start_time": "2023-08-30T21:56:25.928Z"
   },
   {
    "duration": 20671,
    "start_time": "2023-08-30T21:56:27.197Z"
   },
   {
    "duration": 5,
    "start_time": "2023-08-30T21:57:17.398Z"
   },
   {
    "duration": 6,
    "start_time": "2023-08-30T22:01:59.428Z"
   },
   {
    "duration": 6,
    "start_time": "2023-08-30T22:47:10.906Z"
   },
   {
    "duration": 19871,
    "start_time": "2023-08-30T22:47:11.694Z"
   },
   {
    "duration": 12918,
    "start_time": "2023-08-30T22:47:50.949Z"
   },
   {
    "duration": 6,
    "start_time": "2023-08-30T22:48:10.693Z"
   },
   {
    "duration": 14625,
    "start_time": "2023-08-30T22:48:38.435Z"
   },
   {
    "duration": 15996,
    "start_time": "2023-08-30T22:49:52.572Z"
   },
   {
    "duration": 11382,
    "start_time": "2023-08-30T23:09:26.488Z"
   },
   {
    "duration": 6,
    "start_time": "2023-08-30T23:09:41.264Z"
   },
   {
    "duration": 7,
    "start_time": "2023-08-30T23:10:09.865Z"
   },
   {
    "duration": 6286,
    "start_time": "2023-08-30T23:10:11.501Z"
   },
   {
    "duration": 11424,
    "start_time": "2023-08-30T23:10:25.534Z"
   },
   {
    "duration": 6,
    "start_time": "2023-08-30T23:11:03.134Z"
   },
   {
    "duration": 6,
    "start_time": "2023-08-30T23:11:53.937Z"
   },
   {
    "duration": 11126,
    "start_time": "2023-08-30T23:11:54.534Z"
   },
   {
    "duration": 6,
    "start_time": "2023-08-30T23:12:41.256Z"
   },
   {
    "duration": 10988,
    "start_time": "2023-08-30T23:12:42.072Z"
   },
   {
    "duration": 6,
    "start_time": "2023-08-30T23:13:02.874Z"
   },
   {
    "duration": 7,
    "start_time": "2023-08-30T23:13:23.950Z"
   },
   {
    "duration": 25,
    "start_time": "2023-08-30T23:13:25.130Z"
   },
   {
    "duration": 4,
    "start_time": "2023-08-30T23:13:25.662Z"
   },
   {
    "duration": 6,
    "start_time": "2023-08-30T23:13:29.739Z"
   },
   {
    "duration": 11600,
    "start_time": "2023-08-30T23:13:31.247Z"
   },
   {
    "duration": 6,
    "start_time": "2023-08-30T23:13:45.792Z"
   },
   {
    "duration": 6,
    "start_time": "2023-08-30T23:13:49.338Z"
   },
   {
    "duration": 8,
    "start_time": "2023-08-30T23:30:53.445Z"
   },
   {
    "duration": 22,
    "start_time": "2023-08-30T23:30:53.785Z"
   },
   {
    "duration": 4,
    "start_time": "2023-08-30T23:30:54.842Z"
   },
   {
    "duration": 5,
    "start_time": "2023-08-30T23:31:10.378Z"
   },
   {
    "duration": 7,
    "start_time": "2023-08-30T23:31:12.025Z"
   },
   {
    "duration": 11499,
    "start_time": "2023-08-30T23:31:13.470Z"
   },
   {
    "duration": 6,
    "start_time": "2023-08-30T23:31:26.527Z"
   },
   {
    "duration": 6,
    "start_time": "2023-08-30T23:33:16.928Z"
   },
   {
    "duration": 11229,
    "start_time": "2023-08-30T23:33:18.534Z"
   },
   {
    "duration": 8,
    "start_time": "2023-08-30T23:34:28.300Z"
   },
   {
    "duration": 21,
    "start_time": "2023-08-30T23:34:28.624Z"
   },
   {
    "duration": 5,
    "start_time": "2023-08-30T23:34:44.178Z"
   },
   {
    "duration": 6,
    "start_time": "2023-08-30T23:34:45.100Z"
   },
   {
    "duration": 11513,
    "start_time": "2023-08-30T23:34:47.558Z"
   },
   {
    "duration": 6,
    "start_time": "2023-08-30T23:35:03.822Z"
   },
   {
    "duration": 6,
    "start_time": "2023-08-30T23:38:49.114Z"
   },
   {
    "duration": 11066,
    "start_time": "2023-08-30T23:38:50.092Z"
   },
   {
    "duration": 5,
    "start_time": "2023-08-30T23:39:02.679Z"
   },
   {
    "duration": 5,
    "start_time": "2023-08-30T23:44:04.228Z"
   },
   {
    "duration": 13,
    "start_time": "2023-08-30T23:45:31.257Z"
   },
   {
    "duration": 98,
    "start_time": "2023-08-30T23:45:41.063Z"
   },
   {
    "duration": 143,
    "start_time": "2023-08-30T23:45:44.875Z"
   },
   {
    "duration": 13,
    "start_time": "2023-08-30T23:45:53.396Z"
   },
   {
    "duration": 6,
    "start_time": "2023-08-30T23:45:59.187Z"
   },
   {
    "duration": 5,
    "start_time": "2023-08-30T23:46:34.701Z"
   },
   {
    "duration": 14,
    "start_time": "2023-08-30T23:47:27.878Z"
   },
   {
    "duration": 14,
    "start_time": "2023-08-30T23:49:25.026Z"
   },
   {
    "duration": 4,
    "start_time": "2023-08-30T23:49:51.382Z"
   },
   {
    "duration": 132,
    "start_time": "2023-08-30T23:49:54.352Z"
   },
   {
    "duration": 188,
    "start_time": "2023-08-30T23:50:20.849Z"
   },
   {
    "duration": 6,
    "start_time": "2023-08-31T00:19:11.118Z"
   },
   {
    "duration": 5,
    "start_time": "2023-08-31T00:19:17.677Z"
   },
   {
    "duration": 15,
    "start_time": "2023-08-31T00:19:57.527Z"
   },
   {
    "duration": 329,
    "start_time": "2023-08-31T00:20:13.271Z"
   },
   {
    "duration": 134,
    "start_time": "2023-08-31T00:23:06.045Z"
   },
   {
    "duration": 14,
    "start_time": "2023-08-31T00:23:48.683Z"
   },
   {
    "duration": 117,
    "start_time": "2023-08-31T00:24:27.379Z"
   },
   {
    "duration": 15,
    "start_time": "2023-08-31T00:24:52.260Z"
   },
   {
    "duration": 5,
    "start_time": "2023-08-31T00:26:27.835Z"
   },
   {
    "duration": 12,
    "start_time": "2023-08-31T00:27:53.524Z"
   },
   {
    "duration": 13,
    "start_time": "2023-08-31T00:27:55.532Z"
   },
   {
    "duration": 4,
    "start_time": "2023-08-31T00:28:07.067Z"
   },
   {
    "duration": 23,
    "start_time": "2023-08-31T00:28:10.074Z"
   },
   {
    "duration": 5,
    "start_time": "2023-08-31T00:28:11.654Z"
   },
   {
    "duration": 4,
    "start_time": "2023-08-31T00:28:17.896Z"
   },
   {
    "duration": 4,
    "start_time": "2023-08-31T00:28:43.005Z"
   },
   {
    "duration": 6,
    "start_time": "2023-08-31T00:28:55.672Z"
   },
   {
    "duration": 191,
    "start_time": "2023-08-31T00:29:22.655Z"
   },
   {
    "duration": 186,
    "start_time": "2023-08-31T00:29:52.433Z"
   },
   {
    "duration": 14,
    "start_time": "2023-08-31T00:30:22.984Z"
   },
   {
    "duration": 129,
    "start_time": "2023-08-31T00:30:30.006Z"
   },
   {
    "duration": 124,
    "start_time": "2023-08-31T00:32:21.339Z"
   },
   {
    "duration": 129,
    "start_time": "2023-08-31T00:32:25.058Z"
   },
   {
    "duration": 305,
    "start_time": "2023-08-31T00:33:05.516Z"
   },
   {
    "duration": 5,
    "start_time": "2023-08-31T00:37:32.855Z"
   },
   {
    "duration": 6,
    "start_time": "2023-08-31T00:37:41.000Z"
   },
   {
    "duration": 144,
    "start_time": "2023-08-31T00:38:07.910Z"
   },
   {
    "duration": 153,
    "start_time": "2023-08-31T00:38:23.483Z"
   },
   {
    "duration": 121,
    "start_time": "2023-08-31T00:39:14.637Z"
   },
   {
    "duration": 5,
    "start_time": "2023-08-31T00:39:23.326Z"
   },
   {
    "duration": 6,
    "start_time": "2023-08-31T00:39:29.816Z"
   },
   {
    "duration": 7,
    "start_time": "2023-08-31T00:39:55.643Z"
   },
   {
    "duration": 5,
    "start_time": "2023-08-31T00:40:03.509Z"
   },
   {
    "duration": 5,
    "start_time": "2023-08-31T00:40:15.866Z"
   },
   {
    "duration": 5,
    "start_time": "2023-08-31T00:41:02.457Z"
   },
   {
    "duration": 13,
    "start_time": "2023-08-31T00:41:35.354Z"
   },
   {
    "duration": 4,
    "start_time": "2023-08-31T00:41:38.983Z"
   },
   {
    "duration": 3,
    "start_time": "2023-08-31T00:41:41.040Z"
   },
   {
    "duration": 5,
    "start_time": "2023-08-31T00:41:42.081Z"
   },
   {
    "duration": 22,
    "start_time": "2023-08-31T01:01:05.376Z"
   },
   {
    "duration": 5,
    "start_time": "2023-08-31T01:01:19.033Z"
   },
   {
    "duration": 13,
    "start_time": "2023-08-31T01:01:42.101Z"
   },
   {
    "duration": 6,
    "start_time": "2023-08-31T01:01:48.680Z"
   },
   {
    "duration": 5,
    "start_time": "2023-08-31T01:02:31.726Z"
   },
   {
    "duration": 8,
    "start_time": "2023-08-31T01:02:56.810Z"
   },
   {
    "duration": 21,
    "start_time": "2023-08-31T01:02:57.520Z"
   },
   {
    "duration": 6,
    "start_time": "2023-08-31T01:07:59.993Z"
   },
   {
    "duration": 4,
    "start_time": "2023-08-31T01:08:05.936Z"
   },
   {
    "duration": 4,
    "start_time": "2023-08-31T01:08:12.944Z"
   },
   {
    "duration": 5,
    "start_time": "2023-08-31T01:08:26.775Z"
   },
   {
    "duration": 4,
    "start_time": "2023-08-31T01:09:20.266Z"
   },
   {
    "duration": 5,
    "start_time": "2023-08-31T01:09:23.623Z"
   },
   {
    "duration": 171,
    "start_time": "2023-08-31T01:09:26.410Z"
   },
   {
    "duration": 381,
    "start_time": "2023-08-31T01:10:38.177Z"
   },
   {
    "duration": 4,
    "start_time": "2023-08-31T01:10:53.777Z"
   },
   {
    "duration": 4,
    "start_time": "2023-08-31T01:11:05.994Z"
   },
   {
    "duration": 5,
    "start_time": "2023-08-31T01:11:13.257Z"
   },
   {
    "duration": 7,
    "start_time": "2023-08-31T01:11:21.823Z"
   },
   {
    "duration": 21,
    "start_time": "2023-08-31T01:11:25.367Z"
   },
   {
    "duration": 5,
    "start_time": "2023-08-31T01:11:29.820Z"
   },
   {
    "duration": 5,
    "start_time": "2023-08-31T01:12:03.463Z"
   },
   {
    "duration": 5,
    "start_time": "2023-08-31T01:12:07.671Z"
   },
   {
    "duration": 5,
    "start_time": "2023-08-31T01:12:20.580Z"
   },
   {
    "duration": 6,
    "start_time": "2023-08-31T01:12:34.722Z"
   },
   {
    "duration": 4,
    "start_time": "2023-08-31T01:12:47.525Z"
   },
   {
    "duration": 14,
    "start_time": "2023-08-31T01:12:54.996Z"
   },
   {
    "duration": 122,
    "start_time": "2023-08-31T01:13:15.221Z"
   },
   {
    "duration": 4,
    "start_time": "2023-08-31T01:13:31.015Z"
   },
   {
    "duration": 489,
    "start_time": "2023-08-31T01:13:32.105Z"
   },
   {
    "duration": 324,
    "start_time": "2023-08-31T01:13:38.692Z"
   },
   {
    "duration": 4,
    "start_time": "2023-08-31T01:16:01.511Z"
   },
   {
    "duration": 4,
    "start_time": "2023-08-31T01:17:05.342Z"
   },
   {
    "duration": 6,
    "start_time": "2023-08-31T01:17:16.283Z"
   },
   {
    "duration": 11589,
    "start_time": "2023-08-31T01:17:30.569Z"
   },
   {
    "duration": 5,
    "start_time": "2023-08-31T01:18:16.472Z"
   },
   {
    "duration": 467,
    "start_time": "2023-08-31T01:18:23.002Z"
   },
   {
    "duration": 4,
    "start_time": "2023-08-31T01:20:26.316Z"
   },
   {
    "duration": 321,
    "start_time": "2023-08-31T01:20:28.947Z"
   },
   {
    "duration": 6,
    "start_time": "2023-08-31T11:01:05.862Z"
   },
   {
    "duration": 6,
    "start_time": "2023-08-31T11:02:57.558Z"
   },
   {
    "duration": 12,
    "start_time": "2023-08-31T11:16:28.673Z"
   },
   {
    "duration": 7,
    "start_time": "2023-08-31T11:16:32.429Z"
   },
   {
    "duration": 23166,
    "start_time": "2023-08-31T11:16:32.917Z"
   },
   {
    "duration": 8,
    "start_time": "2023-08-31T11:17:16.873Z"
   },
   {
    "duration": 8,
    "start_time": "2023-08-31T11:17:20.391Z"
   },
   {
    "duration": 23735,
    "start_time": "2023-08-31T11:17:20.633Z"
   },
   {
    "duration": 7,
    "start_time": "2023-08-31T11:18:19.506Z"
   },
   {
    "duration": 6,
    "start_time": "2023-08-31T11:18:21.200Z"
   },
   {
    "duration": 25344,
    "start_time": "2023-08-31T11:18:21.743Z"
   },
   {
    "duration": 12943,
    "start_time": "2023-08-31T11:18:58.813Z"
   },
   {
    "duration": 326,
    "start_time": "2023-08-31T11:19:33.366Z"
   },
   {
    "duration": 5,
    "start_time": "2023-08-31T11:33:51.098Z"
   },
   {
    "duration": 6,
    "start_time": "2023-08-31T13:10:04.396Z"
   },
   {
    "duration": 8,
    "start_time": "2023-08-31T13:10:21.763Z"
   },
   {
    "duration": 6,
    "start_time": "2023-08-31T13:10:57.030Z"
   },
   {
    "duration": 14,
    "start_time": "2023-08-31T13:10:58.671Z"
   },
   {
    "duration": 6,
    "start_time": "2023-08-31T13:11:24.590Z"
   },
   {
    "duration": 6,
    "start_time": "2023-08-31T13:11:25.719Z"
   },
   {
    "duration": 13648,
    "start_time": "2023-08-31T13:11:26.502Z"
   },
   {
    "duration": 14,
    "start_time": "2023-08-31T14:03:24.810Z"
   },
   {
    "duration": 14,
    "start_time": "2023-08-31T14:03:30.322Z"
   },
   {
    "duration": 7,
    "start_time": "2023-08-31T14:05:38.021Z"
   },
   {
    "duration": 15,
    "start_time": "2023-08-31T14:07:01.183Z"
   },
   {
    "duration": 17,
    "start_time": "2023-08-31T14:07:15.126Z"
   },
   {
    "duration": 62,
    "start_time": "2023-08-31T14:07:48.575Z"
   },
   {
    "duration": 188900,
    "start_time": "2023-08-31T14:07:55.470Z"
   },
   {
    "duration": 172638,
    "start_time": "2023-08-31T14:17:21.220Z"
   },
   {
    "duration": 17,
    "start_time": "2023-08-31T14:32:11.653Z"
   },
   {
    "duration": 28081,
    "start_time": "2023-08-31T14:36:16.266Z"
   },
   {
    "duration": 8,
    "start_time": "2023-08-31T14:36:50.091Z"
   },
   {
    "duration": 6,
    "start_time": "2023-08-31T14:36:56.505Z"
   },
   {
    "duration": 28409,
    "start_time": "2023-08-31T14:37:03.887Z"
   },
   {
    "duration": 9,
    "start_time": "2023-08-31T14:37:43.437Z"
   },
   {
    "duration": 21033,
    "start_time": "2023-08-31T14:37:44.782Z"
   },
   {
    "duration": 30272,
    "start_time": "2023-08-31T14:38:08.411Z"
   },
   {
    "duration": 102,
    "start_time": "2023-08-31T14:40:36.321Z"
   },
   {
    "duration": 15,
    "start_time": "2023-08-31T14:40:40.973Z"
   },
   {
    "duration": 19,
    "start_time": "2023-08-31T14:41:16.614Z"
   },
   {
    "duration": 51,
    "start_time": "2023-08-31T14:42:02.737Z"
   },
   {
    "duration": 19,
    "start_time": "2023-08-31T14:42:31.156Z"
   },
   {
    "duration": 10318,
    "start_time": "2023-08-31T14:42:46.429Z"
   },
   {
    "duration": 11393,
    "start_time": "2023-08-31T14:43:04.059Z"
   },
   {
    "duration": 6,
    "start_time": "2023-08-31T14:43:34.396Z"
   },
   {
    "duration": 9,
    "start_time": "2023-08-31T14:43:35.238Z"
   },
   {
    "duration": 12590,
    "start_time": "2023-08-31T14:43:36.366Z"
   },
   {
    "duration": 11907,
    "start_time": "2023-08-31T14:43:52.441Z"
   },
   {
    "duration": 34,
    "start_time": "2023-08-31T14:44:04.588Z"
   },
   {
    "duration": 5,
    "start_time": "2023-08-31T14:44:29.212Z"
   },
   {
    "duration": 5,
    "start_time": "2023-08-31T14:44:37.803Z"
   },
   {
    "duration": 34,
    "start_time": "2023-08-31T14:44:44.155Z"
   },
   {
    "duration": 4,
    "start_time": "2023-08-31T14:45:05.626Z"
   },
   {
    "duration": 403,
    "start_time": "2023-08-31T14:45:25.989Z"
   },
   {
    "duration": 15886,
    "start_time": "2023-08-31T14:46:11.680Z"
   },
   {
    "duration": 344,
    "start_time": "2023-08-31T14:46:29.188Z"
   },
   {
    "duration": 226262,
    "start_time": "2023-08-31T14:47:03.106Z"
   },
   {
    "duration": 4,
    "start_time": "2023-08-31T16:02:00.438Z"
   },
   {
    "duration": 15,
    "start_time": "2023-08-31T16:05:52.940Z"
   },
   {
    "duration": 11940,
    "start_time": "2023-08-31T16:06:14.476Z"
   },
   {
    "duration": 117,
    "start_time": "2023-08-31T16:40:14.836Z"
   },
   {
    "duration": 69062,
    "start_time": "2023-08-31T16:40:37.725Z"
   },
   {
    "duration": 6,
    "start_time": "2023-08-31T16:43:52.025Z"
   },
   {
    "duration": 6,
    "start_time": "2023-08-31T16:43:53.867Z"
   },
   {
    "duration": 12792,
    "start_time": "2023-08-31T16:44:13.562Z"
   },
   {
    "duration": 512,
    "start_time": "2023-08-31T16:46:11.487Z"
   },
   {
    "duration": 6,
    "start_time": "2023-08-31T16:48:30.036Z"
   },
   {
    "duration": 13058,
    "start_time": "2023-08-31T16:48:32.919Z"
   },
   {
    "duration": 354,
    "start_time": "2023-08-31T16:48:50.506Z"
   },
   {
    "duration": 2731,
    "start_time": "2023-08-31T16:57:23.306Z"
   },
   {
    "duration": 2820,
    "start_time": "2023-08-31T16:57:26.040Z"
   },
   {
    "duration": 45,
    "start_time": "2023-08-31T16:57:28.862Z"
   },
   {
    "duration": 3,
    "start_time": "2023-08-31T16:57:28.909Z"
   },
   {
    "duration": 16,
    "start_time": "2023-08-31T16:57:28.914Z"
   },
   {
    "duration": 13,
    "start_time": "2023-08-31T16:57:28.932Z"
   },
   {
    "duration": 19,
    "start_time": "2023-08-31T16:57:28.946Z"
   },
   {
    "duration": 20,
    "start_time": "2023-08-31T16:57:28.966Z"
   },
   {
    "duration": 45,
    "start_time": "2023-08-31T16:57:28.988Z"
   },
   {
    "duration": 201,
    "start_time": "2023-08-31T16:57:29.036Z"
   },
   {
    "duration": 12,
    "start_time": "2023-08-31T16:57:29.239Z"
   },
   {
    "duration": 40,
    "start_time": "2023-08-31T16:57:29.254Z"
   },
   {
    "duration": 8,
    "start_time": "2023-08-31T16:57:29.295Z"
   },
   {
    "duration": 18,
    "start_time": "2023-08-31T16:57:29.305Z"
   },
   {
    "duration": 12838,
    "start_time": "2023-08-31T16:57:29.324Z"
   },
   {
    "duration": 8,
    "start_time": "2023-08-31T16:57:42.168Z"
   },
   {
    "duration": 146093,
    "start_time": "2023-08-31T16:57:42.178Z"
   },
   {
    "duration": 367,
    "start_time": "2023-08-31T17:00:08.347Z"
   },
   {
    "duration": 14360,
    "start_time": "2023-08-31T17:00:08.716Z"
   }
  ],
  "kernelspec": {
   "display_name": "Python 3 (ipykernel)",
   "language": "python",
   "name": "python3"
  },
  "language_info": {
   "codemirror_mode": {
    "name": "ipython",
    "version": 3
   },
   "file_extension": ".py",
   "mimetype": "text/x-python",
   "name": "python",
   "nbconvert_exporter": "python",
   "pygments_lexer": "ipython3",
   "version": "3.9.12"
  },
  "toc": {
   "base_numbering": 1,
   "nav_menu": {},
   "number_sections": false,
   "sideBar": true,
   "skip_h1_title": false,
   "title_cell": "Table of Contents",
   "title_sidebar": "Contents",
   "toc_cell": false,
   "toc_position": {},
   "toc_section_display": true,
   "toc_window_display": false
  },
  "varInspector": {
   "cols": {
    "lenName": 16,
    "lenType": 16,
    "lenVar": 40
   },
   "kernels_config": {
    "python": {
     "delete_cmd_postfix": "",
     "delete_cmd_prefix": "del ",
     "library": "var_list.py",
     "varRefreshCmd": "print(var_dic_list())"
    },
    "r": {
     "delete_cmd_postfix": ") ",
     "delete_cmd_prefix": "rm(",
     "library": "var_list.r",
     "varRefreshCmd": "cat(var_dic_list()) "
    }
   },
   "types_to_exclude": [
    "module",
    "function",
    "builtin_function_or_method",
    "instance",
    "_Feature"
   ],
   "window_display": false
  }
 },
 "nbformat": 4,
 "nbformat_minor": 5
}
