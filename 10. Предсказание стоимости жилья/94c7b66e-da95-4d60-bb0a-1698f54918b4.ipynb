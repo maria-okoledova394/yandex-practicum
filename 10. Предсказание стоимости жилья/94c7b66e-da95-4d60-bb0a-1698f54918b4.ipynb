{
 "cells": [
  {
   "cell_type": "markdown",
   "id": "1e9ceb26",
   "metadata": {},
   "source": [
    "<div style=\"border:solid green 2px; padding: 20px\">\n",
    "<b>Привет, Мария!</b>\n",
    "\n",
    "Меня зовут Александр Пономаренко, и я буду проверять твой проект. Предлагаю общаться на «ты» :) Но если это не удобно - дай знать, и мы перейдем на \"вы\". \n",
    "\n",
    "Моя основная цель — не указать на совершенные тобою ошибки, а поделиться своим опытом и помочь тебе стать data science. Ты уже проделал большую работу над проектом, но давай сделаем его еще лучше. Ниже ты найдешь мои комментарии - **пожалуйста, не перемещай, не изменяй и не удаляй их**. Увидев у тебя ошибку, в первый раз я лишь укажу на ее наличие и дам тебе возможность самой найти и исправить ее. На реальной работе твой начальник будет поступать так же, а я пытаюсь подготовить тебя именно к работе аналитиком. Но если ты пока не справишься с такой задачей - при следующей проверке я дам более точную подсказку. Я буду использовать цветовую разметку:\n",
    "\n",
    "<div class=\"alert alert-danger\">\n",
    "<b>Комментарий ревьюера ❌:</b> Так выделены самые важные замечания. Без их отработки проект не будет принят. </div>\n",
    "\n",
    "<div class=\"alert alert-warning\">\n",
    "<b>Комментарий ревьюера ⚠️:</b> Так выделены небольшие замечания. Я надеюсь, что их ты тоже учтешь - твой проект от этого станет только лучше. Но настаивать на их отработке не буду.\n",
    "\n",
    "</div>\n",
    "\n",
    "<div class=\"alert alert-success\">\n",
    "<b>Комментарий ревьюера ✔️:</b> Так я выделяю все остальные комментарии.</div>\n",
    "\n",
    "Давай работать над проектом в диалоге: **если ты что-то меняешь в проекте или отвечаешь на мои комменатри — пиши об этом.** Мне будет легче отследить изменения, если ты выделишь свои комментарии:\n",
    "<div class=\"alert alert-info\"> <b>Комментарий студента:</b> Например, вот так.</div>\n",
    "\n",
    "Всё это поможет выполнить повторную проверку твоего проекта оперативнее. "
   ]
  },
  {
   "cell_type": "markdown",
   "id": "37083add",
   "metadata": {},
   "source": [
    "<div class=\"alert alert-info\"> <b>Комментарий студента:</b> Спасибо за рекомендации! Я переписала короче многие блоки. Буду рада рекомендациям по стилю кода :)</div>"
   ]
  },
  {
   "cell_type": "markdown",
   "id": "GEqQaHzsZ_bA",
   "metadata": {
    "id": "GEqQaHzsZ_bA"
   },
   "source": [
    "# Предсказание стоимости жилья\n",
    "\n",
    "В проекте вам нужно обучить модель линейной регрессии на данных о жилье в Калифорнии в 1990 году. На основе данных нужно предсказать медианную стоимость дома в жилом массиве. Обучите модель и сделайте предсказания на тестовой выборке. Для оценки качества модели используйте метрики RMSE, MAE и R2."
   ]
  },
  {
   "cell_type": "code",
   "execution_count": 1,
   "id": "53ce7652",
   "metadata": {},
   "outputs": [],
   "source": [
    "import pandas as pd \n",
    "import numpy as np\n",
    "\n",
    "import pyspark\n",
    "from pyspark.sql import SparkSession\n",
    "from pyspark.sql.types import *\n",
    "import pyspark.sql.functions as F\n",
    "from pyspark.sql.functions import isnan\n",
    "\n",
    "from pyspark.ml.feature import Imputer\n",
    "from pyspark.ml.feature import StringIndexer, VectorAssembler, StandardScaler\n",
    "from pyspark.ml.feature import OneHotEncoder\n",
    "from pyspark.ml.regression import LinearRegression\n",
    "from pyspark.ml.evaluation import RegressionEvaluator\n",
    "\n",
    "from pyspark.ml.tuning import ParamGridBuilder, TrainValidationSplit\n",
    "\n",
    "RANDOM_SEED = 2022"
   ]
  },
  {
   "cell_type": "markdown",
   "id": "7f97262f",
   "metadata": {},
   "source": [
    "Инициализация spark-сессии:"
   ]
  },
  {
   "cell_type": "code",
   "execution_count": 2,
   "id": "fa504f8d",
   "metadata": {},
   "outputs": [],
   "source": [
    "spark = SparkSession.builder \\\n",
    "                    .master('local') \\\n",
    "                    .appName('Prediction house value')  \\\n",
    "                    .getOrCreate()"
   ]
  },
  {
   "cell_type": "markdown",
   "id": "53871372",
   "metadata": {
    "id": "53871372"
   },
   "source": [
    "# Подготовка данных"
   ]
  },
  {
   "cell_type": "markdown",
   "id": "6ce708c6",
   "metadata": {},
   "source": [
    "Чтение данных:"
   ]
  },
  {
   "cell_type": "code",
   "execution_count": 3,
   "id": "09ecf2bb",
   "metadata": {},
   "outputs": [
    {
     "name": "stderr",
     "output_type": "stream",
     "text": [
      "                                                                                \r"
     ]
    },
    {
     "name": "stdout",
     "output_type": "stream",
     "text": [
      "root\n",
      " |-- longitude: double (nullable = true)\n",
      " |-- latitude: double (nullable = true)\n",
      " |-- housing_median_age: double (nullable = true)\n",
      " |-- total_rooms: double (nullable = true)\n",
      " |-- total_bedrooms: double (nullable = true)\n",
      " |-- population: double (nullable = true)\n",
      " |-- households: double (nullable = true)\n",
      " |-- median_income: double (nullable = true)\n",
      " |-- median_house_value: double (nullable = true)\n",
      " |-- ocean_proximity: string (nullable = true)\n",
      "\n"
     ]
    },
    {
     "name": "stderr",
     "output_type": "stream",
     "text": [
      "                                                                                \r"
     ]
    },
    {
     "data": {
      "text/html": [
       "<div>\n",
       "<style scoped>\n",
       "    .dataframe tbody tr th:only-of-type {\n",
       "        vertical-align: middle;\n",
       "    }\n",
       "\n",
       "    .dataframe tbody tr th {\n",
       "        vertical-align: top;\n",
       "    }\n",
       "\n",
       "    .dataframe thead th {\n",
       "        text-align: right;\n",
       "    }\n",
       "</style>\n",
       "<table border=\"1\" class=\"dataframe\">\n",
       "  <thead>\n",
       "    <tr style=\"text-align: right;\">\n",
       "      <th></th>\n",
       "      <th>longitude</th>\n",
       "      <th>latitude</th>\n",
       "      <th>housing_median_age</th>\n",
       "      <th>total_rooms</th>\n",
       "      <th>total_bedrooms</th>\n",
       "      <th>population</th>\n",
       "      <th>households</th>\n",
       "      <th>median_income</th>\n",
       "      <th>median_house_value</th>\n",
       "      <th>ocean_proximity</th>\n",
       "    </tr>\n",
       "  </thead>\n",
       "  <tbody>\n",
       "    <tr>\n",
       "      <th>0</th>\n",
       "      <td>-122.23</td>\n",
       "      <td>37.88</td>\n",
       "      <td>41.0</td>\n",
       "      <td>880.0</td>\n",
       "      <td>129.0</td>\n",
       "      <td>322.0</td>\n",
       "      <td>126.0</td>\n",
       "      <td>8.3252</td>\n",
       "      <td>452600.0</td>\n",
       "      <td>NEAR BAY</td>\n",
       "    </tr>\n",
       "    <tr>\n",
       "      <th>1</th>\n",
       "      <td>-122.22</td>\n",
       "      <td>37.86</td>\n",
       "      <td>21.0</td>\n",
       "      <td>7099.0</td>\n",
       "      <td>1106.0</td>\n",
       "      <td>2401.0</td>\n",
       "      <td>1138.0</td>\n",
       "      <td>8.3014</td>\n",
       "      <td>358500.0</td>\n",
       "      <td>NEAR BAY</td>\n",
       "    </tr>\n",
       "    <tr>\n",
       "      <th>2</th>\n",
       "      <td>-122.24</td>\n",
       "      <td>37.85</td>\n",
       "      <td>52.0</td>\n",
       "      <td>1467.0</td>\n",
       "      <td>190.0</td>\n",
       "      <td>496.0</td>\n",
       "      <td>177.0</td>\n",
       "      <td>7.2574</td>\n",
       "      <td>352100.0</td>\n",
       "      <td>NEAR BAY</td>\n",
       "    </tr>\n",
       "    <tr>\n",
       "      <th>3</th>\n",
       "      <td>-122.25</td>\n",
       "      <td>37.85</td>\n",
       "      <td>52.0</td>\n",
       "      <td>1274.0</td>\n",
       "      <td>235.0</td>\n",
       "      <td>558.0</td>\n",
       "      <td>219.0</td>\n",
       "      <td>5.6431</td>\n",
       "      <td>341300.0</td>\n",
       "      <td>NEAR BAY</td>\n",
       "    </tr>\n",
       "    <tr>\n",
       "      <th>4</th>\n",
       "      <td>-122.25</td>\n",
       "      <td>37.85</td>\n",
       "      <td>52.0</td>\n",
       "      <td>1627.0</td>\n",
       "      <td>280.0</td>\n",
       "      <td>565.0</td>\n",
       "      <td>259.0</td>\n",
       "      <td>3.8462</td>\n",
       "      <td>342200.0</td>\n",
       "      <td>NEAR BAY</td>\n",
       "    </tr>\n",
       "  </tbody>\n",
       "</table>\n",
       "</div>"
      ],
      "text/plain": [
       "   longitude  latitude  housing_median_age  total_rooms  total_bedrooms  \\\n",
       "0    -122.23     37.88                41.0        880.0           129.0   \n",
       "1    -122.22     37.86                21.0       7099.0          1106.0   \n",
       "2    -122.24     37.85                52.0       1467.0           190.0   \n",
       "3    -122.25     37.85                52.0       1274.0           235.0   \n",
       "4    -122.25     37.85                52.0       1627.0           280.0   \n",
       "\n",
       "   population  households  median_income  median_house_value ocean_proximity  \n",
       "0       322.0       126.0         8.3252            452600.0        NEAR BAY  \n",
       "1      2401.0      1138.0         8.3014            358500.0        NEAR BAY  \n",
       "2       496.0       177.0         7.2574            352100.0        NEAR BAY  \n",
       "3       558.0       219.0         5.6431            341300.0        NEAR BAY  \n",
       "4       565.0       259.0         3.8462            342200.0        NEAR BAY  "
      ]
     },
     "execution_count": 3,
     "metadata": {},
     "output_type": "execute_result"
    }
   ],
   "source": [
    "df = spark.read.load('/datasets/housing.csv', format='csv', sep=',', inferSchema=True, header='true')\n",
    "\n",
    "df.printSchema()\n",
    "df.toPandas().head()"
   ]
  },
  {
   "cell_type": "markdown",
   "id": "a85bebe9",
   "metadata": {},
   "source": [
    "<div class=\"alert alert-success\">\n",
    "<b>Комментарий ревьюера ✔️:</b> Отлично, данные на месте:)</div>"
   ]
  },
  {
   "cell_type": "markdown",
   "id": "0e71da59",
   "metadata": {},
   "source": [
    "Просмотр базовых описательных статистик:"
   ]
  },
  {
   "cell_type": "code",
   "execution_count": 4,
   "id": "00efe9ee",
   "metadata": {},
   "outputs": [
    {
     "name": "stderr",
     "output_type": "stream",
     "text": [
      "                                                                                \r"
     ]
    },
    {
     "data": {
      "text/html": [
       "<div>\n",
       "<style scoped>\n",
       "    .dataframe tbody tr th:only-of-type {\n",
       "        vertical-align: middle;\n",
       "    }\n",
       "\n",
       "    .dataframe tbody tr th {\n",
       "        vertical-align: top;\n",
       "    }\n",
       "\n",
       "    .dataframe thead th {\n",
       "        text-align: right;\n",
       "    }\n",
       "</style>\n",
       "<table border=\"1\" class=\"dataframe\">\n",
       "  <thead>\n",
       "    <tr style=\"text-align: right;\">\n",
       "      <th></th>\n",
       "      <th>summary</th>\n",
       "      <th>longitude</th>\n",
       "      <th>latitude</th>\n",
       "      <th>housing_median_age</th>\n",
       "      <th>total_rooms</th>\n",
       "      <th>total_bedrooms</th>\n",
       "      <th>population</th>\n",
       "      <th>households</th>\n",
       "      <th>median_income</th>\n",
       "      <th>median_house_value</th>\n",
       "      <th>ocean_proximity</th>\n",
       "    </tr>\n",
       "  </thead>\n",
       "  <tbody>\n",
       "    <tr>\n",
       "      <th>0</th>\n",
       "      <td>count</td>\n",
       "      <td>20640</td>\n",
       "      <td>20640</td>\n",
       "      <td>20640</td>\n",
       "      <td>20640</td>\n",
       "      <td>20433</td>\n",
       "      <td>20640</td>\n",
       "      <td>20640</td>\n",
       "      <td>20640</td>\n",
       "      <td>20640</td>\n",
       "      <td>20640</td>\n",
       "    </tr>\n",
       "    <tr>\n",
       "      <th>1</th>\n",
       "      <td>mean</td>\n",
       "      <td>-119.56970445736148</td>\n",
       "      <td>35.6318614341087</td>\n",
       "      <td>28.639486434108527</td>\n",
       "      <td>2635.7630813953488</td>\n",
       "      <td>537.8705525375618</td>\n",
       "      <td>1425.4767441860465</td>\n",
       "      <td>499.5396802325581</td>\n",
       "      <td>3.8706710029070246</td>\n",
       "      <td>206855.81690891474</td>\n",
       "      <td>None</td>\n",
       "    </tr>\n",
       "    <tr>\n",
       "      <th>2</th>\n",
       "      <td>stddev</td>\n",
       "      <td>2.003531723502584</td>\n",
       "      <td>2.135952397457101</td>\n",
       "      <td>12.58555761211163</td>\n",
       "      <td>2181.6152515827944</td>\n",
       "      <td>421.38507007403115</td>\n",
       "      <td>1132.46212176534</td>\n",
       "      <td>382.3297528316098</td>\n",
       "      <td>1.899821717945263</td>\n",
       "      <td>115395.61587441359</td>\n",
       "      <td>None</td>\n",
       "    </tr>\n",
       "    <tr>\n",
       "      <th>3</th>\n",
       "      <td>min</td>\n",
       "      <td>-124.35</td>\n",
       "      <td>32.54</td>\n",
       "      <td>1.0</td>\n",
       "      <td>2.0</td>\n",
       "      <td>1.0</td>\n",
       "      <td>3.0</td>\n",
       "      <td>1.0</td>\n",
       "      <td>0.4999</td>\n",
       "      <td>14999.0</td>\n",
       "      <td>&lt;1H OCEAN</td>\n",
       "    </tr>\n",
       "    <tr>\n",
       "      <th>4</th>\n",
       "      <td>max</td>\n",
       "      <td>-114.31</td>\n",
       "      <td>41.95</td>\n",
       "      <td>52.0</td>\n",
       "      <td>39320.0</td>\n",
       "      <td>6445.0</td>\n",
       "      <td>35682.0</td>\n",
       "      <td>6082.0</td>\n",
       "      <td>15.0001</td>\n",
       "      <td>500001.0</td>\n",
       "      <td>NEAR OCEAN</td>\n",
       "    </tr>\n",
       "  </tbody>\n",
       "</table>\n",
       "</div>"
      ],
      "text/plain": [
       "  summary            longitude           latitude  housing_median_age  \\\n",
       "0   count                20640              20640               20640   \n",
       "1    mean  -119.56970445736148   35.6318614341087  28.639486434108527   \n",
       "2  stddev    2.003531723502584  2.135952397457101   12.58555761211163   \n",
       "3     min              -124.35              32.54                 1.0   \n",
       "4     max              -114.31              41.95                52.0   \n",
       "\n",
       "          total_rooms      total_bedrooms          population  \\\n",
       "0               20640               20433               20640   \n",
       "1  2635.7630813953488   537.8705525375618  1425.4767441860465   \n",
       "2  2181.6152515827944  421.38507007403115    1132.46212176534   \n",
       "3                 2.0                 1.0                 3.0   \n",
       "4             39320.0              6445.0             35682.0   \n",
       "\n",
       "          households       median_income  median_house_value ocean_proximity  \n",
       "0              20640               20640               20640           20640  \n",
       "1  499.5396802325581  3.8706710029070246  206855.81690891474            None  \n",
       "2  382.3297528316098   1.899821717945263  115395.61587441359            None  \n",
       "3                1.0              0.4999             14999.0       <1H OCEAN  \n",
       "4             6082.0             15.0001            500001.0      NEAR OCEAN  "
      ]
     },
     "execution_count": 4,
     "metadata": {},
     "output_type": "execute_result"
    }
   ],
   "source": [
    "df.describe().toPandas()"
   ]
  },
  {
   "cell_type": "markdown",
   "id": "561ad28e",
   "metadata": {
    "id": "df92e3ec"
   },
   "source": [
    "Исследование данных на наличие пропусков:"
   ]
  },
  {
   "cell_type": "code",
   "execution_count": 5,
   "id": "9b098d4b",
   "metadata": {},
   "outputs": [],
   "source": [
    "def count_null(df):\n",
    "    for col in df.columns:\n",
    "        print(col, df.filter(F.col(col).isNull() | isnan(F.col(col))).count()/df.count())"
   ]
  },
  {
   "cell_type": "code",
   "execution_count": 6,
   "id": "d68b1edc",
   "metadata": {},
   "outputs": [
    {
     "name": "stdout",
     "output_type": "stream",
     "text": [
      "longitude 0.0\n",
      "latitude 0.0\n",
      "housing_median_age 0.0\n",
      "total_rooms 0.0\n",
      "total_bedrooms 0.01002906976744186\n",
      "population 0.0\n",
      "households 0.0\n",
      "median_income 0.0\n",
      "median_house_value 0.0\n",
      "ocean_proximity 0.0\n"
     ]
    }
   ],
   "source": [
    "count_null(df)"
   ]
  },
  {
   "cell_type": "markdown",
   "id": "2f63a6ed",
   "metadata": {},
   "source": [
    "В столбце `total_bedrooms` 1% пропусков. Заполним их медианными значениями:"
   ]
  },
  {
   "cell_type": "code",
   "execution_count": 7,
   "id": "572cc7a7",
   "metadata": {},
   "outputs": [
    {
     "name": "stdout",
     "output_type": "stream",
     "text": [
      "longitude 0.0\n",
      "latitude 0.0\n",
      "housing_median_age 0.0\n",
      "total_rooms 0.0\n",
      "total_bedrooms 0.01002906976744186\n",
      "population 0.0\n",
      "households 0.0\n",
      "median_income 0.0\n",
      "median_house_value 0.0\n",
      "ocean_proximity 0.0\n",
      "total_bedrooms_imputed 0.0\n"
     ]
    }
   ],
   "source": [
    "df = Imputer(inputCol='total_bedrooms', outputCol='total_bedrooms_imputed', strategy='median') \\\n",
    "        .fit(df) \\\n",
    "        .transform(df)\n",
    "\n",
    "count_null(df)"
   ]
  },
  {
   "cell_type": "markdown",
   "id": "9016d597",
   "metadata": {},
   "source": [
    "<div class=\"alert alert-success\">\n",
    "<b>Комментарий ревьюера ✔️:</b> Хорошо:) Как вариант можно заполнить вот так:\n",
    "\n",
    "```python\n",
    "    imputer = Imputer(inputCol='total_bedrooms', outputCol=\"out_total_bedrooms\", strategy='median')\n",
    "    model = imputer.fit(df)\n",
    "    new_df = model.transform(df)\n",
    "    \n",
    "```\n",
    "\n",
    "\n",
    "</div>\n"
   ]
  },
  {
   "cell_type": "markdown",
   "id": "0f0627f1",
   "metadata": {},
   "source": [
    "<div class=\"alert alert-info\"> <b>Комментарий студента:</b> Заполнила пропуски с помощью Imputer.</div>"
   ]
  },
  {
   "cell_type": "markdown",
   "id": "5e9a8701",
   "metadata": {},
   "source": [
    "<div class=\"alert alert-success\">\n",
    "<b>Комментарий ревьюера V2✔️:</b> Супер:)\n",
    "\n",
    "\n",
    "</div>\n"
   ]
  },
  {
   "cell_type": "markdown",
   "id": "d55c50da",
   "metadata": {},
   "source": [
    "Пропуски заполнены.\n",
    "\n",
    "Преобразование столбцов с категориальными значениями техникой OHE:"
   ]
  },
  {
   "cell_type": "code",
   "execution_count": 8,
   "id": "447d1a67",
   "metadata": {},
   "outputs": [],
   "source": [
    "categorical_cols = ['ocean_proximity']\n",
    "numerical_cols = ['longitude', 'latitude', 'housing_median_age', 'total_rooms', 'total_bedrooms_imputed',\n",
    "                  'population', 'households', 'median_income']\n",
    "target = 'median_house_value'"
   ]
  },
  {
   "cell_type": "code",
   "execution_count": 9,
   "id": "d87f08d4",
   "metadata": {},
   "outputs": [
    {
     "name": "stdout",
     "output_type": "stream",
     "text": [
      "+---------------+-------------------+-------------------+\n",
      "|ocean_proximity|ocean_proximity_idx|ocean_proximity_ohe|\n",
      "+---------------+-------------------+-------------------+\n",
      "|       NEAR BAY|                3.0|      (4,[3],[1.0])|\n",
      "|       NEAR BAY|                3.0|      (4,[3],[1.0])|\n",
      "|       NEAR BAY|                3.0|      (4,[3],[1.0])|\n",
      "|       NEAR BAY|                3.0|      (4,[3],[1.0])|\n",
      "|       NEAR BAY|                3.0|      (4,[3],[1.0])|\n",
      "+---------------+-------------------+-------------------+\n",
      "only showing top 5 rows\n",
      "\n"
     ]
    }
   ],
   "source": [
    "df = StringIndexer(inputCols=categorical_cols, \n",
    "                   outputCols=[c+'_idx' for c in categorical_cols]) \\\n",
    "                        .fit(df) \\\n",
    "                        .transform(df)\n",
    "\n",
    "df = OneHotEncoder(inputCols=[c+'_idx' for c in categorical_cols],\n",
    "                   outputCols=[c+'_ohe' for c in categorical_cols]) \\\n",
    "                        .fit(df) \\\n",
    "                        .transform(df)\n",
    "\n",
    "cols = [c for c in df.columns for i in categorical_cols if (c.startswith(i))]\n",
    "df.select(cols).show(5)"
   ]
  },
  {
   "cell_type": "markdown",
   "id": "0c66af38",
   "metadata": {},
   "source": [
    "<div class=\"alert alert-success\">\n",
    "<b>Комментарий ревьюера ✔️:</b> Супер, данные закодированы;) \n",
    "\n",
    "</div>\n"
   ]
  },
  {
   "cell_type": "markdown",
   "id": "a692e54f",
   "metadata": {},
   "source": [
    "Шкалирование числовых признаков:"
   ]
  },
  {
   "cell_type": "code",
   "execution_count": 10,
   "id": "925aa079",
   "metadata": {},
   "outputs": [
    {
     "name": "stderr",
     "output_type": "stream",
     "text": [
      "                                                                                \r"
     ]
    },
    {
     "name": "stdout",
     "output_type": "stream",
     "text": [
      "+--------------------+-------------------------+\n",
      "|  numerical_features|numerical_features_scaled|\n",
      "+--------------------+-------------------------+\n",
      "|[-122.23,37.88,41...|     [-61.007269596069...|\n",
      "|[-122.22,37.86,21...|     [-61.002278409814...|\n",
      "|[-122.24,37.85,52...|     [-61.012260782324...|\n",
      "+--------------------+-------------------------+\n",
      "only showing top 3 rows\n",
      "\n"
     ]
    }
   ],
   "source": [
    "df = VectorAssembler(inputCols=numerical_cols, outputCol='numerical_features') \\\n",
    "                        .transform(df)\n",
    "\n",
    "df = StandardScaler(inputCol='numerical_features', outputCol='numerical_features_scaled') \\\n",
    "                        .fit(df) \\\n",
    "                        .transform(df)\n",
    "\n",
    "df.select('numerical_features', 'numerical_features_scaled').show(3)"
   ]
  },
  {
   "cell_type": "markdown",
   "id": "7eea272f",
   "metadata": {},
   "source": [
    "<div class=\"alert alert-success\">\n",
    "<b>Комментарий ревьюера ✔️:</b> Отмасштабировала корректно:) \n",
    "\n",
    "</div>\n"
   ]
  },
  {
   "cell_type": "markdown",
   "id": "99db4dc4",
   "metadata": {},
   "source": [
    "Объединение категориальных признаков в один вектор:"
   ]
  },
  {
   "cell_type": "code",
   "execution_count": 11,
   "id": "3de2d9dc",
   "metadata": {},
   "outputs": [
    {
     "name": "stdout",
     "output_type": "stream",
     "text": [
      "+--------------------+\n",
      "|categorical_features|\n",
      "+--------------------+\n",
      "|       (4,[3],[1.0])|\n",
      "|       (4,[3],[1.0])|\n",
      "|       (4,[3],[1.0])|\n",
      "+--------------------+\n",
      "only showing top 3 rows\n",
      "\n"
     ]
    }
   ],
   "source": [
    "df = VectorAssembler(inputCols=[c+'_ohe' for c in categorical_cols],\n",
    "                     outputCol='categorical_features') \\\n",
    "                         .transform(df)\n",
    "\n",
    "df.select('categorical_features').show(3)"
   ]
  },
  {
   "cell_type": "markdown",
   "id": "947b3038",
   "metadata": {},
   "source": [
    "Объединение трансформированных категориальных и числовых признаков в один вектор:"
   ]
  },
  {
   "cell_type": "code",
   "execution_count": 12,
   "id": "8709a0f7",
   "metadata": {},
   "outputs": [
    {
     "name": "stdout",
     "output_type": "stream",
     "text": [
      "+--------------------+\n",
      "|            features|\n",
      "+--------------------+\n",
      "|[0.0,0.0,0.0,1.0,...|\n",
      "|[0.0,0.0,0.0,1.0,...|\n",
      "|[0.0,0.0,0.0,1.0,...|\n",
      "+--------------------+\n",
      "only showing top 3 rows\n",
      "\n"
     ]
    }
   ],
   "source": [
    "df = VectorAssembler(inputCols=['categorical_features', 'numerical_features_scaled'],\n",
    "                     outputCol='features') \\\n",
    "                          .transform(df)\n",
    "\n",
    "df.select('features').show(3)"
   ]
  },
  {
   "cell_type": "markdown",
   "id": "9f0a82f3",
   "metadata": {
    "id": "9f0a82f3"
   },
   "source": [
    "# Обучение моделей"
   ]
  },
  {
   "cell_type": "markdown",
   "id": "33a33d6e",
   "metadata": {},
   "source": [
    "Разделение датасета на выборки:"
   ]
  },
  {
   "cell_type": "code",
   "execution_count": 13,
   "id": "cb26a223",
   "metadata": {},
   "outputs": [
    {
     "name": "stderr",
     "output_type": "stream",
     "text": [
      "                                                                                \r"
     ]
    },
    {
     "name": "stdout",
     "output_type": "stream",
     "text": [
      "16418 4222\n"
     ]
    },
    {
     "name": "stderr",
     "output_type": "stream",
     "text": [
      "                                                                                \r"
     ]
    }
   ],
   "source": [
    "df_train, df_test = df.randomSplit([.8,.2], seed=RANDOM_SEED)\n",
    "print(df_train.count(), df_test.count())"
   ]
  },
  {
   "cell_type": "markdown",
   "id": "36bdba9d",
   "metadata": {},
   "source": [
    "Функции:\n",
    "- вывода метрик модели\n",
    "- перебора гиперпараметров для нахождения модели с наилучшей метрикой"
   ]
  },
  {
   "cell_type": "code",
   "execution_count": 14,
   "id": "6133bd2f",
   "metadata": {},
   "outputs": [],
   "source": [
    "def print_metrics(evaluators, predictions):\n",
    "    for evaluator in evaluators:\n",
    "        print(evaluator, evaluators[evaluator].evaluate(predictions))\n",
    "\n",
    "def cross_validate(lr, metric):\n",
    "    param_grid = ParamGridBuilder().addGrid(lr.regParam, [0.01, 0.5, 2.0]) \\\n",
    "                                   .addGrid(lr.maxIter, [1, 5, 10, 20, 50]) \\\n",
    "                                   .build()\n",
    "    \n",
    "    return TrainValidationSplit(estimator=lr,\n",
    "                                estimatorParamMaps=param_grid,\n",
    "                                evaluator=metric,\n",
    "                                trainRatio=0.8,\n",
    "                                seed=RANDOM_SEED) \\\n",
    "                                    .fit(df_train)"
   ]
  },
  {
   "cell_type": "code",
   "execution_count": 15,
   "id": "638a178d",
   "metadata": {},
   "outputs": [],
   "source": [
    "metrics ={}\n",
    "for metric in ['rmse', 'mae', 'r2']:\n",
    "    metrics[metric] = RegressionEvaluator(labelCol=target, metricName=metric)"
   ]
  },
  {
   "cell_type": "markdown",
   "id": "749f3fe6",
   "metadata": {
    "id": "bddb08c4"
   },
   "source": [
    "Построение модели, используя все признаки (числовые и категориальные):"
   ]
  },
  {
   "cell_type": "code",
   "execution_count": 16,
   "id": "81b4a7df",
   "metadata": {},
   "outputs": [
    {
     "name": "stderr",
     "output_type": "stream",
     "text": [
      "22/12/06 13:07:58 WARN BLAS: Failed to load implementation from: com.github.fommil.netlib.NativeSystemBLAS\n",
      "22/12/06 13:07:58 WARN BLAS: Failed to load implementation from: com.github.fommil.netlib.NativeRefBLAS\n",
      "22/12/06 13:07:58 WARN LAPACK: Failed to load implementation from: com.github.fommil.netlib.NativeSystemLAPACK\n",
      "22/12/06 13:07:58 WARN LAPACK: Failed to load implementation from: com.github.fommil.netlib.NativeRefLAPACK\n",
      "                                                                                \r"
     ]
    },
    {
     "name": "stdout",
     "output_type": "stream",
     "text": [
      "+------------------+------------------+\n",
      "|median_house_value|        prediction|\n",
      "+------------------+------------------+\n",
      "|          103600.0|153022.45945984684|\n",
      "|           50800.0| 214986.2133011222|\n",
      "|           58100.0|142730.73453220492|\n",
      "|           68400.0| 132516.4871437042|\n",
      "|           72200.0| 164118.0685549113|\n",
      "|           67000.0| 154462.2806498059|\n",
      "|           81300.0|152888.52964031044|\n",
      "|           70500.0|164598.49198417598|\n",
      "|           60000.0|142753.25977558177|\n",
      "|          109400.0|171347.00868791295|\n",
      "|           74100.0|150635.48165183095|\n",
      "|           74700.0|167891.84043503273|\n",
      "|           90000.0| 209863.1348652253|\n",
      "|          104200.0| 200519.7420377531|\n",
      "|           74100.0|157172.42768315692|\n",
      "|           67500.0| 148339.8283128054|\n",
      "|          103100.0| 47490.49748268956|\n",
      "|           92500.0|  166748.314372533|\n",
      "|          128100.0|222114.80621313443|\n",
      "|           99600.0|187291.90475222096|\n",
      "+------------------+------------------+\n",
      "only showing top 20 rows\n",
      "\n"
     ]
    }
   ],
   "source": [
    "predictions_on_full_data = cross_validate(LinearRegression(labelCol=target, featuresCol='features'), \n",
    "                                          metrics['r2']) \\\n",
    "                                              .transform(df_test)\n",
    "\n",
    "predictions_on_full_data.select(target, 'prediction').show(20)"
   ]
  },
  {
   "cell_type": "markdown",
   "id": "1e701da3",
   "metadata": {},
   "source": [
    "Построение модели, используя только числовые признаки:"
   ]
  },
  {
   "cell_type": "code",
   "execution_count": 17,
   "id": "9a947953",
   "metadata": {},
   "outputs": [
    {
     "name": "stderr",
     "output_type": "stream",
     "text": [
      "                                                                                \r"
     ]
    },
    {
     "name": "stdout",
     "output_type": "stream",
     "text": [
      "+------------------+------------------+\n",
      "|median_house_value|        prediction|\n",
      "+------------------+------------------+\n",
      "|          103600.0| 101406.2913245773|\n",
      "|           50800.0|183331.75189457834|\n",
      "|           58100.0|109608.81756080175|\n",
      "|           68400.0| 80444.21502781706|\n",
      "|           72200.0|130001.38464584807|\n",
      "|           67000.0|120453.19644093327|\n",
      "|           81300.0|118117.53252915805|\n",
      "|           70500.0|130758.30230018031|\n",
      "|           60000.0|110065.79480161844|\n",
      "|          109400.0|118254.46115862159|\n",
      "|           74100.0|117750.80850355932|\n",
      "|           74700.0|134467.25967075862|\n",
      "|           90000.0| 176033.3946645148|\n",
      "|          104200.0|166605.98543671798|\n",
      "|           74100.0|123050.17657577479|\n",
      "|           67500.0|113817.08334864723|\n",
      "|          103100.0| -8380.06678610947|\n",
      "|           92500.0| 140926.1828873302|\n",
      "|          128100.0|191274.31017359626|\n",
      "|           99600.0|152720.48398614628|\n",
      "+------------------+------------------+\n",
      "only showing top 20 rows\n",
      "\n"
     ]
    },
    {
     "name": "stderr",
     "output_type": "stream",
     "text": [
      "                                                                                \r"
     ]
    }
   ],
   "source": [
    "predictions_on_numerical_data = cross_validate(LinearRegression(labelCol=target, featuresCol='numerical_features_scaled'),\n",
    "                                               metrics['r2']) \\\n",
    "                                                   .transform(df_test)\n",
    "\n",
    "predictions_on_numerical_data.select(target, 'prediction').show(20)"
   ]
  },
  {
   "cell_type": "markdown",
   "id": "c396ea35",
   "metadata": {},
   "source": [
    "<div class=\"alert alert-success\">\n",
    "<b>Комментарий ревьюера ✔️:</b> Отлично, обучила верно:) \n",
    "\n",
    "</div>\n"
   ]
  },
  {
   "cell_type": "markdown",
   "id": "757fd103",
   "metadata": {
    "id": "757fd103"
   },
   "source": [
    "# Анализ результатов"
   ]
  },
  {
   "cell_type": "markdown",
   "id": "1ff2efec",
   "metadata": {},
   "source": [
    "Сравним метрики RMSE, MAE и R2 моделей, обучающихся на разных наборах данных.\n",
    "\n",
    "Метрики модели, обучающейся на всех признаках (числовых и категориальных):"
   ]
  },
  {
   "cell_type": "code",
   "execution_count": 18,
   "id": "b2ec318d",
   "metadata": {},
   "outputs": [
    {
     "name": "stdout",
     "output_type": "stream",
     "text": [
      "rmse 68486.92403262584\n",
      "mae 49866.91155597181\n",
      "r2 0.6535562575837126\n"
     ]
    }
   ],
   "source": [
    "print_metrics(metrics, predictions_on_full_data)"
   ]
  },
  {
   "cell_type": "markdown",
   "id": "0dc676c3",
   "metadata": {},
   "source": [
    "Метрики модели, обучающейся только на числовых признаках:"
   ]
  },
  {
   "cell_type": "code",
   "execution_count": 19,
   "id": "460b15e5",
   "metadata": {},
   "outputs": [
    {
     "name": "stdout",
     "output_type": "stream",
     "text": [
      "rmse 69212.85461378017\n",
      "mae 50866.422500750974\n",
      "r2 0.6461730388734785\n"
     ]
    }
   ],
   "source": [
    "print_metrics(metrics, predictions_on_numerical_data)"
   ]
  },
  {
   "cell_type": "markdown",
   "id": "699eb529",
   "metadata": {},
   "source": [
    "<div class=\"alert alert-success\">\n",
    "<b>Комментарий ревьюера ✔️:</b> протестировала корретно:) \n",
    "    \n",
    "Пример подбора параметров:)    \n",
    "```python\n",
    "    gtb = GBTRegressor(featuresCol = 'features', labelCol='median_house_value')\n",
    "    paramGrid = ParamGridBuilder().addGrid(gtb.maxIter, <your code>)\\\n",
    "                                  .addGrid(gtb.maxDepth , <your code>)\\\n",
    "                                  .addGrid(gtb.stepSize , <your code>)\\\n",
    "                                  .build()\n",
    "    evaluator = RegressionEvaluator(labelCol='median_house_value',metricName='r2')\n",
    "    valid = TrainValidationSplit(estimator=gtb,\n",
    "                                 estimatorParamMaps=paramGrid,\n",
    "                                 evaluator=evaluator,\n",
    "                                 trainRatio=0.8,\n",
    "                                 seed=RANDOM_SEED)\n",
    "```\n",
    "\n",
    "\n",
    "</div>"
   ]
  },
  {
   "cell_type": "markdown",
   "id": "1a533fca",
   "metadata": {},
   "source": [
    "<div class=\"alert alert-info\"> <b>Комментарий студента:</b> Добавила подбор параметров. TrainValidationSplit перебирает параметры для получения модели с наилучшей метрикой. Мне надо сравнить модели по 3 метрикам, а валидирую я по одной (r2 - выбрана наугад из трех). Какую метрику лучше передавать в TrainValidationSplit в evaluator?\n",
    "</div>"
   ]
  },
  {
   "cell_type": "markdown",
   "id": "65ccac13",
   "metadata": {},
   "source": [
    "<div class=\"alert alert-success\">\n",
    "<b>Комментарий ревьюера V2✔️:</b> Все хорошо:) Думаю, тут можно любую, не принципиально\n",
    "\n",
    "\n",
    "</div>"
   ]
  },
  {
   "cell_type": "code",
   "execution_count": 20,
   "id": "5a7e4b9c",
   "metadata": {},
   "outputs": [],
   "source": [
    "spark.stop()"
   ]
  },
  {
   "cell_type": "markdown",
   "id": "58b97bd8",
   "metadata": {},
   "source": [
    "Выводы:\n",
    "- RMSE меньше у модели, обучающейся на всех данных;\n",
    "- MAE меньше у модели, обучающейся на всех данных;\n",
    "- R2 больше у модели, обучающейся на всех данных;\n",
    "\n",
    "У модели, обучившейся на всех данных (числовых и категориальных), метрики RMSE, MAE, R2 лучше по сравнению с моделью, обучившейся только на числовых данных."
   ]
  },
  {
   "cell_type": "markdown",
   "id": "171c4c54",
   "metadata": {},
   "source": [
    "<div class=\"alert alert-success\">\n",
    "<b>Комментарий ревьюера ✔️:</b>  Немного полезного материала:\n",
    "\n",
    "Немного полезной информации:\n",
    "+  https://www.tutorialspoint.com/pyspark/index.htm\n",
    "+  https://www.guru99.com/pyspark-tutorial.html\n",
    "+  https://databricks.com/spark/getting-started-with-apache-spark/machine-learning#load-sample-data\n",
    "\n",
    "\n",
    "</div>"
   ]
  },
  {
   "cell_type": "markdown",
   "id": "1327fc55",
   "metadata": {},
   "source": [
    "<font color='blue'><b>Итоговый комментарий ревьюера</b></font>\n",
    "<div class=\"alert alert-success\">\n",
    "<b>Комментарий ревьюера ✔️:</b>Мария, спасибо за хороший проект!!! Я готов принять работу, но хочу убедиться, что тебе все понятно.<br>\n",
    "Если есть какие либо вопросы я с удовольствием на них отвечу:)</div>\n"
   ]
  },
  {
   "cell_type": "markdown",
   "id": "3e5b3856",
   "metadata": {},
   "source": [
    "<div class=\"alert alert-success\">\n",
    "<b>Комментарий ревьюера V2✔️:</b> Удачи в следующих проектах!!!\n",
    "\n",
    "\n",
    "</div>"
   ]
  }
 ],
 "metadata": {
  "ExecuteTimeLog": [
   {
    "duration": 458,
    "start_time": "2022-11-30T14:03:53.987Z"
   },
   {
    "duration": 19787,
    "start_time": "2022-11-30T14:03:56.514Z"
   },
   {
    "duration": 9940,
    "start_time": "2022-11-30T14:05:53.285Z"
   },
   {
    "duration": 972,
    "start_time": "2022-11-30T14:06:22.831Z"
   },
   {
    "duration": 1011,
    "start_time": "2022-11-30T14:06:38.622Z"
   },
   {
    "duration": 1975,
    "start_time": "2022-11-30T14:07:25.622Z"
   },
   {
    "duration": 473,
    "start_time": "2022-12-01T08:28:00.582Z"
   },
   {
    "duration": 18936,
    "start_time": "2022-12-01T08:28:03.166Z"
   },
   {
    "duration": 10670,
    "start_time": "2022-12-01T08:28:27.837Z"
   },
   {
    "duration": 1642,
    "start_time": "2022-12-01T08:28:50.321Z"
   },
   {
    "duration": 76,
    "start_time": "2022-12-01T08:29:51.017Z"
   },
   {
    "duration": 3928,
    "start_time": "2022-12-01T08:31:01.083Z"
   },
   {
    "duration": 1332,
    "start_time": "2022-12-01T08:31:06.275Z"
   },
   {
    "duration": 1144,
    "start_time": "2022-12-01T08:31:17.874Z"
   },
   {
    "duration": 890,
    "start_time": "2022-12-01T08:31:24.825Z"
   },
   {
    "duration": 1161,
    "start_time": "2022-12-01T08:31:36.510Z"
   },
   {
    "duration": 1081,
    "start_time": "2022-12-01T08:31:44.874Z"
   },
   {
    "duration": 2,
    "start_time": "2022-12-01T08:36:28.286Z"
   },
   {
    "duration": 2,
    "start_time": "2022-12-01T08:36:34.701Z"
   },
   {
    "duration": 3,
    "start_time": "2022-12-01T08:36:39.118Z"
   },
   {
    "duration": 3,
    "start_time": "2022-12-01T08:37:45.137Z"
   },
   {
    "duration": 4,
    "start_time": "2022-12-01T08:37:52.327Z"
   },
   {
    "duration": 4,
    "start_time": "2022-12-01T08:37:58.735Z"
   },
   {
    "duration": 60,
    "start_time": "2022-12-01T08:38:11.289Z"
   },
   {
    "duration": 3,
    "start_time": "2022-12-01T08:39:46.795Z"
   },
   {
    "duration": 7,
    "start_time": "2022-12-01T08:41:57.489Z"
   },
   {
    "duration": 7,
    "start_time": "2022-12-01T08:43:00.782Z"
   },
   {
    "duration": 3,
    "start_time": "2022-12-01T08:43:06.405Z"
   },
   {
    "duration": 7,
    "start_time": "2022-12-01T08:44:14.870Z"
   },
   {
    "duration": 92,
    "start_time": "2022-12-01T08:44:59.295Z"
   },
   {
    "duration": 74,
    "start_time": "2022-12-01T08:45:07.995Z"
   },
   {
    "duration": 8,
    "start_time": "2022-12-01T08:45:16.495Z"
   },
   {
    "duration": 7,
    "start_time": "2022-12-01T08:46:06.529Z"
   },
   {
    "duration": 4,
    "start_time": "2022-12-01T08:48:02.549Z"
   },
   {
    "duration": 4,
    "start_time": "2022-12-01T08:48:28.051Z"
   },
   {
    "duration": 3,
    "start_time": "2022-12-01T08:49:03.355Z"
   },
   {
    "duration": 3,
    "start_time": "2022-12-01T08:49:17.901Z"
   },
   {
    "duration": 3,
    "start_time": "2022-12-01T08:49:21.265Z"
   },
   {
    "duration": 3113,
    "start_time": "2022-12-01T08:54:33.425Z"
   },
   {
    "duration": 2068,
    "start_time": "2022-12-01T08:54:58.570Z"
   },
   {
    "duration": 2393,
    "start_time": "2022-12-01T09:01:13.271Z"
   },
   {
    "duration": 3669,
    "start_time": "2022-12-01T09:02:08.648Z"
   },
   {
    "duration": 17,
    "start_time": "2022-12-01T09:05:32.202Z"
   },
   {
    "duration": 10,
    "start_time": "2022-12-01T09:08:38.311Z"
   },
   {
    "duration": 13,
    "start_time": "2022-12-01T09:08:55.423Z"
   },
   {
    "duration": 9,
    "start_time": "2022-12-01T09:09:00.329Z"
   },
   {
    "duration": 12,
    "start_time": "2022-12-01T09:09:12.255Z"
   },
   {
    "duration": 7,
    "start_time": "2022-12-01T09:11:24.258Z"
   },
   {
    "duration": 7,
    "start_time": "2022-12-01T09:55:50.807Z"
   },
   {
    "duration": 8,
    "start_time": "2022-12-01T10:04:05.334Z"
   },
   {
    "duration": 499,
    "start_time": "2022-12-01T10:04:27.230Z"
   },
   {
    "duration": 81,
    "start_time": "2022-12-01T10:08:03.196Z"
   },
   {
    "duration": 274,
    "start_time": "2022-12-01T10:08:47.851Z"
   },
   {
    "duration": 3088,
    "start_time": "2022-12-01T10:08:56.979Z"
   },
   {
    "duration": 147,
    "start_time": "2022-12-01T10:09:13.476Z"
   },
   {
    "duration": 3158,
    "start_time": "2022-12-01T10:09:20.820Z"
   },
   {
    "duration": 2669,
    "start_time": "2022-12-01T10:11:06.453Z"
   },
   {
    "duration": 101,
    "start_time": "2022-12-01T11:39:10.534Z"
   },
   {
    "duration": 11,
    "start_time": "2022-12-01T11:45:16.811Z"
   },
   {
    "duration": 346,
    "start_time": "2022-12-01T11:45:33.555Z"
   },
   {
    "duration": 149,
    "start_time": "2022-12-01T11:45:36.069Z"
   },
   {
    "duration": 1431,
    "start_time": "2022-12-01T11:45:56.076Z"
   },
   {
    "duration": 117,
    "start_time": "2022-12-01T11:46:08.983Z"
   },
   {
    "duration": 648,
    "start_time": "2022-12-01T11:46:23.620Z"
   },
   {
    "duration": 2977,
    "start_time": "2022-12-01T11:46:30.827Z"
   },
   {
    "duration": 728,
    "start_time": "2022-12-01T11:46:35.177Z"
   },
   {
    "duration": 10,
    "start_time": "2022-12-01T11:48:50.180Z"
   },
   {
    "duration": 3,
    "start_time": "2022-12-01T11:49:18.683Z"
   },
   {
    "duration": 515,
    "start_time": "2022-12-01T11:49:21.304Z"
   },
   {
    "duration": 379,
    "start_time": "2022-12-01T11:54:46.045Z"
   },
   {
    "duration": 148,
    "start_time": "2022-12-01T11:55:03.078Z"
   },
   {
    "duration": 2395,
    "start_time": "2022-12-01T11:55:14.958Z"
   },
   {
    "duration": 1036,
    "start_time": "2022-12-01T12:33:16.394Z"
   },
   {
    "duration": 4,
    "start_time": "2022-12-01T12:33:31.611Z"
   },
   {
    "duration": 9,
    "start_time": "2022-12-01T12:34:04.211Z"
   },
   {
    "duration": 3,
    "start_time": "2022-12-01T12:34:20.916Z"
   },
   {
    "duration": 5,
    "start_time": "2022-12-01T12:34:33.675Z"
   },
   {
    "duration": 984,
    "start_time": "2022-12-01T12:47:37.321Z"
   },
   {
    "duration": 849,
    "start_time": "2022-12-01T12:47:40.072Z"
   },
   {
    "duration": 3308,
    "start_time": "2022-12-01T12:47:42.713Z"
   },
   {
    "duration": 3046,
    "start_time": "2022-12-01T12:47:47.625Z"
   },
   {
    "duration": 371,
    "start_time": "2022-12-01T12:47:52.770Z"
   },
   {
    "duration": 160,
    "start_time": "2022-12-01T12:47:56.401Z"
   },
   {
    "duration": 426,
    "start_time": "2022-12-01T12:47:58.601Z"
   },
   {
    "duration": 3490,
    "start_time": "2022-12-01T12:50:00.402Z"
   },
   {
    "duration": 4,
    "start_time": "2022-12-01T12:54:09.287Z"
   },
   {
    "duration": 2347,
    "start_time": "2022-12-01T12:54:18.375Z"
   },
   {
    "duration": 1059,
    "start_time": "2022-12-01T12:54:23.102Z"
   },
   {
    "duration": 648,
    "start_time": "2022-12-01T12:59:26.570Z"
   },
   {
    "duration": 3071,
    "start_time": "2022-12-01T12:59:33.348Z"
   },
   {
    "duration": 3,
    "start_time": "2022-12-01T12:59:38.452Z"
   },
   {
    "duration": 3,
    "start_time": "2022-12-01T12:59:47.196Z"
   },
   {
    "duration": 328,
    "start_time": "2022-12-01T12:59:50.380Z"
   },
   {
    "duration": 125,
    "start_time": "2022-12-01T12:59:55.348Z"
   },
   {
    "duration": 490,
    "start_time": "2022-12-01T12:59:58.036Z"
   },
   {
    "duration": 3015,
    "start_time": "2022-12-01T13:00:01.172Z"
   },
   {
    "duration": 1384,
    "start_time": "2022-12-01T13:00:08.156Z"
   },
   {
    "duration": 15348,
    "start_time": "2022-12-01T13:04:52.665Z"
   },
   {
    "duration": 9,
    "start_time": "2022-12-01T13:11:48.496Z"
   },
   {
    "duration": 56,
    "start_time": "2022-12-01T13:11:50.658Z"
   },
   {
    "duration": 0,
    "start_time": "2022-12-01T13:13:14.317Z"
   },
   {
    "duration": 5,
    "start_time": "2022-12-01T13:46:32.731Z"
   },
   {
    "duration": 32,
    "start_time": "2022-12-01T13:46:34.716Z"
   },
   {
    "duration": 848,
    "start_time": "2022-12-01T15:35:14.604Z"
   },
   {
    "duration": 17745,
    "start_time": "2022-12-01T15:35:17.516Z"
   },
   {
    "duration": 11749,
    "start_time": "2022-12-01T15:35:39.191Z"
   },
   {
    "duration": 1367,
    "start_time": "2022-12-01T15:36:10.181Z"
   },
   {
    "duration": 9337,
    "start_time": "2022-12-01T15:36:19.357Z"
   },
   {
    "duration": 6616,
    "start_time": "2022-12-01T15:36:32.463Z"
   },
   {
    "duration": 4,
    "start_time": "2022-12-01T15:36:43.214Z"
   },
   {
    "duration": 1873,
    "start_time": "2022-12-01T15:37:25.856Z"
   },
   {
    "duration": 513,
    "start_time": "2022-12-01T15:37:29.407Z"
   },
   {
    "duration": 1304,
    "start_time": "2022-12-01T15:37:32.147Z"
   },
   {
    "duration": 4355,
    "start_time": "2022-12-01T15:37:39.636Z"
   },
   {
    "duration": 2292,
    "start_time": "2022-12-01T15:37:46.845Z"
   },
   {
    "duration": 95113,
    "start_time": "2022-12-01T15:37:51.568Z"
   },
   {
    "duration": 13,
    "start_time": "2022-12-01T15:39:36.961Z"
   },
   {
    "duration": 343784,
    "start_time": "2022-12-01T15:39:43.911Z"
   },
   {
    "duration": 15802,
    "start_time": "2022-12-01T15:45:33.870Z"
   },
   {
    "duration": 696,
    "start_time": "2022-12-01T15:46:02.173Z"
   },
   {
    "duration": 15524,
    "start_time": "2022-12-01T15:46:07.728Z"
   },
   {
    "duration": 10710,
    "start_time": "2022-12-01T15:46:40.029Z"
   },
   {
    "duration": 2180,
    "start_time": "2022-12-01T15:46:53.382Z"
   },
   {
    "duration": 4634,
    "start_time": "2022-12-01T15:46:58.007Z"
   },
   {
    "duration": 2105,
    "start_time": "2022-12-01T15:47:04.039Z"
   },
   {
    "duration": 6486,
    "start_time": "2022-12-01T15:47:08.750Z"
   },
   {
    "duration": 5176,
    "start_time": "2022-12-01T15:47:17.208Z"
   },
   {
    "duration": 3,
    "start_time": "2022-12-01T15:47:24.303Z"
   },
   {
    "duration": 1548,
    "start_time": "2022-12-01T15:47:26.489Z"
   },
   {
    "duration": 479,
    "start_time": "2022-12-01T15:47:32.359Z"
   },
   {
    "duration": 1411,
    "start_time": "2022-12-01T15:47:35.529Z"
   },
   {
    "duration": 4544,
    "start_time": "2022-12-01T15:47:39.310Z"
   },
   {
    "duration": 2759,
    "start_time": "2022-12-01T15:47:51.577Z"
   },
   {
    "duration": 47,
    "start_time": "2022-12-01T15:47:57.433Z"
   },
   {
    "duration": 6718516,
    "start_time": "2022-12-01T15:48:12.448Z"
   },
   {
    "duration": 22,
    "start_time": "2022-12-01T17:41:57.650Z"
   },
   {
    "duration": 16,
    "start_time": "2022-12-01T17:42:09.281Z"
   },
   {
    "duration": 4,
    "start_time": "2022-12-01T17:42:29.166Z"
   },
   {
    "duration": 4,
    "start_time": "2022-12-01T17:42:39.820Z"
   },
   {
    "duration": 15,
    "start_time": "2022-12-01T17:42:41.321Z"
   },
   {
    "duration": 693,
    "start_time": "2022-12-01T17:45:52.960Z"
   },
   {
    "duration": 15568,
    "start_time": "2022-12-01T17:45:55.457Z"
   },
   {
    "duration": 10668,
    "start_time": "2022-12-01T17:46:18.749Z"
   },
   {
    "duration": 8319,
    "start_time": "2022-12-01T17:46:41.930Z"
   },
   {
    "duration": 5154,
    "start_time": "2022-12-01T17:47:06.075Z"
   },
   {
    "duration": 2,
    "start_time": "2022-12-01T17:47:14.975Z"
   },
   {
    "duration": 1776,
    "start_time": "2022-12-01T17:47:24.860Z"
   },
   {
    "duration": 566,
    "start_time": "2022-12-01T17:47:28.550Z"
   },
   {
    "duration": 1366,
    "start_time": "2022-12-01T17:47:30.868Z"
   },
   {
    "duration": 4382,
    "start_time": "2022-12-01T17:47:34.070Z"
   },
   {
    "duration": 2422,
    "start_time": "2022-12-01T17:47:45.801Z"
   },
   {
    "duration": 58,
    "start_time": "2022-12-01T17:47:51.244Z"
   },
   {
    "duration": 70783,
    "start_time": "2022-12-01T17:47:53.651Z"
   },
   {
    "duration": 773,
    "start_time": "2022-12-02T03:48:31.552Z"
   },
   {
    "duration": 19126,
    "start_time": "2022-12-02T03:48:33.757Z"
   },
   {
    "duration": 10788,
    "start_time": "2022-12-02T03:48:55.010Z"
   },
   {
    "duration": 7648,
    "start_time": "2022-12-02T03:49:15.237Z"
   },
   {
    "duration": 5182,
    "start_time": "2022-12-02T03:49:24.919Z"
   },
   {
    "duration": 3,
    "start_time": "2022-12-02T03:49:32.087Z"
   },
   {
    "duration": 1768,
    "start_time": "2022-12-02T03:49:35.535Z"
   },
   {
    "duration": 573,
    "start_time": "2022-12-02T03:49:39.896Z"
   },
   {
    "duration": 1495,
    "start_time": "2022-12-02T03:49:42.295Z"
   },
   {
    "duration": 4269,
    "start_time": "2022-12-02T03:49:46.600Z"
   },
   {
    "duration": 2655,
    "start_time": "2022-12-02T03:49:54.243Z"
   },
   {
    "duration": 1204,
    "start_time": "2022-12-02T03:49:59.041Z"
   },
   {
    "duration": 222,
    "start_time": "2022-12-02T03:50:03.799Z"
   },
   {
    "duration": 6667822,
    "start_time": "2022-12-02T03:50:09.801Z"
   },
   {
    "duration": 20,
    "start_time": "2022-12-02T05:55:47.030Z"
   },
   {
    "duration": 19,
    "start_time": "2022-12-02T05:59:06.121Z"
   },
   {
    "duration": 17,
    "start_time": "2022-12-02T06:05:24.457Z"
   },
   {
    "duration": 676,
    "start_time": "2022-12-02T06:05:42.746Z"
   },
   {
    "duration": 15389,
    "start_time": "2022-12-02T06:05:44.601Z"
   },
   {
    "duration": 9,
    "start_time": "2022-12-02T06:06:56.962Z"
   },
   {
    "duration": 10786,
    "start_time": "2022-12-02T06:07:08.306Z"
   },
   {
    "duration": 7704,
    "start_time": "2022-12-02T06:07:21.609Z"
   },
   {
    "duration": 4988,
    "start_time": "2022-12-02T06:07:31.424Z"
   },
   {
    "duration": 3,
    "start_time": "2022-12-02T06:07:39.425Z"
   },
   {
    "duration": 1886,
    "start_time": "2022-12-02T06:09:45.698Z"
   },
   {
    "duration": 605,
    "start_time": "2022-12-02T06:10:16.357Z"
   },
   {
    "duration": 46,
    "start_time": "2022-12-02T06:10:38.366Z"
   },
   {
    "duration": 1253,
    "start_time": "2022-12-02T06:11:17.454Z"
   },
   {
    "duration": 4270,
    "start_time": "2022-12-02T06:11:38.630Z"
   },
   {
    "duration": 2775,
    "start_time": "2022-12-02T06:11:57.310Z"
   },
   {
    "duration": 46,
    "start_time": "2022-12-02T06:12:38.919Z"
   },
   {
    "duration": 961253,
    "start_time": "2022-12-02T06:12:50.366Z"
   },
   {
    "duration": 0,
    "start_time": "2022-12-02T06:28:51.621Z"
   },
   {
    "duration": 681,
    "start_time": "2022-12-02T08:52:23.351Z"
   },
   {
    "duration": 14712,
    "start_time": "2022-12-02T08:52:25.611Z"
   },
   {
    "duration": 9883,
    "start_time": "2022-12-02T08:52:40.326Z"
   },
   {
    "duration": 7869,
    "start_time": "2022-12-02T08:52:50.211Z"
   },
   {
    "duration": 5143,
    "start_time": "2022-12-02T08:52:58.083Z"
   },
   {
    "duration": 3,
    "start_time": "2022-12-02T08:53:03.227Z"
   },
   {
    "duration": 1663,
    "start_time": "2022-12-02T08:53:03.232Z"
   },
   {
    "duration": 583,
    "start_time": "2022-12-02T08:53:04.897Z"
   },
   {
    "duration": 97,
    "start_time": "2022-12-02T08:53:05.482Z"
   },
   {
    "duration": 1135,
    "start_time": "2022-12-02T08:53:05.580Z"
   },
   {
    "duration": 4608,
    "start_time": "2022-12-02T08:53:06.717Z"
   },
   {
    "duration": 2483,
    "start_time": "2022-12-02T08:53:11.327Z"
   },
   {
    "duration": 68411,
    "start_time": "2022-12-02T08:53:16.214Z"
   },
   {
    "duration": 4,
    "start_time": "2022-12-02T10:03:13.331Z"
   },
   {
    "duration": 14,
    "start_time": "2022-12-02T10:03:15.038Z"
   },
   {
    "duration": 692,
    "start_time": "2022-12-02T10:03:22.526Z"
   },
   {
    "duration": 14781,
    "start_time": "2022-12-02T10:03:24.607Z"
   },
   {
    "duration": 9713,
    "start_time": "2022-12-02T10:03:39.391Z"
   },
   {
    "duration": 4307,
    "start_time": "2022-12-02T10:03:49.106Z"
   },
   {
    "duration": 5,
    "start_time": "2022-12-02T12:47:21.834Z"
   },
   {
    "duration": 4,
    "start_time": "2022-12-02T12:47:23.394Z"
   },
   {
    "duration": 1700,
    "start_time": "2022-12-02T12:47:26.111Z"
   },
   {
    "duration": 1500,
    "start_time": "2022-12-02T12:47:46.011Z"
   },
   {
    "duration": 6623,
    "start_time": "2022-12-02T12:48:01.971Z"
   },
   {
    "duration": 5029,
    "start_time": "2022-12-02T12:48:08.596Z"
   },
   {
    "duration": 4,
    "start_time": "2022-12-02T12:48:19.259Z"
   },
   {
    "duration": 1541,
    "start_time": "2022-12-02T12:48:20.845Z"
   },
   {
    "duration": 581,
    "start_time": "2022-12-02T12:48:31.212Z"
   },
   {
    "duration": 1456,
    "start_time": "2022-12-02T12:49:23.735Z"
   },
   {
    "duration": 227,
    "start_time": "2022-12-02T12:49:29.737Z"
   },
   {
    "duration": 24,
    "start_time": "2022-12-02T12:50:49.966Z"
   },
   {
    "duration": 146,
    "start_time": "2022-12-02T12:50:51.574Z"
   },
   {
    "duration": 111,
    "start_time": "2022-12-02T12:51:01.921Z"
   },
   {
    "duration": 765,
    "start_time": "2022-12-02T12:51:14.247Z"
   },
   {
    "duration": 16293,
    "start_time": "2022-12-02T12:51:15.015Z"
   },
   {
    "duration": 10806,
    "start_time": "2022-12-02T12:51:31.310Z"
   },
   {
    "duration": 4588,
    "start_time": "2022-12-02T12:51:42.119Z"
   },
   {
    "duration": 6738,
    "start_time": "2022-12-02T12:51:46.709Z"
   },
   {
    "duration": 5148,
    "start_time": "2022-12-02T12:51:53.448Z"
   },
   {
    "duration": 3,
    "start_time": "2022-12-02T12:51:58.598Z"
   },
   {
    "duration": 1592,
    "start_time": "2022-12-02T12:51:58.603Z"
   },
   {
    "duration": 643,
    "start_time": "2022-12-02T12:52:00.197Z"
   },
   {
    "duration": 1837,
    "start_time": "2022-12-02T12:52:00.842Z"
   },
   {
    "duration": 30,
    "start_time": "2022-12-02T12:52:02.681Z"
   },
   {
    "duration": 375,
    "start_time": "2022-12-02T12:52:02.712Z"
   },
   {
    "duration": 3102,
    "start_time": "2022-12-02T12:52:03.088Z"
   },
   {
    "duration": 4535,
    "start_time": "2022-12-02T12:52:06.193Z"
   },
   {
    "duration": 0,
    "start_time": "2022-12-02T12:52:10.730Z"
   },
   {
    "duration": 3046,
    "start_time": "2022-12-02T12:53:39.906Z"
   },
   {
    "duration": 3905,
    "start_time": "2022-12-02T13:07:57.680Z"
   },
   {
    "duration": 887,
    "start_time": "2022-12-02T13:08:48.800Z"
   },
   {
    "duration": 688,
    "start_time": "2022-12-02T13:09:53.226Z"
   },
   {
    "duration": 1055,
    "start_time": "2022-12-02T13:10:54.162Z"
   },
   {
    "duration": 3020,
    "start_time": "2022-12-02T13:11:20.164Z"
   },
   {
    "duration": 1224,
    "start_time": "2022-12-02T13:11:51.468Z"
   },
   {
    "duration": 3261,
    "start_time": "2022-12-02T13:11:56.693Z"
   },
   {
    "duration": 1124,
    "start_time": "2022-12-02T13:12:20.075Z"
   },
   {
    "duration": 3392,
    "start_time": "2022-12-02T13:12:49.852Z"
   },
   {
    "duration": 760,
    "start_time": "2022-12-02T13:13:26.135Z"
   },
   {
    "duration": 525,
    "start_time": "2022-12-02T13:13:46.022Z"
   },
   {
    "duration": 10,
    "start_time": "2022-12-02T13:15:39.673Z"
   },
   {
    "duration": 7,
    "start_time": "2022-12-02T13:15:52.849Z"
   },
   {
    "duration": 8,
    "start_time": "2022-12-02T13:16:10.056Z"
   },
   {
    "duration": 671,
    "start_time": "2022-12-02T13:17:38.442Z"
   },
   {
    "duration": 14947,
    "start_time": "2022-12-02T13:17:40.563Z"
   },
   {
    "duration": 10087,
    "start_time": "2022-12-02T13:17:55.512Z"
   },
   {
    "duration": 7982,
    "start_time": "2022-12-02T13:18:05.600Z"
   },
   {
    "duration": 5495,
    "start_time": "2022-12-02T13:18:13.584Z"
   },
   {
    "duration": 3,
    "start_time": "2022-12-02T13:18:19.081Z"
   },
   {
    "duration": 1662,
    "start_time": "2022-12-02T13:18:19.086Z"
   },
   {
    "duration": 545,
    "start_time": "2022-12-02T13:18:20.779Z"
   },
   {
    "duration": 1553,
    "start_time": "2022-12-02T13:18:21.326Z"
   },
   {
    "duration": 28,
    "start_time": "2022-12-02T13:18:22.881Z"
   },
   {
    "duration": 423,
    "start_time": "2022-12-02T13:18:22.912Z"
   },
   {
    "duration": 2946,
    "start_time": "2022-12-02T13:18:23.337Z"
   },
   {
    "duration": 4329,
    "start_time": "2022-12-02T13:53:38.304Z"
   },
   {
    "duration": 4170,
    "start_time": "2022-12-02T13:54:19.609Z"
   },
   {
    "duration": 828,
    "start_time": "2022-12-02T13:54:53.482Z"
   },
   {
    "duration": 8,
    "start_time": "2022-12-02T15:12:18.905Z"
   },
   {
    "duration": 4,
    "start_time": "2022-12-02T15:12:41.466Z"
   },
   {
    "duration": 1001,
    "start_time": "2022-12-02T15:14:59.516Z"
   },
   {
    "duration": 481,
    "start_time": "2022-12-02T15:15:57.525Z"
   },
   {
    "duration": 5,
    "start_time": "2022-12-02T15:26:11.280Z"
   },
   {
    "duration": 1613,
    "start_time": "2022-12-02T15:50:57.883Z"
   },
   {
    "duration": 2214,
    "start_time": "2022-12-02T15:57:02.167Z"
   },
   {
    "duration": 1223,
    "start_time": "2022-12-02T15:57:04.383Z"
   },
   {
    "duration": 754,
    "start_time": "2022-12-02T16:00:24.759Z"
   },
   {
    "duration": 15375,
    "start_time": "2022-12-02T16:00:25.514Z"
   },
   {
    "duration": 10800,
    "start_time": "2022-12-02T16:00:40.891Z"
   },
   {
    "duration": 4615,
    "start_time": "2022-12-02T16:00:51.694Z"
   },
   {
    "duration": 6994,
    "start_time": "2022-12-02T16:00:56.311Z"
   },
   {
    "duration": 5172,
    "start_time": "2022-12-02T16:01:03.307Z"
   },
   {
    "duration": 4,
    "start_time": "2022-12-02T16:01:08.481Z"
   },
   {
    "duration": 1791,
    "start_time": "2022-12-02T16:01:08.487Z"
   },
   {
    "duration": 541,
    "start_time": "2022-12-02T16:01:10.280Z"
   },
   {
    "duration": 1913,
    "start_time": "2022-12-02T16:01:10.825Z"
   },
   {
    "duration": 30,
    "start_time": "2022-12-02T16:01:12.778Z"
   },
   {
    "duration": 505,
    "start_time": "2022-12-02T16:01:12.810Z"
   },
   {
    "duration": 2784,
    "start_time": "2022-12-02T16:01:13.317Z"
   },
   {
    "duration": 5277,
    "start_time": "2022-12-02T16:01:16.103Z"
   },
   {
    "duration": 3344,
    "start_time": "2022-12-02T16:01:21.382Z"
   },
   {
    "duration": 1819,
    "start_time": "2022-12-02T16:01:24.779Z"
   },
   {
    "duration": 1826,
    "start_time": "2022-12-02T16:01:26.600Z"
   },
   {
    "duration": 701,
    "start_time": "2022-12-02T17:11:11.020Z"
   },
   {
    "duration": 16292,
    "start_time": "2022-12-02T17:11:11.723Z"
   },
   {
    "duration": 11802,
    "start_time": "2022-12-02T17:11:28.018Z"
   },
   {
    "duration": 4983,
    "start_time": "2022-12-02T17:11:39.823Z"
   },
   {
    "duration": 6982,
    "start_time": "2022-12-02T17:11:44.808Z"
   },
   {
    "duration": 5006,
    "start_time": "2022-12-02T17:11:51.791Z"
   },
   {
    "duration": 3,
    "start_time": "2022-12-02T17:11:56.799Z"
   },
   {
    "duration": 1495,
    "start_time": "2022-12-02T17:11:56.803Z"
   },
   {
    "duration": 694,
    "start_time": "2022-12-02T17:11:58.299Z"
   },
   {
    "duration": 1533,
    "start_time": "2022-12-02T17:11:58.995Z"
   },
   {
    "duration": 33,
    "start_time": "2022-12-02T17:12:00.577Z"
   },
   {
    "duration": 424,
    "start_time": "2022-12-02T17:12:00.612Z"
   },
   {
    "duration": 3158,
    "start_time": "2022-12-02T17:12:01.037Z"
   },
   {
    "duration": 4700,
    "start_time": "2022-12-02T17:12:04.198Z"
   },
   {
    "duration": 3761,
    "start_time": "2022-12-02T17:12:08.900Z"
   },
   {
    "duration": 2055,
    "start_time": "2022-12-02T17:12:12.663Z"
   },
   {
    "duration": 1784,
    "start_time": "2022-12-02T17:12:14.719Z"
   },
   {
    "duration": 448,
    "start_time": "2022-12-02T17:34:30.122Z"
   },
   {
    "duration": 290,
    "start_time": "2022-12-02T17:34:48.521Z"
   },
   {
    "duration": 716,
    "start_time": "2022-12-02T17:35:07.899Z"
   },
   {
    "duration": 16191,
    "start_time": "2022-12-02T17:35:08.617Z"
   },
   {
    "duration": 10581,
    "start_time": "2022-12-02T17:35:24.810Z"
   },
   {
    "duration": 4721,
    "start_time": "2022-12-02T17:35:35.393Z"
   },
   {
    "duration": 7007,
    "start_time": "2022-12-02T17:35:40.117Z"
   },
   {
    "duration": 4973,
    "start_time": "2022-12-02T17:35:47.126Z"
   },
   {
    "duration": 4,
    "start_time": "2022-12-02T17:35:52.101Z"
   },
   {
    "duration": 1435,
    "start_time": "2022-12-02T17:35:52.108Z"
   },
   {
    "duration": 553,
    "start_time": "2022-12-02T17:35:53.545Z"
   },
   {
    "duration": 1693,
    "start_time": "2022-12-02T17:35:54.100Z"
   },
   {
    "duration": 89,
    "start_time": "2022-12-02T17:35:55.795Z"
   },
   {
    "duration": 391,
    "start_time": "2022-12-02T17:35:55.887Z"
   },
   {
    "duration": 3117,
    "start_time": "2022-12-02T17:35:56.280Z"
   },
   {
    "duration": 5910,
    "start_time": "2022-12-02T17:35:59.400Z"
   },
   {
    "duration": 3993,
    "start_time": "2022-12-02T17:36:05.312Z"
   },
   {
    "duration": 2386,
    "start_time": "2022-12-02T17:36:09.308Z"
   },
   {
    "duration": 2289,
    "start_time": "2022-12-02T17:36:11.696Z"
   },
   {
    "duration": 534,
    "start_time": "2022-12-02T17:36:13.987Z"
   },
   {
    "duration": 752,
    "start_time": "2022-12-03T08:42:54.567Z"
   },
   {
    "duration": 16963,
    "start_time": "2022-12-03T08:42:58.429Z"
   },
   {
    "duration": 11825,
    "start_time": "2022-12-03T08:43:15.436Z"
   },
   {
    "duration": 8680,
    "start_time": "2022-12-03T08:43:27.263Z"
   },
   {
    "duration": 81,
    "start_time": "2022-12-03T08:47:30.927Z"
   },
   {
    "duration": 8,
    "start_time": "2022-12-03T08:48:23.456Z"
   },
   {
    "duration": 7958,
    "start_time": "2022-12-03T08:48:40.203Z"
   },
   {
    "duration": 1581,
    "start_time": "2022-12-03T08:52:26.972Z"
   },
   {
    "duration": 4303,
    "start_time": "2022-12-03T08:52:57.156Z"
   },
   {
    "duration": 815,
    "start_time": "2022-12-03T08:59:09.785Z"
   },
   {
    "duration": 4385,
    "start_time": "2022-12-03T08:59:18.912Z"
   },
   {
    "duration": 677,
    "start_time": "2022-12-03T09:04:28.568Z"
   },
   {
    "duration": 3519,
    "start_time": "2022-12-03T09:04:34.078Z"
   },
   {
    "duration": 773,
    "start_time": "2022-12-04T07:28:20.810Z"
   },
   {
    "duration": 16192,
    "start_time": "2022-12-04T07:28:21.585Z"
   },
   {
    "duration": 13081,
    "start_time": "2022-12-04T07:28:37.781Z"
   },
   {
    "duration": 5606,
    "start_time": "2022-12-04T07:28:50.867Z"
   },
   {
    "duration": 7783,
    "start_time": "2022-12-04T07:28:56.476Z"
   },
   {
    "duration": 7191,
    "start_time": "2022-12-04T07:29:04.261Z"
   },
   {
    "duration": 11,
    "start_time": "2022-12-04T07:29:11.453Z"
   },
   {
    "duration": 1896,
    "start_time": "2022-12-04T07:29:11.466Z"
   },
   {
    "duration": 594,
    "start_time": "2022-12-04T07:29:13.364Z"
   },
   {
    "duration": 1907,
    "start_time": "2022-12-04T07:29:13.962Z"
   },
   {
    "duration": 106,
    "start_time": "2022-12-04T07:29:15.871Z"
   },
   {
    "duration": 469,
    "start_time": "2022-12-04T07:29:15.980Z"
   },
   {
    "duration": 3590,
    "start_time": "2022-12-04T07:29:16.451Z"
   },
   {
    "duration": 6,
    "start_time": "2022-12-04T07:30:52.619Z"
   },
   {
    "duration": 192,
    "start_time": "2022-12-04T08:01:53.329Z"
   },
   {
    "duration": 12,
    "start_time": "2022-12-04T08:02:12.482Z"
   },
   {
    "duration": 16,
    "start_time": "2022-12-04T08:02:19.652Z"
   },
   {
    "duration": 25879,
    "start_time": "2022-12-04T08:02:24.404Z"
   },
   {
    "duration": 1640,
    "start_time": "2022-12-04T08:05:33.407Z"
   },
   {
    "duration": 9,
    "start_time": "2022-12-05T05:31:58.040Z"
   },
   {
    "duration": 787,
    "start_time": "2022-12-05T05:40:04.747Z"
   },
   {
    "duration": 16300,
    "start_time": "2022-12-05T05:40:06.661Z"
   },
   {
    "duration": 12296,
    "start_time": "2022-12-05T05:40:22.964Z"
   },
   {
    "duration": 9067,
    "start_time": "2022-12-05T05:40:35.262Z"
   },
   {
    "duration": 7111,
    "start_time": "2022-12-05T05:40:44.336Z"
   },
   {
    "duration": 13,
    "start_time": "2022-12-05T05:40:51.451Z"
   },
   {
    "duration": 1968,
    "start_time": "2022-12-05T05:40:51.467Z"
   },
   {
    "duration": 586,
    "start_time": "2022-12-05T05:40:53.436Z"
   },
   {
    "duration": 1833,
    "start_time": "2022-12-05T05:40:54.024Z"
   },
   {
    "duration": 84,
    "start_time": "2022-12-05T05:40:55.858Z"
   },
   {
    "duration": 478,
    "start_time": "2022-12-05T05:40:55.943Z"
   },
   {
    "duration": 3896,
    "start_time": "2022-12-05T05:40:56.424Z"
   },
   {
    "duration": 13,
    "start_time": "2022-12-05T05:41:00.322Z"
   },
   {
    "duration": 40,
    "start_time": "2022-12-05T05:41:14.278Z"
   },
   {
    "duration": 113,
    "start_time": "2022-12-05T05:41:51.247Z"
   },
   {
    "duration": 1922,
    "start_time": "2022-12-05T05:42:07.532Z"
   },
   {
    "duration": 20020,
    "start_time": "2022-12-05T05:42:17.254Z"
   },
   {
    "duration": 7,
    "start_time": "2022-12-05T05:43:17.297Z"
   },
   {
    "duration": 14927,
    "start_time": "2022-12-05T05:43:20.303Z"
   },
   {
    "duration": 9,
    "start_time": "2022-12-05T10:53:54.490Z"
   },
   {
    "duration": 78,
    "start_time": "2022-12-05T10:53:59.410Z"
   },
   {
    "duration": 12,
    "start_time": "2022-12-05T10:54:08.243Z"
   },
   {
    "duration": 8,
    "start_time": "2022-12-05T10:54:53.283Z"
   },
   {
    "duration": 4,
    "start_time": "2022-12-05T10:55:10.410Z"
   },
   {
    "duration": 847,
    "start_time": "2022-12-05T11:08:08.287Z"
   },
   {
    "duration": 23751,
    "start_time": "2022-12-05T11:08:09.137Z"
   },
   {
    "duration": 13199,
    "start_time": "2022-12-05T11:08:32.890Z"
   },
   {
    "duration": 5493,
    "start_time": "2022-12-05T11:08:46.091Z"
   },
   {
    "duration": 7473,
    "start_time": "2022-12-05T11:08:51.586Z"
   },
   {
    "duration": 6405,
    "start_time": "2022-12-05T11:08:59.063Z"
   },
   {
    "duration": 2,
    "start_time": "2022-12-05T11:09:05.471Z"
   },
   {
    "duration": 1899,
    "start_time": "2022-12-05T11:09:05.475Z"
   },
   {
    "duration": 794,
    "start_time": "2022-12-05T11:09:07.377Z"
   },
   {
    "duration": 1953,
    "start_time": "2022-12-05T11:09:08.176Z"
   },
   {
    "duration": 30,
    "start_time": "2022-12-05T11:09:10.150Z"
   },
   {
    "duration": 481,
    "start_time": "2022-12-05T11:09:10.182Z"
   },
   {
    "duration": 127,
    "start_time": "2022-12-05T11:09:10.667Z"
   },
   {
    "duration": 3901,
    "start_time": "2022-12-05T11:09:22.177Z"
   },
   {
    "duration": 5,
    "start_time": "2022-12-05T11:09:30.020Z"
   },
   {
    "duration": 21681,
    "start_time": "2022-12-05T11:10:15.403Z"
   },
   {
    "duration": 10,
    "start_time": "2022-12-05T11:10:53.282Z"
   },
   {
    "duration": 5,
    "start_time": "2022-12-05T11:11:28.342Z"
   },
   {
    "duration": 7,
    "start_time": "2022-12-05T11:12:21.383Z"
   },
   {
    "duration": 16958,
    "start_time": "2022-12-05T11:12:23.331Z"
   },
   {
    "duration": 20,
    "start_time": "2022-12-05T11:13:16.126Z"
   },
   {
    "duration": 4627,
    "start_time": "2022-12-05T11:13:30.880Z"
   },
   {
    "duration": 1880,
    "start_time": "2022-12-05T11:13:50.616Z"
   },
   {
    "duration": 878,
    "start_time": "2022-12-05T11:17:36.500Z"
   },
   {
    "duration": 18779,
    "start_time": "2022-12-05T11:17:37.381Z"
   },
   {
    "duration": 15696,
    "start_time": "2022-12-05T11:17:56.164Z"
   },
   {
    "duration": 6492,
    "start_time": "2022-12-05T11:18:11.864Z"
   },
   {
    "duration": 9842,
    "start_time": "2022-12-05T11:18:18.364Z"
   },
   {
    "duration": 8882,
    "start_time": "2022-12-05T11:18:28.208Z"
   },
   {
    "duration": 3,
    "start_time": "2022-12-05T11:18:37.092Z"
   },
   {
    "duration": 2060,
    "start_time": "2022-12-05T11:18:37.097Z"
   },
   {
    "duration": 794,
    "start_time": "2022-12-05T11:18:39.158Z"
   },
   {
    "duration": 2476,
    "start_time": "2022-12-05T11:18:39.958Z"
   },
   {
    "duration": 48,
    "start_time": "2022-12-05T11:18:42.437Z"
   },
   {
    "duration": 580,
    "start_time": "2022-12-05T11:18:42.488Z"
   },
   {
    "duration": 4203,
    "start_time": "2022-12-05T11:18:43.069Z"
   },
   {
    "duration": 228,
    "start_time": "2022-12-05T11:18:47.274Z"
   },
   {
    "duration": 0,
    "start_time": "2022-12-05T11:18:47.504Z"
   },
   {
    "duration": 0,
    "start_time": "2022-12-05T11:18:47.505Z"
   },
   {
    "duration": 0,
    "start_time": "2022-12-05T11:18:47.506Z"
   },
   {
    "duration": 0,
    "start_time": "2022-12-05T11:18:47.507Z"
   },
   {
    "duration": 31,
    "start_time": "2022-12-05T11:19:24.136Z"
   },
   {
    "duration": 30448,
    "start_time": "2022-12-05T11:19:27.392Z"
   },
   {
    "duration": 20317,
    "start_time": "2022-12-05T11:19:57.842Z"
   },
   {
    "duration": 791,
    "start_time": "2022-12-05T11:26:17.509Z"
   },
   {
    "duration": 18184,
    "start_time": "2022-12-05T11:26:18.302Z"
   },
   {
    "duration": 13283,
    "start_time": "2022-12-05T11:26:36.488Z"
   },
   {
    "duration": 6323,
    "start_time": "2022-12-05T11:26:49.773Z"
   },
   {
    "duration": 8101,
    "start_time": "2022-12-05T11:26:56.154Z"
   },
   {
    "duration": 7624,
    "start_time": "2022-12-05T11:27:04.257Z"
   },
   {
    "duration": 4,
    "start_time": "2022-12-05T11:27:11.883Z"
   },
   {
    "duration": 1891,
    "start_time": "2022-12-05T11:27:11.889Z"
   },
   {
    "duration": 673,
    "start_time": "2022-12-05T11:27:13.781Z"
   },
   {
    "duration": 2321,
    "start_time": "2022-12-05T11:27:14.457Z"
   },
   {
    "duration": 102,
    "start_time": "2022-12-05T11:27:16.780Z"
   },
   {
    "duration": 776,
    "start_time": "2022-12-06T11:50:49.773Z"
   },
   {
    "duration": 16660,
    "start_time": "2022-12-06T11:50:52.268Z"
   },
   {
    "duration": 9719,
    "start_time": "2022-12-06T11:51:08.976Z"
   },
   {
    "duration": 7504,
    "start_time": "2022-12-06T11:51:18.696Z"
   },
   {
    "duration": 5992,
    "start_time": "2022-12-06T11:51:26.203Z"
   },
   {
    "duration": 3,
    "start_time": "2022-12-06T11:51:32.197Z"
   },
   {
    "duration": 1577,
    "start_time": "2022-12-06T11:51:40.414Z"
   },
   {
    "duration": 388,
    "start_time": "2022-12-06T11:51:51.054Z"
   },
   {
    "duration": 1470,
    "start_time": "2022-12-06T11:52:00.150Z"
   },
   {
    "duration": 52,
    "start_time": "2022-12-06T11:52:11.095Z"
   },
   {
    "duration": 21,
    "start_time": "2022-12-06T11:52:15.478Z"
   },
   {
    "duration": 24,
    "start_time": "2022-12-06T12:08:46.159Z"
   },
   {
    "duration": 6,
    "start_time": "2022-12-06T12:29:00.184Z"
   },
   {
    "duration": 19,
    "start_time": "2022-12-06T12:29:00.192Z"
   },
   {
    "duration": 1193,
    "start_time": "2022-12-06T12:29:00.213Z"
   },
   {
    "duration": 1971,
    "start_time": "2022-12-06T12:29:01.409Z"
   },
   {
    "duration": 3,
    "start_time": "2022-12-06T12:29:03.382Z"
   },
   {
    "duration": 3473,
    "start_time": "2022-12-06T12:29:03.386Z"
   },
   {
    "duration": 3730,
    "start_time": "2022-12-06T12:29:06.861Z"
   },
   {
    "duration": 3,
    "start_time": "2022-12-06T12:29:10.593Z"
   },
   {
    "duration": 560,
    "start_time": "2022-12-06T12:29:10.598Z"
   },
   {
    "duration": 164,
    "start_time": "2022-12-06T12:29:11.160Z"
   },
   {
    "duration": 556,
    "start_time": "2022-12-06T12:29:11.326Z"
   },
   {
    "duration": 21,
    "start_time": "2022-12-06T12:29:11.883Z"
   },
   {
    "duration": 379,
    "start_time": "2022-12-06T12:29:11.906Z"
   },
   {
    "duration": 2789,
    "start_time": "2022-12-06T12:29:12.287Z"
   },
   {
    "duration": 8,
    "start_time": "2022-12-06T12:29:15.078Z"
   },
   {
    "duration": 68,
    "start_time": "2022-12-06T12:29:15.088Z"
   },
   {
    "duration": 311,
    "start_time": "2022-12-06T12:29:15.157Z"
   },
   {
    "duration": 0,
    "start_time": "2022-12-06T12:29:15.470Z"
   },
   {
    "duration": 0,
    "start_time": "2022-12-06T12:29:15.471Z"
   },
   {
    "duration": 0,
    "start_time": "2022-12-06T12:29:15.478Z"
   },
   {
    "duration": 0,
    "start_time": "2022-12-06T12:29:15.480Z"
   },
   {
    "duration": 14,
    "start_time": "2022-12-06T12:33:23.028Z"
   },
   {
    "duration": 5,
    "start_time": "2022-12-06T12:34:01.058Z"
   },
   {
    "duration": 15080,
    "start_time": "2022-12-06T12:34:07.158Z"
   },
   {
    "duration": 10315,
    "start_time": "2022-12-06T12:36:20.576Z"
   },
   {
    "duration": 9759,
    "start_time": "2022-12-06T12:38:33.752Z"
   },
   {
    "duration": 11089,
    "start_time": "2022-12-06T12:38:57.840Z"
   },
   {
    "duration": 1529,
    "start_time": "2022-12-06T12:39:08.931Z"
   },
   {
    "duration": 1343,
    "start_time": "2022-12-06T12:39:10.477Z"
   },
   {
    "duration": 753,
    "start_time": "2022-12-06T12:51:10.769Z"
   },
   {
    "duration": 15597,
    "start_time": "2022-12-06T12:51:11.525Z"
   },
   {
    "duration": 9902,
    "start_time": "2022-12-06T12:51:27.124Z"
   },
   {
    "duration": 4565,
    "start_time": "2022-12-06T12:51:37.029Z"
   },
   {
    "duration": 4,
    "start_time": "2022-12-06T12:51:41.596Z"
   },
   {
    "duration": 6581,
    "start_time": "2022-12-06T12:51:41.601Z"
   },
   {
    "duration": 5992,
    "start_time": "2022-12-06T12:51:48.184Z"
   },
   {
    "duration": 3,
    "start_time": "2022-12-06T12:51:54.178Z"
   },
   {
    "duration": 1486,
    "start_time": "2022-12-06T12:51:54.183Z"
   },
   {
    "duration": 358,
    "start_time": "2022-12-06T12:51:55.677Z"
   },
   {
    "duration": 1543,
    "start_time": "2022-12-06T12:51:56.038Z"
   },
   {
    "duration": 97,
    "start_time": "2022-12-06T12:51:57.583Z"
   },
   {
    "duration": 497,
    "start_time": "2022-12-06T12:51:57.682Z"
   },
   {
    "duration": 3009,
    "start_time": "2022-12-06T12:51:58.181Z"
   },
   {
    "duration": 7,
    "start_time": "2022-12-06T12:52:01.193Z"
   },
   {
    "duration": 98,
    "start_time": "2022-12-06T12:52:01.202Z"
   },
   {
    "duration": 19004,
    "start_time": "2022-12-06T12:52:01.302Z"
   },
   {
    "duration": 13174,
    "start_time": "2022-12-06T12:52:20.308Z"
   },
   {
    "duration": 1564,
    "start_time": "2022-12-06T12:52:33.484Z"
   },
   {
    "duration": 1633,
    "start_time": "2022-12-06T12:52:35.050Z"
   },
   {
    "duration": 327,
    "start_time": "2022-12-06T12:52:36.685Z"
   },
   {
    "duration": 742,
    "start_time": "2022-12-06T12:58:08.264Z"
   },
   {
    "duration": 14816,
    "start_time": "2022-12-06T12:58:09.007Z"
   },
   {
    "duration": 9574,
    "start_time": "2022-12-06T12:58:23.825Z"
   },
   {
    "duration": 4694,
    "start_time": "2022-12-06T12:58:33.401Z"
   },
   {
    "duration": 3,
    "start_time": "2022-12-06T12:58:38.098Z"
   },
   {
    "duration": 6626,
    "start_time": "2022-12-06T12:58:38.103Z"
   },
   {
    "duration": 5964,
    "start_time": "2022-12-06T12:58:44.731Z"
   },
   {
    "duration": 4,
    "start_time": "2022-12-06T12:58:50.697Z"
   },
   {
    "duration": 1690,
    "start_time": "2022-12-06T12:58:50.703Z"
   },
   {
    "duration": 531,
    "start_time": "2022-12-06T12:58:52.395Z"
   },
   {
    "duration": 1752,
    "start_time": "2022-12-06T12:58:52.928Z"
   },
   {
    "duration": 307,
    "start_time": "2022-12-06T12:58:54.685Z"
   },
   {
    "duration": 482,
    "start_time": "2022-12-06T12:58:54.995Z"
   },
   {
    "duration": 3532,
    "start_time": "2022-12-06T12:58:55.480Z"
   },
   {
    "duration": 10,
    "start_time": "2022-12-06T12:58:59.077Z"
   },
   {
    "duration": 27,
    "start_time": "2022-12-06T12:58:59.089Z"
   },
   {
    "duration": 20495,
    "start_time": "2022-12-06T12:58:59.117Z"
   },
   {
    "duration": 13626,
    "start_time": "2022-12-06T12:59:19.675Z"
   },
   {
    "duration": 1727,
    "start_time": "2022-12-06T12:59:33.303Z"
   },
   {
    "duration": 1693,
    "start_time": "2022-12-06T12:59:35.032Z"
   },
   {
    "duration": 656,
    "start_time": "2022-12-06T12:59:36.727Z"
   },
   {
    "duration": 731,
    "start_time": "2022-12-06T13:01:38.291Z"
   },
   {
    "duration": 14614,
    "start_time": "2022-12-06T13:01:39.024Z"
   },
   {
    "duration": 9244,
    "start_time": "2022-12-06T13:01:53.640Z"
   },
   {
    "duration": 4008,
    "start_time": "2022-12-06T13:02:02.886Z"
   },
   {
    "duration": 5,
    "start_time": "2022-12-06T13:02:06.897Z"
   },
   {
    "duration": 6274,
    "start_time": "2022-12-06T13:02:06.904Z"
   },
   {
    "duration": 5971,
    "start_time": "2022-12-06T13:02:13.180Z"
   },
   {
    "duration": 3,
    "start_time": "2022-12-06T13:02:19.177Z"
   },
   {
    "duration": 1817,
    "start_time": "2022-12-06T13:02:19.182Z"
   },
   {
    "duration": 1481,
    "start_time": "2022-12-06T13:02:21.002Z"
   },
   {
    "duration": 321,
    "start_time": "2022-12-06T13:02:22.486Z"
   },
   {
    "duration": 318,
    "start_time": "2022-12-06T13:02:22.808Z"
   },
   {
    "duration": 3462,
    "start_time": "2022-12-06T13:02:23.128Z"
   },
   {
    "duration": 4,
    "start_time": "2022-12-06T13:02:26.592Z"
   },
   {
    "duration": 90,
    "start_time": "2022-12-06T13:02:26.597Z"
   },
   {
    "duration": 17357,
    "start_time": "2022-12-06T13:02:26.688Z"
   },
   {
    "duration": 12756,
    "start_time": "2022-12-06T13:02:44.047Z"
   },
   {
    "duration": 1555,
    "start_time": "2022-12-06T13:02:56.805Z"
   },
   {
    "duration": 1532,
    "start_time": "2022-12-06T13:02:58.362Z"
   },
   {
    "duration": 125,
    "start_time": "2022-12-06T13:02:59.896Z"
   },
   {
    "duration": 622,
    "start_time": "2022-12-06T13:07:07.597Z"
   },
   {
    "duration": 14801,
    "start_time": "2022-12-06T13:07:08.221Z"
   },
   {
    "duration": 9643,
    "start_time": "2022-12-06T13:07:23.078Z"
   },
   {
    "duration": 4071,
    "start_time": "2022-12-06T13:07:32.724Z"
   },
   {
    "duration": 3,
    "start_time": "2022-12-06T13:07:36.797Z"
   },
   {
    "duration": 6390,
    "start_time": "2022-12-06T13:07:36.804Z"
   },
   {
    "duration": 5896,
    "start_time": "2022-12-06T13:07:43.196Z"
   },
   {
    "duration": 3,
    "start_time": "2022-12-06T13:07:49.094Z"
   },
   {
    "duration": 1694,
    "start_time": "2022-12-06T13:07:49.099Z"
   },
   {
    "duration": 1492,
    "start_time": "2022-12-06T13:07:50.796Z"
   },
   {
    "duration": 318,
    "start_time": "2022-12-06T13:07:52.290Z"
   },
   {
    "duration": 472,
    "start_time": "2022-12-06T13:07:52.610Z"
   },
   {
    "duration": 3301,
    "start_time": "2022-12-06T13:07:53.084Z"
   },
   {
    "duration": 4,
    "start_time": "2022-12-06T13:07:56.387Z"
   },
   {
    "duration": 83,
    "start_time": "2022-12-06T13:07:56.393Z"
   },
   {
    "duration": 16530,
    "start_time": "2022-12-06T13:07:56.478Z"
   },
   {
    "duration": 12496,
    "start_time": "2022-12-06T13:08:13.009Z"
   },
   {
    "duration": 1702,
    "start_time": "2022-12-06T13:08:25.507Z"
   },
   {
    "duration": 1587,
    "start_time": "2022-12-06T13:08:27.211Z"
   },
   {
    "duration": 496,
    "start_time": "2022-12-06T13:08:28.800Z"
   }
  ],
  "colab": {
   "name": "PySparkSprint.ipynb",
   "provenance": []
  },
  "kernelspec": {
   "display_name": "Python 3 (ipykernel)",
   "language": "python",
   "name": "python3"
  },
  "language_info": {
   "codemirror_mode": {
    "name": "ipython",
    "version": 3
   },
   "file_extension": ".py",
   "mimetype": "text/x-python",
   "name": "python",
   "nbconvert_exporter": "python",
   "pygments_lexer": "ipython3",
   "version": "3.9.12"
  },
  "toc": {
   "base_numbering": 1,
   "nav_menu": {},
   "number_sections": true,
   "sideBar": true,
   "skip_h1_title": true,
   "title_cell": "Table of Contents",
   "title_sidebar": "Contents",
   "toc_cell": false,
   "toc_position": {},
   "toc_section_display": true,
   "toc_window_display": false
  }
 },
 "nbformat": 4,
 "nbformat_minor": 5
}
