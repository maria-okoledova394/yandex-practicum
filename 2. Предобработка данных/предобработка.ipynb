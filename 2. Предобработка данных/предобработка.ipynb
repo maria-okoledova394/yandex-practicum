{
 "cells": [
  {
   "cell_type": "markdown",
   "id": "c116956e",
   "metadata": {},
   "source": [
    "<div style=\"border:solid green 3px; padding: 20px\">\n",
    "\n",
    "<b>Привет!</b>\n",
    "\n",
    "Меня зовут Сороколетов Илья и я буду проверять твой проект. \n",
    "\n",
    "Предлагаю общаться на «**ты**», но если тебе будет комфортнее общаться на «**вы**», то сообщи об этом в комментариях)\n",
    "\n",
    "\n",
    "Для твоего удобства, я буду выделять свои комментарии следующим образом:\n",
    "\n",
    "<div class=\"alert alert-danger\">\n",
    "<b>❌ Комментарий ревьюера v1:</b> Самые важные замечания. Они указывают на ключевые моменты, которые влияют на конечный результат проекта. </div>\n",
    "\n",
    "<div class=\"alert alert-warning\">\n",
    "<b>⚠️ Комментарий ревьюера v1:</b> Советы или замечания, которые помогут сделать твою работу лучше, но необязательны к выполнению.\n",
    "\n",
    "</div>\n",
    "\n",
    "<div class=\"alert alert-success\">\n",
    "<b>✔️ Комментарий ревьюера v1:</b> Так я выделяю все остальные комментарии.</div>\n",
    "\n",
    "\n",
    "Пометками <b>v1-v2-v3-...</b> я буду отмечать версию проверки. Так ты сможешь быстро найти мои новые комментарии.\n",
    "\n",
    "Давай работать над проектом в диалоге: если ты что-то меняешь в проекте по моим рекомендациям — пиши об этом. Выбери для своих комментариев какой-то заметный цвет, так мне будет легче отследить изменения, например вот так:\n",
    "    \n",
    "<div class=\"alert alert-info\">\n",
    "<b>Комментарий студента:</b>\n",
    "<br>\n",
    "</div>\n",
    "\n",
    "<b>Пожалуйста, не перемещай, не изменяй и не удаляй мои комментарии.</b> Если ты оставляешь свои комментарии, то делай это под моими, чтобы сообщения были расположены в хронологическом порядке. Всё это поможет выполнить повторную проверку твоего проекта быстрее. \n",
    "\n",
    "\n",
    "Перед отправкой работы я рекомендую нажимать Kernel -> Restart & Run All. Это перезапустит ядро и по очереди выполнит все ячейки. Так ты сможешь проверить, что всё работает корректно. Кнопка Kernel находится в панели сверху\n",
    "\n",
    "Обязательно задавай вопросы если они возникнут, а я перехожу к проверке)\n",
    "\n",
    "P.S. На всякий случай, я оставлю пустой шаблон для твоих комментариев ниже. Кликни два раза на мой комментарий, скопируй последние четыре строчки кода и вставляй их в пустую ячейку там, где ты хочешь оставить комментарий. Не забудь только перед этим сменить тип ячейки на Markdown. Быстро это можно сделать так: кликнуть на ячейку - нажать ESC - нажать M. \n",
    "    \n",
    "    \n",
    "<div class=\"alert alert-info\">\n",
    "<b>Комментарий студента:</b>\n",
    "<br>Место для твоего комментария\n",
    "</div>"
   ]
  },
  {
   "cell_type": "markdown",
   "id": "c2e8e0b1",
   "metadata": {},
   "source": [
    "# Исследование надежности заемщиков."
   ]
  },
  {
   "cell_type": "markdown",
   "id": "3fa9c053",
   "metadata": {},
   "source": [
    "<div class=\"alert alert-warning\">\n",
    "<b>⚠️ Комментарий ревьюера v1:</b> \n",
    "<br>Лучше оставляй перед проектом краткое описание задачи. Это поможет тебе быстро вспомнить о чем проект, если спустя время ты решишь к нему вернуться)\n",
    "</div>"
   ]
  },
  {
   "cell_type": "markdown",
   "id": "a7e7913d",
   "metadata": {},
   "source": [
    "Заказчик — кредитный отдел банка. Нужно разобраться, влияет ли семейное положение, количество детей клиента, цель кредита и доход клиента на факт погашения кредита в срок. Входные данные от банка — статистика о платёжеспособности клиентов.\n",
    "\n",
    "Результаты исследования будут учтены при построении модели кредитного скоринга — специальной системы, которая оценивает способность потенциального заёмщика вернуть кредит банку."
   ]
  },
  {
   "cell_type": "markdown",
   "id": "0d96d7ba",
   "metadata": {},
   "source": [
    "### Шаг 1. Обзор данных"
   ]
  },
  {
   "cell_type": "markdown",
   "id": "c02d1b52",
   "metadata": {},
   "source": [
    "Прочитаем файл и выведем первые 10 строк таблицы:"
   ]
  },
  {
   "cell_type": "code",
   "execution_count": 16,
   "id": "ad192cff",
   "metadata": {},
   "outputs": [],
   "source": [
    "import pandas as pd"
   ]
  },
  {
   "cell_type": "code",
   "execution_count": 17,
   "id": "963699fb",
   "metadata": {},
   "outputs": [
    {
     "data": {
      "text/html": [
       "<div>\n",
       "<style scoped>\n",
       "    .dataframe tbody tr th:only-of-type {\n",
       "        vertical-align: middle;\n",
       "    }\n",
       "\n",
       "    .dataframe tbody tr th {\n",
       "        vertical-align: top;\n",
       "    }\n",
       "\n",
       "    .dataframe thead th {\n",
       "        text-align: right;\n",
       "    }\n",
       "</style>\n",
       "<table border=\"1\" class=\"dataframe\">\n",
       "  <thead>\n",
       "    <tr style=\"text-align: right;\">\n",
       "      <th></th>\n",
       "      <th>children</th>\n",
       "      <th>days_employed</th>\n",
       "      <th>dob_years</th>\n",
       "      <th>education</th>\n",
       "      <th>education_id</th>\n",
       "      <th>family_status</th>\n",
       "      <th>family_status_id</th>\n",
       "      <th>gender</th>\n",
       "      <th>income_type</th>\n",
       "      <th>debt</th>\n",
       "      <th>total_income</th>\n",
       "      <th>purpose</th>\n",
       "    </tr>\n",
       "  </thead>\n",
       "  <tbody>\n",
       "    <tr>\n",
       "      <th>0</th>\n",
       "      <td>1</td>\n",
       "      <td>-8437.673028</td>\n",
       "      <td>42</td>\n",
       "      <td>высшее</td>\n",
       "      <td>0</td>\n",
       "      <td>женат / замужем</td>\n",
       "      <td>0</td>\n",
       "      <td>F</td>\n",
       "      <td>сотрудник</td>\n",
       "      <td>0</td>\n",
       "      <td>253875.639453</td>\n",
       "      <td>покупка жилья</td>\n",
       "    </tr>\n",
       "    <tr>\n",
       "      <th>1</th>\n",
       "      <td>1</td>\n",
       "      <td>-4024.803754</td>\n",
       "      <td>36</td>\n",
       "      <td>среднее</td>\n",
       "      <td>1</td>\n",
       "      <td>женат / замужем</td>\n",
       "      <td>0</td>\n",
       "      <td>F</td>\n",
       "      <td>сотрудник</td>\n",
       "      <td>0</td>\n",
       "      <td>112080.014102</td>\n",
       "      <td>приобретение автомобиля</td>\n",
       "    </tr>\n",
       "    <tr>\n",
       "      <th>2</th>\n",
       "      <td>0</td>\n",
       "      <td>-5623.422610</td>\n",
       "      <td>33</td>\n",
       "      <td>Среднее</td>\n",
       "      <td>1</td>\n",
       "      <td>женат / замужем</td>\n",
       "      <td>0</td>\n",
       "      <td>M</td>\n",
       "      <td>сотрудник</td>\n",
       "      <td>0</td>\n",
       "      <td>145885.952297</td>\n",
       "      <td>покупка жилья</td>\n",
       "    </tr>\n",
       "    <tr>\n",
       "      <th>3</th>\n",
       "      <td>3</td>\n",
       "      <td>-4124.747207</td>\n",
       "      <td>32</td>\n",
       "      <td>среднее</td>\n",
       "      <td>1</td>\n",
       "      <td>женат / замужем</td>\n",
       "      <td>0</td>\n",
       "      <td>M</td>\n",
       "      <td>сотрудник</td>\n",
       "      <td>0</td>\n",
       "      <td>267628.550329</td>\n",
       "      <td>дополнительное образование</td>\n",
       "    </tr>\n",
       "    <tr>\n",
       "      <th>4</th>\n",
       "      <td>0</td>\n",
       "      <td>340266.072047</td>\n",
       "      <td>53</td>\n",
       "      <td>среднее</td>\n",
       "      <td>1</td>\n",
       "      <td>гражданский брак</td>\n",
       "      <td>1</td>\n",
       "      <td>F</td>\n",
       "      <td>пенсионер</td>\n",
       "      <td>0</td>\n",
       "      <td>158616.077870</td>\n",
       "      <td>сыграть свадьбу</td>\n",
       "    </tr>\n",
       "    <tr>\n",
       "      <th>5</th>\n",
       "      <td>0</td>\n",
       "      <td>-926.185831</td>\n",
       "      <td>27</td>\n",
       "      <td>высшее</td>\n",
       "      <td>0</td>\n",
       "      <td>гражданский брак</td>\n",
       "      <td>1</td>\n",
       "      <td>M</td>\n",
       "      <td>компаньон</td>\n",
       "      <td>0</td>\n",
       "      <td>255763.565419</td>\n",
       "      <td>покупка жилья</td>\n",
       "    </tr>\n",
       "    <tr>\n",
       "      <th>6</th>\n",
       "      <td>0</td>\n",
       "      <td>-2879.202052</td>\n",
       "      <td>43</td>\n",
       "      <td>высшее</td>\n",
       "      <td>0</td>\n",
       "      <td>женат / замужем</td>\n",
       "      <td>0</td>\n",
       "      <td>F</td>\n",
       "      <td>компаньон</td>\n",
       "      <td>0</td>\n",
       "      <td>240525.971920</td>\n",
       "      <td>операции с жильем</td>\n",
       "    </tr>\n",
       "    <tr>\n",
       "      <th>7</th>\n",
       "      <td>0</td>\n",
       "      <td>-152.779569</td>\n",
       "      <td>50</td>\n",
       "      <td>СРЕДНЕЕ</td>\n",
       "      <td>1</td>\n",
       "      <td>женат / замужем</td>\n",
       "      <td>0</td>\n",
       "      <td>M</td>\n",
       "      <td>сотрудник</td>\n",
       "      <td>0</td>\n",
       "      <td>135823.934197</td>\n",
       "      <td>образование</td>\n",
       "    </tr>\n",
       "    <tr>\n",
       "      <th>8</th>\n",
       "      <td>2</td>\n",
       "      <td>-6929.865299</td>\n",
       "      <td>35</td>\n",
       "      <td>ВЫСШЕЕ</td>\n",
       "      <td>0</td>\n",
       "      <td>гражданский брак</td>\n",
       "      <td>1</td>\n",
       "      <td>F</td>\n",
       "      <td>сотрудник</td>\n",
       "      <td>0</td>\n",
       "      <td>95856.832424</td>\n",
       "      <td>на проведение свадьбы</td>\n",
       "    </tr>\n",
       "    <tr>\n",
       "      <th>9</th>\n",
       "      <td>0</td>\n",
       "      <td>-2188.756445</td>\n",
       "      <td>41</td>\n",
       "      <td>среднее</td>\n",
       "      <td>1</td>\n",
       "      <td>женат / замужем</td>\n",
       "      <td>0</td>\n",
       "      <td>M</td>\n",
       "      <td>сотрудник</td>\n",
       "      <td>0</td>\n",
       "      <td>144425.938277</td>\n",
       "      <td>покупка жилья для семьи</td>\n",
       "    </tr>\n",
       "  </tbody>\n",
       "</table>\n",
       "</div>"
      ],
      "text/plain": [
       "   children  days_employed  dob_years education  education_id  \\\n",
       "0         1   -8437.673028         42    высшее             0   \n",
       "1         1   -4024.803754         36   среднее             1   \n",
       "2         0   -5623.422610         33   Среднее             1   \n",
       "3         3   -4124.747207         32   среднее             1   \n",
       "4         0  340266.072047         53   среднее             1   \n",
       "5         0    -926.185831         27    высшее             0   \n",
       "6         0   -2879.202052         43    высшее             0   \n",
       "7         0    -152.779569         50   СРЕДНЕЕ             1   \n",
       "8         2   -6929.865299         35    ВЫСШЕЕ             0   \n",
       "9         0   -2188.756445         41   среднее             1   \n",
       "\n",
       "      family_status  family_status_id gender income_type  debt   total_income  \\\n",
       "0   женат / замужем                 0      F   сотрудник     0  253875.639453   \n",
       "1   женат / замужем                 0      F   сотрудник     0  112080.014102   \n",
       "2   женат / замужем                 0      M   сотрудник     0  145885.952297   \n",
       "3   женат / замужем                 0      M   сотрудник     0  267628.550329   \n",
       "4  гражданский брак                 1      F   пенсионер     0  158616.077870   \n",
       "5  гражданский брак                 1      M   компаньон     0  255763.565419   \n",
       "6   женат / замужем                 0      F   компаньон     0  240525.971920   \n",
       "7   женат / замужем                 0      M   сотрудник     0  135823.934197   \n",
       "8  гражданский брак                 1      F   сотрудник     0   95856.832424   \n",
       "9   женат / замужем                 0      M   сотрудник     0  144425.938277   \n",
       "\n",
       "                      purpose  \n",
       "0               покупка жилья  \n",
       "1     приобретение автомобиля  \n",
       "2               покупка жилья  \n",
       "3  дополнительное образование  \n",
       "4             сыграть свадьбу  \n",
       "5               покупка жилья  \n",
       "6           операции с жильем  \n",
       "7                 образование  \n",
       "8       на проведение свадьбы  \n",
       "9     покупка жилья для семьи  "
      ]
     },
     "execution_count": 17,
     "metadata": {},
     "output_type": "execute_result"
    }
   ],
   "source": [
    "df = pd.read_csv('/datasets/data.csv')\n",
    "\n",
    "df.head(10)"
   ]
  },
  {
   "cell_type": "markdown",
   "id": "9aca1344",
   "metadata": {},
   "source": [
    "<div class=\"alert alert-warning\">\n",
    "<b>⚠️ Комментарий ревьюера v1:</b> \n",
    "<br>Все библиотеки лучше импортировать отдельно в первой ячейке. Это позволит тебе в любой момент добавить ещё одну библиотеку без перезаписи переменных.\n",
    "</div>"
   ]
  },
  {
   "cell_type": "markdown",
   "id": "0fbeb80f",
   "metadata": {},
   "source": [
    "Найдем пропуски в данных."
   ]
  },
  {
   "cell_type": "code",
   "execution_count": 18,
   "id": "2661b164",
   "metadata": {},
   "outputs": [
    {
     "data": {
      "text/plain": [
       "children            0.0\n",
       "days_employed       0.1\n",
       "dob_years           0.0\n",
       "education           0.0\n",
       "education_id        0.0\n",
       "family_status       0.0\n",
       "family_status_id    0.0\n",
       "gender              0.0\n",
       "income_type         0.0\n",
       "debt                0.0\n",
       "total_income        0.1\n",
       "purpose             0.0\n",
       "dtype: float64"
      ]
     },
     "execution_count": 18,
     "metadata": {},
     "output_type": "execute_result"
    }
   ],
   "source": [
    "round(df.isna().mean(), 2)"
   ]
  },
  {
   "cell_type": "markdown",
   "id": "dda0e17e",
   "metadata": {},
   "source": [
    "<div class=\"alert alert-warning\">\n",
    "<b>⚠️ Комментарий ревьюера v1:</b> \n",
    "<br>Расчет не совсем верный, так как ты делишь количество заполненных значений, на количество пропусков, а нужно делить на общее количетсво значений. В этом может помочь следующая связка\n",
    "    \n",
    "    df.isna().mean()\n",
    "</div>"
   ]
  },
  {
   "cell_type": "markdown",
   "id": "fd88cfd6",
   "metadata": {},
   "source": [
    "Пропущены значения в столбцах:\n",
    "\n",
    "* `days_employed` — общий трудовой стаж в днях\n",
    "* `total_income` — ежемесячный доход \n",
    "\n",
    "Количество пропущенных значений одинаковое для столбцов.\n",
    "Процент пропусков - 10%. Удаление такой большой доли значений может повлиять на результат. Поэтому надо разобраться в причинах и выбрать способ заполнения пропусков. \n",
    "\n",
    "Проверим, что пропущенные значения связаны друг с другом:"
   ]
  },
  {
   "cell_type": "code",
   "execution_count": 19,
   "id": "a87ae690",
   "metadata": {},
   "outputs": [
    {
     "data": {
      "text/html": [
       "<div>\n",
       "<style scoped>\n",
       "    .dataframe tbody tr th:only-of-type {\n",
       "        vertical-align: middle;\n",
       "    }\n",
       "\n",
       "    .dataframe tbody tr th {\n",
       "        vertical-align: top;\n",
       "    }\n",
       "\n",
       "    .dataframe thead th {\n",
       "        text-align: right;\n",
       "    }\n",
       "</style>\n",
       "<table border=\"1\" class=\"dataframe\">\n",
       "  <thead>\n",
       "    <tr style=\"text-align: right;\">\n",
       "      <th></th>\n",
       "      <th>children</th>\n",
       "      <th>days_employed</th>\n",
       "      <th>dob_years</th>\n",
       "      <th>education</th>\n",
       "      <th>education_id</th>\n",
       "      <th>family_status</th>\n",
       "      <th>family_status_id</th>\n",
       "      <th>gender</th>\n",
       "      <th>income_type</th>\n",
       "      <th>debt</th>\n",
       "      <th>total_income</th>\n",
       "      <th>purpose</th>\n",
       "    </tr>\n",
       "  </thead>\n",
       "  <tbody>\n",
       "    <tr>\n",
       "      <th>12</th>\n",
       "      <td>0</td>\n",
       "      <td>NaN</td>\n",
       "      <td>65</td>\n",
       "      <td>среднее</td>\n",
       "      <td>1</td>\n",
       "      <td>гражданский брак</td>\n",
       "      <td>1</td>\n",
       "      <td>M</td>\n",
       "      <td>пенсионер</td>\n",
       "      <td>0</td>\n",
       "      <td>NaN</td>\n",
       "      <td>сыграть свадьбу</td>\n",
       "    </tr>\n",
       "    <tr>\n",
       "      <th>26</th>\n",
       "      <td>0</td>\n",
       "      <td>NaN</td>\n",
       "      <td>41</td>\n",
       "      <td>среднее</td>\n",
       "      <td>1</td>\n",
       "      <td>женат / замужем</td>\n",
       "      <td>0</td>\n",
       "      <td>M</td>\n",
       "      <td>госслужащий</td>\n",
       "      <td>0</td>\n",
       "      <td>NaN</td>\n",
       "      <td>образование</td>\n",
       "    </tr>\n",
       "    <tr>\n",
       "      <th>29</th>\n",
       "      <td>0</td>\n",
       "      <td>NaN</td>\n",
       "      <td>63</td>\n",
       "      <td>среднее</td>\n",
       "      <td>1</td>\n",
       "      <td>Не женат / не замужем</td>\n",
       "      <td>4</td>\n",
       "      <td>F</td>\n",
       "      <td>пенсионер</td>\n",
       "      <td>0</td>\n",
       "      <td>NaN</td>\n",
       "      <td>строительство жилой недвижимости</td>\n",
       "    </tr>\n",
       "    <tr>\n",
       "      <th>41</th>\n",
       "      <td>0</td>\n",
       "      <td>NaN</td>\n",
       "      <td>50</td>\n",
       "      <td>среднее</td>\n",
       "      <td>1</td>\n",
       "      <td>женат / замужем</td>\n",
       "      <td>0</td>\n",
       "      <td>F</td>\n",
       "      <td>госслужащий</td>\n",
       "      <td>0</td>\n",
       "      <td>NaN</td>\n",
       "      <td>сделка с подержанным автомобилем</td>\n",
       "    </tr>\n",
       "    <tr>\n",
       "      <th>55</th>\n",
       "      <td>0</td>\n",
       "      <td>NaN</td>\n",
       "      <td>54</td>\n",
       "      <td>среднее</td>\n",
       "      <td>1</td>\n",
       "      <td>гражданский брак</td>\n",
       "      <td>1</td>\n",
       "      <td>F</td>\n",
       "      <td>пенсионер</td>\n",
       "      <td>1</td>\n",
       "      <td>NaN</td>\n",
       "      <td>сыграть свадьбу</td>\n",
       "    </tr>\n",
       "    <tr>\n",
       "      <th>...</th>\n",
       "      <td>...</td>\n",
       "      <td>...</td>\n",
       "      <td>...</td>\n",
       "      <td>...</td>\n",
       "      <td>...</td>\n",
       "      <td>...</td>\n",
       "      <td>...</td>\n",
       "      <td>...</td>\n",
       "      <td>...</td>\n",
       "      <td>...</td>\n",
       "      <td>...</td>\n",
       "      <td>...</td>\n",
       "    </tr>\n",
       "    <tr>\n",
       "      <th>21489</th>\n",
       "      <td>2</td>\n",
       "      <td>NaN</td>\n",
       "      <td>47</td>\n",
       "      <td>Среднее</td>\n",
       "      <td>1</td>\n",
       "      <td>женат / замужем</td>\n",
       "      <td>0</td>\n",
       "      <td>M</td>\n",
       "      <td>компаньон</td>\n",
       "      <td>0</td>\n",
       "      <td>NaN</td>\n",
       "      <td>сделка с автомобилем</td>\n",
       "    </tr>\n",
       "    <tr>\n",
       "      <th>21495</th>\n",
       "      <td>1</td>\n",
       "      <td>NaN</td>\n",
       "      <td>50</td>\n",
       "      <td>среднее</td>\n",
       "      <td>1</td>\n",
       "      <td>гражданский брак</td>\n",
       "      <td>1</td>\n",
       "      <td>F</td>\n",
       "      <td>сотрудник</td>\n",
       "      <td>0</td>\n",
       "      <td>NaN</td>\n",
       "      <td>свадьба</td>\n",
       "    </tr>\n",
       "    <tr>\n",
       "      <th>21497</th>\n",
       "      <td>0</td>\n",
       "      <td>NaN</td>\n",
       "      <td>48</td>\n",
       "      <td>ВЫСШЕЕ</td>\n",
       "      <td>0</td>\n",
       "      <td>женат / замужем</td>\n",
       "      <td>0</td>\n",
       "      <td>F</td>\n",
       "      <td>компаньон</td>\n",
       "      <td>0</td>\n",
       "      <td>NaN</td>\n",
       "      <td>строительство недвижимости</td>\n",
       "    </tr>\n",
       "    <tr>\n",
       "      <th>21502</th>\n",
       "      <td>1</td>\n",
       "      <td>NaN</td>\n",
       "      <td>42</td>\n",
       "      <td>среднее</td>\n",
       "      <td>1</td>\n",
       "      <td>женат / замужем</td>\n",
       "      <td>0</td>\n",
       "      <td>F</td>\n",
       "      <td>сотрудник</td>\n",
       "      <td>0</td>\n",
       "      <td>NaN</td>\n",
       "      <td>строительство жилой недвижимости</td>\n",
       "    </tr>\n",
       "    <tr>\n",
       "      <th>21510</th>\n",
       "      <td>2</td>\n",
       "      <td>NaN</td>\n",
       "      <td>28</td>\n",
       "      <td>среднее</td>\n",
       "      <td>1</td>\n",
       "      <td>женат / замужем</td>\n",
       "      <td>0</td>\n",
       "      <td>F</td>\n",
       "      <td>сотрудник</td>\n",
       "      <td>0</td>\n",
       "      <td>NaN</td>\n",
       "      <td>приобретение автомобиля</td>\n",
       "    </tr>\n",
       "  </tbody>\n",
       "</table>\n",
       "<p>2174 rows × 12 columns</p>\n",
       "</div>"
      ],
      "text/plain": [
       "       children  days_employed  dob_years education  education_id  \\\n",
       "12            0            NaN         65   среднее             1   \n",
       "26            0            NaN         41   среднее             1   \n",
       "29            0            NaN         63   среднее             1   \n",
       "41            0            NaN         50   среднее             1   \n",
       "55            0            NaN         54   среднее             1   \n",
       "...         ...            ...        ...       ...           ...   \n",
       "21489         2            NaN         47   Среднее             1   \n",
       "21495         1            NaN         50   среднее             1   \n",
       "21497         0            NaN         48    ВЫСШЕЕ             0   \n",
       "21502         1            NaN         42   среднее             1   \n",
       "21510         2            NaN         28   среднее             1   \n",
       "\n",
       "               family_status  family_status_id gender  income_type  debt  \\\n",
       "12          гражданский брак                 1      M    пенсионер     0   \n",
       "26           женат / замужем                 0      M  госслужащий     0   \n",
       "29     Не женат / не замужем                 4      F    пенсионер     0   \n",
       "41           женат / замужем                 0      F  госслужащий     0   \n",
       "55          гражданский брак                 1      F    пенсионер     1   \n",
       "...                      ...               ...    ...          ...   ...   \n",
       "21489        женат / замужем                 0      M    компаньон     0   \n",
       "21495       гражданский брак                 1      F    сотрудник     0   \n",
       "21497        женат / замужем                 0      F    компаньон     0   \n",
       "21502        женат / замужем                 0      F    сотрудник     0   \n",
       "21510        женат / замужем                 0      F    сотрудник     0   \n",
       "\n",
       "       total_income                           purpose  \n",
       "12              NaN                   сыграть свадьбу  \n",
       "26              NaN                       образование  \n",
       "29              NaN  строительство жилой недвижимости  \n",
       "41              NaN  сделка с подержанным автомобилем  \n",
       "55              NaN                   сыграть свадьбу  \n",
       "...             ...                               ...  \n",
       "21489           NaN              сделка с автомобилем  \n",
       "21495           NaN                           свадьба  \n",
       "21497           NaN        строительство недвижимости  \n",
       "21502           NaN  строительство жилой недвижимости  \n",
       "21510           NaN           приобретение автомобиля  \n",
       "\n",
       "[2174 rows x 12 columns]"
      ]
     },
     "execution_count": 19,
     "metadata": {},
     "output_type": "execute_result"
    }
   ],
   "source": [
    "df[(df['total_income'].isna() == True) & (df['days_employed'].isna() == True)]"
   ]
  },
  {
   "cell_type": "markdown",
   "id": "af247f8b",
   "metadata": {},
   "source": [
    "Верно, пропущенные значения встречаются в парах. Вероятно, это полностью случайные пропуски - несмотря на связь друг с другом, они не зависят от значений других столбцов или характера вопроса. Причина может быть в том, что эти данные просто не внесли в таблицу.\n",
    "\n",
    "Пропуски в количественных переменных заполняются характерными значениями. Это среднее арифметическое или медиана. Отдельные значения трудового стажа и дохода могут сильно отклоняться от большинства и смещать среднее арифметическое в сторону отклонения, тогда как медиана остается неизменной. \n",
    "\n",
    "Поэтому для заполнения пропусков будем использовать медиану."
   ]
  },
  {
   "cell_type": "markdown",
   "id": "8022fdc0",
   "metadata": {},
   "source": [
    "<div class=\"alert alert-success\">\n",
    "<b>✔️ Комментарий ревьюера v1:</b> \n",
    "<br>Отлично!\n",
    "<br>Во время первичного анализа данных, может помочь метод describe(). Он покажет разброс значений, максимум, минимум, среднее и медиану. \n",
    "</div>"
   ]
  },
  {
   "cell_type": "markdown",
   "id": "a9481f27",
   "metadata": {},
   "source": [
    "### Шаг 2.1 Заполнение пропусков"
   ]
  },
  {
   "cell_type": "markdown",
   "id": "88073f4e",
   "metadata": {},
   "source": [
    "Прежде чем заполнить пропуски, проверим, что в столбце нет отрицательных значений."
   ]
  },
  {
   "cell_type": "code",
   "execution_count": 20,
   "id": "e424f536",
   "metadata": {},
   "outputs": [
    {
     "data": {
      "text/html": [
       "<div>\n",
       "<style scoped>\n",
       "    .dataframe tbody tr th:only-of-type {\n",
       "        vertical-align: middle;\n",
       "    }\n",
       "\n",
       "    .dataframe tbody tr th {\n",
       "        vertical-align: top;\n",
       "    }\n",
       "\n",
       "    .dataframe thead th {\n",
       "        text-align: right;\n",
       "    }\n",
       "</style>\n",
       "<table border=\"1\" class=\"dataframe\">\n",
       "  <thead>\n",
       "    <tr style=\"text-align: right;\">\n",
       "      <th></th>\n",
       "      <th>children</th>\n",
       "      <th>days_employed</th>\n",
       "      <th>dob_years</th>\n",
       "      <th>education</th>\n",
       "      <th>education_id</th>\n",
       "      <th>family_status</th>\n",
       "      <th>family_status_id</th>\n",
       "      <th>gender</th>\n",
       "      <th>income_type</th>\n",
       "      <th>debt</th>\n",
       "      <th>total_income</th>\n",
       "      <th>purpose</th>\n",
       "    </tr>\n",
       "  </thead>\n",
       "  <tbody>\n",
       "  </tbody>\n",
       "</table>\n",
       "</div>"
      ],
      "text/plain": [
       "Empty DataFrame\n",
       "Columns: [children, days_employed, dob_years, education, education_id, family_status, family_status_id, gender, income_type, debt, total_income, purpose]\n",
       "Index: []"
      ]
     },
     "execution_count": 20,
     "metadata": {},
     "output_type": "execute_result"
    }
   ],
   "source": [
    "df[df['total_income'] < 0]"
   ]
  },
  {
   "cell_type": "markdown",
   "id": "496d6a87",
   "metadata": {},
   "source": [
    "Заменим пропуски в столбце `total_income` медианой:"
   ]
  },
  {
   "cell_type": "code",
   "execution_count": 21,
   "id": "1bd153f0",
   "metadata": {},
   "outputs": [
    {
     "data": {
      "text/html": [
       "<div>\n",
       "<style scoped>\n",
       "    .dataframe tbody tr th:only-of-type {\n",
       "        vertical-align: middle;\n",
       "    }\n",
       "\n",
       "    .dataframe tbody tr th {\n",
       "        vertical-align: top;\n",
       "    }\n",
       "\n",
       "    .dataframe thead th {\n",
       "        text-align: right;\n",
       "    }\n",
       "</style>\n",
       "<table border=\"1\" class=\"dataframe\">\n",
       "  <thead>\n",
       "    <tr style=\"text-align: right;\">\n",
       "      <th></th>\n",
       "      <th>children</th>\n",
       "      <th>days_employed</th>\n",
       "      <th>dob_years</th>\n",
       "      <th>education</th>\n",
       "      <th>education_id</th>\n",
       "      <th>family_status</th>\n",
       "      <th>family_status_id</th>\n",
       "      <th>gender</th>\n",
       "      <th>income_type</th>\n",
       "      <th>debt</th>\n",
       "      <th>total_income</th>\n",
       "      <th>purpose</th>\n",
       "    </tr>\n",
       "  </thead>\n",
       "  <tbody>\n",
       "  </tbody>\n",
       "</table>\n",
       "</div>"
      ],
      "text/plain": [
       "Empty DataFrame\n",
       "Columns: [children, days_employed, dob_years, education, education_id, family_status, family_status_id, gender, income_type, debt, total_income, purpose]\n",
       "Index: []"
      ]
     },
     "metadata": {},
     "output_type": "display_data"
    }
   ],
   "source": [
    "#заполнение пропусков в столбце total_income медианой\n",
    "df['total_income'] = df['total_income'].fillna(df['total_income'].median())\n",
    "\n",
    "#проверим, что пропусков в total_income не осталось\n",
    "display(df[(df['total_income'].isna() == True)])"
   ]
  },
  {
   "cell_type": "markdown",
   "id": "d65fcf55",
   "metadata": {},
   "source": [
    "<div class=\"alert alert-success\">\n",
    "<b>✔️ Комментарий ревьюера v1:</b> \n",
    "<br>Всё верно! Также здесь можно заполнить пропуски более оптимальным способом - медианой, в зависимости от типа занятости. Для этого отлично подойдёт функция transform:\n",
    "\n",
    "    df['total_income'] = df['total_income'].fillna(df.groupby('income_type')['total_income'].transform(\"median\"))\n",
    "\n",
    "<br>Она создаёт новый столбец, который содержит столько же строк, сколько и изначальный, но только вместо оригинальных значений в каждой строке содержится медиана посчитанная по заданной группе. После этого вместо пропусков в оригинальном столбце мы подставляем значения из созданного столбца, то есть медианы в зависимости от группы.\n",
    "</div>"
   ]
  },
  {
   "cell_type": "markdown",
   "id": "dafd9e02",
   "metadata": {},
   "source": [
    "### Шаг 2.2 Проверка данных на аномалии и исправления."
   ]
  },
  {
   "cell_type": "code",
   "execution_count": 22,
   "id": "1b665389",
   "metadata": {},
   "outputs": [
    {
     "name": "stdout",
     "output_type": "stream",
     "text": [
      "<class 'pandas.core.frame.DataFrame'>\n",
      "RangeIndex: 21525 entries, 0 to 21524\n",
      "Data columns (total 12 columns):\n",
      " #   Column            Non-Null Count  Dtype  \n",
      "---  ------            --------------  -----  \n",
      " 0   children          21525 non-null  int64  \n",
      " 1   days_employed     19351 non-null  float64\n",
      " 2   dob_years         21525 non-null  int64  \n",
      " 3   education         21525 non-null  object \n",
      " 4   education_id      21525 non-null  int64  \n",
      " 5   family_status     21525 non-null  object \n",
      " 6   family_status_id  21525 non-null  int64  \n",
      " 7   gender            21525 non-null  object \n",
      " 8   income_type       21525 non-null  object \n",
      " 9   debt              21525 non-null  int64  \n",
      " 10  total_income      21525 non-null  float64\n",
      " 11  purpose           21525 non-null  object \n",
      "dtypes: float64(2), int64(5), object(5)\n",
      "memory usage: 2.0+ MB\n"
     ]
    }
   ],
   "source": [
    "df.info()"
   ]
  },
  {
   "cell_type": "code",
   "execution_count": 23,
   "id": "2123e9ad",
   "metadata": {},
   "outputs": [
    {
     "data": {
      "text/plain": [
       " 0     14149\n",
       " 1      4818\n",
       " 2      2055\n",
       " 3       330\n",
       " 20       76\n",
       "-1        47\n",
       " 4        41\n",
       " 5         9\n",
       "Name: children, dtype: int64"
      ]
     },
     "execution_count": 23,
     "metadata": {},
     "output_type": "execute_result"
    }
   ],
   "source": [
    "df['children'].value_counts()"
   ]
  },
  {
   "cell_type": "markdown",
   "id": "b4f910d7",
   "metadata": {},
   "source": [
    "В таблице 76 строк с количеством детей 20. И нет данных про 6-19 детей. Вероятно, это опечатка и вместо 20 должно быть 2. Аналогично заменим -1 на 1."
   ]
  },
  {
   "cell_type": "code",
   "execution_count": 24,
   "id": "582edb3a",
   "metadata": {},
   "outputs": [
    {
     "data": {
      "text/plain": [
       "0    14149\n",
       "1     4865\n",
       "2     2131\n",
       "3      330\n",
       "4       41\n",
       "5        9\n",
       "Name: children, dtype: int64"
      ]
     },
     "execution_count": 24,
     "metadata": {},
     "output_type": "execute_result"
    }
   ],
   "source": [
    "df.loc[df['children'] == 20, 'children'] = 2\n",
    "df.loc[df['children'] == -1, 'children'] = 1\n",
    "\n",
    "#проверим, что 20 и -1 детей нет\n",
    "df['children'].value_counts()"
   ]
  },
  {
   "cell_type": "markdown",
   "id": "fb12f8ed",
   "metadata": {},
   "source": [
    "<div class=\"alert alert-success\">\n",
    "<b>✔️ Комментарий ревьюера v1:</b>\n",
    "<br>Отличное решение!\n",
    "</div>"
   ]
  },
  {
   "cell_type": "code",
   "execution_count": 25,
   "id": "5738cdbd",
   "metadata": {},
   "outputs": [
    {
     "data": {
      "text/plain": [
       "-327.685916     1\n",
       "-1580.622577    1\n",
       "-4122.460569    1\n",
       "-2828.237691    1\n",
       "-2636.090517    1\n",
       "               ..\n",
       "-7120.517564    1\n",
       "-2146.884040    1\n",
       "-881.454684     1\n",
       "-794.666350     1\n",
       "-3382.113891    1\n",
       "Name: days_employed, Length: 19351, dtype: int64"
      ]
     },
     "execution_count": 25,
     "metadata": {},
     "output_type": "execute_result"
    }
   ],
   "source": [
    "df['days_employed'].value_counts()"
   ]
  },
  {
   "cell_type": "markdown",
   "id": "fbcc6b6f",
   "metadata": {},
   "source": [
    "Еще одна аномалия - отрицательные значения в `days_employed`. Нужно исправить и сделать все значения положительными."
   ]
  },
  {
   "cell_type": "code",
   "execution_count": 26,
   "id": "624661db",
   "metadata": {},
   "outputs": [
    {
     "data": {
      "text/html": [
       "<div>\n",
       "<style scoped>\n",
       "    .dataframe tbody tr th:only-of-type {\n",
       "        vertical-align: middle;\n",
       "    }\n",
       "\n",
       "    .dataframe tbody tr th {\n",
       "        vertical-align: top;\n",
       "    }\n",
       "\n",
       "    .dataframe thead th {\n",
       "        text-align: right;\n",
       "    }\n",
       "</style>\n",
       "<table border=\"1\" class=\"dataframe\">\n",
       "  <thead>\n",
       "    <tr style=\"text-align: right;\">\n",
       "      <th></th>\n",
       "      <th>children</th>\n",
       "      <th>days_employed</th>\n",
       "      <th>dob_years</th>\n",
       "      <th>education</th>\n",
       "      <th>education_id</th>\n",
       "      <th>family_status</th>\n",
       "      <th>family_status_id</th>\n",
       "      <th>gender</th>\n",
       "      <th>income_type</th>\n",
       "      <th>debt</th>\n",
       "      <th>total_income</th>\n",
       "      <th>purpose</th>\n",
       "    </tr>\n",
       "  </thead>\n",
       "  <tbody>\n",
       "  </tbody>\n",
       "</table>\n",
       "</div>"
      ],
      "text/plain": [
       "Empty DataFrame\n",
       "Columns: [children, days_employed, dob_years, education, education_id, family_status, family_status_id, gender, income_type, debt, total_income, purpose]\n",
       "Index: []"
      ]
     },
     "metadata": {},
     "output_type": "display_data"
    }
   ],
   "source": [
    "df['days_employed'] = abs(df['days_employed'])\n",
    "\n",
    "#проверим, что отрицательных значений больше нет\n",
    "display(df[df['days_employed'] < 0])"
   ]
  },
  {
   "cell_type": "markdown",
   "id": "a38a9ee6",
   "metadata": {},
   "source": [
    "Теперь мы можем посчитать медианное значение и заполнить пропуски в `days_employed`."
   ]
  },
  {
   "cell_type": "code",
   "execution_count": 27,
   "id": "776b9926",
   "metadata": {},
   "outputs": [
    {
     "data": {
      "text/html": [
       "<div>\n",
       "<style scoped>\n",
       "    .dataframe tbody tr th:only-of-type {\n",
       "        vertical-align: middle;\n",
       "    }\n",
       "\n",
       "    .dataframe tbody tr th {\n",
       "        vertical-align: top;\n",
       "    }\n",
       "\n",
       "    .dataframe thead th {\n",
       "        text-align: right;\n",
       "    }\n",
       "</style>\n",
       "<table border=\"1\" class=\"dataframe\">\n",
       "  <thead>\n",
       "    <tr style=\"text-align: right;\">\n",
       "      <th></th>\n",
       "      <th>children</th>\n",
       "      <th>days_employed</th>\n",
       "      <th>dob_years</th>\n",
       "      <th>education</th>\n",
       "      <th>education_id</th>\n",
       "      <th>family_status</th>\n",
       "      <th>family_status_id</th>\n",
       "      <th>gender</th>\n",
       "      <th>income_type</th>\n",
       "      <th>debt</th>\n",
       "      <th>total_income</th>\n",
       "      <th>purpose</th>\n",
       "    </tr>\n",
       "  </thead>\n",
       "  <tbody>\n",
       "  </tbody>\n",
       "</table>\n",
       "</div>"
      ],
      "text/plain": [
       "Empty DataFrame\n",
       "Columns: [children, days_employed, dob_years, education, education_id, family_status, family_status_id, gender, income_type, debt, total_income, purpose]\n",
       "Index: []"
      ]
     },
     "metadata": {},
     "output_type": "display_data"
    }
   ],
   "source": [
    "df['days_employed'] = df['days_employed'].fillna(df['days_employed'].median())\n",
    "\n",
    "#проверим, что в days_employed не осталось пропусков\n",
    "display(df[(df['days_employed'].isna() == True)])"
   ]
  },
  {
   "cell_type": "markdown",
   "id": "0cddeb25",
   "metadata": {},
   "source": [
    "<div class=\"alert alert-success\">\n",
    "<b>✔️ Комментарий ревьюера v1:</b> \n",
    "<br>Супер) Лучший способ - заменить пропуски в столбце days_employed через медианы с группировкой по возрасту или типу занятости"
   ]
  },
  {
   "cell_type": "markdown",
   "id": "7075c812",
   "metadata": {},
   "source": [
    "Проверим оставшиеся столбцы, в которых могут быть аномалии."
   ]
  },
  {
   "cell_type": "code",
   "execution_count": 28,
   "id": "f46a001c",
   "metadata": {},
   "outputs": [
    {
     "data": {
      "text/html": [
       "<div>\n",
       "<style scoped>\n",
       "    .dataframe tbody tr th:only-of-type {\n",
       "        vertical-align: middle;\n",
       "    }\n",
       "\n",
       "    .dataframe tbody tr th {\n",
       "        vertical-align: top;\n",
       "    }\n",
       "\n",
       "    .dataframe thead th {\n",
       "        text-align: right;\n",
       "    }\n",
       "</style>\n",
       "<table border=\"1\" class=\"dataframe\">\n",
       "  <thead>\n",
       "    <tr style=\"text-align: right;\">\n",
       "      <th></th>\n",
       "      <th>children</th>\n",
       "      <th>days_employed</th>\n",
       "      <th>dob_years</th>\n",
       "      <th>education</th>\n",
       "      <th>education_id</th>\n",
       "      <th>family_status</th>\n",
       "      <th>family_status_id</th>\n",
       "      <th>gender</th>\n",
       "      <th>income_type</th>\n",
       "      <th>debt</th>\n",
       "      <th>total_income</th>\n",
       "      <th>purpose</th>\n",
       "    </tr>\n",
       "  </thead>\n",
       "  <tbody>\n",
       "  </tbody>\n",
       "</table>\n",
       "</div>"
      ],
      "text/plain": [
       "Empty DataFrame\n",
       "Columns: [children, days_employed, dob_years, education, education_id, family_status, family_status_id, gender, income_type, debt, total_income, purpose]\n",
       "Index: []"
      ]
     },
     "metadata": {},
     "output_type": "display_data"
    },
    {
     "data": {
      "text/plain": [
       "0    19784\n",
       "1     1741\n",
       "Name: debt, dtype: int64"
      ]
     },
     "metadata": {},
     "output_type": "display_data"
    }
   ],
   "source": [
    "display(df[df['dob_years'] < 0])\n",
    "display(df['debt'].value_counts())"
   ]
  },
  {
   "cell_type": "markdown",
   "id": "e4578304",
   "metadata": {},
   "source": [
    "Больше аномалий нет. Столбцы с текстовыми значениями рассмотрим дальше."
   ]
  },
  {
   "cell_type": "markdown",
   "id": "667d1a8c",
   "metadata": {},
   "source": [
    "### Шаг 2.3. Изменение типов данных."
   ]
  },
  {
   "cell_type": "markdown",
   "id": "02787cc9",
   "metadata": {},
   "source": [
    "Изменим тип данных в столбце `total_income` с вещественного на целочисленный для простоты восприятия."
   ]
  },
  {
   "cell_type": "code",
   "execution_count": 29,
   "id": "38a5e3dd",
   "metadata": {},
   "outputs": [
    {
     "name": "stdout",
     "output_type": "stream",
     "text": [
      "<class 'pandas.core.frame.DataFrame'>\n",
      "RangeIndex: 21525 entries, 0 to 21524\n",
      "Data columns (total 12 columns):\n",
      " #   Column            Non-Null Count  Dtype  \n",
      "---  ------            --------------  -----  \n",
      " 0   children          21525 non-null  int64  \n",
      " 1   days_employed     21525 non-null  float64\n",
      " 2   dob_years         21525 non-null  int64  \n",
      " 3   education         21525 non-null  object \n",
      " 4   education_id      21525 non-null  int64  \n",
      " 5   family_status     21525 non-null  object \n",
      " 6   family_status_id  21525 non-null  int64  \n",
      " 7   gender            21525 non-null  object \n",
      " 8   income_type       21525 non-null  object \n",
      " 9   debt              21525 non-null  int64  \n",
      " 10  total_income      21525 non-null  int64  \n",
      " 11  purpose           21525 non-null  object \n",
      "dtypes: float64(1), int64(6), object(5)\n",
      "memory usage: 2.0+ MB\n"
     ]
    }
   ],
   "source": [
    "df['total_income'] = df['total_income'].astype('int')\n",
    "\n",
    "#проверим тип данных столбца\n",
    "df.info()"
   ]
  },
  {
   "cell_type": "markdown",
   "id": "3126d0fe",
   "metadata": {},
   "source": [
    "Получилось, тип данных `total_income` теперь int64."
   ]
  },
  {
   "cell_type": "markdown",
   "id": "a308f61d",
   "metadata": {},
   "source": [
    "<div class=\"alert alert-success\">\n",
    "<b>✔️ Комментарий ревьюера v1:</b> \n",
    "<br>Тут всё верно!\n",
    "</div>"
   ]
  },
  {
   "cell_type": "markdown",
   "id": "27b10c39",
   "metadata": {},
   "source": [
    "### Шаг 2.4. Удаление дубликатов."
   ]
  },
  {
   "cell_type": "markdown",
   "id": "39cf461f",
   "metadata": {},
   "source": [
    "Для выявления количества явных дубликатов используем метод `duplicated()` в сочетании с методом `sum()`."
   ]
  },
  {
   "cell_type": "code",
   "execution_count": 30,
   "id": "1dbde6e7",
   "metadata": {},
   "outputs": [
    {
     "data": {
      "text/plain": [
       "54"
      ]
     },
     "execution_count": 30,
     "metadata": {},
     "output_type": "execute_result"
    }
   ],
   "source": [
    "df.duplicated().sum()"
   ]
  },
  {
   "cell_type": "markdown",
   "id": "f9060655",
   "metadata": {},
   "source": [
    "Для исследования нужны уникальные строки, поэтому дубликаты удалим методом `drop_duplicates()`."
   ]
  },
  {
   "cell_type": "code",
   "execution_count": 31,
   "id": "9fe0ef80",
   "metadata": {},
   "outputs": [
    {
     "data": {
      "text/plain": [
       "0"
      ]
     },
     "execution_count": 31,
     "metadata": {},
     "output_type": "execute_result"
    }
   ],
   "source": [
    "df = df.drop_duplicates().reset_index(drop=True)\n",
    "\n",
    "# проверка на отсутствие дубликатов\n",
    "df.duplicated().sum()"
   ]
  },
  {
   "cell_type": "markdown",
   "id": "6fa1f059",
   "metadata": {},
   "source": [
    "Теперь избавимся от неявных дубликатов. Найдем их с помощью метода `unique()`. В выведенном массиве легко найти одинаковые по смыслу значения, написанные по-разному."
   ]
  },
  {
   "cell_type": "code",
   "execution_count": 32,
   "id": "63743646",
   "metadata": {},
   "outputs": [
    {
     "data": {
      "text/plain": [
       "array(['высшее', 'среднее', 'Среднее', 'СРЕДНЕЕ', 'ВЫСШЕЕ',\n",
       "       'неоконченное высшее', 'начальное', 'Высшее',\n",
       "       'НЕОКОНЧЕННОЕ ВЫСШЕЕ', 'Неоконченное высшее', 'НАЧАЛЬНОЕ',\n",
       "       'Начальное', 'Ученая степень', 'УЧЕНАЯ СТЕПЕНЬ', 'ученая степень'],\n",
       "      dtype=object)"
      ]
     },
     "execution_count": 32,
     "metadata": {},
     "output_type": "execute_result"
    }
   ],
   "source": [
    "df['education'].unique()"
   ]
  },
  {
   "cell_type": "markdown",
   "id": "3b55d3fd",
   "metadata": {},
   "source": [
    "Для устранения неявных дубликатов приведем все значения к нижнему регистру:"
   ]
  },
  {
   "cell_type": "code",
   "execution_count": 33,
   "id": "15b4f157",
   "metadata": {},
   "outputs": [
    {
     "data": {
      "text/plain": [
       "array(['высшее', 'среднее', 'неоконченное высшее', 'начальное',\n",
       "       'ученая степень'], dtype=object)"
      ]
     },
     "execution_count": 33,
     "metadata": {},
     "output_type": "execute_result"
    }
   ],
   "source": [
    "df['education'] = df['education'].str.lower()\n",
    "\n",
    "#проверим, что избавились от неявных дубликатов\n",
    "df['education'].unique()"
   ]
  },
  {
   "cell_type": "markdown",
   "id": "d0a38096",
   "metadata": {},
   "source": [
    "<div class=\"alert alert-danger\">\n",
    "<b>❌ Комментарий ревьюера v1:</b> \n",
    "<br>Ты получаешь правильный результат, но неоптимальным способом. Можно привести все значения в столбце к нижнему регистру используя str.lower(). Поправь, пожалуйста, чтобы избежать дублирования кода\n",
    "</div>"
   ]
  },
  {
   "cell_type": "markdown",
   "id": "a1003dce",
   "metadata": {},
   "source": [
    "<div class=\"alert alert-success\">\n",
    "<b>✔️ Комментарий ревьюера v2:</b>\n",
    "<br>Отлично! Теперь всё верно)\n",
    "</div>"
   ]
  },
  {
   "cell_type": "markdown",
   "id": "b2049a3c",
   "metadata": {},
   "source": [
    "Проверим на неявные дубликаты остальные столбцы."
   ]
  },
  {
   "cell_type": "code",
   "execution_count": 34,
   "id": "9ac1fea3",
   "metadata": {},
   "outputs": [
    {
     "data": {
      "text/plain": [
       "array(['Не женат / не замужем', 'в разводе', 'вдовец / вдова',\n",
       "       'гражданский брак', 'женат / замужем'], dtype=object)"
      ]
     },
     "metadata": {},
     "output_type": "display_data"
    },
    {
     "data": {
      "text/plain": [
       "array(['F', 'M', 'XNA'], dtype=object)"
      ]
     },
     "metadata": {},
     "output_type": "display_data"
    },
    {
     "data": {
      "text/plain": [
       "array(['безработный', 'в декрете', 'госслужащий', 'компаньон',\n",
       "       'пенсионер', 'предприниматель', 'сотрудник', 'студент'],\n",
       "      dtype=object)"
      ]
     },
     "metadata": {},
     "output_type": "display_data"
    },
    {
     "data": {
      "text/plain": [
       "array(['автомобили', 'автомобиль', 'высшее образование',\n",
       "       'дополнительное образование', 'жилье',\n",
       "       'заняться высшим образованием', 'заняться образованием',\n",
       "       'на покупку автомобиля', 'на покупку подержанного автомобиля',\n",
       "       'на покупку своего автомобиля', 'на проведение свадьбы',\n",
       "       'недвижимость', 'образование', 'операции с жильем',\n",
       "       'операции с коммерческой недвижимостью',\n",
       "       'операции с недвижимостью', 'операции со своей недвижимостью',\n",
       "       'покупка жилой недвижимости', 'покупка жилья',\n",
       "       'покупка жилья для сдачи', 'покупка жилья для семьи',\n",
       "       'покупка коммерческой недвижимости', 'покупка недвижимости',\n",
       "       'покупка своего жилья', 'получение высшего образования',\n",
       "       'получение дополнительного образования', 'получение образования',\n",
       "       'приобретение автомобиля', 'профильное образование',\n",
       "       'ремонт жилью', 'свадьба', 'свой автомобиль',\n",
       "       'сделка с автомобилем', 'сделка с подержанным автомобилем',\n",
       "       'строительство жилой недвижимости', 'строительство недвижимости',\n",
       "       'строительство собственной недвижимости', 'сыграть свадьбу'],\n",
       "      dtype=object)"
      ]
     },
     "metadata": {},
     "output_type": "display_data"
    }
   ],
   "source": [
    "display(df['family_status'].sort_values().unique())\n",
    "display(df['gender'].sort_values().unique())\n",
    "display(df['income_type'].sort_values().unique())\n",
    "display(df['purpose'].sort_values().unique())"
   ]
  },
  {
   "cell_type": "markdown",
   "id": "5281f47e",
   "metadata": {},
   "source": [
    "В `family_status` нет неявных дубликатов, но приведем данные к одному регистру."
   ]
  },
  {
   "cell_type": "code",
   "execution_count": 35,
   "id": "310d1208",
   "metadata": {},
   "outputs": [
    {
     "data": {
      "text/plain": [
       "array(['в разводе', 'вдовец / вдова', 'гражданский брак',\n",
       "       'женат / замужем', 'не женат / не замужем'], dtype=object)"
      ]
     },
     "execution_count": 35,
     "metadata": {},
     "output_type": "execute_result"
    }
   ],
   "source": [
    "df['family_status'] = df['family_status'].str.lower()\n",
    "\n",
    "#проверим, что все значения в нижнем регистре\n",
    "df['family_status'].sort_values().unique()"
   ]
  },
  {
   "cell_type": "markdown",
   "id": "0552da57",
   "metadata": {},
   "source": [
    "Причинами появления дубликатов могут быть ошибки при загрузке данных, человеческий фактор. Например, с клиентом работали несколько сотрудников банка, и каждый ввел данные клиента в систему. "
   ]
  },
  {
   "cell_type": "markdown",
   "id": "b38a5877",
   "metadata": {},
   "source": [
    "<div class=\"alert alert-success\">\n",
    "<b>✔️ Комментарий ревьюера v1:</b> \n",
    "<br>Супер! От дубликатов тоже избавились\n",
    "</div>"
   ]
  },
  {
   "cell_type": "markdown",
   "id": "dbf8d28e",
   "metadata": {},
   "source": [
    "### Шаг 2.5. Формирование дополнительных датафреймов словарей, декомпозиция исходного датафрейма."
   ]
  },
  {
   "cell_type": "markdown",
   "id": "e9f96b64",
   "metadata": {},
   "source": [
    "Вынесем значения `education` и `family_status` в отдельные датафреймы, чтобы упростить работу с данными."
   ]
  },
  {
   "cell_type": "code",
   "execution_count": 36,
   "id": "7fc37c83",
   "metadata": {},
   "outputs": [
    {
     "data": {
      "text/html": [
       "<div>\n",
       "<style scoped>\n",
       "    .dataframe tbody tr th:only-of-type {\n",
       "        vertical-align: middle;\n",
       "    }\n",
       "\n",
       "    .dataframe tbody tr th {\n",
       "        vertical-align: top;\n",
       "    }\n",
       "\n",
       "    .dataframe thead th {\n",
       "        text-align: right;\n",
       "    }\n",
       "</style>\n",
       "<table border=\"1\" class=\"dataframe\">\n",
       "  <thead>\n",
       "    <tr style=\"text-align: right;\">\n",
       "      <th></th>\n",
       "      <th>education_id</th>\n",
       "      <th>education</th>\n",
       "    </tr>\n",
       "  </thead>\n",
       "  <tbody>\n",
       "    <tr>\n",
       "      <th>0</th>\n",
       "      <td>0</td>\n",
       "      <td>высшее</td>\n",
       "    </tr>\n",
       "    <tr>\n",
       "      <th>1</th>\n",
       "      <td>1</td>\n",
       "      <td>среднее</td>\n",
       "    </tr>\n",
       "    <tr>\n",
       "      <th>2</th>\n",
       "      <td>2</td>\n",
       "      <td>неоконченное высшее</td>\n",
       "    </tr>\n",
       "    <tr>\n",
       "      <th>3</th>\n",
       "      <td>3</td>\n",
       "      <td>начальное</td>\n",
       "    </tr>\n",
       "    <tr>\n",
       "      <th>4</th>\n",
       "      <td>4</td>\n",
       "      <td>ученая степень</td>\n",
       "    </tr>\n",
       "  </tbody>\n",
       "</table>\n",
       "</div>"
      ],
      "text/plain": [
       "   education_id            education\n",
       "0             0               высшее\n",
       "1             1              среднее\n",
       "2             2  неоконченное высшее\n",
       "3             3            начальное\n",
       "4             4       ученая степень"
      ]
     },
     "metadata": {},
     "output_type": "display_data"
    }
   ],
   "source": [
    "education = pd.DataFrame(data = df[['education_id', 'education']], columns = ['education_id', 'education'])\n",
    "education = education.drop_duplicates().reset_index(drop = True).sort_values(by = 'education_id')\n",
    "\n",
    "display(education)"
   ]
  },
  {
   "cell_type": "code",
   "execution_count": 37,
   "id": "ea066a5e",
   "metadata": {},
   "outputs": [
    {
     "data": {
      "text/html": [
       "<div>\n",
       "<style scoped>\n",
       "    .dataframe tbody tr th:only-of-type {\n",
       "        vertical-align: middle;\n",
       "    }\n",
       "\n",
       "    .dataframe tbody tr th {\n",
       "        vertical-align: top;\n",
       "    }\n",
       "\n",
       "    .dataframe thead th {\n",
       "        text-align: right;\n",
       "    }\n",
       "</style>\n",
       "<table border=\"1\" class=\"dataframe\">\n",
       "  <thead>\n",
       "    <tr style=\"text-align: right;\">\n",
       "      <th></th>\n",
       "      <th>family_status_id</th>\n",
       "      <th>family_status</th>\n",
       "    </tr>\n",
       "  </thead>\n",
       "  <tbody>\n",
       "    <tr>\n",
       "      <th>0</th>\n",
       "      <td>0</td>\n",
       "      <td>женат / замужем</td>\n",
       "    </tr>\n",
       "    <tr>\n",
       "      <th>1</th>\n",
       "      <td>1</td>\n",
       "      <td>гражданский брак</td>\n",
       "    </tr>\n",
       "    <tr>\n",
       "      <th>2</th>\n",
       "      <td>2</td>\n",
       "      <td>вдовец / вдова</td>\n",
       "    </tr>\n",
       "    <tr>\n",
       "      <th>3</th>\n",
       "      <td>3</td>\n",
       "      <td>в разводе</td>\n",
       "    </tr>\n",
       "    <tr>\n",
       "      <th>4</th>\n",
       "      <td>4</td>\n",
       "      <td>не женат / не замужем</td>\n",
       "    </tr>\n",
       "  </tbody>\n",
       "</table>\n",
       "</div>"
      ],
      "text/plain": [
       "   family_status_id          family_status\n",
       "0                 0        женат / замужем\n",
       "1                 1       гражданский брак\n",
       "2                 2         вдовец / вдова\n",
       "3                 3              в разводе\n",
       "4                 4  не женат / не замужем"
      ]
     },
     "metadata": {},
     "output_type": "display_data"
    }
   ],
   "source": [
    "family_status = pd.DataFrame(data = df[['family_status_id', 'family_status']], columns = ['family_status_id', 'family_status'])\n",
    "family_status = family_status.drop_duplicates().reset_index(drop = True).sort_values(by = 'family_status_id')\n",
    "\n",
    "display(family_status)"
   ]
  },
  {
   "cell_type": "markdown",
   "id": "4b701206",
   "metadata": {},
   "source": [
    "Удалим эти столбцы из исходного датафрейма."
   ]
  },
  {
   "cell_type": "code",
   "execution_count": 38,
   "id": "08453453",
   "metadata": {},
   "outputs": [
    {
     "data": {
      "text/html": [
       "<div>\n",
       "<style scoped>\n",
       "    .dataframe tbody tr th:only-of-type {\n",
       "        vertical-align: middle;\n",
       "    }\n",
       "\n",
       "    .dataframe tbody tr th {\n",
       "        vertical-align: top;\n",
       "    }\n",
       "\n",
       "    .dataframe thead th {\n",
       "        text-align: right;\n",
       "    }\n",
       "</style>\n",
       "<table border=\"1\" class=\"dataframe\">\n",
       "  <thead>\n",
       "    <tr style=\"text-align: right;\">\n",
       "      <th></th>\n",
       "      <th>children</th>\n",
       "      <th>days_employed</th>\n",
       "      <th>dob_years</th>\n",
       "      <th>education_id</th>\n",
       "      <th>family_status_id</th>\n",
       "      <th>gender</th>\n",
       "      <th>income_type</th>\n",
       "      <th>debt</th>\n",
       "      <th>total_income</th>\n",
       "      <th>purpose</th>\n",
       "    </tr>\n",
       "  </thead>\n",
       "  <tbody>\n",
       "    <tr>\n",
       "      <th>0</th>\n",
       "      <td>1</td>\n",
       "      <td>8437.673028</td>\n",
       "      <td>42</td>\n",
       "      <td>0</td>\n",
       "      <td>0</td>\n",
       "      <td>F</td>\n",
       "      <td>сотрудник</td>\n",
       "      <td>0</td>\n",
       "      <td>253875</td>\n",
       "      <td>покупка жилья</td>\n",
       "    </tr>\n",
       "    <tr>\n",
       "      <th>1</th>\n",
       "      <td>1</td>\n",
       "      <td>4024.803754</td>\n",
       "      <td>36</td>\n",
       "      <td>1</td>\n",
       "      <td>0</td>\n",
       "      <td>F</td>\n",
       "      <td>сотрудник</td>\n",
       "      <td>0</td>\n",
       "      <td>112080</td>\n",
       "      <td>приобретение автомобиля</td>\n",
       "    </tr>\n",
       "    <tr>\n",
       "      <th>2</th>\n",
       "      <td>0</td>\n",
       "      <td>5623.422610</td>\n",
       "      <td>33</td>\n",
       "      <td>1</td>\n",
       "      <td>0</td>\n",
       "      <td>M</td>\n",
       "      <td>сотрудник</td>\n",
       "      <td>0</td>\n",
       "      <td>145885</td>\n",
       "      <td>покупка жилья</td>\n",
       "    </tr>\n",
       "    <tr>\n",
       "      <th>3</th>\n",
       "      <td>3</td>\n",
       "      <td>4124.747207</td>\n",
       "      <td>32</td>\n",
       "      <td>1</td>\n",
       "      <td>0</td>\n",
       "      <td>M</td>\n",
       "      <td>сотрудник</td>\n",
       "      <td>0</td>\n",
       "      <td>267628</td>\n",
       "      <td>дополнительное образование</td>\n",
       "    </tr>\n",
       "    <tr>\n",
       "      <th>4</th>\n",
       "      <td>0</td>\n",
       "      <td>340266.072047</td>\n",
       "      <td>53</td>\n",
       "      <td>1</td>\n",
       "      <td>1</td>\n",
       "      <td>F</td>\n",
       "      <td>пенсионер</td>\n",
       "      <td>0</td>\n",
       "      <td>158616</td>\n",
       "      <td>сыграть свадьбу</td>\n",
       "    </tr>\n",
       "  </tbody>\n",
       "</table>\n",
       "</div>"
      ],
      "text/plain": [
       "   children  days_employed  dob_years  education_id  family_status_id gender  \\\n",
       "0         1    8437.673028         42             0                 0      F   \n",
       "1         1    4024.803754         36             1                 0      F   \n",
       "2         0    5623.422610         33             1                 0      M   \n",
       "3         3    4124.747207         32             1                 0      M   \n",
       "4         0  340266.072047         53             1                 1      F   \n",
       "\n",
       "  income_type  debt  total_income                     purpose  \n",
       "0   сотрудник     0        253875               покупка жилья  \n",
       "1   сотрудник     0        112080     приобретение автомобиля  \n",
       "2   сотрудник     0        145885               покупка жилья  \n",
       "3   сотрудник     0        267628  дополнительное образование  \n",
       "4   пенсионер     0        158616             сыграть свадьбу  "
      ]
     },
     "metadata": {},
     "output_type": "display_data"
    }
   ],
   "source": [
    "df = df.drop(columns = ['education', 'family_status'], axis = 1)\n",
    "\n",
    "#проверим, что удаленных столбцов нет\n",
    "display(df.head())"
   ]
  },
  {
   "cell_type": "markdown",
   "id": "2b846b88",
   "metadata": {},
   "source": [
    "<div class=\"alert alert-success\">\n",
    "<b>✔️ Комментарий ревьюера v1:</b> \n",
    "<br>Тут всё правильно 👌\n",
    "</div>"
   ]
  },
  {
   "cell_type": "markdown",
   "id": "f80030da",
   "metadata": {},
   "source": [
    "### Шаг 2.6. Категоризация дохода."
   ]
  },
  {
   "cell_type": "markdown",
   "id": "e2f37c45",
   "metadata": {},
   "source": [
    "Вариантов значений дохода очень много, при этом знать точный доход не обязательно. Достаточно определить несколько диапазонов дохода. Создадим столбец `total_income_category` с категориями дохода."
   ]
  },
  {
   "cell_type": "code",
   "execution_count": 39,
   "id": "c2b4c939",
   "metadata": {},
   "outputs": [
    {
     "data": {
      "text/html": [
       "<div>\n",
       "<style scoped>\n",
       "    .dataframe tbody tr th:only-of-type {\n",
       "        vertical-align: middle;\n",
       "    }\n",
       "\n",
       "    .dataframe tbody tr th {\n",
       "        vertical-align: top;\n",
       "    }\n",
       "\n",
       "    .dataframe thead th {\n",
       "        text-align: right;\n",
       "    }\n",
       "</style>\n",
       "<table border=\"1\" class=\"dataframe\">\n",
       "  <thead>\n",
       "    <tr style=\"text-align: right;\">\n",
       "      <th></th>\n",
       "      <th>children</th>\n",
       "      <th>days_employed</th>\n",
       "      <th>dob_years</th>\n",
       "      <th>education_id</th>\n",
       "      <th>family_status_id</th>\n",
       "      <th>gender</th>\n",
       "      <th>income_type</th>\n",
       "      <th>debt</th>\n",
       "      <th>total_income</th>\n",
       "      <th>purpose</th>\n",
       "      <th>total_income_category</th>\n",
       "    </tr>\n",
       "  </thead>\n",
       "  <tbody>\n",
       "    <tr>\n",
       "      <th>0</th>\n",
       "      <td>1</td>\n",
       "      <td>8437.673028</td>\n",
       "      <td>42</td>\n",
       "      <td>0</td>\n",
       "      <td>0</td>\n",
       "      <td>F</td>\n",
       "      <td>сотрудник</td>\n",
       "      <td>0</td>\n",
       "      <td>253875</td>\n",
       "      <td>покупка жилья</td>\n",
       "      <td>B</td>\n",
       "    </tr>\n",
       "    <tr>\n",
       "      <th>1</th>\n",
       "      <td>1</td>\n",
       "      <td>4024.803754</td>\n",
       "      <td>36</td>\n",
       "      <td>1</td>\n",
       "      <td>0</td>\n",
       "      <td>F</td>\n",
       "      <td>сотрудник</td>\n",
       "      <td>0</td>\n",
       "      <td>112080</td>\n",
       "      <td>приобретение автомобиля</td>\n",
       "      <td>C</td>\n",
       "    </tr>\n",
       "    <tr>\n",
       "      <th>2</th>\n",
       "      <td>0</td>\n",
       "      <td>5623.422610</td>\n",
       "      <td>33</td>\n",
       "      <td>1</td>\n",
       "      <td>0</td>\n",
       "      <td>M</td>\n",
       "      <td>сотрудник</td>\n",
       "      <td>0</td>\n",
       "      <td>145885</td>\n",
       "      <td>покупка жилья</td>\n",
       "      <td>C</td>\n",
       "    </tr>\n",
       "    <tr>\n",
       "      <th>3</th>\n",
       "      <td>3</td>\n",
       "      <td>4124.747207</td>\n",
       "      <td>32</td>\n",
       "      <td>1</td>\n",
       "      <td>0</td>\n",
       "      <td>M</td>\n",
       "      <td>сотрудник</td>\n",
       "      <td>0</td>\n",
       "      <td>267628</td>\n",
       "      <td>дополнительное образование</td>\n",
       "      <td>B</td>\n",
       "    </tr>\n",
       "    <tr>\n",
       "      <th>4</th>\n",
       "      <td>0</td>\n",
       "      <td>340266.072047</td>\n",
       "      <td>53</td>\n",
       "      <td>1</td>\n",
       "      <td>1</td>\n",
       "      <td>F</td>\n",
       "      <td>пенсионер</td>\n",
       "      <td>0</td>\n",
       "      <td>158616</td>\n",
       "      <td>сыграть свадьбу</td>\n",
       "      <td>C</td>\n",
       "    </tr>\n",
       "  </tbody>\n",
       "</table>\n",
       "</div>"
      ],
      "text/plain": [
       "   children  days_employed  dob_years  education_id  family_status_id gender  \\\n",
       "0         1    8437.673028         42             0                 0      F   \n",
       "1         1    4024.803754         36             1                 0      F   \n",
       "2         0    5623.422610         33             1                 0      M   \n",
       "3         3    4124.747207         32             1                 0      M   \n",
       "4         0  340266.072047         53             1                 1      F   \n",
       "\n",
       "  income_type  debt  total_income                     purpose  \\\n",
       "0   сотрудник     0        253875               покупка жилья   \n",
       "1   сотрудник     0        112080     приобретение автомобиля   \n",
       "2   сотрудник     0        145885               покупка жилья   \n",
       "3   сотрудник     0        267628  дополнительное образование   \n",
       "4   пенсионер     0        158616             сыграть свадьбу   \n",
       "\n",
       "  total_income_category  \n",
       "0                     B  \n",
       "1                     C  \n",
       "2                     C  \n",
       "3                     B  \n",
       "4                     C  "
      ]
     },
     "metadata": {},
     "output_type": "display_data"
    }
   ],
   "source": [
    "#функция, возвращающая категорию в зависимости от дохода\n",
    "def total_income_group(income):\n",
    "    if income < 30000:\n",
    "        return 'E'\n",
    "    elif income < 50000:\n",
    "        return 'D'\n",
    "    elif income < 200000:\n",
    "        return 'C'\n",
    "    elif income < 1000000:\n",
    "        return 'B'\n",
    "    else:\n",
    "        return 'A'\n",
    "    \n",
    "#применим функцию к столбцу total_income и сохраним выводы в total_income_category\n",
    "df['total_income_category'] = df['total_income'].apply(total_income_group)\n",
    "\n",
    "display(df.head())"
   ]
  },
  {
   "cell_type": "markdown",
   "id": "f44ec645",
   "metadata": {},
   "source": [
    "<div class=\"alert alert-success\">\n",
    "<b>✔️ Комментарий ревьюера v1:</b> \n",
    "<br>Категоризация клиентов по уровню дохода произведена верно\n",
    "</div>"
   ]
  },
  {
   "cell_type": "markdown",
   "id": "6d955dee",
   "metadata": {},
   "source": [
    "### Шаг 2.7. Категоризация целей кредита."
   ]
  },
  {
   "cell_type": "markdown",
   "id": "5e82f120",
   "metadata": {},
   "source": [
    "Столбцец `purpose_category` содержит слишком много уникальных значений разной длины. С ними визуально сложно работать и делать выводы на их основе. Но их можно разделить на малое количество категорий, с которыми можно работать. Создадим столбец `purpose_category` с категориям целей."
   ]
  },
  {
   "cell_type": "code",
   "execution_count": 40,
   "id": "42d2f567",
   "metadata": {},
   "outputs": [
    {
     "data": {
      "text/html": [
       "<div>\n",
       "<style scoped>\n",
       "    .dataframe tbody tr th:only-of-type {\n",
       "        vertical-align: middle;\n",
       "    }\n",
       "\n",
       "    .dataframe tbody tr th {\n",
       "        vertical-align: top;\n",
       "    }\n",
       "\n",
       "    .dataframe thead th {\n",
       "        text-align: right;\n",
       "    }\n",
       "</style>\n",
       "<table border=\"1\" class=\"dataframe\">\n",
       "  <thead>\n",
       "    <tr style=\"text-align: right;\">\n",
       "      <th></th>\n",
       "      <th>children</th>\n",
       "      <th>days_employed</th>\n",
       "      <th>dob_years</th>\n",
       "      <th>education_id</th>\n",
       "      <th>family_status_id</th>\n",
       "      <th>gender</th>\n",
       "      <th>income_type</th>\n",
       "      <th>debt</th>\n",
       "      <th>total_income</th>\n",
       "      <th>purpose</th>\n",
       "      <th>total_income_category</th>\n",
       "      <th>purpose_category</th>\n",
       "    </tr>\n",
       "  </thead>\n",
       "  <tbody>\n",
       "    <tr>\n",
       "      <th>0</th>\n",
       "      <td>1</td>\n",
       "      <td>8437.673028</td>\n",
       "      <td>42</td>\n",
       "      <td>0</td>\n",
       "      <td>0</td>\n",
       "      <td>F</td>\n",
       "      <td>сотрудник</td>\n",
       "      <td>0</td>\n",
       "      <td>253875</td>\n",
       "      <td>покупка жилья</td>\n",
       "      <td>B</td>\n",
       "      <td>операции с недвижимостью</td>\n",
       "    </tr>\n",
       "    <tr>\n",
       "      <th>1</th>\n",
       "      <td>1</td>\n",
       "      <td>4024.803754</td>\n",
       "      <td>36</td>\n",
       "      <td>1</td>\n",
       "      <td>0</td>\n",
       "      <td>F</td>\n",
       "      <td>сотрудник</td>\n",
       "      <td>0</td>\n",
       "      <td>112080</td>\n",
       "      <td>приобретение автомобиля</td>\n",
       "      <td>C</td>\n",
       "      <td>операции с автомобилем</td>\n",
       "    </tr>\n",
       "    <tr>\n",
       "      <th>2</th>\n",
       "      <td>0</td>\n",
       "      <td>5623.422610</td>\n",
       "      <td>33</td>\n",
       "      <td>1</td>\n",
       "      <td>0</td>\n",
       "      <td>M</td>\n",
       "      <td>сотрудник</td>\n",
       "      <td>0</td>\n",
       "      <td>145885</td>\n",
       "      <td>покупка жилья</td>\n",
       "      <td>C</td>\n",
       "      <td>операции с недвижимостью</td>\n",
       "    </tr>\n",
       "    <tr>\n",
       "      <th>3</th>\n",
       "      <td>3</td>\n",
       "      <td>4124.747207</td>\n",
       "      <td>32</td>\n",
       "      <td>1</td>\n",
       "      <td>0</td>\n",
       "      <td>M</td>\n",
       "      <td>сотрудник</td>\n",
       "      <td>0</td>\n",
       "      <td>267628</td>\n",
       "      <td>дополнительное образование</td>\n",
       "      <td>B</td>\n",
       "      <td>получение образования</td>\n",
       "    </tr>\n",
       "    <tr>\n",
       "      <th>4</th>\n",
       "      <td>0</td>\n",
       "      <td>340266.072047</td>\n",
       "      <td>53</td>\n",
       "      <td>1</td>\n",
       "      <td>1</td>\n",
       "      <td>F</td>\n",
       "      <td>пенсионер</td>\n",
       "      <td>0</td>\n",
       "      <td>158616</td>\n",
       "      <td>сыграть свадьбу</td>\n",
       "      <td>C</td>\n",
       "      <td>проведение свадьбы</td>\n",
       "    </tr>\n",
       "  </tbody>\n",
       "</table>\n",
       "</div>"
      ],
      "text/plain": [
       "   children  days_employed  dob_years  education_id  family_status_id gender  \\\n",
       "0         1    8437.673028         42             0                 0      F   \n",
       "1         1    4024.803754         36             1                 0      F   \n",
       "2         0    5623.422610         33             1                 0      M   \n",
       "3         3    4124.747207         32             1                 0      M   \n",
       "4         0  340266.072047         53             1                 1      F   \n",
       "\n",
       "  income_type  debt  total_income                     purpose  \\\n",
       "0   сотрудник     0        253875               покупка жилья   \n",
       "1   сотрудник     0        112080     приобретение автомобиля   \n",
       "2   сотрудник     0        145885               покупка жилья   \n",
       "3   сотрудник     0        267628  дополнительное образование   \n",
       "4   пенсионер     0        158616             сыграть свадьбу   \n",
       "\n",
       "  total_income_category          purpose_category  \n",
       "0                     B  операции с недвижимостью  \n",
       "1                     C    операции с автомобилем  \n",
       "2                     C  операции с недвижимостью  \n",
       "3                     B     получение образования  \n",
       "4                     C        проведение свадьбы  "
      ]
     },
     "metadata": {},
     "output_type": "display_data"
    }
   ],
   "source": [
    "def purpose_group(purpose):\n",
    "    if 'авто' in purpose:\n",
    "        return 'операции с автомобилем'\n",
    "    elif 'недвиж' in purpose or 'дом' in purpose or 'жиль' in purpose:\n",
    "        return 'операции с недвижимостью'\n",
    "    elif 'свадь' in purpose:\n",
    "        return 'проведение свадьбы'\n",
    "    elif 'образов' in purpose:\n",
    "        return 'получение образования'\n",
    "    \n",
    "df['purpose_category'] = df['purpose'].apply(purpose_group)\n",
    "\n",
    "display(df.head())"
   ]
  },
  {
   "cell_type": "markdown",
   "id": "dae438a6",
   "metadata": {},
   "source": [
    "<div class=\"alert alert-success\">\n",
    "<b>✔️ Комментарий ревьюера v1:</b> \n",
    "<br>Основные цели кредита определены правильно! 👍\n",
    "</div>"
   ]
  },
  {
   "cell_type": "markdown",
   "id": "87e56833",
   "metadata": {},
   "source": [
    "### Ответы на вопросы."
   ]
  },
  {
   "cell_type": "markdown",
   "id": "4dae02ef",
   "metadata": {},
   "source": [
    "Для выявления зависимостей возврата кредита в срок от разных факторов составим сводные таблицы."
   ]
  },
  {
   "cell_type": "markdown",
   "id": "730bb021",
   "metadata": {},
   "source": [
    "##### Вопрос 1: Есть ли зависимость между количеством детей и возвратом кредита в срок?"
   ]
  },
  {
   "cell_type": "code",
   "execution_count": 41,
   "id": "77484e24",
   "metadata": {},
   "outputs": [
    {
     "data": {
      "text/html": [
       "<div>\n",
       "<style scoped>\n",
       "    .dataframe tbody tr th:only-of-type {\n",
       "        vertical-align: middle;\n",
       "    }\n",
       "\n",
       "    .dataframe tbody tr th {\n",
       "        vertical-align: top;\n",
       "    }\n",
       "\n",
       "    .dataframe thead th {\n",
       "        text-align: right;\n",
       "    }\n",
       "</style>\n",
       "<table border=\"1\" class=\"dataframe\">\n",
       "  <thead>\n",
       "    <tr style=\"text-align: right;\">\n",
       "      <th></th>\n",
       "      <th>debt</th>\n",
       "    </tr>\n",
       "    <tr>\n",
       "      <th>children</th>\n",
       "      <th></th>\n",
       "    </tr>\n",
       "  </thead>\n",
       "  <tbody>\n",
       "    <tr>\n",
       "      <th>0</th>\n",
       "      <td>0.075353</td>\n",
       "    </tr>\n",
       "    <tr>\n",
       "      <th>1</th>\n",
       "      <td>0.091639</td>\n",
       "    </tr>\n",
       "    <tr>\n",
       "      <th>2</th>\n",
       "      <td>0.094925</td>\n",
       "    </tr>\n",
       "    <tr>\n",
       "      <th>3</th>\n",
       "      <td>0.081818</td>\n",
       "    </tr>\n",
       "    <tr>\n",
       "      <th>4</th>\n",
       "      <td>0.097561</td>\n",
       "    </tr>\n",
       "    <tr>\n",
       "      <th>5</th>\n",
       "      <td>0.000000</td>\n",
       "    </tr>\n",
       "  </tbody>\n",
       "</table>\n",
       "</div>"
      ],
      "text/plain": [
       "              debt\n",
       "children          \n",
       "0         0.075353\n",
       "1         0.091639\n",
       "2         0.094925\n",
       "3         0.081818\n",
       "4         0.097561\n",
       "5         0.000000"
      ]
     },
     "execution_count": 41,
     "metadata": {},
     "output_type": "execute_result"
    }
   ],
   "source": [
    "df.pivot_table(index = ['children'], values = 'debt', aggfunc='mean')"
   ]
  },
  {
   "cell_type": "code",
   "execution_count": 42,
   "id": "97bc659c",
   "metadata": {},
   "outputs": [
    {
     "data": {
      "text/plain": [
       "0    14107\n",
       "1     4856\n",
       "2     2128\n",
       "3      330\n",
       "4       41\n",
       "5        9\n",
       "Name: children, dtype: int64"
      ]
     },
     "execution_count": 42,
     "metadata": {},
     "output_type": "execute_result"
    }
   ],
   "source": [
    "df['children'].value_counts()"
   ]
  },
  {
   "cell_type": "markdown",
   "id": "2641f2dc",
   "metadata": {},
   "source": [
    "Согласно таблице люди с 5 детьми не задерживают выплаты по кредитам вообще. Скорее всего, это связано с тем, что в таблице слишком мало записей про людей с 5 детьми.\n",
    "\n",
    "С учетом этого, чаще всего выплачивают кредит в срок люди без детей. При этом большее количество детей не обязательно означает более частые задержки в выплатах."
   ]
  },
  {
   "cell_type": "markdown",
   "id": "2371d343",
   "metadata": {},
   "source": [
    "##### Вывод 1:"
   ]
  },
  {
   "cell_type": "markdown",
   "id": "d3e4038f",
   "metadata": {},
   "source": [
    "Люди без детей намного чаще возвращают кредит в срок по сравнению с людьми, у которых есть дети."
   ]
  },
  {
   "cell_type": "markdown",
   "id": "94955e9d",
   "metadata": {},
   "source": [
    "<div class=\"alert alert-success\">\n",
    "<b>✔️ Комментарий ревьюера v1:</b> \n",
    "<br>Верно! Отлично, что ты используешь свободную таблицу\n",
    "</div>"
   ]
  },
  {
   "cell_type": "markdown",
   "id": "2996db2e",
   "metadata": {},
   "source": [
    "##### Вопрос 2: Есть ли зависимость между семейным положением и возвратом кредита в срок?"
   ]
  },
  {
   "cell_type": "code",
   "execution_count": 43,
   "id": "0a1fab60",
   "metadata": {},
   "outputs": [
    {
     "data": {
      "text/html": [
       "<div>\n",
       "<style scoped>\n",
       "    .dataframe tbody tr th:only-of-type {\n",
       "        vertical-align: middle;\n",
       "    }\n",
       "\n",
       "    .dataframe tbody tr th {\n",
       "        vertical-align: top;\n",
       "    }\n",
       "\n",
       "    .dataframe thead th {\n",
       "        text-align: right;\n",
       "    }\n",
       "</style>\n",
       "<table border=\"1\" class=\"dataframe\">\n",
       "  <thead>\n",
       "    <tr style=\"text-align: right;\">\n",
       "      <th></th>\n",
       "      <th>debt</th>\n",
       "    </tr>\n",
       "    <tr>\n",
       "      <th>family_status_id</th>\n",
       "      <th></th>\n",
       "    </tr>\n",
       "  </thead>\n",
       "  <tbody>\n",
       "    <tr>\n",
       "      <th>0</th>\n",
       "      <td>0.075421</td>\n",
       "    </tr>\n",
       "    <tr>\n",
       "      <th>1</th>\n",
       "      <td>0.093202</td>\n",
       "    </tr>\n",
       "    <tr>\n",
       "      <th>2</th>\n",
       "      <td>0.065693</td>\n",
       "    </tr>\n",
       "    <tr>\n",
       "      <th>3</th>\n",
       "      <td>0.071130</td>\n",
       "    </tr>\n",
       "    <tr>\n",
       "      <th>4</th>\n",
       "      <td>0.097509</td>\n",
       "    </tr>\n",
       "  </tbody>\n",
       "</table>\n",
       "</div>"
      ],
      "text/plain": [
       "                      debt\n",
       "family_status_id          \n",
       "0                 0.075421\n",
       "1                 0.093202\n",
       "2                 0.065693\n",
       "3                 0.071130\n",
       "4                 0.097509"
      ]
     },
     "execution_count": 43,
     "metadata": {},
     "output_type": "execute_result"
    }
   ],
   "source": [
    "df.pivot_table(index = ['family_status_id'], values = 'debt', aggfunc='mean')"
   ]
  },
  {
   "cell_type": "code",
   "execution_count": 44,
   "id": "54aeb9c5",
   "metadata": {},
   "outputs": [
    {
     "data": {
      "text/html": [
       "<div>\n",
       "<style scoped>\n",
       "    .dataframe tbody tr th:only-of-type {\n",
       "        vertical-align: middle;\n",
       "    }\n",
       "\n",
       "    .dataframe tbody tr th {\n",
       "        vertical-align: top;\n",
       "    }\n",
       "\n",
       "    .dataframe thead th {\n",
       "        text-align: right;\n",
       "    }\n",
       "</style>\n",
       "<table border=\"1\" class=\"dataframe\">\n",
       "  <thead>\n",
       "    <tr style=\"text-align: right;\">\n",
       "      <th></th>\n",
       "      <th>family_status_id</th>\n",
       "      <th>family_status</th>\n",
       "    </tr>\n",
       "  </thead>\n",
       "  <tbody>\n",
       "    <tr>\n",
       "      <th>0</th>\n",
       "      <td>0</td>\n",
       "      <td>женат / замужем</td>\n",
       "    </tr>\n",
       "    <tr>\n",
       "      <th>1</th>\n",
       "      <td>1</td>\n",
       "      <td>гражданский брак</td>\n",
       "    </tr>\n",
       "    <tr>\n",
       "      <th>2</th>\n",
       "      <td>2</td>\n",
       "      <td>вдовец / вдова</td>\n",
       "    </tr>\n",
       "    <tr>\n",
       "      <th>3</th>\n",
       "      <td>3</td>\n",
       "      <td>в разводе</td>\n",
       "    </tr>\n",
       "    <tr>\n",
       "      <th>4</th>\n",
       "      <td>4</td>\n",
       "      <td>не женат / не замужем</td>\n",
       "    </tr>\n",
       "  </tbody>\n",
       "</table>\n",
       "</div>"
      ],
      "text/plain": [
       "   family_status_id          family_status\n",
       "0                 0        женат / замужем\n",
       "1                 1       гражданский брак\n",
       "2                 2         вдовец / вдова\n",
       "3                 3              в разводе\n",
       "4                 4  не женат / не замужем"
      ]
     },
     "execution_count": 44,
     "metadata": {},
     "output_type": "execute_result"
    }
   ],
   "source": [
    "family_status"
   ]
  },
  {
   "cell_type": "code",
   "execution_count": 45,
   "id": "3f481eb4",
   "metadata": {},
   "outputs": [
    {
     "data": {
      "text/plain": [
       "0    12344\n",
       "1     4163\n",
       "4     2810\n",
       "3     1195\n",
       "2      959\n",
       "Name: family_status_id, dtype: int64"
      ]
     },
     "execution_count": 45,
     "metadata": {},
     "output_type": "execute_result"
    }
   ],
   "source": [
    "df['family_status_id'].value_counts()"
   ]
  },
  {
   "cell_type": "markdown",
   "id": "15eec1cd",
   "metadata": {},
   "source": [
    "##### Вывод 2:"
   ]
  },
  {
   "cell_type": "markdown",
   "id": "186a7bfa",
   "metadata": {},
   "source": [
    "Чаще всего возвращают кредит без задержек вдовы/вдовцы. Больше всего зажержек у категорий не женат/не замужем."
   ]
  },
  {
   "cell_type": "markdown",
   "id": "ec29f3cd",
   "metadata": {},
   "source": [
    "<div class=\"alert alert-success\">\n",
    "<b>✔️ Комментарий ревьюера v1:</b> \n",
    "<br>Согласен! Идём дальше)\n",
    "</div>"
   ]
  },
  {
   "cell_type": "markdown",
   "id": "4d6e40c7",
   "metadata": {},
   "source": [
    "##### Вопрос 3: Есть ли зависимость между уровнем дохода и возвратом кредита в срок?"
   ]
  },
  {
   "cell_type": "code",
   "execution_count": 46,
   "id": "83679461",
   "metadata": {},
   "outputs": [
    {
     "data": {
      "text/html": [
       "<div>\n",
       "<style scoped>\n",
       "    .dataframe tbody tr th:only-of-type {\n",
       "        vertical-align: middle;\n",
       "    }\n",
       "\n",
       "    .dataframe tbody tr th {\n",
       "        vertical-align: top;\n",
       "    }\n",
       "\n",
       "    .dataframe thead th {\n",
       "        text-align: right;\n",
       "    }\n",
       "</style>\n",
       "<table border=\"1\" class=\"dataframe\">\n",
       "  <thead>\n",
       "    <tr style=\"text-align: right;\">\n",
       "      <th></th>\n",
       "      <th>debt</th>\n",
       "    </tr>\n",
       "    <tr>\n",
       "      <th>total_income_category</th>\n",
       "      <th></th>\n",
       "    </tr>\n",
       "  </thead>\n",
       "  <tbody>\n",
       "    <tr>\n",
       "      <th>A</th>\n",
       "      <td>0.080000</td>\n",
       "    </tr>\n",
       "    <tr>\n",
       "      <th>B</th>\n",
       "      <td>0.070621</td>\n",
       "    </tr>\n",
       "    <tr>\n",
       "      <th>C</th>\n",
       "      <td>0.084825</td>\n",
       "    </tr>\n",
       "    <tr>\n",
       "      <th>D</th>\n",
       "      <td>0.060000</td>\n",
       "    </tr>\n",
       "    <tr>\n",
       "      <th>E</th>\n",
       "      <td>0.090909</td>\n",
       "    </tr>\n",
       "  </tbody>\n",
       "</table>\n",
       "</div>"
      ],
      "text/plain": [
       "                           debt\n",
       "total_income_category          \n",
       "A                      0.080000\n",
       "B                      0.070621\n",
       "C                      0.084825\n",
       "D                      0.060000\n",
       "E                      0.090909"
      ]
     },
     "execution_count": 46,
     "metadata": {},
     "output_type": "execute_result"
    }
   ],
   "source": [
    "df.pivot_table(index = ['total_income_category'], values = 'debt', aggfunc='mean')"
   ]
  },
  {
   "cell_type": "code",
   "execution_count": 47,
   "id": "98c0d644",
   "metadata": {},
   "outputs": [
    {
     "data": {
      "text/plain": [
       "C    16033\n",
       "B     5041\n",
       "D      350\n",
       "A       25\n",
       "E       22\n",
       "Name: total_income_category, dtype: int64"
      ]
     },
     "execution_count": 47,
     "metadata": {},
     "output_type": "execute_result"
    }
   ],
   "source": [
    "df['total_income_category'].value_counts()"
   ]
  },
  {
   "cell_type": "markdown",
   "id": "80740168",
   "metadata": {},
   "source": [
    "##### Вывод 3:"
   ]
  },
  {
   "cell_type": "markdown",
   "id": "dd37db2f",
   "metadata": {},
   "source": [
    "Чаще всего возвращают кредит без задержек люди с достатком 30001-50000. Больше задержек у лиц с доходом 0-30000."
   ]
  },
  {
   "cell_type": "markdown",
   "id": "5ecb95a2",
   "metadata": {},
   "source": [
    "<div class=\"alert alert-success\">\n",
    "<b>✔️ Комментарий ревьюера v1:</b> \n",
    "<br>Тут всё правильно\n",
    "</div>"
   ]
  },
  {
   "cell_type": "markdown",
   "id": "4dca8216",
   "metadata": {},
   "source": [
    "##### Вопрос 4: Как разные цели кредита влияют на его возврат в срок?"
   ]
  },
  {
   "cell_type": "code",
   "execution_count": 48,
   "id": "9c83a85b",
   "metadata": {},
   "outputs": [
    {
     "data": {
      "text/html": [
       "<div>\n",
       "<style scoped>\n",
       "    .dataframe tbody tr th:only-of-type {\n",
       "        vertical-align: middle;\n",
       "    }\n",
       "\n",
       "    .dataframe tbody tr th {\n",
       "        vertical-align: top;\n",
       "    }\n",
       "\n",
       "    .dataframe thead th {\n",
       "        text-align: right;\n",
       "    }\n",
       "</style>\n",
       "<table border=\"1\" class=\"dataframe\">\n",
       "  <thead>\n",
       "    <tr style=\"text-align: right;\">\n",
       "      <th></th>\n",
       "      <th>debt</th>\n",
       "    </tr>\n",
       "    <tr>\n",
       "      <th>purpose_category</th>\n",
       "      <th></th>\n",
       "    </tr>\n",
       "  </thead>\n",
       "  <tbody>\n",
       "    <tr>\n",
       "      <th>операции с автомобилем</th>\n",
       "      <td>0.093547</td>\n",
       "    </tr>\n",
       "    <tr>\n",
       "      <th>операции с недвижимостью</th>\n",
       "      <td>0.072314</td>\n",
       "    </tr>\n",
       "    <tr>\n",
       "      <th>получение образования</th>\n",
       "      <td>0.092177</td>\n",
       "    </tr>\n",
       "    <tr>\n",
       "      <th>проведение свадьбы</th>\n",
       "      <td>0.079657</td>\n",
       "    </tr>\n",
       "  </tbody>\n",
       "</table>\n",
       "</div>"
      ],
      "text/plain": [
       "                              debt\n",
       "purpose_category                  \n",
       "операции с автомобилем    0.093547\n",
       "операции с недвижимостью  0.072314\n",
       "получение образования     0.092177\n",
       "проведение свадьбы        0.079657"
      ]
     },
     "execution_count": 48,
     "metadata": {},
     "output_type": "execute_result"
    }
   ],
   "source": [
    "df.pivot_table(index = ['purpose_category'], values = 'debt', aggfunc='mean')"
   ]
  },
  {
   "cell_type": "markdown",
   "id": "45ae2c3e",
   "metadata": {},
   "source": [
    "##### Вывод 4:"
   ]
  },
  {
   "cell_type": "markdown",
   "id": "037f8045",
   "metadata": {},
   "source": [
    "Чаще всего возвращают без задержек кредиты, взятые на операции с недвижимостью. Задержки возвращения кредита на операции с автомобилем случаются чаще всего."
   ]
  },
  {
   "cell_type": "markdown",
   "id": "8e1bbd5d",
   "metadata": {},
   "source": [
    "<div class=\"alert alert-success\">\n",
    "<b>✔️ Комментарий ревьюера v1:</b>\n",
    "<br>Абсолютно верно!\n",
    "</div>"
   ]
  },
  {
   "cell_type": "markdown",
   "id": "6d4e4f3f",
   "metadata": {},
   "source": [
    "## Общий вывод:"
   ]
  },
  {
   "cell_type": "markdown",
   "id": "7efb4d5b",
   "metadata": {},
   "source": [
    "Категории лиц, чаще всего задерживающие выплаты по кредитам:\n",
    "* с детьми\n",
    "* не женат/не замужем\n",
    "* с доходом менее 30000\n",
    "* взявшие кредит на операции с автомобилем\n",
    "\n",
    "Категории лиц, реже всего задерживающие выплаты по кредитам:\n",
    "* без детей\n",
    "* вдовы/вдовцы\n",
    "* с доходом 30001-50000\n",
    "* взявшие кредит на операции с недвижимостью"
   ]
  },
  {
   "cell_type": "markdown",
   "id": "f50436f5",
   "metadata": {},
   "source": [
    "<div class=\"alert alert-success\">\n",
    "<b>✔️ Комментарий ревьюера v1:</b> \n",
    "<br>Общий вывод верный 👍\n",
    "</div>"
   ]
  },
  {
   "cell_type": "markdown",
   "id": "466cc6dd",
   "metadata": {},
   "source": [
    "<div class=\"alert alert-danger\">\n",
    "<b>❌ Итоговый комментарий ревьюера v1:</b> \n",
    "<br>- корректно привести значения к нижнему регистру\n",
    "</div>"
   ]
  },
  {
   "cell_type": "markdown",
   "id": "e4e5b329",
   "metadata": {},
   "source": [
    "<div class=\"alert alert-success\">\n",
    "<b>✔️ Итоговый комментарий ревьюера v2:</b>\n",
    "<br>Ты проделала большую работу! У тебя точные выводы с хорошей аргументацией. Здорово, что ты пишешь свои рассуждения и предположения - это помогает видеть ход твоей мысли. Отдельно хочу выделить аккуратность и структурированность твоей работы. Рад был поработать над проверкой твоего проекта! Желаю удачи в дальнейшем обучении! 😉\n",
    "</div>"
   ]
  }
 ],
 "metadata": {
  "ExecuteTimeLog": [
   {
    "duration": 417,
    "start_time": "2022-04-22T18:22:39.063Z"
   },
   {
    "duration": 11,
    "start_time": "2022-04-22T18:25:08.118Z"
   },
   {
    "duration": 11,
    "start_time": "2022-04-22T18:25:21.593Z"
   },
   {
    "duration": 9,
    "start_time": "2022-04-22T18:26:41.072Z"
   },
   {
    "duration": 38,
    "start_time": "2022-04-22T21:26:45.509Z"
   },
   {
    "duration": 1073,
    "start_time": "2022-04-22T21:26:58.535Z"
   },
   {
    "duration": 11,
    "start_time": "2022-04-22T21:27:08.451Z"
   },
   {
    "duration": 18,
    "start_time": "2022-04-22T21:27:20.751Z"
   },
   {
    "duration": 16,
    "start_time": "2022-04-22T21:27:26.017Z"
   },
   {
    "duration": 16,
    "start_time": "2022-04-22T21:27:32.314Z"
   },
   {
    "duration": 17,
    "start_time": "2022-04-22T21:29:13.059Z"
   },
   {
    "duration": 21,
    "start_time": "2022-04-22T21:30:46.806Z"
   },
   {
    "duration": 32,
    "start_time": "2022-04-22T21:31:12.575Z"
   },
   {
    "duration": 18,
    "start_time": "2022-04-22T21:32:12.026Z"
   },
   {
    "duration": 10,
    "start_time": "2022-04-22T21:32:20.294Z"
   },
   {
    "duration": 19,
    "start_time": "2022-04-22T21:33:47.204Z"
   },
   {
    "duration": 9,
    "start_time": "2022-04-22T21:35:20.460Z"
   },
   {
    "duration": 68,
    "start_time": "2022-04-22T21:35:40.528Z"
   },
   {
    "duration": 8,
    "start_time": "2022-04-22T21:35:45.819Z"
   },
   {
    "duration": 7,
    "start_time": "2022-04-22T21:36:29.662Z"
   },
   {
    "duration": 117,
    "start_time": "2022-04-22T21:36:33.680Z"
   },
   {
    "duration": 87,
    "start_time": "2022-04-22T21:36:36.677Z"
   },
   {
    "duration": 8,
    "start_time": "2022-04-22T21:36:39.506Z"
   },
   {
    "duration": 11,
    "start_time": "2022-04-22T21:38:56.558Z"
   },
   {
    "duration": 21,
    "start_time": "2022-04-22T21:39:07.155Z"
   },
   {
    "duration": 41,
    "start_time": "2022-04-24T10:58:47.166Z"
   },
   {
    "duration": 466,
    "start_time": "2022-04-24T10:58:58.429Z"
   },
   {
    "duration": 17,
    "start_time": "2022-04-24T10:59:02.426Z"
   },
   {
    "duration": 111,
    "start_time": "2022-04-24T10:59:03.966Z"
   },
   {
    "duration": 25,
    "start_time": "2022-04-24T10:59:16.997Z"
   },
   {
    "duration": 33,
    "start_time": "2022-04-24T10:59:19.847Z"
   },
   {
    "duration": 6,
    "start_time": "2022-04-24T10:59:22.812Z"
   },
   {
    "duration": 15,
    "start_time": "2022-04-24T11:01:58.153Z"
   },
   {
    "duration": 14,
    "start_time": "2022-04-24T11:02:03.052Z"
   },
   {
    "duration": 22,
    "start_time": "2022-04-24T11:32:21.348Z"
   },
   {
    "duration": 5,
    "start_time": "2022-04-24T11:53:01.581Z"
   },
   {
    "duration": 18,
    "start_time": "2022-04-24T11:53:44.764Z"
   },
   {
    "duration": 3,
    "start_time": "2022-04-24T11:54:07.427Z"
   },
   {
    "duration": 9,
    "start_time": "2022-04-24T11:54:19.276Z"
   },
   {
    "duration": 10,
    "start_time": "2022-04-24T11:54:51.205Z"
   },
   {
    "duration": 5,
    "start_time": "2022-04-24T11:55:19.038Z"
   },
   {
    "duration": 12,
    "start_time": "2022-04-24T11:55:20.257Z"
   },
   {
    "duration": 15,
    "start_time": "2022-04-24T12:20:08.356Z"
   },
   {
    "duration": 21,
    "start_time": "2022-04-24T12:22:39.243Z"
   },
   {
    "duration": 19,
    "start_time": "2022-04-24T12:23:15.002Z"
   },
   {
    "duration": 33,
    "start_time": "2022-04-24T12:24:10.449Z"
   },
   {
    "duration": 19,
    "start_time": "2022-04-24T12:24:14.397Z"
   },
   {
    "duration": 116,
    "start_time": "2022-04-24T12:29:16.287Z"
   },
   {
    "duration": 8,
    "start_time": "2022-04-24T12:30:25.752Z"
   },
   {
    "duration": 21,
    "start_time": "2022-04-24T12:30:36.673Z"
   },
   {
    "duration": 9,
    "start_time": "2022-04-24T12:30:50.994Z"
   },
   {
    "duration": 4,
    "start_time": "2022-04-24T12:31:00.939Z"
   },
   {
    "duration": 14,
    "start_time": "2022-04-24T12:31:31.834Z"
   },
   {
    "duration": 23,
    "start_time": "2022-04-24T12:33:12.855Z"
   },
   {
    "duration": 5,
    "start_time": "2022-04-24T12:33:25.480Z"
   },
   {
    "duration": 7,
    "start_time": "2022-04-24T12:33:42.558Z"
   },
   {
    "duration": 8,
    "start_time": "2022-04-24T12:40:19.082Z"
   },
   {
    "duration": 4,
    "start_time": "2022-04-24T12:41:53.366Z"
   },
   {
    "duration": 19,
    "start_time": "2022-04-24T12:42:03.285Z"
   },
   {
    "duration": 4,
    "start_time": "2022-04-24T12:43:49.366Z"
   },
   {
    "duration": 19,
    "start_time": "2022-04-24T12:49:28.558Z"
   },
   {
    "duration": 25,
    "start_time": "2022-04-24T12:50:07.432Z"
   },
   {
    "duration": 20,
    "start_time": "2022-04-24T12:50:50.013Z"
   },
   {
    "duration": 17,
    "start_time": "2022-04-24T12:51:01.049Z"
   },
   {
    "duration": 13,
    "start_time": "2022-04-24T12:52:21.767Z"
   },
   {
    "duration": 6,
    "start_time": "2022-04-24T12:53:16.612Z"
   },
   {
    "duration": 7,
    "start_time": "2022-04-24T12:53:36.061Z"
   },
   {
    "duration": 8,
    "start_time": "2022-04-24T12:53:45.509Z"
   },
   {
    "duration": 20,
    "start_time": "2022-04-24T12:53:52.061Z"
   },
   {
    "duration": 11,
    "start_time": "2022-04-24T12:54:24.678Z"
   },
   {
    "duration": 38,
    "start_time": "2022-04-24T12:54:38.839Z"
   },
   {
    "duration": 30,
    "start_time": "2022-04-24T12:54:57.791Z"
   },
   {
    "duration": 41,
    "start_time": "2022-04-24T12:55:10.369Z"
   },
   {
    "duration": 3,
    "start_time": "2022-04-24T12:56:47.037Z"
   },
   {
    "duration": 3,
    "start_time": "2022-04-24T12:57:46.661Z"
   },
   {
    "duration": 48,
    "start_time": "2022-04-24T15:35:30.217Z"
   },
   {
    "duration": 3,
    "start_time": "2022-04-24T15:35:50.747Z"
   },
   {
    "duration": 499,
    "start_time": "2022-04-24T15:35:57.997Z"
   },
   {
    "duration": 9,
    "start_time": "2022-04-24T15:36:00.796Z"
   },
   {
    "duration": 21,
    "start_time": "2022-04-24T15:36:02.317Z"
   },
   {
    "duration": 21,
    "start_time": "2022-04-24T15:36:04.655Z"
   },
   {
    "duration": 4,
    "start_time": "2022-04-24T15:36:08.316Z"
   },
   {
    "duration": 8,
    "start_time": "2022-04-24T15:36:09.136Z"
   },
   {
    "duration": 15,
    "start_time": "2022-04-24T15:36:10.846Z"
   },
   {
    "duration": 3,
    "start_time": "2022-04-24T15:36:12.087Z"
   },
   {
    "duration": 8,
    "start_time": "2022-04-24T15:36:12.866Z"
   },
   {
    "duration": 4,
    "start_time": "2022-04-24T15:36:13.954Z"
   },
   {
    "duration": 9,
    "start_time": "2022-04-24T15:36:14.974Z"
   },
   {
    "duration": 5,
    "start_time": "2022-04-24T15:36:16.408Z"
   },
   {
    "duration": 17,
    "start_time": "2022-04-24T15:36:17.187Z"
   },
   {
    "duration": 17,
    "start_time": "2022-04-24T15:36:23.588Z"
   },
   {
    "duration": 24,
    "start_time": "2022-04-24T15:36:26.494Z"
   },
   {
    "duration": 16,
    "start_time": "2022-04-24T15:36:27.462Z"
   },
   {
    "duration": 19,
    "start_time": "2022-04-24T15:36:28.596Z"
   },
   {
    "duration": 2,
    "start_time": "2022-04-24T15:36:32.075Z"
   },
   {
    "duration": 13,
    "start_time": "2022-04-24T15:36:33.089Z"
   },
   {
    "duration": 34,
    "start_time": "2022-04-24T15:37:04.301Z"
   },
   {
    "duration": 15,
    "start_time": "2022-04-24T15:37:39.268Z"
   },
   {
    "duration": 5,
    "start_time": "2022-04-24T15:38:14.834Z"
   },
   {
    "duration": 11,
    "start_time": "2022-04-24T15:38:29.805Z"
   },
   {
    "duration": 5,
    "start_time": "2022-04-24T15:38:41.525Z"
   },
   {
    "duration": 15,
    "start_time": "2022-04-24T15:38:55.037Z"
   },
   {
    "duration": 14,
    "start_time": "2022-04-24T15:39:03.421Z"
   },
   {
    "duration": 16,
    "start_time": "2022-04-24T15:39:14.387Z"
   },
   {
    "duration": 24,
    "start_time": "2022-04-24T15:39:23.497Z"
   },
   {
    "duration": 14,
    "start_time": "2022-04-24T16:53:41.461Z"
   },
   {
    "duration": 36,
    "start_time": "2022-04-24T16:54:01.443Z"
   },
   {
    "duration": 77,
    "start_time": "2022-04-25T12:10:23.913Z"
   },
   {
    "duration": 785,
    "start_time": "2022-04-25T12:10:41.662Z"
   },
   {
    "duration": 13,
    "start_time": "2022-04-25T12:10:42.449Z"
   },
   {
    "duration": 36,
    "start_time": "2022-04-25T12:10:42.464Z"
   },
   {
    "duration": 32,
    "start_time": "2022-04-25T12:10:42.502Z"
   },
   {
    "duration": 6,
    "start_time": "2022-04-25T12:10:42.536Z"
   },
   {
    "duration": 12,
    "start_time": "2022-04-25T12:10:42.544Z"
   },
   {
    "duration": 22,
    "start_time": "2022-04-25T12:10:42.593Z"
   },
   {
    "duration": 4,
    "start_time": "2022-04-25T12:10:42.617Z"
   },
   {
    "duration": 13,
    "start_time": "2022-04-25T12:10:42.624Z"
   },
   {
    "duration": 5,
    "start_time": "2022-04-25T12:10:42.640Z"
   },
   {
    "duration": 57,
    "start_time": "2022-04-25T12:10:42.647Z"
   },
   {
    "duration": 9,
    "start_time": "2022-04-25T12:10:42.706Z"
   },
   {
    "duration": 21,
    "start_time": "2022-04-25T12:10:42.717Z"
   },
   {
    "duration": 62,
    "start_time": "2022-04-25T12:10:42.739Z"
   },
   {
    "duration": 29,
    "start_time": "2022-04-25T12:10:42.803Z"
   },
   {
    "duration": 27,
    "start_time": "2022-04-25T12:10:42.834Z"
   },
   {
    "duration": 48,
    "start_time": "2022-04-25T12:10:42.863Z"
   },
   {
    "duration": 4,
    "start_time": "2022-04-25T12:10:42.914Z"
   },
   {
    "duration": 85,
    "start_time": "2022-04-25T12:10:42.921Z"
   },
   {
    "duration": 32,
    "start_time": "2022-04-25T12:10:43.008Z"
   },
   {
    "duration": 73,
    "start_time": "2022-04-25T12:10:43.043Z"
   },
   {
    "duration": 18,
    "start_time": "2022-04-25T12:10:43.118Z"
   },
   {
    "duration": 20,
    "start_time": "2022-04-25T12:10:43.138Z"
   },
   {
    "duration": 52,
    "start_time": "2022-04-25T12:10:43.160Z"
   },
   {
    "duration": 103,
    "start_time": "2022-04-25T12:10:45.559Z"
   },
   {
    "duration": 7,
    "start_time": "2022-04-25T13:25:07.542Z"
   },
   {
    "duration": 17,
    "start_time": "2022-04-25T13:25:18.282Z"
   },
   {
    "duration": 16,
    "start_time": "2022-04-25T13:25:46.345Z"
   },
   {
    "duration": 15,
    "start_time": "2022-04-25T13:25:50.632Z"
   },
   {
    "duration": 10,
    "start_time": "2022-04-25T13:26:31.920Z"
   },
   {
    "duration": 18,
    "start_time": "2022-04-25T13:26:43.351Z"
   },
   {
    "duration": 18,
    "start_time": "2022-04-25T13:28:46.552Z"
   },
   {
    "duration": 18,
    "start_time": "2022-04-25T13:28:58.386Z"
   },
   {
    "duration": 17,
    "start_time": "2022-04-25T13:29:20.813Z"
   },
   {
    "duration": 18,
    "start_time": "2022-04-25T13:29:37.247Z"
   },
   {
    "duration": 17,
    "start_time": "2022-04-25T13:29:51.329Z"
   },
   {
    "duration": 19,
    "start_time": "2022-04-25T13:30:29.093Z"
   },
   {
    "duration": 6,
    "start_time": "2022-04-25T13:33:09.872Z"
   },
   {
    "duration": 54,
    "start_time": "2022-04-25T13:33:20.245Z"
   },
   {
    "duration": 16,
    "start_time": "2022-04-25T13:33:47.407Z"
   },
   {
    "duration": 99,
    "start_time": "2022-04-25T13:34:15.526Z"
   },
   {
    "duration": 13,
    "start_time": "2022-04-25T13:34:15.628Z"
   },
   {
    "duration": 25,
    "start_time": "2022-04-25T13:34:15.643Z"
   },
   {
    "duration": 33,
    "start_time": "2022-04-25T13:34:15.692Z"
   },
   {
    "duration": 5,
    "start_time": "2022-04-25T13:34:15.727Z"
   },
   {
    "duration": 16,
    "start_time": "2022-04-25T13:34:15.734Z"
   },
   {
    "duration": 55,
    "start_time": "2022-04-25T13:34:15.752Z"
   },
   {
    "duration": 5,
    "start_time": "2022-04-25T13:34:15.809Z"
   },
   {
    "duration": 21,
    "start_time": "2022-04-25T13:34:15.816Z"
   },
   {
    "duration": 7,
    "start_time": "2022-04-25T13:34:15.841Z"
   },
   {
    "duration": 12,
    "start_time": "2022-04-25T13:34:15.851Z"
   },
   {
    "duration": 6,
    "start_time": "2022-04-25T13:34:15.894Z"
   },
   {
    "duration": 22,
    "start_time": "2022-04-25T13:34:15.904Z"
   },
   {
    "duration": 28,
    "start_time": "2022-04-25T13:34:15.929Z"
   },
   {
    "duration": 33,
    "start_time": "2022-04-25T13:34:15.994Z"
   },
   {
    "duration": 30,
    "start_time": "2022-04-25T13:34:16.029Z"
   },
   {
    "duration": 49,
    "start_time": "2022-04-25T13:34:16.061Z"
   },
   {
    "duration": 5,
    "start_time": "2022-04-25T13:34:16.112Z"
   },
   {
    "duration": 38,
    "start_time": "2022-04-25T13:34:16.119Z"
   },
   {
    "duration": 48,
    "start_time": "2022-04-25T13:34:16.159Z"
   },
   {
    "duration": 44,
    "start_time": "2022-04-25T13:34:16.209Z"
   },
   {
    "duration": 47,
    "start_time": "2022-04-25T13:34:16.255Z"
   },
   {
    "duration": 21,
    "start_time": "2022-04-25T13:34:16.304Z"
   },
   {
    "duration": 34,
    "start_time": "2022-04-25T13:34:16.327Z"
   },
   {
    "duration": 137,
    "start_time": "2022-04-25T13:34:16.364Z"
   },
   {
    "duration": 22,
    "start_time": "2022-04-25T13:34:16.504Z"
   },
   {
    "duration": 27,
    "start_time": "2022-04-25T13:34:16.529Z"
   },
   {
    "duration": 24,
    "start_time": "2022-04-25T13:34:25.236Z"
   },
   {
    "duration": 17,
    "start_time": "2022-04-25T13:34:29.737Z"
   },
   {
    "duration": 104,
    "start_time": "2022-04-25T14:08:20.497Z"
   },
   {
    "duration": 13,
    "start_time": "2022-04-25T14:08:20.604Z"
   },
   {
    "duration": 36,
    "start_time": "2022-04-25T14:08:20.619Z"
   },
   {
    "duration": 44,
    "start_time": "2022-04-25T14:08:20.658Z"
   },
   {
    "duration": 5,
    "start_time": "2022-04-25T14:08:20.705Z"
   },
   {
    "duration": 15,
    "start_time": "2022-04-25T14:08:20.712Z"
   },
   {
    "duration": 49,
    "start_time": "2022-04-25T14:08:20.729Z"
   },
   {
    "duration": 13,
    "start_time": "2022-04-25T14:08:20.780Z"
   },
   {
    "duration": 19,
    "start_time": "2022-04-25T14:08:20.795Z"
   },
   {
    "duration": 6,
    "start_time": "2022-04-25T14:08:20.820Z"
   },
   {
    "duration": 25,
    "start_time": "2022-04-25T14:08:20.828Z"
   },
   {
    "duration": 12,
    "start_time": "2022-04-25T14:08:20.855Z"
   },
   {
    "duration": 38,
    "start_time": "2022-04-25T14:08:20.869Z"
   },
   {
    "duration": 27,
    "start_time": "2022-04-25T14:08:20.909Z"
   },
   {
    "duration": 58,
    "start_time": "2022-04-25T14:08:20.939Z"
   },
   {
    "duration": 28,
    "start_time": "2022-04-25T14:08:20.999Z"
   },
   {
    "duration": 21,
    "start_time": "2022-04-25T14:08:21.030Z"
   },
   {
    "duration": 4,
    "start_time": "2022-04-25T14:08:21.053Z"
   },
   {
    "duration": 65,
    "start_time": "2022-04-25T14:08:21.060Z"
   },
   {
    "duration": 20,
    "start_time": "2022-04-25T14:08:21.127Z"
   },
   {
    "duration": 73,
    "start_time": "2022-04-25T14:08:21.149Z"
   },
   {
    "duration": 20,
    "start_time": "2022-04-25T14:08:21.224Z"
   },
   {
    "duration": 20,
    "start_time": "2022-04-25T14:08:21.246Z"
   },
   {
    "duration": 23,
    "start_time": "2022-04-25T14:08:21.294Z"
   },
   {
    "duration": 4,
    "start_time": "2022-04-25T14:08:21.319Z"
   },
   {
    "duration": 28,
    "start_time": "2022-04-25T14:08:21.325Z"
   },
   {
    "duration": 43,
    "start_time": "2022-04-25T14:08:21.355Z"
   },
   {
    "duration": 17,
    "start_time": "2022-04-25T14:08:26.082Z"
   },
   {
    "duration": 210,
    "start_time": "2022-04-25T14:09:59.644Z"
   },
   {
    "duration": 15,
    "start_time": "2022-04-25T14:14:44.709Z"
   },
   {
    "duration": 13,
    "start_time": "2022-04-25T14:14:44.854Z"
   },
   {
    "duration": 13,
    "start_time": "2022-04-25T14:14:47.552Z"
   },
   {
    "duration": 13,
    "start_time": "2022-04-25T14:14:47.705Z"
   },
   {
    "duration": 26,
    "start_time": "2022-04-25T14:15:02.913Z"
   },
   {
    "duration": 170,
    "start_time": "2022-04-25T14:16:21.806Z"
   },
   {
    "duration": 8,
    "start_time": "2022-04-25T14:18:51.932Z"
   },
   {
    "duration": 715,
    "start_time": "2022-04-25T14:21:08.517Z"
   },
   {
    "duration": 26,
    "start_time": "2022-04-25T14:21:41.428Z"
   },
   {
    "duration": 14,
    "start_time": "2022-04-25T14:25:48.465Z"
   },
   {
    "duration": 167,
    "start_time": "2022-04-25T14:26:10.330Z"
   },
   {
    "duration": 11,
    "start_time": "2022-04-25T14:26:12.880Z"
   },
   {
    "duration": 18,
    "start_time": "2022-04-25T14:26:16.759Z"
   },
   {
    "duration": 11,
    "start_time": "2022-04-25T14:26:29.387Z"
   },
   {
    "duration": 11,
    "start_time": "2022-04-25T14:26:39.048Z"
   },
   {
    "duration": 11,
    "start_time": "2022-04-25T14:26:41.839Z"
   },
   {
    "duration": 13,
    "start_time": "2022-04-25T14:26:56.289Z"
   },
   {
    "duration": 12,
    "start_time": "2022-04-25T14:27:07.655Z"
   },
   {
    "duration": 13,
    "start_time": "2022-04-25T14:32:01.994Z"
   },
   {
    "duration": 13,
    "start_time": "2022-04-25T14:32:25.101Z"
   },
   {
    "duration": 10,
    "start_time": "2022-04-25T14:32:44.282Z"
   },
   {
    "duration": 12,
    "start_time": "2022-04-25T14:37:46.649Z"
   },
   {
    "duration": 12,
    "start_time": "2022-04-25T14:38:00.731Z"
   },
   {
    "duration": 29,
    "start_time": "2022-04-25T14:40:41.416Z"
   },
   {
    "duration": 5,
    "start_time": "2022-04-25T14:47:37.978Z"
   },
   {
    "duration": 14,
    "start_time": "2022-04-25T14:47:50.058Z"
   },
   {
    "duration": 6,
    "start_time": "2022-04-25T14:48:35.312Z"
   },
   {
    "duration": 13,
    "start_time": "2022-04-25T14:48:38.479Z"
   },
   {
    "duration": 20,
    "start_time": "2022-04-25T14:51:28.650Z"
   },
   {
    "duration": 11,
    "start_time": "2022-04-25T14:51:35.526Z"
   },
   {
    "duration": 7,
    "start_time": "2022-04-25T14:52:11.787Z"
   },
   {
    "duration": 14,
    "start_time": "2022-04-25T14:53:37.197Z"
   },
   {
    "duration": 15,
    "start_time": "2022-04-25T14:56:48.747Z"
   },
   {
    "duration": 18,
    "start_time": "2022-04-25T14:57:31.674Z"
   },
   {
    "duration": 15,
    "start_time": "2022-04-25T16:48:58.031Z"
   },
   {
    "duration": 14,
    "start_time": "2022-04-25T16:49:01.861Z"
   },
   {
    "duration": 19,
    "start_time": "2022-04-25T16:50:37.274Z"
   },
   {
    "duration": 15,
    "start_time": "2022-04-25T16:50:44.651Z"
   },
   {
    "duration": 30,
    "start_time": "2022-04-25T16:51:16.053Z"
   },
   {
    "duration": 9,
    "start_time": "2022-04-25T16:51:39.021Z"
   },
   {
    "duration": 11,
    "start_time": "2022-04-25T16:52:35.821Z"
   },
   {
    "duration": 11,
    "start_time": "2022-04-25T16:52:51.322Z"
   },
   {
    "duration": 14,
    "start_time": "2022-04-25T16:53:42.335Z"
   },
   {
    "duration": 20,
    "start_time": "2022-04-25T16:58:21.425Z"
   },
   {
    "duration": 126,
    "start_time": "2022-04-26T11:54:28.978Z"
   },
   {
    "duration": 858,
    "start_time": "2022-04-26T11:54:36.762Z"
   },
   {
    "duration": 22,
    "start_time": "2022-04-26T11:54:37.624Z"
   },
   {
    "duration": 62,
    "start_time": "2022-04-26T11:54:37.652Z"
   },
   {
    "duration": 55,
    "start_time": "2022-04-26T11:54:37.718Z"
   },
   {
    "duration": 7,
    "start_time": "2022-04-26T11:54:37.776Z"
   },
   {
    "duration": 17,
    "start_time": "2022-04-26T11:54:37.795Z"
   },
   {
    "duration": 43,
    "start_time": "2022-04-26T11:54:37.815Z"
   },
   {
    "duration": 7,
    "start_time": "2022-04-26T11:54:37.861Z"
   },
   {
    "duration": 73,
    "start_time": "2022-04-26T11:54:37.872Z"
   },
   {
    "duration": 16,
    "start_time": "2022-04-26T11:54:37.950Z"
   },
   {
    "duration": 35,
    "start_time": "2022-04-26T11:54:37.969Z"
   },
   {
    "duration": 8,
    "start_time": "2022-04-26T11:54:38.007Z"
   },
   {
    "duration": 52,
    "start_time": "2022-04-26T11:54:38.018Z"
   },
   {
    "duration": 39,
    "start_time": "2022-04-26T11:54:38.073Z"
   },
   {
    "duration": 43,
    "start_time": "2022-04-26T11:54:38.116Z"
   },
   {
    "duration": 50,
    "start_time": "2022-04-26T11:54:38.163Z"
   },
   {
    "duration": 39,
    "start_time": "2022-04-26T11:54:38.217Z"
   },
   {
    "duration": 5,
    "start_time": "2022-04-26T11:54:38.259Z"
   },
   {
    "duration": 120,
    "start_time": "2022-04-26T11:54:38.266Z"
   },
   {
    "duration": 37,
    "start_time": "2022-04-26T11:54:38.389Z"
   },
   {
    "duration": 109,
    "start_time": "2022-04-26T11:54:38.430Z"
   },
   {
    "duration": 31,
    "start_time": "2022-04-26T11:54:38.542Z"
   },
   {
    "duration": 33,
    "start_time": "2022-04-26T11:54:38.576Z"
   },
   {
    "duration": 65,
    "start_time": "2022-04-26T11:54:38.612Z"
   },
   {
    "duration": 4,
    "start_time": "2022-04-26T11:54:38.681Z"
   },
   {
    "duration": 76,
    "start_time": "2022-04-26T11:54:38.688Z"
   },
   {
    "duration": 28,
    "start_time": "2022-04-26T11:54:38.768Z"
   },
   {
    "duration": 25,
    "start_time": "2022-04-26T11:54:38.805Z"
   },
   {
    "duration": 67,
    "start_time": "2022-04-26T11:54:38.833Z"
   },
   {
    "duration": 68,
    "start_time": "2022-04-26T11:54:38.909Z"
   },
   {
    "duration": 24,
    "start_time": "2022-04-26T11:54:38.980Z"
   },
   {
    "duration": 65,
    "start_time": "2022-04-26T11:54:39.007Z"
   },
   {
    "duration": 12,
    "start_time": "2022-04-26T11:54:39.075Z"
   },
   {
    "duration": 42,
    "start_time": "2022-04-26T11:54:39.090Z"
   },
   {
    "duration": 19,
    "start_time": "2022-04-26T11:54:39.138Z"
   },
   {
    "duration": 25,
    "start_time": "2022-04-26T11:54:39.160Z"
   },
   {
    "duration": 30,
    "start_time": "2022-04-26T11:54:39.187Z"
   },
   {
    "duration": 43,
    "start_time": "2022-04-26T11:54:39.220Z"
   },
   {
    "duration": 25,
    "start_time": "2022-04-26T11:54:39.266Z"
   },
   {
    "duration": 94,
    "start_time": "2022-04-26T11:54:43.686Z"
   },
   {
    "duration": 22,
    "start_time": "2022-04-26T11:55:58.844Z"
   },
   {
    "duration": 33,
    "start_time": "2022-04-26T11:57:58.998Z"
   },
   {
    "duration": 21,
    "start_time": "2022-04-26T11:58:11.656Z"
   },
   {
    "duration": 27,
    "start_time": "2022-04-26T11:58:18.374Z"
   },
   {
    "duration": 21,
    "start_time": "2022-04-26T13:33:42.532Z"
   },
   {
    "duration": 19,
    "start_time": "2022-04-26T13:34:38.451Z"
   },
   {
    "duration": 16,
    "start_time": "2022-04-26T13:34:46.128Z"
   },
   {
    "duration": 26,
    "start_time": "2022-04-26T13:36:04.456Z"
   },
   {
    "duration": 24,
    "start_time": "2022-04-26T13:36:42.913Z"
   },
   {
    "duration": 50,
    "start_time": "2022-04-27T08:51:17.032Z"
   },
   {
    "duration": 513,
    "start_time": "2022-04-27T08:51:21.134Z"
   },
   {
    "duration": 10,
    "start_time": "2022-04-27T08:51:21.649Z"
   },
   {
    "duration": 48,
    "start_time": "2022-04-27T08:51:21.660Z"
   },
   {
    "duration": 31,
    "start_time": "2022-04-27T08:51:21.710Z"
   },
   {
    "duration": 10,
    "start_time": "2022-04-27T08:51:24.252Z"
   },
   {
    "duration": 12,
    "start_time": "2022-04-27T08:51:59.948Z"
   },
   {
    "duration": 11,
    "start_time": "2022-04-27T08:52:13.233Z"
   },
   {
    "duration": 9,
    "start_time": "2022-04-27T08:52:32.567Z"
   },
   {
    "duration": 20,
    "start_time": "2022-04-27T08:52:54.728Z"
   },
   {
    "duration": 33,
    "start_time": "2022-04-27T08:53:47.745Z"
   },
   {
    "duration": 15,
    "start_time": "2022-04-27T08:53:49.463Z"
   },
   {
    "duration": 34,
    "start_time": "2022-04-27T08:53:50.997Z"
   },
   {
    "duration": 5,
    "start_time": "2022-04-27T08:54:42.281Z"
   },
   {
    "duration": 14,
    "start_time": "2022-04-27T08:54:47.963Z"
   },
   {
    "duration": 6,
    "start_time": "2022-04-27T08:55:01.337Z"
   },
   {
    "duration": 29,
    "start_time": "2022-04-27T08:56:03.899Z"
   },
   {
    "duration": 32,
    "start_time": "2022-04-27T08:56:25.431Z"
   },
   {
    "duration": 15,
    "start_time": "2022-04-27T08:56:55.059Z"
   },
   {
    "duration": 32,
    "start_time": "2022-04-27T08:57:02.289Z"
   },
   {
    "duration": 44,
    "start_time": "2022-04-27T08:57:10.988Z"
   },
   {
    "duration": 58,
    "start_time": "2022-04-27T08:57:47.289Z"
   },
   {
    "duration": 176,
    "start_time": "2022-04-27T09:01:30.022Z"
   },
   {
    "duration": 13,
    "start_time": "2022-04-27T09:01:59.955Z"
   },
   {
    "duration": 19,
    "start_time": "2022-04-27T09:03:16.959Z"
   },
   {
    "duration": 97,
    "start_time": "2022-04-27T09:03:24.073Z"
   },
   {
    "duration": 16,
    "start_time": "2022-04-27T09:03:24.172Z"
   },
   {
    "duration": 38,
    "start_time": "2022-04-27T09:03:24.190Z"
   },
   {
    "duration": 30,
    "start_time": "2022-04-27T09:03:24.230Z"
   },
   {
    "duration": 10,
    "start_time": "2022-04-27T09:03:24.263Z"
   },
   {
    "duration": 15,
    "start_time": "2022-04-27T09:03:26.451Z"
   },
   {
    "duration": 14,
    "start_time": "2022-04-27T09:03:29.849Z"
   },
   {
    "duration": 94,
    "start_time": "2022-04-27T09:03:33.654Z"
   },
   {
    "duration": 15,
    "start_time": "2022-04-27T09:03:33.750Z"
   },
   {
    "duration": 32,
    "start_time": "2022-04-27T09:03:33.767Z"
   },
   {
    "duration": 42,
    "start_time": "2022-04-27T09:03:33.801Z"
   },
   {
    "duration": 10,
    "start_time": "2022-04-27T09:03:33.845Z"
   },
   {
    "duration": 14,
    "start_time": "2022-04-27T09:03:38.310Z"
   },
   {
    "duration": 62,
    "start_time": "2022-04-27T09:04:05.553Z"
   },
   {
    "duration": 9,
    "start_time": "2022-04-27T09:04:19.368Z"
   },
   {
    "duration": 9,
    "start_time": "2022-04-27T09:06:21.267Z"
   },
   {
    "duration": 2528,
    "start_time": "2022-04-27T09:06:42.986Z"
   },
   {
    "duration": 7,
    "start_time": "2022-04-27T09:06:48.771Z"
   },
   {
    "duration": 65,
    "start_time": "2022-04-27T09:29:27.552Z"
   },
   {
    "duration": 9,
    "start_time": "2022-04-27T09:29:27.619Z"
   },
   {
    "duration": 52,
    "start_time": "2022-04-27T09:29:27.629Z"
   },
   {
    "duration": 33,
    "start_time": "2022-04-27T09:29:27.683Z"
   },
   {
    "duration": 7,
    "start_time": "2022-04-27T09:29:49.192Z"
   },
   {
    "duration": 13,
    "start_time": "2022-04-27T09:32:00.762Z"
   },
   {
    "duration": 8,
    "start_time": "2022-04-27T09:32:52.268Z"
   },
   {
    "duration": 10,
    "start_time": "2022-04-27T09:33:14.428Z"
   },
   {
    "duration": 156,
    "start_time": "2022-04-27T09:33:38.879Z"
   },
   {
    "duration": 12,
    "start_time": "2022-04-27T09:36:39.674Z"
   },
   {
    "duration": 81,
    "start_time": "2022-04-27T09:36:42.208Z"
   },
   {
    "duration": 11,
    "start_time": "2022-04-27T09:36:42.291Z"
   },
   {
    "duration": 33,
    "start_time": "2022-04-27T09:36:42.304Z"
   },
   {
    "duration": 21,
    "start_time": "2022-04-27T09:36:42.340Z"
   },
   {
    "duration": 8,
    "start_time": "2022-04-27T09:36:42.363Z"
   },
   {
    "duration": 16,
    "start_time": "2022-04-27T09:36:42.373Z"
   },
   {
    "duration": 46,
    "start_time": "2022-04-27T09:36:42.391Z"
   },
   {
    "duration": 5,
    "start_time": "2022-04-27T09:36:42.439Z"
   },
   {
    "duration": 9,
    "start_time": "2022-04-27T09:36:42.446Z"
   },
   {
    "duration": 7,
    "start_time": "2022-04-27T09:36:42.457Z"
   },
   {
    "duration": 8,
    "start_time": "2022-04-27T09:36:42.466Z"
   },
   {
    "duration": 11,
    "start_time": "2022-04-27T09:36:42.476Z"
   },
   {
    "duration": 14,
    "start_time": "2022-04-27T09:36:42.526Z"
   },
   {
    "duration": 17,
    "start_time": "2022-04-27T09:36:42.542Z"
   },
   {
    "duration": 19,
    "start_time": "2022-04-27T09:36:42.561Z"
   },
   {
    "duration": 67,
    "start_time": "2022-04-27T09:36:42.582Z"
   },
   {
    "duration": 5,
    "start_time": "2022-04-27T09:36:42.651Z"
   },
   {
    "duration": 30,
    "start_time": "2022-04-27T09:36:42.658Z"
   },
   {
    "duration": 96,
    "start_time": "2022-04-27T09:36:42.690Z"
   },
   {
    "duration": 57,
    "start_time": "2022-04-27T09:36:42.788Z"
   },
   {
    "duration": 12,
    "start_time": "2022-04-27T09:36:42.847Z"
   },
   {
    "duration": 12,
    "start_time": "2022-04-27T09:36:42.860Z"
   },
   {
    "duration": 11,
    "start_time": "2022-04-27T09:36:42.874Z"
   },
   {
    "duration": 47,
    "start_time": "2022-04-27T09:36:42.887Z"
   },
   {
    "duration": 22,
    "start_time": "2022-04-27T09:36:42.938Z"
   },
   {
    "duration": 21,
    "start_time": "2022-04-27T09:36:46.526Z"
   },
   {
    "duration": 14,
    "start_time": "2022-04-27T09:39:45.931Z"
   },
   {
    "duration": 6,
    "start_time": "2022-04-27T09:42:30.610Z"
   },
   {
    "duration": 7,
    "start_time": "2022-04-27T09:42:48.625Z"
   },
   {
    "duration": 5,
    "start_time": "2022-04-27T09:43:00.039Z"
   },
   {
    "duration": 16,
    "start_time": "2022-04-27T13:24:35.031Z"
   },
   {
    "duration": 9,
    "start_time": "2022-04-27T13:25:10.249Z"
   },
   {
    "duration": 13,
    "start_time": "2022-04-27T13:26:23.308Z"
   },
   {
    "duration": 16,
    "start_time": "2022-04-27T13:28:59.495Z"
   },
   {
    "duration": 3,
    "start_time": "2022-04-27T13:29:32.487Z"
   },
   {
    "duration": 2,
    "start_time": "2022-04-27T13:29:34.512Z"
   },
   {
    "duration": 21,
    "start_time": "2022-04-27T13:30:03.225Z"
   },
   {
    "duration": 3,
    "start_time": "2022-04-27T13:30:41.290Z"
   },
   {
    "duration": 69,
    "start_time": "2022-04-27T13:32:58.882Z"
   },
   {
    "duration": 10,
    "start_time": "2022-04-27T13:34:02.771Z"
   },
   {
    "duration": 11,
    "start_time": "2022-04-27T13:34:08.617Z"
   },
   {
    "duration": 12,
    "start_time": "2022-04-27T13:34:15.450Z"
   },
   {
    "duration": 1604,
    "start_time": "2022-04-27T13:34:34.131Z"
   },
   {
    "duration": 63,
    "start_time": "2022-05-03T13:18:38.527Z"
   },
   {
    "duration": 525,
    "start_time": "2022-05-03T13:18:43.146Z"
   },
   {
    "duration": 10,
    "start_time": "2022-05-03T13:18:43.673Z"
   },
   {
    "duration": 18,
    "start_time": "2022-05-03T13:18:43.685Z"
   },
   {
    "duration": 27,
    "start_time": "2022-05-03T13:18:43.705Z"
   },
   {
    "duration": 16,
    "start_time": "2022-05-03T13:18:43.735Z"
   },
   {
    "duration": 13,
    "start_time": "2022-05-03T13:18:43.754Z"
   },
   {
    "duration": 17,
    "start_time": "2022-05-03T13:18:43.769Z"
   },
   {
    "duration": 5,
    "start_time": "2022-05-03T13:18:43.788Z"
   },
   {
    "duration": 10,
    "start_time": "2022-05-03T13:18:43.795Z"
   },
   {
    "duration": 9,
    "start_time": "2022-05-03T13:18:43.807Z"
   },
   {
    "duration": 21,
    "start_time": "2022-05-03T13:18:43.818Z"
   },
   {
    "duration": 14,
    "start_time": "2022-05-03T13:18:43.842Z"
   },
   {
    "duration": 13,
    "start_time": "2022-05-03T13:18:43.858Z"
   },
   {
    "duration": 25,
    "start_time": "2022-05-03T13:18:43.874Z"
   },
   {
    "duration": 34,
    "start_time": "2022-05-03T13:18:43.901Z"
   },
   {
    "duration": 46,
    "start_time": "2022-05-03T13:18:43.937Z"
   },
   {
    "duration": 6,
    "start_time": "2022-05-03T13:18:43.984Z"
   },
   {
    "duration": 36,
    "start_time": "2022-05-03T13:18:43.991Z"
   },
   {
    "duration": 93,
    "start_time": "2022-05-03T13:18:44.029Z"
   },
   {
    "duration": 52,
    "start_time": "2022-05-03T13:18:44.125Z"
   },
   {
    "duration": 13,
    "start_time": "2022-05-03T13:18:44.179Z"
   },
   {
    "duration": 14,
    "start_time": "2022-05-03T13:18:44.194Z"
   },
   {
    "duration": 24,
    "start_time": "2022-05-03T13:18:44.210Z"
   },
   {
    "duration": 26,
    "start_time": "2022-05-03T13:18:44.236Z"
   },
   {
    "duration": 21,
    "start_time": "2022-05-03T13:18:44.263Z"
   },
   {
    "duration": 22,
    "start_time": "2022-05-03T13:18:44.285Z"
   },
   {
    "duration": 5,
    "start_time": "2022-05-03T13:18:44.309Z"
   },
   {
    "duration": 20,
    "start_time": "2022-05-03T13:18:44.316Z"
   },
   {
    "duration": 13,
    "start_time": "2022-05-03T13:18:44.346Z"
   },
   {
    "duration": 6,
    "start_time": "2022-05-03T13:18:47.756Z"
   },
   {
    "duration": 10,
    "start_time": "2022-05-03T13:21:39.007Z"
   },
   {
    "duration": 48,
    "start_time": "2022-05-04T13:01:50.978Z"
   },
   {
    "duration": 439,
    "start_time": "2022-05-04T13:01:56.302Z"
   },
   {
    "duration": 9,
    "start_time": "2022-05-04T13:01:56.743Z"
   },
   {
    "duration": 52,
    "start_time": "2022-05-04T13:01:56.753Z"
   },
   {
    "duration": 49,
    "start_time": "2022-05-04T13:01:56.807Z"
   },
   {
    "duration": 19,
    "start_time": "2022-05-04T13:01:56.857Z"
   },
   {
    "duration": 21,
    "start_time": "2022-05-04T13:01:56.877Z"
   },
   {
    "duration": 31,
    "start_time": "2022-05-04T13:01:56.900Z"
   },
   {
    "duration": 5,
    "start_time": "2022-05-04T13:01:56.932Z"
   },
   {
    "duration": 12,
    "start_time": "2022-05-04T13:01:56.938Z"
   },
   {
    "duration": 17,
    "start_time": "2022-05-04T13:01:56.953Z"
   },
   {
    "duration": 8,
    "start_time": "2022-05-04T13:01:56.972Z"
   },
   {
    "duration": 15,
    "start_time": "2022-05-04T13:01:56.982Z"
   },
   {
    "duration": 11,
    "start_time": "2022-05-04T13:01:56.998Z"
   },
   {
    "duration": 17,
    "start_time": "2022-05-04T13:01:57.011Z"
   },
   {
    "duration": 29,
    "start_time": "2022-05-04T13:01:57.030Z"
   },
   {
    "duration": 93,
    "start_time": "2022-05-04T13:01:57.060Z"
   },
   {
    "duration": 4,
    "start_time": "2022-05-04T13:01:57.155Z"
   },
   {
    "duration": 55,
    "start_time": "2022-05-04T13:01:57.160Z"
   },
   {
    "duration": 72,
    "start_time": "2022-05-04T13:01:57.217Z"
   },
   {
    "duration": 33,
    "start_time": "2022-05-04T13:01:57.290Z"
   },
   {
    "duration": 30,
    "start_time": "2022-05-04T13:01:57.324Z"
   },
   {
    "duration": 17,
    "start_time": "2022-05-04T13:01:57.356Z"
   },
   {
    "duration": 36,
    "start_time": "2022-05-04T13:01:57.374Z"
   },
   {
    "duration": 30,
    "start_time": "2022-05-04T13:01:57.412Z"
   },
   {
    "duration": 17,
    "start_time": "2022-05-04T13:01:57.444Z"
   },
   {
    "duration": 28,
    "start_time": "2022-05-04T13:01:57.462Z"
   },
   {
    "duration": 15,
    "start_time": "2022-05-04T13:01:57.492Z"
   },
   {
    "duration": 23,
    "start_time": "2022-05-04T13:01:57.510Z"
   },
   {
    "duration": 7,
    "start_time": "2022-05-04T13:01:57.534Z"
   },
   {
    "duration": 10,
    "start_time": "2022-05-04T13:01:57.542Z"
   },
   {
    "duration": 15,
    "start_time": "2022-05-04T13:01:57.553Z"
   },
   {
    "duration": 17,
    "start_time": "2022-05-04T13:01:57.570Z"
   },
   {
    "duration": 14,
    "start_time": "2022-05-04T13:01:59.608Z"
   },
   {
    "duration": 1947,
    "start_time": "2022-05-04T13:11:32.543Z"
   },
   {
    "duration": 65,
    "start_time": "2022-05-04T13:11:39.870Z"
   },
   {
    "duration": 10,
    "start_time": "2022-05-04T13:11:39.937Z"
   },
   {
    "duration": 23,
    "start_time": "2022-05-04T13:11:39.948Z"
   },
   {
    "duration": 21,
    "start_time": "2022-05-04T13:11:39.973Z"
   },
   {
    "duration": 9,
    "start_time": "2022-05-04T13:11:39.996Z"
   },
   {
    "duration": 15,
    "start_time": "2022-05-04T13:11:40.006Z"
   },
   {
    "duration": 42,
    "start_time": "2022-05-04T13:11:40.023Z"
   },
   {
    "duration": 6,
    "start_time": "2022-05-04T13:11:40.067Z"
   },
   {
    "duration": 8,
    "start_time": "2022-05-04T13:11:40.075Z"
   },
   {
    "duration": 7,
    "start_time": "2022-05-04T13:11:40.086Z"
   },
   {
    "duration": 8,
    "start_time": "2022-05-04T13:11:40.095Z"
   },
   {
    "duration": 53,
    "start_time": "2022-05-04T13:11:40.105Z"
   },
   {
    "duration": 9,
    "start_time": "2022-05-04T13:11:40.160Z"
   },
   {
    "duration": 14,
    "start_time": "2022-05-04T13:11:40.170Z"
   },
   {
    "duration": 16,
    "start_time": "2022-05-04T13:11:40.186Z"
   },
   {
    "duration": 65,
    "start_time": "2022-05-04T13:11:40.203Z"
   },
   {
    "duration": 5,
    "start_time": "2022-05-04T13:11:40.270Z"
   },
   {
    "duration": 31,
    "start_time": "2022-05-04T13:11:40.277Z"
   },
   {
    "duration": 81,
    "start_time": "2022-05-04T13:11:40.310Z"
   },
   {
    "duration": 34,
    "start_time": "2022-05-04T13:11:43.286Z"
   },
   {
    "duration": 26,
    "start_time": "2022-05-04T13:12:06.163Z"
   },
   {
    "duration": 61,
    "start_time": "2022-05-04T13:14:22.284Z"
   },
   {
    "duration": 9,
    "start_time": "2022-05-04T13:14:22.347Z"
   },
   {
    "duration": 19,
    "start_time": "2022-05-04T13:14:22.357Z"
   },
   {
    "duration": 18,
    "start_time": "2022-05-04T13:14:22.378Z"
   },
   {
    "duration": 7,
    "start_time": "2022-05-04T13:14:22.398Z"
   },
   {
    "duration": 19,
    "start_time": "2022-05-04T13:14:22.406Z"
   },
   {
    "duration": 28,
    "start_time": "2022-05-04T13:14:22.426Z"
   },
   {
    "duration": 5,
    "start_time": "2022-05-04T13:14:22.456Z"
   },
   {
    "duration": 30,
    "start_time": "2022-05-04T13:14:22.462Z"
   },
   {
    "duration": 21,
    "start_time": "2022-05-04T13:14:22.495Z"
   },
   {
    "duration": 15,
    "start_time": "2022-05-04T13:14:22.518Z"
   },
   {
    "duration": 48,
    "start_time": "2022-05-04T13:14:22.534Z"
   },
   {
    "duration": 8,
    "start_time": "2022-05-04T13:14:22.584Z"
   },
   {
    "duration": 14,
    "start_time": "2022-05-04T13:14:22.594Z"
   },
   {
    "duration": 15,
    "start_time": "2022-05-04T13:14:22.609Z"
   },
   {
    "duration": 33,
    "start_time": "2022-05-04T13:14:22.625Z"
   },
   {
    "duration": 4,
    "start_time": "2022-05-04T13:14:22.660Z"
   },
   {
    "duration": 26,
    "start_time": "2022-05-04T13:14:22.666Z"
   },
   {
    "duration": 70,
    "start_time": "2022-05-04T13:14:22.694Z"
   },
   {
    "duration": 31,
    "start_time": "2022-05-04T13:14:22.766Z"
   },
   {
    "duration": 19,
    "start_time": "2022-05-04T13:14:22.799Z"
   },
   {
    "duration": 12,
    "start_time": "2022-05-04T13:14:22.819Z"
   },
   {
    "duration": 30,
    "start_time": "2022-05-04T13:14:22.832Z"
   },
   {
    "duration": 16,
    "start_time": "2022-05-04T13:14:22.864Z"
   },
   {
    "duration": 16,
    "start_time": "2022-05-04T13:14:22.881Z"
   },
   {
    "duration": 17,
    "start_time": "2022-05-04T13:14:22.898Z"
   },
   {
    "duration": 5,
    "start_time": "2022-05-04T13:14:22.916Z"
   },
   {
    "duration": 39,
    "start_time": "2022-05-04T13:14:22.923Z"
   },
   {
    "duration": 6,
    "start_time": "2022-05-04T13:14:22.963Z"
   },
   {
    "duration": 6,
    "start_time": "2022-05-04T13:14:22.970Z"
   },
   {
    "duration": 14,
    "start_time": "2022-05-04T13:14:22.978Z"
   },
   {
    "duration": 6,
    "start_time": "2022-05-04T13:14:22.993Z"
   },
   {
    "duration": 17,
    "start_time": "2022-05-04T13:14:23.000Z"
   },
   {
    "duration": 473,
    "start_time": "2022-05-06T19:52:31.699Z"
   },
   {
    "duration": 11,
    "start_time": "2022-05-06T19:52:32.175Z"
   },
   {
    "duration": 28,
    "start_time": "2022-05-06T19:52:32.193Z"
   },
   {
    "duration": 20,
    "start_time": "2022-05-06T19:52:32.223Z"
   },
   {
    "duration": 8,
    "start_time": "2022-05-06T19:52:32.245Z"
   },
   {
    "duration": 17,
    "start_time": "2022-05-06T19:52:32.255Z"
   },
   {
    "duration": 33,
    "start_time": "2022-05-06T19:52:32.273Z"
   },
   {
    "duration": 5,
    "start_time": "2022-05-06T19:52:32.307Z"
   },
   {
    "duration": 11,
    "start_time": "2022-05-06T19:52:32.313Z"
   },
   {
    "duration": 9,
    "start_time": "2022-05-06T19:52:32.326Z"
   },
   {
    "duration": 14,
    "start_time": "2022-05-06T19:52:32.337Z"
   },
   {
    "duration": 45,
    "start_time": "2022-05-06T19:52:32.353Z"
   },
   {
    "duration": 10,
    "start_time": "2022-05-06T19:52:32.400Z"
   },
   {
    "duration": 22,
    "start_time": "2022-05-06T19:52:32.413Z"
   },
   {
    "duration": 18,
    "start_time": "2022-05-06T19:52:32.437Z"
   },
   {
    "duration": 61,
    "start_time": "2022-05-06T19:52:32.457Z"
   },
   {
    "duration": 5,
    "start_time": "2022-05-06T19:52:32.519Z"
   },
   {
    "duration": 30,
    "start_time": "2022-05-06T19:52:32.526Z"
   },
   {
    "duration": 81,
    "start_time": "2022-05-06T19:52:32.557Z"
   },
   {
    "duration": 54,
    "start_time": "2022-05-06T19:52:32.640Z"
   },
   {
    "duration": 13,
    "start_time": "2022-05-06T19:52:32.695Z"
   },
   {
    "duration": 13,
    "start_time": "2022-05-06T19:52:32.709Z"
   },
   {
    "duration": 11,
    "start_time": "2022-05-06T19:52:32.724Z"
   },
   {
    "duration": 23,
    "start_time": "2022-05-06T19:52:32.737Z"
   },
   {
    "duration": 48,
    "start_time": "2022-05-06T19:52:32.761Z"
   },
   {
    "duration": 14,
    "start_time": "2022-05-06T19:52:32.811Z"
   },
   {
    "duration": 5,
    "start_time": "2022-05-06T19:52:32.826Z"
   },
   {
    "duration": 13,
    "start_time": "2022-05-06T19:52:32.832Z"
   },
   {
    "duration": 7,
    "start_time": "2022-05-06T19:52:32.847Z"
   },
   {
    "duration": 38,
    "start_time": "2022-05-06T19:52:32.856Z"
   },
   {
    "duration": 13,
    "start_time": "2022-05-06T19:52:32.895Z"
   },
   {
    "duration": 7,
    "start_time": "2022-05-06T19:52:32.909Z"
   },
   {
    "duration": 16,
    "start_time": "2022-05-06T19:52:32.917Z"
   },
   {
    "duration": 11,
    "start_time": "2022-05-06T19:54:21.087Z"
   },
   {
    "duration": 488,
    "start_time": "2022-05-07T11:15:02.290Z"
   },
   {
    "duration": 11,
    "start_time": "2022-05-07T11:15:02.780Z"
   },
   {
    "duration": 46,
    "start_time": "2022-05-07T11:15:02.793Z"
   },
   {
    "duration": 12,
    "start_time": "2022-05-07T11:15:05.205Z"
   },
   {
    "duration": 11,
    "start_time": "2022-05-07T11:15:22.980Z"
   },
   {
    "duration": 11,
    "start_time": "2022-05-07T11:15:39.310Z"
   },
   {
    "duration": 17,
    "start_time": "2022-05-07T11:15:46.911Z"
   },
   {
    "duration": 358,
    "start_time": "2022-05-09T11:40:05.892Z"
   },
   {
    "duration": 69,
    "start_time": "2022-05-09T11:40:06.252Z"
   },
   {
    "duration": 10,
    "start_time": "2022-05-09T11:40:06.323Z"
   },
   {
    "duration": 38,
    "start_time": "2022-05-09T11:40:08.436Z"
   },
   {
    "duration": 14,
    "start_time": "2022-05-09T11:40:23.044Z"
   },
   {
    "duration": 11,
    "start_time": "2022-05-09T11:40:47.942Z"
   },
   {
    "duration": 16,
    "start_time": "2022-05-09T11:41:29.447Z"
   },
   {
    "duration": 16,
    "start_time": "2022-05-09T11:41:34.146Z"
   },
   {
    "duration": 5,
    "start_time": "2022-05-09T11:42:13.176Z"
   },
   {
    "duration": 11,
    "start_time": "2022-05-09T11:42:36.936Z"
   },
   {
    "duration": 12,
    "start_time": "2022-05-09T11:42:37.082Z"
   },
   {
    "duration": 11,
    "start_time": "2022-05-09T11:42:39.201Z"
   },
   {
    "duration": 11,
    "start_time": "2022-05-09T11:42:39.362Z"
   },
   {
    "duration": 16,
    "start_time": "2022-05-09T11:42:45.911Z"
   },
   {
    "duration": 15,
    "start_time": "2022-05-09T11:43:35.403Z"
   },
   {
    "duration": 3,
    "start_time": "2022-05-09T11:43:50.182Z"
   },
   {
    "duration": 62,
    "start_time": "2022-05-09T11:43:50.187Z"
   },
   {
    "duration": 11,
    "start_time": "2022-05-09T11:43:50.251Z"
   },
   {
    "duration": 21,
    "start_time": "2022-05-09T11:43:50.263Z"
   },
   {
    "duration": 7,
    "start_time": "2022-05-09T11:43:50.287Z"
   },
   {
    "duration": 11,
    "start_time": "2022-05-09T11:43:50.295Z"
   },
   {
    "duration": 41,
    "start_time": "2022-05-09T11:43:50.308Z"
   },
   {
    "duration": 5,
    "start_time": "2022-05-09T11:43:50.351Z"
   },
   {
    "duration": 9,
    "start_time": "2022-05-09T11:43:50.357Z"
   },
   {
    "duration": 6,
    "start_time": "2022-05-09T11:43:50.367Z"
   },
   {
    "duration": 8,
    "start_time": "2022-05-09T11:43:50.374Z"
   },
   {
    "duration": 8,
    "start_time": "2022-05-09T11:43:50.383Z"
   },
   {
    "duration": 25,
    "start_time": "2022-05-09T11:43:50.393Z"
   },
   {
    "duration": 35,
    "start_time": "2022-05-09T11:43:50.420Z"
   },
   {
    "duration": 17,
    "start_time": "2022-05-09T11:43:50.457Z"
   },
   {
    "duration": 31,
    "start_time": "2022-05-09T11:43:50.475Z"
   },
   {
    "duration": 5,
    "start_time": "2022-05-09T11:43:50.507Z"
   },
   {
    "duration": 44,
    "start_time": "2022-05-09T11:43:50.513Z"
   },
   {
    "duration": 48,
    "start_time": "2022-05-09T11:43:50.558Z"
   },
   {
    "duration": 48,
    "start_time": "2022-05-09T11:43:50.607Z"
   },
   {
    "duration": 11,
    "start_time": "2022-05-09T11:43:50.656Z"
   },
   {
    "duration": 12,
    "start_time": "2022-05-09T11:43:50.669Z"
   },
   {
    "duration": 11,
    "start_time": "2022-05-09T11:43:50.682Z"
   },
   {
    "duration": 18,
    "start_time": "2022-05-09T11:43:50.694Z"
   },
   {
    "duration": 48,
    "start_time": "2022-05-09T11:43:50.714Z"
   },
   {
    "duration": 15,
    "start_time": "2022-05-09T11:43:50.764Z"
   },
   {
    "duration": 4,
    "start_time": "2022-05-09T11:43:50.781Z"
   },
   {
    "duration": 13,
    "start_time": "2022-05-09T11:43:50.786Z"
   },
   {
    "duration": 5,
    "start_time": "2022-05-09T11:43:50.800Z"
   },
   {
    "duration": 7,
    "start_time": "2022-05-09T11:43:50.806Z"
   },
   {
    "duration": 44,
    "start_time": "2022-05-09T11:43:50.814Z"
   },
   {
    "duration": 6,
    "start_time": "2022-05-09T11:43:50.860Z"
   },
   {
    "duration": 13,
    "start_time": "2022-05-09T11:43:54.726Z"
   }
  ],
  "kernelspec": {
   "display_name": "Python 3 (ipykernel)",
   "language": "python",
   "name": "python3"
  },
  "language_info": {
   "codemirror_mode": {
    "name": "ipython",
    "version": 3
   },
   "file_extension": ".py",
   "mimetype": "text/x-python",
   "name": "python",
   "nbconvert_exporter": "python",
   "pygments_lexer": "ipython3",
   "version": "3.9.5"
  },
  "toc": {
   "base_numbering": 1,
   "nav_menu": {},
   "number_sections": true,
   "sideBar": true,
   "skip_h1_title": true,
   "title_cell": "Table of Contents",
   "title_sidebar": "Contents",
   "toc_cell": false,
   "toc_position": {},
   "toc_section_display": true,
   "toc_window_display": false
  }
 },
 "nbformat": 4,
 "nbformat_minor": 5
}
